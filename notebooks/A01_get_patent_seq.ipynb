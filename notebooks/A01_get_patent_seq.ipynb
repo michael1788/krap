{
 "cells": [
  {
   "cell_type": "markdown",
   "metadata": {},
   "source": [
    "### Goal\n",
    "- get sequences from patents US,11,596,589,B2\n",
    "- see which one we would have the right to explore"
   ]
  },
  {
   "cell_type": "code",
   "execution_count": 1,
   "metadata": {},
   "outputs": [],
   "source": [
    "%load_ext autoreload\n",
    "%autoreload 2"
   ]
  },
  {
   "cell_type": "code",
   "execution_count": 2,
   "metadata": {},
   "outputs": [],
   "source": [
    "import os, sys\n",
    "import pandas as pd\n",
    "import math\n",
    "import numpy as np\n",
    "\n",
    "sys.path.append('../')\n",
    "import helper as hp"
   ]
  },
  {
   "cell_type": "code",
   "execution_count": 3,
   "metadata": {},
   "outputs": [],
   "source": [
    "savepath = \"A01_get_patent_seq/\"\n",
    "os.makedirs(savepath, exist_ok=True)"
   ]
  },
  {
   "cell_type": "markdown",
   "metadata": {},
   "source": [
    "Erkin's sequence"
   ]
  },
  {
   "cell_type": "code",
   "execution_count": 4,
   "metadata": {},
   "outputs": [],
   "source": [
    "d_homology_K80 = {\"K80_1_90\": \"FCGFPSCSTSG\",\n",
    "                  \"K80_2_90\": \"CTPPSCCQLHHA\",\n",
    "                  \"K80_3_90\": \"GGVCGPSPPCIT\",\n",
    "                  \"K80_4_90\": \"ASCCRPSYCG\",\n",
    "                  \"K80_5_90\": \"GGVCGPSPPCITT\",}"
   ]
  },
  {
   "cell_type": "code",
   "execution_count": 5,
   "metadata": {},
   "outputs": [
    {
     "data": {
      "text/plain": [
       "['FCGFPSCSTSG', 'CTPPSCCQLHHA', 'GGVCGPSPPCIT', 'ASCCRPSYCG', 'GGVCGPSPPCITT']"
      ]
     },
     "execution_count": 5,
     "metadata": {},
     "output_type": "execute_result"
    }
   ],
   "source": [
    "erkin_seqs = list(d_homology_K80.values())\n",
    "erkin_seqs"
   ]
  },
  {
   "cell_type": "code",
   "execution_count": 6,
   "metadata": {},
   "outputs": [
    {
     "data": {
      "text/html": [
       "<div>\n",
       "<style scoped>\n",
       "    .dataframe tbody tr th:only-of-type {\n",
       "        vertical-align: middle;\n",
       "    }\n",
       "\n",
       "    .dataframe tbody tr th {\n",
       "        vertical-align: top;\n",
       "    }\n",
       "\n",
       "    .dataframe thead th {\n",
       "        text-align: right;\n",
       "    }\n",
       "</style>\n",
       "<table border=\"1\" class=\"dataframe\">\n",
       "  <thead>\n",
       "    <tr style=\"text-align: right;\">\n",
       "      <th></th>\n",
       "      <th>Sequences</th>\n",
       "    </tr>\n",
       "  </thead>\n",
       "  <tbody>\n",
       "    <tr>\n",
       "      <th>0</th>\n",
       "      <td>QGQVQHLQAAFSQYKKVELFPK</td>\n",
       "    </tr>\n",
       "    <tr>\n",
       "      <th>1</th>\n",
       "      <td>KKVELFPK</td>\n",
       "    </tr>\n",
       "  </tbody>\n",
       "</table>\n",
       "</div>"
      ],
      "text/plain": [
       "                Sequences\n",
       "0  QGQVQHLQAAFSQYKKVELFPK\n",
       "1                KKVELFPK"
      ]
     },
     "execution_count": 6,
     "metadata": {},
     "output_type": "execute_result"
    }
   ],
   "source": [
    "df = pd.read_csv('data/2023_patent_w_duplicates_from_pic.csv')\n",
    "df.head(2)\n"
   ]
  },
  {
   "cell_type": "code",
   "execution_count": 7,
   "metadata": {},
   "outputs": [
    {
     "data": {
      "text/plain": [
       "112"
      ]
     },
     "execution_count": 7,
     "metadata": {},
     "output_type": "execute_result"
    }
   ],
   "source": [
    "len(df)"
   ]
  },
  {
   "cell_type": "code",
   "execution_count": 8,
   "metadata": {},
   "outputs": [
    {
     "data": {
      "text/plain": [
       "110"
      ]
     },
     "execution_count": 8,
     "metadata": {},
     "output_type": "execute_result"
    }
   ],
   "source": [
    "all_seqs = df[\"Sequences\"].to_list()\n",
    "all_seqs = list(set(all_seqs))\n",
    "len(all_seqs)"
   ]
  },
  {
   "cell_type": "code",
   "execution_count": 9,
   "metadata": {},
   "outputs": [
    {
     "name": "stdout",
     "output_type": "stream",
     "text": [
      "The isoelectric point of the peptide is: 7.997512626647949\n"
     ]
    }
   ],
   "source": [
    "from Bio.SeqUtils.ProtParam import ProteinAnalysis\n",
    "\n",
    "# create a peptide sequence\n",
    "peptide = \"ASCCRPSYCG\"\n",
    "\n",
    "# create a ProteinAnalysis object\n",
    "analysis = ProteinAnalysis(peptide)\n",
    "\n",
    "# compute the isoelectric point\n",
    "isoelectric_point = analysis.isoelectric_point()\n",
    "\n",
    "# print the result\n",
    "print(\"The isoelectric point of the peptide is:\", isoelectric_point)\n"
   ]
  },
  {
   "cell_type": "code",
   "execution_count": 10,
   "metadata": {},
   "outputs": [],
   "source": [
    "def get_iso_point(all_seqs):\n",
    "    iso_points = []\n",
    "    for seq in all_seqs:\n",
    "        analysis = ProteinAnalysis(seq)\n",
    "        iso_points.append(analysis.isoelectric_point())\n",
    "    return iso_points\n",
    "\n",
    "def pretty_print_mean_and_std(all_results, decimal=3):\n",
    "    print(\"Mean: \", round(np.mean(all_results), decimal))\n",
    "    print(\"Std: \", round(np.std(all_results), decimal))"
   ]
  },
  {
   "cell_type": "code",
   "execution_count": 11,
   "metadata": {},
   "outputs": [
    {
     "name": "stdout",
     "output_type": "stream",
     "text": [
      "Mean:  7.793\n",
      "Std:  1.01\n"
     ]
    }
   ],
   "source": [
    "all_isos = get_iso_point(all_seqs)\n",
    "pretty_print_mean_and_std(all_isos)"
   ]
  },
  {
   "cell_type": "code",
   "execution_count": 12,
   "metadata": {},
   "outputs": [
    {
     "name": "stdout",
     "output_type": "stream",
     "text": [
      "Mean:  6.284\n",
      "Std:  1.009\n"
     ]
    }
   ],
   "source": [
    "erkin_isos = get_iso_point(erkin_seqs)\n",
    "pretty_print_mean_and_std(erkin_isos)"
   ]
  },
  {
   "cell_type": "code",
   "execution_count": 13,
   "metadata": {},
   "outputs": [
    {
     "name": "stdout",
     "output_type": "stream",
     "text": [
      "Mean:  21.855\n",
      "Std:  1.439\n"
     ]
    }
   ],
   "source": [
    "all_lenghts = [len(seq) for seq in all_seqs]\n",
    "pretty_print_mean_and_std(all_lenghts)"
   ]
  },
  {
   "cell_type": "markdown",
   "metadata": {},
   "source": [
    "See the percentages of cysteine "
   ]
  },
  {
   "cell_type": "code",
   "execution_count": 14,
   "metadata": {},
   "outputs": [],
   "source": [
    "cysteine_percentages = []\n",
    "for seq in all_seqs:\n",
    "    cysteine_count = seq.count('C')\n",
    "    cp = (cysteine_count / len(seq)) * 100\n",
    "    cysteine_percentages.append(cp)\n"
   ]
  },
  {
   "cell_type": "code",
   "execution_count": 15,
   "metadata": {},
   "outputs": [
    {
     "name": "stdout",
     "output_type": "stream",
     "text": [
      "Mean:  29.342\n",
      "Std:  15.759\n"
     ]
    }
   ],
   "source": [
    "pretty_print_mean_and_std(cysteine_percentages)"
   ]
  },
  {
   "cell_type": "markdown",
   "metadata": {},
   "source": [
    "take all sequences and save them together "
   ]
  },
  {
   "cell_type": "code",
   "execution_count": 16,
   "metadata": {},
   "outputs": [
    {
     "data": {
      "text/plain": [
       "115"
      ]
     },
     "execution_count": 16,
     "metadata": {},
     "output_type": "execute_result"
    }
   ],
   "source": [
    "all_erkins = list(d_homology_K80.values())\n",
    "full_set = all_erkins + all_seqs\n",
    "full_set = list(set(full_set))\n",
    "len(full_set)"
   ]
  },
  {
   "cell_type": "code",
   "execution_count": 17,
   "metadata": {},
   "outputs": [],
   "source": [
    "# save full set as a csv file\n",
    "full_set_df = pd.DataFrame(full_set, columns=['Sequences'])\n",
    "full_set_df.to_csv(savepath+'full_set_16Nov23.csv', index=False)\n"
   ]
  },
  {
   "cell_type": "code",
   "execution_count": 18,
   "metadata": {},
   "outputs": [
    {
     "data": {
      "text/html": [
       "<div>\n",
       "<style scoped>\n",
       "    .dataframe tbody tr th:only-of-type {\n",
       "        vertical-align: middle;\n",
       "    }\n",
       "\n",
       "    .dataframe tbody tr th {\n",
       "        vertical-align: top;\n",
       "    }\n",
       "\n",
       "    .dataframe thead th {\n",
       "        text-align: right;\n",
       "    }\n",
       "</style>\n",
       "<table border=\"1\" class=\"dataframe\">\n",
       "  <thead>\n",
       "    <tr style=\"text-align: right;\">\n",
       "      <th></th>\n",
       "      <th>Sequences</th>\n",
       "    </tr>\n",
       "  </thead>\n",
       "  <tbody>\n",
       "    <tr>\n",
       "      <th>0</th>\n",
       "      <td>QCCCQHCQACCCCYKKCCPK</td>\n",
       "    </tr>\n",
       "    <tr>\n",
       "      <th>1</th>\n",
       "      <td>QGQVCCCCAAFCCCKCVELCCK</td>\n",
       "    </tr>\n",
       "  </tbody>\n",
       "</table>\n",
       "</div>"
      ],
      "text/plain": [
       "                Sequences\n",
       "0    QCCCQHCQACCCCYKKCCPK\n",
       "1  QGQVCCCCAAFCCCKCVELCCK"
      ]
     },
     "execution_count": 18,
     "metadata": {},
     "output_type": "execute_result"
    }
   ],
   "source": [
    "full_set_df.head(2)"
   ]
  },
  {
   "cell_type": "code",
   "execution_count": null,
   "metadata": {},
   "outputs": [],
   "source": []
  }
 ],
 "metadata": {
  "kernelspec": {
   "display_name": "Python 3 (ipykernel)",
   "language": "python",
   "name": "python3"
  },
  "language_info": {
   "codemirror_mode": {
    "name": "ipython",
    "version": 3
   },
   "file_extension": ".py",
   "mimetype": "text/x-python",
   "name": "python",
   "nbconvert_exporter": "python",
   "pygments_lexer": "ipython3",
   "version": "3.9.18"
  }
 },
 "nbformat": 4,
 "nbformat_minor": 2
}
