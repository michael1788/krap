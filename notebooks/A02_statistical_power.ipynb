{
 "cells": [
  {
   "cell_type": "markdown",
   "metadata": {},
   "source": [
    "### Goal\n",
    "- try on data shared on 20 Dec 23 what would be the sample size needed to have a good statistical power "
   ]
  },
  {
   "cell_type": "code",
   "execution_count": 1,
   "metadata": {},
   "outputs": [],
   "source": [
    "%load_ext autoreload\n",
    "%autoreload 2"
   ]
  },
  {
   "cell_type": "code",
   "execution_count": 2,
   "metadata": {},
   "outputs": [],
   "source": [
    "import os, sys\n",
    "import pandas as pd\n",
    "import math\n",
    "import numpy as np\n",
    "\n",
    "from statsmodels.stats.power import TTestIndPower\n",
    "from statistics import mean, stdev\n",
    "from math import sqrt\n",
    "from matplotlib import pyplot as plt\n",
    "\n",
    "sys.path.append('../')\n",
    "import helper as hp"
   ]
  },
  {
   "cell_type": "code",
   "execution_count": 3,
   "metadata": {},
   "outputs": [],
   "source": [
    "savepath = \"A02_statistical_power/\"\n",
    "os.makedirs(savepath, exist_ok=True)"
   ]
  },
  {
   "cell_type": "markdown",
   "metadata": {},
   "source": [
    "let's first find the Cohen’s d (effect) based on the data"
   ]
  },
  {
   "cell_type": "code",
   "execution_count": 4,
   "metadata": {},
   "outputs": [],
   "source": [
    "k18 = [41.694,\n",
    "56.693,\n",
    "36.574,\n",
    "44.631,\n",
    "51.886,\n",
    "20.624,\n",
    "32.529,\n",
    "33.967,\n",
    "33.827,\n",
    "23.949]\n",
    "\n",
    "virgin_phos_negc = [89.812,\n",
    "69.488,\n",
    "64.119,\n",
    "45.999,\n",
    "59.911,\n",
    "54.517,\n",
    "45.555,\n",
    "48.046,\n",
    "54.625,\n",
    "65.623]\n",
    "\n",
    "sholigo = [40.834,\n",
    "19.121,\n",
    "35.234,\n",
    "32.316,\n",
    "52.449,\n",
    "55.278,\n",
    "33.672]\n",
    "\n",
    "olaplex = [35.519,\n",
    "19.686,\n",
    "40.038,\n",
    "33.379,\n",
    "56.54,\n",
    "56.816,\n",
    "45.522,\n",
    "55.58,\n",
    "38.733]"
   ]
  },
  {
   "cell_type": "code",
   "execution_count": 5,
   "metadata": {},
   "outputs": [],
   "source": [
    "def get_sample_size(list1, list2, alpha=0.05, power=0.8):\n",
    "    cohens_d = (mean(list1) - mean(list2)) / (sqrt((stdev(list1) ** 2 + stdev(list2) ** 2) / 2))\n",
    "    analysis = TTestIndPower()\n",
    "    result = analysis.solve_power(cohens_d, power=power, nobs1=None, ratio=1.0, alpha=alpha)\n",
    "    print('Sample Size: %.3f' % result)"
   ]
  },
  {
   "cell_type": "code",
   "execution_count": 6,
   "metadata": {},
   "outputs": [
    {
     "name": "stdout",
     "output_type": "stream",
     "text": [
      "Sample Size: 6.107\n"
     ]
    }
   ],
   "source": [
    "get_sample_size(k18, virgin_phos_negc)"
   ]
  },
  {
   "cell_type": "code",
   "execution_count": 7,
   "metadata": {},
   "outputs": [
    {
     "name": "stdout",
     "output_type": "stream",
     "text": [
      "Sample Size: 3690.828\n"
     ]
    }
   ],
   "source": [
    "get_sample_size(sholigo, k18)"
   ]
  },
  {
   "cell_type": "code",
   "execution_count": 8,
   "metadata": {},
   "outputs": [
    {
     "name": "stdout",
     "output_type": "stream",
     "text": [
      "Sample Size: 6.107\n"
     ]
    }
   ],
   "source": [
    "get_sample_size(virgin_phos_negc, k18)"
   ]
  },
  {
   "cell_type": "code",
   "execution_count": 9,
   "metadata": {},
   "outputs": [
    {
     "name": "stdout",
     "output_type": "stream",
     "text": [
      "Sample Size: 6.896\n"
     ]
    }
   ],
   "source": [
    "get_sample_size(sholigo, virgin_phos_negc)"
   ]
  },
  {
   "cell_type": "code",
   "execution_count": 10,
   "metadata": {},
   "outputs": [
    {
     "name": "stdout",
     "output_type": "stream",
     "text": [
      "Sample Size: 99.009\n"
     ]
    }
   ],
   "source": [
    "get_sample_size(k18, olaplex)"
   ]
  },
  {
   "cell_type": "code",
   "execution_count": 11,
   "metadata": {},
   "outputs": [
    {
     "name": "stdout",
     "output_type": "stream",
     "text": [
      "Sample Size: 153.217\n"
     ]
    }
   ],
   "source": [
    "get_sample_size(sholigo, olaplex)"
   ]
  },
  {
   "cell_type": "code",
   "execution_count": 12,
   "metadata": {},
   "outputs": [
    {
     "data": {
      "image/png": "[encoded data removed]",
      "text/plain": [
       "<Figure size 640x480 with 1 Axes>"
      ]
     },
     "metadata": {},
     "output_type": "display_data"
    }
   ],
   "source": [
    "fig = plt.boxplot([k18, virgin_phos_negc, sholigo, olaplex], labels=['K18', 'Virgin phos negC', 'Sholigo', 'Olaplex'])"
   ]
  },
  {
   "cell_type": "code",
   "execution_count": 13,
   "metadata": {},
   "outputs": [
    {
     "name": "stdout",
     "output_type": "stream",
     "text": [
      "10.787\n",
      "12.78\n",
      "11.522\n",
      "11.808\n"
     ]
    }
   ],
   "source": [
    "print(round(np.std(k18), 3))\n",
    "print(round(np.std(virgin_phos_negc), 3))\n",
    "print(round(np.std(sholigo), 3))\n",
    "print(round(np.std(olaplex), 3))"
   ]
  },
  {
   "cell_type": "code",
   "execution_count": null,
   "metadata": {},
   "outputs": [],
   "source": []
  }
 ],
 "metadata": {
  "kernelspec": {
   "display_name": "Python 3 (ipykernel)",
   "language": "python",
   "name": "python3"
  },
  "language_info": {
   "codemirror_mode": {
    "name": "ipython",
    "version": 3
   },
   "file_extension": ".py",
   "mimetype": "text/x-python",
   "name": "python",
   "nbconvert_exporter": "python",
   "pygments_lexer": "ipython3",
   "version": "3.9.18"
  }
 },
 "nbformat": 4,
 "nbformat_minor": 2
}
