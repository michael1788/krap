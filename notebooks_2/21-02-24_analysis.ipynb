{
 "cells": [
  {
   "attachments": {},
   "cell_type": "markdown",
   "metadata": {},
   "source": [
    "### Goal"
   ]
  },
  {
   "cell_type": "code",
   "execution_count": 132,
   "metadata": {},
   "outputs": [
    {
     "name": "stdout",
     "output_type": "stream",
     "text": [
      "The autoreload extension is already loaded. To reload it, use:\n",
      "  %reload_ext autoreload\n"
     ]
    }
   ],
   "source": [
    "%load_ext autoreload\n",
    "%autoreload 2"
   ]
  },
  {
   "cell_type": "code",
   "execution_count": 133,
   "metadata": {},
   "outputs": [],
   "source": [
    "import os, sys\n",
    "import pandas as pd\n",
    "import numpy as np\n",
    "import math\n",
    "\n",
    "import matplotlib.pyplot as plt\n",
    "\n",
    "import helper as hp"
   ]
  },
  {
   "cell_type": "code",
   "execution_count": 134,
   "metadata": {},
   "outputs": [
    {
     "data": {
      "text/html": [
       "<div>\n",
       "<style scoped>\n",
       "    .dataframe tbody tr th:only-of-type {\n",
       "        vertical-align: middle;\n",
       "    }\n",
       "\n",
       "    .dataframe tbody tr th {\n",
       "        vertical-align: top;\n",
       "    }\n",
       "\n",
       "    .dataframe thead th {\n",
       "        text-align: right;\n",
       "    }\n",
       "</style>\n",
       "<table border=\"1\" class=\"dataframe\">\n",
       "  <thead>\n",
       "    <tr style=\"text-align: right;\">\n",
       "      <th></th>\n",
       "      <th>Test ID</th>\n",
       "      <th>Batch</th>\n",
       "      <th>Young's Modulus</th>\n",
       "      <th>Break Force</th>\n",
       "      <th>Distance to Break</th>\n",
       "      <th>Toughness</th>\n",
       "      <th>Unnamed: 6</th>\n",
       "      <th>Unnamed: 7</th>\n",
       "      <th>Unnamed: 8</th>\n",
       "      <th>Unnamed: 9</th>\n",
       "    </tr>\n",
       "  </thead>\n",
       "  <tbody>\n",
       "    <tr>\n",
       "      <th>0</th>\n",
       "      <td>NaN</td>\n",
       "      <td>NaN</td>\n",
       "      <td>MPa/%</td>\n",
       "      <td>g</td>\n",
       "      <td>mm</td>\n",
       "      <td>kg/mm².%</td>\n",
       "      <td>NaN</td>\n",
       "      <td>NaN</td>\n",
       "      <td>NaN</td>\n",
       "      <td>NaN</td>\n",
       "    </tr>\n",
       "    <tr>\n",
       "      <th>1</th>\n",
       "      <td>NaN</td>\n",
       "      <td>NaN</td>\n",
       "      <td>Gradient St-Strain 1:2</td>\n",
       "      <td>Break Force</td>\n",
       "      <td>Distance to Break</td>\n",
       "      <td>Area St-Strain 1:3</td>\n",
       "      <td>NaN</td>\n",
       "      <td>NaN</td>\n",
       "      <td>NaN</td>\n",
       "      <td>NaN</td>\n",
       "    </tr>\n",
       "    <tr>\n",
       "      <th>2</th>\n",
       "      <td>NaN</td>\n",
       "      <td>NaN</td>\n",
       "      <td>NaN</td>\n",
       "      <td>NaN</td>\n",
       "      <td>NaN</td>\n",
       "      <td>NaN</td>\n",
       "      <td>NaN</td>\n",
       "      <td>NaN</td>\n",
       "      <td>NaN</td>\n",
       "      <td>NaN</td>\n",
       "    </tr>\n",
       "    <tr>\n",
       "      <th>3</th>\n",
       "      <td>Start Batch 20240219_Bleached_NC_</td>\n",
       "      <td>20240219_Bleached_NC_</td>\n",
       "      <td>NaN</td>\n",
       "      <td>NaN</td>\n",
       "      <td>NaN</td>\n",
       "      <td>NaN</td>\n",
       "      <td>NaN</td>\n",
       "      <td>NaN</td>\n",
       "      <td>NaN</td>\n",
       "      <td>NaN</td>\n",
       "    </tr>\n",
       "    <tr>\n",
       "      <th>4</th>\n",
       "      <td>20240219_Bleached_NC_1</td>\n",
       "      <td>20240219_Bleached_NC_</td>\n",
       "      <td>37.24</td>\n",
       "      <td>74.631</td>\n",
       "      <td>-20.848</td>\n",
       "      <td>729.633</td>\n",
       "      <td>51.0</td>\n",
       "      <td>50.0</td>\n",
       "      <td>ok</td>\n",
       "      <td>7.0</td>\n",
       "    </tr>\n",
       "    <tr>\n",
       "      <th>5</th>\n",
       "      <td>20240219_Bleached_NC_2</td>\n",
       "      <td>20240219_Bleached_NC_</td>\n",
       "      <td>52.07</td>\n",
       "      <td>90.762</td>\n",
       "      <td>-21.762</td>\n",
       "      <td>985.639</td>\n",
       "      <td>51.0</td>\n",
       "      <td>51.0</td>\n",
       "      <td>be</td>\n",
       "      <td>7.0</td>\n",
       "    </tr>\n",
       "    <tr>\n",
       "      <th>6</th>\n",
       "      <td>20240219_Bleached_NC_3</td>\n",
       "      <td>20240219_Bleached_NC_</td>\n",
       "      <td>51.989</td>\n",
       "      <td>88.456</td>\n",
       "      <td>-22.336</td>\n",
       "      <td>931.487</td>\n",
       "      <td>55.0</td>\n",
       "      <td>52.0</td>\n",
       "      <td>be</td>\n",
       "      <td>7.0</td>\n",
       "    </tr>\n",
       "    <tr>\n",
       "      <th>7</th>\n",
       "      <td>20240219_Bleached_NC_4</td>\n",
       "      <td>20240219_Bleached_NC_</td>\n",
       "      <td>43.987</td>\n",
       "      <td>78.898</td>\n",
       "      <td>-23.572</td>\n",
       "      <td>850.776</td>\n",
       "      <td>51.0</td>\n",
       "      <td>53.0</td>\n",
       "      <td>be</td>\n",
       "      <td>7.0</td>\n",
       "    </tr>\n",
       "    <tr>\n",
       "      <th>8</th>\n",
       "      <td>20240219_Bleached_NC_5</td>\n",
       "      <td>20240219_Bleached_NC_</td>\n",
       "      <td>82.834</td>\n",
       "      <td>106.914</td>\n",
       "      <td>-2.107</td>\n",
       "      <td>93.058</td>\n",
       "      <td>69.0</td>\n",
       "      <td>70.0</td>\n",
       "      <td>sho</td>\n",
       "      <td>7.0</td>\n",
       "    </tr>\n",
       "    <tr>\n",
       "      <th>9</th>\n",
       "      <td>20240219_Bleached_NC_6</td>\n",
       "      <td>20240219_Bleached_NC_</td>\n",
       "      <td>53.607</td>\n",
       "      <td>54.244</td>\n",
       "      <td>-1.191</td>\n",
       "      <td>25.018</td>\n",
       "      <td>51.0</td>\n",
       "      <td>52.0</td>\n",
       "      <td>sho</td>\n",
       "      <td>7.0</td>\n",
       "    </tr>\n",
       "  </tbody>\n",
       "</table>\n",
       "</div>"
      ],
      "text/plain": [
       "                             Test ID                  Batch  \\\n",
       "0                                NaN                    NaN   \n",
       "1                                NaN                    NaN   \n",
       "2                                NaN                    NaN   \n",
       "3  Start Batch 20240219_Bleached_NC_  20240219_Bleached_NC_   \n",
       "4             20240219_Bleached_NC_1  20240219_Bleached_NC_   \n",
       "5             20240219_Bleached_NC_2  20240219_Bleached_NC_   \n",
       "6             20240219_Bleached_NC_3  20240219_Bleached_NC_   \n",
       "7             20240219_Bleached_NC_4  20240219_Bleached_NC_   \n",
       "8             20240219_Bleached_NC_5  20240219_Bleached_NC_   \n",
       "9             20240219_Bleached_NC_6  20240219_Bleached_NC_   \n",
       "\n",
       "          Young's Modulus  Break Force  Distance to Break           Toughness  \\\n",
       "0                   MPa/%            g                 mm            kg/mm².%   \n",
       "1  Gradient St-Strain 1:2  Break Force  Distance to Break  Area St-Strain 1:3   \n",
       "2                     NaN          NaN                NaN                 NaN   \n",
       "3                     NaN          NaN                NaN                 NaN   \n",
       "4                   37.24       74.631            -20.848             729.633   \n",
       "5                   52.07       90.762            -21.762             985.639   \n",
       "6                  51.989       88.456            -22.336             931.487   \n",
       "7                  43.987       78.898            -23.572             850.776   \n",
       "8                  82.834      106.914             -2.107              93.058   \n",
       "9                  53.607       54.244             -1.191              25.018   \n",
       "\n",
       "   Unnamed: 6  Unnamed: 7 Unnamed: 8  Unnamed: 9  \n",
       "0         NaN         NaN        NaN         NaN  \n",
       "1         NaN         NaN        NaN         NaN  \n",
       "2         NaN         NaN        NaN         NaN  \n",
       "3         NaN         NaN        NaN         NaN  \n",
       "4        51.0        50.0         ok         7.0  \n",
       "5        51.0        51.0         be         7.0  \n",
       "6        55.0        52.0         be         7.0  \n",
       "7        51.0        53.0         be         7.0  \n",
       "8        69.0        70.0        sho         7.0  \n",
       "9        51.0        52.0        sho         7.0  "
      ]
     },
     "execution_count": 134,
     "metadata": {},
     "output_type": "execute_result"
    }
   ],
   "source": [
    "df = pd.read_excel(\"/Users/michaelmoret/Desktop/Externa/data/pulling/21-02-24/20240219-20.xlsx\")\n",
    "df.head(10)"
   ]
  },
  {
   "cell_type": "code",
   "execution_count": 135,
   "metadata": {},
   "outputs": [
    {
     "data": {
      "text/html": [
       "<div>\n",
       "<style scoped>\n",
       "    .dataframe tbody tr th:only-of-type {\n",
       "        vertical-align: middle;\n",
       "    }\n",
       "\n",
       "    .dataframe tbody tr th {\n",
       "        vertical-align: top;\n",
       "    }\n",
       "\n",
       "    .dataframe thead th {\n",
       "        text-align: right;\n",
       "    }\n",
       "</style>\n",
       "<table border=\"1\" class=\"dataframe\">\n",
       "  <thead>\n",
       "    <tr style=\"text-align: right;\">\n",
       "      <th></th>\n",
       "      <th>Test ID</th>\n",
       "      <th>Batch</th>\n",
       "      <th>Young's Modulus</th>\n",
       "      <th>Break Force</th>\n",
       "      <th>Distance to Break</th>\n",
       "      <th>Toughness</th>\n",
       "      <th>Diameter 1</th>\n",
       "      <th>Diameter 2</th>\n",
       "      <th>Note</th>\n",
       "      <th>Humidity</th>\n",
       "    </tr>\n",
       "  </thead>\n",
       "  <tbody>\n",
       "    <tr>\n",
       "      <th>0</th>\n",
       "      <td>NaN</td>\n",
       "      <td>NaN</td>\n",
       "      <td>MPa/%</td>\n",
       "      <td>g</td>\n",
       "      <td>mm</td>\n",
       "      <td>kg/mm².%</td>\n",
       "      <td>NaN</td>\n",
       "      <td>NaN</td>\n",
       "      <td>NaN</td>\n",
       "      <td>NaN</td>\n",
       "    </tr>\n",
       "    <tr>\n",
       "      <th>1</th>\n",
       "      <td>NaN</td>\n",
       "      <td>NaN</td>\n",
       "      <td>Gradient St-Strain 1:2</td>\n",
       "      <td>Break Force</td>\n",
       "      <td>Distance to Break</td>\n",
       "      <td>Area St-Strain 1:3</td>\n",
       "      <td>NaN</td>\n",
       "      <td>NaN</td>\n",
       "      <td>NaN</td>\n",
       "      <td>NaN</td>\n",
       "    </tr>\n",
       "  </tbody>\n",
       "</table>\n",
       "</div>"
      ],
      "text/plain": [
       "  Test ID Batch         Young's Modulus  Break Force  Distance to Break  \\\n",
       "0     NaN   NaN                   MPa/%            g                 mm   \n",
       "1     NaN   NaN  Gradient St-Strain 1:2  Break Force  Distance to Break   \n",
       "\n",
       "            Toughness  Diameter 1  Diameter 2 Note  Humidity  \n",
       "0            kg/mm².%         NaN         NaN  NaN       NaN  \n",
       "1  Area St-Strain 1:3         NaN         NaN  NaN       NaN  "
      ]
     },
     "execution_count": 135,
     "metadata": {},
     "output_type": "execute_result"
    }
   ],
   "source": [
    "df = df.rename(columns={'Unnamed: 6': 'Diameter 1', \n",
    "                        'Unnamed: 7': 'Diameter 2',\n",
    "                        'Unnamed: 8': 'Note',\n",
    "                        'Unnamed: 9': 'Humidity',})\n",
    "df.head(2)"
   ]
  },
  {
   "cell_type": "code",
   "execution_count": 136,
   "metadata": {},
   "outputs": [
    {
     "data": {
      "text/html": [
       "<div>\n",
       "<style scoped>\n",
       "    .dataframe tbody tr th:only-of-type {\n",
       "        vertical-align: middle;\n",
       "    }\n",
       "\n",
       "    .dataframe tbody tr th {\n",
       "        vertical-align: top;\n",
       "    }\n",
       "\n",
       "    .dataframe thead th {\n",
       "        text-align: right;\n",
       "    }\n",
       "</style>\n",
       "<table border=\"1\" class=\"dataframe\">\n",
       "  <thead>\n",
       "    <tr style=\"text-align: right;\">\n",
       "      <th></th>\n",
       "      <th>Test ID</th>\n",
       "      <th>Batch</th>\n",
       "      <th>Young's Modulus</th>\n",
       "      <th>Break Force</th>\n",
       "      <th>Distance to Break</th>\n",
       "      <th>Toughness</th>\n",
       "      <th>Diameter 1</th>\n",
       "      <th>Diameter 2</th>\n",
       "      <th>Note</th>\n",
       "      <th>Humidity</th>\n",
       "    </tr>\n",
       "  </thead>\n",
       "  <tbody>\n",
       "    <tr>\n",
       "      <th>4</th>\n",
       "      <td>20240219_Bleached_NC_1</td>\n",
       "      <td>20240219_Bleached_NC_</td>\n",
       "      <td>37.24</td>\n",
       "      <td>74.631</td>\n",
       "      <td>-20.848</td>\n",
       "      <td>729.633</td>\n",
       "      <td>51.0</td>\n",
       "      <td>50.0</td>\n",
       "      <td>ok</td>\n",
       "      <td>7.0</td>\n",
       "    </tr>\n",
       "    <tr>\n",
       "      <th>5</th>\n",
       "      <td>20240219_Bleached_NC_2</td>\n",
       "      <td>20240219_Bleached_NC_</td>\n",
       "      <td>52.07</td>\n",
       "      <td>90.762</td>\n",
       "      <td>-21.762</td>\n",
       "      <td>985.639</td>\n",
       "      <td>51.0</td>\n",
       "      <td>51.0</td>\n",
       "      <td>be</td>\n",
       "      <td>7.0</td>\n",
       "    </tr>\n",
       "  </tbody>\n",
       "</table>\n",
       "</div>"
      ],
      "text/plain": [
       "                  Test ID                  Batch Young's Modulus Break Force  \\\n",
       "4  20240219_Bleached_NC_1  20240219_Bleached_NC_           37.24      74.631   \n",
       "5  20240219_Bleached_NC_2  20240219_Bleached_NC_           52.07      90.762   \n",
       "\n",
       "  Distance to Break Toughness  Diameter 1  Diameter 2 Note  Humidity  \n",
       "4           -20.848   729.633        51.0        50.0   ok       7.0  \n",
       "5           -21.762   985.639        51.0        51.0   be       7.0  "
      ]
     },
     "execution_count": 136,
     "metadata": {},
     "output_type": "execute_result"
    }
   ],
   "source": [
    "df = df.dropna()\n",
    "df.head(2)"
   ]
  },
  {
   "cell_type": "code",
   "execution_count": 137,
   "metadata": {},
   "outputs": [
    {
     "data": {
      "text/html": [
       "<div>\n",
       "<style scoped>\n",
       "    .dataframe tbody tr th:only-of-type {\n",
       "        vertical-align: middle;\n",
       "    }\n",
       "\n",
       "    .dataframe tbody tr th {\n",
       "        vertical-align: top;\n",
       "    }\n",
       "\n",
       "    .dataframe thead th {\n",
       "        text-align: right;\n",
       "    }\n",
       "</style>\n",
       "<table border=\"1\" class=\"dataframe\">\n",
       "  <thead>\n",
       "    <tr style=\"text-align: right;\">\n",
       "      <th></th>\n",
       "      <th>Test ID</th>\n",
       "      <th>Batch</th>\n",
       "      <th>Young's Modulus</th>\n",
       "      <th>Break Force</th>\n",
       "      <th>Distance to Break</th>\n",
       "      <th>Toughness</th>\n",
       "      <th>Diameter 1</th>\n",
       "      <th>Diameter 2</th>\n",
       "      <th>Note</th>\n",
       "      <th>Humidity</th>\n",
       "    </tr>\n",
       "  </thead>\n",
       "  <tbody>\n",
       "    <tr>\n",
       "      <th>4</th>\n",
       "      <td>20240219_Bleached_NC_1</td>\n",
       "      <td>20240219_Bleached_NC_</td>\n",
       "      <td>37.24</td>\n",
       "      <td>74.631</td>\n",
       "      <td>-20.848</td>\n",
       "      <td>729.633</td>\n",
       "      <td>51.0</td>\n",
       "      <td>50.0</td>\n",
       "      <td>ok</td>\n",
       "      <td>7.0</td>\n",
       "    </tr>\n",
       "    <tr>\n",
       "      <th>5</th>\n",
       "      <td>20240219_Bleached_NC_2</td>\n",
       "      <td>20240219_Bleached_NC_</td>\n",
       "      <td>52.07</td>\n",
       "      <td>90.762</td>\n",
       "      <td>-21.762</td>\n",
       "      <td>985.639</td>\n",
       "      <td>51.0</td>\n",
       "      <td>51.0</td>\n",
       "      <td>be</td>\n",
       "      <td>7.0</td>\n",
       "    </tr>\n",
       "  </tbody>\n",
       "</table>\n",
       "</div>"
      ],
      "text/plain": [
       "                  Test ID                  Batch  Young's Modulus  \\\n",
       "4  20240219_Bleached_NC_1  20240219_Bleached_NC_            37.24   \n",
       "5  20240219_Bleached_NC_2  20240219_Bleached_NC_            52.07   \n",
       "\n",
       "   Break Force  Distance to Break  Toughness  Diameter 1  Diameter 2 Note  \\\n",
       "4       74.631            -20.848    729.633        51.0        50.0   ok   \n",
       "5       90.762            -21.762    985.639        51.0        51.0   be   \n",
       "\n",
       "   Humidity  \n",
       "4       7.0  \n",
       "5       7.0  "
      ]
     },
     "execution_count": 137,
     "metadata": {},
     "output_type": "execute_result"
    }
   ],
   "source": [
    "df['Break Force'] = df['Break Force'].astype(float)\n",
    "df['Young\\'s Modulus'] = df['Young\\'s Modulus'].astype(float)\n",
    "df['Distance to Break'] = df['Distance to Break'].astype(float)\n",
    "df['Toughness'] = df['Toughness'].astype(float)\n",
    "df['Diameter 1'] = df['Diameter 1'].astype(float)\n",
    "df['Diameter 2'] = df['Diameter 2'].astype(float)\n",
    "df['Humidity'] = df['Humidity'].astype(float)\n",
    "\n",
    "df.head(2)"
   ]
  },
  {
   "cell_type": "code",
   "execution_count": 138,
   "metadata": {},
   "outputs": [],
   "source": [
    "df = df[df['Test ID'] != 'Average:']\n",
    "df = df[df['Test ID'] != 'S.D.']\n",
    "df = df[df['Test ID'] != 'Coef. of Variation']"
   ]
  },
  {
   "cell_type": "code",
   "execution_count": 139,
   "metadata": {},
   "outputs": [],
   "source": [
    "df['Average'] = ((df['Diameter 1'] + df['Diameter 2']) / 2 )/1000\n",
    "df['Area'] = math.pi * (df['Average'] / 2)**2"
   ]
  },
  {
   "cell_type": "code",
   "execution_count": 140,
   "metadata": {},
   "outputs": [],
   "source": [
    "df['Baseline area'] = math.pi * 0.035**2\n",
    "df['Updated Young\\'s Modulus'] = df['Young\\'s Modulus'] * (df['Baseline area'] / df['Area'])"
   ]
  },
  {
   "cell_type": "code",
   "execution_count": 141,
   "metadata": {},
   "outputs": [],
   "source": [
    "df['Break stress'] = df['Break Force'] / df['Area'] / 1000"
   ]
  },
  {
   "cell_type": "code",
   "execution_count": 142,
   "metadata": {},
   "outputs": [
    {
     "data": {
      "text/html": [
       "<div>\n",
       "<style scoped>\n",
       "    .dataframe tbody tr th:only-of-type {\n",
       "        vertical-align: middle;\n",
       "    }\n",
       "\n",
       "    .dataframe tbody tr th {\n",
       "        vertical-align: top;\n",
       "    }\n",
       "\n",
       "    .dataframe thead th {\n",
       "        text-align: right;\n",
       "    }\n",
       "</style>\n",
       "<table border=\"1\" class=\"dataframe\">\n",
       "  <thead>\n",
       "    <tr style=\"text-align: right;\">\n",
       "      <th></th>\n",
       "      <th>Test ID</th>\n",
       "      <th>Batch</th>\n",
       "      <th>Young's Modulus</th>\n",
       "      <th>Break Force</th>\n",
       "      <th>Distance to Break</th>\n",
       "      <th>Toughness</th>\n",
       "      <th>Diameter 1</th>\n",
       "      <th>Diameter 2</th>\n",
       "      <th>Note</th>\n",
       "      <th>Humidity</th>\n",
       "      <th>Average</th>\n",
       "      <th>Area</th>\n",
       "      <th>Baseline area</th>\n",
       "      <th>Updated Young's Modulus</th>\n",
       "      <th>Break stress</th>\n",
       "    </tr>\n",
       "  </thead>\n",
       "  <tbody>\n",
       "    <tr>\n",
       "      <th>4</th>\n",
       "      <td>20240219_Bleached_NC_1</td>\n",
       "      <td>20240219_Bleached_NC_</td>\n",
       "      <td>37.24</td>\n",
       "      <td>74.631</td>\n",
       "      <td>-20.848</td>\n",
       "      <td>729.633</td>\n",
       "      <td>51.0</td>\n",
       "      <td>50.0</td>\n",
       "      <td>ok</td>\n",
       "      <td>7.0</td>\n",
       "      <td>0.0505</td>\n",
       "      <td>0.002003</td>\n",
       "      <td>0.003848</td>\n",
       "      <td>71.552201</td>\n",
       "      <td>37.260324</td>\n",
       "    </tr>\n",
       "    <tr>\n",
       "      <th>5</th>\n",
       "      <td>20240219_Bleached_NC_2</td>\n",
       "      <td>20240219_Bleached_NC_</td>\n",
       "      <td>52.07</td>\n",
       "      <td>90.762</td>\n",
       "      <td>-21.762</td>\n",
       "      <td>985.639</td>\n",
       "      <td>51.0</td>\n",
       "      <td>51.0</td>\n",
       "      <td>be</td>\n",
       "      <td>7.0</td>\n",
       "      <td>0.0510</td>\n",
       "      <td>0.002043</td>\n",
       "      <td>0.003848</td>\n",
       "      <td>98.094195</td>\n",
       "      <td>44.429745</td>\n",
       "    </tr>\n",
       "  </tbody>\n",
       "</table>\n",
       "</div>"
      ],
      "text/plain": [
       "                  Test ID                  Batch  Young's Modulus  \\\n",
       "4  20240219_Bleached_NC_1  20240219_Bleached_NC_            37.24   \n",
       "5  20240219_Bleached_NC_2  20240219_Bleached_NC_            52.07   \n",
       "\n",
       "   Break Force  Distance to Break  Toughness  Diameter 1  Diameter 2 Note  \\\n",
       "4       74.631            -20.848    729.633        51.0        50.0   ok   \n",
       "5       90.762            -21.762    985.639        51.0        51.0   be   \n",
       "\n",
       "   Humidity  Average      Area  Baseline area  Updated Young's Modulus  \\\n",
       "4       7.0   0.0505  0.002003       0.003848                71.552201   \n",
       "5       7.0   0.0510  0.002043       0.003848                98.094195   \n",
       "\n",
       "   Break stress  \n",
       "4     37.260324  \n",
       "5     44.429745  "
      ]
     },
     "execution_count": 142,
     "metadata": {},
     "output_type": "execute_result"
    }
   ],
   "source": [
    "df.head(2)"
   ]
  },
  {
   "cell_type": "code",
   "execution_count": 143,
   "metadata": {},
   "outputs": [
    {
     "data": {
      "text/plain": [
       "<Figure size 1000x600 with 0 Axes>"
      ]
     },
     "metadata": {},
     "output_type": "display_data"
    },
    {
     "data": {
      "image/png": "[encoded data removed]",
      "text/plain": [
       "<Figure size 640x480 with 1 Axes>"
      ]
     },
     "metadata": {},
     "output_type": "display_data"
    }
   ],
   "source": [
    "def do_plot(df):\n",
    "    plt.figure(figsize=(10, 6))\n",
    "    df.boxplot(column='Break stress', by='Batch')\n",
    "    plt.xlabel('Name')\n",
    "    plt.ylabel('Break stress')\n",
    "    plt.xticks(rotation=65)\n",
    "    # y axis from 20 to 90\n",
    "    plt.ylim(15, 90)\n",
    "    plt.show()\n",
    "    \n",
    "\n",
    "do_plot(df)\n"
   ]
  },
  {
   "cell_type": "code",
   "execution_count": 144,
   "metadata": {},
   "outputs": [
    {
     "name": "stdout",
     "output_type": "stream",
     "text": [
      "Batch\n",
      "20240219_Bleached_KPduo_    8.305677\n",
      "20240219_Bleached_NC_       6.275853\n",
      "20240219_Bleached_w4_       9.198364\n",
      "20240220_Bleached_KPduo_    6.491879\n",
      "20240220_Bleached_NC_       6.803218\n",
      "20240220_Bleached_W4_       6.599442\n",
      "Name: Break stress, dtype: float64\n"
     ]
    }
   ],
   "source": [
    "std_by_batch_all = df.groupby('Batch')['Break stress'].std()\n",
    "print(std_by_batch_all)"
   ]
  },
  {
   "cell_type": "code",
   "execution_count": 145,
   "metadata": {},
   "outputs": [
    {
     "name": "stdout",
     "output_type": "stream",
     "text": [
      "30\n"
     ]
    }
   ],
   "source": [
    "count = len(df[df['Batch'].str.contains('W4')])\n",
    "print(count)"
   ]
  },
  {
   "cell_type": "code",
   "execution_count": 146,
   "metadata": {},
   "outputs": [
    {
     "name": "stdout",
     "output_type": "stream",
     "text": [
      "50\n"
     ]
    }
   ],
   "source": [
    "count = len(df[df['Batch'].str.contains('w4')])\n",
    "print(count)"
   ]
  },
  {
   "cell_type": "code",
   "execution_count": 147,
   "metadata": {},
   "outputs": [
    {
     "name": "stdout",
     "output_type": "stream",
     "text": [
      "92\n"
     ]
    }
   ],
   "source": [
    "count = len(df[df['Batch'].str.contains('NC')])\n",
    "print(count)"
   ]
  },
  {
   "cell_type": "code",
   "execution_count": 148,
   "metadata": {},
   "outputs": [
    {
     "data": {
      "text/plain": [
       "(                          20240219_Bleached_NC_  20240220_Bleached_NC_  \\\n",
       " 20240219_Bleached_NC_                     1.000                  0.014   \n",
       " 20240220_Bleached_NC_                     0.014                  1.000   \n",
       " 20240219_Bleached_w4_                     0.860                  0.032   \n",
       " 20240220_Bleached_W4_                     0.762                  0.074   \n",
       " 20240219_Bleached_KPduo_                  0.350                  0.251   \n",
       " 20240220_Bleached_KPduo_                  0.226                  0.176   \n",
       " \n",
       "                           20240219_Bleached_w4_  20240220_Bleached_W4_  \\\n",
       " 20240219_Bleached_NC_                     0.860                  0.762   \n",
       " 20240220_Bleached_NC_                     0.032                  0.074   \n",
       " 20240219_Bleached_w4_                     1.000                  0.709   \n",
       " 20240220_Bleached_W4_                     0.709                  1.000   \n",
       " 20240219_Bleached_KPduo_                  0.383                  0.574   \n",
       " 20240220_Bleached_KPduo_                  0.180                  0.484   \n",
       " \n",
       "                           20240219_Bleached_KPduo_  20240220_Bleached_KPduo_  \n",
       " 20240219_Bleached_NC_                        0.350                     0.226  \n",
       " 20240220_Bleached_NC_                        0.251                     0.176  \n",
       " 20240219_Bleached_w4_                        0.383                     0.180  \n",
       " 20240220_Bleached_W4_                        0.574                     0.484  \n",
       " 20240219_Bleached_KPduo_                     1.000                     0.882  \n",
       " 20240220_Bleached_KPduo_                     0.882                     1.000  ,\n",
       "                           20240219_Bleached_NC_  20240220_Bleached_NC_  \\\n",
       " 20240219_Bleached_NC_                     -1.00                  49.74   \n",
       " 20240220_Bleached_NC_                     49.74                  -1.00   \n",
       " 20240219_Bleached_w4_                  33462.15                  69.08   \n",
       " 20240220_Bleached_W4_                   5457.67                  63.13   \n",
       " 20240219_Bleached_KPduo_                 339.88                 200.52   \n",
       " 20240220_Bleached_KPduo_                 271.01                 147.81   \n",
       " \n",
       "                           20240219_Bleached_w4_  20240220_Bleached_W4_  \\\n",
       " 20240219_Bleached_NC_                  33462.15                5457.67   \n",
       " 20240220_Bleached_NC_                     69.08                  63.13   \n",
       " 20240219_Bleached_w4_                     -1.00                3779.89   \n",
       " 20240220_Bleached_W4_                   3779.89                  -1.00   \n",
       " 20240219_Bleached_KPduo_                 392.48                 576.52   \n",
       " 20240220_Bleached_KPduo_                 341.22                 472.78   \n",
       " \n",
       "                           20240219_Bleached_KPduo_  20240220_Bleached_KPduo_  \n",
       " 20240219_Bleached_NC_                       339.88                    271.01  \n",
       " 20240220_Bleached_NC_                       200.52                    147.81  \n",
       " 20240219_Bleached_w4_                       392.48                    341.22  \n",
       " 20240220_Bleached_W4_                       576.52                    472.78  \n",
       " 20240219_Bleached_KPduo_                     -1.00                 434211.19  \n",
       " 20240220_Bleached_KPduo_                 434211.19                     -1.00  )"
      ]
     },
     "execution_count": 148,
     "metadata": {},
     "output_type": "execute_result"
    }
   ],
   "source": [
    "hp.get_pvalue_and_sample_size(df, 'Break stress')"
   ]
  },
  {
   "cell_type": "code",
   "execution_count": 149,
   "metadata": {},
   "outputs": [
    {
     "name": "stdout",
     "output_type": "stream",
     "text": [
      "['ok' 'be' 'sho' 'sho ' 'abe' 'idk' 'sho be' 'ABE' 'BE' 'Sho' 'SHO'\n",
      " 'SHO, BE' 'be sho' 'BE, SHO' 'slip' 'be short' 'SLIP']\n"
     ]
    }
   ],
   "source": [
    "unique_values = df['Note'].unique()\n",
    "print(unique_values)"
   ]
  },
  {
   "cell_type": "markdown",
   "metadata": {},
   "source": [
    "let's remove all but ok"
   ]
  },
  {
   "cell_type": "code",
   "execution_count": 150,
   "metadata": {},
   "outputs": [
    {
     "data": {
      "text/plain": [
       "272"
      ]
     },
     "execution_count": 150,
     "metadata": {},
     "output_type": "execute_result"
    }
   ],
   "source": [
    "len(df)"
   ]
  },
  {
   "cell_type": "code",
   "execution_count": 151,
   "metadata": {},
   "outputs": [
    {
     "data": {
      "text/plain": [
       "112"
      ]
     },
     "execution_count": 151,
     "metadata": {},
     "output_type": "execute_result"
    }
   ],
   "source": [
    "df = df[(df['Note'] == 'ok')]\n",
    "len(df)"
   ]
  },
  {
   "cell_type": "code",
   "execution_count": 152,
   "metadata": {},
   "outputs": [
    {
     "data": {
      "text/plain": [
       "<Figure size 1000x600 with 0 Axes>"
      ]
     },
     "metadata": {},
     "output_type": "display_data"
    },
    {
     "data": {
      "image/png": "[encoded data removed]",
      "text/plain": [
       "<Figure size 640x480 with 1 Axes>"
      ]
     },
     "metadata": {},
     "output_type": "display_data"
    }
   ],
   "source": [
    "do_plot(df)"
   ]
  },
  {
   "cell_type": "code",
   "execution_count": 153,
   "metadata": {},
   "outputs": [
    {
     "name": "stdout",
     "output_type": "stream",
     "text": [
      "Batch\n",
      "20240219_Bleached_KPduo_    6.443252\n",
      "20240219_Bleached_NC_       4.760870\n",
      "20240219_Bleached_w4_       8.563653\n",
      "20240220_Bleached_KPduo_    4.502538\n",
      "20240220_Bleached_NC_       6.192555\n",
      "20240220_Bleached_W4_       6.313178\n",
      "Name: Break stress, dtype: float64\n"
     ]
    }
   ],
   "source": [
    "std_by_batch_ok = df.groupby('Batch')['Break stress'].std()\n",
    "print(std_by_batch_ok)"
   ]
  },
  {
   "cell_type": "code",
   "execution_count": 154,
   "metadata": {},
   "outputs": [
    {
     "data": {
      "text/html": [
       "<div>\n",
       "<style scoped>\n",
       "    .dataframe tbody tr th:only-of-type {\n",
       "        vertical-align: middle;\n",
       "    }\n",
       "\n",
       "    .dataframe tbody tr th {\n",
       "        vertical-align: top;\n",
       "    }\n",
       "\n",
       "    .dataframe thead th {\n",
       "        text-align: right;\n",
       "    }\n",
       "</style>\n",
       "<table border=\"1\" class=\"dataframe\">\n",
       "  <thead>\n",
       "    <tr style=\"text-align: right;\">\n",
       "      <th></th>\n",
       "      <th>std all</th>\n",
       "      <th>std ok</th>\n",
       "    </tr>\n",
       "    <tr>\n",
       "      <th>Batch</th>\n",
       "      <th></th>\n",
       "      <th></th>\n",
       "    </tr>\n",
       "  </thead>\n",
       "  <tbody>\n",
       "    <tr>\n",
       "      <th>20240219_Bleached_KPduo_</th>\n",
       "      <td>8.305677</td>\n",
       "      <td>6.443252</td>\n",
       "    </tr>\n",
       "    <tr>\n",
       "      <th>20240219_Bleached_NC_</th>\n",
       "      <td>6.275853</td>\n",
       "      <td>4.760870</td>\n",
       "    </tr>\n",
       "    <tr>\n",
       "      <th>20240219_Bleached_w4_</th>\n",
       "      <td>9.198364</td>\n",
       "      <td>8.563653</td>\n",
       "    </tr>\n",
       "    <tr>\n",
       "      <th>20240220_Bleached_KPduo_</th>\n",
       "      <td>6.491879</td>\n",
       "      <td>4.502538</td>\n",
       "    </tr>\n",
       "    <tr>\n",
       "      <th>20240220_Bleached_NC_</th>\n",
       "      <td>6.803218</td>\n",
       "      <td>6.192555</td>\n",
       "    </tr>\n",
       "    <tr>\n",
       "      <th>20240220_Bleached_W4_</th>\n",
       "      <td>6.599442</td>\n",
       "      <td>6.313178</td>\n",
       "    </tr>\n",
       "  </tbody>\n",
       "</table>\n",
       "</div>"
      ],
      "text/plain": [
       "                           std all    std ok\n",
       "Batch                                       \n",
       "20240219_Bleached_KPduo_  8.305677  6.443252\n",
       "20240219_Bleached_NC_     6.275853  4.760870\n",
       "20240219_Bleached_w4_     9.198364  8.563653\n",
       "20240220_Bleached_KPduo_  6.491879  4.502538\n",
       "20240220_Bleached_NC_     6.803218  6.192555\n",
       "20240220_Bleached_W4_     6.599442  6.313178"
      ]
     },
     "execution_count": 154,
     "metadata": {},
     "output_type": "execute_result"
    }
   ],
   "source": [
    "merged_df = pd.concat([std_by_batch_all, std_by_batch_ok], axis=1)\n",
    "merged_df.columns = ['std all', 'std ok']\n",
    "merged_df"
   ]
  },
  {
   "cell_type": "code",
   "execution_count": 155,
   "metadata": {},
   "outputs": [
    {
     "name": "stdout",
     "output_type": "stream",
     "text": [
      "15\n"
     ]
    }
   ],
   "source": [
    "count = len(df[df['Batch'].str.contains('W4')])\n",
    "print(count)"
   ]
  },
  {
   "cell_type": "code",
   "execution_count": 156,
   "metadata": {},
   "outputs": [
    {
     "name": "stdout",
     "output_type": "stream",
     "text": [
      "18\n"
     ]
    }
   ],
   "source": [
    "count = len(df[df['Batch'].str.contains('w4')])\n",
    "print(count)"
   ]
  },
  {
   "cell_type": "code",
   "execution_count": 157,
   "metadata": {},
   "outputs": [
    {
     "name": "stdout",
     "output_type": "stream",
     "text": [
      "36\n"
     ]
    }
   ],
   "source": [
    "count = len(df[df['Batch'].str.contains('NC')])\n",
    "print(count)"
   ]
  },
  {
   "cell_type": "code",
   "execution_count": 158,
   "metadata": {},
   "outputs": [
    {
     "data": {
      "text/plain": [
       "(                          20240219_Bleached_NC_  20240220_Bleached_NC_  \\\n",
       " 20240219_Bleached_NC_                     1.000                  0.110   \n",
       " 20240220_Bleached_NC_                     0.110                  1.000   \n",
       " 20240219_Bleached_w4_                     0.457                  0.764   \n",
       " 20240220_Bleached_W4_                     0.396                  0.034   \n",
       " 20240219_Bleached_KPduo_                  0.283                  0.755   \n",
       " 20240220_Bleached_KPduo_                  0.725                  0.172   \n",
       " \n",
       "                           20240219_Bleached_w4_  20240220_Bleached_W4_  \\\n",
       " 20240219_Bleached_NC_                     0.457                  0.396   \n",
       " 20240220_Bleached_NC_                     0.764                  0.034   \n",
       " 20240219_Bleached_w4_                     1.000                  0.143   \n",
       " 20240220_Bleached_W4_                     0.143                  1.000   \n",
       " 20240219_Bleached_KPduo_                  0.860                  0.070   \n",
       " 20240220_Bleached_KPduo_                  0.899                  0.261   \n",
       " \n",
       "                           20240219_Bleached_KPduo_  20240220_Bleached_KPduo_  \n",
       " 20240219_Bleached_NC_                        0.283                     0.725  \n",
       " 20240220_Bleached_NC_                        0.755                     0.172  \n",
       " 20240219_Bleached_w4_                        0.860                     0.899  \n",
       " 20240220_Bleached_W4_                        0.070                     0.261  \n",
       " 20240219_Bleached_KPduo_                     1.000                     0.302  \n",
       " 20240220_Bleached_KPduo_                     0.302                     1.000  ,\n",
       "                           20240219_Bleached_NC_  20240220_Bleached_NC_  \\\n",
       " 20240219_Bleached_NC_                     -1.00                  49.80   \n",
       " 20240220_Bleached_NC_                     49.80                  -1.00   \n",
       " 20240219_Bleached_w4_                     87.72               25648.88   \n",
       " 20240220_Bleached_W4_                    128.43                  24.65   \n",
       " 20240219_Bleached_KPduo_                  78.65                1829.59   \n",
       " 20240220_Bleached_KPduo_                 840.55                  74.68   \n",
       " \n",
       "                           20240219_Bleached_w4_  20240220_Bleached_W4_  \\\n",
       " 20240219_Bleached_NC_                     87.72                 128.43   \n",
       " 20240220_Bleached_NC_                  25648.88                  24.65   \n",
       " 20240219_Bleached_w4_                     -1.00                  37.85   \n",
       " 20240220_Bleached_W4_                     37.85                  -1.00   \n",
       " 20240219_Bleached_KPduo_                5617.90                  32.41   \n",
       " 20240220_Bleached_KPduo_                 138.22                  71.02   \n",
       " \n",
       "                           20240219_Bleached_KPduo_  20240220_Bleached_KPduo_  \n",
       " 20240219_Bleached_NC_                        78.65                    840.55  \n",
       " 20240220_Bleached_NC_                      1829.59                     74.68  \n",
       " 20240219_Bleached_w4_                      5617.90                    138.22  \n",
       " 20240220_Bleached_W4_                        32.41                     71.02  \n",
       " 20240219_Bleached_KPduo_                     -1.00                    133.48  \n",
       " 20240220_Bleached_KPduo_                    133.48                     -1.00  )"
      ]
     },
     "execution_count": 158,
     "metadata": {},
     "output_type": "execute_result"
    }
   ],
   "source": [
    "hp.get_pvalue_and_sample_size(df, 'Break stress')"
   ]
  }
 ],
 "metadata": {
  "kernelspec": {
   "display_name": "Python 3 (ipykernel)",
   "language": "python",
   "name": "python3"
  },
  "language_info": {
   "codemirror_mode": {
    "name": "ipython",
    "version": 3
   },
   "file_extension": ".py",
   "mimetype": "text/x-python",
   "name": "python",
   "nbconvert_exporter": "python",
   "pygments_lexer": "ipython3",
   "version": "3.9.18"
  }
 },
 "nbformat": 4,
 "nbformat_minor": 2
}
