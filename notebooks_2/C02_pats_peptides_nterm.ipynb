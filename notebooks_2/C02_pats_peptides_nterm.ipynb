{
 "cells": [
  {
   "attachments": {},
   "cell_type": "markdown",
   "metadata": {},
   "source": [
    "### Goal"
   ]
  },
  {
   "cell_type": "code",
   "execution_count": 1,
   "metadata": {},
   "outputs": [],
   "source": [
    "%load_ext autoreload\n",
    "%autoreload 2"
   ]
  },
  {
   "cell_type": "code",
   "execution_count": 2,
   "metadata": {},
   "outputs": [],
   "source": [
    "import os, sys\n",
    "import pandas as pd\n",
    "import numpy as np\n",
    "import math\n",
    "\n",
    "import matplotlib.pyplot as plt\n",
    "\n",
    "sys.path.append(\"../../data_analysis/\")\n",
    "import helper as hp"
   ]
  },
  {
   "cell_type": "code",
   "execution_count": 3,
   "metadata": {},
   "outputs": [],
   "source": [
    "savepath = \"C02_pats_peptides_nterm/\"\n",
    "os.makedirs(savepath, exist_ok=True)"
   ]
  },
  {
   "cell_type": "code",
   "execution_count": 4,
   "metadata": {},
   "outputs": [
    {
     "data": {
      "text/html": [
       "<div>\n",
       "<style scoped>\n",
       "    .dataframe tbody tr th:only-of-type {\n",
       "        vertical-align: middle;\n",
       "    }\n",
       "\n",
       "    .dataframe tbody tr th {\n",
       "        vertical-align: top;\n",
       "    }\n",
       "\n",
       "    .dataframe thead th {\n",
       "        text-align: right;\n",
       "    }\n",
       "</style>\n",
       "<table border=\"1\" class=\"dataframe\">\n",
       "  <thead>\n",
       "    <tr style=\"text-align: right;\">\n",
       "      <th></th>\n",
       "      <th>Peptide_Length</th>\n",
       "      <th>design</th>\n",
       "      <th>n</th>\n",
       "      <th>mpnn</th>\n",
       "      <th>plddt</th>\n",
       "      <th>i_ptm</th>\n",
       "      <th>i_pae</th>\n",
       "      <th>rmsd</th>\n",
       "      <th>seq</th>\n",
       "    </tr>\n",
       "  </thead>\n",
       "  <tbody>\n",
       "    <tr>\n",
       "      <th>0</th>\n",
       "      <td>30</td>\n",
       "      <td>42</td>\n",
       "      <td>1</td>\n",
       "      <td>1.509968</td>\n",
       "      <td>0.799638</td>\n",
       "      <td>0.808957</td>\n",
       "      <td>13.285571</td>\n",
       "      <td>2.820593</td>\n",
       "      <td>NMDCIIAEIKAQYDDIVTRSRAEAESWYRSKCEEMKATVIRHGETL...</td>\n",
       "    </tr>\n",
       "    <tr>\n",
       "      <th>1</th>\n",
       "      <td>25</td>\n",
       "      <td>23</td>\n",
       "      <td>0</td>\n",
       "      <td>1.432593</td>\n",
       "      <td>0.806934</td>\n",
       "      <td>0.820897</td>\n",
       "      <td>13.783701</td>\n",
       "      <td>3.276818</td>\n",
       "      <td>NMDCIIAEIKAQYDDIVTRSRAEAESWYRSKCEEMKATVIRHGETL...</td>\n",
       "    </tr>\n",
       "    <tr>\n",
       "      <th>2</th>\n",
       "      <td>12</td>\n",
       "      <td>2</td>\n",
       "      <td>0</td>\n",
       "      <td>1.348224</td>\n",
       "      <td>0.747796</td>\n",
       "      <td>0.804849</td>\n",
       "      <td>13.899733</td>\n",
       "      <td>3.665531</td>\n",
       "      <td>NMDCIIAEIKAQYDDIVTRSRAEAESWYRSKCEEMKATVIRHGETL...</td>\n",
       "    </tr>\n",
       "    <tr>\n",
       "      <th>3</th>\n",
       "      <td>30</td>\n",
       "      <td>19</td>\n",
       "      <td>1</td>\n",
       "      <td>1.435270</td>\n",
       "      <td>0.772499</td>\n",
       "      <td>0.779678</td>\n",
       "      <td>13.939157</td>\n",
       "      <td>3.340880</td>\n",
       "      <td>NMDCIIAEIKAQYDDIVTRSRAEAESWYRSKCEEMKATVIRHGETL...</td>\n",
       "    </tr>\n",
       "    <tr>\n",
       "      <th>4</th>\n",
       "      <td>30</td>\n",
       "      <td>42</td>\n",
       "      <td>0</td>\n",
       "      <td>1.455539</td>\n",
       "      <td>0.789172</td>\n",
       "      <td>0.785434</td>\n",
       "      <td>13.998190</td>\n",
       "      <td>3.168916</td>\n",
       "      <td>NMDCIIAEIKAQYDDIVTRSRAEAESWYRSKCEEMKATVIRHGETL...</td>\n",
       "    </tr>\n",
       "  </tbody>\n",
       "</table>\n",
       "</div>"
      ],
      "text/plain": [
       "   Peptide_Length  design  n      mpnn     plddt     i_ptm      i_pae  \\\n",
       "0              30      42  1  1.509968  0.799638  0.808957  13.285571   \n",
       "1              25      23  0  1.432593  0.806934  0.820897  13.783701   \n",
       "2              12       2  0  1.348224  0.747796  0.804849  13.899733   \n",
       "3              30      19  1  1.435270  0.772499  0.779678  13.939157   \n",
       "4              30      42  0  1.455539  0.789172  0.785434  13.998190   \n",
       "\n",
       "       rmsd                                                seq  \n",
       "0  2.820593  NMDCIIAEIKAQYDDIVTRSRAEAESWYRSKCEEMKATVIRHGETL...  \n",
       "1  3.276818  NMDCIIAEIKAQYDDIVTRSRAEAESWYRSKCEEMKATVIRHGETL...  \n",
       "2  3.665531  NMDCIIAEIKAQYDDIVTRSRAEAESWYRSKCEEMKATVIRHGETL...  \n",
       "3  3.340880  NMDCIIAEIKAQYDDIVTRSRAEAESWYRSKCEEMKATVIRHGETL...  \n",
       "4  3.168916  NMDCIIAEIKAQYDDIVTRSRAEAESWYRSKCEEMKATVIRHGETL...  "
      ]
     },
     "execution_count": 4,
     "metadata": {},
     "output_type": "execute_result"
    }
   ],
   "source": [
    "df = pd.read_excel(f\"{savepath}Keratin_New_Nterm.xlsx\")\n",
    "df.head(5)"
   ]
  },
  {
   "cell_type": "code",
   "execution_count": 5,
   "metadata": {},
   "outputs": [
    {
     "data": {
      "text/plain": [
       "1100"
      ]
     },
     "execution_count": 5,
     "metadata": {},
     "output_type": "execute_result"
    }
   ],
   "source": [
    "len(df)"
   ]
  },
  {
   "cell_type": "code",
   "execution_count": 6,
   "metadata": {},
   "outputs": [
    {
     "data": {
      "text/html": [
       "<div>\n",
       "<style scoped>\n",
       "    .dataframe tbody tr th:only-of-type {\n",
       "        vertical-align: middle;\n",
       "    }\n",
       "\n",
       "    .dataframe tbody tr th {\n",
       "        vertical-align: top;\n",
       "    }\n",
       "\n",
       "    .dataframe thead th {\n",
       "        text-align: right;\n",
       "    }\n",
       "</style>\n",
       "<table border=\"1\" class=\"dataframe\">\n",
       "  <thead>\n",
       "    <tr style=\"text-align: right;\">\n",
       "      <th></th>\n",
       "      <th>Peptide_Length</th>\n",
       "      <th>design</th>\n",
       "      <th>n</th>\n",
       "      <th>mpnn</th>\n",
       "      <th>plddt</th>\n",
       "      <th>i_ptm</th>\n",
       "      <th>i_pae</th>\n",
       "      <th>rmsd</th>\n",
       "      <th>seq</th>\n",
       "    </tr>\n",
       "  </thead>\n",
       "  <tbody>\n",
       "    <tr>\n",
       "      <th>1</th>\n",
       "      <td>25</td>\n",
       "      <td>23</td>\n",
       "      <td>0</td>\n",
       "      <td>1.432593</td>\n",
       "      <td>0.806934</td>\n",
       "      <td>0.820897</td>\n",
       "      <td>13.783701</td>\n",
       "      <td>3.276818</td>\n",
       "      <td>NMDCIIAEIKAQYDDIVTRSRAEAESWYRSKCEEMKATVIRHGETL...</td>\n",
       "    </tr>\n",
       "    <tr>\n",
       "      <th>0</th>\n",
       "      <td>30</td>\n",
       "      <td>42</td>\n",
       "      <td>1</td>\n",
       "      <td>1.509968</td>\n",
       "      <td>0.799638</td>\n",
       "      <td>0.808957</td>\n",
       "      <td>13.285571</td>\n",
       "      <td>2.820593</td>\n",
       "      <td>NMDCIIAEIKAQYDDIVTRSRAEAESWYRSKCEEMKATVIRHGETL...</td>\n",
       "    </tr>\n",
       "    <tr>\n",
       "      <th>8</th>\n",
       "      <td>30</td>\n",
       "      <td>35</td>\n",
       "      <td>0</td>\n",
       "      <td>1.325538</td>\n",
       "      <td>0.796992</td>\n",
       "      <td>0.778869</td>\n",
       "      <td>14.313870</td>\n",
       "      <td>4.351438</td>\n",
       "      <td>NMDCIIAEIKAQYDDIVTRSRAEAESWYRSKCEEMKATVIRHGETL...</td>\n",
       "    </tr>\n",
       "    <tr>\n",
       "      <th>9</th>\n",
       "      <td>30</td>\n",
       "      <td>2</td>\n",
       "      <td>0</td>\n",
       "      <td>1.431703</td>\n",
       "      <td>0.791420</td>\n",
       "      <td>0.764225</td>\n",
       "      <td>14.391456</td>\n",
       "      <td>3.705964</td>\n",
       "      <td>NMDCIIAEIKAQYDDIVTRSRAEAESWYRSKCEEMKATVIRHGETL...</td>\n",
       "    </tr>\n",
       "    <tr>\n",
       "      <th>4</th>\n",
       "      <td>30</td>\n",
       "      <td>42</td>\n",
       "      <td>0</td>\n",
       "      <td>1.455539</td>\n",
       "      <td>0.789172</td>\n",
       "      <td>0.785434</td>\n",
       "      <td>13.998190</td>\n",
       "      <td>3.168916</td>\n",
       "      <td>NMDCIIAEIKAQYDDIVTRSRAEAESWYRSKCEEMKATVIRHGETL...</td>\n",
       "    </tr>\n",
       "  </tbody>\n",
       "</table>\n",
       "</div>"
      ],
      "text/plain": [
       "   Peptide_Length  design  n      mpnn     plddt     i_ptm      i_pae  \\\n",
       "1              25      23  0  1.432593  0.806934  0.820897  13.783701   \n",
       "0              30      42  1  1.509968  0.799638  0.808957  13.285571   \n",
       "8              30      35  0  1.325538  0.796992  0.778869  14.313870   \n",
       "9              30       2  0  1.431703  0.791420  0.764225  14.391456   \n",
       "4              30      42  0  1.455539  0.789172  0.785434  13.998190   \n",
       "\n",
       "       rmsd                                                seq  \n",
       "1  3.276818  NMDCIIAEIKAQYDDIVTRSRAEAESWYRSKCEEMKATVIRHGETL...  \n",
       "0  2.820593  NMDCIIAEIKAQYDDIVTRSRAEAESWYRSKCEEMKATVIRHGETL...  \n",
       "8  4.351438  NMDCIIAEIKAQYDDIVTRSRAEAESWYRSKCEEMKATVIRHGETL...  \n",
       "9  3.705964  NMDCIIAEIKAQYDDIVTRSRAEAESWYRSKCEEMKATVIRHGETL...  \n",
       "4  3.168916  NMDCIIAEIKAQYDDIVTRSRAEAESWYRSKCEEMKATVIRHGETL...  "
      ]
     },
     "execution_count": 6,
     "metadata": {},
     "output_type": "execute_result"
    }
   ],
   "source": [
    "df_sorted = df.sort_values('plddt', ascending=False)\n",
    "df_sorted.head(5)"
   ]
  },
  {
   "cell_type": "code",
   "execution_count": 7,
   "metadata": {},
   "outputs": [
    {
     "data": {
      "text/plain": [
       "7"
      ]
     },
     "execution_count": 7,
     "metadata": {},
     "output_type": "execute_result"
    }
   ],
   "source": [
    "df_sorted_top = df_sorted.head(7)\n",
    "len(df_sorted_top)"
   ]
  },
  {
   "cell_type": "code",
   "execution_count": 8,
   "metadata": {},
   "outputs": [
    {
     "name": "stderr",
     "output_type": "stream",
     "text": [
      "/var/folders/_d/ms_z9zhx5s5f6s0nrt42m9ph0000gn/T/ipykernel_52570/2861460447.py:1: SettingWithCopyWarning: \n",
      "A value is trying to be set on a copy of a slice from a DataFrame.\n",
      "Try using .loc[row_indexer,col_indexer] = value instead\n",
      "\n",
      "See the caveats in the documentation: https://pandas.pydata.org/pandas-docs/stable/user_guide/indexing.html#returning-a-view-versus-a-copy\n",
      "  df_sorted_top['new_column'] = df_sorted_top['seq'].str.split('/').str[1]\n"
     ]
    },
    {
     "data": {
      "text/html": [
       "<div>\n",
       "<style scoped>\n",
       "    .dataframe tbody tr th:only-of-type {\n",
       "        vertical-align: middle;\n",
       "    }\n",
       "\n",
       "    .dataframe tbody tr th {\n",
       "        vertical-align: top;\n",
       "    }\n",
       "\n",
       "    .dataframe thead th {\n",
       "        text-align: right;\n",
       "    }\n",
       "</style>\n",
       "<table border=\"1\" class=\"dataframe\">\n",
       "  <thead>\n",
       "    <tr style=\"text-align: right;\">\n",
       "      <th></th>\n",
       "      <th>Peptide_Length</th>\n",
       "      <th>mpnn</th>\n",
       "      <th>plddt</th>\n",
       "      <th>i_ptm</th>\n",
       "      <th>i_pae</th>\n",
       "      <th>rmsd</th>\n",
       "      <th>new_column</th>\n",
       "    </tr>\n",
       "  </thead>\n",
       "  <tbody>\n",
       "    <tr>\n",
       "      <th>1</th>\n",
       "      <td>25</td>\n",
       "      <td>1.432593</td>\n",
       "      <td>0.806934</td>\n",
       "      <td>0.820897</td>\n",
       "      <td>13.783701</td>\n",
       "      <td>3.276818</td>\n",
       "      <td>SEMNELANESIAEMEAYARRVNEEL</td>\n",
       "    </tr>\n",
       "    <tr>\n",
       "      <th>0</th>\n",
       "      <td>30</td>\n",
       "      <td>1.509968</td>\n",
       "      <td>0.799638</td>\n",
       "      <td>0.808957</td>\n",
       "      <td>13.285571</td>\n",
       "      <td>2.820593</td>\n",
       "      <td>DDMNRKVNEAIAEMEEYAEEVLKELKEEVE</td>\n",
       "    </tr>\n",
       "    <tr>\n",
       "      <th>8</th>\n",
       "      <td>30</td>\n",
       "      <td>1.325538</td>\n",
       "      <td>0.796992</td>\n",
       "      <td>0.778869</td>\n",
       "      <td>14.313870</td>\n",
       "      <td>4.351438</td>\n",
       "      <td>HMMDEIIAKANEAIEEFEAYARAQLAELKA</td>\n",
       "    </tr>\n",
       "    <tr>\n",
       "      <th>9</th>\n",
       "      <td>30</td>\n",
       "      <td>1.431703</td>\n",
       "      <td>0.791420</td>\n",
       "      <td>0.764225</td>\n",
       "      <td>14.391456</td>\n",
       "      <td>3.705964</td>\n",
       "      <td>SSMMENAIALANEEIARFEAYAERVVAELK</td>\n",
       "    </tr>\n",
       "    <tr>\n",
       "      <th>4</th>\n",
       "      <td>30</td>\n",
       "      <td>1.455539</td>\n",
       "      <td>0.789172</td>\n",
       "      <td>0.785434</td>\n",
       "      <td>13.998190</td>\n",
       "      <td>3.168916</td>\n",
       "      <td>DEMNRLANEAIAEMEAYAAAQLEALKARVA</td>\n",
       "    </tr>\n",
       "  </tbody>\n",
       "</table>\n",
       "</div>"
      ],
      "text/plain": [
       "   Peptide_Length      mpnn     plddt     i_ptm      i_pae      rmsd  \\\n",
       "1              25  1.432593  0.806934  0.820897  13.783701  3.276818   \n",
       "0              30  1.509968  0.799638  0.808957  13.285571  2.820593   \n",
       "8              30  1.325538  0.796992  0.778869  14.313870  4.351438   \n",
       "9              30  1.431703  0.791420  0.764225  14.391456  3.705964   \n",
       "4              30  1.455539  0.789172  0.785434  13.998190  3.168916   \n",
       "\n",
       "                       new_column  \n",
       "1       SEMNELANESIAEMEAYARRVNEEL  \n",
       "0  DDMNRKVNEAIAEMEEYAEEVLKELKEEVE  \n",
       "8  HMMDEIIAKANEAIEEFEAYARAQLAELKA  \n",
       "9  SSMMENAIALANEEIARFEAYAERVVAELK  \n",
       "4  DEMNRLANEAIAEMEAYAAAQLEALKARVA  "
      ]
     },
     "execution_count": 8,
     "metadata": {},
     "output_type": "execute_result"
    }
   ],
   "source": [
    "df_sorted_top['new_column'] = df_sorted_top['seq'].str.split('/').str[1]\n",
    "df_sorted_top = df_sorted_top.drop(['seq', 'n', 'design'], axis=1)\n",
    "df_sorted_top.head(5)"
   ]
  },
  {
   "cell_type": "code",
   "execution_count": 9,
   "metadata": {},
   "outputs": [
    {
     "data": {
      "text/plain": [
       "7"
      ]
     },
     "execution_count": 9,
     "metadata": {},
     "output_type": "execute_result"
    }
   ],
   "source": [
    "all_peps = df_sorted_top['new_column'].tolist()\n",
    "len(all_peps)"
   ]
  },
  {
   "cell_type": "code",
   "execution_count": 10,
   "metadata": {},
   "outputs": [
    {
     "data": {
      "text/plain": [
       "7"
      ]
     },
     "execution_count": 10,
     "metadata": {},
     "output_type": "execute_result"
    }
   ],
   "source": [
    "all_peps = list(set(all_peps))\n",
    "len(all_peps)"
   ]
  },
  {
   "cell_type": "code",
   "execution_count": 11,
   "metadata": {},
   "outputs": [
    {
     "data": {
      "text/html": [
       "<div>\n",
       "<style scoped>\n",
       "    .dataframe tbody tr th:only-of-type {\n",
       "        vertical-align: middle;\n",
       "    }\n",
       "\n",
       "    .dataframe tbody tr th {\n",
       "        vertical-align: top;\n",
       "    }\n",
       "\n",
       "    .dataframe thead th {\n",
       "        text-align: right;\n",
       "    }\n",
       "</style>\n",
       "<table border=\"1\" class=\"dataframe\">\n",
       "  <thead>\n",
       "    <tr style=\"text-align: right;\">\n",
       "      <th></th>\n",
       "      <th>AA</th>\n",
       "    </tr>\n",
       "  </thead>\n",
       "  <tbody>\n",
       "    <tr>\n",
       "      <th>0</th>\n",
       "      <td>HMMDEIKKLANESIKEFEEYAEKVLEELKE</td>\n",
       "    </tr>\n",
       "    <tr>\n",
       "      <th>1</th>\n",
       "      <td>DEMNRLANEAIAEMEAYAAAQLEALKARVA</td>\n",
       "    </tr>\n",
       "    <tr>\n",
       "      <th>2</th>\n",
       "      <td>HMMDEIIAKANEAIEEFEAYARAQLAELKA</td>\n",
       "    </tr>\n",
       "    <tr>\n",
       "      <th>3</th>\n",
       "      <td>DDMNRKVNEAIAEMEEYAEEVLKELKEEVE</td>\n",
       "    </tr>\n",
       "    <tr>\n",
       "      <th>4</th>\n",
       "      <td>SEMNELANESIAEMEAYARRVNEEL</td>\n",
       "    </tr>\n",
       "  </tbody>\n",
       "</table>\n",
       "</div>"
      ],
      "text/plain": [
       "                               AA\n",
       "0  HMMDEIKKLANESIKEFEEYAEKVLEELKE\n",
       "1  DEMNRLANEAIAEMEAYAAAQLEALKARVA\n",
       "2  HMMDEIIAKANEAIEEFEAYARAQLAELKA\n",
       "3  DDMNRKVNEAIAEMEEYAEEVLKELKEEVE\n",
       "4       SEMNELANESIAEMEAYARRVNEEL"
      ]
     },
     "execution_count": 11,
     "metadata": {},
     "output_type": "execute_result"
    }
   ],
   "source": [
    "df_all_peps = pd.DataFrame({'AA': all_peps})\n",
    "df_all_peps.head(5)"
   ]
  },
  {
   "cell_type": "code",
   "execution_count": 12,
   "metadata": {},
   "outputs": [],
   "source": [
    "df_all_peps.to_csv(f\"{savepath}nterm_pat.csv\", index=False)"
   ]
  },
  {
   "cell_type": "code",
   "execution_count": 13,
   "metadata": {},
   "outputs": [
    {
     "data": {
      "text/plain": [
       "7"
      ]
     },
     "execution_count": 13,
     "metadata": {},
     "output_type": "execute_result"
    }
   ],
   "source": [
    "len(df_all_peps)"
   ]
  },
  {
   "cell_type": "code",
   "execution_count": null,
   "metadata": {},
   "outputs": [],
   "source": []
  }
 ],
 "metadata": {
  "kernelspec": {
   "display_name": "Python 3 (ipykernel)",
   "language": "python",
   "name": "python3"
  },
  "language_info": {
   "codemirror_mode": {
    "name": "ipython",
    "version": 3
   },
   "file_extension": ".py",
   "mimetype": "text/x-python",
   "name": "python",
   "nbconvert_exporter": "python",
   "pygments_lexer": "ipython3",
   "version": "3.9.18"
  }
 },
 "nbformat": 4,
 "nbformat_minor": 2
}
