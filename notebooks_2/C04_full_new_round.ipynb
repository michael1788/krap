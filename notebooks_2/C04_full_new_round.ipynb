{
 "cells": [
  {
   "attachments": {},
   "cell_type": "markdown",
   "metadata": {},
   "source": [
    "### Goal"
   ]
  },
  {
   "cell_type": "code",
   "execution_count": 1,
   "metadata": {},
   "outputs": [],
   "source": [
    "%load_ext autoreload\n",
    "%autoreload 2"
   ]
  },
  {
   "cell_type": "code",
   "execution_count": 2,
   "metadata": {},
   "outputs": [],
   "source": [
    "import os, sys\n",
    "import pandas as pd\n",
    "import numpy as np\n",
    "import math\n",
    "\n",
    "import matplotlib.pyplot as plt\n",
    "\n",
    "sys.path.append(\"../../data_analysis/\")\n",
    "import helper as hp"
   ]
  },
  {
   "cell_type": "code",
   "execution_count": 3,
   "metadata": {},
   "outputs": [],
   "source": [
    "savepath = \"C04_full_new_round/\"\n",
    "os.makedirs(savepath, exist_ok=True)"
   ]
  },
  {
   "cell_type": "code",
   "execution_count": 4,
   "metadata": {},
   "outputs": [],
   "source": [
    "all_seqs = []"
   ]
  },
  {
   "cell_type": "code",
   "execution_count": 5,
   "metadata": {},
   "outputs": [
    {
     "data": {
      "text/plain": [
       "46"
      ]
     },
     "execution_count": 5,
     "metadata": {},
     "output_type": "execute_result"
    }
   ],
   "source": [
    "df_esm1v = pd.read_csv(\"C01_elisa_extract_top_seq/esm1v.csv\")\n",
    "esm1v = df_esm1v[\"AA\"].to_list()\n",
    "all_seqs.extend(esm1v)\n",
    "len(all_seqs)"
   ]
  },
  {
   "cell_type": "code",
   "execution_count": 6,
   "metadata": {},
   "outputs": [
    {
     "data": {
      "text/plain": [
       "53"
      ]
     },
     "execution_count": 6,
     "metadata": {},
     "output_type": "execute_result"
    }
   ],
   "source": [
    "df_cterm = pd.read_csv(\"C02_pats_peptides/cterm_pat.csv\")\n",
    "cterm = df_cterm[\"AA\"].to_list()\n",
    "all_seqs.extend(cterm)\n",
    "len(all_seqs)"
   ]
  },
  {
   "cell_type": "code",
   "execution_count": 7,
   "metadata": {},
   "outputs": [
    {
     "data": {
      "text/plain": [
       "60"
      ]
     },
     "execution_count": 7,
     "metadata": {},
     "output_type": "execute_result"
    }
   ],
   "source": [
    "df_nterm = pd.read_csv(\"C02_pats_peptides_nterm/nterm_pat.csv\")\n",
    "nterm = df_nterm[\"AA\"].to_list()\n",
    "all_seqs.extend(nterm)\n",
    "len(all_seqs)"
   ]
  },
  {
   "cell_type": "code",
   "execution_count": 8,
   "metadata": {},
   "outputs": [
    {
     "data": {
      "text/plain": [
       "90"
      ]
     },
     "execution_count": 8,
     "metadata": {},
     "output_type": "execute_result"
    }
   ],
   "source": [
    "df_patent = pd.read_csv(\"C03_new_patent_extraction/new_patent.csv\")\n",
    "patent = df_patent[\"AA\"].to_list()\n",
    "all_seqs.extend(patent)\n",
    "len(all_seqs)"
   ]
  },
  {
   "cell_type": "code",
   "execution_count": 9,
   "metadata": {},
   "outputs": [
    {
     "data": {
      "text/plain": [
       "90"
      ]
     },
     "execution_count": 9,
     "metadata": {},
     "output_type": "execute_result"
    }
   ],
   "source": [
    "len(set(all_seqs))"
   ]
  },
  {
   "cell_type": "code",
   "execution_count": 10,
   "metadata": {},
   "outputs": [
    {
     "data": {
      "text/html": [
       "<div>\n",
       "<style scoped>\n",
       "    .dataframe tbody tr th:only-of-type {\n",
       "        vertical-align: middle;\n",
       "    }\n",
       "\n",
       "    .dataframe tbody tr th {\n",
       "        vertical-align: top;\n",
       "    }\n",
       "\n",
       "    .dataframe thead th {\n",
       "        text-align: right;\n",
       "    }\n",
       "</style>\n",
       "<table border=\"1\" class=\"dataframe\">\n",
       "  <thead>\n",
       "    <tr style=\"text-align: right;\">\n",
       "      <th></th>\n",
       "      <th>ID</th>\n",
       "      <th>Peptide</th>\n",
       "    </tr>\n",
       "  </thead>\n",
       "  <tbody>\n",
       "    <tr>\n",
       "      <th>0</th>\n",
       "      <td>seq0</td>\n",
       "      <td>CCQCCCLCCAFCCCCKCELCPK</td>\n",
       "    </tr>\n",
       "    <tr>\n",
       "      <th>1</th>\n",
       "      <td>seq1</td>\n",
       "      <td>ACQVQHCCCACCCYCCVCCFCC</td>\n",
       "    </tr>\n",
       "  </tbody>\n",
       "</table>\n",
       "</div>"
      ],
      "text/plain": [
       "     ID                 Peptide\n",
       "0  seq0  CCQCCCLCCAFCCCCKCELCPK\n",
       "1  seq1  ACQVQHCCCACCCYCCVCCFCC"
      ]
     },
     "execution_count": 10,
     "metadata": {},
     "output_type": "execute_result"
    }
   ],
   "source": [
    "all_ids = [f\"seq{i}\" for i in range(len(all_seqs))]\n",
    "assert len(all_ids) == len(set(all_seqs))\n",
    "\n",
    "df_to_opti = pd.DataFrame({'ID': all_ids, 'Peptide': all_seqs})\n",
    "df_to_opti.head(2)"
   ]
  },
  {
   "cell_type": "code",
   "execution_count": 11,
   "metadata": {},
   "outputs": [],
   "source": [
    "df_to_opti.to_csv(f'{savepath}df_to_opti.csv', sep='\\t', index=False)"
   ]
  },
  {
   "cell_type": "markdown",
   "metadata": {},
   "source": [
    "IDT"
   ]
  },
  {
   "cell_type": "code",
   "execution_count": 12,
   "metadata": {},
   "outputs": [
    {
     "data": {
      "text/plain": [
       "90"
      ]
     },
     "execution_count": 12,
     "metadata": {},
     "output_type": "execute_result"
    }
   ],
   "source": [
    "d_idt = {\n",
    "    1: \"TGTTGCCAGTGTTGTTGTCTGTGCTGTGCCTTCTGCTGCTGTTGCAAATGCGAATTATGTCCTAAA\",\n",
    "    2: \"GCTTGCCAGGTGCAACATTGCTGCTGTGCCTGTTGTTGCTACTGTTGCGTGTGTTGCTTCTGTTGC\",\n",
    "    3: \"GCGTGCCAAGTACAACACTGTTGCTGTTGCTGTTGCTGTTATTGCTGTGTCTGCTGCTTCTGCTGT\",\n",
    "    4: \"CAGGGTTGTGTGTGTTGCCTGTGTTGTTGCTGCTGCTGCTGTAAATGCGTCGAATGTTTTTGCAAG\",\n",
    "    5: \"TGCTGCCAGTGCTGTTGTCTGTGCTGCTGTTTCTGTTGTTGTTGCTGCTGTGAACTTTTTCCGAAA\",\n",
    "    6: \"TGCGGCTGTGTTTGCCATTTGTGCTGTTGTTGTTGTTGCTGCAAATGCGTGGAATGCTTTTGCAAA\",\n",
    "    7: \"TGTGGGTGCGTGTGTCATTGTTGCTGCTGTTGCTGCTGTTGCAAGTGCGTTGAATGTTTTTGCAAG\",\n",
    "    8: \"TGCTGCCAATGCTGCTGCTTGTGTTGCGCCTTTTGTTGTTGCTGTTGTTGCTGCTTGTTCCCAAAG\",\n",
    "    9: \"GCGTGTCAGGTCCAACACTGCTGTTGTTGCTTTTGCTGTTATTGTTGCTGCTGCTGCTTCTGCTGC\",\n",
    "    10: \"CAGGGCTGTGTATGCTGCTTATGTTGTTGTTGCTGCTGCTGCTGTTGTGTGGAATGTTTTTGCAAG\",\n",
    "    11: \"GCTTGTCAAGTCCAACATTGCTGCTGTTGCTTCTGCTGTTGTTGCTGTGTATGCTGTTTCTGCTGC\",\n",
    "    12: \"TGTTGCTGTTGTTGCTGCTTATGTTGCTGCTTTTGTTGCTGTTGCAAGTGCGAGTTGTTTCCTAAG\",\n",
    "    13: \"GCTTGTCAGGTTCAGCATTGCTGTTGTGCATTTTGTTGCTATTGTTGTTGTTGTTGTTTTTGCTGC\",\n",
    "    14: \"CAAGGCTGCGTCTGCCATTTATGCTGTTGTTGTTGTTGTTGTTGCTGTGTGGAATGTTTCTGTAAG\",\n",
    "    15: \"CAAGGCTGCGTATGCTGTTGCTGCTGCTGCTGTTGTTGCTGCAAGTGTGTAGAGTGCTTTTGTAAA\",\n",
    "    16: \"TGTGGATGCGTTTGCCATTTATGCTGCTGCTGCTGTTGTTGCAAATGCGTTTGTTGCTTTTGCAAA\",\n",
    "    17: \"TGCTGCCAGGTGCAACATTGCTGCTGTGCTTGTTGTTGCTACTGCTGCGTATGTTGTTTCTGTTGT\",\n",
    "    18: \"TGTTGTTGTTGTTGCTGTTTATGCTGTGCCTTCTGTTGTTGTTGCAAATGTGAATTATTCCCAAAG\",\n",
    "    19: \"CAGGGATGCGTGTGCTGCCTGTGCTGCTGCTGCTGTTGTTGCAAGTGTGTTTGCTGCTTCTGCAAG\",\n",
    "    20: \"TGCTGTTGCTGCTGTTGCCTGTGCTGTGCTTTCTGTTGTTGCTGCTGTTGCGAACTGTTCCCTAAA\",\n",
    "    21: \"TGTTGCCAATGTTGCTGTCTGTGCTGTTGCTTCTGTTGCTGCTGCAAGTGTGAGTTATGTCCTAAG\",\n",
    "    22: \"GCCTGCCAGGTTCAGCACTGTTGCTGCGCCTGCTGTTGCTATTGTTGCTGCTGCTGTTTTTGCTGC\",\n",
    "    23: \"GCATGTCAAGTTCAGCACTGTTGCTGTGCGTTCTGTTGCTGTTGTTGCTGCTGCTGTTTTTGTTGT\",\n",
    "    24: \"GCATGTCAAGTTCAGCACTGTTGCTGTGCATGTTGCTGTTGCTGCTGTGTTTGCTGCTTTTGCTGT\",\n",
    "    25: \"CAAGGGTGTGTTTGTCATTTATGCTGCTGTTGTTGCTGCTGTAAATGCGTCTGTTGCTTTTGTAAG\",\n",
    "    26: \"TGTTGCCAGTGCTGTTGTCTGTGCTGTGCCTTCTGTTGCTGTTGTAAATGCTGTTTATTTCCGAAG\",\n",
    "    27: \"TGTGGGTGTGTATGCTGCTTGTGCTGTTGTTGTTGCTGTTGCAAATGTGTTGAATGTTTCTGCAAG\",\n",
    "    28: \"TGCGGACAAGTTTGTTGTTGTCAGGCATGTTTTTCTTGCTGCTGCTGTTGCTGCTTGTTCTGTAAA\",\n",
    "    29: \"TGCTGCCAATGTTGTTGCTTATGCTGTGCCTTCTGCTGCTGTTGCTGTTGTGAGCTTTTCCCCAAG\",\n",
    "    30: \"CAGGGTTGTGTATGCCATTGCTGTTGTTGCTGCTGTTGCTGTTGTTGCGTGGAATGCTTCTGTAAG\",\n",
    "    31: \"TGTTGCCAGGTGCAGCACTGCTGCTGTGCGTTTTGTTGCTGCTGTTGCGTGTGTTGCTTTTGTTGT\",\n",
    "    32: \"TGTGGATGCGTTTGTCATTTGTGCTGCTGTTGCTGTTGCTGCTGCTGTGTAGAGTGTTTTTGTAAA\",\n",
    "    33: \"TGCTGTCAGTGTTGTTGCTTGTGCTGCTGTTTCTGCTGTTGCTGTAAATGCGAGCTGTTTCCTAAG\",\n",
    "    34: \"CAGGGTTGCGTCTGTCACTGCTGCTGCTGTTGCTGCTGCTGTAAGTGCGTATGCTGTTTTTGCAAG\",\n",
    "    35: \"TGCTGCCAGTGTTGTTGCCTGTGTTGTGCTTTTTGCTGTTGCTGCAAGTGCTGCCTGTGTCCTAAG\",\n",
    "    36: \"CAAGGATGCGTGTGTCACCTGTGCTGTTGCTGCTGTTGCTGTTGCTGCGTCTGCTGCTTTTGCAAG\",\n",
    "    37: \"GCCTGTCAAGTCCAGCATTGCTGTTGCTGCTTCTGCTGTTACTGCTGCGTCTGCTGCTTCTGTTGT\",\n",
    "    38: \"TGTTGCCAGGTGCAGCATTGCTGTTGCGCGTTTTGTTGTTATTGTTGTTGTTGTTGCTTCTGCTGT\",\n",
    "    39: \"TGTTGCCAGGTACAACATTGTTGTTGTTGTTTCTGCTGTTACTGCTGTGTATGCTGTTTTTGCTGT\",\n",
    "    40: \"TGTTGCCAATGCTGCTGTCTGTGTTGCGCCTTTTGTTGTTGTTGTTGTTGTGAACTGTGCCCCAAG\",\n",
    "    41: \"GCTTGCCAGGTCCAACATTGTTGCTGTGCCTTCTGCTGTTGTTGTTGCGTTTGTTGCTTTTGCTGT\",\n",
    "    42: \"TGTTGTCAGGTCCAGCATTGCTGTTGCGCCTTTTGCTGTTACTGTTGTGTTTGTTGTTTTTGTTGC\",\n",
    "    43: \"TGTTGTTGTTGTTGCTGTCTTTGTTGTGCGTTTTGTTGTTGCTGTAAGTGCTGTTTGTTTCCAAAA\",\n",
    "    44: \"CAAGGTTGTGTCTGTCACTGTTGTTGCTGTTGTTGTTGCTGCAAATGCGTAGAATGTTTCTGTAAA\",\n",
    "    45: \"TGCTGTTGCTGCTGCTGCCTGTGCTGCGCTTTTTGTTGTTGTTGCAAGTGCGAATTATGCCCCAAG\",\n",
    "    46: \"TGTTGTCAATGTTGCTGCCTGTGTTGCTGCTTTTGCTGCTGTTGTAAATGCTGTCTGTTTCCAAAA\",\n",
    "    47: \"AGTTTGGAAGAGTTGTTCGAGCGTAATCGCCGCTTAAAGGAGGAATTA\",\n",
    "    48: \"AGTGAGTTTGTAGAGATGTTTCAGCGCATCCGCGAACTTCGTGAA\",\n",
    "    49: \"TCTTTATCAGAGCTTTTTGAGCGTAATCGTGAATTAAAGGAACGCCTT\",\n",
    "    50: \"TCTGATTTAGCCGCACTGTTTCAGCGTGTCCAAGAGCTTAAAGAA\",\n",
    "    51: \"GGAGAAATCGTGGAACTTTACAAACGCGTACAAGAACTGAAAGAGAAATTA\",\n",
    "    52: \"TCGCTGGTCAGCTTATATGAACGTGTGCAGCGTTTAAAGGAAGAGTTG\",\n",
    "    53: \"AGTCTGGTGGAATTGTTCAAACGCGTGCAAGAGCTTAAAGAGAAA\",\n",
    "    54: \"CACATGATGGATGAGATTAAGAAACTTGCTAACGAGTCGATTAAGGAGTTTGAGGAATACGCGGAAAAAGTACTGGAAGAATTAAAAGAG\",\n",
    "    55: \"GATGAAATGAATCGCCTTGCAAATGAAGCAATCGCAGAGATGGAGGCATACGCAGCTGCTCAGCTTGAAGCGCTGAAAGCACGTGTTGCA\",\n",
    "    56: \"CATATGATGGACGAAATTATCGCTAAGGCCAATGAGGCAATCGAGGAATTCGAGGCTTACGCGCGCGCACAGTTAGCAGAATTGAAAGCT\",\n",
    "    57: \"GATGACATGAATCGCAAGGTAAATGAGGCTATCGCTGAGATGGAGGAGTATGCAGAAGAAGTCCTTAAAGAGTTGAAAGAGGAAGTAGAG\",\n",
    "    58: \"AGTGAGATGAATGAGTTAGCGAATGAATCCATTGCGGAAATGGAAGCGTACGCACGCCGCGTTAATGAAGAACTT\",\n",
    "    59: \"TCATCCCTTATGGAGGAGATTCGTGCCTTAGCCAAAGCAGAAGTAGCCGAATTTGAGGCAGAAGTTGAGAAACGCCTGGCGGAGATGAAG\",\n",
    "    60: \"TCATCGATGATGGAAAATGCGATTGCTTTGGCTAACGAAGAGATTGCGCGCTTTGAGGCGTACGCTGAGCGCGTCGTTGCGGAGTTAAAG\",\n",
    "    61: \"CAGGGACAGGTTCAACACTTGCAAGCGTGCTTCTCCGCCTATAAGAAGGTGGAACTGTTTCCGAAG\",\n",
    "    62: \"CAAGGTCAGTGCTGTTGTTTGCAATGCGCTTGCTGTCAATACTGCAAGTGTGAGTGCTTTCCTTGC\",\n",
    "    63: \"TGTGCTTGTTGCCAAGCTTGTTGCGCTTGTTTCAGTTGCGCAAAATGCGCTGAGTGTTTTTGCAAG\",\n",
    "    64: \"TGTGGGCAAGTATGTCACCTTCAGTGTGCATTTTCGGGCTATAAGAAGTGCGAATTATTTCCCAAATGT\",\n",
    "    65: \"TGTGGGCAGTGCTGTCATTTACAATGTTGTTTCTGTCAATACAAAAAATGTGAGCTGTTTCCAAAGTGT\",\n",
    "    66: \"TGCTGTTGCGTTTGCTGTTGCCAAGCTGCTTGCAGCGCGTATTGCTGCTGCTGTGCCTGTCCAAAG\",\n",
    "    67: \"CAGTGTTGCGTGTGTTGCGCACAAGCATGCTTCTGTCAATATAAAAAATGCGAATGTTGCTGTGCA\",\n",
    "    68: \"TGCGGGTGTGTGCAGCACTGCCAAGCAGCTTTCTGTCAGTACGCAAAAGTTTGCCTGTTTGCTAAA\",\n",
    "    69: \"CAGGGGTGCTGCTGTCACTGCCAATGTGCGTTTTGTCAATACTGTGCCTGTGAGCTGTGCCCCAAG\",\n",
    "    70: \"CAATGTCAGGTTCAGCACTTACAGGCTGCGTTCTGCCAGTGCAAGTGCTGTGAGCTGTGCCCCAAA\",\n",
    "    71: \"CAGGGACAGTGTCAACATTGTCAAGCCGCCTTTTCTCAGGCATGTAAAGCGGAGTTGTTTCCAAAG\",\n",
    "    72: \"CAGGGATGTTGCCAACATTTATGTGCAGCGTTCAGCCAGTATAAGTGCGTCGAATTATTCCCCAAA\",\n",
    "    73: \"CAAGGGCAGGTTCAGCACTGTTGTGCTGCGTTTTCACAGTACAAGAAGGTTGAGCTGTTTCCAAAG\",\n",
    "    74: \"CAGGGTTGTGTCGCGTGCTTGCAATGTGCGTTTTCGCAGTACAAAAAATGTGCTGCGTGCCCTTGT\",\n",
    "    75: \"CAGGCTTGCGCCCAATGCCTGTGCGCCGCTTTTTCACAGTATGCTAAGGTGGAGCTGTTCCCTAAA\",\n",
    "    76: \"CAGGCACAAGTACAACACTTACAAGCGGCGTTCAGTCAATGCTGCTGTGTTGAATTGTTTTGCAAA\",\n",
    "    77: \"TGCTGTCAGTGCTGTCACTGCCAGTGTTGCTTTTCTCAATACTGCAAAGTGTGCTGTTTTCCAAAA\",\n",
    "    78: \"CAAGGCCAAGTACAACACTTATGTGCGTGCTGCTCTTGTTACAAGAAGGTCTGTTGTTGCTGCTGC\",\n",
    "    79: \"TGCGGTCAAGTTTGCCACTTACAGTGCGCATTCAGCCAATACAAAAAATGCGAGTTATTTCCCAAATGT\",\n",
    "    80: \"TGCGGCGCAGTTCAGTGTTGCTGTGCGTGCTTCTGCTGCTGTGCCAAAGTAGAATGCTTTTGTGCT\",\n",
    "    81: \"CAGTGTCAGTGTCAGTGCCTTCAGGCAGCTTTTTGTTGTTATTGCAAGGTCGAGTTGTGTCCAAAG\",\n",
    "    82: \"CAAGCCTGCGTACAACACTGCCAATGTTGCTTCTGCCAGGCCAAAGCGGTAGAGCTTTGTCCGAAG\",\n",
    "    83: \"TGCCAGGGACAAGTGCAGCACTTACAAGCCGCATTCAGCCAGTACAAAAAGTGCGAATTGTTTCCTAAGTGC\",\n",
    "    84: \"TGCTGTCAAGTCCAGTGTTGTTGTGCCGCGTGCTGTCAGTATTGCAAGGTCGAATGTTTCCCTAAA\",\n",
    "    85: \"CAAGCGTGTGTCCAAGCATTGGCAGCATGTTTCAGTCAATGCAAGTGCGTCTGTCTGTGTCCATGC\",\n",
    "    86: \"TGTGGTTGCTGTTGCCACCTGTGTTGCTGTTTCTGTTGCTACAAAAAGTGCGAATTATTCCCTAAATGC\",\n",
    "    87: \"CAGGGTCAGGTCCAATGCCTGTGTTGTTGCTGCTCTCAATACAAAAAGGTAGAATGCTTTCCCAAG\",\n",
    "    88: \"CAAGGTCAGGTACAGTGTTGCCAAGCGGCCTGCTCCCAGTATAAGAAAGTTGAATTGTTTCCCTGT\",\n",
    "    89: \"CAAGGATGCGTCCAGTGTCTGCAATGTGCCTGTTGTGCCTGCAAATGTTGCTGCTTGTTCTGTGCT\",\n",
    "    90: \"TGCGGATGTTGTGCTGCGCTGTGCGCCTGTTGCTCCTGTTATAAGAAAGCTTGCTGCTTTCCAGCA\",\n",
    "}\n",
    "\n",
    "len(d_idt)"
   ]
  },
  {
   "cell_type": "code",
   "execution_count": 13,
   "metadata": {},
   "outputs": [
    {
     "data": {
      "text/plain": [
       "90"
      ]
     },
     "execution_count": 13,
     "metadata": {},
     "output_type": "execute_result"
    }
   ],
   "source": [
    "from Bio.Seq import Seq\n",
    "\n",
    "aa_seq_check = []\n",
    "for key, value in d_idt.items():\n",
    "    dna_sequence = Seq(value)\n",
    "    amino_acid_sequence = dna_sequence.translate()\n",
    "    aa_seq_check.append(str(amino_acid_sequence))\n",
    "\n",
    "len(aa_seq_check)\n"
   ]
  },
  {
   "cell_type": "code",
   "execution_count": 14,
   "metadata": {},
   "outputs": [
    {
     "data": {
      "text/plain": [
       "90"
      ]
     },
     "execution_count": 14,
     "metadata": {},
     "output_type": "execute_result"
    }
   ],
   "source": [
    "ok=0\n",
    "for seq in aa_seq_check:\n",
    "    if seq  in all_seqs:\n",
    "        ok+=1\n",
    "ok"
   ]
  },
  {
   "cell_type": "code",
   "execution_count": 15,
   "metadata": {},
   "outputs": [],
   "source": [
    "assert ok==len(aa_seq_check)"
   ]
  },
  {
   "cell_type": "code",
   "execution_count": 16,
   "metadata": {},
   "outputs": [
    {
     "data": {
      "text/plain": [
       "(206, 93)"
      ]
     },
     "execution_count": 16,
     "metadata": {},
     "output_type": "execute_result"
    }
   ],
   "source": [
    "front = \"GCGAATTAATACGACTCACTATAGGGAGACCACAACGGTTTCCCTCTAGAAATAATTTTGTTTAACTTTAAGAAGGAGATATACATATGAAAATCGAAGAAGATTACAAGGATCACGATGGAGACTATAAGGATCACGACATCGATTACAAAGACGATGACGACAAATCAGGCCATCACCATCATCATCATCATCACTCGTCAGGC\"\n",
    "end = \"TAGTAGTAAGGAGGATCCCGGGAATTCTCGAGTAAGGTTAACCTGCTAGCATAACCCCTTGGGGCCTCTAAACGGGTCTTGAGGGGTTTTTTG\"\n",
    "len(front), len(end)"
   ]
  },
  {
   "cell_type": "code",
   "execution_count": 17,
   "metadata": {},
   "outputs": [
    {
     "data": {
      "text/plain": [
       "90"
      ]
     },
     "execution_count": 17,
     "metadata": {},
     "output_type": "execute_result"
    }
   ],
   "source": [
    "d_final_seqs = {}\n",
    "for key, value in d_idt.items():\n",
    "    dna_sequence = front + value + end\n",
    "    d_final_seqs[key] = dna_sequence\n",
    "len(d_final_seqs)"
   ]
  },
  {
   "cell_type": "code",
   "execution_count": 18,
   "metadata": {},
   "outputs": [
    {
     "data": {
      "text/html": [
       "<div>\n",
       "<style scoped>\n",
       "    .dataframe tbody tr th:only-of-type {\n",
       "        vertical-align: middle;\n",
       "    }\n",
       "\n",
       "    .dataframe tbody tr th {\n",
       "        vertical-align: top;\n",
       "    }\n",
       "\n",
       "    .dataframe thead th {\n",
       "        text-align: right;\n",
       "    }\n",
       "</style>\n",
       "<table border=\"1\" class=\"dataframe\">\n",
       "  <thead>\n",
       "    <tr style=\"text-align: right;\">\n",
       "      <th></th>\n",
       "      <th>Sequence</th>\n",
       "    </tr>\n",
       "  </thead>\n",
       "  <tbody>\n",
       "    <tr>\n",
       "      <th>1</th>\n",
       "      <td>GCGAATTAATACGACTCACTATAGGGAGACCACAACGGTTTCCCTC...</td>\n",
       "    </tr>\n",
       "    <tr>\n",
       "      <th>2</th>\n",
       "      <td>GCGAATTAATACGACTCACTATAGGGAGACCACAACGGTTTCCCTC...</td>\n",
       "    </tr>\n",
       "  </tbody>\n",
       "</table>\n",
       "</div>"
      ],
      "text/plain": [
       "                                            Sequence\n",
       "1  GCGAATTAATACGACTCACTATAGGGAGACCACAACGGTTTCCCTC...\n",
       "2  GCGAATTAATACGACTCACTATAGGGAGACCACAACGGTTTCCCTC..."
      ]
     },
     "execution_count": 18,
     "metadata": {},
     "output_type": "execute_result"
    }
   ],
   "source": [
    "df_final_seqs = pd.DataFrame.from_dict(d_final_seqs, orient='index', columns=['Sequence'])\n",
    "df_final_seqs.head(2)"
   ]
  },
  {
   "cell_type": "code",
   "execution_count": 19,
   "metadata": {},
   "outputs": [
    {
     "data": {
      "text/plain": [
       "90"
      ]
     },
     "execution_count": 19,
     "metadata": {},
     "output_type": "execute_result"
    }
   ],
   "source": [
    "len(d_final_seqs)"
   ]
  },
  {
   "cell_type": "code",
   "execution_count": 20,
   "metadata": {},
   "outputs": [],
   "source": [
    "df_final_seqs.to_csv(f'{savepath}ml_patent.csv', index_label='ID')"
   ]
  },
  {
   "cell_type": "code",
   "execution_count": null,
   "metadata": {},
   "outputs": [],
   "source": []
  }
 ],
 "metadata": {
  "kernelspec": {
   "display_name": "Python 3 (ipykernel)",
   "language": "python",
   "name": "python3"
  },
  "language_info": {
   "codemirror_mode": {
    "name": "ipython",
    "version": 3
   },
   "file_extension": ".py",
   "mimetype": "text/x-python",
   "name": "python",
   "nbconvert_exporter": "python",
   "pygments_lexer": "ipython3",
   "version": "3.9.18"
  }
 },
 "nbformat": 4,
 "nbformat_minor": 2
}
