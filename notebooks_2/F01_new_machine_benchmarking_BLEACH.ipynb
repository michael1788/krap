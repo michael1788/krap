{
 "cells": [
  {
   "attachments": {},
   "cell_type": "markdown",
   "metadata": {},
   "source": [
    "### Goal"
   ]
  },
  {
   "cell_type": "code",
   "execution_count": 1,
   "metadata": {
    "metadata": {}
   },
   "outputs": [],
   "source": [
    "%load_ext autoreload\n",
    "%autoreload 2"
   ]
  },
  {
   "cell_type": "code",
   "execution_count": 2,
   "metadata": {
    "metadata": {}
   },
   "outputs": [],
   "source": [
    "import os, sys\n",
    "import pandas as pd\n",
    "import numpy as np\n",
    "import math\n",
    "\n",
    "import rdkit \n",
    "\n",
    "import matplotlib.pyplot as plt\n",
    "\n",
    "sys.path.append(\"../../data_analysis/\")\n",
    "import helper as hp"
   ]
  },
  {
   "cell_type": "code",
   "execution_count": 3,
   "metadata": {
    "metadata": {}
   },
   "outputs": [],
   "source": [
    "savepath = \"F01_new_machine_benchmarking/\"\n",
    "os.makedirs(savepath, exist_ok=True)"
   ]
  },
  {
   "cell_type": "code",
   "execution_count": 4,
   "metadata": {
    "metadata": {}
   },
   "outputs": [
    {
     "data": {
      "text/html": [
       "<div>\n",
       "<style scoped>\n",
       "    .dataframe tbody tr th:only-of-type {\n",
       "        vertical-align: middle;\n",
       "    }\n",
       "\n",
       "    .dataframe tbody tr th {\n",
       "        vertical-align: top;\n",
       "    }\n",
       "\n",
       "    .dataframe thead th {\n",
       "        text-align: right;\n",
       "    }\n",
       "</style>\n",
       "<table border=\"1\" class=\"dataframe\">\n",
       "  <thead>\n",
       "    <tr style=\"text-align: right;\">\n",
       "      <th></th>\n",
       "      <th>RECORD</th>\n",
       "      <th>CROSS-SECTIONAL AREA</th>\n",
       "      <th>Unnamed: 2</th>\n",
       "      <th>MEAN DIAMETER</th>\n",
       "      <th>MAX DIAMETER</th>\n",
       "      <th>MIN DIAMETER</th>\n",
       "      <th>ELASTIC EMOD</th>\n",
       "      <th>ELASTIC GRADIENT</th>\n",
       "      <th>ELASTIC EXT</th>\n",
       "      <th>ELASTIC STRESS</th>\n",
       "      <th>...</th>\n",
       "      <th>STRESS 25%</th>\n",
       "      <th>WORK 25%</th>\n",
       "      <th>YIELD EXT</th>\n",
       "      <th>POSTYIELD GRADIENT</th>\n",
       "      <th>BREAK EXT</th>\n",
       "      <th>BREAK LOAD</th>\n",
       "      <th>BREAK STRESS</th>\n",
       "      <th>BREAK STRESS.1</th>\n",
       "      <th>TOTAL WORK</th>\n",
       "      <th>TOUGHNESS</th>\n",
       "    </tr>\n",
       "  </thead>\n",
       "  <tbody>\n",
       "    <tr>\n",
       "      <th>0</th>\n",
       "      <td>NaN</td>\n",
       "      <td>NaN</td>\n",
       "      <td>NaN</td>\n",
       "      <td>NaN</td>\n",
       "      <td>NaN</td>\n",
       "      <td>NaN</td>\n",
       "      <td>NaN</td>\n",
       "      <td>NaN</td>\n",
       "      <td>NaN</td>\n",
       "      <td>NaN</td>\n",
       "      <td>...</td>\n",
       "      <td>NaN</td>\n",
       "      <td>NaN</td>\n",
       "      <td>NaN</td>\n",
       "      <td>NaN</td>\n",
       "      <td>NaN</td>\n",
       "      <td>NaN</td>\n",
       "      <td>NaN</td>\n",
       "      <td>NaN</td>\n",
       "      <td>NaN</td>\n",
       "      <td>NaN</td>\n",
       "    </tr>\n",
       "    <tr>\n",
       "      <th>1</th>\n",
       "      <td>NaN</td>\n",
       "      <td>sq. microns</td>\n",
       "      <td>NaN</td>\n",
       "      <td>Microns</td>\n",
       "      <td>Microns</td>\n",
       "      <td>Microns</td>\n",
       "      <td>Pascals</td>\n",
       "      <td>gmf/mm</td>\n",
       "      <td>% Strain</td>\n",
       "      <td>gmf/sq micron</td>\n",
       "      <td>...</td>\n",
       "      <td>gmf/sq micron</td>\n",
       "      <td>Joules</td>\n",
       "      <td>% Strain</td>\n",
       "      <td>gmf/mm</td>\n",
       "      <td>% Strain</td>\n",
       "      <td>gmf</td>\n",
       "      <td>gmf/sq micron</td>\n",
       "      <td>MPa</td>\n",
       "      <td>Joules</td>\n",
       "      <td>Joules/m3</td>\n",
       "    </tr>\n",
       "    <tr>\n",
       "      <th>2</th>\n",
       "      <td>1</td>\n",
       "      <td>2927.5</td>\n",
       "      <td>0.002927</td>\n",
       "      <td>61.4</td>\n",
       "      <td>67.2</td>\n",
       "      <td>55.5</td>\n",
       "      <td>3768000000</td>\n",
       "      <td>37.26</td>\n",
       "      <td>2.58</td>\n",
       "      <td>0.01059</td>\n",
       "      <td>...</td>\n",
       "      <td>0.01308</td>\n",
       "      <td>0.00252</td>\n",
       "      <td>36.18</td>\n",
       "      <td>2.121</td>\n",
       "      <td>69.81</td>\n",
       "      <td>69.35</td>\n",
       "      <td>0.02369</td>\n",
       "      <td>232.319538</td>\n",
       "      <td>0.009855</td>\n",
       "      <td>111500000</td>\n",
       "    </tr>\n",
       "  </tbody>\n",
       "</table>\n",
       "<p>3 rows × 26 columns</p>\n",
       "</div>"
      ],
      "text/plain": [
       "  RECORD CROSS-SECTIONAL AREA  Unnamed: 2 MEAN DIAMETER MAX DIAMETER  \\\n",
       "0    NaN                  NaN         NaN           NaN          NaN   \n",
       "1    NaN          sq. microns         NaN       Microns      Microns   \n",
       "2      1               2927.5    0.002927          61.4         67.2   \n",
       "\n",
       "  MIN DIAMETER ELASTIC EMOD ELASTIC GRADIENT ELASTIC EXT ELASTIC STRESS  ...  \\\n",
       "0          NaN          NaN              NaN         NaN            NaN  ...   \n",
       "1      Microns      Pascals           gmf/mm    % Strain  gmf/sq micron  ...   \n",
       "2         55.5   3768000000            37.26        2.58        0.01059  ...   \n",
       "\n",
       "      STRESS 25% WORK 25% YIELD EXT POSTYIELD GRADIENT BREAK EXT BREAK LOAD  \\\n",
       "0            NaN      NaN       NaN                NaN       NaN        NaN   \n",
       "1  gmf/sq micron   Joules  % Strain             gmf/mm  % Strain        gmf   \n",
       "2        0.01308  0.00252     36.18              2.121     69.81      69.35   \n",
       "\n",
       "    BREAK STRESS BREAK STRESS.1 TOTAL WORK  TOUGHNESS  \n",
       "0            NaN            NaN        NaN        NaN  \n",
       "1  gmf/sq micron            MPa     Joules  Joules/m3  \n",
       "2        0.02369     232.319538   0.009855  111500000  \n",
       "\n",
       "[3 rows x 26 columns]"
      ]
     },
     "execution_count": 4,
     "metadata": {},
     "output_type": "execute_result"
    }
   ],
   "source": [
    "df = pd.read_excel(\"/Users/michaelmoret/tinyverse/krap/data/pulling_new_machine_benchmark/20240910_DAN_NK_bleached_100hairs_tensile.xlsx\", \n",
    "                 skiprows=2)\n",
    "df.head(3)"
   ]
  },
  {
   "cell_type": "code",
   "execution_count": 5,
   "metadata": {
    "metadata": {}
   },
   "outputs": [
    {
     "data": {
      "text/html": [
       "<div>\n",
       "<style scoped>\n",
       "    .dataframe tbody tr th:only-of-type {\n",
       "        vertical-align: middle;\n",
       "    }\n",
       "\n",
       "    .dataframe tbody tr th {\n",
       "        vertical-align: top;\n",
       "    }\n",
       "\n",
       "    .dataframe thead th {\n",
       "        text-align: right;\n",
       "    }\n",
       "</style>\n",
       "<table border=\"1\" class=\"dataframe\">\n",
       "  <thead>\n",
       "    <tr style=\"text-align: right;\">\n",
       "      <th></th>\n",
       "      <th>RECORD</th>\n",
       "      <th>CROSS-SECTIONAL AREA</th>\n",
       "      <th>Unnamed: 2</th>\n",
       "      <th>MEAN DIAMETER</th>\n",
       "      <th>MAX DIAMETER</th>\n",
       "      <th>MIN DIAMETER</th>\n",
       "      <th>ELASTIC EMOD</th>\n",
       "      <th>ELASTIC GRADIENT</th>\n",
       "      <th>ELASTIC EXT</th>\n",
       "      <th>ELASTIC STRESS</th>\n",
       "      <th>...</th>\n",
       "      <th>STRESS 25%</th>\n",
       "      <th>WORK 25%</th>\n",
       "      <th>YIELD EXT</th>\n",
       "      <th>POSTYIELD GRADIENT</th>\n",
       "      <th>BREAK EXT</th>\n",
       "      <th>BREAK LOAD</th>\n",
       "      <th>BREAK STRESS</th>\n",
       "      <th>BREAK STRESS.1</th>\n",
       "      <th>TOTAL WORK</th>\n",
       "      <th>TOUGHNESS</th>\n",
       "    </tr>\n",
       "  </thead>\n",
       "  <tbody>\n",
       "    <tr>\n",
       "      <th>0</th>\n",
       "      <td>1</td>\n",
       "      <td>2927.5</td>\n",
       "      <td>0.002927</td>\n",
       "      <td>61.4</td>\n",
       "      <td>67.2</td>\n",
       "      <td>55.5</td>\n",
       "      <td>3768000000</td>\n",
       "      <td>37.26</td>\n",
       "      <td>2.58</td>\n",
       "      <td>0.01059</td>\n",
       "      <td>...</td>\n",
       "      <td>0.01308</td>\n",
       "      <td>0.00252</td>\n",
       "      <td>36.18</td>\n",
       "      <td>2.121</td>\n",
       "      <td>69.81</td>\n",
       "      <td>69.35</td>\n",
       "      <td>0.02369</td>\n",
       "      <td>232.319538</td>\n",
       "      <td>0.009855</td>\n",
       "      <td>111500000</td>\n",
       "    </tr>\n",
       "    <tr>\n",
       "      <th>1</th>\n",
       "      <td>2</td>\n",
       "      <td>3555.4</td>\n",
       "      <td>0.003555</td>\n",
       "      <td>71.4</td>\n",
       "      <td>87.6</td>\n",
       "      <td>51.7</td>\n",
       "      <td>3813000000</td>\n",
       "      <td>45.89</td>\n",
       "      <td>2.82</td>\n",
       "      <td>0.01226</td>\n",
       "      <td>...</td>\n",
       "      <td>0.01301</td>\n",
       "      <td>0.003143</td>\n",
       "      <td>28.2</td>\n",
       "      <td>3.399</td>\n",
       "      <td>53.57</td>\n",
       "      <td>74.35</td>\n",
       "      <td>0.02091</td>\n",
       "      <td>205.057052</td>\n",
       "      <td>0.008261</td>\n",
       "      <td>77170000</td>\n",
       "    </tr>\n",
       "    <tr>\n",
       "      <th>2</th>\n",
       "      <td>3</td>\n",
       "      <td>3556.1</td>\n",
       "      <td>0.003556</td>\n",
       "      <td>69.6</td>\n",
       "      <td>80</td>\n",
       "      <td>56.6</td>\n",
       "      <td>3741000000</td>\n",
       "      <td>44.85</td>\n",
       "      <td>2.88</td>\n",
       "      <td>0.01264</td>\n",
       "      <td>...</td>\n",
       "      <td>0.01336</td>\n",
       "      <td>0.003231</td>\n",
       "      <td>27.65</td>\n",
       "      <td>3.329</td>\n",
       "      <td>52.4</td>\n",
       "      <td>73.95</td>\n",
       "      <td>0.0208</td>\n",
       "      <td>203.97832</td>\n",
       "      <td>0.008181</td>\n",
       "      <td>76100000</td>\n",
       "    </tr>\n",
       "  </tbody>\n",
       "</table>\n",
       "<p>3 rows × 26 columns</p>\n",
       "</div>"
      ],
      "text/plain": [
       "  RECORD CROSS-SECTIONAL AREA  Unnamed: 2 MEAN DIAMETER MAX DIAMETER  \\\n",
       "0      1               2927.5    0.002927          61.4         67.2   \n",
       "1      2               3555.4    0.003555          71.4         87.6   \n",
       "2      3               3556.1    0.003556          69.6           80   \n",
       "\n",
       "  MIN DIAMETER ELASTIC EMOD ELASTIC GRADIENT ELASTIC EXT ELASTIC STRESS  ...  \\\n",
       "0         55.5   3768000000            37.26        2.58        0.01059  ...   \n",
       "1         51.7   3813000000            45.89        2.82        0.01226  ...   \n",
       "2         56.6   3741000000            44.85        2.88        0.01264  ...   \n",
       "\n",
       "  STRESS 25%  WORK 25% YIELD EXT POSTYIELD GRADIENT BREAK EXT BREAK LOAD  \\\n",
       "0    0.01308   0.00252     36.18              2.121     69.81      69.35   \n",
       "1    0.01301  0.003143      28.2              3.399     53.57      74.35   \n",
       "2    0.01336  0.003231     27.65              3.329      52.4      73.95   \n",
       "\n",
       "  BREAK STRESS BREAK STRESS.1 TOTAL WORK  TOUGHNESS  \n",
       "0      0.02369     232.319538   0.009855  111500000  \n",
       "1      0.02091     205.057052   0.008261   77170000  \n",
       "2       0.0208      203.97832   0.008181   76100000  \n",
       "\n",
       "[3 rows x 26 columns]"
      ]
     },
     "execution_count": 5,
     "metadata": {},
     "output_type": "execute_result"
    }
   ],
   "source": [
    "df = df.drop([0, 1]).reset_index(drop=True)\n",
    "df.head(3)"
   ]
  },
  {
   "cell_type": "code",
   "execution_count": 6,
   "metadata": {
    "metadata": {}
   },
   "outputs": [
    {
     "data": {
      "text/plain": [
       "105"
      ]
     },
     "execution_count": 6,
     "metadata": {},
     "output_type": "execute_result"
    }
   ],
   "source": [
    "len(df)"
   ]
  },
  {
   "cell_type": "code",
   "execution_count": 7,
   "metadata": {
    "metadata": {}
   },
   "outputs": [
    {
     "name": "stdout",
     "output_type": "stream",
     "text": [
      "Index(['RECORD', 'CROSS-SECTIONAL AREA', 'Unnamed: 2', 'MEAN DIAMETER',\n",
      "       'MAX DIAMETER', 'MIN DIAMETER', 'ELASTIC EMOD', 'ELASTIC GRADIENT',\n",
      "       'ELASTIC EXT', 'ELASTIC STRESS', 'PLATEAU LOAD', 'PLATEAU STRESS',\n",
      "       'LOAD 15%', 'STRESS 15%', 'WORK 15%', 'LOAD 25%', 'STRESS 25%',\n",
      "       'WORK 25%', 'YIELD EXT', 'POSTYIELD GRADIENT', 'BREAK EXT',\n",
      "       'BREAK LOAD', 'BREAK STRESS', 'BREAK STRESS.1', 'TOTAL WORK',\n",
      "       'TOUGHNESS'],\n",
      "      dtype='object')\n"
     ]
    }
   ],
   "source": [
    "print(df.columns)"
   ]
  },
  {
   "cell_type": "code",
   "execution_count": 8,
   "metadata": {
    "metadata": {}
   },
   "outputs": [
    {
     "data": {
      "text/html": [
       "<div>\n",
       "<style scoped>\n",
       "    .dataframe tbody tr th:only-of-type {\n",
       "        vertical-align: middle;\n",
       "    }\n",
       "\n",
       "    .dataframe tbody tr th {\n",
       "        vertical-align: top;\n",
       "    }\n",
       "\n",
       "    .dataframe thead th {\n",
       "        text-align: right;\n",
       "    }\n",
       "</style>\n",
       "<table border=\"1\" class=\"dataframe\">\n",
       "  <thead>\n",
       "    <tr style=\"text-align: right;\">\n",
       "      <th></th>\n",
       "      <th>BREAK STRESS</th>\n",
       "    </tr>\n",
       "  </thead>\n",
       "  <tbody>\n",
       "    <tr>\n",
       "      <th>0</th>\n",
       "      <td>0.02369</td>\n",
       "    </tr>\n",
       "    <tr>\n",
       "      <th>1</th>\n",
       "      <td>0.02091</td>\n",
       "    </tr>\n",
       "    <tr>\n",
       "      <th>2</th>\n",
       "      <td>0.0208</td>\n",
       "    </tr>\n",
       "  </tbody>\n",
       "</table>\n",
       "</div>"
      ],
      "text/plain": [
       "  BREAK STRESS\n",
       "0      0.02369\n",
       "1      0.02091\n",
       "2       0.0208"
      ]
     },
     "execution_count": 8,
     "metadata": {},
     "output_type": "execute_result"
    }
   ],
   "source": [
    "df_bio = df[['BREAK STRESS']]\n",
    "df_bio.head(3)"
   ]
  },
  {
   "cell_type": "code",
   "execution_count": 9,
   "metadata": {
    "metadata": {}
   },
   "outputs": [
    {
     "data": {
      "text/plain": [
       "99"
      ]
     },
     "execution_count": 9,
     "metadata": {},
     "output_type": "execute_result"
    }
   ],
   "source": [
    "df_bio = df_bio.dropna()\n",
    "len(df_bio)"
   ]
  },
  {
   "cell_type": "markdown",
   "metadata": {},
   "source": [
    "### Break stress"
   ]
  },
  {
   "cell_type": "code",
   "execution_count": 10,
   "metadata": {
    "metadata": {}
   },
   "outputs": [
    {
     "data": {
      "text/plain": [
       "[0.02369, 0.02091]"
      ]
     },
     "execution_count": 10,
     "metadata": {},
     "output_type": "execute_result"
    }
   ],
   "source": [
    "all_samples = list(df_bio['BREAK STRESS'])\n",
    "all_samples[:2]"
   ]
  },
  {
   "cell_type": "code",
   "execution_count": 11,
   "metadata": {
    "metadata": {}
   },
   "outputs": [
    {
     "data": {
      "text/plain": [
       "90"
      ]
     },
     "execution_count": 11,
     "metadata": {},
     "output_type": "execute_result"
    }
   ],
   "source": [
    "from scipy.stats import ks_2samp\n",
    "\n",
    "N_REPEATS = 100\n",
    "d_n_pvalues = {}\n",
    "for n in range(10, 100, 1):\n",
    "    for nr in range(N_REPEATS):\n",
    "        sampled_values = np.random.choice(all_samples, n)\n",
    "        res = ks_2samp(all_samples, sampled_values, alternative='two-sided', mode='auto')\n",
    "        # get the p-value\n",
    "        p_value = res[1]\n",
    "        if n not in d_n_pvalues:\n",
    "            d_n_pvalues[n] = []\n",
    "        d_n_pvalues[n].append(round(p_value,4))\n",
    "len(d_n_pvalues)"
   ]
  },
  {
   "cell_type": "code",
   "execution_count": 12,
   "metadata": {
    "metadata": {}
   },
   "outputs": [],
   "source": [
    "mean_pvalues = []\n",
    "std_values = []\n",
    "for i in range(10, 100, 1):\n",
    "    mean_pvalues.append(np.mean(d_n_pvalues[i]))\n",
    "    std_values.append(np.std(d_n_pvalues[i]))"
   ]
  },
  {
   "cell_type": "code",
   "execution_count": 13,
   "metadata": {
    "metadata": {}
   },
   "outputs": [
    {
     "data": {
      "image/png": "[encoded data removed]",
      "text/plain": [
       "<Figure size 1000x600 with 1 Axes>"
      ]
     },
     "metadata": {},
     "output_type": "display_data"
    }
   ],
   "source": [
    "# Plotting the mean and standard deviation\n",
    "x = range(10, 100)\n",
    "mean_pvalues = np.array(mean_pvalues)\n",
    "std_values = np.array(std_values)\n",
    "\n",
    "plt.figure(figsize=(10, 6))\n",
    "plt.plot(x, mean_pvalues, label='Mean p-values', color='blue')\n",
    "plt.fill_between(x, mean_pvalues - std_values, mean_pvalues + std_values, color='blue', alpha=0.2, label='Standard Deviation')\n",
    "plt.xlabel('Sample Size')\n",
    "plt.ylabel('Mean p-value')\n",
    "plt.title('Mean p-values and Standard Deviation')\n",
    "plt.ylim(0, 1.0)\n",
    "# add a red line at 0.05\n",
    "plt.axhline(y=0.05, color='r', linestyle='-', label='Significance Level 0.05')\n",
    "plt.legend()\n",
    "plt.grid(True)\n",
    "plt.show()"
   ]
  },
  {
   "cell_type": "markdown",
   "metadata": {},
   "source": [
    "let's look at the minimum p values "
   ]
  },
  {
   "cell_type": "code",
   "execution_count": 14,
   "metadata": {
    "metadata": {}
   },
   "outputs": [
    {
     "data": {
      "image/png": "[encoded data removed]",
      "text/plain": [
       "<Figure size 1000x600 with 1 Axes>"
      ]
     },
     "metadata": {},
     "output_type": "display_data"
    }
   ],
   "source": [
    "min_pvalues = []\n",
    "for i in range(10, 100, 1):\n",
    "    min_pvalues.append(np.min(d_n_pvalues[i]))\n",
    "\n",
    "# Plotting the mean and standard deviation\n",
    "x = range(10, 100)\n",
    "min_pvalues = np.array(min_pvalues)\n",
    "\n",
    "plt.figure(figsize=(10, 6))\n",
    "plt.plot(x, min_pvalues, label='Min p-values', color='blue')\n",
    "plt.xlabel('Sample Size')\n",
    "plt.ylabel('Min p-value')\n",
    "plt.title('Min p-values and Standard Deviation')\n",
    "plt.ylim(0, 1.0)\n",
    "plt.axhline(y=0.05, color='r', linestyle='-', label='Significance Level 0.05')\n",
    "plt.legend()\n",
    "plt.grid(True)\n",
    "plt.show()"
   ]
  },
  {
   "cell_type": "code",
   "execution_count": 15,
   "metadata": {
    "metadata": {}
   },
   "outputs": [],
   "source": [
    "percent_ok = []\n",
    "THRES = 0.05\n",
    "for_df_sz = []\n",
    "for i in range(10, 100, 1):\n",
    "    values = d_n_pvalues[i]\n",
    "    count = len([v for v in values if v > THRES])\n",
    "    prop = count / len(values)\n",
    "    percent_ok.append(prop)\n",
    "\n",
    "    for_df_sz.append(i)"
   ]
  },
  {
   "cell_type": "code",
   "execution_count": 16,
   "metadata": {
    "metadata": {}
   },
   "outputs": [
    {
     "data": {
      "text/html": [
       "<div>\n",
       "<style scoped>\n",
       "    .dataframe tbody tr th:only-of-type {\n",
       "        vertical-align: middle;\n",
       "    }\n",
       "\n",
       "    .dataframe tbody tr th {\n",
       "        vertical-align: top;\n",
       "    }\n",
       "\n",
       "    .dataframe thead th {\n",
       "        text-align: right;\n",
       "    }\n",
       "</style>\n",
       "<table border=\"1\" class=\"dataframe\">\n",
       "  <thead>\n",
       "    <tr style=\"text-align: right;\">\n",
       "      <th></th>\n",
       "      <th>Sample Size</th>\n",
       "      <th>Proportion same as full sample (out of 100)</th>\n",
       "    </tr>\n",
       "  </thead>\n",
       "  <tbody>\n",
       "    <tr>\n",
       "      <th>0</th>\n",
       "      <td>10</td>\n",
       "      <td>0.96</td>\n",
       "    </tr>\n",
       "    <tr>\n",
       "      <th>1</th>\n",
       "      <td>11</td>\n",
       "      <td>0.97</td>\n",
       "    </tr>\n",
       "  </tbody>\n",
       "</table>\n",
       "</div>"
      ],
      "text/plain": [
       "   Sample Size  Proportion same as full sample (out of 100)\n",
       "0           10                                         0.96\n",
       "1           11                                         0.97"
      ]
     },
     "execution_count": 16,
     "metadata": {},
     "output_type": "execute_result"
    }
   ],
   "source": [
    "# Saving percent_ok and for_df_sz in a DataFrame\n",
    "df_percent_ok = pd.DataFrame({\n",
    "    'Sample Size': for_df_sz,\n",
    "    f'Proportion same as full sample (out of {N_REPEATS})': percent_ok\n",
    "})\n",
    "\n",
    "df_percent_ok.to_csv(savepath + \"bleach_sample_size_analysis.csv\", index=False)\n",
    "\n",
    "df_percent_ok.head(2)"
   ]
  },
  {
   "cell_type": "code",
   "execution_count": 17,
   "metadata": {
    "metadata": {}
   },
   "outputs": [
    {
     "name": "stderr",
     "output_type": "stream",
     "text": [
      "No artists with labels found to put in legend.  Note that artists whose label start with an underscore are ignored when legend() is called with no argument.\n"
     ]
    },
    {
     "data": {
      "image/png": "[encoded data removed]",
      "text/plain": [
       "<Figure size 1000x600 with 1 Axes>"
      ]
     },
     "metadata": {},
     "output_type": "display_data"
    }
   ],
   "source": [
    "# Plotting the percent_ok as a bar plot\n",
    "plt.figure(figsize=(10, 6))\n",
    "plt.bar(range(10, 100), percent_ok, color='green', alpha=0.7, width=0.4)\n",
    "plt.xlabel('Sample Size')\n",
    "plt.ylabel(f'Proportion (n={N_REPEATS})')\n",
    "plt.title('Proportion of test that would have been the same as with 100 hairs')\n",
    "plt.ylim(0, 1.1)\n",
    "plt.legend()\n",
    "plt.grid(True)\n",
    "plt.show()"
   ]
  },
  {
   "cell_type": "markdown",
   "metadata": {},
   "source": [
    "P-value of Kolmogorov-Smirnov test:\n",
    "- two-sided: the null hypothesis is that the two distributions are the same   \n",
    "--> If the KS statistic is large, then the p-value will be small, and this may be taken as evidence against the null hypothesis in favor of the alternative."
   ]
  },
  {
   "cell_type": "markdown",
   "metadata": {},
   "source": [
    "### let's looks at medians"
   ]
  },
  {
   "cell_type": "code",
   "execution_count": 18,
   "metadata": {
    "metadata": {}
   },
   "outputs": [
    {
     "data": {
      "text/plain": [
       "90"
      ]
     },
     "execution_count": 18,
     "metadata": {},
     "output_type": "execute_result"
    }
   ],
   "source": [
    "N_REPEATS = 42\n",
    "d_n_medians = {}\n",
    "for n in range(10, 100, 1):\n",
    "    for nr in range(N_REPEATS):\n",
    "        sampled_values = np.random.choice(all_samples, n)\n",
    "        median = round(np.median(sampled_values),4)\n",
    "        if n not in d_n_medians:\n",
    "            d_n_medians[n] = []\n",
    "        d_n_medians[n].append(median)\n",
    "len(d_n_medians)"
   ]
  },
  {
   "cell_type": "code",
   "execution_count": 19,
   "metadata": {
    "metadata": {}
   },
   "outputs": [
    {
     "data": {
      "text/plain": [
       "0.0212"
      ]
     },
     "execution_count": 19,
     "metadata": {},
     "output_type": "execute_result"
    }
   ],
   "source": [
    "round(np.median(all_samples),4)"
   ]
  },
  {
   "cell_type": "code",
   "execution_count": 20,
   "metadata": {
    "metadata": {}
   },
   "outputs": [
    {
     "name": "stdout",
     "output_type": "stream",
     "text": [
      "10 0.0214 0.0008\n",
      "11 0.0212 0.0008\n",
      "12 0.0212 0.0007\n",
      "13 0.021 0.0007\n",
      "14 0.0213 0.0006\n",
      "15 0.0212 0.0008\n",
      "16 0.0214 0.0006\n",
      "17 0.0212 0.0007\n",
      "18 0.0214 0.0006\n",
      "19 0.0212 0.0005\n",
      "20 0.0213 0.0006\n",
      "21 0.0208 0.0005\n",
      "22 0.0212 0.0005\n",
      "23 0.0212 0.0005\n",
      "24 0.0213 0.0006\n",
      "25 0.0213 0.0006\n",
      "26 0.021 0.0006\n",
      "27 0.0213 0.0004\n",
      "28 0.0212 0.0005\n",
      "29 0.0213 0.0004\n",
      "30 0.0212 0.0005\n",
      "31 0.0214 0.0005\n",
      "32 0.0212 0.0004\n",
      "33 0.0212 0.0004\n",
      "34 0.0212 0.0005\n",
      "35 0.0212 0.0005\n",
      "36 0.0212 0.0005\n",
      "37 0.0212 0.0005\n",
      "38 0.0214 0.0004\n",
      "39 0.0212 0.0004\n",
      "40 0.0213 0.0004\n",
      "41 0.0213 0.0005\n",
      "42 0.0212 0.0005\n",
      "43 0.0212 0.0006\n",
      "44 0.021 0.0004\n",
      "45 0.0215 0.0004\n",
      "46 0.0212 0.0004\n",
      "47 0.0212 0.0005\n",
      "48 0.0212 0.0005\n",
      "49 0.0213 0.0004\n",
      "50 0.0212 0.0004\n",
      "51 0.0212 0.0004\n",
      "52 0.0212 0.0004\n",
      "53 0.0215 0.0004\n",
      "54 0.0212 0.0004\n",
      "55 0.0213 0.0003\n",
      "56 0.0212 0.0003\n",
      "57 0.0211 0.0004\n",
      "58 0.0213 0.0004\n",
      "59 0.0212 0.0004\n",
      "60 0.0212 0.0004\n",
      "61 0.0212 0.0004\n",
      "62 0.0211 0.0004\n",
      "63 0.0213 0.0004\n",
      "64 0.0213 0.0003\n",
      "65 0.0212 0.0004\n",
      "66 0.0212 0.0003\n",
      "67 0.0213 0.0003\n",
      "68 0.0212 0.0003\n",
      "69 0.0213 0.0003\n",
      "70 0.0212 0.0004\n",
      "71 0.0212 0.0003\n",
      "72 0.0212 0.0004\n",
      "73 0.0213 0.0003\n",
      "74 0.0212 0.0003\n",
      "75 0.0212 0.0003\n",
      "76 0.0212 0.0003\n",
      "77 0.0212 0.0003\n",
      "78 0.0213 0.0004\n",
      "79 0.0212 0.0004\n",
      "80 0.0213 0.0003\n",
      "81 0.0212 0.0003\n",
      "82 0.0212 0.0003\n",
      "83 0.0212 0.0002\n",
      "84 0.0213 0.0003\n",
      "85 0.0212 0.0003\n",
      "86 0.0212 0.0003\n",
      "87 0.0212 0.0003\n",
      "88 0.0212 0.0003\n",
      "89 0.0213 0.0003\n",
      "90 0.0212 0.0003\n",
      "91 0.0213 0.0003\n",
      "92 0.0212 0.0003\n",
      "93 0.0212 0.0003\n",
      "94 0.0212 0.0003\n",
      "95 0.0212 0.0003\n",
      "96 0.0212 0.0003\n",
      "97 0.0213 0.0004\n",
      "98 0.0212 0.0003\n",
      "99 0.0212 0.0003\n"
     ]
    }
   ],
   "source": [
    "for i in range(10, 100, 1):\n",
    "    print(i, round(np.median(d_n_medians[i]),4), round(np.std(d_n_medians[i]),4))"
   ]
  },
  {
   "cell_type": "code",
   "execution_count": null,
   "metadata": {},
   "outputs": [],
   "source": []
  }
 ],
 "metadata": {
  "kernelspec": {
   "display_name": "Python 3 (ipykernel)",
   "language": "python",
   "name": "python3"
  },
  "language_info": {
   "codemirror_mode": {
    "name": "ipython",
    "version": 3
   },
   "file_extension": ".py",
   "mimetype": "text/x-python",
   "name": "python",
   "nbconvert_exporter": "python",
   "pygments_lexer": "ipython3",
   "version": "3.9.18"
  }
 },
 "nbformat": 4,
 "nbformat_minor": 2
}
