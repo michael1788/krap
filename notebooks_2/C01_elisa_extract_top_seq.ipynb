{
 "cells": [
  {
   "attachments": {},
   "cell_type": "markdown",
   "metadata": {},
   "source": [
    "### Goal"
   ]
  },
  {
   "cell_type": "code",
   "execution_count": 1,
   "metadata": {},
   "outputs": [],
   "source": [
    "%load_ext autoreload\n",
    "%autoreload 2"
   ]
  },
  {
   "cell_type": "code",
   "execution_count": 2,
   "metadata": {},
   "outputs": [],
   "source": [
    "import os, sys\n",
    "import pandas as pd\n",
    "import numpy as np\n",
    "import math\n",
    "\n",
    "import matplotlib.pyplot as plt\n",
    "\n",
    "sys.path.append(\"../../data_analysis/\")\n",
    "import helper as hp"
   ]
  },
  {
   "cell_type": "code",
   "execution_count": 3,
   "metadata": {},
   "outputs": [],
   "source": [
    "savepath = \"C01_elisa_extract_top_seq/\"\n",
    "os.makedirs(savepath, exist_ok=True)"
   ]
  },
  {
   "cell_type": "code",
   "execution_count": 4,
   "metadata": {},
   "outputs": [
    {
     "data": {
      "text/html": [
       "<div>\n",
       "<style scoped>\n",
       "    .dataframe tbody tr th:only-of-type {\n",
       "        vertical-align: middle;\n",
       "    }\n",
       "\n",
       "    .dataframe tbody tr th {\n",
       "        vertical-align: top;\n",
       "    }\n",
       "\n",
       "    .dataframe thead th {\n",
       "        text-align: right;\n",
       "    }\n",
       "</style>\n",
       "<table border=\"1\" class=\"dataframe\">\n",
       "  <thead>\n",
       "    <tr style=\"text-align: right;\">\n",
       "      <th></th>\n",
       "      <th>ID</th>\n",
       "      <th>DNA</th>\n",
       "      <th>AA</th>\n",
       "      <th>elisa_score</th>\n",
       "    </tr>\n",
       "  </thead>\n",
       "  <tbody>\n",
       "    <tr>\n",
       "      <th>0</th>\n",
       "      <td>1</td>\n",
       "      <td>GCGAATTAATACGACTCACTATAGGGAGACCACAACGGTTTCCCTC...</td>\n",
       "      <td>QAQAQHLCCAFCCCKKCELCPK</td>\n",
       "      <td>0.092</td>\n",
       "    </tr>\n",
       "    <tr>\n",
       "      <th>1</th>\n",
       "      <td>2</td>\n",
       "      <td>GCGAATTAATACGACTCACTATAGGGAGACCACAACGGTTTCCCTC...</td>\n",
       "      <td>AGCVQCLCCCCCCYAKVCAFPK</td>\n",
       "      <td>0.149</td>\n",
       "    </tr>\n",
       "  </tbody>\n",
       "</table>\n",
       "</div>"
      ],
      "text/plain": [
       "   ID                                                DNA  \\\n",
       "0   1  GCGAATTAATACGACTCACTATAGGGAGACCACAACGGTTTCCCTC...   \n",
       "1   2  GCGAATTAATACGACTCACTATAGGGAGACCACAACGGTTTCCCTC...   \n",
       "\n",
       "                       AA  elisa_score  \n",
       "0  QAQAQHLCCAFCCCKKCELCPK        0.092  \n",
       "1  AGCVQCLCCCCCCYAKVCAFPK        0.149  "
      ]
     },
     "execution_count": 4,
     "metadata": {},
     "output_type": "execute_result"
    }
   ],
   "source": [
    "df = pd.read_csv(f\"{savepath}elisa_screen_1.csv\")\n",
    "df.head(2)"
   ]
  },
  {
   "cell_type": "code",
   "execution_count": 5,
   "metadata": {},
   "outputs": [
    {
     "data": {
      "text/plain": [
       "96"
      ]
     },
     "execution_count": 5,
     "metadata": {},
     "output_type": "execute_result"
    }
   ],
   "source": [
    "len(df)"
   ]
  },
  {
   "cell_type": "code",
   "execution_count": 6,
   "metadata": {},
   "outputs": [
    {
     "data": {
      "text/html": [
       "<div>\n",
       "<style scoped>\n",
       "    .dataframe tbody tr th:only-of-type {\n",
       "        vertical-align: middle;\n",
       "    }\n",
       "\n",
       "    .dataframe tbody tr th {\n",
       "        vertical-align: top;\n",
       "    }\n",
       "\n",
       "    .dataframe thead th {\n",
       "        text-align: right;\n",
       "    }\n",
       "</style>\n",
       "<table border=\"1\" class=\"dataframe\">\n",
       "  <thead>\n",
       "    <tr style=\"text-align: right;\">\n",
       "      <th></th>\n",
       "      <th>ID</th>\n",
       "      <th>DNA</th>\n",
       "      <th>AA</th>\n",
       "      <th>elisa_score</th>\n",
       "    </tr>\n",
       "  </thead>\n",
       "  <tbody>\n",
       "    <tr>\n",
       "      <th>84</th>\n",
       "      <td>85</td>\n",
       "      <td>GCGAATTAATACGACTCACTATAGGGAGACCACAACGGTTTCCCTC...</td>\n",
       "      <td>CCCCQHLCACFSCYCKVECFCK</td>\n",
       "      <td>0.685</td>\n",
       "    </tr>\n",
       "    <tr>\n",
       "      <th>31</th>\n",
       "      <td>32</td>\n",
       "      <td>GCGAATTAATACGACTCACTATAGGGAGACCACAACGGTTTCCCTC...</td>\n",
       "      <td>QGCCCHCCCCFCQCCCVELFPC</td>\n",
       "      <td>0.275</td>\n",
       "    </tr>\n",
       "    <tr>\n",
       "      <th>39</th>\n",
       "      <td>40</td>\n",
       "      <td>GCGAATTAATACGACTCACTATAGGGAGACCACAACGGTTTCCCTC...</td>\n",
       "      <td>ACQVQHCCCAFCCYCCVCCFCC</td>\n",
       "      <td>0.230</td>\n",
       "    </tr>\n",
       "    <tr>\n",
       "      <th>92</th>\n",
       "      <td>93</td>\n",
       "      <td>GCGAATTAATACGACTCACTATAGGGAGACCACAACGGTTTCCCTC...</td>\n",
       "      <td>CGQVCCCQACFSCCCKCCLFCK</td>\n",
       "      <td>0.221</td>\n",
       "    </tr>\n",
       "    <tr>\n",
       "      <th>35</th>\n",
       "      <td>36</td>\n",
       "      <td>GCGAATTAATACGACTCACTATAGGGAGACCACAACGGTTTCCCTC...</td>\n",
       "      <td>QCQVQHLCCCFCCYKKVECCPC</td>\n",
       "      <td>0.205</td>\n",
       "    </tr>\n",
       "  </tbody>\n",
       "</table>\n",
       "</div>"
      ],
      "text/plain": [
       "    ID                                                DNA  \\\n",
       "84  85  GCGAATTAATACGACTCACTATAGGGAGACCACAACGGTTTCCCTC...   \n",
       "31  32  GCGAATTAATACGACTCACTATAGGGAGACCACAACGGTTTCCCTC...   \n",
       "39  40  GCGAATTAATACGACTCACTATAGGGAGACCACAACGGTTTCCCTC...   \n",
       "92  93  GCGAATTAATACGACTCACTATAGGGAGACCACAACGGTTTCCCTC...   \n",
       "35  36  GCGAATTAATACGACTCACTATAGGGAGACCACAACGGTTTCCCTC...   \n",
       "\n",
       "                        AA  elisa_score  \n",
       "84  CCCCQHLCACFSCYCKVECFCK        0.685  \n",
       "31  QGCCCHCCCCFCQCCCVELFPC        0.275  \n",
       "39  ACQVQHCCCAFCCYCCVCCFCC        0.230  \n",
       "92  CGQVCCCQACFSCCCKCCLFCK        0.221  \n",
       "35  QCQVQHLCCCFCCYKKVECCPC        0.205  "
      ]
     },
     "execution_count": 6,
     "metadata": {},
     "output_type": "execute_result"
    }
   ],
   "source": [
    "df_sorted = df.sort_values('elisa_score', ascending=False)\n",
    "df_sorted.head(5)"
   ]
  },
  {
   "cell_type": "code",
   "execution_count": 7,
   "metadata": {},
   "outputs": [
    {
     "data": {
      "text/html": [
       "<div>\n",
       "<style scoped>\n",
       "    .dataframe tbody tr th:only-of-type {\n",
       "        vertical-align: middle;\n",
       "    }\n",
       "\n",
       "    .dataframe tbody tr th {\n",
       "        vertical-align: top;\n",
       "    }\n",
       "\n",
       "    .dataframe thead th {\n",
       "        text-align: right;\n",
       "    }\n",
       "</style>\n",
       "<table border=\"1\" class=\"dataframe\">\n",
       "  <thead>\n",
       "    <tr style=\"text-align: right;\">\n",
       "      <th></th>\n",
       "      <th>ID</th>\n",
       "      <th>DNA</th>\n",
       "      <th>AA</th>\n",
       "      <th>elisa_score</th>\n",
       "    </tr>\n",
       "  </thead>\n",
       "  <tbody>\n",
       "    <tr>\n",
       "      <th>31</th>\n",
       "      <td>32</td>\n",
       "      <td>GCGAATTAATACGACTCACTATAGGGAGACCACAACGGTTTCCCTC...</td>\n",
       "      <td>QGCCCHCCCCFCQCCCVELFPC</td>\n",
       "      <td>0.275</td>\n",
       "    </tr>\n",
       "    <tr>\n",
       "      <th>39</th>\n",
       "      <td>40</td>\n",
       "      <td>GCGAATTAATACGACTCACTATAGGGAGACCACAACGGTTTCCCTC...</td>\n",
       "      <td>ACQVQHCCCAFCCYCCVCCFCC</td>\n",
       "      <td>0.230</td>\n",
       "    </tr>\n",
       "    <tr>\n",
       "      <th>92</th>\n",
       "      <td>93</td>\n",
       "      <td>GCGAATTAATACGACTCACTATAGGGAGACCACAACGGTTTCCCTC...</td>\n",
       "      <td>CGQVCCCQACFSCCCKCCLFCK</td>\n",
       "      <td>0.221</td>\n",
       "    </tr>\n",
       "    <tr>\n",
       "      <th>35</th>\n",
       "      <td>36</td>\n",
       "      <td>GCGAATTAATACGACTCACTATAGGGAGACCACAACGGTTTCCCTC...</td>\n",
       "      <td>QCQVQHLCCCFCCYKKVECCPC</td>\n",
       "      <td>0.205</td>\n",
       "    </tr>\n",
       "    <tr>\n",
       "      <th>64</th>\n",
       "      <td>65</td>\n",
       "      <td>GCGAATTAATACGACTCACTATAGGGAGACCACAACGGTTTCCCTC...</td>\n",
       "      <td>CCQCCCLCCAFCCCCKCELFPK</td>\n",
       "      <td>0.198</td>\n",
       "    </tr>\n",
       "  </tbody>\n",
       "</table>\n",
       "</div>"
      ],
      "text/plain": [
       "    ID                                                DNA  \\\n",
       "31  32  GCGAATTAATACGACTCACTATAGGGAGACCACAACGGTTTCCCTC...   \n",
       "39  40  GCGAATTAATACGACTCACTATAGGGAGACCACAACGGTTTCCCTC...   \n",
       "92  93  GCGAATTAATACGACTCACTATAGGGAGACCACAACGGTTTCCCTC...   \n",
       "35  36  GCGAATTAATACGACTCACTATAGGGAGACCACAACGGTTTCCCTC...   \n",
       "64  65  GCGAATTAATACGACTCACTATAGGGAGACCACAACGGTTTCCCTC...   \n",
       "\n",
       "                        AA  elisa_score  \n",
       "31  QGCCCHCCCCFCQCCCVELFPC        0.275  \n",
       "39  ACQVQHCCCAFCCYCCVCCFCC        0.230  \n",
       "92  CGQVCCCQACFSCCCKCCLFCK        0.221  \n",
       "35  QCQVQHLCCCFCCYKKVECCPC        0.205  \n",
       "64  CCQCCCLCCAFCCCCKCELFPK        0.198  "
      ]
     },
     "execution_count": 7,
     "metadata": {},
     "output_type": "execute_result"
    }
   ],
   "source": [
    "df_sorted = df_sorted.drop(df_sorted[df_sorted['ID'] == 85].index)\n",
    "df_sorted.head(5)"
   ]
  },
  {
   "cell_type": "code",
   "execution_count": 8,
   "metadata": {},
   "outputs": [
    {
     "data": {
      "text/plain": [
       "95"
      ]
     },
     "execution_count": 8,
     "metadata": {},
     "output_type": "execute_result"
    }
   ],
   "source": [
    "len(df_sorted)"
   ]
  },
  {
   "cell_type": "code",
   "execution_count": 9,
   "metadata": {},
   "outputs": [
    {
     "data": {
      "text/html": [
       "<div>\n",
       "<style scoped>\n",
       "    .dataframe tbody tr th:only-of-type {\n",
       "        vertical-align: middle;\n",
       "    }\n",
       "\n",
       "    .dataframe tbody tr th {\n",
       "        vertical-align: top;\n",
       "    }\n",
       "\n",
       "    .dataframe thead th {\n",
       "        text-align: right;\n",
       "    }\n",
       "</style>\n",
       "<table border=\"1\" class=\"dataframe\">\n",
       "  <thead>\n",
       "    <tr style=\"text-align: right;\">\n",
       "      <th></th>\n",
       "      <th>ID</th>\n",
       "      <th>DNA</th>\n",
       "      <th>AA</th>\n",
       "      <th>elisa_score</th>\n",
       "    </tr>\n",
       "  </thead>\n",
       "  <tbody>\n",
       "    <tr>\n",
       "      <th>31</th>\n",
       "      <td>32</td>\n",
       "      <td>GCGAATTAATACGACTCACTATAGGGAGACCACAACGGTTTCCCTC...</td>\n",
       "      <td>QGCCCHCCCCFCQCCCVELFPC</td>\n",
       "      <td>0.275</td>\n",
       "    </tr>\n",
       "    <tr>\n",
       "      <th>39</th>\n",
       "      <td>40</td>\n",
       "      <td>GCGAATTAATACGACTCACTATAGGGAGACCACAACGGTTTCCCTC...</td>\n",
       "      <td>ACQVQHCCCAFCCYCCVCCFCC</td>\n",
       "      <td>0.230</td>\n",
       "    </tr>\n",
       "    <tr>\n",
       "      <th>92</th>\n",
       "      <td>93</td>\n",
       "      <td>GCGAATTAATACGACTCACTATAGGGAGACCACAACGGTTTCCCTC...</td>\n",
       "      <td>CGQVCCCQACFSCCCKCCLFCK</td>\n",
       "      <td>0.221</td>\n",
       "    </tr>\n",
       "    <tr>\n",
       "      <th>35</th>\n",
       "      <td>36</td>\n",
       "      <td>GCGAATTAATACGACTCACTATAGGGAGACCACAACGGTTTCCCTC...</td>\n",
       "      <td>QCQVQHLCCCFCCYKKVECCPC</td>\n",
       "      <td>0.205</td>\n",
       "    </tr>\n",
       "  </tbody>\n",
       "</table>\n",
       "</div>"
      ],
      "text/plain": [
       "    ID                                                DNA  \\\n",
       "31  32  GCGAATTAATACGACTCACTATAGGGAGACCACAACGGTTTCCCTC...   \n",
       "39  40  GCGAATTAATACGACTCACTATAGGGAGACCACAACGGTTTCCCTC...   \n",
       "92  93  GCGAATTAATACGACTCACTATAGGGAGACCACAACGGTTTCCCTC...   \n",
       "35  36  GCGAATTAATACGACTCACTATAGGGAGACCACAACGGTTTCCCTC...   \n",
       "\n",
       "                        AA  elisa_score  \n",
       "31  QGCCCHCCCCFCQCCCVELFPC        0.275  \n",
       "39  ACQVQHCCCAFCCYCCVCCFCC        0.230  \n",
       "92  CGQVCCCQACFSCCCKCCLFCK        0.221  \n",
       "35  QCQVQHLCCCFCCYKKVECCPC        0.205  "
      ]
     },
     "execution_count": 9,
     "metadata": {},
     "output_type": "execute_result"
    }
   ],
   "source": [
    "df_filtered = df_sorted[df_sorted['elisa_score'] > 0.2]\n",
    "df_filtered.head(5)\n"
   ]
  },
  {
   "cell_type": "code",
   "execution_count": 10,
   "metadata": {},
   "outputs": [
    {
     "data": {
      "text/plain": [
       "4"
      ]
     },
     "execution_count": 10,
     "metadata": {},
     "output_type": "execute_result"
    }
   ],
   "source": [
    "len(df_filtered)"
   ]
  },
  {
   "cell_type": "code",
   "execution_count": 11,
   "metadata": {},
   "outputs": [
    {
     "data": {
      "text/plain": [
       "['QGCCCHCCCCFCQCCCVELFPC',\n",
       " 'ACQVQHCCCAFCCYCCVCCFCC',\n",
       " 'CGQVCCCQACFSCCCKCCLFCK',\n",
       " 'QCQVQHLCCCFCCYKKVECCPC']"
      ]
     },
     "execution_count": 11,
     "metadata": {},
     "output_type": "execute_result"
    }
   ],
   "source": [
    "all_seqs = df_filtered['AA'].to_list()\n",
    "all_seqs"
   ]
  },
  {
   "cell_type": "code",
   "execution_count": 12,
   "metadata": {},
   "outputs": [
    {
     "data": {
      "text/plain": [
       "[('QGCCCHCCCCFCQCCCVELFPC', 'ACQVQHCCCAFCCYCCVCCFCC', 11),\n",
       " ('QGCCCHCCCCFCQCCCVELFPC', 'CGQVCCCQACFSCCCKCCLFCK', 13),\n",
       " ('QGCCCHCCCCFCQCCCVELFPC', 'QCQVQHLCCCFCCYKKVECCPC', 11),\n",
       " ('ACQVQHCCCAFCCYCCVCCFCC', 'CGQVCCCQACFSCCCKCCLFCK', 11),\n",
       " ('ACQVQHCCCAFCCYCCVCCFCC', 'QCQVQHLCCCFCCYKKVECCPC', 8),\n",
       " ('CGQVCCCQACFSCCCKCCLFCK', 'QCQVQHLCCCFCCYKKVECCPC', 15)]"
      ]
     },
     "execution_count": 12,
     "metadata": {},
     "output_type": "execute_result"
    }
   ],
   "source": [
    "import Levenshtein\n",
    "\n",
    "lev_distances = []\n",
    "for i in range(len(all_seqs)):\n",
    "    for j in range(i+1, len(all_seqs)):\n",
    "        distance = Levenshtein.distance(all_seqs[i], all_seqs[j])\n",
    "        lev_distances.append((all_seqs[i], all_seqs[j], distance))\n",
    "\n",
    "lev_distances"
   ]
  },
  {
   "cell_type": "markdown",
   "metadata": {},
   "source": [
    "check the correlation between C and score"
   ]
  },
  {
   "cell_type": "code",
   "execution_count": 13,
   "metadata": {},
   "outputs": [
    {
     "data": {
      "text/html": [
       "<div>\n",
       "<style scoped>\n",
       "    .dataframe tbody tr th:only-of-type {\n",
       "        vertical-align: middle;\n",
       "    }\n",
       "\n",
       "    .dataframe tbody tr th {\n",
       "        vertical-align: top;\n",
       "    }\n",
       "\n",
       "    .dataframe thead th {\n",
       "        text-align: right;\n",
       "    }\n",
       "</style>\n",
       "<table border=\"1\" class=\"dataframe\">\n",
       "  <thead>\n",
       "    <tr style=\"text-align: right;\">\n",
       "      <th></th>\n",
       "      <th>ID</th>\n",
       "      <th>DNA</th>\n",
       "      <th>AA</th>\n",
       "      <th>elisa_score</th>\n",
       "    </tr>\n",
       "  </thead>\n",
       "  <tbody>\n",
       "    <tr>\n",
       "      <th>31</th>\n",
       "      <td>32</td>\n",
       "      <td>GCGAATTAATACGACTCACTATAGGGAGACCACAACGGTTTCCCTC...</td>\n",
       "      <td>QGCCCHCCCCFCQCCCVELFPC</td>\n",
       "      <td>0.275</td>\n",
       "    </tr>\n",
       "    <tr>\n",
       "      <th>39</th>\n",
       "      <td>40</td>\n",
       "      <td>GCGAATTAATACGACTCACTATAGGGAGACCACAACGGTTTCCCTC...</td>\n",
       "      <td>ACQVQHCCCAFCCYCCVCCFCC</td>\n",
       "      <td>0.230</td>\n",
       "    </tr>\n",
       "  </tbody>\n",
       "</table>\n",
       "</div>"
      ],
      "text/plain": [
       "    ID                                                DNA  \\\n",
       "31  32  GCGAATTAATACGACTCACTATAGGGAGACCACAACGGTTTCCCTC...   \n",
       "39  40  GCGAATTAATACGACTCACTATAGGGAGACCACAACGGTTTCCCTC...   \n",
       "\n",
       "                        AA  elisa_score  \n",
       "31  QGCCCHCCCCFCQCCCVELFPC        0.275  \n",
       "39  ACQVQHCCCAFCCYCCVCCFCC        0.230  "
      ]
     },
     "execution_count": 13,
     "metadata": {},
     "output_type": "execute_result"
    }
   ],
   "source": [
    "df_sorted.head(2)"
   ]
  },
  {
   "cell_type": "code",
   "execution_count": 14,
   "metadata": {},
   "outputs": [
    {
     "data": {
      "text/plain": [
       "95"
      ]
     },
     "execution_count": 14,
     "metadata": {},
     "output_type": "execute_result"
    }
   ],
   "source": [
    "len(df_sorted)"
   ]
  },
  {
   "cell_type": "code",
   "execution_count": 15,
   "metadata": {},
   "outputs": [
    {
     "data": {
      "text/html": [
       "<div>\n",
       "<style scoped>\n",
       "    .dataframe tbody tr th:only-of-type {\n",
       "        vertical-align: middle;\n",
       "    }\n",
       "\n",
       "    .dataframe tbody tr th {\n",
       "        vertical-align: top;\n",
       "    }\n",
       "\n",
       "    .dataframe thead th {\n",
       "        text-align: right;\n",
       "    }\n",
       "</style>\n",
       "<table border=\"1\" class=\"dataframe\">\n",
       "  <thead>\n",
       "    <tr style=\"text-align: right;\">\n",
       "      <th></th>\n",
       "      <th>ID</th>\n",
       "      <th>DNA</th>\n",
       "      <th>AA</th>\n",
       "      <th>elisa_score</th>\n",
       "      <th>C_count</th>\n",
       "    </tr>\n",
       "  </thead>\n",
       "  <tbody>\n",
       "    <tr>\n",
       "      <th>31</th>\n",
       "      <td>32</td>\n",
       "      <td>GCGAATTAATACGACTCACTATAGGGAGACCACAACGGTTTCCCTC...</td>\n",
       "      <td>QGCCCHCCCCFCQCCCVELFPC</td>\n",
       "      <td>0.275</td>\n",
       "      <td>12</td>\n",
       "    </tr>\n",
       "    <tr>\n",
       "      <th>39</th>\n",
       "      <td>40</td>\n",
       "      <td>GCGAATTAATACGACTCACTATAGGGAGACCACAACGGTTTCCCTC...</td>\n",
       "      <td>ACQVQHCCCAFCCYCCVCCFCC</td>\n",
       "      <td>0.230</td>\n",
       "      <td>12</td>\n",
       "    </tr>\n",
       "  </tbody>\n",
       "</table>\n",
       "</div>"
      ],
      "text/plain": [
       "    ID                                                DNA  \\\n",
       "31  32  GCGAATTAATACGACTCACTATAGGGAGACCACAACGGTTTCCCTC...   \n",
       "39  40  GCGAATTAATACGACTCACTATAGGGAGACCACAACGGTTTCCCTC...   \n",
       "\n",
       "                        AA  elisa_score  C_count  \n",
       "31  QGCCCHCCCCFCQCCCVELFPC        0.275       12  \n",
       "39  ACQVQHCCCAFCCYCCVCCFCC        0.230       12  "
      ]
     },
     "execution_count": 15,
     "metadata": {},
     "output_type": "execute_result"
    }
   ],
   "source": [
    "df_sorted['C_count'] = df_sorted['AA'].str.count('C')\n",
    "df_sorted.head(2)"
   ]
  },
  {
   "cell_type": "code",
   "execution_count": 16,
   "metadata": {},
   "outputs": [
    {
     "data": {
      "text/plain": [
       "0.51"
      ]
     },
     "execution_count": 16,
     "metadata": {},
     "output_type": "execute_result"
    }
   ],
   "source": [
    "correlation = df_sorted['elisa_score'].corr(df_sorted['C_count'])\n",
    "round(correlation, 2)"
   ]
  },
  {
   "cell_type": "code",
   "execution_count": 17,
   "metadata": {},
   "outputs": [
    {
     "data": {
      "text/html": [
       "<div>\n",
       "<style scoped>\n",
       "    .dataframe tbody tr th:only-of-type {\n",
       "        vertical-align: middle;\n",
       "    }\n",
       "\n",
       "    .dataframe tbody tr th {\n",
       "        vertical-align: top;\n",
       "    }\n",
       "\n",
       "    .dataframe thead th {\n",
       "        text-align: right;\n",
       "    }\n",
       "</style>\n",
       "<table border=\"1\" class=\"dataframe\">\n",
       "  <thead>\n",
       "    <tr style=\"text-align: right;\">\n",
       "      <th></th>\n",
       "      <th>ID</th>\n",
       "      <th>DNA</th>\n",
       "      <th>AA</th>\n",
       "      <th>elisa_score</th>\n",
       "      <th>C_count</th>\n",
       "      <th>AA_length</th>\n",
       "    </tr>\n",
       "  </thead>\n",
       "  <tbody>\n",
       "    <tr>\n",
       "      <th>31</th>\n",
       "      <td>32</td>\n",
       "      <td>GCGAATTAATACGACTCACTATAGGGAGACCACAACGGTTTCCCTC...</td>\n",
       "      <td>QGCCCHCCCCFCQCCCVELFPC</td>\n",
       "      <td>0.275</td>\n",
       "      <td>12</td>\n",
       "      <td>22</td>\n",
       "    </tr>\n",
       "    <tr>\n",
       "      <th>39</th>\n",
       "      <td>40</td>\n",
       "      <td>GCGAATTAATACGACTCACTATAGGGAGACCACAACGGTTTCCCTC...</td>\n",
       "      <td>ACQVQHCCCAFCCYCCVCCFCC</td>\n",
       "      <td>0.230</td>\n",
       "      <td>12</td>\n",
       "      <td>22</td>\n",
       "    </tr>\n",
       "  </tbody>\n",
       "</table>\n",
       "</div>"
      ],
      "text/plain": [
       "    ID                                                DNA  \\\n",
       "31  32  GCGAATTAATACGACTCACTATAGGGAGACCACAACGGTTTCCCTC...   \n",
       "39  40  GCGAATTAATACGACTCACTATAGGGAGACCACAACGGTTTCCCTC...   \n",
       "\n",
       "                        AA  elisa_score  C_count  AA_length  \n",
       "31  QGCCCHCCCCFCQCCCVELFPC        0.275       12         22  \n",
       "39  ACQVQHCCCAFCCYCCVCCFCC        0.230       12         22  "
      ]
     },
     "execution_count": 17,
     "metadata": {},
     "output_type": "execute_result"
    }
   ],
   "source": [
    "df_sorted['AA_length'] = df_sorted['AA'].apply(lambda x: len(x))\n",
    "df_sorted.head(2)"
   ]
  },
  {
   "cell_type": "code",
   "execution_count": 18,
   "metadata": {},
   "outputs": [
    {
     "data": {
      "text/plain": [
       "95"
      ]
     },
     "execution_count": 18,
     "metadata": {},
     "output_type": "execute_result"
    }
   ],
   "source": [
    "len(df_sorted)"
   ]
  },
  {
   "cell_type": "code",
   "execution_count": 19,
   "metadata": {},
   "outputs": [
    {
     "data": {
      "text/plain": [
       "0.12"
      ]
     },
     "execution_count": 19,
     "metadata": {},
     "output_type": "execute_result"
    }
   ],
   "source": [
    "correlation = df_sorted['elisa_score'].corr(df_sorted['AA_length'])\n",
    "round(correlation, 2)"
   ]
  },
  {
   "cell_type": "markdown",
   "metadata": {},
   "source": [
    "what is the closest peptide in the whole dataset to the peptide with the highest score?"
   ]
  },
  {
   "cell_type": "code",
   "execution_count": 20,
   "metadata": {},
   "outputs": [
    {
     "data": {
      "text/plain": [
       "95"
      ]
     },
     "execution_count": 20,
     "metadata": {},
     "output_type": "execute_result"
    }
   ],
   "source": [
    "all_aas = df_sorted['AA'].to_list()\n",
    "len(all_aas)"
   ]
  },
  {
   "cell_type": "code",
   "execution_count": 21,
   "metadata": {},
   "outputs": [
    {
     "data": {
      "text/plain": [
       "'QGCCCHCCCCFCQCCCVELFPC'"
      ]
     },
     "execution_count": 21,
     "metadata": {},
     "output_type": "execute_result"
    }
   ],
   "source": [
    "highest_elisa_score_aa = df_sorted.loc[df_sorted['elisa_score'].idxmax(), 'AA']\n",
    "highest_elisa_score_aa"
   ]
  },
  {
   "cell_type": "code",
   "execution_count": 22,
   "metadata": {},
   "outputs": [
    {
     "data": {
      "text/plain": [
       "('QGCVCHLCCCCCCCKCVECFCK', 8)"
      ]
     },
     "execution_count": 22,
     "metadata": {},
     "output_type": "execute_result"
    }
   ],
   "source": [
    "min_distance = float('inf')\n",
    "closest_aa = ''\n",
    "\n",
    "for aa in all_aas:\n",
    "    if aa!=highest_elisa_score_aa:\n",
    "        distance = Levenshtein.distance(aa, highest_elisa_score_aa)\n",
    "        if distance < min_distance:\n",
    "            min_distance = distance\n",
    "            closest_aa = aa\n",
    "\n",
    "closest_aa, min_distance"
   ]
  },
  {
   "cell_type": "markdown",
   "metadata": {},
   "source": [
    "esm-1v prediction"
   ]
  },
  {
   "cell_type": "code",
   "execution_count": 23,
   "metadata": {},
   "outputs": [],
   "source": [
    "d_res = {\n",
    "    \"QGCVCHLCCCCCCCKCVECFCK\": {\"Q1M\": 4,\n",
    "                               \"H6C\": 4,\n",
    "                               \"E18C\": 3,\n",
    "                               \"K15C\": 2,\n",
    "                               \"L7C\": 1,\n",
    "                               \"Q1C\": 1,},\n",
    "    \n",
    "    \"ACQVQHCCCAFCCYCCVCCFCC\": {\"A10C\": 5,\n",
    "                            \"A1M\": 4,\n",
    "                            \"V17C\": 4,\n",
    "                            \"Y14C\": 2,\n",
    "                            \"A1C\": 1,\n",
    "                            \"F11C\": 1,},\n",
    "\n",
    "    \"CGQVCCCQACFSCCCKCCLFCK\": {\"K16C\": 1,\n",
    "                               \"C1M\": 1,},\n",
    "\n",
    "    \"QCQVQHLCCCFCCYKKVECCPC\": {\"Q1M\": 6},\n",
    "\n",
    "\n",
    "    \"CCQCCCLCCAFCCCCKCELFPK\": {\"Q3C\": 4,\n",
    "         \"K16C\": 4,\n",
    "         \"E18C\": 3,\n",
    "         \"A10C\": 2,\n",
    "         \"F20C\": 1,\n",
    "         \"C1M\": 1,}\n",
    "}"
   ]
  },
  {
   "cell_type": "code",
   "execution_count": 24,
   "metadata": {},
   "outputs": [
    {
     "data": {
      "text/plain": [
       "{'QGCVCHLCCCCCCCKCVECFCK': {'Q1M': 4,\n",
       "  'H6C': 4,\n",
       "  'E18C': 3,\n",
       "  'K15C': 2,\n",
       "  'L7C': 1,\n",
       "  'Q1C': 1},\n",
       " 'ACQVQHCCCAFCCYCCVCCFCC': {'A10C': 5,\n",
       "  'A1M': 4,\n",
       "  'V17C': 4,\n",
       "  'Y14C': 2,\n",
       "  'A1C': 1,\n",
       "  'F11C': 1},\n",
       " 'CGQVCCCQACFSCCCKCCLFCK': {'K16C': 1, 'C1M': 1},\n",
       " 'QCQVQHLCCCFCCYKKVECCPC': {'Q1M': 6},\n",
       " 'CCQCCCLCCAFCCCCKCELFPK': {'Q3C': 4,\n",
       "  'K16C': 4,\n",
       "  'E18C': 3,\n",
       "  'A10C': 2,\n",
       "  'F20C': 1,\n",
       "  'C1M': 1}}"
      ]
     },
     "execution_count": 24,
     "metadata": {},
     "output_type": "execute_result"
    }
   ],
   "source": [
    "d_res"
   ]
  },
  {
   "cell_type": "markdown",
   "metadata": {},
   "source": [
    "let's remove the 1M"
   ]
  },
  {
   "cell_type": "code",
   "execution_count": 25,
   "metadata": {},
   "outputs": [],
   "source": [
    "d_res = {\n",
    "    \"QGCVCHLCCCCCCCKCVECFCK\": {\n",
    "                               \"H6C\": 4,\n",
    "                               \"E18C\": 3,\n",
    "                               \"K15C\": 2,\n",
    "                               \"L7C\": 1,\n",
    "                               \"Q1C\": 1,},\n",
    "    \n",
    "    \"ACQVQHCCCAFCCYCCVCCFCC\": {\"A10C\": 5,\n",
    "                            \"V17C\": 4,\n",
    "                            \"Y14C\": 2,\n",
    "                            \"A1C\": 1,\n",
    "                            \"F11C\": 1,},\n",
    "\n",
    "    \"CGQVCCCQACFSCCCKCCLFCK\": {\"K16C\": 1},\n",
    "\n",
    "    \"CCQCCCLCCAFCCCCKCELFPK\": {\"Q3C\": 4,\n",
    "         \"K16C\": 4,\n",
    "         \"E18C\": 3,\n",
    "         \"A10C\": 2,\n",
    "         \"F20C\": 1}\n",
    "}"
   ]
  },
  {
   "cell_type": "code",
   "execution_count": 26,
   "metadata": {},
   "outputs": [
    {
     "data": {
      "text/plain": [
       "16"
      ]
     },
     "execution_count": 26,
     "metadata": {},
     "output_type": "execute_result"
    }
   ],
   "source": [
    "\n",
    "import re\n",
    "new_list = []\n",
    "for base_seq,res in d_res.items():\n",
    "    for mut,score in res.items():\n",
    "        mut = re.findall(r'[A-Za-z]+|\\d+', mut)\n",
    "        assert len(mut)==3\n",
    "        pos = mut[1]\n",
    "        idx = int(pos)-1\n",
    "        mutated = base_seq[:idx] + mut[2] + base_seq[idx+1:]\n",
    "        assert len(mutated)==len(base_seq)\n",
    "        assert mutated[idx]==mut[2]\n",
    "        new_list.append((mutated))\n",
    "new_list = list(set(new_list))\n",
    "len(new_list)"
   ]
  },
  {
   "cell_type": "markdown",
   "metadata": {},
   "source": [
    "let's do combination if higher than 1 (used 2 before, but let's try 2 anyway)"
   ]
  },
  {
   "cell_type": "code",
   "execution_count": 27,
   "metadata": {},
   "outputs": [
    {
     "data": {
      "text/plain": [
       "{'QGCVCHLCCCCCCCKCVECFCK': ['H6C', 'E18C', 'K15C', 'L7C', 'Q1C'],\n",
       " 'ACQVQHCCCAFCCYCCVCCFCC': ['A10C', 'V17C', 'Y14C', 'A1C', 'F11C'],\n",
       " 'CGQVCCCQACFSCCCKCCLFCK': ['K16C'],\n",
       " 'CCQCCCLCCAFCCCCKCELFPK': ['Q3C', 'K16C', 'E18C', 'A10C', 'F20C']}"
      ]
     },
     "execution_count": 27,
     "metadata": {},
     "output_type": "execute_result"
    }
   ],
   "source": [
    "d_combi = {}\n",
    "for base_seq,res in d_res.items():\n",
    "    d_combi[base_seq] = []\n",
    "    for mut,score in res.items():\n",
    "        if score>=1:\n",
    "            d_combi[base_seq].append(mut)\n",
    "d_combi"
   ]
  },
  {
   "cell_type": "code",
   "execution_count": 28,
   "metadata": {},
   "outputs": [
    {
     "data": {
      "text/plain": [
       "30"
      ]
     },
     "execution_count": 28,
     "metadata": {},
     "output_type": "execute_result"
    }
   ],
   "source": [
    "import itertools\n",
    "\n",
    "def pairwise_combinations(lst):\n",
    "    return list(itertools.combinations(lst, 2))\n",
    "\n",
    "combi_list = []\n",
    "for base_seq,muts in d_combi.items():\n",
    "    all_muts = pairwise_combinations(muts)\n",
    "    for pairs in all_muts:\n",
    "        mutated = base_seq\n",
    "        for mut in pairs:\n",
    "            mut = re.findall(r'[A-Za-z]+|\\d+', mut)\n",
    "            assert len(mut)==3\n",
    "            pos = mut[1]\n",
    "            idx = int(pos)-1\n",
    "            mutated = mutated[:idx] + mut[2] + mutated[idx+1:]\n",
    "            assert len(mutated)==len(base_seq)\n",
    "            assert mutated[idx]==mut[2]\n",
    "        \n",
    "        combi_list.append((mutated))\n",
    "\n",
    "combi_list = list(set(combi_list))\n",
    "len(combi_list)\n"
   ]
  },
  {
   "cell_type": "code",
   "execution_count": 29,
   "metadata": {},
   "outputs": [
    {
     "data": {
      "text/plain": [
       "46"
      ]
     },
     "execution_count": 29,
     "metadata": {},
     "output_type": "execute_result"
    }
   ],
   "source": [
    "all_new_peptides = list(set(new_list + combi_list))\n",
    "len(all_new_peptides)"
   ]
  },
  {
   "cell_type": "code",
   "execution_count": 30,
   "metadata": {},
   "outputs": [],
   "source": [
    "df_all_new_peptides = pd.DataFrame({'AA': all_new_peptides})\n",
    "df_all_new_peptides.to_csv(f\"{savepath}esm1v.csv\", index=False)"
   ]
  },
  {
   "cell_type": "code",
   "execution_count": null,
   "metadata": {},
   "outputs": [],
   "source": []
  }
 ],
 "metadata": {
  "kernelspec": {
   "display_name": "Python 3 (ipykernel)",
   "language": "python",
   "name": "python3"
  },
  "language_info": {
   "codemirror_mode": {
    "name": "ipython",
    "version": 3
   },
   "file_extension": ".py",
   "mimetype": "text/x-python",
   "name": "python",
   "nbconvert_exporter": "python",
   "pygments_lexer": "ipython3",
   "version": "3.9.18"
  }
 },
 "nbformat": 4,
 "nbformat_minor": 2
}
