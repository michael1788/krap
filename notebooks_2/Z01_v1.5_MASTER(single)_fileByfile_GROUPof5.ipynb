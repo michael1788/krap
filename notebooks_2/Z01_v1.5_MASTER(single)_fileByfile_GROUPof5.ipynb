{
 "cells": [
  {
   "attachments": {},
   "cell_type": "markdown",
   "metadata": {},
   "source": [
    "### Goal"
   ]
  },
  {
   "cell_type": "code",
   "execution_count": 1,
   "metadata": {
    "metadata": {}
   },
   "outputs": [],
   "source": [
    "%load_ext autoreload\n",
    "%autoreload 2"
   ]
  },
  {
   "cell_type": "code",
   "execution_count": 2,
   "metadata": {
    "metadata": {}
   },
   "outputs": [],
   "source": [
    "import os\n",
    "import pandas as pd\n",
    "\n",
    "# to prevent figure \n",
    "# to show in the notebook\n",
    "import matplotlib\n",
    "matplotlib.use('Agg')\n",
    "\n",
    "import matplotlib.pyplot as plt\n",
    "\n",
    "import plotting as plotting"
   ]
  },
  {
   "cell_type": "markdown",
   "metadata": {},
   "source": [
    "### TODO: update this (GROUP OF 5 VERSION)"
   ]
  },
  {
   "cell_type": "code",
   "execution_count": 3,
   "metadata": {
    "metadata": {}
   },
   "outputs": [],
   "source": [
    "date = \"24-12-16\"\n",
    "pathfile = f\"Pulling data/{date}/groups_of_5/single/\""
   ]
  },
  {
   "cell_type": "markdown",
   "metadata": {},
   "source": [
    "### From here; automatic run"
   ]
  },
  {
   "cell_type": "code",
   "execution_count": 4,
   "metadata": {
    "metadata": {}
   },
   "outputs": [],
   "source": [
    "root = f\"/Users/michaelmoret/Library/CloudStorage/GoogleDrive-michael@externa.bio/.shortcut-targets-by-id/1BdUNsBjDh5Gee_76jCiKB1C_CwG0ercP/{pathfile}\"\n",
    "\n",
    "MODE = \"single\"\n",
    "dev = False\n",
    "\n",
    "# number of hairs from the same group together\n",
    "n_together = 5\n",
    "total_hairs = 100"
   ]
  },
  {
   "cell_type": "code",
   "execution_count": 5,
   "metadata": {
    "metadata": {}
   },
   "outputs": [],
   "source": [
    "if not root.endswith(\"/\"):\n",
    "    root += \"/\"\n",
    "\n",
    "sep_category = \"$\" # separates categories like date, experiments, etc\n",
    "sep_count = \"%\" # separated the number of hairs by experiment"
   ]
  },
  {
   "cell_type": "code",
   "execution_count": 6,
   "metadata": {
    "metadata": {}
   },
   "outputs": [
    {
     "name": "stdout",
     "output_type": "stream",
     "text": [
      "\n",
      "*****************************\n",
      "20241216-repeat$IHNY$on25%phosctrl$on25% PK30-2 0.01$on25%PK30-2  0.03$on25% PK30-2 0.05$single.txt\n",
      "Missing records: []\n",
      "splitted_name:  ['on25%phosctrl', 'on25% PK30-2 0.01', 'on25%PK30-2  0.03', 'on25% PK30-2 0.05']\n",
      "len df: 100, len names: 100\n",
      "\n",
      "*****************************\n",
      "20241216$IHNY$25%AActrl$25% PK30-2 0.01$25%PK30-2  0.03$25% PK30-2 0.05$single.txt\n",
      "Missing records: [77]\n",
      "Records order check  [1.0, 2.0, 3.0, 4.0, 5.0, 6.0]\n",
      "splitted_name:  ['25%AActrl', '25% PK30-2 0.01', '25%PK30-2  0.03', '25% PK30-2 0.05']\n",
      "len df: 100, len names: 100\n",
      "\n",
      "*****************************\n",
      "20241213$IHNY$25%phosctrl$25% PK30-2 0.01$25%PK30-2  0.03$25% PK30-2 0.05$single.txt\n",
      "Missing records: []\n",
      "splitted_name:  ['25%phosctrl', '25% PK30-2 0.01', '25%PK30-2  0.03', '25% PK30-2 0.05']\n",
      "len df: 100, len names: 100\n",
      "['phosctrl', 'phosctrl', 'phosctrl', 'phosctrl', 'phosctrl', ' PK30-2 0.01', ' PK30-2 0.01', ' PK30-2 0.01', ' PK30-2 0.01', ' PK30-2 0.01', 'PK30-2  0.03', 'PK30-2  0.03', 'PK30-2  0.03', 'PK30-2  0.03', 'PK30-2  0.03', ' PK30-2 0.05', ' PK30-2 0.05', ' PK30-2 0.05', ' PK30-2 0.05', ' PK30-2 0.05', 'phosctrl', 'phosctrl', 'phosctrl', 'phosctrl', 'phosctrl', ' PK30-2 0.01', ' PK30-2 0.01', ' PK30-2 0.01', ' PK30-2 0.01', ' PK30-2 0.01', 'PK30-2  0.03', 'PK30-2  0.03', 'PK30-2  0.03', 'PK30-2  0.03', 'PK30-2  0.03', ' PK30-2 0.05', ' PK30-2 0.05', ' PK30-2 0.05', ' PK30-2 0.05', ' PK30-2 0.05', 'phosctrl', 'phosctrl', 'phosctrl', 'phosctrl', 'phosctrl', ' PK30-2 0.01', ' PK30-2 0.01', ' PK30-2 0.01', ' PK30-2 0.01', ' PK30-2 0.01', 'PK30-2  0.03', 'PK30-2  0.03', 'PK30-2  0.03', 'PK30-2  0.03', 'PK30-2  0.03', ' PK30-2 0.05', ' PK30-2 0.05', ' PK30-2 0.05', ' PK30-2 0.05', ' PK30-2 0.05', 'phosctrl', 'phosctrl', 'phosctrl', 'phosctrl', 'phosctrl', ' PK30-2 0.01', ' PK30-2 0.01', ' PK30-2 0.01', ' PK30-2 0.01', ' PK30-2 0.01', 'PK30-2  0.03', 'PK30-2  0.03', 'PK30-2  0.03', 'PK30-2  0.03', 'PK30-2  0.03', ' PK30-2 0.05', ' PK30-2 0.05', ' PK30-2 0.05', ' PK30-2 0.05', ' PK30-2 0.05', 'phosctrl', 'phosctrl', 'phosctrl', 'phosctrl', 'phosctrl', ' PK30-2 0.01', ' PK30-2 0.01', ' PK30-2 0.01', ' PK30-2 0.01', ' PK30-2 0.01', 'PK30-2  0.03', 'PK30-2  0.03', 'PK30-2  0.03', 'PK30-2  0.03', 'PK30-2  0.03', ' PK30-2 0.05', ' PK30-2 0.05', ' PK30-2 0.05', ' PK30-2 0.05', ' PK30-2 0.05']\n"
     ]
    }
   ],
   "source": [
    "all_dfs = []\n",
    "all_fns = []\n",
    "\n",
    "for file in os.listdir(root):\n",
    "    if file.endswith(\".txt\"):\n",
    "        print(\"\\n*****************************\")\n",
    "        print(file)\n",
    "        df = plotting.get_df_from_file(root + file,\n",
    "                                       skip=10)\n",
    "        # clean the df\n",
    "        if MODE in file:\n",
    "            df = plotting.clean_single(df)\n",
    "            assert \"single\" in file\n",
    "        else:\n",
    "            raise ValueError(f\"Not a {MODE} experiment\")\n",
    "\n",
    "        splitted_name = file.split(sep_category)\n",
    "        # get the experiments; i.e. not the date\n",
    "        # not the single or triple etc\n",
    "        splitted_name = splitted_name[2:-1]\n",
    "        print(\"splitted_name: \", splitted_name)\n",
    "        # add the experiment name in the dataframe\n",
    "        all_names = []\n",
    "        \n",
    "        # trick to get the right labels\n",
    "        labelling_round = 0\n",
    "        while labelling_round!=total_hairs:\n",
    "            for entries in splitted_name:\n",
    "                times_name = entries.split(sep_count)\n",
    "                _name = times_name[1]\n",
    "                all_names += [_name] * n_together\n",
    "                labelling_round += n_together\n",
    "                \n",
    "        print(f\"len df: {len(df)}, len names: {len(all_names)}\")\n",
    "        df[\"Name\"] = all_names\n",
    "        # remove nan\n",
    "        df = df.dropna()\n",
    "        all_dfs.append(df)\n",
    "        all_fns.append(file.replace(\".txt\", \"\"))\n",
    "\n",
    "print(all_names)"
   ]
  },
  {
   "cell_type": "code",
   "execution_count": 7,
   "metadata": {
    "metadata": {}
   },
   "outputs": [],
   "source": [
    "def master_plots(df, header, ymin, ymax, savepath, show=False, verbose=False):\n",
    "    fig, ax, removed = plotting.create_boxplot(df, header, ymin, ymax)\n",
    "    #save removed data\n",
    "    removed.to_csv(f\"{savepath}{header}_removed.csv\", index=True)\n",
    "    if verbose:\n",
    "        print(f\"{len(removed)} removed data points for {header}\")\n",
    "    # plot\n",
    "    fig.savefig(f\"{savepath}{header}.png\")\n",
    "    if show: \n",
    "        plt.show()\n",
    "        plt.close()"
   ]
  },
  {
   "cell_type": "code",
   "execution_count": 8,
   "metadata": {
    "metadata": {}
   },
   "outputs": [
    {
     "data": {
      "text/plain": [
       "(3, 3)"
      ]
     },
     "execution_count": 8,
     "metadata": {},
     "output_type": "execute_result"
    }
   ],
   "source": [
    "len(all_dfs), len(all_fns)"
   ]
  },
  {
   "cell_type": "code",
   "execution_count": 9,
   "metadata": {
    "metadata": {}
   },
   "outputs": [
    {
     "data": {
      "text/plain": [
       "['20241216-repeat$IHNY$on25%phosctrl$on25% PK30-2 0.01$on25%PK30-2  0.03$on25% PK30-2 0.05$single',\n",
       " '20241216$IHNY$25%AActrl$25% PK30-2 0.01$25%PK30-2  0.03$25% PK30-2 0.05$single',\n",
       " '20241213$IHNY$25%phosctrl$25% PK30-2 0.01$25%PK30-2  0.03$25% PK30-2 0.05$single']"
      ]
     },
     "execution_count": 9,
     "metadata": {},
     "output_type": "execute_result"
    }
   ],
   "source": [
    "all_fns"
   ]
  },
  {
   "cell_type": "code",
   "execution_count": 10,
   "metadata": {
    "metadata": {}
   },
   "outputs": [
    {
     "name": "stdout",
     "output_type": "stream",
     "text": [
      "\n",
      "************************************\n",
      "20241216-repeat$IHNY$on25%phosctrl$on25% PK30-2 0.01$on25%PK30-2  0.03$on25% PK30-2 0.05$single\n",
      "\n",
      "df length: 90\n",
      "\n",
      "Creating boxplot for TENSILE_STRENGTH\n",
      "Removed outliers for phosctrl : Series([], Name: TENSILE_STRENGTH, dtype: float64)\n",
      "Removed outliers for  PK30-2 0.01 : Series([], Name: TENSILE_STRENGTH, dtype: float64)\n",
      "Removed outliers for PK30-2  0.03 : 50    225.8\n",
      "Name: TENSILE_STRENGTH, dtype: float64\n",
      "Removed outliers for  PK30-2 0.05 : 37    229.5\n",
      "56    146.7\n",
      "Name: TENSILE_STRENGTH, dtype: float64\n",
      "Stats. significance: PK30-2  0.03 and  PK30-2 0.05: p = 0.0253\n",
      "Median for phosctrl: 194.65\n",
      "Median for  PK30-2 0.01: 193.4\n",
      "Median for PK30-2  0.03: 189.75\n",
      "Median for  PK30-2 0.05: 200.45\n",
      "\n",
      "Creating boxplot for BREAK_STRAIN(*)(#)\n",
      "Removed outliers for phosctrl : Series([], Name: BREAK_STRAIN(*)(#), dtype: float64)\n",
      "Removed outliers for  PK30-2 0.01 : 87    64.371\n",
      "Name: BREAK_STRAIN(*)(#), dtype: float64\n",
      "Removed outliers for PK30-2  0.03 : Series([], Name: BREAK_STRAIN(*)(#), dtype: float64)\n",
      "Removed outliers for  PK30-2 0.05 : 16    63.286\n",
      "17    67.706\n",
      "18    37.811\n",
      "37    62.643\n",
      "56    19.278\n",
      "Name: BREAK_STRAIN(*)(#), dtype: float64\n",
      "Median for phosctrl: 49.4465\n",
      "Median for  PK30-2 0.01: 48.7455\n",
      "Median for PK30-2  0.03: 51.016\n",
      "Median for  PK30-2 0.05: 49.357\n",
      "\n",
      "Creating boxplot for BREAK_LOAD\n",
      "Removed outliers for phosctrl : Series([], Name: BREAK_LOAD, dtype: float64)\n",
      "Removed outliers for  PK30-2 0.01 : Series([], Name: BREAK_LOAD, dtype: float64)\n",
      "Removed outliers for PK30-2  0.03 : Series([], Name: BREAK_LOAD, dtype: float64)\n",
      "Removed outliers for  PK30-2 0.05 : Series([], Name: BREAK_LOAD, dtype: float64)\n",
      "Median for phosctrl: 0.7498\n",
      "Median for  PK30-2 0.01: 0.6951\n",
      "Median for PK30-2  0.03: 0.8055\n",
      "Median for  PK30-2 0.05: 0.7571\n",
      "\n",
      "Creating boxplot for EMOD(*)(#)\n",
      "Removed outliers for phosctrl : 4     0.019970\n",
      "21    5.949000\n",
      "40    3.867000\n",
      "60    3.621000\n",
      "80    0.005895\n",
      "Name: EMOD(*)(#), dtype: float64\n",
      "Removed outliers for  PK30-2 0.01 : 45    1.6250\n",
      "87    0.2259\n",
      "Name: EMOD(*)(#), dtype: float64\n",
      "Removed outliers for PK30-2  0.03 : 14    0.02282\n",
      "Name: EMOD(*)(#), dtype: float64\n",
      "Removed outliers for  PK30-2 0.05 : 15    1.823\n",
      "17    3.902\n",
      "37    1.227\n",
      "Name: EMOD(*)(#), dtype: float64\n",
      "Stats. significance: phosctrl and  PK30-2 0.01: p = 0.0492\n",
      "Median for phosctrl: 5.143000000000001\n",
      "Median for  PK30-2 0.01: 5.283\n",
      "Median for PK30-2  0.03: 5.331\n",
      "Median for  PK30-2 0.05: 5.389\n",
      "\n",
      "************************************\n",
      "20241216$IHNY$25%AActrl$25% PK30-2 0.01$25%PK30-2  0.03$25% PK30-2 0.05$single\n",
      "\n",
      "df length: 74\n",
      "\n",
      "Creating boxplot for TENSILE_STRENGTH\n",
      "Removed outliers for AActrl : Series([], Name: TENSILE_STRENGTH, dtype: float64)\n",
      "Removed outliers for  PK30-2 0.01 : 66    162.0\n",
      "Name: TENSILE_STRENGTH, dtype: float64\n",
      "Removed outliers for PK30-2  0.03 : 70    55.9\n",
      "Name: TENSILE_STRENGTH, dtype: float64\n",
      "Removed outliers for  PK30-2 0.05 : 97    132.0\n",
      "Name: TENSILE_STRENGTH, dtype: float64\n",
      "Stats. significance: AActrl and  PK30-2 0.05: p = 0.0381\n",
      "Median for AActrl: 194.0\n",
      "Median for  PK30-2 0.01: 195.0\n",
      "Median for PK30-2  0.03: 193.0\n",
      "Median for  PK30-2 0.05: 201.0\n",
      "\n",
      "Creating boxplot for BREAK_STRAIN(*)(#)\n",
      "Removed outliers for AActrl : Series([], Name: BREAK_STRAIN(*)(#), dtype: float64)\n",
      "Removed outliers for  PK30-2 0.01 : Series([], Name: BREAK_STRAIN(*)(#), dtype: float64)\n",
      "Removed outliers for PK30-2  0.03 : 70    1.64\n",
      "Name: BREAK_STRAIN(*)(#), dtype: float64\n",
      "Removed outliers for  PK30-2 0.05 : Series([], Name: BREAK_STRAIN(*)(#), dtype: float64)\n",
      "Median for AActrl: 47.216\n",
      "Median for  PK30-2 0.01: 50.463\n",
      "Median for PK30-2  0.03: 51.446\n",
      "Median for  PK30-2 0.05: 48.730999999999995\n",
      "\n",
      "Creating boxplot for BREAK_LOAD\n",
      "Removed outliers for AActrl : Series([], Name: BREAK_LOAD, dtype: float64)\n",
      "Removed outliers for  PK30-2 0.01 : Series([], Name: BREAK_LOAD, dtype: float64)\n",
      "Removed outliers for PK30-2  0.03 : Series([], Name: BREAK_LOAD, dtype: float64)\n",
      "Removed outliers for  PK30-2 0.05 : Series([], Name: BREAK_LOAD, dtype: float64)\n",
      "Stats. significance:  PK30-2 0.01 and  PK30-2 0.05: p = 0.0442\n",
      "Stats. significance: PK30-2  0.03 and  PK30-2 0.05: p = 0.0241\n",
      "Median for AActrl: 0.757\n",
      "Median for  PK30-2 0.01: 0.622\n",
      "Median for PK30-2  0.03: 0.658\n",
      "Median for  PK30-2 0.05: 0.84\n",
      "\n",
      "Creating boxplot for EMOD(*)(#)\n",
      "Removed outliers for AActrl : Series([], Name: EMOD(*)(#), dtype: float64)\n",
      "Removed outliers for  PK30-2 0.01 : Series([], Name: EMOD(*)(#), dtype: float64)\n",
      "Removed outliers for PK30-2  0.03 : 70    2.07\n",
      "93    4.10\n",
      "94    5.70\n",
      "Name: EMOD(*)(#), dtype: float64\n",
      "Removed outliers for  PK30-2 0.05 : 56    4.41\n",
      "Name: EMOD(*)(#), dtype: float64\n",
      "Median for AActrl: 5.0200000000000005\n",
      "Median for  PK30-2 0.01: 5.045\n",
      "Median for PK30-2  0.03: 5.08\n",
      "Median for  PK30-2 0.05: 4.970000000000001\n",
      "\n",
      "************************************\n",
      "20241213$IHNY$25%phosctrl$25% PK30-2 0.01$25%PK30-2  0.03$25% PK30-2 0.05$single\n",
      "\n",
      "df length: 77\n",
      "\n",
      "Creating boxplot for TENSILE_STRENGTH\n",
      "Removed outliers for phosctrl : 80    159.0\n",
      "Name: TENSILE_STRENGTH, dtype: float64\n",
      "Removed outliers for  PK30-2 0.01 : 7    129.0\n",
      "Name: TENSILE_STRENGTH, dtype: float64\n",
      "Removed outliers for PK30-2  0.03 : 92    129.0\n",
      "Name: TENSILE_STRENGTH, dtype: float64\n",
      "Removed outliers for  PK30-2 0.05 : 95    109.0\n",
      "97    414.0\n",
      "98    127.0\n",
      "Name: TENSILE_STRENGTH, dtype: float64\n",
      "Stats. significance: phosctrl and  PK30-2 0.05: p = 0.0129\n",
      "Median for phosctrl: 202.0\n",
      "Median for  PK30-2 0.01: 196.0\n",
      "Median for PK30-2  0.03: 193.0\n",
      "Median for  PK30-2 0.05: 186.5\n",
      "\n",
      "Creating boxplot for BREAK_STRAIN(*)(#)\n",
      "Removed outliers for phosctrl : Series([], Name: BREAK_STRAIN(*)(#), dtype: float64)\n",
      "Removed outliers for  PK30-2 0.01 : 7    28.713\n",
      "Name: BREAK_STRAIN(*)(#), dtype: float64\n",
      "Removed outliers for PK30-2  0.03 : 54    63.027\n",
      "Name: BREAK_STRAIN(*)(#), dtype: float64\n",
      "Removed outliers for  PK30-2 0.05 : Series([], Name: BREAK_STRAIN(*)(#), dtype: float64)\n",
      "Median for phosctrl: 49.851\n",
      "Median for  PK30-2 0.01: 51.305\n",
      "Median for PK30-2  0.03: 48.582499999999996\n",
      "Median for  PK30-2 0.05: 49.14\n",
      "\n",
      "Creating boxplot for BREAK_LOAD\n",
      "Removed outliers for phosctrl : Series([], Name: BREAK_LOAD, dtype: float64)\n",
      "Removed outliers for  PK30-2 0.01 : Series([], Name: BREAK_LOAD, dtype: float64)\n",
      "Removed outliers for PK30-2  0.03 : Series([], Name: BREAK_LOAD, dtype: float64)\n",
      "Removed outliers for  PK30-2 0.05 : 75    1.20\n",
      "97    1.26\n",
      "Name: BREAK_LOAD, dtype: float64\n",
      "Stats. significance:  PK30-2 0.01 and  PK30-2 0.05: p = 0.0067\n",
      "Stats. significance: PK30-2  0.03 and  PK30-2 0.05: p = 0.0029\n",
      "Median for phosctrl: 0.792\n",
      "Median for  PK30-2 0.01: 0.7725\n",
      "Median for PK30-2  0.03: 0.86\n",
      "Median for  PK30-2 0.05: 0.59\n",
      "\n",
      "Creating boxplot for EMOD(*)(#)\n",
      "Removed outliers for phosctrl : Series([], Name: EMOD(*)(#), dtype: float64)\n",
      "Removed outliers for  PK30-2 0.01 : Series([], Name: EMOD(*)(#), dtype: float64)\n",
      "Removed outliers for PK30-2  0.03 : Series([], Name: EMOD(*)(#), dtype: float64)\n",
      "Removed outliers for  PK30-2 0.05 : 95    2.90\n",
      "97    9.57\n",
      "Name: EMOD(*)(#), dtype: float64\n",
      "Median for phosctrl: 4.95\n",
      "Median for  PK30-2 0.01: 5.025\n",
      "Median for PK30-2  0.03: 4.970000000000001\n",
      "Median for  PK30-2 0.05: 4.75\n"
     ]
    },
    {
     "name": "stderr",
     "output_type": "stream",
     "text": [
      "/Users/michaelmoret/tinyverse/krap/notebooks_2/plotting.py:218: RuntimeWarning: More than 20 figures have been opened. Figures created through the pyplot interface (`matplotlib.pyplot.figure`) are retained until explicitly closed and may consume too much memory. (To control this warning, see the rcParam `figure.max_open_warning`). Consider using `matplotlib.pyplot.close()`.\n",
      "  plt.figure(figsize=figsize)\n"
     ]
    },
    {
     "name": "stdout",
     "output_type": "stream",
     "text": [
      "\n",
      "\n",
      "plotting DONE\n"
     ]
    }
   ],
   "source": [
    "for df, name in zip(all_dfs, all_fns):\n",
    "    print(\"\\n************************************\")\n",
    "    print(f\"{name}\\n\")\n",
    "    print(f\"df length: {len(df)}\")\n",
    "    try:\n",
    "        savepath = f\"{root}{name}/\"\n",
    "        if dev:\n",
    "            savepath = f\"{root}dev/\"\n",
    "        os.makedirs(savepath, exist_ok=True)\n",
    "        \n",
    "        try:\n",
    "            header = 'TENSILE_STRENGTH'\n",
    "            ymin = 90\n",
    "            ymax = 325\n",
    "            master_plots(df, header, ymin, ymax, savepath)\n",
    "        except Exception as e:\n",
    "            print(f\"ERROR with {header}\")\n",
    "            print(\"Error:\", e)\n",
    "\n",
    "        try:\n",
    "            header = 'BREAK_STRAIN(*)(#)'\n",
    "            ymin = 0\n",
    "            ymax = 100\n",
    "            master_plots(df, header, ymin, ymax, savepath)\n",
    "        except Exception as e:\n",
    "            print(f\"ERROR with {header}\")\n",
    "            print(\"Error:\", e)\n",
    "\n",
    "        try:\n",
    "            header = 'BREAK_LOAD'\n",
    "            ymin = 0\n",
    "            ymax = 2.0\n",
    "            master_plots(df, header, ymin, ymax, savepath)\n",
    "        except Exception as e:\n",
    "            print(f\"ERROR with {header}\")\n",
    "            print(\"Error:\", e)\n",
    "        \n",
    "        try:\n",
    "            header = 'EMOD(*)(#)'\n",
    "            ymin = 2.5\n",
    "            ymax = 8.0\n",
    "            master_plots(df, header, ymin, ymax, savepath)\n",
    "        except Exception as e:\n",
    "            print(f\"ERROR with {header}\")\n",
    "            print(\"Error:\", e)\n",
    "\n",
    "        # scatter plots\n",
    "        y_col = 'TENSILE_STRENGTH'\n",
    "        x_col = 'MEAN AREA'\n",
    "        savedir = f\"{savepath}correlation_plot/\"\n",
    "        plt = plotting.create_scatter_plot(df, x_col, y_col, savedir)\n",
    "\n",
    "        y_col = 'EMOD(*)(#)'\n",
    "        x_col = 'MEAN AREA'\n",
    "        savedir = f\"{savepath}correlation_plot/\"\n",
    "        plt = plotting.create_scatter_plot(df, x_col, y_col, savedir)\n",
    "\n",
    "        y_col = 'BREAK_LOAD'\n",
    "        x_col = 'MEAN AREA'\n",
    "        savedir = f\"{savepath}correlation_plot/\"\n",
    "        plt = plotting.create_scatter_plot(df, x_col, y_col, savedir)\n",
    "\n",
    "    except:\n",
    "        print(f\"\\nERROR with {name}\\n\")\n",
    "        continue\n",
    "\n",
    "print(\"\\n\\nplotting DONE\")"
   ]
  },
  {
   "cell_type": "code",
   "execution_count": null,
   "metadata": {},
   "outputs": [],
   "source": []
  }
 ],
 "metadata": {
  "kernelspec": {
   "display_name": "Python 3 (ipykernel)",
   "language": "python",
   "name": "python3"
  },
  "language_info": {
   "codemirror_mode": {
    "name": "ipython",
    "version": 3
   },
   "file_extension": ".py",
   "mimetype": "text/x-python",
   "name": "python",
   "nbconvert_exporter": "python",
   "pygments_lexer": "ipython3",
   "version": "3.9.18"
  }
 },
 "nbformat": 4,
 "nbformat_minor": 2
}
