{
 "cells": [
  {
   "attachments": {},
   "cell_type": "markdown",
   "metadata": {},
   "source": [
    "### Goal"
   ]
  },
  {
   "cell_type": "code",
   "execution_count": 1,
   "metadata": {},
   "outputs": [],
   "source": [
    "%load_ext autoreload\n",
    "%autoreload 2"
   ]
  },
  {
   "cell_type": "code",
   "execution_count": 2,
   "metadata": {},
   "outputs": [],
   "source": [
    "import os, sys\n",
    "import pandas as pd\n",
    "import numpy as np\n",
    "import math\n",
    "\n",
    "import matplotlib.pyplot as plt\n",
    "\n",
    "sys.path.append(\"../../data_analysis/\")\n",
    "import helper as hp"
   ]
  },
  {
   "cell_type": "code",
   "execution_count": 3,
   "metadata": {},
   "outputs": [],
   "source": [
    "savepath = \"C05_result_elisa2/\"\n",
    "os.makedirs(savepath, exist_ok=True)"
   ]
  },
  {
   "cell_type": "code",
   "execution_count": 4,
   "metadata": {},
   "outputs": [],
   "source": [
    "df_esm1v = pd.read_csv(\"C01_elisa_extract_top_seq/esm1v.csv\")\n",
    "esm1v = df_esm1v[\"AA\"].to_list()"
   ]
  },
  {
   "cell_type": "code",
   "execution_count": 5,
   "metadata": {},
   "outputs": [
    {
     "data": {
      "text/plain": [
       "7"
      ]
     },
     "execution_count": 5,
     "metadata": {},
     "output_type": "execute_result"
    }
   ],
   "source": [
    "df_cterm = pd.read_csv(\"C02_pats_peptides/cterm_pat.csv\")\n",
    "cterm = df_cterm[\"AA\"].to_list()\n",
    "len(cterm)"
   ]
  },
  {
   "cell_type": "code",
   "execution_count": 6,
   "metadata": {},
   "outputs": [
    {
     "data": {
      "text/plain": [
       "7"
      ]
     },
     "execution_count": 6,
     "metadata": {},
     "output_type": "execute_result"
    }
   ],
   "source": [
    "df_nterm = pd.read_csv(\"C02_pats_peptides_nterm/nterm_pat.csv\")\n",
    "nterm = df_nterm[\"AA\"].to_list()\n",
    "len(nterm)"
   ]
  },
  {
   "cell_type": "code",
   "execution_count": 7,
   "metadata": {},
   "outputs": [
    {
     "data": {
      "text/plain": [
       "30"
      ]
     },
     "execution_count": 7,
     "metadata": {},
     "output_type": "execute_result"
    }
   ],
   "source": [
    "df_patent = pd.read_csv(\"C03_new_patent_extraction/new_patent.csv\")\n",
    "patent = df_patent[\"AA\"].to_list()\n",
    "len(patent)"
   ]
  },
  {
   "cell_type": "markdown",
   "metadata": {},
   "source": [
    "get the data elisa screen"
   ]
  },
  {
   "cell_type": "code",
   "execution_count": 8,
   "metadata": {},
   "outputs": [
    {
     "data": {
      "text/html": [
       "<div>\n",
       "<style scoped>\n",
       "    .dataframe tbody tr th:only-of-type {\n",
       "        vertical-align: middle;\n",
       "    }\n",
       "\n",
       "    .dataframe tbody tr th {\n",
       "        vertical-align: top;\n",
       "    }\n",
       "\n",
       "    .dataframe thead th {\n",
       "        text-align: right;\n",
       "    }\n",
       "</style>\n",
       "<table border=\"1\" class=\"dataframe\">\n",
       "  <thead>\n",
       "    <tr style=\"text-align: right;\">\n",
       "      <th></th>\n",
       "      <th>0</th>\n",
       "      <th>1</th>\n",
       "      <th>2</th>\n",
       "      <th>3</th>\n",
       "      <th>4</th>\n",
       "    </tr>\n",
       "  </thead>\n",
       "  <tbody>\n",
       "    <tr>\n",
       "      <th>0</th>\n",
       "      <td>seq4</td>\n",
       "      <td>CCQCCCLCCCFCCCCCCELFPK</td>\n",
       "      <td>22.0</td>\n",
       "      <td>14.0</td>\n",
       "      <td>0.272</td>\n",
       "    </tr>\n",
       "    <tr>\n",
       "      <th>1</th>\n",
       "      <td>seq74</td>\n",
       "      <td>QACAQCLCAAFSQYAKVELFPK</td>\n",
       "      <td>22.0</td>\n",
       "      <td>3.0</td>\n",
       "      <td>0.263</td>\n",
       "    </tr>\n",
       "  </tbody>\n",
       "</table>\n",
       "</div>"
      ],
      "text/plain": [
       "       0                       1     2     3      4\n",
       "0   seq4  CCQCCCLCCCFCCCCCCELFPK  22.0  14.0  0.272\n",
       "1  seq74  QACAQCLCAAFSQYAKVELFPK  22.0   3.0  0.263"
      ]
     },
     "execution_count": 8,
     "metadata": {},
     "output_type": "execute_result"
    }
   ],
   "source": [
    "df_elisa = pd.read_excel(f\"{savepath}/20240321_DAN_ELISA_plate2_.xlsx\", \n",
    "                         sheet_name=\"Sheet1\",\n",
    "                         header=None)\n",
    "df_elisa.head(2)"
   ]
  },
  {
   "cell_type": "code",
   "execution_count": 9,
   "metadata": {},
   "outputs": [
    {
     "data": {
      "text/plain": [
       "90"
      ]
     },
     "execution_count": 9,
     "metadata": {},
     "output_type": "execute_result"
    }
   ],
   "source": [
    "df_elisa = df_elisa.dropna()\n",
    "len(df_elisa)"
   ]
  },
  {
   "cell_type": "code",
   "execution_count": 10,
   "metadata": {},
   "outputs": [
    {
     "data": {
      "text/plain": [
       "['CCQCCCLCCCFCCCCCCELFPK', 'QACAQCLCAAFSQYAKVELFPK', 'QGQVQCLCCCCSQYKKVECFPK']"
      ]
     },
     "execution_count": 10,
     "metadata": {},
     "output_type": "execute_result"
    }
   ],
   "source": [
    "pep_list = df_elisa[1].to_list()\n",
    "pep_list[:3]"
   ]
  },
  {
   "cell_type": "code",
   "execution_count": 11,
   "metadata": {},
   "outputs": [
    {
     "data": {
      "text/plain": [
       "[0.272, 0.263, 0.261]"
      ]
     },
     "execution_count": 11,
     "metadata": {},
     "output_type": "execute_result"
    }
   ],
   "source": [
    "score_list = df_elisa[4].to_list()\n",
    "score_list[:3]"
   ]
  },
  {
   "cell_type": "code",
   "execution_count": 12,
   "metadata": {},
   "outputs": [
    {
     "data": {
      "text/plain": [
       "90"
      ]
     },
     "execution_count": 12,
     "metadata": {},
     "output_type": "execute_result"
    }
   ],
   "source": [
    "origin = []\n",
    "for p,s in zip(pep_list, score_list):\n",
    "    if p in esm1v:\n",
    "        origin.append(\"esm1v\")\n",
    "    elif p in cterm:\n",
    "        origin.append(\"cterm\")\n",
    "    elif p in nterm:\n",
    "        origin.append(\"nterm\")\n",
    "    elif p in patent:\n",
    "        origin.append(\"patent\")\n",
    "    else:\n",
    "        origin.append(\"unknown\")\n",
    "len(origin)"
   ]
  },
  {
   "cell_type": "code",
   "execution_count": 13,
   "metadata": {},
   "outputs": [
    {
     "name": "stdout",
     "output_type": "stream",
     "text": [
      "CCQCCCLCCCFCCCCCCELFPK 0.272 esm1v\n",
      "QACAQCLCAAFSQYAKVELFPK 0.263 patent\n",
      "QGQVQCLCCCCSQYKKVECFPK 0.261 patent\n",
      "CCQCCCLCCCFCCCCKCELCPK 0.229 esm1v\n",
      "CCQCCCLCCAFCCCCKCCLCPK 0.212 esm1v\n",
      "CCQCCCLCCAFCCCCCCELCPK 0.195 esm1v\n",
      "QGQVQHLQACFSAYKKVELFPK 0.195 patent\n",
      "QGCCQHLCAAFSQYKCVELFPK 0.193 patent\n",
      "CCQCCCLCCCFCCCCKCELFPK 0.191 esm1v\n",
      "QGCVCHLCCCCCCCCCVCCFCK 0.189 esm1v\n",
      "QGCCCHCQCAFCQYCACELCPK 0.188 patent\n",
      "QGCVCHCCCCCCCCKCVCCFCK 0.187 esm1v\n",
      "CACCQACCACFSCAKCAECFCK 0.184 patent\n",
      "CCCCCCLCCAFCCCCKCELFPK 0.182 esm1v\n",
      "CGCCCHLCCCFCCYKKCELFPKC 0.18 patent\n",
      "CCQCCCLCCAFCCCCKCCLFPK 0.177 esm1v\n",
      "CCQCCCLCCAFCCCCKCELCPK 0.176 esm1v\n",
      "QGCVCHLCCCCCCCCCVECFCK 0.165 esm1v\n",
      "CCQCCCLCCCFCCCCKCCLFPK 0.164 esm1v\n",
      "CCQCCHCQCCFSQYCKVCCFPK 0.164 patent\n",
      "CCQCCCLCCAFCCCCCCCLFPK 0.156 esm1v\n",
      "CCQCCCLCCAFCCCCCCELFPK 0.156 esm1v\n",
      "CCCCCCLCCAFCCCCKCCLFPK 0.156 esm1v\n",
      "CCCCCCLCCAFCCCCCCELFPK 0.153 esm1v\n",
      "QGQCQHCQAAFSQACKAELFPK 0.151 patent\n",
      "QGCVCHCCCCCCCCCCVECFCK 0.15 esm1v\n",
      "CCCVCCCQAACSAYCCCCACPK 0.148 patent\n",
      "CGCVCHLCCCCCCCKCVCCFCK 0.147 esm1v\n",
      "CCCCCCLCCAFCCCCKCELCPK 0.147 esm1v\n",
      "ACQVQHCCCAFCCYCCCCCFCC 0.145 esm1v\n",
      "QGCVCCLCCCCCCCKCVCCFCK 0.145 esm1v\n",
      "ACQVQHCCCCFCCYCCCCCFCC 0.141 esm1v\n",
      "QCQVQHLQAAFCQCKCCELCPK 0.141 patent\n",
      "CCCCCCLCCCFCCCCKCELFPK 0.14 esm1v\n",
      "SSMMENAIALANEEIARFEAYAERVVAELK 0.137 nterm\n",
      "CGQVCCCQACFSCCCCCCLFCK 0.136 esm1v\n",
      "QAQVQHLQAAFSQCCCVELFCK 0.136 patent\n",
      "QGCVCCLCCCCCCCCCVECFCK 0.133 esm1v\n",
      "CCQVQHCCCAFCCYCCVCCFCC 0.132 esm1v\n",
      "QGQVQHCCAAFSQYKKVELFPK 0.132 patent\n",
      "CGCVCCLCCCCCCCKCVECFCK 0.131 esm1v\n",
      "CGCVCHLCCCCCCCCCVECFCK 0.129 esm1v\n",
      "CCQVQHCCCAFCCCCCVCCFCC 0.128 esm1v\n",
      "ACQVQHCCCCFCCCCCVCCFCC 0.126 esm1v\n",
      "CGCVCHCCCCCCCCKCVECFCK 0.125 esm1v\n",
      "ACQVQHCCCACCCCCCVCCFCC 0.123 esm1v\n",
      "CGQVCHLQCAFSGYKKCELFPKC 0.122 patent\n",
      "QGCVQCLQCACCACKCCCLFCA 0.122 patent\n",
      "CGCVCHLCCCCCCCKCVECFCK 0.121 esm1v\n",
      "ACQVQHCCCCFCCYCCVCCFCC 0.121 esm1v\n",
      "QGCVCCCCCCCCCCKCVECFCK 0.12 esm1v\n",
      "CCQVQHCCCCFCCYCCVCCFCC 0.12 esm1v\n",
      "QGCVCHCCCCCCCCKCVECFCK 0.12 esm1v\n",
      "QGCVCHLCCCCCCCKCVCCFCK 0.117 esm1v\n",
      "QGQVQHLCACCSCYKKVCCCCC 0.117 patent\n",
      "ACQVQHCCCACCCYCCCCCFCC 0.116 esm1v\n",
      "CCQVQHCCCAFCCYCCCCCFCC 0.112 esm1v\n",
      "ACQVQHCCCACCCYCCVCCFCC 0.111 esm1v\n",
      "CGCVQHCQAAFCQYAKVCLFAK 0.11 patent\n",
      "QCQCQCLQAAFCCYCKVELCPK 0.11 patent\n",
      "QACVQALAACFSQCKCVCLCPC 0.11 patent\n",
      "ACQVQHCCCCCCCYCCVCCFCC 0.109 esm1v\n",
      "CCQVQHCCCACCCYCCVCCFCC 0.108 esm1v\n",
      "HMMDEIKKLANESIKEFEEYAEKVLEELKE 0.108 nterm\n",
      "ACQVQHCCCAFCCCCCVCCFCC 0.107 esm1v\n",
      "CGAVQCCCACFCCCAKVECFCA 0.106 patent\n",
      "QACVQHCQCCFCQAKAVELCPK 0.105 patent\n",
      "CCQVQCCCAACCQYCKVECFPK 0.104 patent\n",
      "CGQCCHLQCCFCQYKKCELFPKC 0.1 patent\n",
      "CQGQVQHLQAAFSQYKKCELFPKC 0.098 patent\n",
      "CGQVCHLQCAFSQYKKCELFPKC 0.097 patent\n",
      "ACQVQHCCCAFCCCCCCCCFCC 0.093 esm1v\n",
      "HMMDEIIAKANEAIEEFEAYARAQLAELKA 0.092 nterm\n",
      "QGQVQCCQAACSQYKKVELFPC 0.09 patent\n",
      "QGCVACLQCAFSQYKKCAACPC 0.088 patent\n",
      "QGQCCCLQCACCQYCKCECFPC 0.087 patent\n",
      "QCCVCCAQACFCQYKKCECCCA 0.084 patent\n",
      "QGCVCCLCCCCCCCKCVECFCK 0.083 esm1v\n",
      "CGCCAALCACCSCYKKACCFPA 0.08 patent\n",
      "SLSELFERNRELKERL 0.073 cterm\n",
      "SLVELFKRVQELKEK 0.073 cterm\n",
      "SDLAALFQRVQELKE 0.071 cterm\n",
      "SSLMEEIRALAKAEVAEFEAEVEKRLAEMK 0.071 nterm\n",
      "GEIVELYKRVQELKEKL 0.07 cterm\n",
      "SEFVEMFQRIRELRE 0.069 cterm\n",
      "DDMNRKVNEAIAEMEEYAEEVLKELKEEVE 0.069 nterm\n",
      "SLVSLYERVQRLKEEL 0.066 cterm\n",
      "SLEELFERNRRLKEEL 0.064 cterm\n",
      "SEMNELANESIAEMEAYARRVNEEL 0.063 nterm\n",
      "DEMNRLANEAIAEMEAYAAAQLEALKARVA 0.059 nterm\n"
     ]
    }
   ],
   "source": [
    "for p,s,o in zip(pep_list, score_list, origin):\n",
    "    print(p,s,o)"
   ]
  },
  {
   "cell_type": "code",
   "execution_count": null,
   "metadata": {},
   "outputs": [],
   "source": []
  }
 ],
 "metadata": {
  "kernelspec": {
   "display_name": "Python 3 (ipykernel)",
   "language": "python",
   "name": "python3"
  },
  "language_info": {
   "codemirror_mode": {
    "name": "ipython",
    "version": 3
   },
   "file_extension": ".py",
   "mimetype": "text/x-python",
   "name": "python",
   "nbconvert_exporter": "python",
   "pygments_lexer": "ipython3",
   "version": "3.9.18"
  }
 },
 "nbformat": 4,
 "nbformat_minor": 2
}
