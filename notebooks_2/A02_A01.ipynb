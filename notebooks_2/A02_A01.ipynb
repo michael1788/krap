{
 "cells": [
  {
   "attachments": {},
   "cell_type": "markdown",
   "metadata": {},
   "source": [
    "### Goal\n",
    "- we have unvalid characters in the previous sequences; let's take a subset of that patent without them to try to still have a 96 plate"
   ]
  },
  {
   "cell_type": "code",
   "execution_count": 1,
   "metadata": {},
   "outputs": [],
   "source": [
    "%load_ext autoreload\n",
    "%autoreload 2"
   ]
  },
  {
   "cell_type": "code",
   "execution_count": 2,
   "metadata": {},
   "outputs": [],
   "source": [
    "import os, sys\n",
    "import pandas as pd\n",
    "import numpy as np\n",
    "import math\n",
    "\n",
    "import matplotlib.pyplot as plt\n",
    "\n",
    "sys.path.append(\"../\")\n",
    "import helper as hp"
   ]
  },
  {
   "cell_type": "code",
   "execution_count": 3,
   "metadata": {},
   "outputs": [],
   "source": [
    "savepath = \"A02_A01/\"\n",
    "os.makedirs(savepath, exist_ok=True)"
   ]
  },
  {
   "cell_type": "code",
   "execution_count": 4,
   "metadata": {},
   "outputs": [
    {
     "data": {
      "text/html": [
       "<div>\n",
       "<style scoped>\n",
       "    .dataframe tbody tr th:only-of-type {\n",
       "        vertical-align: middle;\n",
       "    }\n",
       "\n",
       "    .dataframe tbody tr th {\n",
       "        vertical-align: top;\n",
       "    }\n",
       "\n",
       "    .dataframe thead th {\n",
       "        text-align: right;\n",
       "    }\n",
       "</style>\n",
       "<table border=\"1\" class=\"dataframe\">\n",
       "  <thead>\n",
       "    <tr style=\"text-align: right;\">\n",
       "      <th></th>\n",
       "      <th>File Name</th>\n",
       "      <th>Peptide Sequence</th>\n",
       "      <th>Peptide Length</th>\n",
       "      <th>Cys Number</th>\n",
       "      <th>Cys Content (# of Cys / Length)</th>\n",
       "      <th>Lys Number</th>\n",
       "      <th>Lys Content (# of Lys / Length)</th>\n",
       "      <th>PTM Score</th>\n",
       "      <th>IPTM Score</th>\n",
       "      <th>Confidence Score (0.2PTM + 0.8IPTM)</th>\n",
       "    </tr>\n",
       "  </thead>\n",
       "  <tbody>\n",
       "    <tr>\n",
       "      <th>0</th>\n",
       "      <td>Hair_Keratin_1_Coil_2_Pep_Seq_16_scores_rank_0...</td>\n",
       "      <td>KKVELFPK</td>\n",
       "      <td>8</td>\n",
       "      <td>0</td>\n",
       "      <td>0.000000</td>\n",
       "      <td>3</td>\n",
       "      <td>0.375</td>\n",
       "      <td>0.66</td>\n",
       "      <td>0.64</td>\n",
       "      <td>0.644</td>\n",
       "    </tr>\n",
       "    <tr>\n",
       "      <th>1</th>\n",
       "      <td>Hair_Keratin_1_Coil_2_Pep_Seq_50_scores_rank_0...</td>\n",
       "      <td>GGVCGPSPPCIT</td>\n",
       "      <td>12</td>\n",
       "      <td>2</td>\n",
       "      <td>0.166667</td>\n",
       "      <td>0</td>\n",
       "      <td>0.000</td>\n",
       "      <td>0.66</td>\n",
       "      <td>0.64</td>\n",
       "      <td>0.644</td>\n",
       "    </tr>\n",
       "  </tbody>\n",
       "</table>\n",
       "</div>"
      ],
      "text/plain": [
       "                                           File Name Peptide Sequence  \\\n",
       "0  Hair_Keratin_1_Coil_2_Pep_Seq_16_scores_rank_0...         KKVELFPK   \n",
       "1  Hair_Keratin_1_Coil_2_Pep_Seq_50_scores_rank_0...     GGVCGPSPPCIT   \n",
       "\n",
       "   Peptide Length  Cys Number  Cys Content (# of Cys / Length)  Lys Number  \\\n",
       "0               8           0                         0.000000           3   \n",
       "1              12           2                         0.166667           0   \n",
       "\n",
       "   Lys Content (# of Lys / Length)  PTM Score  IPTM Score  \\\n",
       "0                            0.375       0.66        0.64   \n",
       "1                            0.000       0.66        0.64   \n",
       "\n",
       "   Confidence Score (0.2PTM + 0.8IPTM)  \n",
       "0                                0.644  \n",
       "1                                0.644  "
      ]
     },
     "execution_count": 4,
     "metadata": {},
     "output_type": "execute_result"
    }
   ],
   "source": [
    "df = pd.read_excel(f\"A01_patent_peptides_for_ordering/AF2_Predictions_Peptides_Hair_Keratin_1_Coil_2.xlsx\")\n",
    "df.head(2)"
   ]
  },
  {
   "cell_type": "code",
   "execution_count": 5,
   "metadata": {},
   "outputs": [
    {
     "data": {
      "text/plain": [
       "Index(['File Name', 'Peptide Sequence', 'Peptide Length', 'Cys Number',\n",
       "       'Cys Content (# of Cys / Length)', 'Lys Number',\n",
       "       'Lys Content (# of Lys / Length)', 'PTM Score', 'IPTM Score',\n",
       "       'Confidence Score (0.2PTM + 0.8IPTM)'],\n",
       "      dtype='object')"
      ]
     },
     "execution_count": 5,
     "metadata": {},
     "output_type": "execute_result"
    }
   ],
   "source": [
    "df.columns"
   ]
  },
  {
   "cell_type": "code",
   "execution_count": 6,
   "metadata": {},
   "outputs": [
    {
     "data": {
      "text/plain": [
       "115"
      ]
     },
     "execution_count": 6,
     "metadata": {},
     "output_type": "execute_result"
    }
   ],
   "source": [
    "len(df)"
   ]
  },
  {
   "cell_type": "code",
   "execution_count": 7,
   "metadata": {},
   "outputs": [
    {
     "data": {
      "text/plain": [
       "['KKVELFPK', 'GGVCGPSPPCIT', 'GGVCGPSPPCITT', 'ASCCRPSYCG', 'CTPPSCCQLHHA']"
      ]
     },
     "execution_count": 7,
     "metadata": {},
     "output_type": "execute_result"
    }
   ],
   "source": [
    "all_peptides = df[\"Peptide Sequence\"].to_list()\n",
    "all_peptides[:5]"
   ]
  },
  {
   "cell_type": "code",
   "execution_count": 8,
   "metadata": {},
   "outputs": [
    {
     "data": {
      "text/plain": [
       "115"
      ]
     },
     "execution_count": 8,
     "metadata": {},
     "output_type": "execute_result"
    }
   ],
   "source": [
    "len(all_peptides)"
   ]
  },
  {
   "cell_type": "code",
   "execution_count": 9,
   "metadata": {},
   "outputs": [
    {
     "data": {
      "text/plain": [
       "115"
      ]
     },
     "execution_count": 9,
     "metadata": {},
     "output_type": "execute_result"
    }
   ],
   "source": [
    "all_peptides = list(set(all_peptides))\n",
    "len(all_peptides)"
   ]
  },
  {
   "cell_type": "code",
   "execution_count": 10,
   "metadata": {},
   "outputs": [
    {
     "data": {
      "text/plain": [
       "97"
      ]
     },
     "execution_count": 10,
     "metadata": {},
     "output_type": "execute_result"
    }
   ],
   "source": [
    "all_peptides = [x for x in all_peptides if \"O\" not in x]\n",
    "len(all_peptides)"
   ]
  },
  {
   "cell_type": "code",
   "execution_count": 11,
   "metadata": {},
   "outputs": [
    {
     "data": {
      "text/plain": [
       "97"
      ]
     },
     "execution_count": 11,
     "metadata": {},
     "output_type": "execute_result"
    }
   ],
   "source": [
    "all_peptides = [x for x in all_peptides if \"0\" not in x]\n",
    "len(all_peptides)"
   ]
  },
  {
   "cell_type": "code",
   "execution_count": 12,
   "metadata": {},
   "outputs": [
    {
     "data": {
      "text/plain": [
       "96"
      ]
     },
     "execution_count": 12,
     "metadata": {},
     "output_type": "execute_result"
    }
   ],
   "source": [
    "import random\n",
    "\n",
    "subset = random.sample(all_peptides, 96)\n",
    "len(subset)"
   ]
  },
  {
   "cell_type": "code",
   "execution_count": 13,
   "metadata": {},
   "outputs": [
    {
     "data": {
      "text/plain": [
       "96"
      ]
     },
     "execution_count": 13,
     "metadata": {},
     "output_type": "execute_result"
    }
   ],
   "source": [
    "all_ids = [\"patent_peptide_\" + str(x) for x in range(1, len(subset) + 1)]\n",
    "len(all_ids)"
   ]
  },
  {
   "cell_type": "code",
   "execution_count": 14,
   "metadata": {},
   "outputs": [
    {
     "data": {
      "text/html": [
       "<div>\n",
       "<style scoped>\n",
       "    .dataframe tbody tr th:only-of-type {\n",
       "        vertical-align: middle;\n",
       "    }\n",
       "\n",
       "    .dataframe tbody tr th {\n",
       "        vertical-align: top;\n",
       "    }\n",
       "\n",
       "    .dataframe thead th {\n",
       "        text-align: right;\n",
       "    }\n",
       "</style>\n",
       "<table border=\"1\" class=\"dataframe\">\n",
       "  <thead>\n",
       "    <tr style=\"text-align: right;\">\n",
       "      <th></th>\n",
       "      <th>ID</th>\n",
       "      <th>Peptide</th>\n",
       "    </tr>\n",
       "  </thead>\n",
       "  <tbody>\n",
       "    <tr>\n",
       "      <th>0</th>\n",
       "      <td>patent_peptide_1</td>\n",
       "      <td>QGQVQHLQCAFSCYKKCELFPK</td>\n",
       "    </tr>\n",
       "    <tr>\n",
       "      <th>1</th>\n",
       "      <td>patent_peptide_2</td>\n",
       "      <td>QGQVQHLQACFSQYKKCELFPK</td>\n",
       "    </tr>\n",
       "  </tbody>\n",
       "</table>\n",
       "</div>"
      ],
      "text/plain": [
       "                 ID                 Peptide\n",
       "0  patent_peptide_1  QGQVQHLQCAFSCYKKCELFPK\n",
       "1  patent_peptide_2  QGQVQHLQACFSQYKKCELFPK"
      ]
     },
     "execution_count": 14,
     "metadata": {},
     "output_type": "execute_result"
    }
   ],
   "source": [
    "df_to_opti = pd.DataFrame({'ID': all_ids, 'Peptide': subset})\n",
    "df_to_opti.head(2)"
   ]
  },
  {
   "cell_type": "code",
   "execution_count": 15,
   "metadata": {},
   "outputs": [],
   "source": [
    "df_to_opti.to_csv(f'{savepath}df_to_opti.csv', index=False)"
   ]
  },
  {
   "cell_type": "markdown",
   "metadata": {},
   "source": [
    "IDT optimization"
   ]
  },
  {
   "cell_type": "code",
   "execution_count": 16,
   "metadata": {},
   "outputs": [
    {
     "data": {
      "text/plain": [
       "96"
      ]
     },
     "execution_count": 16,
     "metadata": {},
     "output_type": "execute_result"
    }
   ],
   "source": [
    "d_idt = {\n",
    "    1: \"CAAGCTCAGGCTCAACACCTTTGCTGTGCTTTTTGTTGTTGTAAAAAATGCGAGCTTTGCCCCAAA\",\n",
    "    2: \"GCTGGGTGTGTACAGTGTCTGTGTTGCTGCTGCTGCTGTTATGCAAAAGTCTGCGCTTTTCCTAAA\",\n",
    "    3: \"TGTGGACAAGCACAACACTTGTGTGCAGCCTTCAGTCAATACAAGAAAGTTGAGCTTTTTCCTAAG\",\n",
    "    4: \"CAAGCTCAAGTACAACACGCGTGTGCAGCCTGTTCGGCATACAAGAAATGCGAGCTTTTTGCTTGC\",\n",
    "    5: \"CAAGCGTGTGTACAAGCATTGGCCGCTTGCGAGAGTCAGTGCAAGTGCGTATGTTTGTGTCCGTGT\",\n",
    "    6: \"TGTTGCCAATGCTGCCATTGTCAATGCTGTTTTAGTCAATATTGTAAGGTCTGCTGTGAGCCGAAG\",\n",
    "    7: \"GCCGGTTGTTGTCAATGTTGTTGCTGTGCATTCTGTCAGTACAAAAAATGTTGTTGTTTCTGTTGT\",\n",
    "    8: \"CAAGGGCAAGTGCAACATTTACAAGCAGCATTTAGCCAATACAAAAAGGTGTGTCTTTTCCCTAAA\",\n",
    "    9: \"TGCGGTCAGGTTTGTCACTTGCAATGTGCCTTCAGTTGCTATAAAAAGTGTGAGCTGTTTCCGAAATGT\",\n",
    "    10: \"CAAGGTCAGGTCCAGCACTGCCAAGCTGCTTTCTCTCAGTACAAGAAGTGCTGTCTGTTTCCTAAA\",\n",
    "    11: \"TGCACACCTCCAAGTTGTTGTCAACTTCATCACGCG\",\n",
    "    12: \"CAGGGGTGTTGCTGTCATTGCCAGTGCGCCTTCTGTCAGTATTGTGCCTGTGAACTGTGTAAA\",\n",
    "    13: \"CAATGCCAGGCTCAATGCGCGTGTGCGGCGTGTTGTCAGTATAAGAAGGTGGCCTGTTTCCCGAAA\",\n",
    "    14: \"CAGGGACAGGTCCAATGTCTTCAAGCCGCGGCATCCCAGTATAAAAAGTGCGAGCTTTTTTGTAAG\",\n",
    "    15: \"CAGGGGCAGGTCCAGTGTCTTCAGTGCGCATTCTGCTGTTATAAAAAAGTGGAGTTATTTTGTTGC\",\n",
    "    16: \"TGCTGTTGTGTCTGTTGTTGTCAAGCAGCGTGCAGTGCTTATTGCTGTTGTTGTGCATGTGCAAAG\",\n",
    "    17: \"CAGTGTCAGTGCCAATGTCTGCAAGCTGCATTTTGCTGCTACTGCAAGGTTGAACTGTGTAAG\",\n",
    "    18: \"CAGGGATGTGTTCAACATCTGCAAGCGTGCTGTTGTCAATACTGCAAAGTCGAACTGTGCCCAAAG\",\n",
    "    19: \"CAAGGACAGGTGCAACATCTTCAAGCTTGCTTCTCTTGTTATAAGTGTGTCGAATTATTTCCGTGC\",\n",
    "    20: \"TGCTGCCAGTGTCAGCATTGTCAGTGCTGCTGCAGCTGTTACAAGAAAGTCGAGTGCTTTCCTTGC\",\n",
    "    21: \"GGAGGCGTCTGCGGACCAAGCCCACCTTGCATTACAACG\",\n",
    "    22: \"TGTGGAGCGGTCCAGTGTTGCTGTGCCTGTTGTTGCTGTGCAAAGGTAGAGTGCTTCTGCGCC\",\n",
    "    23: \"CAAGGACAAGTTCAACACTTGCAAGCGGCCTTCTCTCAATGCTGCGCCTGCGAGTGTTTTCCAAAA\",\n",
    "    24: \"CAAGGACAAGTCCAGCACTTGCAAGCGTGCTTTAGTGCGTACAAAAAAGTAGAGTTAGAGCCCAAA\",\n",
    "    25: \"CAGGCATGTGTACAGCATTGCCAGTGTTGCTTTTGTCAGGCTAAGGCGGTAGAGTTGTGCAAA\",\n",
    "    26: \"CAAGGGCAAGTGCAACATTGCCAAGCCGCTTTCTCTCAATATAAATGCGTATGTTTATTTCCGAAG\",\n",
    "    27: \"TGCGGGTGTTGTTGCCATTTGTGCTGCTGCGAGTGTTGTTACAAAAAATGTGAATTATTTCCGAAGTGT\",\n",
    "    28: \"CAGTGCTGTTGTCAGCACTGTCAGGCTTGCTGCTGCTGTTACAAAAAGTGCTGCCCCAAG\",\n",
    "    29: \"CAAGGCCAAGTGTGTTGCTGCTGTGCGGCGTTCTGCTGCTGTAAATGTGTCGAACTTTGTTGTAAG\",\n",
    "    30: \"CAAGGCCAAGTGCAGCACTTACAGTGCGCATTCAGCTGCTATAAAAAGTGCGAATTGTTTCCCAAA\",\n",
    "    31: \"CAGGGTCAATGTCAACATTGCCAAGCAGCAAGCCAGGCTTGTAAAGCTGAACTGTTCCCAAAA\",\n",
    "    32: \"CAGGGATGTTGCTGCCATTGTTGTTGCTGTTTCTGTCAATGTTGCTGCGTAGAATTGTTTCCCTGC\",\n",
    "    33: \"TGCGGCCAAGTCTGTCATCTTCAGTGTGCATTCTCATGCTATAAGAAGTGCGAGCTGTTCCCAAAA\",\n",
    "    34: \"CAAGGACAAGTCCAGCATCTGCAAGCGGCGTTTTCCCAATACAAGAAGGTTGAGCTGTTCCCAAAG\",\n",
    "    35: \"CAGTGCTGCGTCTGTTGTGCCCAAGCCTGTTTTTGTCAGAAAAAGTGCGAGTGCTGTTGTGCC\",\n",
    "    36: \"CAGTGCCAAGTTCAGCACTTATGTTGTTGCTTTTGCTGCTATAAGAAAGTAGAGTGCTGCCCCTGC\",\n",
    "    37: \"CAAGGGTGTGTATGTCACCTTTGCTGCTGCTGCTGCTGTTGTAAATGTGTAGAGTGCTTCTGTAAG\",\n",
    "    38: \"TGTTGCCAGTGTCAATGCCTTTGTGCGGCTTTCTCTTGCTATAAGAAGGTTTGTTGTTGTCCAAAA\",\n",
    "    39: \"TGTGGATGTTGCCAATGCCTGGCTGCAGCATGCTCTCAATACAAGGCGGTCTGTGCTTGCCCGAAA\",\n",
    "    40: \"GCATGTCAAGTCCAGCATTGCTGTTGCGCCTTTTGTTGCTACTGTTGCGTATGTTGCTTTTGTTGT\",\n",
    "    41: \"TGCGGCCAAGTACAACATTTACAGGCAGCGTGCTCGCAGTACAAGTGCGTGGAGTTATTTTGTAAG\",\n",
    "    42: \"TGCTGCTGCGTTTGTTGCCTTCAAGCCGCGTGCTGTTGTTACAAGAAGTGCTGCCTTTGCTGTAAG\",\n",
    "    43: \"CAGGGGCAGGTACAGTGCTTGTGTGCGGCATTCAGCCAGTACAAAAAATGCGAGTGCTTCCCGAAG\",\n",
    "    44: \"CAGGGTGCGTGCCAATGTTGCTGTGCAGCTGCTTCCCAGTACGCTTGTGTAGAGCTGTTTCCAAAG\",\n",
    "    45: \"CAAGGTTGCTGCCAGCACTGTCAATGTGCTTGTTCCCAGTGTTGTAAGGTCGAATGTTGCTGTAAA\",\n",
    "    46: \"CAGGGCCAAGTTCAACATTTACAGGCAGCCTGCTGCCAGTGCTGTTGTGTGGAGTTATTCCCTTGC\",\n",
    "    47: \"CAAGGTTGTTGCCAGTGCTGCTGTGCATGTTGCTCCCAGTATAAAAAGGTAGAGTTGTTTCCTTGT\",\n",
    "    48: \"CAGGCCTGCGCTCAGTTGTGTGCCGCATCACAGTATGCTAAAGTTGAACTGTTCCCTAAG\",\n",
    "    49: \"TGCGGTTGTTGTCAACACTTGCAGTGTTGCTTTTGTTGTTACAAGTGCGTGTGCTGTTTCCCAAAA\",\n",
    "    50: \"CAAGGCTGCGTACAACATTTGCAGTGTGCATGTTCCCAATATAAAAAATGTGAACTTGCCTGCAAG\",\n",
    "    51: \"CAGTGCCAGGCTCAGCATTTGCAGGCTTGCGCTTCACAATATAAGAAAGTAGCATTGTTTCCCAAA\",\n",
    "    52: \"CAGGGGCAGGTACAGCATTGCCAGGCAGCCTTCTCCCAATACTGTAAGGTCGAGCTTGCGGCGAAG\",\n",
    "    53: \"CAGGGTCAGTGCTGCCACTTGCAGTGTTGCTTTAGTCAATACAAGAAGTGTGAATTGTTCCCGAAGTGT\",\n",
    "    54: \"TGCGGACAAGTTCAGCACTTGTGTGCTGCGTTCAGCCAATACTGCAAAGTGGAAGCCTTTCCCTGT\",\n",
    "    55: \"TTTTGTGGGTTCCCATCTTGTTCCACTTCAGGG\",\n",
    "    56: \"AAGAAAGTAGAGTTGTTCCCTAAA\",\n",
    "    57: \"CAGGGACAAGTACAATGCCTTCAGGCCGCGTTCTGTCAGTGTAAAAAGGTCGAGTGCTTTCCCAAA\",\n",
    "    58: \"CAAGGACAGGTCCAGCACCTGCAAGCGGCATTCTCGTGTTACAAGAAGGTCGAGTTGTTTCCGAAG\",\n",
    "    59: \"TGCGGTCAGTGTTGCCACTTGCAGTGTTGTTTCTGTTGCTATAAAAAGTGCGAATTGTTTCCTAAGTGT\",\n",
    "    60: \"TGTTGTCAAGTGTGCCACCTTCAATGTTGTGCAGCCTGTTACAAGAAATGCTGTTTGTTCCCATGC\",\n",
    "    61: \"CAAGGCCAAGTCTGTCACTGCTGCTGCGCGTTTGCGCAATATAAATGCGCCTGTGCTTTTCCCAAA\",\n",
    "    62: \"CAAGGATGCTGTCAATGTTGTCAGGCCGCATGCGCATGTTGCTGCGCTTGTGAATGTTTCCCTTGT\",\n",
    "    63: \"TGCTGTTGCTGCCAGGCCGCATGTTGCGCCTGTTCTTGCTATTGTAAGGTCGAATTATTTTGCAAG\",\n",
    "    64: \"CAAGGTCAAGTGCAGGCTTTGCAAGCGGCCTTCAGTCAGTGCGCGAAAGTAGAGGCATTCCCCAAG\",\n",
    "    65: \"TGTTGCCAATGCTGCTGTTTGTGCTGCGCGTTCTGTTGTTGTTGCAAATGTGAGCTGTTCCCTAAG\",\n",
    "    66: \"TGCGGCTGCGTACAACACCTGCAAGCGTGTTTTTCCCAATGTTGCTGCGTAGAGTTATGCTGTTGT\",\n",
    "    67: \"CAGGGTCAGGTTCAGTGCTTATGCTGCTGTTGCTCGCAGTACAAAAAAGTAGAATGCGAACCCAAG\",\n",
    "    68: \"CAGGGGCAAGTCCAGCATCTGCAGTGCGCGTTCTGCTGCTATAAAAAAGTAGAGTTATTCCCCAAG\",\n",
    "    69: \"CAAGGTCAAGTCCAGCACTTACAGGCCGCGTTCTCTTGCTACAAAAAATGCGAGCTGTTTCCAAAA\",\n",
    "    70: \"CAATGCTGCTGCCAACACTGCCAGGCGGCTTGTTCTCAAGCAAAGGCGTGTTGCTGTTGCCCGAAA\",\n",
    "    71: \"CAAGGGTGCGTGTGTCATTTGCAGGCCGCCTGTTCGCAATATAAAAAAGTGGAACTTTTCCCCTGT\",\n",
    "    72: \"CAAGGTTGCGTCTGTCACCTTCAGGCGGCATGCTCACAGTACAAAAAATGCGAACTTTTCCCATGT\",\n",
    "    73: \"CAGGGTGCATGTCAGGCCCTGCAAGCTGCCTTCTGCCAGTATAAAAAAGTCTGCGCTTTTTGTAAG\",\n",
    "    74: \"CAAGGTCAAGTACAACACCTTCAGGCAGCCTGCTCACAGTATAAGTGTGCTGAATGTTTTCCAAAG\",\n",
    "    75: \"CAAGGTCAGTGTCAGTGTCTGTGTGCGGCATTTTGTTGTTACAAGAAGGTAGAGTTATGCCCTAAA\",\n",
    "    76: \"GGAGGGGTCTGTGGCCCCTCGCCGCCCTGTATCACT\",\n",
    "    77: \"CAATGCCAGGTTCAATGCTGTCAAGCGTGTTGCTCCCAGTACAAGTGTGTTGAATTATTCCCCTGC\",\n",
    "    78: \"CAAGGGCAGGTTCAGCACCTGCAATGCGCCTTCTCTTGTTACAAGAAGGTTGAGTTGTTTTGCTGT\",\n",
    "    79: \"TGCGGTCAAGTTTGCCACTTGCAGGCGTGCTTCGCCCAATATAAGTGTGTGGAGCTGTTTCCGAAA\",\n",
    "    80: \"CAATGTGCTTGTGCCTGCCTTTGCTGCGCTTGCTGTTGTTGCAAAGCCGCTGAGTGTTTCTGCAAG\",\n",
    "    81: \"TGCCAAGGACAGGTCCAACACCTGCAGGCGGCCTTCTCCCAATACAAAAAAGTAGAGTTGTTTCCAAAGTGT\",\n",
    "    82: \"CAAGGCTGTGTGCAACATCTTCAGGCAGCCTGTTCGCAGTACAAAAAGGTCGAACTTTTCCCCAAG\",\n",
    "    83: \"TGTGGATGCTGCGCAGCATTGTGCGCGTGCTGCTCGTGCTATAAAAAAGCCTGTTGCGAACCTGCA\",\n",
    "    84: \"TGCGGTTGCGCTTGCGCGTTAGCTGCGTGTTGTAGTTGTTGCTGCTGCGTCGCACTGTTCCCTAAG\",\n",
    "    85: \"TGCTGCTGCTGTCAGCATTTATGTGCATGTTTTTCTTGTTATTGCAAGGTGGAATGTTTCTGCAAA\",\n",
    "    86: \"CAAGGACAGTGTTGCTGTTTGCAAGCGTGTTGCCAGTATTGTAAATGCGAGTGCTTCCCTTGT\",\n",
    "    87: \"TGTGGGCAAGTCTGTCACCTTCAATGCGCATTTAGTTGTTATAAGAAGTGTGAGCTTTTCGCAAAA\",\n",
    "    88: \"CAAGGTCAGGTACAGCATTTGCAGGCTTGCTTCAGCCAGTATAAGAAATGCGAGTTGTTTCCAAAG\",\n",
    "    89: \"TGTTGCTGCGCTCACTGCGCTTGTGCATTTTCACAATACAAATGCGCCTGCTGCTGCCCATGC\",\n",
    "    90: \"TGTGCTTGCTGTCAGGCCTGTTGTGCGTGTGAATCATGTGCCAAATGTGCCGAATGTTTCTGTAAG\",\n",
    "    91: \"CAAGGTCAAGTGCAGTGCCTTCAATGCGCTTTTAGCCAGGCCAAATGTGCCGAAGCATTCCCGGCA\",\n",
    "    92: \"CAGGGTTGTGCGCAACATGCCTGCGCCGCGTTCAGTCAGTACAAGGCTGTAGAGCTTTTCCCGTGC\",\n",
    "    93: \"TGTGGACAAGTCTGCTGCTGTCAGGCTTGCTTTAGCTGTTGCTGTAAATGTTGTCTTTTTTGCAAG\",\n",
    "    94: \"GCCTCTTGCTGCCGCCCGTCGTATTGTGGA\",\n",
    "    95: \"CAAGGTCAGGTTTGCCATTTGCAGTGTGCCTTCTCGTGCTATAAAAAATGTGAGTTATTCCCGAAA\",\n",
    "    96: \"TGTGGCTGCTGTCAATGTTTGTGCGCCGCATGCTCCTGCTATTGTTGCGTGTGTCTGTGTTGTAAA\"\n",
    "}\n",
    "\n",
    "len(d_idt)"
   ]
  },
  {
   "cell_type": "code",
   "execution_count": 17,
   "metadata": {},
   "outputs": [
    {
     "data": {
      "text/plain": [
       "96"
      ]
     },
     "execution_count": 17,
     "metadata": {},
     "output_type": "execute_result"
    }
   ],
   "source": [
    "from Bio.Seq import Seq\n",
    "\n",
    "aa_seq_check = []\n",
    "for key, value in d_idt.items():\n",
    "    dna_sequence = Seq(value)\n",
    "    amino_acid_sequence = dna_sequence.translate()\n",
    "    aa_seq_check.append(str(amino_acid_sequence))\n",
    "\n",
    "len(aa_seq_check)\n"
   ]
  },
  {
   "cell_type": "code",
   "execution_count": 18,
   "metadata": {},
   "outputs": [
    {
     "data": {
      "text/plain": [
       "['QAQAQHLCCAFCCCKKCELCPK', 'AGCVQCLCCCCCCYAKVCAFPK']"
      ]
     },
     "execution_count": 18,
     "metadata": {},
     "output_type": "execute_result"
    }
   ],
   "source": [
    "aa_seq_check[:2]"
   ]
  },
  {
   "cell_type": "code",
   "execution_count": 19,
   "metadata": {},
   "outputs": [
    {
     "data": {
      "text/plain": [
       "96"
      ]
     },
     "execution_count": 19,
     "metadata": {},
     "output_type": "execute_result"
    }
   ],
   "source": [
    "len(set(aa_seq_check))"
   ]
  },
  {
   "cell_type": "code",
   "execution_count": 20,
   "metadata": {},
   "outputs": [
    {
     "data": {
      "text/plain": [
       "96"
      ]
     },
     "execution_count": 20,
     "metadata": {},
     "output_type": "execute_result"
    }
   ],
   "source": [
    "ok=0\n",
    "for seq in aa_seq_check:\n",
    "    if seq  in all_peptides:\n",
    "        ok+=1\n",
    "ok"
   ]
  },
  {
   "cell_type": "code",
   "execution_count": 21,
   "metadata": {},
   "outputs": [],
   "source": [
    "assert ok==len(aa_seq_check)"
   ]
  },
  {
   "cell_type": "markdown",
   "metadata": {},
   "source": [
    "let's add the beginning and the end from the geneious file from erkin"
   ]
  },
  {
   "cell_type": "code",
   "execution_count": 22,
   "metadata": {},
   "outputs": [
    {
     "data": {
      "text/plain": [
       "(206, 93)"
      ]
     },
     "execution_count": 22,
     "metadata": {},
     "output_type": "execute_result"
    }
   ],
   "source": [
    "front = \"GCGAATTAATACGACTCACTATAGGGAGACCACAACGGTTTCCCTCTAGAAATAATTTTGTTTAACTTTAAGAAGGAGATATACATATGAAAATCGAAGAAGATTACAAGGATCACGATGGAGACTATAAGGATCACGACATCGATTACAAAGACGATGACGACAAATCAGGCCATCACCATCATCATCATCATCACTCGTCAGGC\"\n",
    "end = \"TAGTAGTAAGGAGGATCCCGGGAATTCTCGAGTAAGGTTAACCTGCTAGCATAACCCCTTGGGGCCTCTAAACGGGTCTTGAGGGGTTTTTTG\"\n",
    "len(front), len(end)"
   ]
  },
  {
   "cell_type": "code",
   "execution_count": 23,
   "metadata": {},
   "outputs": [
    {
     "data": {
      "text/plain": [
       "96"
      ]
     },
     "execution_count": 23,
     "metadata": {},
     "output_type": "execute_result"
    }
   ],
   "source": [
    "d_final_seqs = {}\n",
    "for key, value in d_idt.items():\n",
    "    dna_sequence = front + value + end\n",
    "    d_final_seqs[key] = dna_sequence\n",
    "len(d_final_seqs)"
   ]
  },
  {
   "cell_type": "code",
   "execution_count": 24,
   "metadata": {},
   "outputs": [
    {
     "data": {
      "text/html": [
       "<div>\n",
       "<style scoped>\n",
       "    .dataframe tbody tr th:only-of-type {\n",
       "        vertical-align: middle;\n",
       "    }\n",
       "\n",
       "    .dataframe tbody tr th {\n",
       "        vertical-align: top;\n",
       "    }\n",
       "\n",
       "    .dataframe thead th {\n",
       "        text-align: right;\n",
       "    }\n",
       "</style>\n",
       "<table border=\"1\" class=\"dataframe\">\n",
       "  <thead>\n",
       "    <tr style=\"text-align: right;\">\n",
       "      <th></th>\n",
       "      <th>Sequence</th>\n",
       "    </tr>\n",
       "  </thead>\n",
       "  <tbody>\n",
       "    <tr>\n",
       "      <th>1</th>\n",
       "      <td>GCGAATTAATACGACTCACTATAGGGAGACCACAACGGTTTCCCTC...</td>\n",
       "    </tr>\n",
       "    <tr>\n",
       "      <th>2</th>\n",
       "      <td>GCGAATTAATACGACTCACTATAGGGAGACCACAACGGTTTCCCTC...</td>\n",
       "    </tr>\n",
       "  </tbody>\n",
       "</table>\n",
       "</div>"
      ],
      "text/plain": [
       "                                            Sequence\n",
       "1  GCGAATTAATACGACTCACTATAGGGAGACCACAACGGTTTCCCTC...\n",
       "2  GCGAATTAATACGACTCACTATAGGGAGACCACAACGGTTTCCCTC..."
      ]
     },
     "execution_count": 24,
     "metadata": {},
     "output_type": "execute_result"
    }
   ],
   "source": [
    "df_final_seqs = pd.DataFrame.from_dict(d_final_seqs, orient='index', columns=['Sequence'])\n",
    "df_final_seqs.head(2)"
   ]
  },
  {
   "cell_type": "code",
   "execution_count": 25,
   "metadata": {},
   "outputs": [
    {
     "data": {
      "text/plain": [
       "96"
      ]
     },
     "execution_count": 25,
     "metadata": {},
     "output_type": "execute_result"
    }
   ],
   "source": [
    "len(d_final_seqs)"
   ]
  },
  {
   "cell_type": "code",
   "execution_count": 26,
   "metadata": {},
   "outputs": [],
   "source": [
    "df_final_seqs.to_csv(f'{savepath}patent_peptides_to_order.csv', index_label='ID')"
   ]
  },
  {
   "cell_type": "code",
   "execution_count": null,
   "metadata": {},
   "outputs": [],
   "source": []
  }
 ],
 "metadata": {
  "kernelspec": {
   "display_name": "Python 3 (ipykernel)",
   "language": "python",
   "name": "python3"
  },
  "language_info": {
   "codemirror_mode": {
    "name": "ipython",
    "version": 3
   },
   "file_extension": ".py",
   "mimetype": "text/x-python",
   "name": "python",
   "nbconvert_exporter": "python",
   "pygments_lexer": "ipython3",
   "version": "3.9.18"
  }
 },
 "nbformat": 4,
 "nbformat_minor": 2
}
