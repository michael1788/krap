{
 "cells": [
  {
   "attachments": {},
   "cell_type": "markdown",
   "metadata": {},
   "source": [
    "### Goal"
   ]
  },
  {
   "cell_type": "code",
   "execution_count": 1,
   "metadata": {},
   "outputs": [],
   "source": [
    "%load_ext autoreload\n",
    "%autoreload 2"
   ]
  },
  {
   "cell_type": "code",
   "execution_count": 2,
   "metadata": {},
   "outputs": [],
   "source": [
    "import os, sys\n",
    "import pandas as pd\n",
    "import numpy as np\n",
    "import math\n",
    "\n",
    "import matplotlib.pyplot as plt\n",
    "\n",
    "sys.path.append(\"..\")\n",
    "import helper as hp"
   ]
  },
  {
   "cell_type": "code",
   "execution_count": 3,
   "metadata": {},
   "outputs": [
    {
     "data": {
      "text/html": [
       "<div>\n",
       "<style scoped>\n",
       "    .dataframe tbody tr th:only-of-type {\n",
       "        vertical-align: middle;\n",
       "    }\n",
       "\n",
       "    .dataframe tbody tr th {\n",
       "        vertical-align: top;\n",
       "    }\n",
       "\n",
       "    .dataframe thead th {\n",
       "        text-align: right;\n",
       "    }\n",
       "</style>\n",
       "<table border=\"1\" class=\"dataframe\">\n",
       "  <thead>\n",
       "    <tr style=\"text-align: right;\">\n",
       "      <th></th>\n",
       "      <th>Test ID</th>\n",
       "      <th>Batch</th>\n",
       "      <th>Young's Modulus</th>\n",
       "      <th>Break Force</th>\n",
       "      <th>Distance to Break</th>\n",
       "      <th>Unnamed: 5</th>\n",
       "      <th>Unnamed: 6</th>\n",
       "      <th>Unnamed: 7</th>\n",
       "    </tr>\n",
       "  </thead>\n",
       "  <tbody>\n",
       "    <tr>\n",
       "      <th>0</th>\n",
       "      <td>NaN</td>\n",
       "      <td>NaN</td>\n",
       "      <td>MPa/%</td>\n",
       "      <td>g</td>\n",
       "      <td>mm</td>\n",
       "      <td>NaN</td>\n",
       "      <td>NaN</td>\n",
       "      <td>NaN</td>\n",
       "    </tr>\n",
       "    <tr>\n",
       "      <th>1</th>\n",
       "      <td>NaN</td>\n",
       "      <td>NaN</td>\n",
       "      <td>Gradient St-Strain 1:2</td>\n",
       "      <td>Break Force</td>\n",
       "      <td>Distance to Break</td>\n",
       "      <td>NaN</td>\n",
       "      <td>NaN</td>\n",
       "      <td>NaN</td>\n",
       "    </tr>\n",
       "    <tr>\n",
       "      <th>2</th>\n",
       "      <td>NaN</td>\n",
       "      <td>NaN</td>\n",
       "      <td>NaN</td>\n",
       "      <td>NaN</td>\n",
       "      <td>NaN</td>\n",
       "      <td>NaN</td>\n",
       "      <td>NaN</td>\n",
       "      <td>NaN</td>\n",
       "    </tr>\n",
       "    <tr>\n",
       "      <th>3</th>\n",
       "      <td>Start Batch 20240222_bleach_WAX4_0.02mgml_</td>\n",
       "      <td>20240222_bleach_WAX4_0.02mgml_</td>\n",
       "      <td>NaN</td>\n",
       "      <td>NaN</td>\n",
       "      <td>NaN</td>\n",
       "      <td>NaN</td>\n",
       "      <td>NaN</td>\n",
       "      <td>NaN</td>\n",
       "    </tr>\n",
       "    <tr>\n",
       "      <th>4</th>\n",
       "      <td>20240222_bleach_WAX4_0.02mgml_1</td>\n",
       "      <td>20240222_bleach_WAX4_0.02mgml_</td>\n",
       "      <td>68.962</td>\n",
       "      <td>135.404</td>\n",
       "      <td>-25.595</td>\n",
       "      <td>66.0</td>\n",
       "      <td>64.0</td>\n",
       "      <td>ok</td>\n",
       "    </tr>\n",
       "    <tr>\n",
       "      <th>5</th>\n",
       "      <td>20240222_bleach_WAX4_0.02mgml_2</td>\n",
       "      <td>20240222_bleach_WAX4_0.02mgml_</td>\n",
       "      <td>54.053</td>\n",
       "      <td>63.72</td>\n",
       "      <td>-1.682</td>\n",
       "      <td>45.0</td>\n",
       "      <td>45.0</td>\n",
       "      <td>early</td>\n",
       "    </tr>\n",
       "  </tbody>\n",
       "</table>\n",
       "</div>"
      ],
      "text/plain": [
       "                                      Test ID                           Batch  \\\n",
       "0                                         NaN                             NaN   \n",
       "1                                         NaN                             NaN   \n",
       "2                                         NaN                             NaN   \n",
       "3  Start Batch 20240222_bleach_WAX4_0.02mgml_  20240222_bleach_WAX4_0.02mgml_   \n",
       "4             20240222_bleach_WAX4_0.02mgml_1  20240222_bleach_WAX4_0.02mgml_   \n",
       "5             20240222_bleach_WAX4_0.02mgml_2  20240222_bleach_WAX4_0.02mgml_   \n",
       "\n",
       "          Young's Modulus  Break Force  Distance to Break  Unnamed: 5  \\\n",
       "0                   MPa/%            g                 mm         NaN   \n",
       "1  Gradient St-Strain 1:2  Break Force  Distance to Break         NaN   \n",
       "2                     NaN          NaN                NaN         NaN   \n",
       "3                     NaN          NaN                NaN         NaN   \n",
       "4                  68.962      135.404            -25.595        66.0   \n",
       "5                  54.053        63.72             -1.682        45.0   \n",
       "\n",
       "   Unnamed: 6 Unnamed: 7  \n",
       "0         NaN        NaN  \n",
       "1         NaN        NaN  \n",
       "2         NaN        NaN  \n",
       "3         NaN        NaN  \n",
       "4        64.0         ok  \n",
       "5        45.0      early  "
      ]
     },
     "execution_count": 3,
     "metadata": {},
     "output_type": "execute_result"
    }
   ],
   "source": [
    "df = pd.read_excel(\"/Users/michaelmoret/Desktop/Externa/data/pulling/22-02-24/20240222_WAX4concentrationsx100.xlsx\")\n",
    "df.head(6)"
   ]
  },
  {
   "cell_type": "code",
   "execution_count": 4,
   "metadata": {},
   "outputs": [
    {
     "data": {
      "text/html": [
       "<div>\n",
       "<style scoped>\n",
       "    .dataframe tbody tr th:only-of-type {\n",
       "        vertical-align: middle;\n",
       "    }\n",
       "\n",
       "    .dataframe tbody tr th {\n",
       "        vertical-align: top;\n",
       "    }\n",
       "\n",
       "    .dataframe thead th {\n",
       "        text-align: right;\n",
       "    }\n",
       "</style>\n",
       "<table border=\"1\" class=\"dataframe\">\n",
       "  <thead>\n",
       "    <tr style=\"text-align: right;\">\n",
       "      <th></th>\n",
       "      <th>Test ID</th>\n",
       "      <th>Batch</th>\n",
       "      <th>Young's Modulus</th>\n",
       "      <th>Break Force</th>\n",
       "      <th>Distance to Break</th>\n",
       "      <th>Diameter 1</th>\n",
       "      <th>Diameter 2</th>\n",
       "      <th>Note</th>\n",
       "    </tr>\n",
       "  </thead>\n",
       "  <tbody>\n",
       "    <tr>\n",
       "      <th>0</th>\n",
       "      <td>NaN</td>\n",
       "      <td>NaN</td>\n",
       "      <td>MPa/%</td>\n",
       "      <td>g</td>\n",
       "      <td>mm</td>\n",
       "      <td>NaN</td>\n",
       "      <td>NaN</td>\n",
       "      <td>NaN</td>\n",
       "    </tr>\n",
       "    <tr>\n",
       "      <th>1</th>\n",
       "      <td>NaN</td>\n",
       "      <td>NaN</td>\n",
       "      <td>Gradient St-Strain 1:2</td>\n",
       "      <td>Break Force</td>\n",
       "      <td>Distance to Break</td>\n",
       "      <td>NaN</td>\n",
       "      <td>NaN</td>\n",
       "      <td>NaN</td>\n",
       "    </tr>\n",
       "  </tbody>\n",
       "</table>\n",
       "</div>"
      ],
      "text/plain": [
       "  Test ID Batch         Young's Modulus  Break Force  Distance to Break  \\\n",
       "0     NaN   NaN                   MPa/%            g                 mm   \n",
       "1     NaN   NaN  Gradient St-Strain 1:2  Break Force  Distance to Break   \n",
       "\n",
       "   Diameter 1  Diameter 2 Note  \n",
       "0         NaN         NaN  NaN  \n",
       "1         NaN         NaN  NaN  "
      ]
     },
     "execution_count": 4,
     "metadata": {},
     "output_type": "execute_result"
    }
   ],
   "source": [
    "df = df.rename(columns={'Unnamed: 5': 'Diameter 1', \n",
    "                        'Unnamed: 6': 'Diameter 2',\n",
    "                        'Unnamed: 7': 'Note'})\n",
    "df.head(2)"
   ]
  },
  {
   "cell_type": "code",
   "execution_count": 5,
   "metadata": {},
   "outputs": [
    {
     "data": {
      "text/html": [
       "<div>\n",
       "<style scoped>\n",
       "    .dataframe tbody tr th:only-of-type {\n",
       "        vertical-align: middle;\n",
       "    }\n",
       "\n",
       "    .dataframe tbody tr th {\n",
       "        vertical-align: top;\n",
       "    }\n",
       "\n",
       "    .dataframe thead th {\n",
       "        text-align: right;\n",
       "    }\n",
       "</style>\n",
       "<table border=\"1\" class=\"dataframe\">\n",
       "  <thead>\n",
       "    <tr style=\"text-align: right;\">\n",
       "      <th></th>\n",
       "      <th>Test ID</th>\n",
       "      <th>Batch</th>\n",
       "      <th>Young's Modulus</th>\n",
       "      <th>Break Force</th>\n",
       "      <th>Distance to Break</th>\n",
       "      <th>Diameter 1</th>\n",
       "      <th>Diameter 2</th>\n",
       "      <th>Note</th>\n",
       "    </tr>\n",
       "  </thead>\n",
       "  <tbody>\n",
       "    <tr>\n",
       "      <th>4</th>\n",
       "      <td>20240222_bleach_WAX4_0.02mgml_1</td>\n",
       "      <td>20240222_bleach_WAX4_0.02mgml_</td>\n",
       "      <td>68.962</td>\n",
       "      <td>135.404</td>\n",
       "      <td>-25.595</td>\n",
       "      <td>66.0</td>\n",
       "      <td>64.0</td>\n",
       "      <td>ok</td>\n",
       "    </tr>\n",
       "    <tr>\n",
       "      <th>5</th>\n",
       "      <td>20240222_bleach_WAX4_0.02mgml_2</td>\n",
       "      <td>20240222_bleach_WAX4_0.02mgml_</td>\n",
       "      <td>54.053</td>\n",
       "      <td>63.72</td>\n",
       "      <td>-1.682</td>\n",
       "      <td>45.0</td>\n",
       "      <td>45.0</td>\n",
       "      <td>early</td>\n",
       "    </tr>\n",
       "  </tbody>\n",
       "</table>\n",
       "</div>"
      ],
      "text/plain": [
       "                           Test ID                           Batch  \\\n",
       "4  20240222_bleach_WAX4_0.02mgml_1  20240222_bleach_WAX4_0.02mgml_   \n",
       "5  20240222_bleach_WAX4_0.02mgml_2  20240222_bleach_WAX4_0.02mgml_   \n",
       "\n",
       "  Young's Modulus Break Force Distance to Break  Diameter 1  Diameter 2   Note  \n",
       "4          68.962     135.404           -25.595        66.0        64.0     ok  \n",
       "5          54.053       63.72            -1.682        45.0        45.0  early  "
      ]
     },
     "execution_count": 5,
     "metadata": {},
     "output_type": "execute_result"
    }
   ],
   "source": [
    "df = df.dropna()\n",
    "df.head(2)"
   ]
  },
  {
   "cell_type": "code",
   "execution_count": 6,
   "metadata": {},
   "outputs": [
    {
     "data": {
      "text/html": [
       "<div>\n",
       "<style scoped>\n",
       "    .dataframe tbody tr th:only-of-type {\n",
       "        vertical-align: middle;\n",
       "    }\n",
       "\n",
       "    .dataframe tbody tr th {\n",
       "        vertical-align: top;\n",
       "    }\n",
       "\n",
       "    .dataframe thead th {\n",
       "        text-align: right;\n",
       "    }\n",
       "</style>\n",
       "<table border=\"1\" class=\"dataframe\">\n",
       "  <thead>\n",
       "    <tr style=\"text-align: right;\">\n",
       "      <th></th>\n",
       "      <th>Test ID</th>\n",
       "      <th>Batch</th>\n",
       "      <th>Young's Modulus</th>\n",
       "      <th>Break Force</th>\n",
       "      <th>Distance to Break</th>\n",
       "      <th>Diameter 1</th>\n",
       "      <th>Diameter 2</th>\n",
       "      <th>Note</th>\n",
       "    </tr>\n",
       "  </thead>\n",
       "  <tbody>\n",
       "    <tr>\n",
       "      <th>4</th>\n",
       "      <td>20240222_bleach_WAX4_0.02mgml_1</td>\n",
       "      <td>20240222_bleach_WAX4_0.02mgml_</td>\n",
       "      <td>68.962</td>\n",
       "      <td>135.404</td>\n",
       "      <td>-25.595</td>\n",
       "      <td>66.0</td>\n",
       "      <td>64.0</td>\n",
       "      <td>ok</td>\n",
       "    </tr>\n",
       "    <tr>\n",
       "      <th>5</th>\n",
       "      <td>20240222_bleach_WAX4_0.02mgml_2</td>\n",
       "      <td>20240222_bleach_WAX4_0.02mgml_</td>\n",
       "      <td>54.053</td>\n",
       "      <td>63.720</td>\n",
       "      <td>-1.682</td>\n",
       "      <td>45.0</td>\n",
       "      <td>45.0</td>\n",
       "      <td>early</td>\n",
       "    </tr>\n",
       "  </tbody>\n",
       "</table>\n",
       "</div>"
      ],
      "text/plain": [
       "                           Test ID                           Batch  \\\n",
       "4  20240222_bleach_WAX4_0.02mgml_1  20240222_bleach_WAX4_0.02mgml_   \n",
       "5  20240222_bleach_WAX4_0.02mgml_2  20240222_bleach_WAX4_0.02mgml_   \n",
       "\n",
       "   Young's Modulus  Break Force  Distance to Break  Diameter 1  Diameter 2  \\\n",
       "4           68.962      135.404            -25.595        66.0        64.0   \n",
       "5           54.053       63.720             -1.682        45.0        45.0   \n",
       "\n",
       "    Note  \n",
       "4     ok  \n",
       "5  early  "
      ]
     },
     "execution_count": 6,
     "metadata": {},
     "output_type": "execute_result"
    }
   ],
   "source": [
    "df['Break Force'] = df['Break Force'].astype(float)\n",
    "df['Young\\'s Modulus'] = df['Young\\'s Modulus'].astype(float)\n",
    "df['Distance to Break'] = df['Distance to Break'].astype(float)\n",
    "#df['Toughness'] = df['Toughness'].astype(float)\n",
    "df['Diameter 1'] = df['Diameter 1'].astype(float)\n",
    "df['Diameter 2'] = df['Diameter 2'].astype(float)\n",
    "#df['Humidity'] = df['Humidity'].astype(float)\n",
    "\n",
    "df.head(2)"
   ]
  },
  {
   "cell_type": "code",
   "execution_count": 7,
   "metadata": {},
   "outputs": [],
   "source": [
    "df = df[df['Test ID'] != 'Average:']\n",
    "df = df[df['Test ID'] != 'S.D.']\n",
    "df = df[df['Test ID'] != 'Coef. of Variation']"
   ]
  },
  {
   "cell_type": "code",
   "execution_count": 8,
   "metadata": {},
   "outputs": [],
   "source": [
    "df['Average'] = ((df['Diameter 1'] + df['Diameter 2']) / 2 )/1000\n",
    "df['Area'] = math.pi * (df['Average'] / 2)**2"
   ]
  },
  {
   "cell_type": "code",
   "execution_count": 9,
   "metadata": {},
   "outputs": [],
   "source": [
    "df['Baseline area'] = math.pi * 0.035**2\n",
    "df['Updated Young\\'s Modulus'] = df['Young\\'s Modulus'] * (df['Baseline area'] / df['Area'])"
   ]
  },
  {
   "cell_type": "code",
   "execution_count": 10,
   "metadata": {},
   "outputs": [],
   "source": [
    "df['Break stress'] = df['Break Force'] / df['Area'] / 1000"
   ]
  },
  {
   "cell_type": "code",
   "execution_count": 11,
   "metadata": {},
   "outputs": [
    {
     "data": {
      "text/html": [
       "<div>\n",
       "<style scoped>\n",
       "    .dataframe tbody tr th:only-of-type {\n",
       "        vertical-align: middle;\n",
       "    }\n",
       "\n",
       "    .dataframe tbody tr th {\n",
       "        vertical-align: top;\n",
       "    }\n",
       "\n",
       "    .dataframe thead th {\n",
       "        text-align: right;\n",
       "    }\n",
       "</style>\n",
       "<table border=\"1\" class=\"dataframe\">\n",
       "  <thead>\n",
       "    <tr style=\"text-align: right;\">\n",
       "      <th></th>\n",
       "      <th>Test ID</th>\n",
       "      <th>Batch</th>\n",
       "      <th>Young's Modulus</th>\n",
       "      <th>Break Force</th>\n",
       "      <th>Distance to Break</th>\n",
       "      <th>Diameter 1</th>\n",
       "      <th>Diameter 2</th>\n",
       "      <th>Note</th>\n",
       "      <th>Average</th>\n",
       "      <th>Area</th>\n",
       "      <th>Baseline area</th>\n",
       "      <th>Updated Young's Modulus</th>\n",
       "      <th>Break stress</th>\n",
       "    </tr>\n",
       "  </thead>\n",
       "  <tbody>\n",
       "    <tr>\n",
       "      <th>4</th>\n",
       "      <td>20240222_bleach_WAX4_0.02mgml_1</td>\n",
       "      <td>20240222_bleach_WAX4_0.02mgml_</td>\n",
       "      <td>68.962</td>\n",
       "      <td>135.404</td>\n",
       "      <td>-25.595</td>\n",
       "      <td>66.0</td>\n",
       "      <td>64.0</td>\n",
       "      <td>ok</td>\n",
       "      <td>0.065</td>\n",
       "      <td>0.003318</td>\n",
       "      <td>0.003848</td>\n",
       "      <td>79.979598</td>\n",
       "      <td>40.805143</td>\n",
       "    </tr>\n",
       "    <tr>\n",
       "      <th>5</th>\n",
       "      <td>20240222_bleach_WAX4_0.02mgml_2</td>\n",
       "      <td>20240222_bleach_WAX4_0.02mgml_</td>\n",
       "      <td>54.053</td>\n",
       "      <td>63.720</td>\n",
       "      <td>-1.682</td>\n",
       "      <td>45.0</td>\n",
       "      <td>45.0</td>\n",
       "      <td>early</td>\n",
       "      <td>0.045</td>\n",
       "      <td>0.001590</td>\n",
       "      <td>0.003848</td>\n",
       "      <td>130.794914</td>\n",
       "      <td>40.064604</td>\n",
       "    </tr>\n",
       "  </tbody>\n",
       "</table>\n",
       "</div>"
      ],
      "text/plain": [
       "                           Test ID                           Batch  \\\n",
       "4  20240222_bleach_WAX4_0.02mgml_1  20240222_bleach_WAX4_0.02mgml_   \n",
       "5  20240222_bleach_WAX4_0.02mgml_2  20240222_bleach_WAX4_0.02mgml_   \n",
       "\n",
       "   Young's Modulus  Break Force  Distance to Break  Diameter 1  Diameter 2  \\\n",
       "4           68.962      135.404            -25.595        66.0        64.0   \n",
       "5           54.053       63.720             -1.682        45.0        45.0   \n",
       "\n",
       "    Note  Average      Area  Baseline area  Updated Young's Modulus  \\\n",
       "4     ok    0.065  0.003318       0.003848                79.979598   \n",
       "5  early    0.045  0.001590       0.003848               130.794914   \n",
       "\n",
       "   Break stress  \n",
       "4     40.805143  \n",
       "5     40.064604  "
      ]
     },
     "execution_count": 11,
     "metadata": {},
     "output_type": "execute_result"
    }
   ],
   "source": [
    "df.head(2)"
   ]
  },
  {
   "cell_type": "code",
   "execution_count": 12,
   "metadata": {},
   "outputs": [
    {
     "data": {
      "text/plain": [
       "<Figure size 1000x600 with 0 Axes>"
      ]
     },
     "metadata": {},
     "output_type": "display_data"
    },
    {
     "data": {
      "image/png": "[encoded data removed]",
      "text/plain": [
       "<Figure size 640x480 with 1 Axes>"
      ]
     },
     "metadata": {},
     "output_type": "display_data"
    }
   ],
   "source": [
    "def do_plot(df):\n",
    "    plt.figure(figsize=(10, 6))\n",
    "    df.boxplot(column='Break stress', by='Batch')\n",
    "    plt.xlabel('Name')\n",
    "    plt.ylabel('Break stress')\n",
    "    plt.xticks(rotation=65)\n",
    "    # y axis from 20 to 90\n",
    "    plt.ylim(15, 90)\n",
    "    plt.show()\n",
    "    \n",
    "\n",
    "do_plot(df)\n"
   ]
  },
  {
   "cell_type": "code",
   "execution_count": 13,
   "metadata": {},
   "outputs": [
    {
     "name": "stdout",
     "output_type": "stream",
     "text": [
      "Batch\n",
      "20240222_bleach_WAX4_0.02mgml_    8.910669\n",
      "20240222_bleach_WAX4_0.1mgml_     8.618235\n",
      "20240222_bleach_WAX4_0.5mgml_     8.274039\n",
      "20240222_bleach_WAX4_0mgml_       9.323022\n",
      "Name: Break stress, dtype: float64\n"
     ]
    }
   ],
   "source": [
    "std_by_batch_all = df.groupby('Batch')['Break stress'].std()\n",
    "print(std_by_batch_all)"
   ]
  },
  {
   "cell_type": "code",
   "execution_count": 14,
   "metadata": {},
   "outputs": [
    {
     "name": "stdout",
     "output_type": "stream",
     "text": [
      "100\n"
     ]
    }
   ],
   "source": [
    "count = len(df[df['Batch'].str.contains('0mg')])\n",
    "print(count)"
   ]
  },
  {
   "cell_type": "code",
   "execution_count": 15,
   "metadata": {},
   "outputs": [
    {
     "data": {
      "text/plain": [
       "(                                20240222_bleach_WAX4_0.02mgml_  \\\n",
       " 20240222_bleach_WAX4_0.02mgml_                           1.000   \n",
       " 20240222_bleach_WAX4_0.1mgml_                            0.531   \n",
       " 20240222_bleach_WAX4_0.5mgml_                            0.506   \n",
       " 20240222_bleach_WAX4_0mgml_                              0.623   \n",
       " \n",
       "                                 20240222_bleach_WAX4_0.1mgml_  \\\n",
       " 20240222_bleach_WAX4_0.02mgml_                          0.531   \n",
       " 20240222_bleach_WAX4_0.1mgml_                           1.000   \n",
       " 20240222_bleach_WAX4_0.5mgml_                           0.835   \n",
       " 20240222_bleach_WAX4_0mgml_                             0.275   \n",
       " \n",
       "                                 20240222_bleach_WAX4_0.5mgml_  \\\n",
       " 20240222_bleach_WAX4_0.02mgml_                          0.506   \n",
       " 20240222_bleach_WAX4_0.1mgml_                           0.835   \n",
       " 20240222_bleach_WAX4_0.5mgml_                           1.000   \n",
       " 20240222_bleach_WAX4_0mgml_                             0.215   \n",
       " \n",
       "                                 20240222_bleach_WAX4_0mgml_  \n",
       " 20240222_bleach_WAX4_0.02mgml_                        0.623  \n",
       " 20240222_bleach_WAX4_0.1mgml_                         0.275  \n",
       " 20240222_bleach_WAX4_0.5mgml_                         0.215  \n",
       " 20240222_bleach_WAX4_0mgml_                           1.000  ,\n",
       "                                 20240222_bleach_WAX4_0.02mgml_  \\\n",
       " 20240222_bleach_WAX4_0.02mgml_                           -1.00   \n",
       " 20240222_bleach_WAX4_0.1mgml_                          4112.51   \n",
       " 20240222_bleach_WAX4_0.5mgml_                          3031.81   \n",
       " 20240222_bleach_WAX4_0mgml_                            2426.60   \n",
       " \n",
       "                                 20240222_bleach_WAX4_0.1mgml_  \\\n",
       " 20240222_bleach_WAX4_0.02mgml_                        4112.51   \n",
       " 20240222_bleach_WAX4_0.1mgml_                           -1.00   \n",
       " 20240222_bleach_WAX4_0.5mgml_                       188139.45   \n",
       " 20240222_bleach_WAX4_0mgml_                            778.95   \n",
       " \n",
       "                                 20240222_bleach_WAX4_0.5mgml_  \\\n",
       " 20240222_bleach_WAX4_0.02mgml_                        3031.81   \n",
       " 20240222_bleach_WAX4_0.1mgml_                       188139.45   \n",
       " 20240222_bleach_WAX4_0.5mgml_                           -1.00   \n",
       " 20240222_bleach_WAX4_0mgml_                            667.75   \n",
       " \n",
       "                                 20240222_bleach_WAX4_0mgml_  \n",
       " 20240222_bleach_WAX4_0.02mgml_                      2426.60  \n",
       " 20240222_bleach_WAX4_0.1mgml_                        778.95  \n",
       " 20240222_bleach_WAX4_0.5mgml_                        667.75  \n",
       " 20240222_bleach_WAX4_0mgml_                           -1.00  )"
      ]
     },
     "execution_count": 15,
     "metadata": {},
     "output_type": "execute_result"
    }
   ],
   "source": [
    "hp.get_pvalue_and_sample_size(df, 'Break stress')"
   ]
  },
  {
   "cell_type": "code",
   "execution_count": 16,
   "metadata": {},
   "outputs": [
    {
     "name": "stdout",
     "output_type": "stream",
     "text": [
      "['ok' 'early' 'breaakend tape' 'earlyish (middle bias)' 'breakend '\n",
      " 'breakend paper' 'breakend' 'slip? Breakend' 'breakend (early ish)'\n",
      " 'early?' 'breakend almost' 'breakend (tape)' 'early middle bias  '\n",
      " 'breakend top' 'breakend(top,tape)' 'short' 'breakend?' 'almost breakend'\n",
      " 'great' 'good' 'slip' 'breakend and slip' 'amost breakend']\n"
     ]
    }
   ],
   "source": [
    "unique_values = df['Note'].unique()\n",
    "print(unique_values)"
   ]
  },
  {
   "cell_type": "markdown",
   "metadata": {},
   "source": [
    "let's remove all but ok"
   ]
  },
  {
   "cell_type": "code",
   "execution_count": 17,
   "metadata": {},
   "outputs": [
    {
     "data": {
      "text/plain": [
       "401"
      ]
     },
     "execution_count": 17,
     "metadata": {},
     "output_type": "execute_result"
    }
   ],
   "source": [
    "len(df)"
   ]
  },
  {
   "cell_type": "code",
   "execution_count": 18,
   "metadata": {},
   "outputs": [
    {
     "data": {
      "text/plain": [
       "200"
      ]
     },
     "execution_count": 18,
     "metadata": {},
     "output_type": "execute_result"
    }
   ],
   "source": [
    "df = df[df['Note'].isin(['ok', 'good', 'great'])]\n",
    "len(df)"
   ]
  },
  {
   "cell_type": "code",
   "execution_count": 19,
   "metadata": {},
   "outputs": [
    {
     "data": {
      "text/plain": [
       "<Figure size 1000x600 with 0 Axes>"
      ]
     },
     "metadata": {},
     "output_type": "display_data"
    },
    {
     "data": {
      "image/png": "[encoded data removed]",
      "text/plain": [
       "<Figure size 640x480 with 1 Axes>"
      ]
     },
     "metadata": {},
     "output_type": "display_data"
    }
   ],
   "source": [
    "do_plot(df)"
   ]
  },
  {
   "cell_type": "code",
   "execution_count": 20,
   "metadata": {},
   "outputs": [
    {
     "name": "stdout",
     "output_type": "stream",
     "text": [
      "Batch\n",
      "20240222_bleach_WAX4_0.02mgml_    9.024420\n",
      "20240222_bleach_WAX4_0.1mgml_     7.861938\n",
      "20240222_bleach_WAX4_0.5mgml_     7.772964\n",
      "20240222_bleach_WAX4_0mgml_       9.296648\n",
      "Name: Break stress, dtype: float64\n"
     ]
    }
   ],
   "source": [
    "std_by_batch_ok = df.groupby('Batch')['Break stress'].std()\n",
    "print(std_by_batch_ok)"
   ]
  },
  {
   "cell_type": "code",
   "execution_count": 21,
   "metadata": {},
   "outputs": [
    {
     "data": {
      "text/html": [
       "<div>\n",
       "<style scoped>\n",
       "    .dataframe tbody tr th:only-of-type {\n",
       "        vertical-align: middle;\n",
       "    }\n",
       "\n",
       "    .dataframe tbody tr th {\n",
       "        vertical-align: top;\n",
       "    }\n",
       "\n",
       "    .dataframe thead th {\n",
       "        text-align: right;\n",
       "    }\n",
       "</style>\n",
       "<table border=\"1\" class=\"dataframe\">\n",
       "  <thead>\n",
       "    <tr style=\"text-align: right;\">\n",
       "      <th></th>\n",
       "      <th>std all</th>\n",
       "      <th>std ok</th>\n",
       "    </tr>\n",
       "    <tr>\n",
       "      <th>Batch</th>\n",
       "      <th></th>\n",
       "      <th></th>\n",
       "    </tr>\n",
       "  </thead>\n",
       "  <tbody>\n",
       "    <tr>\n",
       "      <th>20240222_bleach_WAX4_0.02mgml_</th>\n",
       "      <td>8.910669</td>\n",
       "      <td>9.024420</td>\n",
       "    </tr>\n",
       "    <tr>\n",
       "      <th>20240222_bleach_WAX4_0.1mgml_</th>\n",
       "      <td>8.618235</td>\n",
       "      <td>7.861938</td>\n",
       "    </tr>\n",
       "    <tr>\n",
       "      <th>20240222_bleach_WAX4_0.5mgml_</th>\n",
       "      <td>8.274039</td>\n",
       "      <td>7.772964</td>\n",
       "    </tr>\n",
       "    <tr>\n",
       "      <th>20240222_bleach_WAX4_0mgml_</th>\n",
       "      <td>9.323022</td>\n",
       "      <td>9.296648</td>\n",
       "    </tr>\n",
       "  </tbody>\n",
       "</table>\n",
       "</div>"
      ],
      "text/plain": [
       "                                 std all    std ok\n",
       "Batch                                             \n",
       "20240222_bleach_WAX4_0.02mgml_  8.910669  9.024420\n",
       "20240222_bleach_WAX4_0.1mgml_   8.618235  7.861938\n",
       "20240222_bleach_WAX4_0.5mgml_   8.274039  7.772964\n",
       "20240222_bleach_WAX4_0mgml_     9.323022  9.296648"
      ]
     },
     "execution_count": 21,
     "metadata": {},
     "output_type": "execute_result"
    }
   ],
   "source": [
    "merged_df = pd.concat([std_by_batch_all, std_by_batch_ok], axis=1)\n",
    "merged_df.columns = ['std all', 'std ok']\n",
    "merged_df"
   ]
  },
  {
   "cell_type": "code",
   "execution_count": 22,
   "metadata": {},
   "outputs": [
    {
     "data": {
      "text/plain": [
       "(                                20240222_bleach_WAX4_0.02mgml_  \\\n",
       " 20240222_bleach_WAX4_0.02mgml_                           1.000   \n",
       " 20240222_bleach_WAX4_0.1mgml_                            0.590   \n",
       " 20240222_bleach_WAX4_0.5mgml_                            0.941   \n",
       " 20240222_bleach_WAX4_0mgml_                              0.448   \n",
       " \n",
       "                                 20240222_bleach_WAX4_0.1mgml_  \\\n",
       " 20240222_bleach_WAX4_0.02mgml_                          0.590   \n",
       " 20240222_bleach_WAX4_0.1mgml_                           1.000   \n",
       " 20240222_bleach_WAX4_0.5mgml_                           0.501   \n",
       " 20240222_bleach_WAX4_0mgml_                             0.160   \n",
       " \n",
       "                                 20240222_bleach_WAX4_0.5mgml_  \\\n",
       " 20240222_bleach_WAX4_0.02mgml_                          0.941   \n",
       " 20240222_bleach_WAX4_0.1mgml_                           0.501   \n",
       " 20240222_bleach_WAX4_0.5mgml_                           1.000   \n",
       " 20240222_bleach_WAX4_0mgml_                             0.368   \n",
       " \n",
       "                                 20240222_bleach_WAX4_0mgml_  \n",
       " 20240222_bleach_WAX4_0.02mgml_                        0.448  \n",
       " 20240222_bleach_WAX4_0.1mgml_                         0.160  \n",
       " 20240222_bleach_WAX4_0.5mgml_                         0.368  \n",
       " 20240222_bleach_WAX4_0mgml_                           1.000  ,\n",
       "                                 20240222_bleach_WAX4_0.02mgml_  \\\n",
       " 20240222_bleach_WAX4_0.02mgml_                           -1.00   \n",
       " 20240222_bleach_WAX4_0.1mgml_                          1940.01   \n",
       " 20240222_bleach_WAX4_0.5mgml_                          2170.01   \n",
       " 20240222_bleach_WAX4_0mgml_                             844.55   \n",
       " \n",
       "                                 20240222_bleach_WAX4_0.1mgml_  \\\n",
       " 20240222_bleach_WAX4_0.02mgml_                        1940.01   \n",
       " 20240222_bleach_WAX4_0.1mgml_                           -1.00   \n",
       " 20240222_bleach_WAX4_0.5mgml_                          440.16   \n",
       " 20240222_bleach_WAX4_0mgml_                            288.60   \n",
       " \n",
       "                                 20240222_bleach_WAX4_0.5mgml_  \\\n",
       " 20240222_bleach_WAX4_0.02mgml_                        2170.01   \n",
       " 20240222_bleach_WAX4_0.1mgml_                          440.16   \n",
       " 20240222_bleach_WAX4_0.5mgml_                           -1.00   \n",
       " 20240222_bleach_WAX4_0mgml_                           4053.86   \n",
       " \n",
       "                                 20240222_bleach_WAX4_0mgml_  \n",
       " 20240222_bleach_WAX4_0.02mgml_                       844.55  \n",
       " 20240222_bleach_WAX4_0.1mgml_                        288.60  \n",
       " 20240222_bleach_WAX4_0.5mgml_                       4053.86  \n",
       " 20240222_bleach_WAX4_0mgml_                           -1.00  )"
      ]
     },
     "execution_count": 22,
     "metadata": {},
     "output_type": "execute_result"
    }
   ],
   "source": [
    "hp.get_pvalue_and_sample_size(df, 'Break stress')"
   ]
  },
  {
   "cell_type": "code",
   "execution_count": null,
   "metadata": {},
   "outputs": [],
   "source": []
  }
 ],
 "metadata": {
  "kernelspec": {
   "display_name": "Python 3 (ipykernel)",
   "language": "python",
   "name": "python3"
  },
  "language_info": {
   "codemirror_mode": {
    "name": "ipython",
    "version": 3
   },
   "file_extension": ".py",
   "mimetype": "text/x-python",
   "name": "python",
   "nbconvert_exporter": "python",
   "pygments_lexer": "ipython3",
   "version": "3.9.18"
  }
 },
 "nbformat": 4,
 "nbformat_minor": 2
}
