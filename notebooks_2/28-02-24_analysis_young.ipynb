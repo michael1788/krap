{
 "cells": [
  {
   "attachments": {},
   "cell_type": "markdown",
   "metadata": {},
   "source": [
    "### Goal"
   ]
  },
  {
   "cell_type": "code",
   "execution_count": 1,
   "metadata": {},
   "outputs": [],
   "source": [
    "%load_ext autoreload\n",
    "%autoreload 2"
   ]
  },
  {
   "cell_type": "code",
   "execution_count": 2,
   "metadata": {},
   "outputs": [],
   "source": [
    "import os, sys\n",
    "import pandas as pd\n",
    "import numpy as np\n",
    "import math\n",
    "\n",
    "import matplotlib.pyplot as plt\n",
    "\n",
    "sys.path.append(\"..\")\n",
    "import helper as hp"
   ]
  },
  {
   "cell_type": "code",
   "execution_count": 3,
   "metadata": {},
   "outputs": [
    {
     "data": {
      "text/html": [
       "<div>\n",
       "<style scoped>\n",
       "    .dataframe tbody tr th:only-of-type {\n",
       "        vertical-align: middle;\n",
       "    }\n",
       "\n",
       "    .dataframe tbody tr th {\n",
       "        vertical-align: top;\n",
       "    }\n",
       "\n",
       "    .dataframe thead th {\n",
       "        text-align: right;\n",
       "    }\n",
       "</style>\n",
       "<table border=\"1\" class=\"dataframe\">\n",
       "  <thead>\n",
       "    <tr style=\"text-align: right;\">\n",
       "      <th></th>\n",
       "      <th>Test ID</th>\n",
       "      <th>Batch</th>\n",
       "      <th>Young's Modulus</th>\n",
       "      <th>Break Force</th>\n",
       "      <th>Distance to Break</th>\n",
       "      <th>Toughness</th>\n",
       "      <th>Unnamed: 6</th>\n",
       "      <th>Unnamed: 7</th>\n",
       "      <th>Unnamed: 8</th>\n",
       "    </tr>\n",
       "  </thead>\n",
       "  <tbody>\n",
       "    <tr>\n",
       "      <th>0</th>\n",
       "      <td>NaN</td>\n",
       "      <td>NaN</td>\n",
       "      <td>MPa/%</td>\n",
       "      <td>g</td>\n",
       "      <td>mm</td>\n",
       "      <td>kg/mm².%</td>\n",
       "      <td>NaN</td>\n",
       "      <td>NaN</td>\n",
       "      <td>NaN</td>\n",
       "    </tr>\n",
       "    <tr>\n",
       "      <th>1</th>\n",
       "      <td>NaN</td>\n",
       "      <td>NaN</td>\n",
       "      <td>Gradient St-Strain 1:2</td>\n",
       "      <td>Break Force</td>\n",
       "      <td>Distance to Break</td>\n",
       "      <td>Area St-Strain 1:3</td>\n",
       "      <td>NaN</td>\n",
       "      <td>NaN</td>\n",
       "      <td>NaN</td>\n",
       "    </tr>\n",
       "    <tr>\n",
       "      <th>2</th>\n",
       "      <td>NaN</td>\n",
       "      <td>NaN</td>\n",
       "      <td>NaN</td>\n",
       "      <td>NaN</td>\n",
       "      <td>NaN</td>\n",
       "      <td>NaN</td>\n",
       "      <td>NaN</td>\n",
       "      <td>NaN</td>\n",
       "      <td>NaN</td>\n",
       "    </tr>\n",
       "    <tr>\n",
       "      <th>3</th>\n",
       "      <td>Start Batch 20240227_5.0_NC_</td>\n",
       "      <td>20240227_5.0_NC_</td>\n",
       "      <td>NaN</td>\n",
       "      <td>NaN</td>\n",
       "      <td>NaN</td>\n",
       "      <td>NaN</td>\n",
       "      <td>NaN</td>\n",
       "      <td>NaN</td>\n",
       "      <td>NaN</td>\n",
       "    </tr>\n",
       "    <tr>\n",
       "      <th>4</th>\n",
       "      <td>20240227_5.0_NC_1</td>\n",
       "      <td>20240227_5.0_NC_</td>\n",
       "      <td>50.692</td>\n",
       "      <td>108.939</td>\n",
       "      <td>-27.123</td>\n",
       "      <td>1334.504</td>\n",
       "      <td>63.0</td>\n",
       "      <td>64.0</td>\n",
       "      <td>ok</td>\n",
       "    </tr>\n",
       "    <tr>\n",
       "      <th>5</th>\n",
       "      <td>20240227_5.0_NC_2</td>\n",
       "      <td>20240227_5.0_NC_</td>\n",
       "      <td>47.935</td>\n",
       "      <td>103.819</td>\n",
       "      <td>-29.079</td>\n",
       "      <td>1330.881</td>\n",
       "      <td>56.0</td>\n",
       "      <td>53.0</td>\n",
       "      <td>ok</td>\n",
       "    </tr>\n",
       "  </tbody>\n",
       "</table>\n",
       "</div>"
      ],
      "text/plain": [
       "                        Test ID             Batch         Young's Modulus  \\\n",
       "0                           NaN               NaN                   MPa/%   \n",
       "1                           NaN               NaN  Gradient St-Strain 1:2   \n",
       "2                           NaN               NaN                     NaN   \n",
       "3  Start Batch 20240227_5.0_NC_  20240227_5.0_NC_                     NaN   \n",
       "4             20240227_5.0_NC_1  20240227_5.0_NC_                  50.692   \n",
       "5             20240227_5.0_NC_2  20240227_5.0_NC_                  47.935   \n",
       "\n",
       "   Break Force  Distance to Break           Toughness  Unnamed: 6  Unnamed: 7  \\\n",
       "0            g                 mm            kg/mm².%         NaN         NaN   \n",
       "1  Break Force  Distance to Break  Area St-Strain 1:3         NaN         NaN   \n",
       "2          NaN                NaN                 NaN         NaN         NaN   \n",
       "3          NaN                NaN                 NaN         NaN         NaN   \n",
       "4      108.939            -27.123            1334.504        63.0        64.0   \n",
       "5      103.819            -29.079            1330.881        56.0        53.0   \n",
       "\n",
       "  Unnamed: 8  \n",
       "0        NaN  \n",
       "1        NaN  \n",
       "2        NaN  \n",
       "3        NaN  \n",
       "4         ok  \n",
       "5         ok  "
      ]
     },
     "execution_count": 3,
     "metadata": {},
     "output_type": "execute_result"
    }
   ],
   "source": [
    "df = pd.read_excel(\"/Users/michaelmoret/Desktop/Externa/data/pulling/27-02-25/20240227_tensile_WAX4_pH_50strands/modified.xlsx\")\n",
    "df.head(6)"
   ]
  },
  {
   "cell_type": "code",
   "execution_count": 4,
   "metadata": {},
   "outputs": [],
   "source": [
    "TYPE = \"Young's Modulus\""
   ]
  },
  {
   "cell_type": "code",
   "execution_count": 5,
   "metadata": {},
   "outputs": [
    {
     "data": {
      "text/html": [
       "<div>\n",
       "<style scoped>\n",
       "    .dataframe tbody tr th:only-of-type {\n",
       "        vertical-align: middle;\n",
       "    }\n",
       "\n",
       "    .dataframe tbody tr th {\n",
       "        vertical-align: top;\n",
       "    }\n",
       "\n",
       "    .dataframe thead th {\n",
       "        text-align: right;\n",
       "    }\n",
       "</style>\n",
       "<table border=\"1\" class=\"dataframe\">\n",
       "  <thead>\n",
       "    <tr style=\"text-align: right;\">\n",
       "      <th></th>\n",
       "      <th>Test ID</th>\n",
       "      <th>Batch</th>\n",
       "      <th>Young's Modulus</th>\n",
       "      <th>Break Force</th>\n",
       "      <th>Distance to Break</th>\n",
       "      <th>Toughness</th>\n",
       "      <th>Diameter 1</th>\n",
       "      <th>Diameter 2</th>\n",
       "      <th>Note</th>\n",
       "    </tr>\n",
       "  </thead>\n",
       "  <tbody>\n",
       "    <tr>\n",
       "      <th>0</th>\n",
       "      <td>NaN</td>\n",
       "      <td>NaN</td>\n",
       "      <td>MPa/%</td>\n",
       "      <td>g</td>\n",
       "      <td>mm</td>\n",
       "      <td>kg/mm².%</td>\n",
       "      <td>NaN</td>\n",
       "      <td>NaN</td>\n",
       "      <td>NaN</td>\n",
       "    </tr>\n",
       "    <tr>\n",
       "      <th>1</th>\n",
       "      <td>NaN</td>\n",
       "      <td>NaN</td>\n",
       "      <td>Gradient St-Strain 1:2</td>\n",
       "      <td>Break Force</td>\n",
       "      <td>Distance to Break</td>\n",
       "      <td>Area St-Strain 1:3</td>\n",
       "      <td>NaN</td>\n",
       "      <td>NaN</td>\n",
       "      <td>NaN</td>\n",
       "    </tr>\n",
       "  </tbody>\n",
       "</table>\n",
       "</div>"
      ],
      "text/plain": [
       "  Test ID Batch         Young's Modulus  Break Force  Distance to Break  \\\n",
       "0     NaN   NaN                   MPa/%            g                 mm   \n",
       "1     NaN   NaN  Gradient St-Strain 1:2  Break Force  Distance to Break   \n",
       "\n",
       "            Toughness  Diameter 1  Diameter 2 Note  \n",
       "0            kg/mm².%         NaN         NaN  NaN  \n",
       "1  Area St-Strain 1:3         NaN         NaN  NaN  "
      ]
     },
     "execution_count": 5,
     "metadata": {},
     "output_type": "execute_result"
    }
   ],
   "source": [
    "df = df.rename(columns={'Unnamed: 6': 'Diameter 1', \n",
    "                        'Unnamed: 7': 'Diameter 2',\n",
    "                        'Unnamed: 8': 'Note',})\n",
    "df.head(2)"
   ]
  },
  {
   "cell_type": "code",
   "execution_count": 6,
   "metadata": {},
   "outputs": [],
   "source": [
    "#df = df.drop('Humidity', axis=1)\n",
    "#df.head(2)"
   ]
  },
  {
   "cell_type": "code",
   "execution_count": 7,
   "metadata": {},
   "outputs": [
    {
     "data": {
      "text/html": [
       "<div>\n",
       "<style scoped>\n",
       "    .dataframe tbody tr th:only-of-type {\n",
       "        vertical-align: middle;\n",
       "    }\n",
       "\n",
       "    .dataframe tbody tr th {\n",
       "        vertical-align: top;\n",
       "    }\n",
       "\n",
       "    .dataframe thead th {\n",
       "        text-align: right;\n",
       "    }\n",
       "</style>\n",
       "<table border=\"1\" class=\"dataframe\">\n",
       "  <thead>\n",
       "    <tr style=\"text-align: right;\">\n",
       "      <th></th>\n",
       "      <th>Test ID</th>\n",
       "      <th>Batch</th>\n",
       "      <th>Young's Modulus</th>\n",
       "      <th>Break Force</th>\n",
       "      <th>Distance to Break</th>\n",
       "      <th>Toughness</th>\n",
       "      <th>Diameter 1</th>\n",
       "      <th>Diameter 2</th>\n",
       "      <th>Note</th>\n",
       "    </tr>\n",
       "  </thead>\n",
       "  <tbody>\n",
       "    <tr>\n",
       "      <th>4</th>\n",
       "      <td>20240227_5.0_NC_1</td>\n",
       "      <td>20240227_5.0_NC_</td>\n",
       "      <td>50.692</td>\n",
       "      <td>108.939</td>\n",
       "      <td>-27.123</td>\n",
       "      <td>1334.504</td>\n",
       "      <td>63.0</td>\n",
       "      <td>64.0</td>\n",
       "      <td>ok</td>\n",
       "    </tr>\n",
       "    <tr>\n",
       "      <th>5</th>\n",
       "      <td>20240227_5.0_NC_2</td>\n",
       "      <td>20240227_5.0_NC_</td>\n",
       "      <td>47.935</td>\n",
       "      <td>103.819</td>\n",
       "      <td>-29.079</td>\n",
       "      <td>1330.881</td>\n",
       "      <td>56.0</td>\n",
       "      <td>53.0</td>\n",
       "      <td>ok</td>\n",
       "    </tr>\n",
       "  </tbody>\n",
       "</table>\n",
       "</div>"
      ],
      "text/plain": [
       "             Test ID             Batch Young's Modulus Break Force  \\\n",
       "4  20240227_5.0_NC_1  20240227_5.0_NC_          50.692     108.939   \n",
       "5  20240227_5.0_NC_2  20240227_5.0_NC_          47.935     103.819   \n",
       "\n",
       "  Distance to Break Toughness  Diameter 1  Diameter 2 Note  \n",
       "4           -27.123  1334.504        63.0        64.0   ok  \n",
       "5           -29.079  1330.881        56.0        53.0   ok  "
      ]
     },
     "execution_count": 7,
     "metadata": {},
     "output_type": "execute_result"
    }
   ],
   "source": [
    "df = df.dropna()\n",
    "df.head(2)"
   ]
  },
  {
   "cell_type": "code",
   "execution_count": 8,
   "metadata": {},
   "outputs": [
    {
     "data": {
      "text/html": [
       "<div>\n",
       "<style scoped>\n",
       "    .dataframe tbody tr th:only-of-type {\n",
       "        vertical-align: middle;\n",
       "    }\n",
       "\n",
       "    .dataframe tbody tr th {\n",
       "        vertical-align: top;\n",
       "    }\n",
       "\n",
       "    .dataframe thead th {\n",
       "        text-align: right;\n",
       "    }\n",
       "</style>\n",
       "<table border=\"1\" class=\"dataframe\">\n",
       "  <thead>\n",
       "    <tr style=\"text-align: right;\">\n",
       "      <th></th>\n",
       "      <th>Test ID</th>\n",
       "      <th>Batch</th>\n",
       "      <th>Young's Modulus</th>\n",
       "      <th>Break Force</th>\n",
       "      <th>Distance to Break</th>\n",
       "      <th>Toughness</th>\n",
       "      <th>Diameter 1</th>\n",
       "      <th>Diameter 2</th>\n",
       "      <th>Note</th>\n",
       "    </tr>\n",
       "  </thead>\n",
       "  <tbody>\n",
       "    <tr>\n",
       "      <th>4</th>\n",
       "      <td>20240227_5.0_NC_1</td>\n",
       "      <td>20240227_5.0_NC_</td>\n",
       "      <td>50.692</td>\n",
       "      <td>108.939</td>\n",
       "      <td>-27.123</td>\n",
       "      <td>1334.504</td>\n",
       "      <td>63.0</td>\n",
       "      <td>64.0</td>\n",
       "      <td>ok</td>\n",
       "    </tr>\n",
       "    <tr>\n",
       "      <th>5</th>\n",
       "      <td>20240227_5.0_NC_2</td>\n",
       "      <td>20240227_5.0_NC_</td>\n",
       "      <td>47.935</td>\n",
       "      <td>103.819</td>\n",
       "      <td>-29.079</td>\n",
       "      <td>1330.881</td>\n",
       "      <td>56.0</td>\n",
       "      <td>53.0</td>\n",
       "      <td>ok</td>\n",
       "    </tr>\n",
       "  </tbody>\n",
       "</table>\n",
       "</div>"
      ],
      "text/plain": [
       "             Test ID             Batch  Young's Modulus  Break Force  \\\n",
       "4  20240227_5.0_NC_1  20240227_5.0_NC_           50.692      108.939   \n",
       "5  20240227_5.0_NC_2  20240227_5.0_NC_           47.935      103.819   \n",
       "\n",
       "   Distance to Break Toughness  Diameter 1  Diameter 2 Note  \n",
       "4            -27.123  1334.504        63.0        64.0   ok  \n",
       "5            -29.079  1330.881        56.0        53.0   ok  "
      ]
     },
     "execution_count": 8,
     "metadata": {},
     "output_type": "execute_result"
    }
   ],
   "source": [
    "df['Break Force'] = df['Break Force'].astype(float)\n",
    "df['Young\\'s Modulus'] = df['Young\\'s Modulus'].astype(float)\n",
    "df['Distance to Break'] = df['Distance to Break'].astype(float)\n",
    "#df['Toughness'] = df['Toughness'].astype(float)\n",
    "df['Diameter 1'] = df['Diameter 1'].astype(float)\n",
    "df['Diameter 2'] = df['Diameter 2'].astype(float)\n",
    "#df['Humidity'] = df['Humidity'].astype(float)\n",
    "\n",
    "df.head(2)"
   ]
  },
  {
   "cell_type": "code",
   "execution_count": 9,
   "metadata": {},
   "outputs": [],
   "source": [
    "#df = df[df['Test ID'] != 'Average:']\n",
    "#df = df[df['Test ID'] != 'S.D.']\n",
    "#df = df[df['Test ID'] != 'Coef. of Variation']"
   ]
  },
  {
   "cell_type": "code",
   "execution_count": 10,
   "metadata": {},
   "outputs": [],
   "source": [
    "df['Average'] = ((df['Diameter 1'] + df['Diameter 2']) / 2 )/1000\n",
    "df['Area'] = math.pi * (df['Average'] / 2)**2"
   ]
  },
  {
   "cell_type": "code",
   "execution_count": 11,
   "metadata": {},
   "outputs": [],
   "source": [
    "df['Baseline area'] = math.pi * 0.035**2\n",
    "df['Updated Young\\'s Modulus'] = df['Young\\'s Modulus'] * (df['Baseline area'] / df['Area'])"
   ]
  },
  {
   "cell_type": "code",
   "execution_count": 12,
   "metadata": {},
   "outputs": [],
   "source": [
    "df['Break stress'] = df['Break Force'] / df['Area'] / 1000"
   ]
  },
  {
   "cell_type": "code",
   "execution_count": 13,
   "metadata": {},
   "outputs": [
    {
     "data": {
      "text/html": [
       "<div>\n",
       "<style scoped>\n",
       "    .dataframe tbody tr th:only-of-type {\n",
       "        vertical-align: middle;\n",
       "    }\n",
       "\n",
       "    .dataframe tbody tr th {\n",
       "        vertical-align: top;\n",
       "    }\n",
       "\n",
       "    .dataframe thead th {\n",
       "        text-align: right;\n",
       "    }\n",
       "</style>\n",
       "<table border=\"1\" class=\"dataframe\">\n",
       "  <thead>\n",
       "    <tr style=\"text-align: right;\">\n",
       "      <th></th>\n",
       "      <th>Test ID</th>\n",
       "      <th>Batch</th>\n",
       "      <th>Young's Modulus</th>\n",
       "      <th>Break Force</th>\n",
       "      <th>Distance to Break</th>\n",
       "      <th>Toughness</th>\n",
       "      <th>Diameter 1</th>\n",
       "      <th>Diameter 2</th>\n",
       "      <th>Note</th>\n",
       "      <th>Average</th>\n",
       "      <th>Area</th>\n",
       "      <th>Baseline area</th>\n",
       "      <th>Updated Young's Modulus</th>\n",
       "      <th>Break stress</th>\n",
       "    </tr>\n",
       "  </thead>\n",
       "  <tbody>\n",
       "    <tr>\n",
       "      <th>4</th>\n",
       "      <td>20240227_5.0_NC_1</td>\n",
       "      <td>20240227_5.0_NC_</td>\n",
       "      <td>50.692</td>\n",
       "      <td>108.939</td>\n",
       "      <td>-27.123</td>\n",
       "      <td>1334.504</td>\n",
       "      <td>63.0</td>\n",
       "      <td>64.0</td>\n",
       "      <td>ok</td>\n",
       "      <td>0.0635</td>\n",
       "      <td>0.003167</td>\n",
       "      <td>0.003848</td>\n",
       "      <td>61.601042</td>\n",
       "      <td>34.399019</td>\n",
       "    </tr>\n",
       "    <tr>\n",
       "      <th>5</th>\n",
       "      <td>20240227_5.0_NC_2</td>\n",
       "      <td>20240227_5.0_NC_</td>\n",
       "      <td>47.935</td>\n",
       "      <td>103.819</td>\n",
       "      <td>-29.079</td>\n",
       "      <td>1330.881</td>\n",
       "      <td>56.0</td>\n",
       "      <td>53.0</td>\n",
       "      <td>ok</td>\n",
       "      <td>0.0545</td>\n",
       "      <td>0.002333</td>\n",
       "      <td>0.003848</td>\n",
       "      <td>79.078024</td>\n",
       "      <td>44.503478</td>\n",
       "    </tr>\n",
       "  </tbody>\n",
       "</table>\n",
       "</div>"
      ],
      "text/plain": [
       "             Test ID             Batch  Young's Modulus  Break Force  \\\n",
       "4  20240227_5.0_NC_1  20240227_5.0_NC_           50.692      108.939   \n",
       "5  20240227_5.0_NC_2  20240227_5.0_NC_           47.935      103.819   \n",
       "\n",
       "   Distance to Break Toughness  Diameter 1  Diameter 2 Note  Average  \\\n",
       "4            -27.123  1334.504        63.0        64.0   ok   0.0635   \n",
       "5            -29.079  1330.881        56.0        53.0   ok   0.0545   \n",
       "\n",
       "       Area  Baseline area  Updated Young's Modulus  Break stress  \n",
       "4  0.003167       0.003848                61.601042     34.399019  \n",
       "5  0.002333       0.003848                79.078024     44.503478  "
      ]
     },
     "execution_count": 13,
     "metadata": {},
     "output_type": "execute_result"
    }
   ],
   "source": [
    "df.head(2)"
   ]
  },
  {
   "cell_type": "code",
   "execution_count": 14,
   "metadata": {},
   "outputs": [
    {
     "data": {
      "text/plain": [
       "213"
      ]
     },
     "execution_count": 14,
     "metadata": {},
     "output_type": "execute_result"
    }
   ],
   "source": [
    "len(df)"
   ]
  },
  {
   "cell_type": "code",
   "execution_count": 15,
   "metadata": {},
   "outputs": [
    {
     "data": {
      "text/plain": [
       "<Figure size 1000x600 with 0 Axes>"
      ]
     },
     "metadata": {},
     "output_type": "display_data"
    },
    {
     "data": {
      "image/png": "[encoded data removed]",
      "text/plain": [
       "<Figure size 640x480 with 1 Axes>"
      ]
     },
     "metadata": {},
     "output_type": "display_data"
    }
   ],
   "source": [
    "def do_plot(df):\n",
    "    plt.figure(figsize=(10, 6))\n",
    "    df.boxplot(column=TYPE, by='Batch')\n",
    "    plt.xlabel('Name')\n",
    "    plt.ylabel(TYPE)\n",
    "    plt.xticks(rotation=65)\n",
    "    ## y axis from 20 to 90\n",
    "    #plt.ylim(15, 90)\n",
    "    plt.show()\n",
    "    \n",
    "\n",
    "do_plot(df)\n"
   ]
  },
  {
   "cell_type": "code",
   "execution_count": 16,
   "metadata": {},
   "outputs": [
    {
     "name": "stdout",
     "output_type": "stream",
     "text": [
      "Batch\n",
      "20240227_5.0_NC_      10.152639\n",
      "20240227_5.0_WAX4_    10.995453\n",
      "20240227_7.4_NC_      11.288288\n",
      "20240227_7.4_WAX4_    11.488703\n",
      "20240227_8.2_NC_      10.680081\n",
      "20240227_8.2_WAX4_    11.215018\n",
      "Name: Young's Modulus, dtype: float64\n"
     ]
    }
   ],
   "source": [
    "std_by_batch_all = df.groupby('Batch')[TYPE].std()\n",
    "print(std_by_batch_all)"
   ]
  },
  {
   "cell_type": "code",
   "execution_count": 17,
   "metadata": {},
   "outputs": [
    {
     "data": {
      "text/plain": [
       "(                    20240227_5.0_NC_  20240227_5.0_WAX4_  20240227_7.4_NC_  \\\n",
       " 20240227_5.0_NC_               1.000               0.352             0.558   \n",
       " 20240227_5.0_WAX4_             0.352               1.000             0.743   \n",
       " 20240227_7.4_NC_               0.558               0.743             1.000   \n",
       " 20240227_7.4_WAX4_             0.404               0.866             0.769   \n",
       " 20240227_8.2_NC_               0.284               0.858             0.681   \n",
       " 20240227_8.2_WAX4_             0.744               0.451             0.854   \n",
       " \n",
       "                     20240227_7.4_WAX4_  20240227_8.2_NC_  20240227_8.2_WAX4_  \n",
       " 20240227_5.0_NC_                 0.404             0.284               0.744  \n",
       " 20240227_5.0_WAX4_               0.866             0.858               0.451  \n",
       " 20240227_7.4_NC_                 0.769             0.681               0.854  \n",
       " 20240227_7.4_WAX4_               1.000             0.621               0.397  \n",
       " 20240227_8.2_NC_                 0.621             1.000               0.795  \n",
       " 20240227_8.2_WAX4_               0.397             0.795               1.000  ,\n",
       "                     20240227_5.0_NC_  20240227_5.0_WAX4_  20240227_7.4_NC_  \\\n",
       " 20240227_5.0_NC_               -1.00              384.89            524.28   \n",
       " 20240227_5.0_WAX4_            384.89               -1.00          24772.04   \n",
       " 20240227_7.4_NC_              524.28            24772.04             -1.00   \n",
       " 20240227_7.4_WAX4_            549.46            21229.42        3187237.38   \n",
       " 20240227_8.2_NC_              234.64             5865.11           2678.93   \n",
       " 20240227_8.2_WAX4_           3596.38              943.79           1497.13   \n",
       " \n",
       "                     20240227_7.4_WAX4_  20240227_8.2_NC_  20240227_8.2_WAX4_  \n",
       " 20240227_5.0_NC_                549.46            234.64             3596.38  \n",
       " 20240227_5.0_WAX4_            21229.42           5865.11              943.79  \n",
       " 20240227_7.4_NC_            3187237.38           2678.93             1497.13  \n",
       " 20240227_7.4_WAX4_               -1.00           2572.71             1593.18  \n",
       " 20240227_8.2_NC_               2572.71             -1.00              474.51  \n",
       " 20240227_8.2_WAX4_             1593.18            474.51               -1.00  )"
      ]
     },
     "execution_count": 17,
     "metadata": {},
     "output_type": "execute_result"
    }
   ],
   "source": [
    "hp.get_pvalue_and_sample_size(df, TYPE)"
   ]
  },
  {
   "cell_type": "code",
   "execution_count": 18,
   "metadata": {},
   "outputs": [
    {
     "name": "stdout",
     "output_type": "stream",
     "text": [
      "['ok' 'almost breakend' 'early-weakness' 'breakend' 'ok ' 'ok early'\n",
      " 'early breakend' 'early-breakend']\n"
     ]
    }
   ],
   "source": [
    "unique_values = df['Note'].unique()\n",
    "print(unique_values)"
   ]
  },
  {
   "cell_type": "markdown",
   "metadata": {},
   "source": [
    "let's remove all but ok"
   ]
  },
  {
   "cell_type": "code",
   "execution_count": 19,
   "metadata": {},
   "outputs": [
    {
     "data": {
      "text/plain": [
       "213"
      ]
     },
     "execution_count": 19,
     "metadata": {},
     "output_type": "execute_result"
    }
   ],
   "source": [
    "len(df)"
   ]
  },
  {
   "cell_type": "code",
   "execution_count": 20,
   "metadata": {},
   "outputs": [
    {
     "name": "stdout",
     "output_type": "stream",
     "text": [
      "Batch\n",
      "20240227_7.4_NC_      37\n",
      "20240227_8.2_NC_      37\n",
      "20240227_8.2_WAX4_    37\n",
      "20240227_5.0_NC_      35\n",
      "20240227_5.0_WAX4_    34\n",
      "20240227_7.4_WAX4_    33\n",
      "Name: count, dtype: int64\n"
     ]
    }
   ],
   "source": [
    "count_by_batch = df['Batch'].value_counts()\n",
    "print(count_by_batch)"
   ]
  },
  {
   "cell_type": "code",
   "execution_count": 21,
   "metadata": {},
   "outputs": [
    {
     "data": {
      "text/plain": [
       "176"
      ]
     },
     "execution_count": 21,
     "metadata": {},
     "output_type": "execute_result"
    }
   ],
   "source": [
    "df = df[df['Note'].isin(['ok', 'ok!', 'okkk', 'OK', 'good', 'great', 'ok '])]\n",
    "len(df)"
   ]
  },
  {
   "cell_type": "code",
   "execution_count": 22,
   "metadata": {},
   "outputs": [
    {
     "name": "stdout",
     "output_type": "stream",
     "text": [
      "Batch\n",
      "20240227_8.2_NC_      35\n",
      "20240227_5.0_NC_      32\n",
      "20240227_7.4_NC_      30\n",
      "20240227_5.0_WAX4_    27\n",
      "20240227_7.4_WAX4_    26\n",
      "20240227_8.2_WAX4_    26\n",
      "Name: count, dtype: int64\n"
     ]
    }
   ],
   "source": [
    "count_by_batch = df['Batch'].value_counts()\n",
    "print(count_by_batch)"
   ]
  },
  {
   "cell_type": "code",
   "execution_count": 23,
   "metadata": {},
   "outputs": [
    {
     "data": {
      "text/plain": [
       "<Figure size 1000x600 with 0 Axes>"
      ]
     },
     "metadata": {},
     "output_type": "display_data"
    },
    {
     "data": {
      "image/png": "[encoded data removed]",
      "text/plain": [
       "<Figure size 640x480 with 1 Axes>"
      ]
     },
     "metadata": {},
     "output_type": "display_data"
    }
   ],
   "source": [
    "do_plot(df)"
   ]
  },
  {
   "cell_type": "code",
   "execution_count": 24,
   "metadata": {},
   "outputs": [
    {
     "name": "stdout",
     "output_type": "stream",
     "text": [
      "Batch\n",
      "20240227_5.0_NC_      10.454084\n",
      "20240227_5.0_WAX4_     9.135663\n",
      "20240227_7.4_NC_      11.991555\n",
      "20240227_7.4_WAX4_    11.771231\n",
      "20240227_8.2_NC_      10.546822\n",
      "20240227_8.2_WAX4_    12.320245\n",
      "Name: Young's Modulus, dtype: float64\n"
     ]
    }
   ],
   "source": [
    "std_by_batch_ok = df.groupby('Batch')[TYPE].std()\n",
    "print(std_by_batch_ok)"
   ]
  },
  {
   "cell_type": "code",
   "execution_count": 25,
   "metadata": {},
   "outputs": [
    {
     "data": {
      "text/html": [
       "<div>\n",
       "<style scoped>\n",
       "    .dataframe tbody tr th:only-of-type {\n",
       "        vertical-align: middle;\n",
       "    }\n",
       "\n",
       "    .dataframe tbody tr th {\n",
       "        vertical-align: top;\n",
       "    }\n",
       "\n",
       "    .dataframe thead th {\n",
       "        text-align: right;\n",
       "    }\n",
       "</style>\n",
       "<table border=\"1\" class=\"dataframe\">\n",
       "  <thead>\n",
       "    <tr style=\"text-align: right;\">\n",
       "      <th></th>\n",
       "      <th>std all</th>\n",
       "      <th>std ok</th>\n",
       "    </tr>\n",
       "    <tr>\n",
       "      <th>Batch</th>\n",
       "      <th></th>\n",
       "      <th></th>\n",
       "    </tr>\n",
       "  </thead>\n",
       "  <tbody>\n",
       "    <tr>\n",
       "      <th>20240227_5.0_NC_</th>\n",
       "      <td>10.152639</td>\n",
       "      <td>10.454084</td>\n",
       "    </tr>\n",
       "    <tr>\n",
       "      <th>20240227_5.0_WAX4_</th>\n",
       "      <td>10.995453</td>\n",
       "      <td>9.135663</td>\n",
       "    </tr>\n",
       "    <tr>\n",
       "      <th>20240227_7.4_NC_</th>\n",
       "      <td>11.288288</td>\n",
       "      <td>11.991555</td>\n",
       "    </tr>\n",
       "    <tr>\n",
       "      <th>20240227_7.4_WAX4_</th>\n",
       "      <td>11.488703</td>\n",
       "      <td>11.771231</td>\n",
       "    </tr>\n",
       "    <tr>\n",
       "      <th>20240227_8.2_NC_</th>\n",
       "      <td>10.680081</td>\n",
       "      <td>10.546822</td>\n",
       "    </tr>\n",
       "    <tr>\n",
       "      <th>20240227_8.2_WAX4_</th>\n",
       "      <td>11.215018</td>\n",
       "      <td>12.320245</td>\n",
       "    </tr>\n",
       "  </tbody>\n",
       "</table>\n",
       "</div>"
      ],
      "text/plain": [
       "                      std all     std ok\n",
       "Batch                                   \n",
       "20240227_5.0_NC_    10.152639  10.454084\n",
       "20240227_5.0_WAX4_  10.995453   9.135663\n",
       "20240227_7.4_NC_    11.288288  11.991555\n",
       "20240227_7.4_WAX4_  11.488703  11.771231\n",
       "20240227_8.2_NC_    10.680081  10.546822\n",
       "20240227_8.2_WAX4_  11.215018  12.320245"
      ]
     },
     "execution_count": 25,
     "metadata": {},
     "output_type": "execute_result"
    }
   ],
   "source": [
    "merged_df = pd.concat([std_by_batch_all, std_by_batch_ok], axis=1)\n",
    "merged_df.columns = ['std all', 'std ok']\n",
    "merged_df"
   ]
  },
  {
   "cell_type": "code",
   "execution_count": 26,
   "metadata": {},
   "outputs": [
    {
     "data": {
      "text/plain": [
       "(                    20240227_5.0_NC_  20240227_5.0_WAX4_  20240227_7.4_NC_  \\\n",
       " 20240227_5.0_NC_               1.000               0.470             0.894   \n",
       " 20240227_5.0_WAX4_             0.470               1.000             0.497   \n",
       " 20240227_7.4_NC_               0.894               0.497             1.000   \n",
       " 20240227_7.4_WAX4_             0.845               0.551             0.824   \n",
       " 20240227_8.2_NC_               0.221               0.932             0.374   \n",
       " 20240227_8.2_WAX4_             0.845               0.251             0.749   \n",
       " \n",
       "                     20240227_7.4_WAX4_  20240227_8.2_NC_  20240227_8.2_WAX4_  \n",
       " 20240227_5.0_NC_                 0.845             0.221               0.845  \n",
       " 20240227_5.0_WAX4_               0.551             0.932               0.251  \n",
       " 20240227_7.4_NC_                 0.824             0.374               0.749  \n",
       " 20240227_7.4_WAX4_               1.000             0.994               0.355  \n",
       " 20240227_8.2_NC_                 0.994             1.000               0.304  \n",
       " 20240227_8.2_WAX4_               0.355             0.304               1.000  ,\n",
       "                     20240227_5.0_NC_  20240227_5.0_WAX4_  20240227_7.4_NC_  \\\n",
       " 20240227_5.0_NC_               -1.00              266.85           2108.23   \n",
       " 20240227_5.0_WAX4_            266.85               -1.00            892.51   \n",
       " 20240227_7.4_NC_             2108.23              892.51             -1.00   \n",
       " 20240227_7.4_WAX4_           9232.41              470.59           8460.00   \n",
       " 20240227_8.2_NC_              177.70             2760.68            430.56   \n",
       " 20240227_8.2_WAX4_           2342.11              168.39            639.27   \n",
       " \n",
       "                     20240227_7.4_WAX4_  20240227_8.2_NC_  20240227_8.2_WAX4_  \n",
       " 20240227_5.0_NC_               9232.41            177.70             2342.11  \n",
       " 20240227_5.0_WAX4_              470.59           2760.68              168.39  \n",
       " 20240227_7.4_NC_               8460.00            430.56              639.27  \n",
       " 20240227_7.4_WAX4_               -1.00            275.90             1172.67  \n",
       " 20240227_8.2_NC_                275.90             -1.00              125.90  \n",
       " 20240227_8.2_WAX4_             1172.67            125.90               -1.00  )"
      ]
     },
     "execution_count": 26,
     "metadata": {},
     "output_type": "execute_result"
    }
   ],
   "source": [
    "hp.get_pvalue_and_sample_size(df, TYPE)"
   ]
  },
  {
   "cell_type": "markdown",
   "metadata": {},
   "source": [
    "more check"
   ]
  },
  {
   "cell_type": "code",
   "execution_count": 27,
   "metadata": {},
   "outputs": [
    {
     "name": "stdout",
     "output_type": "stream",
     "text": [
      "Batch\n",
      "20240227_5.0_NC_      42.825437\n",
      "20240227_5.0_WAX4_    40.440074\n",
      "20240227_7.4_NC_      41.854533\n",
      "20240227_7.4_WAX4_    42.366385\n",
      "20240227_8.2_NC_      39.695943\n",
      "20240227_8.2_WAX4_    43.761000\n",
      "Name: Young's Modulus, dtype: float64\n"
     ]
    }
   ],
   "source": [
    "bio = df.groupby('Batch')[TYPE].mean()\n",
    "print(bio)"
   ]
  },
  {
   "cell_type": "code",
   "execution_count": 28,
   "metadata": {},
   "outputs": [
    {
     "name": "stdout",
     "output_type": "stream",
     "text": [
      "Batch\n",
      "20240227_5.0_NC_      42.6870\n",
      "20240227_5.0_WAX4_    38.1600\n",
      "20240227_7.4_NC_      44.4800\n",
      "20240227_7.4_WAX4_    39.6915\n",
      "20240227_8.2_NC_      43.7040\n",
      "20240227_8.2_WAX4_    43.9125\n",
      "Name: Young's Modulus, dtype: float64\n"
     ]
    }
   ],
   "source": [
    "bio = df.groupby('Batch')[TYPE].median()\n",
    "print(bio)"
   ]
  },
  {
   "cell_type": "code",
   "execution_count": null,
   "metadata": {},
   "outputs": [],
   "source": []
  }
 ],
 "metadata": {
  "kernelspec": {
   "display_name": "Python 3 (ipykernel)",
   "language": "python",
   "name": "python3"
  },
  "language_info": {
   "codemirror_mode": {
    "name": "ipython",
    "version": 3
   },
   "file_extension": ".py",
   "mimetype": "text/x-python",
   "name": "python",
   "nbconvert_exporter": "python",
   "pygments_lexer": "ipython3",
   "version": "3.9.18"
  }
 },
 "nbformat": 4,
 "nbformat_minor": 2
}
