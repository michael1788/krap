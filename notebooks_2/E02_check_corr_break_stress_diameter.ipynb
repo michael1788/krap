{
 "cells": [
  {
   "attachments": {},
   "cell_type": "markdown",
   "metadata": {},
   "source": [
    "### Goal"
   ]
  },
  {
   "cell_type": "code",
   "execution_count": 1,
   "metadata": {
    "metadata": {}
   },
   "outputs": [],
   "source": [
    "%load_ext autoreload\n",
    "%autoreload 2"
   ]
  },
  {
   "cell_type": "code",
   "execution_count": 2,
   "metadata": {
    "metadata": {}
   },
   "outputs": [],
   "source": [
    "import os, sys\n",
    "import pandas as pd\n",
    "import numpy as np\n",
    "import math\n",
    "\n",
    "import rdkit \n",
    "\n",
    "import matplotlib.pyplot as plt\n",
    "\n",
    "sys.path.append(\"../../data_analysis/\")\n",
    "import helper as hp"
   ]
  },
  {
   "cell_type": "code",
   "execution_count": 3,
   "metadata": {
    "metadata": {}
   },
   "outputs": [],
   "source": [
    "savepath = \"E02_check_corr_break_stress_diameter/\"\n",
    "os.makedirs(savepath, exist_ok=True)"
   ]
  },
  {
   "cell_type": "code",
   "execution_count": 4,
   "metadata": {
    "metadata": {}
   },
   "outputs": [
    {
     "data": {
      "text/html": [
       "<div>\n",
       "<style scoped>\n",
       "    .dataframe tbody tr th:only-of-type {\n",
       "        vertical-align: middle;\n",
       "    }\n",
       "\n",
       "    .dataframe tbody tr th {\n",
       "        vertical-align: top;\n",
       "    }\n",
       "\n",
       "    .dataframe thead th {\n",
       "        text-align: right;\n",
       "    }\n",
       "</style>\n",
       "<table border=\"1\" class=\"dataframe\">\n",
       "  <thead>\n",
       "    <tr style=\"text-align: right;\">\n",
       "      <th></th>\n",
       "      <th>RECORD</th>\n",
       "      <th>CROSS-SECTIONAL AREA</th>\n",
       "      <th>MEAN DIAMETER</th>\n",
       "      <th>MAX DIAMETER</th>\n",
       "      <th>MIN DIAMETER</th>\n",
       "      <th>ELASTIC EMOD</th>\n",
       "      <th>ELASTIC GRADIENT</th>\n",
       "      <th>ELASTIC EXT</th>\n",
       "      <th>ELASTIC STRESS</th>\n",
       "      <th>PLATEAU LOAD</th>\n",
       "      <th>...</th>\n",
       "      <th>STRESS 25%</th>\n",
       "      <th>WORK 25%</th>\n",
       "      <th>YIELD EXT</th>\n",
       "      <th>POSTYIELD GRADIENT</th>\n",
       "      <th>BREAK EXT</th>\n",
       "      <th>BREAK LOAD</th>\n",
       "      <th>BREAK STRESS</th>\n",
       "      <th>Break Stress</th>\n",
       "      <th>TOTAL WORK</th>\n",
       "      <th>TOUGHNESS</th>\n",
       "    </tr>\n",
       "  </thead>\n",
       "  <tbody>\n",
       "    <tr>\n",
       "      <th>0</th>\n",
       "      <td>76</td>\n",
       "      <td>4574.7</td>\n",
       "      <td>76.6</td>\n",
       "      <td>82.8</td>\n",
       "      <td>70.4</td>\n",
       "      <td>4022000000</td>\n",
       "      <td>61.82</td>\n",
       "      <td>2.90</td>\n",
       "      <td>0.01211</td>\n",
       "      <td>57.03</td>\n",
       "      <td>...</td>\n",
       "      <td>0.01280</td>\n",
       "      <td>0.004055</td>\n",
       "      <td>28.08</td>\n",
       "      <td>3.637</td>\n",
       "      <td>54.42</td>\n",
       "      <td>89.8</td>\n",
       "      <td>0.01963</td>\n",
       "      <td>192.504539</td>\n",
       "      <td>0.01060</td>\n",
       "      <td>76400000</td>\n",
       "    </tr>\n",
       "    <tr>\n",
       "      <th>1</th>\n",
       "      <td>77</td>\n",
       "      <td>6146.8</td>\n",
       "      <td>92.5</td>\n",
       "      <td>112.2</td>\n",
       "      <td>69.8</td>\n",
       "      <td>3380000000</td>\n",
       "      <td>70.26</td>\n",
       "      <td>3.45</td>\n",
       "      <td>0.01245</td>\n",
       "      <td>78.76</td>\n",
       "      <td>...</td>\n",
       "      <td>0.01332</td>\n",
       "      <td>0.005479</td>\n",
       "      <td>26.41</td>\n",
       "      <td>6.020</td>\n",
       "      <td>50.60</td>\n",
       "      <td>127.0</td>\n",
       "      <td>0.02066</td>\n",
       "      <td>202.605389</td>\n",
       "      <td>0.01343</td>\n",
       "      <td>72500000</td>\n",
       "    </tr>\n",
       "  </tbody>\n",
       "</table>\n",
       "<p>2 rows × 25 columns</p>\n",
       "</div>"
      ],
      "text/plain": [
       "   RECORD  CROSS-SECTIONAL AREA  MEAN DIAMETER  MAX DIAMETER  MIN DIAMETER  \\\n",
       "0      76                4574.7           76.6          82.8          70.4   \n",
       "1      77                6146.8           92.5         112.2          69.8   \n",
       "\n",
       "   ELASTIC EMOD  ELASTIC GRADIENT  ELASTIC EXT  ELASTIC STRESS  PLATEAU LOAD  \\\n",
       "0    4022000000             61.82         2.90         0.01211         57.03   \n",
       "1    3380000000             70.26         3.45         0.01245         78.76   \n",
       "\n",
       "   ...  STRESS 25%  WORK 25%  YIELD EXT  POSTYIELD GRADIENT  BREAK EXT  \\\n",
       "0  ...     0.01280  0.004055      28.08               3.637      54.42   \n",
       "1  ...     0.01332  0.005479      26.41               6.020      50.60   \n",
       "\n",
       "   BREAK LOAD  BREAK STRESS  Break Stress  TOTAL WORK  TOUGHNESS  \n",
       "0        89.8       0.01963    192.504539     0.01060   76400000  \n",
       "1       127.0       0.02066    202.605389     0.01343   72500000  \n",
       "\n",
       "[2 rows x 25 columns]"
      ]
     },
     "execution_count": 4,
     "metadata": {},
     "output_type": "execute_result"
    }
   ],
   "source": [
    "df_wax7 = pd.read_csv(savepath + \"20241126_DAN_IHNY_SDS_WAX7_0.04 - three phase.tsv\",\n",
    "                      sep=\"\\t\")\n",
    "df_wax7.head(2)"
   ]
  },
  {
   "cell_type": "code",
   "execution_count": 5,
   "metadata": {
    "metadata": {}
   },
   "outputs": [
    {
     "data": {
      "text/plain": [
       "24"
      ]
     },
     "execution_count": 5,
     "metadata": {},
     "output_type": "execute_result"
    }
   ],
   "source": [
    "df_wax7 = df_wax7.dropna()\n",
    "len(df_wax7)"
   ]
  },
  {
   "cell_type": "code",
   "execution_count": 6,
   "metadata": {
    "metadata": {}
   },
   "outputs": [
    {
     "name": "stdout",
     "output_type": "stream",
     "text": [
      "Correlation between MEAN DIAMETER and BREAK STRESS: -0.13302137143160464\n"
     ]
    }
   ],
   "source": [
    "correlation = df_wax7['MEAN DIAMETER'].corr(df_wax7['BREAK STRESS'])\n",
    "print(f\"Correlation between MEAN DIAMETER and BREAK STRESS: {correlation}\")"
   ]
  },
  {
   "cell_type": "code",
   "execution_count": 7,
   "metadata": {
    "metadata": {}
   },
   "outputs": [
    {
     "data": {
      "text/plain": [
       "74.25"
      ]
     },
     "execution_count": 7,
     "metadata": {},
     "output_type": "execute_result"
    }
   ],
   "source": [
    "np.median(df_wax7['MEAN DIAMETER'])"
   ]
  },
  {
   "cell_type": "code",
   "execution_count": 8,
   "metadata": {
    "metadata": {}
   },
   "outputs": [
    {
     "data": {
      "text/html": [
       "<div>\n",
       "<style scoped>\n",
       "    .dataframe tbody tr th:only-of-type {\n",
       "        vertical-align: middle;\n",
       "    }\n",
       "\n",
       "    .dataframe tbody tr th {\n",
       "        vertical-align: top;\n",
       "    }\n",
       "\n",
       "    .dataframe thead th {\n",
       "        text-align: right;\n",
       "    }\n",
       "</style>\n",
       "<table border=\"1\" class=\"dataframe\">\n",
       "  <thead>\n",
       "    <tr style=\"text-align: right;\">\n",
       "      <th></th>\n",
       "      <th>RECORD</th>\n",
       "      <th>CROSS-SECTIONAL AREA</th>\n",
       "      <th>MEAN DIAMETER</th>\n",
       "      <th>MAX DIAMETER</th>\n",
       "      <th>MIN DIAMETER</th>\n",
       "      <th>ELASTIC EMOD</th>\n",
       "      <th>ELASTIC GRADIENT</th>\n",
       "      <th>ELASTIC EXT</th>\n",
       "      <th>ELASTIC STRESS</th>\n",
       "      <th>PLATEAU LOAD</th>\n",
       "      <th>...</th>\n",
       "      <th>STRESS 25%</th>\n",
       "      <th>WORK 25%</th>\n",
       "      <th>YIELD EXT</th>\n",
       "      <th>POSTYIELD GRADIENT</th>\n",
       "      <th>BREAK EXT</th>\n",
       "      <th>BREAK LOAD</th>\n",
       "      <th>BREAK STRESS</th>\n",
       "      <th>Break Stress</th>\n",
       "      <th>TOTAL WORK</th>\n",
       "      <th>TOUGHNESS</th>\n",
       "    </tr>\n",
       "  </thead>\n",
       "  <tbody>\n",
       "    <tr>\n",
       "      <th>0</th>\n",
       "      <td>1.0</td>\n",
       "      <td>3506.9</td>\n",
       "      <td>67.7</td>\n",
       "      <td>74.8</td>\n",
       "      <td>59.7</td>\n",
       "      <td>3.970000e+09</td>\n",
       "      <td>47.35</td>\n",
       "      <td>3.20</td>\n",
       "      <td>0.01210</td>\n",
       "      <td>46.31</td>\n",
       "      <td>...</td>\n",
       "      <td>0.01373</td>\n",
       "      <td>0.003210</td>\n",
       "      <td>24.96</td>\n",
       "      <td>3.309</td>\n",
       "      <td>48.55</td>\n",
       "      <td>69.95</td>\n",
       "      <td>0.01995</td>\n",
       "      <td>195.642667</td>\n",
       "      <td>0.007233</td>\n",
       "      <td>68820000.0</td>\n",
       "    </tr>\n",
       "    <tr>\n",
       "      <th>1</th>\n",
       "      <td>2.0</td>\n",
       "      <td>3659.9</td>\n",
       "      <td>71.0</td>\n",
       "      <td>85.3</td>\n",
       "      <td>54.6</td>\n",
       "      <td>3.775000e+09</td>\n",
       "      <td>46.76</td>\n",
       "      <td>2.79</td>\n",
       "      <td>0.01198</td>\n",
       "      <td>44.81</td>\n",
       "      <td>...</td>\n",
       "      <td>0.01269</td>\n",
       "      <td>0.003177</td>\n",
       "      <td>26.29</td>\n",
       "      <td>2.965</td>\n",
       "      <td>51.46</td>\n",
       "      <td>67.40</td>\n",
       "      <td>0.01842</td>\n",
       "      <td>180.638493</td>\n",
       "      <td>0.007579</td>\n",
       "      <td>68760000.0</td>\n",
       "    </tr>\n",
       "  </tbody>\n",
       "</table>\n",
       "<p>2 rows × 25 columns</p>\n",
       "</div>"
      ],
      "text/plain": [
       "   RECORD  CROSS-SECTIONAL AREA  MEAN DIAMETER  MAX DIAMETER  MIN DIAMETER  \\\n",
       "0     1.0                3506.9           67.7          74.8          59.7   \n",
       "1     2.0                3659.9           71.0          85.3          54.6   \n",
       "\n",
       "   ELASTIC EMOD  ELASTIC GRADIENT  ELASTIC EXT  ELASTIC STRESS  PLATEAU LOAD  \\\n",
       "0  3.970000e+09             47.35         3.20         0.01210         46.31   \n",
       "1  3.775000e+09             46.76         2.79         0.01198         44.81   \n",
       "\n",
       "   ...  STRESS 25%  WORK 25%  YIELD EXT  POSTYIELD GRADIENT  BREAK EXT  \\\n",
       "0  ...     0.01373  0.003210      24.96               3.309      48.55   \n",
       "1  ...     0.01269  0.003177      26.29               2.965      51.46   \n",
       "\n",
       "   BREAK LOAD  BREAK STRESS  Break Stress  TOTAL WORK   TOUGHNESS  \n",
       "0       69.95       0.01995    195.642667    0.007233  68820000.0  \n",
       "1       67.40       0.01842    180.638493    0.007579  68760000.0  \n",
       "\n",
       "[2 rows x 25 columns]"
      ]
     },
     "execution_count": 8,
     "metadata": {},
     "output_type": "execute_result"
    }
   ],
   "source": [
    "df_ctrl = pd.read_csv(savepath + \"20241126_DAN_IHNY_SDS_WAX7_phos - three phase.tsv\",\n",
    "                      sep=\"\\t\")\n",
    "df_ctrl.head(2)"
   ]
  },
  {
   "cell_type": "code",
   "execution_count": 9,
   "metadata": {
    "metadata": {}
   },
   "outputs": [
    {
     "data": {
      "text/plain": [
       "24"
      ]
     },
     "execution_count": 9,
     "metadata": {},
     "output_type": "execute_result"
    }
   ],
   "source": [
    "df_ctrl = df_ctrl.dropna()\n",
    "len(df_ctrl)"
   ]
  },
  {
   "cell_type": "code",
   "execution_count": 10,
   "metadata": {
    "metadata": {}
   },
   "outputs": [
    {
     "data": {
      "text/plain": [
       "24"
      ]
     },
     "execution_count": 10,
     "metadata": {},
     "output_type": "execute_result"
    }
   ],
   "source": [
    "len(df_ctrl)"
   ]
  },
  {
   "cell_type": "code",
   "execution_count": 11,
   "metadata": {
    "metadata": {}
   },
   "outputs": [
    {
     "name": "stdout",
     "output_type": "stream",
     "text": [
      "Correlation between MEAN DIAMETER and BREAK STRESS: -0.22600304704373522\n"
     ]
    }
   ],
   "source": [
    "correlation = df_ctrl['MEAN DIAMETER'].corr(df_ctrl['BREAK STRESS'])\n",
    "print(f\"Correlation between MEAN DIAMETER and BREAK STRESS: {correlation}\")"
   ]
  },
  {
   "cell_type": "code",
   "execution_count": 12,
   "metadata": {
    "metadata": {}
   },
   "outputs": [
    {
     "data": {
      "text/plain": [
       "70.1"
      ]
     },
     "execution_count": 12,
     "metadata": {},
     "output_type": "execute_result"
    }
   ],
   "source": [
    "np.median(df_ctrl['MEAN DIAMETER'])"
   ]
  },
  {
   "cell_type": "code",
   "execution_count": 13,
   "metadata": {
    "metadata": {}
   },
   "outputs": [
    {
     "data": {
      "image/png": "[encoded data removed]",
      "text/plain": [
       "<Figure size 1000x600 with 1 Axes>"
      ]
     },
     "metadata": {},
     "output_type": "display_data"
    }
   ],
   "source": [
    "plt.figure(figsize=(10, 6))\n",
    "\n",
    "# Plot for df_wax7\n",
    "plt.scatter(df_wax7['MEAN DIAMETER'], df_wax7['BREAK STRESS'], color='blue', label='WAX7')\n",
    "\n",
    "# Plot for df_ctrl\n",
    "plt.scatter(df_ctrl['MEAN DIAMETER'], df_ctrl['BREAK STRESS'], color='red', label='Control')\n",
    "\n",
    "plt.xlabel('Mean Diameter')\n",
    "plt.ylabel('Break Stress')\n",
    "plt.title('Break Stress vs Mean Diameter')\n",
    "plt.legend()\n",
    "plt.grid(True)\n",
    "plt.show()"
   ]
  },
  {
   "cell_type": "code",
   "execution_count": 14,
   "metadata": {
    "metadata": {}
   },
   "outputs": [
    {
     "data": {
      "image/png": "[encoded data removed]",
      "text/plain": [
       "<Figure size 1000x600 with 1 Axes>"
      ]
     },
     "metadata": {},
     "output_type": "display_data"
    }
   ],
   "source": [
    "plt.figure(figsize=(10, 6))\n",
    "\n",
    "# Plot for df_wax7\n",
    "plt.scatter(df_wax7['MEAN DIAMETER'], df_wax7['BREAK LOAD'], color='blue', label='WAX7')\n",
    "\n",
    "# Plot for df_ctrl\n",
    "plt.scatter(df_ctrl['MEAN DIAMETER'], df_ctrl['BREAK LOAD'], color='red', label='Control')\n",
    "\n",
    "plt.xlabel('Mean Diameter')\n",
    "plt.ylabel('Break Load')\n",
    "plt.title('Break Load vs Mean Diameter')\n",
    "plt.legend()\n",
    "plt.grid(True)\n",
    "plt.show()"
   ]
  },
  {
   "cell_type": "code",
   "execution_count": 15,
   "metadata": {
    "metadata": {}
   },
   "outputs": [
    {
     "data": {
      "text/plain": [
       "(21, 22)"
      ]
     },
     "execution_count": 15,
     "metadata": {},
     "output_type": "execute_result"
    }
   ],
   "source": [
    "df_wax7 = df_wax7[(df_wax7['MEAN DIAMETER'] >= 50) & (df_wax7['MEAN DIAMETER'] <= 88)]\n",
    "df_ctrl = df_ctrl[(df_ctrl['MEAN DIAMETER'] >= 50) & (df_ctrl['MEAN DIAMETER'] <= 88)]\n",
    "len(df_wax7), len(df_ctrl)"
   ]
  },
  {
   "cell_type": "code",
   "execution_count": 16,
   "metadata": {
    "metadata": {}
   },
   "outputs": [
    {
     "name": "stdout",
     "output_type": "stream",
     "text": [
      "Correlation between MEAN DIAMETER and BREAK STRESS: -0.09475961349069922\n"
     ]
    }
   ],
   "source": [
    "correlation = df_wax7['MEAN DIAMETER'].corr(df_wax7['BREAK STRESS'])\n",
    "print(f\"Correlation between MEAN DIAMETER and BREAK STRESS: {correlation}\")"
   ]
  },
  {
   "cell_type": "code",
   "execution_count": 17,
   "metadata": {
    "metadata": {}
   },
   "outputs": [
    {
     "name": "stdout",
     "output_type": "stream",
     "text": [
      "Correlation between MEAN DIAMETER and BREAK STRESS: -0.4622240824042973\n"
     ]
    }
   ],
   "source": [
    "correlation = df_ctrl['MEAN DIAMETER'].corr(df_ctrl['BREAK STRESS'])\n",
    "print(f\"Correlation between MEAN DIAMETER and BREAK STRESS: {correlation}\")"
   ]
  },
  {
   "cell_type": "code",
   "execution_count": 18,
   "metadata": {
    "metadata": {}
   },
   "outputs": [
    {
     "data": {
      "image/png": "[encoded data removed]",
      "text/plain": [
       "<Figure size 1000x600 with 1 Axes>"
      ]
     },
     "metadata": {},
     "output_type": "display_data"
    }
   ],
   "source": [
    "plt.figure(figsize=(10, 6))\n",
    "\n",
    "# Plot for df_wax7\n",
    "plt.scatter(df_wax7['MEAN DIAMETER'], df_wax7['BREAK STRESS'], color='blue', label='WAX7')\n",
    "\n",
    "# Plot for df_ctrl\n",
    "plt.scatter(df_ctrl['MEAN DIAMETER'], df_ctrl['BREAK STRESS'], color='red', label='Control')\n",
    "\n",
    "plt.xlabel('Mean Diameter')\n",
    "plt.ylabel('Break Stress')\n",
    "plt.title('Break Stress vs Mean Diameter')\n",
    "plt.legend()\n",
    "plt.grid(True)\n",
    "plt.show()"
   ]
  },
  {
   "cell_type": "code",
   "execution_count": 19,
   "metadata": {
    "metadata": {}
   },
   "outputs": [
    {
     "data": {
      "text/plain": [
       "(13, 16)"
      ]
     },
     "execution_count": 19,
     "metadata": {},
     "output_type": "execute_result"
    }
   ],
   "source": [
    "df_wax7 = df_wax7[(df_wax7['MEAN DIAMETER'] >= 55) & (df_wax7['MEAN DIAMETER'] <= 75)]\n",
    "df_ctrl = df_ctrl[(df_ctrl['MEAN DIAMETER'] >= 55) & (df_ctrl['MEAN DIAMETER'] <= 75)]\n",
    "len(df_wax7), len(df_ctrl)"
   ]
  },
  {
   "cell_type": "markdown",
   "metadata": {},
   "source": [
    "not enough data point"
   ]
  },
  {
   "cell_type": "markdown",
   "metadata": {},
   "source": []
  }
 ],
 "metadata": {
  "kernelspec": {
   "display_name": "Python 3 (ipykernel)",
   "language": "python",
   "name": "python3"
  },
  "language_info": {
   "codemirror_mode": {
    "name": "ipython",
    "version": 3
   },
   "file_extension": ".py",
   "mimetype": "text/x-python",
   "name": "python",
   "nbconvert_exporter": "python",
   "pygments_lexer": "ipython3",
   "version": "3.9.18"
  }
 },
 "nbformat": 4,
 "nbformat_minor": 2
}
