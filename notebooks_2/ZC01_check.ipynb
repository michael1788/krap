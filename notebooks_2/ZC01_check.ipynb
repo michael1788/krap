{
 "cells": [
  {
   "attachments": {},
   "cell_type": "markdown",
   "metadata": {},
   "source": [
    "### Goal"
   ]
  },
  {
   "cell_type": "code",
   "execution_count": 1,
   "metadata": {
    "metadata": {}
   },
   "outputs": [],
   "source": [
    "%load_ext autoreload\n",
    "%autoreload 2"
   ]
  },
  {
   "cell_type": "code",
   "execution_count": 2,
   "metadata": {
    "metadata": {}
   },
   "outputs": [],
   "source": [
    "import os\n",
    "import pandas as pd\n",
    "\n",
    "import matplotlib.pyplot as plt"
   ]
  },
  {
   "cell_type": "code",
   "execution_count": 3,
   "metadata": {},
   "outputs": [
    {
     "data": {
      "text/plain": [
       "681"
      ]
     },
     "execution_count": 3,
     "metadata": {},
     "output_type": "execute_result"
    }
   ],
   "source": [
    "path = '/Users/michaelmoret/Library/CloudStorage/GoogleDrive-michael@externa.bio/.shortcut-targets-by-id/1BdUNsBjDh5Gee_76jCiKB1C_CwG0ercP/Pulling data/1_experiment_summary_with_time.xlsx'\n",
    "df = pd.read_excel(path, sheet_name='Sheet1')\n",
    "len(df)"
   ]
  },
  {
   "cell_type": "code",
   "execution_count": 4,
   "metadata": {},
   "outputs": [
    {
     "data": {
      "text/html": [
       "<div>\n",
       "<style scoped>\n",
       "    .dataframe tbody tr th:only-of-type {\n",
       "        vertical-align: middle;\n",
       "    }\n",
       "\n",
       "    .dataframe tbody tr th {\n",
       "        vertical-align: top;\n",
       "    }\n",
       "\n",
       "    .dataframe thead th {\n",
       "        text-align: right;\n",
       "    }\n",
       "</style>\n",
       "<table border=\"1\" class=\"dataframe\">\n",
       "  <thead>\n",
       "    <tr style=\"text-align: right;\">\n",
       "      <th></th>\n",
       "      <th>Date</th>\n",
       "      <th>Filename</th>\n",
       "      <th>Hair</th>\n",
       "      <th>Treatment</th>\n",
       "      <th>Treatment time</th>\n",
       "      <th>Name</th>\n",
       "      <th>Break Stress Mean</th>\n",
       "      <th>Break Stress Std</th>\n",
       "      <th>Break Stress Count</th>\n",
       "      <th>Break Stress Control Mean</th>\n",
       "      <th>Break Stress Control Std</th>\n",
       "      <th>Break Stress Control Count</th>\n",
       "      <th>Break Stress p-value</th>\n",
       "      <th>Control Group Used</th>\n",
       "      <th>Mean # of hairs after outliers removal (across metrics)</th>\n",
       "    </tr>\n",
       "  </thead>\n",
       "  <tbody>\n",
       "    <tr>\n",
       "      <th>0</th>\n",
       "      <td>25-02-06</td>\n",
       "      <td>20250206$1h$europeanperm$50% phos ctrl$50% ELI...</td>\n",
       "      <td>europeanperm</td>\n",
       "      <td>Phosphate</td>\n",
       "      <td>1h</td>\n",
       "      <td>ELI-2-k 0.06</td>\n",
       "      <td>227.53</td>\n",
       "      <td>23.39</td>\n",
       "      <td>44</td>\n",
       "      <td>229.17</td>\n",
       "      <td>22.38</td>\n",
       "      <td>44.0</td>\n",
       "      <td>0.7104</td>\n",
       "      <td>phos ctrl</td>\n",
       "      <td>44</td>\n",
       "    </tr>\n",
       "    <tr>\n",
       "      <th>1</th>\n",
       "      <td>25-02-06</td>\n",
       "      <td>20250206$1h$IHNYbleached$50% phos ctrl$50% ELI...</td>\n",
       "      <td>IHNYbleached</td>\n",
       "      <td>Phosphate</td>\n",
       "      <td>1h</td>\n",
       "      <td>ELI-2-4-k 0.06</td>\n",
       "      <td>179.96</td>\n",
       "      <td>17.62</td>\n",
       "      <td>44</td>\n",
       "      <td>172.19</td>\n",
       "      <td>15.67</td>\n",
       "      <td>40.0</td>\n",
       "      <td>0.0463</td>\n",
       "      <td>phos ctrl</td>\n",
       "      <td>44</td>\n",
       "    </tr>\n",
       "  </tbody>\n",
       "</table>\n",
       "</div>"
      ],
      "text/plain": [
       "       Date                                           Filename          Hair  \\\n",
       "0  25-02-06  20250206$1h$europeanperm$50% phos ctrl$50% ELI...  europeanperm   \n",
       "1  25-02-06  20250206$1h$IHNYbleached$50% phos ctrl$50% ELI...  IHNYbleached   \n",
       "\n",
       "   Treatment Treatment time             Name  Break Stress Mean  \\\n",
       "0  Phosphate             1h     ELI-2-k 0.06             227.53   \n",
       "1  Phosphate             1h   ELI-2-4-k 0.06             179.96   \n",
       "\n",
       "   Break Stress Std  Break Stress Count  Break Stress Control Mean  \\\n",
       "0             23.39                  44                     229.17   \n",
       "1             17.62                  44                     172.19   \n",
       "\n",
       "   Break Stress Control Std  Break Stress Control Count  Break Stress p-value  \\\n",
       "0                     22.38                        44.0                0.7104   \n",
       "1                     15.67                        40.0                0.0463   \n",
       "\n",
       "  Control Group Used  Mean # of hairs after outliers removal (across metrics)  \n",
       "0          phos ctrl                                                 44        \n",
       "1          phos ctrl                                                 44        "
      ]
     },
     "execution_count": 4,
     "metadata": {},
     "output_type": "execute_result"
    }
   ],
   "source": [
    "df.head(2)"
   ]
  },
  {
   "cell_type": "code",
   "execution_count": 8,
   "metadata": {},
   "outputs": [],
   "source": [
    "all_names = list(df['Name'].unique())"
   ]
  },
  {
   "cell_type": "code",
   "execution_count": 9,
   "metadata": {},
   "outputs": [
    {
     "data": {
      "text/plain": [
       "[' SDS wash ', ' sds wash ', '  pre wash treatment ', ' WASH ']"
      ]
     },
     "execution_count": 9,
     "metadata": {},
     "output_type": "execute_result"
    }
   ],
   "source": [
    "[x for x in all_names if \"wash\" in x.lower()]"
   ]
  },
  {
   "cell_type": "code",
   "execution_count": 11,
   "metadata": {},
   "outputs": [
    {
     "data": {
      "text/plain": [
       "[' CONDITIONER BASE ']"
      ]
     },
     "execution_count": 11,
     "metadata": {},
     "output_type": "execute_result"
    }
   ],
   "source": [
    "[x for x in all_names if \"base\" in x.lower()]"
   ]
  },
  {
   "cell_type": "code",
   "execution_count": null,
   "metadata": {},
   "outputs": [],
   "source": []
  }
 ],
 "metadata": {
  "kernelspec": {
   "display_name": "krap",
   "language": "python",
   "name": "python3"
  },
  "language_info": {
   "codemirror_mode": {
    "name": "ipython",
    "version": 3
   },
   "file_extension": ".py",
   "mimetype": "text/x-python",
   "name": "python",
   "nbconvert_exporter": "python",
   "pygments_lexer": "ipython3",
   "version": "3.9.18"
  }
 },
 "nbformat": 4,
 "nbformat_minor": 2
}
