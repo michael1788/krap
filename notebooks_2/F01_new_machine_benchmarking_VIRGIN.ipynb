{
 "cells": [
  {
   "attachments": {},
   "cell_type": "markdown",
   "metadata": {},
   "source": [
    "### Goal"
   ]
  },
  {
   "cell_type": "code",
   "execution_count": 1,
   "metadata": {
    "metadata": {}
   },
   "outputs": [],
   "source": [
    "%load_ext autoreload\n",
    "%autoreload 2"
   ]
  },
  {
   "cell_type": "code",
   "execution_count": 2,
   "metadata": {
    "metadata": {}
   },
   "outputs": [],
   "source": [
    "import os, sys\n",
    "import pandas as pd\n",
    "import numpy as np\n",
    "import math\n",
    "\n",
    "import rdkit \n",
    "\n",
    "import matplotlib.pyplot as plt\n",
    "\n",
    "sys.path.append(\"../../data_analysis/\")\n",
    "import helper as hp"
   ]
  },
  {
   "cell_type": "code",
   "execution_count": 3,
   "metadata": {
    "metadata": {}
   },
   "outputs": [],
   "source": [
    "savepath = \"F01_new_machine_benchmarking_VIRGIN/\"\n",
    "os.makedirs(savepath, exist_ok=True)"
   ]
  },
  {
   "cell_type": "code",
   "execution_count": 4,
   "metadata": {
    "metadata": {}
   },
   "outputs": [
    {
     "data": {
      "text/html": [
       "<div>\n",
       "<style scoped>\n",
       "    .dataframe tbody tr th:only-of-type {\n",
       "        vertical-align: middle;\n",
       "    }\n",
       "\n",
       "    .dataframe tbody tr th {\n",
       "        vertical-align: top;\n",
       "    }\n",
       "\n",
       "    .dataframe thead th {\n",
       "        text-align: right;\n",
       "    }\n",
       "</style>\n",
       "<table border=\"1\" class=\"dataframe\">\n",
       "  <thead>\n",
       "    <tr style=\"text-align: right;\">\n",
       "      <th></th>\n",
       "      <th>RECORD</th>\n",
       "      <th>CROSS-SECTIONAL AREA</th>\n",
       "      <th>MEAN DIAMETER</th>\n",
       "      <th>MAX DIAMETER</th>\n",
       "      <th>MIN DIAMETER</th>\n",
       "      <th>ELASTIC EMOD</th>\n",
       "      <th>ELASTIC GRADIENT</th>\n",
       "      <th>ELASTIC EXT</th>\n",
       "      <th>ELASTIC STRESS</th>\n",
       "      <th>PLATEAU LOAD</th>\n",
       "      <th>...</th>\n",
       "      <th>STRESS 25%</th>\n",
       "      <th>WORK 25%</th>\n",
       "      <th>YIELD EXT</th>\n",
       "      <th>POSTYIELD GRADIENT</th>\n",
       "      <th>BREAK EXT</th>\n",
       "      <th>BREAK LOAD</th>\n",
       "      <th>BREAK STRESS</th>\n",
       "      <th>BREAK STRESS.1</th>\n",
       "      <th>TOTAL WORK</th>\n",
       "      <th>TOUGHNESS</th>\n",
       "    </tr>\n",
       "  </thead>\n",
       "  <tbody>\n",
       "    <tr>\n",
       "      <th>0</th>\n",
       "      <td>NaN</td>\n",
       "      <td>NaN</td>\n",
       "      <td>NaN</td>\n",
       "      <td>NaN</td>\n",
       "      <td>NaN</td>\n",
       "      <td>NaN</td>\n",
       "      <td>NaN</td>\n",
       "      <td>NaN</td>\n",
       "      <td>NaN</td>\n",
       "      <td>NaN</td>\n",
       "      <td>...</td>\n",
       "      <td>NaN</td>\n",
       "      <td>NaN</td>\n",
       "      <td>NaN</td>\n",
       "      <td>NaN</td>\n",
       "      <td>NaN</td>\n",
       "      <td>NaN</td>\n",
       "      <td>NaN</td>\n",
       "      <td>NaN</td>\n",
       "      <td>NaN</td>\n",
       "      <td>NaN</td>\n",
       "    </tr>\n",
       "    <tr>\n",
       "      <th>1</th>\n",
       "      <td>NaN</td>\n",
       "      <td>sq. microns</td>\n",
       "      <td>Microns</td>\n",
       "      <td>Microns</td>\n",
       "      <td>Microns</td>\n",
       "      <td>Pascals</td>\n",
       "      <td>gmf/mm</td>\n",
       "      <td>% Strain</td>\n",
       "      <td>gmf/sq micron</td>\n",
       "      <td>gmf</td>\n",
       "      <td>...</td>\n",
       "      <td>gmf/sq micron</td>\n",
       "      <td>Joules</td>\n",
       "      <td>% Strain</td>\n",
       "      <td>gmf/mm</td>\n",
       "      <td>% Strain</td>\n",
       "      <td>gmf</td>\n",
       "      <td>gmf/sq micron</td>\n",
       "      <td>MPa</td>\n",
       "      <td>Joules</td>\n",
       "      <td>Joules/m3</td>\n",
       "    </tr>\n",
       "    <tr>\n",
       "      <th>2</th>\n",
       "      <td>1</td>\n",
       "      <td>2993.6</td>\n",
       "      <td>69</td>\n",
       "      <td>84.9</td>\n",
       "      <td>44.9</td>\n",
       "      <td>3854000000</td>\n",
       "      <td>38.67</td>\n",
       "      <td>3.06</td>\n",
       "      <td>0.01301</td>\n",
       "      <td>40.89</td>\n",
       "      <td>...</td>\n",
       "      <td>0.015</td>\n",
       "      <td>0.002898</td>\n",
       "      <td>25.52</td>\n",
       "      <td>3.969</td>\n",
       "      <td>47.94</td>\n",
       "      <td>71.45</td>\n",
       "      <td>0.02387</td>\n",
       "      <td>234.084735</td>\n",
       "      <td>0.006879</td>\n",
       "      <td>75560000</td>\n",
       "    </tr>\n",
       "  </tbody>\n",
       "</table>\n",
       "<p>3 rows × 25 columns</p>\n",
       "</div>"
      ],
      "text/plain": [
       "  RECORD CROSS-SECTIONAL AREA MEAN DIAMETER MAX DIAMETER MIN DIAMETER  \\\n",
       "0    NaN                  NaN           NaN          NaN          NaN   \n",
       "1    NaN          sq. microns       Microns      Microns      Microns   \n",
       "2      1               2993.6            69         84.9         44.9   \n",
       "\n",
       "  ELASTIC EMOD ELASTIC GRADIENT ELASTIC EXT ELASTIC STRESS PLATEAU LOAD  ...  \\\n",
       "0          NaN              NaN         NaN            NaN          NaN  ...   \n",
       "1      Pascals           gmf/mm    % Strain  gmf/sq micron          gmf  ...   \n",
       "2   3854000000            38.67        3.06        0.01301        40.89  ...   \n",
       "\n",
       "      STRESS 25%  WORK 25% YIELD EXT POSTYIELD GRADIENT BREAK EXT BREAK LOAD  \\\n",
       "0            NaN       NaN       NaN                NaN       NaN        NaN   \n",
       "1  gmf/sq micron    Joules  % Strain             gmf/mm  % Strain        gmf   \n",
       "2          0.015  0.002898     25.52              3.969     47.94      71.45   \n",
       "\n",
       "    BREAK STRESS BREAK STRESS.1 TOTAL WORK  TOUGHNESS  \n",
       "0            NaN            NaN        NaN        NaN  \n",
       "1  gmf/sq micron            MPa     Joules  Joules/m3  \n",
       "2        0.02387     234.084735   0.006879   75560000  \n",
       "\n",
       "[3 rows x 25 columns]"
      ]
     },
     "execution_count": 4,
     "metadata": {},
     "output_type": "execute_result"
    }
   ],
   "source": [
    "df = pd.read_excel(\"/Users/michaelmoret/tinyverse/krap/data/pulling_new_machine_benchmark/20240912_DAN_NK_virgin_100hairs_tensile.xlsx\", \n",
    "                 skiprows=2)\n",
    "df.head(3)"
   ]
  },
  {
   "cell_type": "code",
   "execution_count": 5,
   "metadata": {
    "metadata": {}
   },
   "outputs": [
    {
     "data": {
      "text/html": [
       "<div>\n",
       "<style scoped>\n",
       "    .dataframe tbody tr th:only-of-type {\n",
       "        vertical-align: middle;\n",
       "    }\n",
       "\n",
       "    .dataframe tbody tr th {\n",
       "        vertical-align: top;\n",
       "    }\n",
       "\n",
       "    .dataframe thead th {\n",
       "        text-align: right;\n",
       "    }\n",
       "</style>\n",
       "<table border=\"1\" class=\"dataframe\">\n",
       "  <thead>\n",
       "    <tr style=\"text-align: right;\">\n",
       "      <th></th>\n",
       "      <th>RECORD</th>\n",
       "      <th>CROSS-SECTIONAL AREA</th>\n",
       "      <th>MEAN DIAMETER</th>\n",
       "      <th>MAX DIAMETER</th>\n",
       "      <th>MIN DIAMETER</th>\n",
       "      <th>ELASTIC EMOD</th>\n",
       "      <th>ELASTIC GRADIENT</th>\n",
       "      <th>ELASTIC EXT</th>\n",
       "      <th>ELASTIC STRESS</th>\n",
       "      <th>PLATEAU LOAD</th>\n",
       "      <th>...</th>\n",
       "      <th>STRESS 25%</th>\n",
       "      <th>WORK 25%</th>\n",
       "      <th>YIELD EXT</th>\n",
       "      <th>POSTYIELD GRADIENT</th>\n",
       "      <th>BREAK EXT</th>\n",
       "      <th>BREAK LOAD</th>\n",
       "      <th>BREAK STRESS</th>\n",
       "      <th>BREAK STRESS.1</th>\n",
       "      <th>TOTAL WORK</th>\n",
       "      <th>TOUGHNESS</th>\n",
       "    </tr>\n",
       "  </thead>\n",
       "  <tbody>\n",
       "    <tr>\n",
       "      <th>0</th>\n",
       "      <td>1</td>\n",
       "      <td>2993.6</td>\n",
       "      <td>69</td>\n",
       "      <td>84.9</td>\n",
       "      <td>44.9</td>\n",
       "      <td>3854000000</td>\n",
       "      <td>38.67</td>\n",
       "      <td>3.06</td>\n",
       "      <td>0.01301</td>\n",
       "      <td>40.89</td>\n",
       "      <td>...</td>\n",
       "      <td>0.015</td>\n",
       "      <td>0.002898</td>\n",
       "      <td>25.52</td>\n",
       "      <td>3.969</td>\n",
       "      <td>47.94</td>\n",
       "      <td>71.45</td>\n",
       "      <td>0.02387</td>\n",
       "      <td>234.084735</td>\n",
       "      <td>0.006879</td>\n",
       "      <td>75560000</td>\n",
       "    </tr>\n",
       "    <tr>\n",
       "      <th>1</th>\n",
       "      <td>2</td>\n",
       "      <td>3434.6</td>\n",
       "      <td>67.5</td>\n",
       "      <td>75.3</td>\n",
       "      <td>58.1</td>\n",
       "      <td>4197000000</td>\n",
       "      <td>48.68</td>\n",
       "      <td>2.68</td>\n",
       "      <td>0.01205</td>\n",
       "      <td>46.79</td>\n",
       "      <td>...</td>\n",
       "      <td>0.01518</td>\n",
       "      <td>0.003291</td>\n",
       "      <td>25.22</td>\n",
       "      <td>4.361</td>\n",
       "      <td>47.75</td>\n",
       "      <td>81.7</td>\n",
       "      <td>0.02379</td>\n",
       "      <td>233.300204</td>\n",
       "      <td>0.007773</td>\n",
       "      <td>74990000</td>\n",
       "    </tr>\n",
       "    <tr>\n",
       "      <th>2</th>\n",
       "      <td>3</td>\n",
       "      <td>4685.3</td>\n",
       "      <td>78.4</td>\n",
       "      <td>87.1</td>\n",
       "      <td>68.5</td>\n",
       "      <td>3946000000</td>\n",
       "      <td>62.28</td>\n",
       "      <td>2.97</td>\n",
       "      <td>0.01195</td>\n",
       "      <td>60.17</td>\n",
       "      <td>...</td>\n",
       "      <td>0.01426</td>\n",
       "      <td>0.004274</td>\n",
       "      <td>23.17</td>\n",
       "      <td>5.259</td>\n",
       "      <td>43.36</td>\n",
       "      <td>96.15</td>\n",
       "      <td>0.02052</td>\n",
       "      <td>201.232458</td>\n",
       "      <td>0.008669</td>\n",
       "      <td>61140000</td>\n",
       "    </tr>\n",
       "  </tbody>\n",
       "</table>\n",
       "<p>3 rows × 25 columns</p>\n",
       "</div>"
      ],
      "text/plain": [
       "  RECORD CROSS-SECTIONAL AREA MEAN DIAMETER MAX DIAMETER MIN DIAMETER  \\\n",
       "0      1               2993.6            69         84.9         44.9   \n",
       "1      2               3434.6          67.5         75.3         58.1   \n",
       "2      3               4685.3          78.4         87.1         68.5   \n",
       "\n",
       "  ELASTIC EMOD ELASTIC GRADIENT ELASTIC EXT ELASTIC STRESS PLATEAU LOAD  ...  \\\n",
       "0   3854000000            38.67        3.06        0.01301        40.89  ...   \n",
       "1   4197000000            48.68        2.68        0.01205        46.79  ...   \n",
       "2   3946000000            62.28        2.97        0.01195        60.17  ...   \n",
       "\n",
       "  STRESS 25%  WORK 25% YIELD EXT POSTYIELD GRADIENT BREAK EXT BREAK LOAD  \\\n",
       "0      0.015  0.002898     25.52              3.969     47.94      71.45   \n",
       "1    0.01518  0.003291     25.22              4.361     47.75       81.7   \n",
       "2    0.01426  0.004274     23.17              5.259     43.36      96.15   \n",
       "\n",
       "  BREAK STRESS BREAK STRESS.1 TOTAL WORK TOUGHNESS  \n",
       "0      0.02387     234.084735   0.006879  75560000  \n",
       "1      0.02379     233.300204   0.007773  74990000  \n",
       "2      0.02052     201.232458   0.008669  61140000  \n",
       "\n",
       "[3 rows x 25 columns]"
      ]
     },
     "execution_count": 5,
     "metadata": {},
     "output_type": "execute_result"
    }
   ],
   "source": [
    "df = df.drop([0, 1]).reset_index(drop=True)\n",
    "df.head(3)"
   ]
  },
  {
   "cell_type": "code",
   "execution_count": 6,
   "metadata": {
    "metadata": {}
   },
   "outputs": [
    {
     "data": {
      "text/plain": [
       "106"
      ]
     },
     "execution_count": 6,
     "metadata": {},
     "output_type": "execute_result"
    }
   ],
   "source": [
    "len(df)"
   ]
  },
  {
   "cell_type": "code",
   "execution_count": 7,
   "metadata": {
    "metadata": {}
   },
   "outputs": [
    {
     "name": "stdout",
     "output_type": "stream",
     "text": [
      "Index(['RECORD', 'CROSS-SECTIONAL AREA', 'MEAN DIAMETER', 'MAX DIAMETER',\n",
      "       'MIN DIAMETER', 'ELASTIC EMOD', 'ELASTIC GRADIENT', 'ELASTIC EXT',\n",
      "       'ELASTIC STRESS', 'PLATEAU LOAD', 'PLATEAU STRESS', 'LOAD 15%',\n",
      "       'STRESS 15%', 'WORK 15%', 'LOAD 25%', 'STRESS 25%', 'WORK 25%',\n",
      "       'YIELD EXT', 'POSTYIELD GRADIENT', 'BREAK EXT', 'BREAK LOAD',\n",
      "       'BREAK STRESS', 'BREAK STRESS.1', 'TOTAL WORK', 'TOUGHNESS'],\n",
      "      dtype='object')\n"
     ]
    }
   ],
   "source": [
    "print(df.columns)"
   ]
  },
  {
   "cell_type": "code",
   "execution_count": 8,
   "metadata": {
    "metadata": {}
   },
   "outputs": [
    {
     "data": {
      "text/html": [
       "<div>\n",
       "<style scoped>\n",
       "    .dataframe tbody tr th:only-of-type {\n",
       "        vertical-align: middle;\n",
       "    }\n",
       "\n",
       "    .dataframe tbody tr th {\n",
       "        vertical-align: top;\n",
       "    }\n",
       "\n",
       "    .dataframe thead th {\n",
       "        text-align: right;\n",
       "    }\n",
       "</style>\n",
       "<table border=\"1\" class=\"dataframe\">\n",
       "  <thead>\n",
       "    <tr style=\"text-align: right;\">\n",
       "      <th></th>\n",
       "      <th>BREAK STRESS</th>\n",
       "    </tr>\n",
       "  </thead>\n",
       "  <tbody>\n",
       "    <tr>\n",
       "      <th>0</th>\n",
       "      <td>0.02387</td>\n",
       "    </tr>\n",
       "    <tr>\n",
       "      <th>1</th>\n",
       "      <td>0.02379</td>\n",
       "    </tr>\n",
       "    <tr>\n",
       "      <th>2</th>\n",
       "      <td>0.02052</td>\n",
       "    </tr>\n",
       "  </tbody>\n",
       "</table>\n",
       "</div>"
      ],
      "text/plain": [
       "  BREAK STRESS\n",
       "0      0.02387\n",
       "1      0.02379\n",
       "2      0.02052"
      ]
     },
     "execution_count": 8,
     "metadata": {},
     "output_type": "execute_result"
    }
   ],
   "source": [
    "df_bio = df[['BREAK STRESS']]\n",
    "df_bio.head(3)"
   ]
  },
  {
   "cell_type": "code",
   "execution_count": 9,
   "metadata": {
    "metadata": {}
   },
   "outputs": [
    {
     "data": {
      "text/plain": [
       "101"
      ]
     },
     "execution_count": 9,
     "metadata": {},
     "output_type": "execute_result"
    }
   ],
   "source": [
    "df_bio = df_bio.dropna()\n",
    "len(df_bio)"
   ]
  },
  {
   "cell_type": "markdown",
   "metadata": {},
   "source": [
    "### Break stress"
   ]
  },
  {
   "cell_type": "code",
   "execution_count": 10,
   "metadata": {
    "metadata": {}
   },
   "outputs": [
    {
     "data": {
      "text/plain": [
       "[0.02387, 0.02379]"
      ]
     },
     "execution_count": 10,
     "metadata": {},
     "output_type": "execute_result"
    }
   ],
   "source": [
    "all_samples = list(df_bio['BREAK STRESS'])\n",
    "all_samples[:2]"
   ]
  },
  {
   "cell_type": "code",
   "execution_count": 11,
   "metadata": {
    "metadata": {}
   },
   "outputs": [
    {
     "data": {
      "text/plain": [
       "90"
      ]
     },
     "execution_count": 11,
     "metadata": {},
     "output_type": "execute_result"
    }
   ],
   "source": [
    "from scipy.stats import ks_2samp\n",
    "\n",
    "N_REPEATS = 100\n",
    "d_n_pvalues = {}\n",
    "for n in range(10, 100, 1):\n",
    "    for nr in range(N_REPEATS):\n",
    "        sampled_values = np.random.choice(all_samples, n)\n",
    "        res = ks_2samp(all_samples, sampled_values, alternative='two-sided', mode='auto')\n",
    "        # get the p-value\n",
    "        p_value = res[1]\n",
    "        if n not in d_n_pvalues:\n",
    "            d_n_pvalues[n] = []\n",
    "        d_n_pvalues[n].append(round(p_value,4))\n",
    "len(d_n_pvalues)"
   ]
  },
  {
   "cell_type": "code",
   "execution_count": 12,
   "metadata": {
    "metadata": {}
   },
   "outputs": [],
   "source": [
    "mean_pvalues = []\n",
    "std_values = []\n",
    "for i in range(10, 100, 1):\n",
    "    mean_pvalues.append(np.mean(d_n_pvalues[i]))\n",
    "    std_values.append(np.std(d_n_pvalues[i]))"
   ]
  },
  {
   "cell_type": "code",
   "execution_count": 13,
   "metadata": {
    "metadata": {}
   },
   "outputs": [
    {
     "data": {
      "image/png": "[encoded data removed]",
      "text/plain": [
       "<Figure size 1000x600 with 1 Axes>"
      ]
     },
     "metadata": {},
     "output_type": "display_data"
    }
   ],
   "source": [
    "# Plotting the mean and standard deviation\n",
    "x = range(10, 100)\n",
    "mean_pvalues = np.array(mean_pvalues)\n",
    "std_values = np.array(std_values)\n",
    "\n",
    "plt.figure(figsize=(10, 6))\n",
    "plt.plot(x, mean_pvalues, label='Mean p-values', color='blue')\n",
    "plt.fill_between(x, mean_pvalues - std_values, mean_pvalues + std_values, color='blue', alpha=0.2, label='Standard Deviation')\n",
    "plt.xlabel('Sample Size')\n",
    "plt.ylabel('Mean p-value')\n",
    "plt.title('Mean p-values and Standard Deviation')\n",
    "plt.ylim(0, 1.0)\n",
    "# add a red line at 0.05\n",
    "plt.axhline(y=0.05, color='r', linestyle='-', label='Significance Level 0.05')\n",
    "plt.legend()\n",
    "plt.grid(True)\n",
    "plt.show()"
   ]
  },
  {
   "cell_type": "markdown",
   "metadata": {},
   "source": [
    "let's look at the minimum p values "
   ]
  },
  {
   "cell_type": "code",
   "execution_count": 14,
   "metadata": {
    "metadata": {}
   },
   "outputs": [
    {
     "data": {
      "image/png": "[encoded data removed]",
      "text/plain": [
       "<Figure size 1000x600 with 1 Axes>"
      ]
     },
     "metadata": {},
     "output_type": "display_data"
    }
   ],
   "source": [
    "min_pvalues = []\n",
    "for i in range(10, 100, 1):\n",
    "    min_pvalues.append(np.min(d_n_pvalues[i]))\n",
    "\n",
    "# Plotting the mean and standard deviation\n",
    "x = range(10, 100)\n",
    "min_pvalues = np.array(min_pvalues)\n",
    "\n",
    "plt.figure(figsize=(10, 6))\n",
    "plt.plot(x, min_pvalues, label='Min p-values', color='blue')\n",
    "plt.xlabel('Sample Size')\n",
    "plt.ylabel('Min p-value')\n",
    "plt.title('Min p-values and Standard Deviation')\n",
    "plt.ylim(0, 1.0)\n",
    "plt.axhline(y=0.05, color='r', linestyle='-', label='Significance Level 0.05')\n",
    "plt.legend()\n",
    "plt.grid(True)\n",
    "plt.show()"
   ]
  },
  {
   "cell_type": "code",
   "execution_count": 15,
   "metadata": {
    "metadata": {}
   },
   "outputs": [],
   "source": [
    "percent_ok = []\n",
    "THRES = 0.05\n",
    "for_df_sz = []\n",
    "for i in range(10, 100, 1):\n",
    "    values = d_n_pvalues[i]\n",
    "    count = len([v for v in values if v > THRES])\n",
    "    prop = count / len(values)\n",
    "    percent_ok.append(prop)\n",
    "\n",
    "    for_df_sz.append(i)"
   ]
  },
  {
   "cell_type": "code",
   "execution_count": 16,
   "metadata": {
    "metadata": {}
   },
   "outputs": [
    {
     "data": {
      "text/html": [
       "<div>\n",
       "<style scoped>\n",
       "    .dataframe tbody tr th:only-of-type {\n",
       "        vertical-align: middle;\n",
       "    }\n",
       "\n",
       "    .dataframe tbody tr th {\n",
       "        vertical-align: top;\n",
       "    }\n",
       "\n",
       "    .dataframe thead th {\n",
       "        text-align: right;\n",
       "    }\n",
       "</style>\n",
       "<table border=\"1\" class=\"dataframe\">\n",
       "  <thead>\n",
       "    <tr style=\"text-align: right;\">\n",
       "      <th></th>\n",
       "      <th>Sample Size</th>\n",
       "      <th>Proportion same as full sample (out of 100)</th>\n",
       "    </tr>\n",
       "  </thead>\n",
       "  <tbody>\n",
       "    <tr>\n",
       "      <th>0</th>\n",
       "      <td>10</td>\n",
       "      <td>0.95</td>\n",
       "    </tr>\n",
       "    <tr>\n",
       "      <th>1</th>\n",
       "      <td>11</td>\n",
       "      <td>0.93</td>\n",
       "    </tr>\n",
       "  </tbody>\n",
       "</table>\n",
       "</div>"
      ],
      "text/plain": [
       "   Sample Size  Proportion same as full sample (out of 100)\n",
       "0           10                                         0.95\n",
       "1           11                                         0.93"
      ]
     },
     "execution_count": 16,
     "metadata": {},
     "output_type": "execute_result"
    }
   ],
   "source": [
    "# Saving percent_ok and for_df_sz in a DataFrame\n",
    "df_percent_ok = pd.DataFrame({\n",
    "    'Sample Size': for_df_sz,\n",
    "    f'Proportion same as full sample (out of {N_REPEATS})': percent_ok\n",
    "})\n",
    "\n",
    "df_percent_ok.to_csv(savepath + \"virgin_sample_size_analysis.csv\", index=False)\n",
    "\n",
    "df_percent_ok.head(2)"
   ]
  },
  {
   "cell_type": "code",
   "execution_count": 17,
   "metadata": {
    "metadata": {}
   },
   "outputs": [
    {
     "name": "stderr",
     "output_type": "stream",
     "text": [
      "No artists with labels found to put in legend.  Note that artists whose label start with an underscore are ignored when legend() is called with no argument.\n"
     ]
    },
    {
     "data": {
      "image/png": "[encoded data removed]",
      "text/plain": [
       "<Figure size 1000x600 with 1 Axes>"
      ]
     },
     "metadata": {},
     "output_type": "display_data"
    }
   ],
   "source": [
    "# Plotting the percent_ok as a bar plot\n",
    "plt.figure(figsize=(10, 6))\n",
    "plt.bar(range(10, 100), percent_ok, color='green', alpha=0.7, width=0.4)\n",
    "plt.xlabel('Sample Size')\n",
    "plt.ylabel(f'Proportion (n={N_REPEATS})')\n",
    "plt.title('Proportion of test that would have been the same as with 100 hairs')\n",
    "plt.ylim(0, 1.1)\n",
    "plt.legend()\n",
    "plt.grid(True)\n",
    "plt.show()"
   ]
  },
  {
   "cell_type": "markdown",
   "metadata": {},
   "source": [
    "P-value of Kolmogorov-Smirnov test:\n",
    "- two-sided: the null hypothesis is that the two distributions are the same   \n",
    "--> If the KS statistic is large, then the p-value will be small, and this may be taken as evidence against the null hypothesis in favor of the alternative."
   ]
  },
  {
   "cell_type": "markdown",
   "metadata": {},
   "source": [
    "### let's looks at medians"
   ]
  },
  {
   "cell_type": "code",
   "execution_count": 18,
   "metadata": {
    "metadata": {}
   },
   "outputs": [
    {
     "data": {
      "text/plain": [
       "90"
      ]
     },
     "execution_count": 18,
     "metadata": {},
     "output_type": "execute_result"
    }
   ],
   "source": [
    "N_REPEATS = 42\n",
    "d_n_medians = {}\n",
    "for n in range(10, 100, 1):\n",
    "    for nr in range(N_REPEATS):\n",
    "        sampled_values = np.random.choice(all_samples, n)\n",
    "        median = round(np.median(sampled_values),4)\n",
    "        if n not in d_n_medians:\n",
    "            d_n_medians[n] = []\n",
    "        d_n_medians[n].append(median)\n",
    "len(d_n_medians)"
   ]
  },
  {
   "cell_type": "code",
   "execution_count": 19,
   "metadata": {
    "metadata": {}
   },
   "outputs": [
    {
     "data": {
      "text/plain": [
       "0.0237"
      ]
     },
     "execution_count": 19,
     "metadata": {},
     "output_type": "execute_result"
    }
   ],
   "source": [
    "round(np.median(all_samples),4)"
   ]
  },
  {
   "cell_type": "code",
   "execution_count": 20,
   "metadata": {
    "metadata": {}
   },
   "outputs": [
    {
     "name": "stdout",
     "output_type": "stream",
     "text": [
      "10 0.0236 0.0009\n",
      "11 0.0238 0.0007\n",
      "12 0.0238 0.0006\n",
      "13 0.0238 0.0006\n",
      "14 0.0238 0.0007\n",
      "15 0.0237 0.0005\n",
      "16 0.0234 0.0007\n",
      "17 0.0238 0.0005\n",
      "18 0.0237 0.0005\n",
      "19 0.0237 0.0006\n",
      "20 0.0238 0.0005\n",
      "21 0.0237 0.0006\n",
      "22 0.0238 0.0005\n",
      "23 0.0237 0.0004\n",
      "24 0.0237 0.0004\n",
      "25 0.0237 0.0004\n",
      "26 0.0236 0.0004\n",
      "27 0.0237 0.0004\n",
      "28 0.0238 0.0005\n",
      "29 0.0237 0.0004\n",
      "30 0.0236 0.0003\n",
      "31 0.0238 0.0005\n",
      "32 0.0237 0.0004\n",
      "33 0.0237 0.0003\n",
      "34 0.0237 0.0004\n",
      "35 0.0238 0.0004\n",
      "36 0.0237 0.0003\n",
      "37 0.0237 0.0003\n",
      "38 0.0237 0.0004\n",
      "39 0.0236 0.0004\n",
      "40 0.0236 0.0003\n",
      "41 0.0237 0.0005\n",
      "42 0.0237 0.0002\n",
      "43 0.0237 0.0003\n",
      "44 0.0238 0.0003\n",
      "45 0.0238 0.0003\n",
      "46 0.0236 0.0003\n",
      "47 0.0238 0.0004\n",
      "48 0.0236 0.0004\n",
      "49 0.0237 0.0003\n",
      "50 0.0237 0.0003\n",
      "51 0.0238 0.0003\n",
      "52 0.0237 0.0003\n",
      "53 0.0238 0.0003\n",
      "54 0.0236 0.0003\n",
      "55 0.0238 0.0003\n",
      "56 0.0237 0.0003\n",
      "57 0.0236 0.0003\n",
      "58 0.0237 0.0003\n",
      "59 0.0237 0.0002\n",
      "60 0.0238 0.0003\n",
      "61 0.0237 0.0003\n",
      "62 0.0237 0.0002\n",
      "63 0.0237 0.0002\n",
      "64 0.0237 0.0003\n",
      "65 0.0237 0.0003\n",
      "66 0.0237 0.0003\n",
      "67 0.0237 0.0003\n",
      "68 0.0237 0.0002\n",
      "69 0.0238 0.0002\n",
      "70 0.0238 0.0003\n",
      "71 0.0237 0.0003\n",
      "72 0.0237 0.0003\n",
      "73 0.0238 0.0003\n",
      "74 0.0237 0.0002\n",
      "75 0.0238 0.0002\n",
      "76 0.0238 0.0002\n",
      "77 0.0238 0.0003\n",
      "78 0.0237 0.0003\n",
      "79 0.0238 0.0002\n",
      "80 0.0237 0.0003\n",
      "81 0.0238 0.0002\n",
      "82 0.0238 0.0002\n",
      "83 0.0237 0.0002\n",
      "84 0.0237 0.0002\n",
      "85 0.0238 0.0002\n",
      "86 0.0238 0.0003\n",
      "87 0.0237 0.0002\n",
      "88 0.0236 0.0002\n",
      "89 0.0237 0.0002\n",
      "90 0.0237 0.0002\n",
      "91 0.0236 0.0002\n",
      "92 0.0237 0.0002\n",
      "93 0.0237 0.0003\n",
      "94 0.0238 0.0002\n",
      "95 0.0238 0.0002\n",
      "96 0.0237 0.0003\n",
      "97 0.0237 0.0002\n",
      "98 0.0238 0.0002\n",
      "99 0.0238 0.0003\n"
     ]
    }
   ],
   "source": [
    "for i in range(10, 100, 1):\n",
    "    print(i, round(np.median(d_n_medians[i]),4), round(np.std(d_n_medians[i]),4))"
   ]
  },
  {
   "cell_type": "code",
   "execution_count": null,
   "metadata": {},
   "outputs": [],
   "source": []
  }
 ],
 "metadata": {
  "kernelspec": {
   "display_name": "Python 3 (ipykernel)",
   "language": "python",
   "name": "python3"
  },
  "language_info": {
   "codemirror_mode": {
    "name": "ipython",
    "version": 3
   },
   "file_extension": ".py",
   "mimetype": "text/x-python",
   "name": "python",
   "nbconvert_exporter": "python",
   "pygments_lexer": "ipython3",
   "version": "3.9.18"
  }
 },
 "nbformat": 4,
 "nbformat_minor": 2
}
