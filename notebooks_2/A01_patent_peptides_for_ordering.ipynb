{
 "cells": [
  {
   "attachments": {},
   "cell_type": "markdown",
   "metadata": {},
   "source": [
    "### Goal"
   ]
  },
  {
   "cell_type": "code",
   "execution_count": 1,
   "metadata": {},
   "outputs": [],
   "source": [
    "%load_ext autoreload\n",
    "%autoreload 2"
   ]
  },
  {
   "cell_type": "code",
   "execution_count": 2,
   "metadata": {},
   "outputs": [],
   "source": [
    "import os, sys\n",
    "import pandas as pd\n",
    "import numpy as np\n",
    "import math\n",
    "\n",
    "import matplotlib.pyplot as plt\n",
    "\n",
    "sys.path.append(\"../\")\n",
    "import helper as hp"
   ]
  },
  {
   "cell_type": "code",
   "execution_count": 3,
   "metadata": {},
   "outputs": [],
   "source": [
    "savepath = \"A01_patent_peptides_for_ordering/\"\n",
    "os.makedirs(savepath, exist_ok=True)"
   ]
  },
  {
   "cell_type": "code",
   "execution_count": 4,
   "metadata": {},
   "outputs": [
    {
     "data": {
      "text/html": [
       "<div>\n",
       "<style scoped>\n",
       "    .dataframe tbody tr th:only-of-type {\n",
       "        vertical-align: middle;\n",
       "    }\n",
       "\n",
       "    .dataframe tbody tr th {\n",
       "        vertical-align: top;\n",
       "    }\n",
       "\n",
       "    .dataframe thead th {\n",
       "        text-align: right;\n",
       "    }\n",
       "</style>\n",
       "<table border=\"1\" class=\"dataframe\">\n",
       "  <thead>\n",
       "    <tr style=\"text-align: right;\">\n",
       "      <th></th>\n",
       "      <th>File Name</th>\n",
       "      <th>Peptide Sequence</th>\n",
       "      <th>Peptide Length</th>\n",
       "      <th>Cys Number</th>\n",
       "      <th>Cys Content (# of Cys / Length)</th>\n",
       "      <th>Lys Number</th>\n",
       "      <th>Lys Content (# of Lys / Length)</th>\n",
       "      <th>PTM Score</th>\n",
       "      <th>IPTM Score</th>\n",
       "      <th>Confidence Score (0.2PTM + 0.8IPTM)</th>\n",
       "    </tr>\n",
       "  </thead>\n",
       "  <tbody>\n",
       "    <tr>\n",
       "      <th>0</th>\n",
       "      <td>Hair_Keratin_1_Coil_2_Pep_Seq_16_scores_rank_0...</td>\n",
       "      <td>KKVELFPK</td>\n",
       "      <td>8</td>\n",
       "      <td>0</td>\n",
       "      <td>0.000000</td>\n",
       "      <td>3</td>\n",
       "      <td>0.375</td>\n",
       "      <td>0.66</td>\n",
       "      <td>0.64</td>\n",
       "      <td>0.644</td>\n",
       "    </tr>\n",
       "    <tr>\n",
       "      <th>1</th>\n",
       "      <td>Hair_Keratin_1_Coil_2_Pep_Seq_50_scores_rank_0...</td>\n",
       "      <td>GGVCGPSPPCIT</td>\n",
       "      <td>12</td>\n",
       "      <td>2</td>\n",
       "      <td>0.166667</td>\n",
       "      <td>0</td>\n",
       "      <td>0.000</td>\n",
       "      <td>0.66</td>\n",
       "      <td>0.64</td>\n",
       "      <td>0.644</td>\n",
       "    </tr>\n",
       "  </tbody>\n",
       "</table>\n",
       "</div>"
      ],
      "text/plain": [
       "                                           File Name Peptide Sequence  \\\n",
       "0  Hair_Keratin_1_Coil_2_Pep_Seq_16_scores_rank_0...         KKVELFPK   \n",
       "1  Hair_Keratin_1_Coil_2_Pep_Seq_50_scores_rank_0...     GGVCGPSPPCIT   \n",
       "\n",
       "   Peptide Length  Cys Number  Cys Content (# of Cys / Length)  Lys Number  \\\n",
       "0               8           0                         0.000000           3   \n",
       "1              12           2                         0.166667           0   \n",
       "\n",
       "   Lys Content (# of Lys / Length)  PTM Score  IPTM Score  \\\n",
       "0                            0.375       0.66        0.64   \n",
       "1                            0.000       0.66        0.64   \n",
       "\n",
       "   Confidence Score (0.2PTM + 0.8IPTM)  \n",
       "0                                0.644  \n",
       "1                                0.644  "
      ]
     },
     "execution_count": 4,
     "metadata": {},
     "output_type": "execute_result"
    }
   ],
   "source": [
    "df = pd.read_excel(f\"{savepath}AF2_Predictions_Peptides_Hair_Keratin_1_Coil_2.xlsx\")\n",
    "df.head(2)"
   ]
  },
  {
   "cell_type": "code",
   "execution_count": 5,
   "metadata": {},
   "outputs": [
    {
     "data": {
      "text/plain": [
       "Index(['File Name', 'Peptide Sequence', 'Peptide Length', 'Cys Number',\n",
       "       'Cys Content (# of Cys / Length)', 'Lys Number',\n",
       "       'Lys Content (# of Lys / Length)', 'PTM Score', 'IPTM Score',\n",
       "       'Confidence Score (0.2PTM + 0.8IPTM)'],\n",
       "      dtype='object')"
      ]
     },
     "execution_count": 5,
     "metadata": {},
     "output_type": "execute_result"
    }
   ],
   "source": [
    "df.columns"
   ]
  },
  {
   "cell_type": "code",
   "execution_count": 6,
   "metadata": {},
   "outputs": [
    {
     "data": {
      "text/html": [
       "<div>\n",
       "<style scoped>\n",
       "    .dataframe tbody tr th:only-of-type {\n",
       "        vertical-align: middle;\n",
       "    }\n",
       "\n",
       "    .dataframe tbody tr th {\n",
       "        vertical-align: top;\n",
       "    }\n",
       "\n",
       "    .dataframe thead th {\n",
       "        text-align: right;\n",
       "    }\n",
       "</style>\n",
       "<table border=\"1\" class=\"dataframe\">\n",
       "  <thead>\n",
       "    <tr style=\"text-align: right;\">\n",
       "      <th></th>\n",
       "      <th>File Name</th>\n",
       "      <th>Peptide Sequence</th>\n",
       "      <th>Peptide Length</th>\n",
       "      <th>Cys Number</th>\n",
       "      <th>Cys Content (# of Cys / Length)</th>\n",
       "      <th>Lys Number</th>\n",
       "      <th>Lys Content (# of Lys / Length)</th>\n",
       "      <th>PTM Score</th>\n",
       "      <th>IPTM Score</th>\n",
       "      <th>Confidence Score (0.2PTM + 0.8IPTM)</th>\n",
       "    </tr>\n",
       "  </thead>\n",
       "  <tbody>\n",
       "    <tr>\n",
       "      <th>0</th>\n",
       "      <td>Hair_Keratin_1_Coil_2_Pep_Seq_16_scores_rank_0...</td>\n",
       "      <td>KKVELFPK</td>\n",
       "      <td>8</td>\n",
       "      <td>0</td>\n",
       "      <td>0.000000</td>\n",
       "      <td>3</td>\n",
       "      <td>0.375</td>\n",
       "      <td>0.66</td>\n",
       "      <td>0.64</td>\n",
       "      <td>0.644</td>\n",
       "    </tr>\n",
       "    <tr>\n",
       "      <th>1</th>\n",
       "      <td>Hair_Keratin_1_Coil_2_Pep_Seq_50_scores_rank_0...</td>\n",
       "      <td>GGVCGPSPPCIT</td>\n",
       "      <td>12</td>\n",
       "      <td>2</td>\n",
       "      <td>0.166667</td>\n",
       "      <td>0</td>\n",
       "      <td>0.000</td>\n",
       "      <td>0.66</td>\n",
       "      <td>0.64</td>\n",
       "      <td>0.644</td>\n",
       "    </tr>\n",
       "  </tbody>\n",
       "</table>\n",
       "</div>"
      ],
      "text/plain": [
       "                                           File Name Peptide Sequence  \\\n",
       "0  Hair_Keratin_1_Coil_2_Pep_Seq_16_scores_rank_0...         KKVELFPK   \n",
       "1  Hair_Keratin_1_Coil_2_Pep_Seq_50_scores_rank_0...     GGVCGPSPPCIT   \n",
       "\n",
       "   Peptide Length  Cys Number  Cys Content (# of Cys / Length)  Lys Number  \\\n",
       "0               8           0                         0.000000           3   \n",
       "1              12           2                         0.166667           0   \n",
       "\n",
       "   Lys Content (# of Lys / Length)  PTM Score  IPTM Score  \\\n",
       "0                            0.375       0.66        0.64   \n",
       "1                            0.000       0.66        0.64   \n",
       "\n",
       "   Confidence Score (0.2PTM + 0.8IPTM)  \n",
       "0                                0.644  \n",
       "1                                0.644  "
      ]
     },
     "execution_count": 6,
     "metadata": {},
     "output_type": "execute_result"
    }
   ],
   "source": [
    "df_top = df.head(96)\n",
    "df_top.head(2)\n"
   ]
  },
  {
   "cell_type": "code",
   "execution_count": 7,
   "metadata": {},
   "outputs": [
    {
     "data": {
      "text/plain": [
       "96"
      ]
     },
     "execution_count": 7,
     "metadata": {},
     "output_type": "execute_result"
    }
   ],
   "source": [
    "len(df_top)"
   ]
  },
  {
   "cell_type": "code",
   "execution_count": 8,
   "metadata": {},
   "outputs": [
    {
     "data": {
      "text/plain": [
       "['KKVELFPK', 'GGVCGPSPPCIT', 'GGVCGPSPPCITT', 'ASCCRPSYCG', 'CTPPSCCQLHHA']"
      ]
     },
     "execution_count": 8,
     "metadata": {},
     "output_type": "execute_result"
    }
   ],
   "source": [
    "all_peptides = df_top[\"Peptide Sequence\"].to_list()\n",
    "all_peptides[:5]"
   ]
  },
  {
   "cell_type": "code",
   "execution_count": 9,
   "metadata": {},
   "outputs": [
    {
     "data": {
      "text/plain": [
       "(21.24, 2.72)"
      ]
     },
     "execution_count": 9,
     "metadata": {},
     "output_type": "execute_result"
    }
   ],
   "source": [
    "all_l = [len(x) for x in all_peptides]\n",
    "round(np.mean(all_l), 2), round(np.std(all_l), 2)"
   ]
  },
  {
   "cell_type": "code",
   "execution_count": 10,
   "metadata": {},
   "outputs": [
    {
     "data": {
      "text/plain": [
       "96"
      ]
     },
     "execution_count": 10,
     "metadata": {},
     "output_type": "execute_result"
    }
   ],
   "source": [
    "all_ids = [\"patent_peptide_\" + str(x) for x in range(1, len(all_peptides) + 1)]\n",
    "len(all_ids)"
   ]
  },
  {
   "cell_type": "code",
   "execution_count": 11,
   "metadata": {},
   "outputs": [],
   "source": [
    "assert len(all_ids) == len(all_peptides)"
   ]
  },
  {
   "cell_type": "code",
   "execution_count": 12,
   "metadata": {},
   "outputs": [
    {
     "data": {
      "text/html": [
       "<div>\n",
       "<style scoped>\n",
       "    .dataframe tbody tr th:only-of-type {\n",
       "        vertical-align: middle;\n",
       "    }\n",
       "\n",
       "    .dataframe tbody tr th {\n",
       "        vertical-align: top;\n",
       "    }\n",
       "\n",
       "    .dataframe thead th {\n",
       "        text-align: right;\n",
       "    }\n",
       "</style>\n",
       "<table border=\"1\" class=\"dataframe\">\n",
       "  <thead>\n",
       "    <tr style=\"text-align: right;\">\n",
       "      <th></th>\n",
       "      <th>ID</th>\n",
       "      <th>Peptide</th>\n",
       "    </tr>\n",
       "  </thead>\n",
       "  <tbody>\n",
       "    <tr>\n",
       "      <th>0</th>\n",
       "      <td>patent_peptide_1</td>\n",
       "      <td>KKVELFPK</td>\n",
       "    </tr>\n",
       "    <tr>\n",
       "      <th>1</th>\n",
       "      <td>patent_peptide_2</td>\n",
       "      <td>GGVCGPSPPCIT</td>\n",
       "    </tr>\n",
       "  </tbody>\n",
       "</table>\n",
       "</div>"
      ],
      "text/plain": [
       "                 ID       Peptide\n",
       "0  patent_peptide_1      KKVELFPK\n",
       "1  patent_peptide_2  GGVCGPSPPCIT"
      ]
     },
     "execution_count": 12,
     "metadata": {},
     "output_type": "execute_result"
    }
   ],
   "source": [
    "df_to_opti = pd.DataFrame({'ID': all_ids, 'Peptide': all_peptides})\n",
    "df_to_opti.head(2)\n"
   ]
  },
  {
   "cell_type": "code",
   "execution_count": 13,
   "metadata": {},
   "outputs": [],
   "source": [
    "df_to_opti.to_csv(f'{savepath}df_to_opti.csv', index=False)"
   ]
  },
  {
   "cell_type": "code",
   "execution_count": null,
   "metadata": {},
   "outputs": [],
   "source": []
  }
 ],
 "metadata": {
  "kernelspec": {
   "display_name": "Python 3 (ipykernel)",
   "language": "python",
   "name": "python3"
  },
  "language_info": {
   "codemirror_mode": {
    "name": "ipython",
    "version": 3
   },
   "file_extension": ".py",
   "mimetype": "text/x-python",
   "name": "python",
   "nbconvert_exporter": "python",
   "pygments_lexer": "ipython3",
   "version": "3.9.18"
  }
 },
 "nbformat": 4,
 "nbformat_minor": 2
}
