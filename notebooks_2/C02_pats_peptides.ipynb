{
 "cells": [
  {
   "attachments": {},
   "cell_type": "markdown",
   "metadata": {},
   "source": [
    "### Goal"
   ]
  },
  {
   "cell_type": "code",
   "execution_count": 1,
   "metadata": {},
   "outputs": [],
   "source": [
    "%load_ext autoreload\n",
    "%autoreload 2"
   ]
  },
  {
   "cell_type": "code",
   "execution_count": 2,
   "metadata": {},
   "outputs": [],
   "source": [
    "import os, sys\n",
    "import pandas as pd\n",
    "import numpy as np\n",
    "import math\n",
    "\n",
    "import matplotlib.pyplot as plt\n",
    "\n",
    "sys.path.append(\"../../data_analysis/\")\n",
    "import helper as hp"
   ]
  },
  {
   "cell_type": "code",
   "execution_count": 3,
   "metadata": {},
   "outputs": [],
   "source": [
    "savepath = \"C02_pats_peptides/\"\n",
    "os.makedirs(savepath, exist_ok=True)"
   ]
  },
  {
   "cell_type": "code",
   "execution_count": 4,
   "metadata": {},
   "outputs": [
    {
     "data": {
      "text/html": [
       "<div>\n",
       "<style scoped>\n",
       "    .dataframe tbody tr th:only-of-type {\n",
       "        vertical-align: middle;\n",
       "    }\n",
       "\n",
       "    .dataframe tbody tr th {\n",
       "        vertical-align: top;\n",
       "    }\n",
       "\n",
       "    .dataframe thead th {\n",
       "        text-align: right;\n",
       "    }\n",
       "</style>\n",
       "<table border=\"1\" class=\"dataframe\">\n",
       "  <thead>\n",
       "    <tr style=\"text-align: right;\">\n",
       "      <th></th>\n",
       "      <th>Peptide_Length</th>\n",
       "      <th>design</th>\n",
       "      <th>n</th>\n",
       "      <th>mpnn</th>\n",
       "      <th>plddt</th>\n",
       "      <th>i_ptm</th>\n",
       "      <th>i_pae</th>\n",
       "      <th>rmsd</th>\n",
       "      <th>seq</th>\n",
       "    </tr>\n",
       "  </thead>\n",
       "  <tbody>\n",
       "    <tr>\n",
       "      <th>0</th>\n",
       "      <td>15</td>\n",
       "      <td>34</td>\n",
       "      <td>0</td>\n",
       "      <td>1.429089</td>\n",
       "      <td>0.844346</td>\n",
       "      <td>0.856446</td>\n",
       "      <td>13.916696</td>\n",
       "      <td>3.585242</td>\n",
       "      <td>NMDCIIAEIKAQYDDIVTRSRAEAESWYRSKCEEMKATVIRHGETL...</td>\n",
       "    </tr>\n",
       "    <tr>\n",
       "      <th>1</th>\n",
       "      <td>16</td>\n",
       "      <td>42</td>\n",
       "      <td>0</td>\n",
       "      <td>1.242788</td>\n",
       "      <td>0.831597</td>\n",
       "      <td>0.821451</td>\n",
       "      <td>14.146875</td>\n",
       "      <td>2.723849</td>\n",
       "      <td>NMDCIIAEIKAQYDDIVTRSRAEAESWYRSKCEEMKATVIRHGETL...</td>\n",
       "    </tr>\n",
       "    <tr>\n",
       "      <th>2</th>\n",
       "      <td>16</td>\n",
       "      <td>42</td>\n",
       "      <td>1</td>\n",
       "      <td>1.281845</td>\n",
       "      <td>0.826156</td>\n",
       "      <td>0.813666</td>\n",
       "      <td>14.249932</td>\n",
       "      <td>2.681284</td>\n",
       "      <td>NMDCIIAEIKAQYDDIVTRSRAEAESWYRSKCEEMKATVIRHGETL...</td>\n",
       "    </tr>\n",
       "    <tr>\n",
       "      <th>3</th>\n",
       "      <td>15</td>\n",
       "      <td>25</td>\n",
       "      <td>1</td>\n",
       "      <td>1.290887</td>\n",
       "      <td>0.845390</td>\n",
       "      <td>0.844262</td>\n",
       "      <td>14.253083</td>\n",
       "      <td>2.617799</td>\n",
       "      <td>NMDCIIAEIKAQYDDIVTRSRAEAESWYRSKCEEMKATVIRHGETL...</td>\n",
       "    </tr>\n",
       "    <tr>\n",
       "      <th>4</th>\n",
       "      <td>16</td>\n",
       "      <td>6</td>\n",
       "      <td>0</td>\n",
       "      <td>1.340586</td>\n",
       "      <td>0.827509</td>\n",
       "      <td>0.825388</td>\n",
       "      <td>14.296487</td>\n",
       "      <td>3.423714</td>\n",
       "      <td>NMDCIIAEIKAQYDDIVTRSRAEAESWYRSKCEEMKATVIRHGETL...</td>\n",
       "    </tr>\n",
       "  </tbody>\n",
       "</table>\n",
       "</div>"
      ],
      "text/plain": [
       "   Peptide_Length  design  n      mpnn     plddt     i_ptm      i_pae  \\\n",
       "0              15      34  0  1.429089  0.844346  0.856446  13.916696   \n",
       "1              16      42  0  1.242788  0.831597  0.821451  14.146875   \n",
       "2              16      42  1  1.281845  0.826156  0.813666  14.249932   \n",
       "3              15      25  1  1.290887  0.845390  0.844262  14.253083   \n",
       "4              16       6  0  1.340586  0.827509  0.825388  14.296487   \n",
       "\n",
       "       rmsd                                                seq  \n",
       "0  3.585242  NMDCIIAEIKAQYDDIVTRSRAEAESWYRSKCEEMKATVIRHGETL...  \n",
       "1  2.723849  NMDCIIAEIKAQYDDIVTRSRAEAESWYRSKCEEMKATVIRHGETL...  \n",
       "2  2.681284  NMDCIIAEIKAQYDDIVTRSRAEAESWYRSKCEEMKATVIRHGETL...  \n",
       "3  2.617799  NMDCIIAEIKAQYDDIVTRSRAEAESWYRSKCEEMKATVIRHGETL...  \n",
       "4  3.423714  NMDCIIAEIKAQYDDIVTRSRAEAESWYRSKCEEMKATVIRHGETL...  "
      ]
     },
     "execution_count": 4,
     "metadata": {},
     "output_type": "execute_result"
    }
   ],
   "source": [
    "df = pd.read_excel(f\"{savepath}Cterm_Peps_Keratin.xlsx\")\n",
    "df.head(5)"
   ]
  },
  {
   "cell_type": "code",
   "execution_count": 5,
   "metadata": {},
   "outputs": [
    {
     "data": {
      "text/plain": [
       "1100"
      ]
     },
     "execution_count": 5,
     "metadata": {},
     "output_type": "execute_result"
    }
   ],
   "source": [
    "len(df)"
   ]
  },
  {
   "cell_type": "code",
   "execution_count": 6,
   "metadata": {},
   "outputs": [
    {
     "data": {
      "text/html": [
       "<div>\n",
       "<style scoped>\n",
       "    .dataframe tbody tr th:only-of-type {\n",
       "        vertical-align: middle;\n",
       "    }\n",
       "\n",
       "    .dataframe tbody tr th {\n",
       "        vertical-align: top;\n",
       "    }\n",
       "\n",
       "    .dataframe thead th {\n",
       "        text-align: right;\n",
       "    }\n",
       "</style>\n",
       "<table border=\"1\" class=\"dataframe\">\n",
       "  <thead>\n",
       "    <tr style=\"text-align: right;\">\n",
       "      <th></th>\n",
       "      <th>Peptide_Length</th>\n",
       "      <th>design</th>\n",
       "      <th>n</th>\n",
       "      <th>mpnn</th>\n",
       "      <th>plddt</th>\n",
       "      <th>i_ptm</th>\n",
       "      <th>i_pae</th>\n",
       "      <th>rmsd</th>\n",
       "      <th>seq</th>\n",
       "    </tr>\n",
       "  </thead>\n",
       "  <tbody>\n",
       "    <tr>\n",
       "      <th>3</th>\n",
       "      <td>15</td>\n",
       "      <td>25</td>\n",
       "      <td>1</td>\n",
       "      <td>1.290887</td>\n",
       "      <td>0.845390</td>\n",
       "      <td>0.844262</td>\n",
       "      <td>14.253083</td>\n",
       "      <td>2.617799</td>\n",
       "      <td>NMDCIIAEIKAQYDDIVTRSRAEAESWYRSKCEEMKATVIRHGETL...</td>\n",
       "    </tr>\n",
       "    <tr>\n",
       "      <th>0</th>\n",
       "      <td>15</td>\n",
       "      <td>34</td>\n",
       "      <td>0</td>\n",
       "      <td>1.429089</td>\n",
       "      <td>0.844346</td>\n",
       "      <td>0.856446</td>\n",
       "      <td>13.916696</td>\n",
       "      <td>3.585242</td>\n",
       "      <td>NMDCIIAEIKAQYDDIVTRSRAEAESWYRSKCEEMKATVIRHGETL...</td>\n",
       "    </tr>\n",
       "    <tr>\n",
       "      <th>1</th>\n",
       "      <td>16</td>\n",
       "      <td>42</td>\n",
       "      <td>0</td>\n",
       "      <td>1.242788</td>\n",
       "      <td>0.831597</td>\n",
       "      <td>0.821451</td>\n",
       "      <td>14.146875</td>\n",
       "      <td>2.723849</td>\n",
       "      <td>NMDCIIAEIKAQYDDIVTRSRAEAESWYRSKCEEMKATVIRHGETL...</td>\n",
       "    </tr>\n",
       "    <tr>\n",
       "      <th>4</th>\n",
       "      <td>16</td>\n",
       "      <td>6</td>\n",
       "      <td>0</td>\n",
       "      <td>1.340586</td>\n",
       "      <td>0.827509</td>\n",
       "      <td>0.825388</td>\n",
       "      <td>14.296487</td>\n",
       "      <td>3.423714</td>\n",
       "      <td>NMDCIIAEIKAQYDDIVTRSRAEAESWYRSKCEEMKATVIRHGETL...</td>\n",
       "    </tr>\n",
       "    <tr>\n",
       "      <th>2</th>\n",
       "      <td>16</td>\n",
       "      <td>42</td>\n",
       "      <td>1</td>\n",
       "      <td>1.281845</td>\n",
       "      <td>0.826156</td>\n",
       "      <td>0.813666</td>\n",
       "      <td>14.249932</td>\n",
       "      <td>2.681284</td>\n",
       "      <td>NMDCIIAEIKAQYDDIVTRSRAEAESWYRSKCEEMKATVIRHGETL...</td>\n",
       "    </tr>\n",
       "  </tbody>\n",
       "</table>\n",
       "</div>"
      ],
      "text/plain": [
       "   Peptide_Length  design  n      mpnn     plddt     i_ptm      i_pae  \\\n",
       "3              15      25  1  1.290887  0.845390  0.844262  14.253083   \n",
       "0              15      34  0  1.429089  0.844346  0.856446  13.916696   \n",
       "1              16      42  0  1.242788  0.831597  0.821451  14.146875   \n",
       "4              16       6  0  1.340586  0.827509  0.825388  14.296487   \n",
       "2              16      42  1  1.281845  0.826156  0.813666  14.249932   \n",
       "\n",
       "       rmsd                                                seq  \n",
       "3  2.617799  NMDCIIAEIKAQYDDIVTRSRAEAESWYRSKCEEMKATVIRHGETL...  \n",
       "0  3.585242  NMDCIIAEIKAQYDDIVTRSRAEAESWYRSKCEEMKATVIRHGETL...  \n",
       "1  2.723849  NMDCIIAEIKAQYDDIVTRSRAEAESWYRSKCEEMKATVIRHGETL...  \n",
       "4  3.423714  NMDCIIAEIKAQYDDIVTRSRAEAESWYRSKCEEMKATVIRHGETL...  \n",
       "2  2.681284  NMDCIIAEIKAQYDDIVTRSRAEAESWYRSKCEEMKATVIRHGETL...  "
      ]
     },
     "execution_count": 6,
     "metadata": {},
     "output_type": "execute_result"
    }
   ],
   "source": [
    "df_sorted = df.sort_values('plddt', ascending=False)\n",
    "df_sorted.head(5)"
   ]
  },
  {
   "cell_type": "code",
   "execution_count": 7,
   "metadata": {},
   "outputs": [
    {
     "data": {
      "text/plain": [
       "7"
      ]
     },
     "execution_count": 7,
     "metadata": {},
     "output_type": "execute_result"
    }
   ],
   "source": [
    "df_sorted_top = df_sorted.head(7)\n",
    "len(df_sorted_top)"
   ]
  },
  {
   "cell_type": "code",
   "execution_count": 8,
   "metadata": {},
   "outputs": [
    {
     "name": "stderr",
     "output_type": "stream",
     "text": [
      "/var/folders/_d/ms_z9zhx5s5f6s0nrt42m9ph0000gn/T/ipykernel_52595/2861460447.py:1: SettingWithCopyWarning: \n",
      "A value is trying to be set on a copy of a slice from a DataFrame.\n",
      "Try using .loc[row_indexer,col_indexer] = value instead\n",
      "\n",
      "See the caveats in the documentation: https://pandas.pydata.org/pandas-docs/stable/user_guide/indexing.html#returning-a-view-versus-a-copy\n",
      "  df_sorted_top['new_column'] = df_sorted_top['seq'].str.split('/').str[1]\n"
     ]
    },
    {
     "data": {
      "text/html": [
       "<div>\n",
       "<style scoped>\n",
       "    .dataframe tbody tr th:only-of-type {\n",
       "        vertical-align: middle;\n",
       "    }\n",
       "\n",
       "    .dataframe tbody tr th {\n",
       "        vertical-align: top;\n",
       "    }\n",
       "\n",
       "    .dataframe thead th {\n",
       "        text-align: right;\n",
       "    }\n",
       "</style>\n",
       "<table border=\"1\" class=\"dataframe\">\n",
       "  <thead>\n",
       "    <tr style=\"text-align: right;\">\n",
       "      <th></th>\n",
       "      <th>Peptide_Length</th>\n",
       "      <th>mpnn</th>\n",
       "      <th>plddt</th>\n",
       "      <th>i_ptm</th>\n",
       "      <th>i_pae</th>\n",
       "      <th>rmsd</th>\n",
       "      <th>new_column</th>\n",
       "    </tr>\n",
       "  </thead>\n",
       "  <tbody>\n",
       "    <tr>\n",
       "      <th>3</th>\n",
       "      <td>15</td>\n",
       "      <td>1.290887</td>\n",
       "      <td>0.845390</td>\n",
       "      <td>0.844262</td>\n",
       "      <td>14.253083</td>\n",
       "      <td>2.617799</td>\n",
       "      <td>SLVELFKRVQELKEK</td>\n",
       "    </tr>\n",
       "    <tr>\n",
       "      <th>0</th>\n",
       "      <td>15</td>\n",
       "      <td>1.429089</td>\n",
       "      <td>0.844346</td>\n",
       "      <td>0.856446</td>\n",
       "      <td>13.916696</td>\n",
       "      <td>3.585242</td>\n",
       "      <td>SEFVEMFQRIRELRE</td>\n",
       "    </tr>\n",
       "    <tr>\n",
       "      <th>1</th>\n",
       "      <td>16</td>\n",
       "      <td>1.242788</td>\n",
       "      <td>0.831597</td>\n",
       "      <td>0.821451</td>\n",
       "      <td>14.146875</td>\n",
       "      <td>2.723849</td>\n",
       "      <td>SLEELFERNRRLKEEL</td>\n",
       "    </tr>\n",
       "    <tr>\n",
       "      <th>4</th>\n",
       "      <td>16</td>\n",
       "      <td>1.340586</td>\n",
       "      <td>0.827509</td>\n",
       "      <td>0.825388</td>\n",
       "      <td>14.296487</td>\n",
       "      <td>3.423714</td>\n",
       "      <td>SLVSLYERVQRLKEEL</td>\n",
       "    </tr>\n",
       "    <tr>\n",
       "      <th>2</th>\n",
       "      <td>16</td>\n",
       "      <td>1.281845</td>\n",
       "      <td>0.826156</td>\n",
       "      <td>0.813666</td>\n",
       "      <td>14.249932</td>\n",
       "      <td>2.681284</td>\n",
       "      <td>SLSELFERNRELKERL</td>\n",
       "    </tr>\n",
       "  </tbody>\n",
       "</table>\n",
       "</div>"
      ],
      "text/plain": [
       "   Peptide_Length      mpnn     plddt     i_ptm      i_pae      rmsd  \\\n",
       "3              15  1.290887  0.845390  0.844262  14.253083  2.617799   \n",
       "0              15  1.429089  0.844346  0.856446  13.916696  3.585242   \n",
       "1              16  1.242788  0.831597  0.821451  14.146875  2.723849   \n",
       "4              16  1.340586  0.827509  0.825388  14.296487  3.423714   \n",
       "2              16  1.281845  0.826156  0.813666  14.249932  2.681284   \n",
       "\n",
       "         new_column  \n",
       "3   SLVELFKRVQELKEK  \n",
       "0   SEFVEMFQRIRELRE  \n",
       "1  SLEELFERNRRLKEEL  \n",
       "4  SLVSLYERVQRLKEEL  \n",
       "2  SLSELFERNRELKERL  "
      ]
     },
     "execution_count": 8,
     "metadata": {},
     "output_type": "execute_result"
    }
   ],
   "source": [
    "df_sorted_top['new_column'] = df_sorted_top['seq'].str.split('/').str[1]\n",
    "df_sorted_top = df_sorted_top.drop(['seq', 'n', 'design'], axis=1)\n",
    "df_sorted_top.head(5)"
   ]
  },
  {
   "cell_type": "code",
   "execution_count": 9,
   "metadata": {},
   "outputs": [
    {
     "data": {
      "text/plain": [
       "7"
      ]
     },
     "execution_count": 9,
     "metadata": {},
     "output_type": "execute_result"
    }
   ],
   "source": [
    "all_peps = df_sorted_top['new_column'].tolist()\n",
    "len(all_peps)"
   ]
  },
  {
   "cell_type": "code",
   "execution_count": 10,
   "metadata": {},
   "outputs": [
    {
     "data": {
      "text/plain": [
       "7"
      ]
     },
     "execution_count": 10,
     "metadata": {},
     "output_type": "execute_result"
    }
   ],
   "source": [
    "all_peps = list(set(all_peps))\n",
    "len(all_peps)"
   ]
  },
  {
   "cell_type": "code",
   "execution_count": 11,
   "metadata": {},
   "outputs": [
    {
     "data": {
      "text/html": [
       "<div>\n",
       "<style scoped>\n",
       "    .dataframe tbody tr th:only-of-type {\n",
       "        vertical-align: middle;\n",
       "    }\n",
       "\n",
       "    .dataframe tbody tr th {\n",
       "        vertical-align: top;\n",
       "    }\n",
       "\n",
       "    .dataframe thead th {\n",
       "        text-align: right;\n",
       "    }\n",
       "</style>\n",
       "<table border=\"1\" class=\"dataframe\">\n",
       "  <thead>\n",
       "    <tr style=\"text-align: right;\">\n",
       "      <th></th>\n",
       "      <th>AA</th>\n",
       "    </tr>\n",
       "  </thead>\n",
       "  <tbody>\n",
       "    <tr>\n",
       "      <th>0</th>\n",
       "      <td>SLEELFERNRRLKEEL</td>\n",
       "    </tr>\n",
       "    <tr>\n",
       "      <th>1</th>\n",
       "      <td>SEFVEMFQRIRELRE</td>\n",
       "    </tr>\n",
       "    <tr>\n",
       "      <th>2</th>\n",
       "      <td>SLSELFERNRELKERL</td>\n",
       "    </tr>\n",
       "    <tr>\n",
       "      <th>3</th>\n",
       "      <td>SDLAALFQRVQELKE</td>\n",
       "    </tr>\n",
       "    <tr>\n",
       "      <th>4</th>\n",
       "      <td>GEIVELYKRVQELKEKL</td>\n",
       "    </tr>\n",
       "  </tbody>\n",
       "</table>\n",
       "</div>"
      ],
      "text/plain": [
       "                  AA\n",
       "0   SLEELFERNRRLKEEL\n",
       "1    SEFVEMFQRIRELRE\n",
       "2   SLSELFERNRELKERL\n",
       "3    SDLAALFQRVQELKE\n",
       "4  GEIVELYKRVQELKEKL"
      ]
     },
     "execution_count": 11,
     "metadata": {},
     "output_type": "execute_result"
    }
   ],
   "source": [
    "df_all_peps = pd.DataFrame({'AA': all_peps})\n",
    "df_all_peps.head(5)"
   ]
  },
  {
   "cell_type": "code",
   "execution_count": 12,
   "metadata": {},
   "outputs": [],
   "source": [
    "df_all_peps.to_csv(f\"{savepath}cterm_pat.csv\", index=False)"
   ]
  },
  {
   "cell_type": "code",
   "execution_count": 13,
   "metadata": {},
   "outputs": [
    {
     "data": {
      "text/plain": [
       "7"
      ]
     },
     "execution_count": 13,
     "metadata": {},
     "output_type": "execute_result"
    }
   ],
   "source": [
    "len(df_all_peps)"
   ]
  },
  {
   "cell_type": "code",
   "execution_count": null,
   "metadata": {},
   "outputs": [],
   "source": []
  }
 ],
 "metadata": {
  "kernelspec": {
   "display_name": "Python 3 (ipykernel)",
   "language": "python",
   "name": "python3"
  },
  "language_info": {
   "codemirror_mode": {
    "name": "ipython",
    "version": 3
   },
   "file_extension": ".py",
   "mimetype": "text/x-python",
   "name": "python",
   "nbconvert_exporter": "python",
   "pygments_lexer": "ipython3",
   "version": "3.9.18"
  }
 },
 "nbformat": 4,
 "nbformat_minor": 2
}
