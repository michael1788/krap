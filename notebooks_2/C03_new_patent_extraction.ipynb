{
 "cells": [
  {
   "attachments": {},
   "cell_type": "markdown",
   "metadata": {},
   "source": [
    "### Goal"
   ]
  },
  {
   "cell_type": "code",
   "execution_count": 1,
   "metadata": {},
   "outputs": [],
   "source": [
    "%load_ext autoreload\n",
    "%autoreload 2"
   ]
  },
  {
   "cell_type": "code",
   "execution_count": 2,
   "metadata": {},
   "outputs": [],
   "source": [
    "import os, sys\n",
    "import pandas as pd\n",
    "import numpy as np\n",
    "import math\n",
    "\n",
    "import matplotlib.pyplot as plt\n",
    "\n",
    "sys.path.append(\"../../data_analysis/\")\n",
    "import helper as hp"
   ]
  },
  {
   "cell_type": "code",
   "execution_count": 3,
   "metadata": {},
   "outputs": [],
   "source": [
    "savepath = \"C03_new_patent_extraction/\"\n",
    "os.makedirs(savepath, exist_ok=True)"
   ]
  },
  {
   "cell_type": "code",
   "execution_count": 4,
   "metadata": {},
   "outputs": [
    {
     "data": {
      "text/plain": [
       "31"
      ]
     },
     "execution_count": 4,
     "metadata": {},
     "output_type": "execute_result"
    }
   ],
   "source": [
    "bio = [\n",
    "\"QGQVQHLQAAFSQYKKVELFPK\",\n",
    "\"KKVELFPK\",\n",
    "\"CGQVCHLQCAFSCYKKCELFPK\",\n",
    "\"QGQVCHLQCAFSCYKKCELFPK\",\n",
    "\"QGQCCHLQCCFSQYKKCELFPKC\",\n",
    "\"CGQCCHLQCCFCCYKKCELFPKC\",\n",
    "\"CGCCCHLCCCFCCYKKCELFPKC\",\n",
    "\"CGQVCHLQCAFSCYKKCELFPKC\",\n",
    "\"CQGQVQHLQAAFSQYKKVELFPKC\",\n",
    "\"CQGQVQHLQAAFSQYKKCELFPKC\",\n",
    "\"QGQVQHLQCAFSCYKKCELFPK\",\n",
    "\"QGQVQHLQAAFSCYKKCELFPK\",\n",
    "\"QGQVQHLQAAFSCYKKVELFPK\",\n",
    "\"CGQCCHLQCCFCQYKKCELFPKC\",\n",
    "\"CGCCCHLCCCFCQYKKCELFPKC\",\n",
    "\"CGQVCHLQCAFSQYKKCELFPKC\",\n",
    "\"CGQVCHLQCAFSGYKKCELFPKC\",\n",
    "\"CGQVCHLQCAFSCYKKCELFAK\",\n",
    "\"CGQAQHLCAAFSQYKKVELFPK\",\n",
    "\"CCQCQHCQCCCSCYKKVECFPC\",\n",
    "\"QCQVQCCQACCSQYKCVELFPC\",\n",
    "\"QGQVQHLQAACCQCCCVELFPC\",\n",
    "\"QCQVQHLCCCFCCYKKVECCPC\",\n",
    "\"QAQVQHACAACSAYKKCELFAC\",\n",
    "\"QGCCQHCQCACSQCCKVECCCK\",\n",
    "\"QCQCQCLQAAFCCYCKVELCPK\",\n",
    "\"QGCCCHCQCAFCQYCACELCPK\",\n",
    "\"QGCVCHLQAACSQYKKCELFPC\",\n",
    "\"QGQVQHLQAACSQYKCAECFPK\",\n",
    "\"QACVQHCQCCFCQAKAVELCPK\",\n",
    "\"QGCCQCCQAACACCCACECFPC\",\n",
    "]\n",
    "\n",
    "len(bio)"
   ]
  },
  {
   "cell_type": "code",
   "execution_count": 5,
   "metadata": {},
   "outputs": [
    {
     "data": {
      "text/plain": [
       "31"
      ]
     },
     "execution_count": 5,
     "metadata": {},
     "output_type": "execute_result"
    }
   ],
   "source": [
    "biobio = [\n",
    "\"CCQCCHCQCCFSQYCKVCCFPK\",\n",
    "\"QGQVQHCQAAFSQYKCVCLFPK\",\n",
    "\"CGCCQCLAAACSQYKAVCACPK\",\n",
    "\"QGCVQHLQACCCQYCKVELCPK\",\n",
    "\"QGCVQHLQAACSQYKKVELFPK\",\n",
    "\"QGQVQALQAAFSQCAKVEAFPK\",\n",
    "\"QGQVQHLQACFSQYKKCELFPK\",\n",
    "\"QCCCQHCQAACSQAKACCCCPK\",\n",
    "\"QCACACLCCACCCCKAAECFCK\",\n",
    "\"QACVQALAACFSQCKCVCLCPC\",\n",
    "\"CCQVQCCCAACCQYCKVECFPK\",\n",
    "\"QGQVQHCCAAFSQYKKVELFPK\",\n",
    "\"QGCVCHLCCCCCCCKCVECFCK\",\n",
    "\"QCQAQCACAACCQYKKVACFPK\",\n",
    "\"QGQCCCLQCACCQYCKCECFPC\",\n",
    "\"CGQVCCCQACFSCCCKCCLFCK\",\n",
    "\"QGCVACLQCAFSQYKKCAACPC\",\n",
    "\"CGCVQHCQAAFCQYAKVCLFAK\",\n",
    "\"QGCCCHCCCCFCQCCCVELFPC\",\n",
    "\"QGQCQHCQAAFSQACKAELFPK\",\n",
    "\"CCCVCCCQAACSAYCCCCACPK\",\n",
    "\"CGCVQHLQACFSQCCCVELCCC\",\n",
    "\"QCQAQHLQACASQYKKVALFPK\",\n",
    "\"QGCCQHLCAAFSQYKCVELFPK\",\n",
    "\"CGQVQHLCAAFSQYCKVEAFPC\",\n",
    "\"QGACQCCCAAASQYACVELFPK\",\n",
    "\"CGQVCHLQACFAQYKCVELFPK\",\n",
    "\"CGCCAALCACCSCYKKACCFPA\",\n",
    "\"QGQVQHLCACCSCYKKVCCCCC\",\n",
    "\"CCCCQAACCACSCYCKVELFCK\",\n",
    "\"QCQVQHLQAAFCQCKCCELCPK\"\n",
    "]\n",
    "\n",
    "len(biobio)"
   ]
  },
  {
   "cell_type": "code",
   "execution_count": 6,
   "metadata": {},
   "outputs": [],
   "source": [
    "biobiobio = [\n",
    "\"QGQVQCLCAAFSQYKKCECFPK\",\n",
    "\"CGCACALAACCSCCCCVALFPK\",\n",
    "\"QAQAQHLCCAFCCCKKCELCPK\",\n",
    "\"CGCCQHLQCCFCCYKCVCCFPK\",\n",
    "\"CCQCQCLCAAFSCYKKVCCCPK\",\n",
    "\"QACAQCLCAAFSQYAKVELFPK\",\n",
    "\"QGQVQHLQCAFCCYKKVELFPK\",\n",
    "\"QGQVQHLQACFSCYKCVELFPC\",\n",
    "\"QGQVCCCCAAFCCCKCVELCCK\",\n",
    "\"QGQVQHCQAAFSQYCKVELAAK\",\n",
    "\"QGQVQHLQAAFSQYKKVCLFPK\",\n",
    "\"QGQVQCLQAAFCQCKKVECFPK\",\n",
    "\"QGCVQCLQCACCACKCCCLFCA\",\n",
    "\"CACCQACCACFSCAKCAECFCK\",\n",
    "\"QGQVQHCQAAFSQYKKCCLFPK\",\n",
    "\"QAQVQHLQAAFSQCCCVELFCK\",\n",
    "\"CCQCCCLCCAFCCCCKCELFPK\",\n",
    "\"QGQVQCLCCCCSQYKKVECFPK\",\n",
    "\"QGQVQHLQACFSAYKKVELFPK\",\n",
    "\"QGQVCHCCCAFAQYKCACAFPK\",\n",
    "\"QGQCQCLCAAFCCYKKVELCPK\",\n",
    "\"QGQVQCLQAAASQYKKCELFCK\",\n",
    "\"QGQVQCCQAACSQYKKVELFPC\",\n",
    "\"AGCVQCLCCCCCCYAKVCAFPK\",\n",
    "\"QGCCQCCCACCSQYKKVELFPC\",\n",
    "\"ACQVQHCCCAFCCYCCVCCFCC\",\n",
    "\"CCCCQHLCACFSCYCKVECFCK\",\n",
    "\"QGQVQHLQCAFSCYKKVELFCC\",\n",
    "\"CGQVQHLQAACSQYKCVELFCK\",\n",
    "\"QCCVCCAQACFCQYKKCECCCA\",\n",
    "\"CGAVQCCCACFCCCAKVECFCA\"\n",
    "]"
   ]
  },
  {
   "cell_type": "code",
   "execution_count": 7,
   "metadata": {},
   "outputs": [
    {
     "data": {
      "text/plain": [
       "93"
      ]
     },
     "execution_count": 7,
     "metadata": {},
     "output_type": "execute_result"
    }
   ],
   "source": [
    "all_bios = bio + biobio + biobiobio\n",
    "len(all_bios)"
   ]
  },
  {
   "cell_type": "code",
   "execution_count": 8,
   "metadata": {},
   "outputs": [
    {
     "data": {
      "text/plain": [
       "93"
      ]
     },
     "execution_count": 8,
     "metadata": {},
     "output_type": "execute_result"
    }
   ],
   "source": [
    "all_bios = list(set(all_bios))\n",
    "len(all_bios)"
   ]
  },
  {
   "cell_type": "code",
   "execution_count": 9,
   "metadata": {},
   "outputs": [
    {
     "name": "stdout",
     "output_type": "stream",
     "text": [
      "True\n"
     ]
    }
   ],
   "source": [
    "import re\n",
    "\n",
    "valid_protein_pattern = r\"^[ACDEFGHIKLMNPQRSTVWY]+$\"\n",
    "\n",
    "valid_sequences = [seq for seq in all_bios if re.match(valid_protein_pattern, seq)]\n",
    "\n",
    "all_valid = len(valid_sequences) == len(all_bios)\n",
    "print(all_valid)\n"
   ]
  },
  {
   "cell_type": "markdown",
   "metadata": {},
   "source": [
    "see how many of these peptides we didn't test yet"
   ]
  },
  {
   "cell_type": "code",
   "execution_count": 10,
   "metadata": {},
   "outputs": [
    {
     "data": {
      "text/html": [
       "<div>\n",
       "<style scoped>\n",
       "    .dataframe tbody tr th:only-of-type {\n",
       "        vertical-align: middle;\n",
       "    }\n",
       "\n",
       "    .dataframe tbody tr th {\n",
       "        vertical-align: top;\n",
       "    }\n",
       "\n",
       "    .dataframe thead th {\n",
       "        text-align: right;\n",
       "    }\n",
       "</style>\n",
       "<table border=\"1\" class=\"dataframe\">\n",
       "  <thead>\n",
       "    <tr style=\"text-align: right;\">\n",
       "      <th></th>\n",
       "      <th>ID</th>\n",
       "      <th>DNA</th>\n",
       "      <th>AA</th>\n",
       "      <th>elisa_score</th>\n",
       "    </tr>\n",
       "  </thead>\n",
       "  <tbody>\n",
       "    <tr>\n",
       "      <th>0</th>\n",
       "      <td>1</td>\n",
       "      <td>GCGAATTAATACGACTCACTATAGGGAGACCACAACGGTTTCCCTC...</td>\n",
       "      <td>QAQAQHLCCAFCCCKKCELCPK</td>\n",
       "      <td>0.092</td>\n",
       "    </tr>\n",
       "    <tr>\n",
       "      <th>1</th>\n",
       "      <td>2</td>\n",
       "      <td>GCGAATTAATACGACTCACTATAGGGAGACCACAACGGTTTCCCTC...</td>\n",
       "      <td>AGCVQCLCCCCCCYAKVCAFPK</td>\n",
       "      <td>0.149</td>\n",
       "    </tr>\n",
       "  </tbody>\n",
       "</table>\n",
       "</div>"
      ],
      "text/plain": [
       "   ID                                                DNA  \\\n",
       "0   1  GCGAATTAATACGACTCACTATAGGGAGACCACAACGGTTTCCCTC...   \n",
       "1   2  GCGAATTAATACGACTCACTATAGGGAGACCACAACGGTTTCCCTC...   \n",
       "\n",
       "                       AA  elisa_score  \n",
       "0  QAQAQHLCCAFCCCKKCELCPK        0.092  \n",
       "1  AGCVQCLCCCCCCYAKVCAFPK        0.149  "
      ]
     },
     "execution_count": 10,
     "metadata": {},
     "output_type": "execute_result"
    }
   ],
   "source": [
    "df = pd.read_csv(\"C01_elisa_extract_top_seq/elisa_screen_1.csv\")\n",
    "df.head(2)"
   ]
  },
  {
   "cell_type": "code",
   "execution_count": 11,
   "metadata": {},
   "outputs": [
    {
     "data": {
      "text/plain": [
       "96"
      ]
     },
     "execution_count": 11,
     "metadata": {},
     "output_type": "execute_result"
    }
   ],
   "source": [
    "all_tested = df[\"AA\"].to_list()\n",
    "len(all_tested)"
   ]
  },
  {
   "cell_type": "code",
   "execution_count": 12,
   "metadata": {},
   "outputs": [
    {
     "data": {
      "text/plain": [
       "31"
      ]
     },
     "execution_count": 12,
     "metadata": {},
     "output_type": "execute_result"
    }
   ],
   "source": [
    "new_seq = [x for x in all_bios if x not in all_tested]\n",
    "len(new_seq)"
   ]
  },
  {
   "cell_type": "markdown",
   "metadata": {},
   "source": [
    "let's keep 30 for the plate"
   ]
  },
  {
   "cell_type": "code",
   "execution_count": 13,
   "metadata": {},
   "outputs": [
    {
     "data": {
      "text/plain": [
       "30"
      ]
     },
     "execution_count": 13,
     "metadata": {},
     "output_type": "execute_result"
    }
   ],
   "source": [
    "new_seq = new_seq[:30]\n",
    "len(new_seq)"
   ]
  },
  {
   "cell_type": "code",
   "execution_count": 14,
   "metadata": {},
   "outputs": [],
   "source": [
    "df_new_seq = pd.DataFrame({'AA': new_seq})\n",
    "df_new_seq.to_csv(savepath + \"new_patent.csv\", index=False)"
   ]
  },
  {
   "cell_type": "code",
   "execution_count": null,
   "metadata": {},
   "outputs": [],
   "source": []
  }
 ],
 "metadata": {
  "kernelspec": {
   "display_name": "Python 3 (ipykernel)",
   "language": "python",
   "name": "python3"
  },
  "language_info": {
   "codemirror_mode": {
    "name": "ipython",
    "version": 3
   },
   "file_extension": ".py",
   "mimetype": "text/x-python",
   "name": "python",
   "nbconvert_exporter": "python",
   "pygments_lexer": "ipython3",
   "version": "3.9.18"
  }
 },
 "nbformat": 4,
 "nbformat_minor": 2
}
