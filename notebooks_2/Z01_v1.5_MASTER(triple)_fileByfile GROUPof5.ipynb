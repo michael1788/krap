{
 "cells": [
  {
   "attachments": {},
   "cell_type": "markdown",
   "metadata": {},
   "source": [
    "### Goal"
   ]
  },
  {
   "cell_type": "code",
   "execution_count": 1,
   "metadata": {
    "metadata": {}
   },
   "outputs": [],
   "source": [
    "%load_ext autoreload\n",
    "%autoreload 2"
   ]
  },
  {
   "cell_type": "code",
   "execution_count": 2,
   "metadata": {
    "metadata": {}
   },
   "outputs": [],
   "source": [
    "import os\n",
    "import pandas as pd\n",
    "\n",
    "# to prevent figure \n",
    "# to show in the notebook\n",
    "import matplotlib\n",
    "matplotlib.use('Agg')\n",
    "\n",
    "import matplotlib.pyplot as plt\n",
    "\n",
    "import plotting as plotting"
   ]
  },
  {
   "cell_type": "markdown",
   "metadata": {},
   "source": [
    "### TODO: update this (GROUP OF 5 VERSION)"
   ]
  },
  {
   "cell_type": "code",
   "execution_count": 3,
   "metadata": {
    "metadata": {}
   },
   "outputs": [],
   "source": [
    "date = \"24-12-16\"\n",
    "pathfile = f\"Pulling data/{date}/groups_of_5/triple/\""
   ]
  },
  {
   "cell_type": "markdown",
   "metadata": {},
   "source": [
    "### From here; automatic run"
   ]
  },
  {
   "cell_type": "code",
   "execution_count": 4,
   "metadata": {
    "metadata": {}
   },
   "outputs": [],
   "source": [
    "root = f\"/Users/michaelmoret/Library/CloudStorage/GoogleDrive-michael@externa.bio/.shortcut-targets-by-id/1BdUNsBjDh5Gee_76jCiKB1C_CwG0ercP/{pathfile}\"\n",
    "\n",
    "MODE = \"triple\"\n",
    "dev = False\n",
    "\n",
    "# number of hairs from the same group together\n",
    "n_together = 5\n",
    "total_hairs = 100"
   ]
  },
  {
   "cell_type": "code",
   "execution_count": 5,
   "metadata": {
    "metadata": {}
   },
   "outputs": [],
   "source": [
    "if not root.endswith(\"/\"):\n",
    "    root += \"/\"\n",
    "\n",
    "sep_category = \"$\" # separates categories like date, experiments, etc\n",
    "sep_count = \"%\" # separated the number of hairs by experiment"
   ]
  },
  {
   "cell_type": "code",
   "execution_count": 6,
   "metadata": {
    "metadata": {}
   },
   "outputs": [
    {
     "name": "stdout",
     "output_type": "stream",
     "text": [
      "\n",
      "*****************************\n",
      "20241213$IHNY$25%phosctrl$25% PK30-2 0.01$25%PK30-2  0.03$25% PK30-2 0.05$triple.txt\n",
      "Missing records: []\n",
      "splitted_name:  ['25%phosctrl', '25% PK30-2 0.01', '25%PK30-2  0.03', '25% PK30-2 0.05']\n",
      "len df: 100, len names: 100\n",
      "\n",
      "*****************************\n",
      "20241216$IHNY$25%AActrl$25% PK30-2 0.01$25%PK30-2  0.03$25% PK30-2 0.05$triple.txt\n",
      "Missing records: []\n",
      "splitted_name:  ['25%AActrl', '25% PK30-2 0.01', '25%PK30-2  0.03', '25% PK30-2 0.05']\n",
      "len df: 100, len names: 100\n",
      "['AActrl', 'AActrl', 'AActrl', 'AActrl', 'AActrl', ' PK30-2 0.01', ' PK30-2 0.01', ' PK30-2 0.01', ' PK30-2 0.01', ' PK30-2 0.01', 'PK30-2  0.03', 'PK30-2  0.03', 'PK30-2  0.03', 'PK30-2  0.03', 'PK30-2  0.03', ' PK30-2 0.05', ' PK30-2 0.05', ' PK30-2 0.05', ' PK30-2 0.05', ' PK30-2 0.05', 'AActrl', 'AActrl', 'AActrl', 'AActrl', 'AActrl', ' PK30-2 0.01', ' PK30-2 0.01', ' PK30-2 0.01', ' PK30-2 0.01', ' PK30-2 0.01', 'PK30-2  0.03', 'PK30-2  0.03', 'PK30-2  0.03', 'PK30-2  0.03', 'PK30-2  0.03', ' PK30-2 0.05', ' PK30-2 0.05', ' PK30-2 0.05', ' PK30-2 0.05', ' PK30-2 0.05', 'AActrl', 'AActrl', 'AActrl', 'AActrl', 'AActrl', ' PK30-2 0.01', ' PK30-2 0.01', ' PK30-2 0.01', ' PK30-2 0.01', ' PK30-2 0.01', 'PK30-2  0.03', 'PK30-2  0.03', 'PK30-2  0.03', 'PK30-2  0.03', 'PK30-2  0.03', ' PK30-2 0.05', ' PK30-2 0.05', ' PK30-2 0.05', ' PK30-2 0.05', ' PK30-2 0.05', 'AActrl', 'AActrl', 'AActrl', 'AActrl', 'AActrl', ' PK30-2 0.01', ' PK30-2 0.01', ' PK30-2 0.01', ' PK30-2 0.01', ' PK30-2 0.01', 'PK30-2  0.03', 'PK30-2  0.03', 'PK30-2  0.03', 'PK30-2  0.03', 'PK30-2  0.03', ' PK30-2 0.05', ' PK30-2 0.05', ' PK30-2 0.05', ' PK30-2 0.05', ' PK30-2 0.05', 'AActrl', 'AActrl', 'AActrl', 'AActrl', 'AActrl', ' PK30-2 0.01', ' PK30-2 0.01', ' PK30-2 0.01', ' PK30-2 0.01', ' PK30-2 0.01', 'PK30-2  0.03', 'PK30-2  0.03', 'PK30-2  0.03', 'PK30-2  0.03', 'PK30-2  0.03', ' PK30-2 0.05', ' PK30-2 0.05', ' PK30-2 0.05', ' PK30-2 0.05', ' PK30-2 0.05']\n"
     ]
    }
   ],
   "source": [
    "all_dfs = []\n",
    "all_fns = []\n",
    "\n",
    "for file in os.listdir(root):\n",
    "    if file.endswith(\".txt\"):\n",
    "        print(\"\\n*****************************\")\n",
    "        print(file)\n",
    "        df = plotting.get_df_from_file(root + file,\n",
    "                                       skip=2)\n",
    "        # clean the df\n",
    "        if MODE in file:\n",
    "            df = plotting.clean_triple(df)\n",
    "            assert \"triple\" in file\n",
    "        else:\n",
    "            raise ValueError(f\"Not a {MODE} experiment\")\n",
    "\n",
    "        splitted_name = file.split(sep_category)\n",
    "        # get the experiments; i.e. not the date\n",
    "        # not the single or triple etc\n",
    "        splitted_name = splitted_name[2:-1]\n",
    "        print(\"splitted_name: \", splitted_name)\n",
    "        # add the experiment name in the dataframe\n",
    "        all_names = []\n",
    "        \n",
    "        # trick to get the right labels\n",
    "        labelling_round = 0\n",
    "        while labelling_round!=total_hairs:\n",
    "            for entries in splitted_name:\n",
    "                times_name = entries.split(sep_count)\n",
    "                _name = times_name[1]\n",
    "                all_names += [_name] * n_together\n",
    "                labelling_round += n_together\n",
    "\n",
    "        print(f\"len df: {len(df)}, len names: {len(all_names)}\")\n",
    "        df[\"Name\"] = all_names\n",
    "        # remove nan\n",
    "        df = df.dropna()\n",
    "        all_dfs.append(df)\n",
    "        all_fns.append(file.replace(\".txt\", \"\"))\n",
    "\n",
    "print(all_names)"
   ]
  },
  {
   "cell_type": "code",
   "execution_count": 7,
   "metadata": {
    "metadata": {}
   },
   "outputs": [],
   "source": [
    "def master_plots(df, header, ymin, ymax, savepath, show=False, verbose=False):\n",
    "    fig, ax, removed = plotting.create_boxplot(df, header, ymin, ymax)\n",
    "    #save removed data\n",
    "    removed.to_csv(f\"{savepath}{header}_removed.csv\", index=True)\n",
    "    if verbose:\n",
    "        print(f\"{len(removed)} removed data points for {header}\")\n",
    "    # plot\n",
    "    fig.savefig(f\"{savepath}{header}.png\")\n",
    "    if show: \n",
    "        plt.show()\n",
    "        plt.close()"
   ]
  },
  {
   "cell_type": "code",
   "execution_count": 8,
   "metadata": {
    "metadata": {}
   },
   "outputs": [
    {
     "data": {
      "text/plain": [
       "(2, 2)"
      ]
     },
     "execution_count": 8,
     "metadata": {},
     "output_type": "execute_result"
    }
   ],
   "source": [
    "len(all_dfs), len(all_fns)"
   ]
  },
  {
   "cell_type": "code",
   "execution_count": 9,
   "metadata": {
    "metadata": {}
   },
   "outputs": [
    {
     "data": {
      "text/plain": [
       "['20241213$IHNY$25%phosctrl$25% PK30-2 0.01$25%PK30-2  0.03$25% PK30-2 0.05$triple',\n",
       " '20241216$IHNY$25%AActrl$25% PK30-2 0.01$25%PK30-2  0.03$25% PK30-2 0.05$triple']"
      ]
     },
     "execution_count": 9,
     "metadata": {},
     "output_type": "execute_result"
    }
   ],
   "source": [
    "all_fns"
   ]
  },
  {
   "cell_type": "code",
   "execution_count": 10,
   "metadata": {
    "metadata": {}
   },
   "outputs": [
    {
     "name": "stdout",
     "output_type": "stream",
     "text": [
      "\n",
      "************************************\n",
      "20241213$IHNY$25%phosctrl$25% PK30-2 0.01$25%PK30-2  0.03$25% PK30-2 0.05$triple\n",
      "\n",
      "df length: 77\n",
      "\n",
      "Creating boxplot for MEAN DIAMETER\n",
      "Removed outliers for phosctrl : Series([], Name: MEAN DIAMETER, dtype: float64)\n",
      "Removed outliers for  PK30-2 0.01 : Series([], Name: MEAN DIAMETER, dtype: float64)\n",
      "Removed outliers for PK30-2  0.03 : Series([], Name: MEAN DIAMETER, dtype: float64)\n",
      "Removed outliers for  PK30-2 0.05 : 75    94.5\n",
      "98    96.4\n",
      "Name: MEAN DIAMETER, dtype: float64\n",
      "Stats. significance:  PK30-2 0.01 and  PK30-2 0.05: p = 0.0190\n",
      "Stats. significance: PK30-2  0.03 and  PK30-2 0.05: p = 0.0111\n",
      "Median for phosctrl: 73.9\n",
      "Median for  PK30-2 0.01: 76.9\n",
      "Median for PK30-2  0.03: 76.8\n",
      "Median for  PK30-2 0.05: 67.1\n",
      "\n",
      "Creating boxplot for BREAK STRESS\n",
      "Removed outliers for phosctrl : 80    158.86773\n",
      "Name: BREAK STRESS, dtype: float64\n",
      "Removed outliers for  PK30-2 0.01 : 7    128.467115\n",
      "Name: BREAK STRESS, dtype: float64\n",
      "Removed outliers for PK30-2  0.03 : 92    129.44778\n",
      "Name: BREAK STRESS, dtype: float64\n",
      "Removed outliers for  PK30-2 0.05 : 95    108.853815\n",
      "97    413.840630\n",
      "98    127.486450\n",
      "Name: BREAK STRESS, dtype: float64\n",
      "Stats. significance: phosctrl and  PK30-2 0.05: p = 0.0111\n",
      "Median for phosctrl: 202.01699000000164\n",
      "Median for  PK30-2 0.01: 196.1330000000016\n",
      "Median for PK30-2  0.03: 193.19100500000155\n",
      "Median for  PK30-2 0.05: 186.32635000000153\n",
      "\n",
      "Creating boxplot for TOUGHNESS\n",
      "Removed outliers for phosctrl : Series([], Name: TOUGHNESS, dtype: float64)\n",
      "Removed outliers for  PK30-2 0.01 : 7    33700000.0\n",
      "Name: TOUGHNESS, dtype: float64\n",
      "Removed outliers for PK30-2  0.03 : Series([], Name: TOUGHNESS, dtype: float64)\n",
      "Removed outliers for  PK30-2 0.05 : 97    167000000.0\n",
      "Name: TOUGHNESS, dtype: float64\n",
      "Median for phosctrl: 69800000.0\n",
      "Median for  PK30-2 0.01: 74000000.0\n",
      "Median for PK30-2  0.03: 68900000.0\n",
      "Median for  PK30-2 0.05: 67750000.0\n",
      "\n",
      "Creating boxplot for ELASTIC GRADIENT\n",
      "Removed outliers for phosctrl : Series([], Name: ELASTIC GRADIENT, dtype: float64)\n",
      "Removed outliers for  PK30-2 0.01 : Series([], Name: ELASTIC GRADIENT, dtype: float64)\n",
      "Removed outliers for PK30-2  0.03 : Series([], Name: ELASTIC GRADIENT, dtype: float64)\n",
      "Removed outliers for  PK30-2 0.05 : 75    70.5\n",
      "97    78.0\n",
      "Name: ELASTIC GRADIENT, dtype: float64\n",
      "Stats. significance:  PK30-2 0.01 and  PK30-2 0.05: p = 0.0050\n",
      "Stats. significance: PK30-2  0.03 and  PK30-2 0.05: p = 0.0037\n",
      "Median for phosctrl: 46.8\n",
      "Median for  PK30-2 0.01: 53.7\n",
      "Median for PK30-2  0.03: 55.7\n",
      "Median for  PK30-2 0.05: 41.8\n",
      "\n",
      "Creating boxplot for ELASTIC EMOD\n",
      "Removed outliers for phosctrl : Series([], Name: ELASTIC EMOD, dtype: float64)\n",
      "Removed outliers for  PK30-2 0.01 : 28    4.27\n",
      "87    3.44\n",
      "Name: ELASTIC EMOD, dtype: float64\n",
      "Removed outliers for PK30-2  0.03 : 31    2.94\n",
      "92    3.34\n",
      "94    3.24\n",
      "Name: ELASTIC EMOD, dtype: float64\n",
      "Removed outliers for  PK30-2 0.05 : 97    7.67\n",
      "Name: ELASTIC EMOD, dtype: float64\n",
      "Stats. significance: PK30-2  0.03 and  PK30-2 0.05: p = 0.0329\n",
      "Median for phosctrl: 3.8600000000000003\n",
      "Median for  PK30-2 0.01: 3.8850000000000002\n",
      "Median for PK30-2  0.03: 3.9750000000000005\n",
      "Median for  PK30-2 0.05: 3.7750000000000004\n",
      "\n",
      "************************************\n",
      "20241216$IHNY$25%AActrl$25% PK30-2 0.01$25%PK30-2  0.03$25% PK30-2 0.05$triple\n",
      "\n",
      "df length: 74\n",
      "\n",
      "Creating boxplot for MEAN DIAMETER\n",
      "Removed outliers for AActrl : Series([], Name: MEAN DIAMETER, dtype: float64)\n",
      "Removed outliers for  PK30-2 0.01 : Series([], Name: MEAN DIAMETER, dtype: float64)\n",
      "Removed outliers for PK30-2  0.03 : 90    96.4\n",
      "Name: MEAN DIAMETER, dtype: float64\n",
      "Removed outliers for  PK30-2 0.05 : Series([], Name: MEAN DIAMETER, dtype: float64)\n",
      "Stats. significance: PK30-2  0.03 and  PK30-2 0.05: p = 0.0252\n",
      "Median for AActrl: 73.0\n",
      "Median for  PK30-2 0.01: 69.15\n",
      "Median for PK30-2  0.03: 69.0\n",
      "Median for  PK30-2 0.05: 76.7\n",
      "\n",
      "Creating boxplot for BREAK STRESS\n",
      "Removed outliers for AActrl : Series([], Name: BREAK STRESS, dtype: float64)\n",
      "Removed outliers for  PK30-2 0.01 : 66    161.809725\n",
      "Name: BREAK STRESS, dtype: float64\n",
      "Removed outliers for PK30-2  0.03 : Series([], Name: BREAK STRESS, dtype: float64)\n",
      "Removed outliers for  PK30-2 0.05 : 97    132.389775\n",
      "Name: BREAK STRESS, dtype: float64\n",
      "Stats. significance: AActrl and  PK30-2 0.05: p = 0.0262\n",
      "Median for AActrl: 193.19100500000155\n",
      "Median for  PK30-2 0.01: 195.15233500000159\n",
      "Median for PK30-2  0.03: 193.19100500000155\n",
      "Median for  PK30-2 0.05: 202.50732250000164\n",
      "\n",
      "Creating boxplot for TOUGHNESS\n",
      "Removed outliers for AActrl : Series([], Name: TOUGHNESS, dtype: float64)\n",
      "Removed outliers for  PK30-2 0.01 : Series([], Name: TOUGHNESS, dtype: float64)\n",
      "Removed outliers for PK30-2  0.03 : Series([], Name: TOUGHNESS, dtype: float64)\n",
      "Removed outliers for  PK30-2 0.05 : Series([], Name: TOUGHNESS, dtype: float64)\n",
      "Median for AActrl: 67600000.0\n",
      "Median for  PK30-2 0.01: 72050000.0\n",
      "Median for PK30-2  0.03: 70200000.0\n",
      "Median for  PK30-2 0.05: 69300000.0\n",
      "\n",
      "Creating boxplot for ELASTIC GRADIENT\n",
      "Removed outliers for AActrl : Series([], Name: ELASTIC GRADIENT, dtype: float64)\n",
      "Removed outliers for  PK30-2 0.01 : Series([], Name: ELASTIC GRADIENT, dtype: float64)\n",
      "Removed outliers for PK30-2  0.03 : 30    75.2\n",
      "Name: ELASTIC GRADIENT, dtype: float64\n",
      "Removed outliers for  PK30-2 0.05 : Series([], Name: ELASTIC GRADIENT, dtype: float64)\n",
      "Stats. significance:  PK30-2 0.01 and  PK30-2 0.05: p = 0.0372\n",
      "Stats. significance: PK30-2  0.03 and  PK30-2 0.05: p = 0.0315\n",
      "Median for AActrl: 46.6\n",
      "Median for  PK30-2 0.01: 45.05\n",
      "Median for PK30-2  0.03: 46.3\n",
      "Median for  PK30-2 0.05: 57.0\n",
      "\n",
      "Creating boxplot for ELASTIC EMOD\n",
      "Removed outliers for AActrl : 64    4.33\n",
      "Name: ELASTIC EMOD, dtype: float64\n",
      "Removed outliers for  PK30-2 0.01 : Series([], Name: ELASTIC EMOD, dtype: float64)\n",
      "Removed outliers for PK30-2  0.03 : Series([], Name: ELASTIC EMOD, dtype: float64)\n",
      "Removed outliers for  PK30-2 0.05 : Series([], Name: ELASTIC EMOD, dtype: float64)\n",
      "Median for AActrl: 3.7600000000000002\n",
      "Median for  PK30-2 0.01: 3.83\n",
      "Median for PK30-2  0.03: 3.845\n",
      "Median for  PK30-2 0.05: 3.7800000000000002\n"
     ]
    },
    {
     "name": "stderr",
     "output_type": "stream",
     "text": [
      "/Users/michaelmoret/tinyverse/krap/notebooks_2/plotting.py:218: RuntimeWarning: More than 20 figures have been opened. Figures created through the pyplot interface (`matplotlib.pyplot.figure`) are retained until explicitly closed and may consume too much memory. (To control this warning, see the rcParam `figure.max_open_warning`). Consider using `matplotlib.pyplot.close()`.\n",
      "  plt.figure(figsize=figsize)\n"
     ]
    },
    {
     "name": "stdout",
     "output_type": "stream",
     "text": [
      "\n",
      "\n",
      "plotting DONE\n"
     ]
    }
   ],
   "source": [
    "for df, name in zip(all_dfs, all_fns):\n",
    "    print(\"\\n************************************\")\n",
    "    print(f\"{name}\\n\")\n",
    "    print(f\"df length: {len(df)}\")\n",
    "    try:\n",
    "        savepath = f\"{root}{name}/\"\n",
    "        if dev:\n",
    "            savepath = f\"{root}dev/\"\n",
    "        os.makedirs(savepath, exist_ok=True)\n",
    "        \n",
    "        try:\n",
    "            header = 'MEAN DIAMETER'\n",
    "            ymin = 20\n",
    "            ymax = 120\n",
    "            master_plots(df, header, ymin, ymax, savepath)\n",
    "        except Exception as e:\n",
    "            print(f\"ERROR with {header}\")\n",
    "            print(\"Error:\", e)\n",
    "\n",
    "        try:\n",
    "            header = 'BREAK STRESS'\n",
    "            ymin = 120\n",
    "            ymax = 280\n",
    "            master_plots(df, header, ymin, ymax, savepath)\n",
    "        except Exception as e:\n",
    "            print(f\"ERROR with {header}\")\n",
    "            print(\"Error:\", e)\n",
    "\n",
    "        try:\n",
    "            header = 'TOUGHNESS'\n",
    "            ymin = None\n",
    "            ymax = None\n",
    "            master_plots(df, header, ymin, ymax, savepath)\n",
    "        except Exception as e:\n",
    "            print(f\"ERROR with {header}\")\n",
    "            print(\"Error:\", e)\n",
    "        \n",
    "        try:\n",
    "            header = 'ELASTIC GRADIENT'\n",
    "            ymin = 0\n",
    "            ymax =  140\n",
    "            master_plots(df, header, ymin, ymax, savepath)\n",
    "        except Exception as e:\n",
    "            print(f\"ERROR with {header}\")\n",
    "            print(\"Error:\", e)\n",
    "\n",
    "        try:\n",
    "            header = 'ELASTIC EMOD'\n",
    "            ymin = 2.5\n",
    "            ymax =  6.0\n",
    "            master_plots(df, header, ymin, ymax, savepath)\n",
    "        except Exception as e:\n",
    "            print(f\"ERROR with {header}\")\n",
    "            print(\"Error:\", e)\n",
    "\n",
    "        # scatter plots\n",
    "        y_col = 'ELASTIC EMOD'\n",
    "        x_col = 'MEAN DIAMETER'\n",
    "        savedir = f\"{savepath}correlation_plot/\"\n",
    "        plt = plotting.create_scatter_plot(df, x_col, y_col, savedir)\n",
    "\n",
    "        y_col = 'ELASTIC EMOD'\n",
    "        x_col = 'MIN DIAMETER'\n",
    "        savedir = f\"{savepath}correlation_plot/\"\n",
    "        plt = plotting.create_scatter_plot(df, x_col, y_col, savedir)\n",
    "\n",
    "        y_col = 'ELASTIC EMOD'\n",
    "        x_col = 'MAX DIAMETER'\n",
    "        savedir = f\"{savepath}correlation_plot/\"\n",
    "        plt = plotting.create_scatter_plot(df, x_col, y_col, savedir)\n",
    "\n",
    "        y_col = 'BREAK STRESS'\n",
    "        x_col = 'MEAN DIAMETER'\n",
    "        savedir = f\"{savepath}correlation_plot/\"\n",
    "        plt = plotting.create_scatter_plot(df, x_col, y_col, savedir)\n",
    "\n",
    "        y_col = 'BREAK STRESS'\n",
    "        x_col = 'MIN DIAMETER'\n",
    "        savedir = f\"{savepath}correlation_plot/\"\n",
    "        plt = plotting.create_scatter_plot(df, x_col, y_col, savedir)\n",
    "\n",
    "        y_col = 'BREAK STRESS'\n",
    "        x_col = 'MAX DIAMETER'\n",
    "        savedir = f\"{savepath}correlation_plot/\"\n",
    "        plt = plotting.create_scatter_plot(df, x_col, y_col, savedir)\n",
    "\n",
    "        y_col = 'BREAK STRESS'\n",
    "        x_col = 'RECORD'\n",
    "        savedir = f\"{savepath}correlation_plot/\"\n",
    "        plt = plotting.create_scatter_plot(df, x_col, y_col, savedir)\n",
    "\n",
    "    except:\n",
    "        print(f\"\\nERROR with {name}\\n\")\n",
    "        continue\n",
    "\n",
    "print(\"\\n\\nplotting DONE\")"
   ]
  }
 ],
 "metadata": {
  "kernelspec": {
   "display_name": "Python 3 (ipykernel)",
   "language": "python",
   "name": "python3"
  },
  "language_info": {
   "codemirror_mode": {
    "name": "ipython",
    "version": 3
   },
   "file_extension": ".py",
   "mimetype": "text/x-python",
   "name": "python",
   "nbconvert_exporter": "python",
   "pygments_lexer": "ipython3",
   "version": "3.9.18"
  }
 },
 "nbformat": 4,
 "nbformat_minor": 2
}
