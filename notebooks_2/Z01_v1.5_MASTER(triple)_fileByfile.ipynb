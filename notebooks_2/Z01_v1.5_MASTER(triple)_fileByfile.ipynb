{
 "cells": [
  {
   "attachments": {},
   "cell_type": "markdown",
   "metadata": {},
   "source": [
    "### Goal"
   ]
  },
  {
   "cell_type": "code",
   "execution_count": 1,
   "metadata": {
    "metadata": {}
   },
   "outputs": [],
   "source": [
    "%load_ext autoreload\n",
    "%autoreload 2"
   ]
  },
  {
   "cell_type": "code",
   "execution_count": 2,
   "metadata": {
    "metadata": {}
   },
   "outputs": [],
   "source": [
    "import os\n",
    "import pandas as pd\n",
    "\n",
    "# to prevent figure \n",
    "# to show in the notebook\n",
    "import matplotlib\n",
    "matplotlib.use('Agg')\n",
    "\n",
    "import matplotlib.pyplot as plt\n",
    "\n",
    "import plotting as plotting"
   ]
  },
  {
   "cell_type": "markdown",
   "metadata": {},
   "source": [
    "### TODO: update this"
   ]
  },
  {
   "cell_type": "code",
   "execution_count": 3,
   "metadata": {
    "metadata": {}
   },
   "outputs": [],
   "source": [
    "date = \"24-12-20\"\n",
    "y_none = True\n",
    "pathfile = f\"Pulling data/{date}/triple/\""
   ]
  },
  {
   "cell_type": "markdown",
   "metadata": {},
   "source": [
    "### From here; automatic run"
   ]
  },
  {
   "cell_type": "code",
   "execution_count": 4,
   "metadata": {
    "metadata": {}
   },
   "outputs": [],
   "source": [
    "root = f\"/Users/michaelmoret/Library/CloudStorage/GoogleDrive-michael@externa.bio/.shortcut-targets-by-id/1BdUNsBjDh5Gee_76jCiKB1C_CwG0ercP/{pathfile}\"\n",
    "\n",
    "MODE = \"triple\"\n",
    "dev = False"
   ]
  },
  {
   "cell_type": "code",
   "execution_count": 5,
   "metadata": {
    "metadata": {}
   },
   "outputs": [],
   "source": [
    "if not root.endswith(\"/\"):\n",
    "    root += \"/\"\n",
    "\n",
    "sep_category = \"$\" # separates categories like date, experiments, etc\n",
    "sep_count = \"%\" # separated the number of hairs by experiment"
   ]
  },
  {
   "cell_type": "code",
   "execution_count": 6,
   "metadata": {
    "metadata": {}
   },
   "outputs": [
    {
     "name": "stdout",
     "output_type": "stream",
     "text": [
      "\n",
      "*****************************\n",
      "20241220$IHNY 40mmmin$33%phosctrl$33% WAX-7 0.05$triple.txt\n",
      "Missing records: []\n",
      "splitted_name:  ['33%phosctrl', '33% WAX-7 0.05']\n",
      "len df: 66, len names: 66\n",
      "\n",
      "*****************************\n",
      "20241220$IHNY 20mmmin$33%phosctrl$33% WAX-7 0.05$triple.txt\n",
      "Missing records: []\n",
      "splitted_name:  ['33%phosctrl', '33% WAX-7 0.05']\n",
      "len df: 66, len names: 66\n",
      "\n",
      "*****************************\n",
      "20241220$IHNY 70mmmin$33%phosctrl$33% WAX-7 0.05$triple.txt\n",
      "Missing records: []\n",
      "splitted_name:  ['33%phosctrl', '33% WAX-7 0.05']\n",
      "len df: 66, len names: 66\n"
     ]
    }
   ],
   "source": [
    "all_dfs = []\n",
    "all_fns = []\n",
    "\n",
    "for file in os.listdir(root):\n",
    "    if file.endswith(\".txt\"):\n",
    "        print(\"\\n*****************************\")\n",
    "        print(file)\n",
    "        df = plotting.get_df_from_file(root + file,\n",
    "                                       skip=2)\n",
    "        # clean the df\n",
    "        if MODE in file:\n",
    "            df = plotting.clean_triple(df)\n",
    "            assert \"triple\" in file\n",
    "        else:\n",
    "            raise ValueError(f\"Not a {MODE} experiment\")\n",
    "\n",
    "        splitted_name = file.split(sep_category)\n",
    "        # get the experiments; i.e. not the date\n",
    "        # not the single or triple etc\n",
    "        splitted_name = splitted_name[2:-1]\n",
    "        print(\"splitted_name: \", splitted_name)\n",
    "        # add the experiment name in the dataframe\n",
    "        all_names = []\n",
    "        for entries in splitted_name:\n",
    "            times_name = entries.split(sep_count)\n",
    "            _times = int(times_name[0])\n",
    "            _name = times_name[1]\n",
    "            all_names += [_name] * _times\n",
    "        print(f\"len df: {len(df)}, len names: {len(all_names)}\")\n",
    "        df[\"Name\"] = all_names\n",
    "        # remove nan\n",
    "        df = df.dropna()\n",
    "        all_dfs.append(df)\n",
    "        all_fns.append(file.replace(\".txt\", \"\"))"
   ]
  },
  {
   "cell_type": "code",
   "execution_count": 7,
   "metadata": {
    "metadata": {}
   },
   "outputs": [],
   "source": [
    "def master_plots(df, header, ymin, ymax, savepath, show=False, verbose=False):\n",
    "    fig, ax, removed = plotting.create_boxplot(df, header, ymin, ymax)\n",
    "    #save removed data\n",
    "    removed.to_csv(f\"{savepath}{header}_removed.csv\", index=True)\n",
    "    if verbose:\n",
    "        print(f\"{len(removed)} removed data points for {header}\")\n",
    "    # plot\n",
    "    fig.savefig(f\"{savepath}{header}.png\")\n",
    "    if show: \n",
    "        plt.show()\n",
    "        plt.close()"
   ]
  },
  {
   "cell_type": "code",
   "execution_count": 8,
   "metadata": {
    "metadata": {}
   },
   "outputs": [
    {
     "data": {
      "text/plain": [
       "(3, 3)"
      ]
     },
     "execution_count": 8,
     "metadata": {},
     "output_type": "execute_result"
    }
   ],
   "source": [
    "len(all_dfs), len(all_fns)"
   ]
  },
  {
   "cell_type": "code",
   "execution_count": 9,
   "metadata": {
    "metadata": {}
   },
   "outputs": [
    {
     "data": {
      "text/plain": [
       "['20241220$IHNY 40mmmin$33%phosctrl$33% WAX-7 0.05$triple',\n",
       " '20241220$IHNY 20mmmin$33%phosctrl$33% WAX-7 0.05$triple',\n",
       " '20241220$IHNY 70mmmin$33%phosctrl$33% WAX-7 0.05$triple']"
      ]
     },
     "execution_count": 9,
     "metadata": {},
     "output_type": "execute_result"
    }
   ],
   "source": [
    "all_fns"
   ]
  },
  {
   "cell_type": "code",
   "execution_count": 10,
   "metadata": {
    "metadata": {}
   },
   "outputs": [
    {
     "name": "stdout",
     "output_type": "stream",
     "text": [
      "\n",
      "************************************\n",
      "20241220$IHNY 40mmmin$33%phosctrl$33% WAX-7 0.05$triple\n",
      "\n",
      "df length: 54\n",
      "\n",
      "Creating boxplot for MEAN DIAMETER\n",
      "Removed outliers for phosctrl : Series([], Name: MEAN DIAMETER, dtype: float64)\n",
      "Removed outliers for  WAX-7 0.05 : 35    91.7\n",
      "41    50.5\n",
      "54    91.0\n",
      "60    49.9\n",
      "Name: MEAN DIAMETER, dtype: float64\n",
      "Median for phosctrl: 73.3\n",
      "Median for  WAX-7 0.05: 68.1\n",
      "\n",
      "Creating boxplot for BREAK STRESS\n",
      "Removed outliers for phosctrl : Series([], Name: BREAK STRESS, dtype: float64)\n",
      "Removed outliers for  WAX-7 0.05 : 38    226.631682\n",
      "43    132.487842\n",
      "54    164.163321\n",
      "62    138.371832\n",
      "Name: BREAK STRESS, dtype: float64\n",
      "Median for phosctrl: 196.52526600000158\n",
      "Median for  WAX-7 0.05: 191.52387450000154\n",
      "\n",
      "Creating boxplot for TOUGHNESS\n",
      "Removed outliers for phosctrl : Series([], Name: TOUGHNESS, dtype: float64)\n",
      "Removed outliers for  WAX-7 0.05 : 38    85990000.0\n",
      "43    40640000.0\n",
      "54    47710000.0\n",
      "62    50960000.0\n",
      "63    49840000.0\n",
      "Name: TOUGHNESS, dtype: float64\n",
      "Median for phosctrl: 70690000.0\n",
      "Median for  WAX-7 0.05: 68975000.0\n",
      "\n",
      "Creating boxplot for ELASTIC GRADIENT\n",
      "Removed outliers for phosctrl : Series([], Name: ELASTIC GRADIENT, dtype: float64)\n",
      "Removed outliers for  WAX-7 0.05 : 54    89.64\n",
      "Name: ELASTIC GRADIENT, dtype: float64\n",
      "Median for phosctrl: 52.7\n",
      "Median for  WAX-7 0.05: 46.959999999999994\n",
      "\n",
      "Creating boxplot for ELASTIC EMOD\n",
      "Removed outliers for phosctrl : 4     3.645\n",
      "10    3.688\n",
      "14    4.723\n",
      "20    3.413\n",
      "Name: ELASTIC EMOD, dtype: float64\n",
      "Removed outliers for  WAX-7 0.05 : 42    4.926\n",
      "62    3.325\n",
      "Name: ELASTIC EMOD, dtype: float64\n",
      "Median for phosctrl: 4.082\n",
      "Median for  WAX-7 0.05: 4.061\n",
      "\n",
      "************************************\n",
      "20241220$IHNY 20mmmin$33%phosctrl$33% WAX-7 0.05$triple\n",
      "\n",
      "df length: 57\n",
      "\n",
      "Creating boxplot for MEAN DIAMETER\n",
      "Removed outliers for phosctrl : Series([], Name: MEAN DIAMETER, dtype: float64)\n",
      "Removed outliers for  WAX-7 0.05 : Series([], Name: MEAN DIAMETER, dtype: float64)\n",
      "Median for phosctrl: 70.85\n",
      "Median for  WAX-7 0.05: 69.1\n",
      "\n",
      "Creating boxplot for BREAK STRESS\n",
      "Removed outliers for phosctrl : 23    142.882891\n",
      "24    156.219935\n",
      "Name: BREAK STRESS, dtype: float64\n",
      "Removed outliers for  WAX-7 0.05 : 43    147.786216\n",
      "64    219.865093\n",
      "Name: BREAK STRESS, dtype: float64\n",
      "Stats. significance: phosctrl and  WAX-7 0.05: p = 0.0028\n",
      "Median for phosctrl: 193.53423775000158\n",
      "Median for  WAX-7 0.05: 184.3650200000015\n",
      "\n",
      "Creating boxplot for TOUGHNESS\n",
      "Removed outliers for phosctrl : Series([], Name: TOUGHNESS, dtype: float64)\n",
      "Removed outliers for  WAX-7 0.05 : Series([], Name: TOUGHNESS, dtype: float64)\n",
      "Median for phosctrl: 67675000.0\n",
      "Median for  WAX-7 0.05: 64070000.0\n",
      "\n",
      "Creating boxplot for ELASTIC GRADIENT\n",
      "Removed outliers for phosctrl : 11    84.16\n",
      "Name: ELASTIC GRADIENT, dtype: float64\n",
      "Removed outliers for  WAX-7 0.05 : Series([], Name: ELASTIC GRADIENT, dtype: float64)\n",
      "Median for phosctrl: 46.88\n",
      "Median for  WAX-7 0.05: 47.85\n",
      "\n",
      "Creating boxplot for ELASTIC EMOD\n",
      "Removed outliers for phosctrl : Series([], Name: ELASTIC EMOD, dtype: float64)\n",
      "Removed outliers for  WAX-7 0.05 : Series([], Name: ELASTIC EMOD, dtype: float64)\n",
      "Median for phosctrl: 3.9325\n",
      "Median for  WAX-7 0.05: 3.9010000000000002\n"
     ]
    },
    {
     "name": "stderr",
     "output_type": "stream",
     "text": [
      "/Users/michaelmoret/tinyverse/krap/notebooks_2/plotting.py:222: RuntimeWarning: More than 20 figures have been opened. Figures created through the pyplot interface (`matplotlib.pyplot.figure`) are retained until explicitly closed and may consume too much memory. (To control this warning, see the rcParam `figure.max_open_warning`). Consider using `matplotlib.pyplot.close()`.\n",
      "  plt.figure(figsize=figsize)\n"
     ]
    },
    {
     "name": "stdout",
     "output_type": "stream",
     "text": [
      "\n",
      "************************************\n",
      "20241220$IHNY 70mmmin$33%phosctrl$33% WAX-7 0.05$triple\n",
      "\n",
      "df length: 60\n",
      "\n",
      "Creating boxplot for MEAN DIAMETER\n",
      "Removed outliers for phosctrl : 3    89.9\n",
      "Name: MEAN DIAMETER, dtype: float64\n",
      "Removed outliers for  WAX-7 0.05 : Series([], Name: MEAN DIAMETER, dtype: float64)\n",
      "Median for phosctrl: 70.0\n",
      "Median for  WAX-7 0.05: 72.8\n",
      "\n",
      "Creating boxplot for BREAK STRESS\n",
      "Removed outliers for phosctrl : Series([], Name: BREAK STRESS, dtype: float64)\n",
      "Removed outliers for  WAX-7 0.05 : Series([], Name: BREAK STRESS, dtype: float64)\n",
      "Median for phosctrl: 201.03632500000163\n",
      "Median for  WAX-7 0.05: 187.89541400000152\n",
      "\n",
      "Creating boxplot for TOUGHNESS\n",
      "Removed outliers for phosctrl : Series([], Name: TOUGHNESS, dtype: float64)\n",
      "Removed outliers for  WAX-7 0.05 : 37    34980000.0\n",
      "Name: TOUGHNESS, dtype: float64\n",
      "Median for phosctrl: 73440000.0\n",
      "Median for  WAX-7 0.05: 65675000.0\n",
      "\n",
      "Creating boxplot for ELASTIC GRADIENT\n",
      "Removed outliers for phosctrl : 3     77.67\n",
      "7     76.12\n",
      "26    83.49\n",
      "Name: ELASTIC GRADIENT, dtype: float64\n",
      "Removed outliers for  WAX-7 0.05 : Series([], Name: ELASTIC GRADIENT, dtype: float64)\n",
      "Median for phosctrl: 48.205\n",
      "Median for  WAX-7 0.05: 52.91\n",
      "\n",
      "Creating boxplot for ELASTIC EMOD\n",
      "Removed outliers for phosctrl : Series([], Name: ELASTIC EMOD, dtype: float64)\n",
      "Removed outliers for  WAX-7 0.05 : Series([], Name: ELASTIC EMOD, dtype: float64)\n",
      "Median for phosctrl: 3.982\n",
      "Median for  WAX-7 0.05: 4.107\n",
      "\n",
      "\n",
      "plotting DONE\n"
     ]
    }
   ],
   "source": [
    "for df, name in zip(all_dfs, all_fns):\n",
    "    print(\"\\n************************************\")\n",
    "    print(f\"{name}\\n\")\n",
    "    print(f\"df length: {len(df)}\")\n",
    "    try:\n",
    "        savepath = f\"{root}{name}/\"\n",
    "        if dev:\n",
    "            savepath = f\"{root}dev/\"\n",
    "        os.makedirs(savepath, exist_ok=True)\n",
    "        \n",
    "        try:\n",
    "            header = 'MEAN DIAMETER'\n",
    "            if y_none:\n",
    "                ymin = None\n",
    "                ymax = None\n",
    "            else:\n",
    "                ymin = 20\n",
    "                ymax = 120\n",
    "            master_plots(df, header, ymin, ymax, savepath)\n",
    "        except Exception as e:\n",
    "            print(f\"ERROR with {header}\")\n",
    "            print(\"Error:\", e)\n",
    "\n",
    "        try:\n",
    "            header = 'BREAK STRESS'\n",
    "            if y_none:\n",
    "                ymin = None\n",
    "                ymax = None\n",
    "            else:\n",
    "                ymin = 120\n",
    "                ymax = 280\n",
    "            master_plots(df, header, ymin, ymax, savepath)\n",
    "        except Exception as e:\n",
    "            print(f\"ERROR with {header}\")\n",
    "            print(\"Error:\", e)\n",
    "\n",
    "        try:\n",
    "            header = 'TOUGHNESS'\n",
    "            if y_none:\n",
    "                ymin = None\n",
    "                ymax = None\n",
    "            else:\n",
    "                ymin = None\n",
    "                ymax = None\n",
    "            master_plots(df, header, ymin, ymax, savepath)\n",
    "        except Exception as e:\n",
    "            print(f\"ERROR with {header}\")\n",
    "            print(\"Error:\", e)\n",
    "        \n",
    "        try:\n",
    "            header = 'ELASTIC GRADIENT'\n",
    "            if y_none:\n",
    "                ymin = None\n",
    "                ymax = None\n",
    "            else:\n",
    "                ymin = 0\n",
    "                ymax =  140\n",
    "            master_plots(df, header, ymin, ymax, savepath)\n",
    "        except Exception as e:\n",
    "            print(f\"ERROR with {header}\")\n",
    "            print(\"Error:\", e)\n",
    "\n",
    "        try:\n",
    "            header = 'ELASTIC EMOD'\n",
    "            if y_none:\n",
    "                ymin = None\n",
    "                ymax = None\n",
    "            else:\n",
    "                ymin = 2.5\n",
    "                ymax =  6.0\n",
    "            master_plots(df, header, ymin, ymax, savepath)\n",
    "        except Exception as e:\n",
    "            print(f\"ERROR with {header}\")\n",
    "            print(\"Error:\", e)\n",
    "\n",
    "        # scatter plots\n",
    "        y_col = 'ELASTIC EMOD'\n",
    "        x_col = 'MEAN DIAMETER'\n",
    "        savedir = f\"{savepath}correlation_plot/\"\n",
    "        plt = plotting.create_scatter_plot(df, x_col, y_col, savedir)\n",
    "\n",
    "        y_col = 'ELASTIC EMOD'\n",
    "        x_col = 'MIN DIAMETER'\n",
    "        savedir = f\"{savepath}correlation_plot/\"\n",
    "        plt = plotting.create_scatter_plot(df, x_col, y_col, savedir)\n",
    "\n",
    "        y_col = 'ELASTIC EMOD'\n",
    "        x_col = 'MAX DIAMETER'\n",
    "        savedir = f\"{savepath}correlation_plot/\"\n",
    "        plt = plotting.create_scatter_plot(df, x_col, y_col, savedir)\n",
    "\n",
    "        y_col = 'BREAK STRESS'\n",
    "        x_col = 'MEAN DIAMETER'\n",
    "        savedir = f\"{savepath}correlation_plot/\"\n",
    "        plt = plotting.create_scatter_plot(df, x_col, y_col, savedir)\n",
    "\n",
    "        y_col = 'BREAK STRESS'\n",
    "        x_col = 'MIN DIAMETER'\n",
    "        savedir = f\"{savepath}correlation_plot/\"\n",
    "        plt = plotting.create_scatter_plot(df, x_col, y_col, savedir)\n",
    "\n",
    "        y_col = 'BREAK STRESS'\n",
    "        x_col = 'MAX DIAMETER'\n",
    "        savedir = f\"{savepath}correlation_plot/\"\n",
    "        plt = plotting.create_scatter_plot(df, x_col, y_col, savedir)\n",
    "\n",
    "        y_col = 'BREAK STRESS'\n",
    "        x_col = 'RECORD'\n",
    "        savedir = f\"{savepath}correlation_plot/\"\n",
    "        plt = plotting.create_scatter_plot(df, x_col, y_col, savedir)\n",
    "\n",
    "    except:\n",
    "        print(f\"\\nERROR with {name}\\n\")\n",
    "        continue\n",
    "\n",
    "print(\"\\n\\nplotting DONE\")"
   ]
  }
 ],
 "metadata": {
  "kernelspec": {
   "display_name": "Python 3 (ipykernel)",
   "language": "python",
   "name": "python3"
  },
  "language_info": {
   "codemirror_mode": {
    "name": "ipython",
    "version": 3
   },
   "file_extension": ".py",
   "mimetype": "text/x-python",
   "name": "python",
   "nbconvert_exporter": "python",
   "pygments_lexer": "ipython3",
   "version": "3.9.18"
  }
 },
 "nbformat": 4,
 "nbformat_minor": 2
}
