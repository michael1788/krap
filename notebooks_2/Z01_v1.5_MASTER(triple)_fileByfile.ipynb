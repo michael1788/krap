{
 "cells": [
  {
   "attachments": {},
   "cell_type": "markdown",
   "metadata": {},
   "source": [
    "### Goal"
   ]
  },
  {
   "cell_type": "code",
   "execution_count": 1,
   "metadata": {
    "metadata": {}
   },
   "outputs": [],
   "source": [
    "%load_ext autoreload\n",
    "%autoreload 2"
   ]
  },
  {
   "cell_type": "code",
   "execution_count": 2,
   "metadata": {
    "metadata": {}
   },
   "outputs": [],
   "source": [
    "import os\n",
    "import pandas as pd\n",
    "\n",
    "# to prevent figure \n",
    "# to show in the notebook\n",
    "import matplotlib\n",
    "matplotlib.use('Agg')\n",
    "\n",
    "import matplotlib.pyplot as plt\n",
    "\n",
    "import plotting as plotting"
   ]
  },
  {
   "cell_type": "markdown",
   "metadata": {},
   "source": [
    "### TODO: update this"
   ]
  },
  {
   "cell_type": "code",
   "execution_count": 3,
   "metadata": {
    "metadata": {}
   },
   "outputs": [],
   "source": [
    "date = \"25-01-24\"\n",
    "y_none = True\n",
    "pathfile = f\"Pulling data/{date}/triple/\"\n",
    "\n",
    "# if the file has 100 data max, set to true\n",
    "# if more, to false\n",
    "max_100 = False\n",
    "\n",
    "# specifc a list of the name of the experimetns in a list if\n",
    "# wanna order on the plots \n",
    "order = None"
   ]
  },
  {
   "cell_type": "markdown",
   "metadata": {},
   "source": [
    "### From here; automatic run"
   ]
  },
  {
   "cell_type": "code",
   "execution_count": 4,
   "metadata": {
    "metadata": {}
   },
   "outputs": [],
   "source": [
    "root = f\"/Users/michaelmoret/Library/CloudStorage/GoogleDrive-michael@externa.bio/.shortcut-targets-by-id/1BdUNsBjDh5Gee_76jCiKB1C_CwG0ercP/{pathfile}\"\n",
    "\n",
    "MODE = \"triple\"\n",
    "dev = False"
   ]
  },
  {
   "cell_type": "code",
   "execution_count": 5,
   "metadata": {
    "metadata": {}
   },
   "outputs": [],
   "source": [
    "if not root.endswith(\"/\"):\n",
    "    root += \"/\"\n",
    "\n",
    "sep_category = \"$\" # separates categories like date, experiments, etc\n",
    "sep_count = \"%\" # separated the number of hairs by experiment"
   ]
  },
  {
   "cell_type": "code",
   "execution_count": 6,
   "metadata": {
    "metadata": {}
   },
   "outputs": [
    {
     "name": "stdout",
     "output_type": "stream",
     "text": [
      "\n",
      "*****************************\n",
      "20250124$IHNY$25%phos-2 ctrl$25% 2-4-K 0.02$25% 2-4-K 0.04$25% 2-4-K 0.06$triple.txt\n",
      "Missing records: []\n",
      "splitted_name:  ['25%phos-2 ctrl', '25% 2-4-K 0.02', '25% 2-4-K 0.04', '25% 2-4-K 0.06']\n",
      "len df: 100, len names: 100\n",
      "\n",
      "*****************************\n",
      "20250124$IHNY$25%phos ctrl$25% 2-4-K 0.02$25% 2-4-K 0.04$25% 2-4-K 0.06$triple.txt\n",
      "Missing records: []\n",
      "splitted_name:  ['25%phos ctrl', '25% 2-4-K 0.02', '25% 2-4-K 0.04', '25% 2-4-K 0.06']\n",
      "len df: 100, len names: 100\n"
     ]
    }
   ],
   "source": [
    "all_dfs = []\n",
    "all_fns = []\n",
    "\n",
    "for file in os.listdir(root):\n",
    "    if file.endswith(\".txt\"):\n",
    "        print(\"\\n*****************************\")\n",
    "        print(file)\n",
    "        df = plotting.get_df_from_file(root + file,\n",
    "                                       skip=2)\n",
    "        # clean the df\n",
    "        if MODE in file:\n",
    "            df = plotting.clean_triple(df, max_100=max_100)\n",
    "            assert \"triple\" in file\n",
    "        else:\n",
    "            raise ValueError(f\"Not a {MODE} experiment\")\n",
    "\n",
    "        splitted_name = file.split(sep_category)\n",
    "        # get the experiments; i.e. not the date\n",
    "        # not the single or triple etc\n",
    "        splitted_name = splitted_name[2:-1]\n",
    "        print(\"splitted_name: \", splitted_name)\n",
    "        # add the experiment name in the dataframe\n",
    "        all_names = []\n",
    "        for entries in splitted_name:\n",
    "            \n",
    "            times_name = entries.split(sep_count)\n",
    "            _times = int(times_name[0])\n",
    "            _name = times_name[1]\n",
    "            all_names += [_name] * _times\n",
    "        print(f\"len df: {len(df)}, len names: {len(all_names)}\")\n",
    "\n",
    "        if order is not None:\n",
    "            # check if we have the order\n",
    "            # get unique names\n",
    "            _unique_names = list(set(all_names))\n",
    "            # make sure all names match with order\n",
    "            for name in _unique_names:\n",
    "                if name not in order:\n",
    "                    print(\"\")\n",
    "                    print(f\"{name} not in order\")\n",
    "                    print(\"Unique names: \", _unique_names)\n",
    "                    print(\"Order: \", order)                \n",
    "\n",
    "        df[\"Name\"] = all_names\n",
    "        # remove nan\n",
    "        df = df.dropna()        \n",
    "        # reorder the dataframes if necessary\n",
    "        if order is not None:\n",
    "            print(\"reordering\")\n",
    "            df = plotting.reorder_by_names(df, order)\n",
    "        all_dfs.append(df)\n",
    "        all_fns.append(file.replace(\".txt\", \"\"))"
   ]
  },
  {
   "cell_type": "code",
   "execution_count": 7,
   "metadata": {
    "metadata": {}
   },
   "outputs": [],
   "source": [
    "def master_plots(df, header, ymin, ymax, savepath, show=False, verbose=False):\n",
    "    fig, ax, removed = plotting.create_boxplot(df, header, ymin, ymax)\n",
    "    #save removed data\n",
    "    removed.to_csv(f\"{savepath}{header}_removed.csv\", index=True)\n",
    "    if verbose:\n",
    "        print(f\"{len(removed)} removed data points for {header}\")\n",
    "    # plot\n",
    "    fig.savefig(f\"{savepath}{header}.png\")\n",
    "    if show: \n",
    "        plt.show()\n",
    "        plt.close()"
   ]
  },
  {
   "cell_type": "code",
   "execution_count": 8,
   "metadata": {
    "metadata": {}
   },
   "outputs": [
    {
     "data": {
      "text/plain": [
       "(2, 2)"
      ]
     },
     "execution_count": 8,
     "metadata": {},
     "output_type": "execute_result"
    }
   ],
   "source": [
    "len(all_dfs), len(all_fns)"
   ]
  },
  {
   "cell_type": "code",
   "execution_count": 9,
   "metadata": {
    "metadata": {}
   },
   "outputs": [
    {
     "data": {
      "text/plain": [
       "['20250124$IHNY$25%phos-2 ctrl$25% 2-4-K 0.02$25% 2-4-K 0.04$25% 2-4-K 0.06$triple',\n",
       " '20250124$IHNY$25%phos ctrl$25% 2-4-K 0.02$25% 2-4-K 0.04$25% 2-4-K 0.06$triple']"
      ]
     },
     "execution_count": 9,
     "metadata": {},
     "output_type": "execute_result"
    }
   ],
   "source": [
    "all_fns"
   ]
  },
  {
   "cell_type": "code",
   "execution_count": 10,
   "metadata": {
    "metadata": {}
   },
   "outputs": [
    {
     "name": "stdout",
     "output_type": "stream",
     "text": [
      "\n",
      "************************************\n",
      "20250124$IHNY$25%phos-2 ctrl$25% 2-4-K 0.02$25% 2-4-K 0.04$25% 2-4-K 0.06$triple\n",
      "\n",
      "df length: 82\n",
      "\n",
      "Creating boxplot for MEAN DIAMETER\n",
      "Removed outliers for phos-2 ctrl : 4     54.9\n",
      "18    53.3\n",
      "Name: MEAN DIAMETER, dtype: float64\n",
      "Removed outliers for  2-4-K 0.02 : Series([], Name: MEAN DIAMETER, dtype: float64)\n",
      "Removed outliers for  2-4-K 0.04 : Series([], Name: MEAN DIAMETER, dtype: float64)\n",
      "Removed outliers for  2-4-K 0.06 : Series([], Name: MEAN DIAMETER, dtype: float64)\n",
      "\n",
      "Creating boxplot for BREAK STRESS\n",
      "Removed outliers for phos-2 ctrl : Series([], Name: BREAK STRESS, dtype: float64)\n",
      "Removed outliers for  2-4-K 0.02 : Series([], Name: BREAK STRESS, dtype: float64)\n",
      "Removed outliers for  2-4-K 0.04 : Series([], Name: BREAK STRESS, dtype: float64)\n",
      "Removed outliers for  2-4-K 0.06 : Series([], Name: BREAK STRESS, dtype: float64)\n",
      "\n",
      "Creating boxplot for TOUGHNESS\n",
      "Removed outliers for phos-2 ctrl : Series([], Name: TOUGHNESS, dtype: float64)\n",
      "Removed outliers for  2-4-K 0.02 : Series([], Name: TOUGHNESS, dtype: float64)\n",
      "Removed outliers for  2-4-K 0.04 : Series([], Name: TOUGHNESS, dtype: float64)\n",
      "Removed outliers for  2-4-K 0.06 : Series([], Name: TOUGHNESS, dtype: float64)\n",
      "\n",
      "Creating boxplot for ELASTIC GRADIENT\n",
      "Removed outliers for phos-2 ctrl : Series([], Name: ELASTIC GRADIENT, dtype: float64)\n",
      "Removed outliers for  2-4-K 0.02 : Series([], Name: ELASTIC GRADIENT, dtype: float64)\n",
      "Removed outliers for  2-4-K 0.04 : Series([], Name: ELASTIC GRADIENT, dtype: float64)\n",
      "Removed outliers for  2-4-K 0.06 : Series([], Name: ELASTIC GRADIENT, dtype: float64)\n",
      "\n",
      "Creating boxplot for ELASTIC EMOD\n",
      "Removed outliers for phos-2 ctrl : Series([], Name: ELASTIC EMOD, dtype: float64)\n",
      "Removed outliers for  2-4-K 0.02 : 32    4.197\n",
      "Name: ELASTIC EMOD, dtype: float64\n",
      "Removed outliers for  2-4-K 0.04 : Series([], Name: ELASTIC EMOD, dtype: float64)\n",
      "Removed outliers for  2-4-K 0.06 : Series([], Name: ELASTIC EMOD, dtype: float64)\n",
      "Stats. significance: phos-2 ctrl and  2-4-K 0.02: p = 0.0120\n",
      "Stats. significance: phos-2 ctrl and  2-4-K 0.04: p = 0.0360\n",
      "Stats. significance: phos-2 ctrl and  2-4-K 0.06: p = 0.0069\n",
      "\n",
      "************************************\n",
      "20250124$IHNY$25%phos ctrl$25% 2-4-K 0.02$25% 2-4-K 0.04$25% 2-4-K 0.06$triple\n",
      "\n",
      "df length: 87\n",
      "\n",
      "Creating boxplot for MEAN DIAMETER\n",
      "Removed outliers for phos ctrl : 2    52.2\n",
      "3    90.8\n",
      "5    55.4\n",
      "Name: MEAN DIAMETER, dtype: float64\n",
      "Removed outliers for  2-4-K 0.02 : Series([], Name: MEAN DIAMETER, dtype: float64)\n",
      "Removed outliers for  2-4-K 0.04 : Series([], Name: MEAN DIAMETER, dtype: float64)\n",
      "Removed outliers for  2-4-K 0.06 : 76    96.2\n",
      "Name: MEAN DIAMETER, dtype: float64\n",
      "Stats. significance:  2-4-K 0.02 and  2-4-K 0.04: p = 0.0335\n",
      "\n",
      "Creating boxplot for BREAK STRESS\n",
      "Removed outliers for phos ctrl : 5    426.981541\n",
      "Name: BREAK STRESS, dtype: float64\n",
      "Removed outliers for  2-4-K 0.02 : Series([], Name: BREAK STRESS, dtype: float64)\n",
      "Removed outliers for  2-4-K 0.04 : 53    456.98989\n",
      "Name: BREAK STRESS, dtype: float64\n",
      "Removed outliers for  2-4-K 0.06 : Series([], Name: BREAK STRESS, dtype: float64)\n",
      "\n",
      "Creating boxplot for TOUGHNESS\n",
      "Removed outliers for phos ctrl : 5    166000000.0\n",
      "Name: TOUGHNESS, dtype: float64\n",
      "Removed outliers for  2-4-K 0.02 : Series([], Name: TOUGHNESS, dtype: float64)\n",
      "Removed outliers for  2-4-K 0.04 : 53    181100000.0\n",
      "Name: TOUGHNESS, dtype: float64\n",
      "Removed outliers for  2-4-K 0.06 : Series([], Name: TOUGHNESS, dtype: float64)\n",
      "\n",
      "Creating boxplot for ELASTIC GRADIENT\n",
      "Removed outliers for phos ctrl : Series([], Name: ELASTIC GRADIENT, dtype: float64)\n",
      "Removed outliers for  2-4-K 0.02 : Series([], Name: ELASTIC GRADIENT, dtype: float64)\n",
      "Removed outliers for  2-4-K 0.04 : Series([], Name: ELASTIC GRADIENT, dtype: float64)\n",
      "Removed outliers for  2-4-K 0.06 : Series([], Name: ELASTIC GRADIENT, dtype: float64)\n",
      "\n",
      "Creating boxplot for ELASTIC EMOD\n",
      "Removed outliers for phos ctrl : 5    8.209\n",
      "Name: ELASTIC EMOD, dtype: float64\n",
      "Removed outliers for  2-4-K 0.02 : 48    7.149\n",
      "Name: ELASTIC EMOD, dtype: float64\n",
      "Removed outliers for  2-4-K 0.04 : 53    9.073\n",
      "Name: ELASTIC EMOD, dtype: float64\n",
      "Removed outliers for  2-4-K 0.06 : Series([], Name: ELASTIC EMOD, dtype: float64)\n"
     ]
    },
    {
     "name": "stderr",
     "output_type": "stream",
     "text": [
      "/Users/michaelmoret/tinyverse/krap/notebooks_2/plotting.py:234: RuntimeWarning: More than 20 figures have been opened. Figures created through the pyplot interface (`matplotlib.pyplot.figure`) are retained until explicitly closed and may consume too much memory. (To control this warning, see the rcParam `figure.max_open_warning`). Consider using `matplotlib.pyplot.close()`.\n",
      "  plt.figure(figsize=figsize)\n"
     ]
    },
    {
     "name": "stdout",
     "output_type": "stream",
     "text": [
      "\n",
      "\n",
      "plotting DONE\n"
     ]
    }
   ],
   "source": [
    "for df, name in zip(all_dfs, all_fns):\n",
    "    print(\"\\n************************************\")\n",
    "    print(f\"{name}\\n\")\n",
    "    print(f\"df length: {len(df)}\")\n",
    "    try:\n",
    "        savepath = f\"{root}{name}/\"\n",
    "        if dev:\n",
    "            savepath = f\"{root}dev/\"\n",
    "        os.makedirs(savepath, exist_ok=True)\n",
    "        \n",
    "        try:\n",
    "            header = 'MEAN DIAMETER'\n",
    "            if y_none:\n",
    "                ymin = None\n",
    "                ymax = None\n",
    "            else:\n",
    "                ymin = 20\n",
    "                ymax = 120\n",
    "            master_plots(df, header, ymin, ymax, savepath)\n",
    "        except Exception as e:\n",
    "            print(f\"ERROR with {header}\")\n",
    "            print(\"Error:\", e)\n",
    "\n",
    "        try:\n",
    "            header = 'BREAK STRESS'\n",
    "            if y_none:\n",
    "                ymin = None\n",
    "                ymax = None\n",
    "            else:\n",
    "                ymin = 120\n",
    "                ymax = 280\n",
    "            master_plots(df, header, ymin, ymax, savepath)\n",
    "        except Exception as e:\n",
    "            print(f\"ERROR with {header}\")\n",
    "            print(\"Error:\", e)\n",
    "\n",
    "        try:\n",
    "            header = 'TOUGHNESS'\n",
    "            if y_none:\n",
    "                ymin = None\n",
    "                ymax = None\n",
    "            else:\n",
    "                ymin = None\n",
    "                ymax = None\n",
    "            master_plots(df, header, ymin, ymax, savepath)\n",
    "        except Exception as e:\n",
    "            print(f\"ERROR with {header}\")\n",
    "            print(\"Error:\", e)\n",
    "        \n",
    "        try:\n",
    "            header = 'ELASTIC GRADIENT'\n",
    "            if y_none:\n",
    "                ymin = None\n",
    "                ymax = None\n",
    "            else:\n",
    "                ymin = 0\n",
    "                ymax =  140\n",
    "            master_plots(df, header, ymin, ymax, savepath)\n",
    "        except Exception as e:\n",
    "            print(f\"ERROR with {header}\")\n",
    "            print(\"Error:\", e)\n",
    "\n",
    "        try:\n",
    "            header = 'ELASTIC EMOD'\n",
    "            if y_none:\n",
    "                ymin = None\n",
    "                ymax = None\n",
    "            else:\n",
    "                ymin = 2.5\n",
    "                ymax =  6.0\n",
    "            master_plots(df, header, ymin, ymax, savepath)\n",
    "        except Exception as e:\n",
    "            print(f\"ERROR with {header}\")\n",
    "            print(\"Error:\", e)\n",
    "\n",
    "        # scatter plots\n",
    "        y_col = 'ELASTIC EMOD'\n",
    "        x_col = 'MEAN DIAMETER'\n",
    "        savedir = f\"{savepath}correlation_plot/\"\n",
    "        plt = plotting.create_scatter_plot(df, x_col, y_col, savedir)\n",
    "\n",
    "        y_col = 'ELASTIC EMOD'\n",
    "        x_col = 'MIN DIAMETER'\n",
    "        savedir = f\"{savepath}correlation_plot/\"\n",
    "        plt = plotting.create_scatter_plot(df, x_col, y_col, savedir)\n",
    "\n",
    "        y_col = 'ELASTIC EMOD'\n",
    "        x_col = 'MAX DIAMETER'\n",
    "        savedir = f\"{savepath}correlation_plot/\"\n",
    "        plt = plotting.create_scatter_plot(df, x_col, y_col, savedir)\n",
    "\n",
    "        y_col = 'BREAK STRESS'\n",
    "        x_col = 'MEAN DIAMETER'\n",
    "        savedir = f\"{savepath}correlation_plot/\"\n",
    "        plt = plotting.create_scatter_plot(df, x_col, y_col, savedir)\n",
    "\n",
    "        y_col = 'BREAK STRESS'\n",
    "        x_col = 'MIN DIAMETER'\n",
    "        savedir = f\"{savepath}correlation_plot/\"\n",
    "        plt = plotting.create_scatter_plot(df, x_col, y_col, savedir)\n",
    "\n",
    "        y_col = 'BREAK STRESS'\n",
    "        x_col = 'MAX DIAMETER'\n",
    "        savedir = f\"{savepath}correlation_plot/\"\n",
    "        plt = plotting.create_scatter_plot(df, x_col, y_col, savedir)\n",
    "\n",
    "        y_col = 'BREAK STRESS'\n",
    "        x_col = 'RECORD'\n",
    "        savedir = f\"{savepath}correlation_plot/\"\n",
    "        plt = plotting.create_scatter_plot(df, x_col, y_col, savedir)\n",
    "\n",
    "    except:\n",
    "        print(f\"\\nERROR with {name}\\n\")\n",
    "        continue\n",
    "\n",
    "print(\"\\n\\nplotting DONE\")"
   ]
  }
 ],
 "metadata": {
  "kernelspec": {
   "display_name": "Python 3 (ipykernel)",
   "language": "python",
   "name": "python3"
  },
  "language_info": {
   "codemirror_mode": {
    "name": "ipython",
    "version": 3
   },
   "file_extension": ".py",
   "mimetype": "text/x-python",
   "name": "python",
   "nbconvert_exporter": "python",
   "pygments_lexer": "ipython3",
   "version": "3.9.18"
  }
 },
 "nbformat": 4,
 "nbformat_minor": 2
}
