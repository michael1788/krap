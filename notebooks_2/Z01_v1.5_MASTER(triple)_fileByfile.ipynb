{
 "cells": [
  {
   "attachments": {},
   "cell_type": "markdown",
   "metadata": {},
   "source": [
    "### Goal"
   ]
  },
  {
   "cell_type": "code",
   "execution_count": 1,
   "metadata": {
    "metadata": {}
   },
   "outputs": [],
   "source": [
    "%load_ext autoreload\n",
    "%autoreload 2"
   ]
  },
  {
   "cell_type": "code",
   "execution_count": 2,
   "metadata": {
    "metadata": {}
   },
   "outputs": [],
   "source": [
    "import os\n",
    "import pandas as pd\n",
    "\n",
    "# to prevent figure \n",
    "# to show in the notebook\n",
    "import matplotlib\n",
    "matplotlib.use('Agg')\n",
    "\n",
    "import matplotlib.pyplot as plt\n",
    "\n",
    "import plotting as plotting"
   ]
  },
  {
   "cell_type": "markdown",
   "metadata": {},
   "source": [
    "### TODO: update this"
   ]
  },
  {
   "cell_type": "code",
   "execution_count": 3,
   "metadata": {
    "metadata": {}
   },
   "outputs": [],
   "source": [
    "date = \"24-12-06\"\n",
    "y_none = True\n",
    "pathfile = f\"Pulling data/{date}/triple/\"\n",
    "\n",
    "max_100 = True"
   ]
  },
  {
   "cell_type": "markdown",
   "metadata": {},
   "source": [
    "### From here; automatic run"
   ]
  },
  {
   "cell_type": "code",
   "execution_count": 4,
   "metadata": {
    "metadata": {}
   },
   "outputs": [],
   "source": [
    "root = f\"/Users/michaelmoret/Library/CloudStorage/GoogleDrive-michael@externa.bio/.shortcut-targets-by-id/1BdUNsBjDh5Gee_76jCiKB1C_CwG0ercP/{pathfile}\"\n",
    "\n",
    "MODE = \"triple\"\n",
    "dev = False"
   ]
  },
  {
   "cell_type": "code",
   "execution_count": 5,
   "metadata": {
    "metadata": {}
   },
   "outputs": [],
   "source": [
    "if not root.endswith(\"/\"):\n",
    "    root += \"/\"\n",
    "\n",
    "sep_category = \"$\" # separates categories like date, experiments, etc\n",
    "sep_count = \"%\" # separated the number of hairs by experiment"
   ]
  },
  {
   "cell_type": "code",
   "execution_count": 6,
   "metadata": {
    "metadata": {}
   },
   "outputs": [
    {
     "name": "stdout",
     "output_type": "stream",
     "text": [
      "\n",
      "*****************************\n",
      "20241206$EN_IHNY$25%bleached_ control_locx$25%positive 5_LocxEF$25%positive 1_LOcxEF$25%negative 2$25%NAC positive 3_Locx$25%NAC negative 4$25%LOcx negative 6$triple.txt\n",
      "Missing records: []\n",
      "splitted_name:  ['25%bleached_ control_locx', '25%positive 5_LocxEF', '25%positive 1_LOcxEF', '25%negative 2', '25%NAC positive 3_Locx', '25%NAC negative 4', '25%LOcx negative 6']\n",
      "len df: 175, len names: 175\n"
     ]
    }
   ],
   "source": [
    "all_dfs = []\n",
    "all_fns = []\n",
    "\n",
    "for file in os.listdir(root):\n",
    "    if file.endswith(\".txt\"):\n",
    "        print(\"\\n*****************************\")\n",
    "        print(file)\n",
    "        df = plotting.get_df_from_file(root + file,\n",
    "                                       skip=2)\n",
    "        # clean the df\n",
    "        if MODE in file:\n",
    "            df = plotting.clean_triple(df, max_100=max_100)\n",
    "            assert \"triple\" in file\n",
    "        else:\n",
    "            raise ValueError(f\"Not a {MODE} experiment\")\n",
    "\n",
    "        splitted_name = file.split(sep_category)\n",
    "        # get the experiments; i.e. not the date\n",
    "        # not the single or triple etc\n",
    "        splitted_name = splitted_name[2:-1]\n",
    "        print(\"splitted_name: \", splitted_name)\n",
    "        # add the experiment name in the dataframe\n",
    "        all_names = []\n",
    "        for entries in splitted_name:\n",
    "            times_name = entries.split(sep_count)\n",
    "            _times = int(times_name[0])\n",
    "            _name = times_name[1]\n",
    "            all_names += [_name] * _times\n",
    "        print(f\"len df: {len(df)}, len names: {len(all_names)}\")\n",
    "        df[\"Name\"] = all_names\n",
    "        # remove nan\n",
    "        df = df.dropna()\n",
    "        all_dfs.append(df)\n",
    "        all_fns.append(file.replace(\".txt\", \"\"))"
   ]
  },
  {
   "cell_type": "code",
   "execution_count": 7,
   "metadata": {
    "metadata": {}
   },
   "outputs": [],
   "source": [
    "def master_plots(df, header, ymin, ymax, savepath, show=False, verbose=False):\n",
    "    fig, ax, removed = plotting.create_boxplot(df, header, ymin, ymax)\n",
    "    #save removed data\n",
    "    removed.to_csv(f\"{savepath}{header}_removed.csv\", index=True)\n",
    "    if verbose:\n",
    "        print(f\"{len(removed)} removed data points for {header}\")\n",
    "    # plot\n",
    "    fig.savefig(f\"{savepath}{header}.png\")\n",
    "    if show: \n",
    "        plt.show()\n",
    "        plt.close()"
   ]
  },
  {
   "cell_type": "code",
   "execution_count": 8,
   "metadata": {
    "metadata": {}
   },
   "outputs": [
    {
     "data": {
      "text/plain": [
       "(1, 1)"
      ]
     },
     "execution_count": 8,
     "metadata": {},
     "output_type": "execute_result"
    }
   ],
   "source": [
    "len(all_dfs), len(all_fns)"
   ]
  },
  {
   "cell_type": "code",
   "execution_count": 9,
   "metadata": {
    "metadata": {}
   },
   "outputs": [
    {
     "data": {
      "text/plain": [
       "['20241206$EN_IHNY$25%bleached_ control_locx$25%positive 5_LocxEF$25%positive 1_LOcxEF$25%negative 2$25%NAC positive 3_Locx$25%NAC negative 4$25%LOcx negative 6$triple']"
      ]
     },
     "execution_count": 9,
     "metadata": {},
     "output_type": "execute_result"
    }
   ],
   "source": [
    "all_fns"
   ]
  },
  {
   "cell_type": "code",
   "execution_count": 10,
   "metadata": {
    "metadata": {}
   },
   "outputs": [
    {
     "name": "stdout",
     "output_type": "stream",
     "text": [
      "\n",
      "************************************\n",
      "20241206$EN_IHNY$25%bleached_ control_locx$25%positive 5_LocxEF$25%positive 1_LOcxEF$25%negative 2$25%NAC positive 3_Locx$25%NAC negative 4$25%LOcx negative 6$triple\n",
      "\n",
      "df length: 156\n",
      "\n",
      "Creating boxplot for MEAN DIAMETER\n",
      "Removed outliers for bleached_ control_locx : Series([], Name: MEAN DIAMETER, dtype: float64)\n",
      "Removed outliers for positive 5_LocxEF : 43    99.9\n",
      "Name: MEAN DIAMETER, dtype: float64\n",
      "Removed outliers for positive 1_LOcxEF : Series([], Name: MEAN DIAMETER, dtype: float64)\n",
      "Removed outliers for negative 2 : 97    96.8\n",
      "Name: MEAN DIAMETER, dtype: float64\n",
      "Removed outliers for NAC positive 3_Locx : Series([], Name: MEAN DIAMETER, dtype: float64)\n",
      "Removed outliers for NAC negative 4 : Series([], Name: MEAN DIAMETER, dtype: float64)\n",
      "Removed outliers for LOcx negative 6 : Series([], Name: MEAN DIAMETER, dtype: float64)\n",
      "Stats. significance: negative 2 and NAC positive 3_Locx: p = 0.0429\n",
      "\n",
      "Creating boxplot for BREAK STRESS\n",
      "Removed outliers for bleached_ control_locx : Series([], Name: BREAK STRESS, dtype: float64)\n",
      "Removed outliers for positive 5_LocxEF : 30     11.277648\n",
      "41    146.119085\n",
      "Name: BREAK STRESS, dtype: float64\n",
      "Removed outliers for positive 1_LOcxEF : Series([], Name: BREAK STRESS, dtype: float64)\n",
      "Removed outliers for negative 2 : 76    167.693715\n",
      "99    167.693715\n",
      "Name: BREAK STRESS, dtype: float64\n",
      "Removed outliers for NAC positive 3_Locx : Series([], Name: BREAK STRESS, dtype: float64)\n",
      "Removed outliers for NAC negative 4 : Series([], Name: BREAK STRESS, dtype: float64)\n",
      "Removed outliers for LOcx negative 6 : 153    133.37044\n",
      "Name: BREAK STRESS, dtype: float64\n",
      "Stats. significance: bleached_ control_locx and NAC positive 3_Locx: p = 0.0279\n",
      "Stats. significance: positive 1_LOcxEF and negative 2: p = 0.0451\n",
      "Stats. significance: positive 1_LOcxEF and NAC positive 3_Locx: p = 0.0365\n",
      "Stats. significance: NAC positive 3_Locx and NAC negative 4: p = 0.0496\n",
      "\n",
      "Creating boxplot for TOUGHNESS\n",
      "Removed outliers for bleached_ control_locx : Series([], Name: TOUGHNESS, dtype: float64)\n",
      "Removed outliers for positive 5_LocxEF : 30       40900.0\n",
      "41    38000000.0\n",
      "Name: TOUGHNESS, dtype: float64\n",
      "Removed outliers for positive 1_LOcxEF : Series([], Name: TOUGHNESS, dtype: float64)\n",
      "Removed outliers for negative 2 : Series([], Name: TOUGHNESS, dtype: float64)\n",
      "Removed outliers for NAC positive 3_Locx : Series([], Name: TOUGHNESS, dtype: float64)\n",
      "Removed outliers for NAC negative 4 : Series([], Name: TOUGHNESS, dtype: float64)\n",
      "Removed outliers for LOcx negative 6 : 153    30800000.0\n",
      "Name: TOUGHNESS, dtype: float64\n",
      "Stats. significance: positive 5_LocxEF and NAC negative 4: p = 0.0077\n",
      "\n",
      "Creating boxplot for ELASTIC GRADIENT\n",
      "Removed outliers for bleached_ control_locx : Series([], Name: ELASTIC GRADIENT, dtype: float64)\n",
      "Removed outliers for positive 5_LocxEF : 30    148.0\n",
      "43    105.0\n",
      "Name: ELASTIC GRADIENT, dtype: float64\n",
      "Removed outliers for positive 1_LOcxEF : Series([], Name: ELASTIC GRADIENT, dtype: float64)\n",
      "Removed outliers for negative 2 : 97    86.1\n",
      "Name: ELASTIC GRADIENT, dtype: float64\n",
      "Removed outliers for NAC positive 3_Locx : Series([], Name: ELASTIC GRADIENT, dtype: float64)\n",
      "Removed outliers for NAC negative 4 : Series([], Name: ELASTIC GRADIENT, dtype: float64)\n",
      "Removed outliers for LOcx negative 6 : Series([], Name: ELASTIC GRADIENT, dtype: float64)\n",
      "Stats. significance: bleached_ control_locx and NAC positive 3_Locx: p = 0.0306\n",
      "Stats. significance: negative 2 and NAC positive 3_Locx: p = 0.0206\n",
      "\n",
      "Creating boxplot for ELASTIC EMOD\n",
      "Removed outliers for bleached_ control_locx : Series([], Name: ELASTIC EMOD, dtype: float64)\n",
      "Removed outliers for positive 5_LocxEF : 30    12.3\n",
      "Name: ELASTIC EMOD, dtype: float64\n",
      "Removed outliers for positive 1_LOcxEF : Series([], Name: ELASTIC EMOD, dtype: float64)\n",
      "Removed outliers for negative 2 : Series([], Name: ELASTIC EMOD, dtype: float64)\n",
      "Removed outliers for NAC positive 3_Locx : 111    4.71\n",
      "119    5.11\n",
      "120    3.71\n",
      "Name: ELASTIC EMOD, dtype: float64\n",
      "Removed outliers for NAC negative 4 : 145    4.99\n",
      "Name: ELASTIC EMOD, dtype: float64\n",
      "Removed outliers for LOcx negative 6 : Series([], Name: ELASTIC EMOD, dtype: float64)\n",
      "Stats. significance: bleached_ control_locx and NAC negative 4: p = 0.0376\n",
      "Stats. significance: bleached_ control_locx and LOcx negative 6: p = 0.0095\n",
      "Stats. significance: NAC positive 3_Locx and LOcx negative 6: p = 0.0246\n",
      "\n",
      "\n",
      "plotting DONE\n"
     ]
    }
   ],
   "source": [
    "for df, name in zip(all_dfs, all_fns):\n",
    "    print(\"\\n************************************\")\n",
    "    print(f\"{name}\\n\")\n",
    "    print(f\"df length: {len(df)}\")\n",
    "    try:\n",
    "        savepath = f\"{root}{name}/\"\n",
    "        if dev:\n",
    "            savepath = f\"{root}dev/\"\n",
    "        os.makedirs(savepath, exist_ok=True)\n",
    "        \n",
    "        try:\n",
    "            header = 'MEAN DIAMETER'\n",
    "            if y_none:\n",
    "                ymin = None\n",
    "                ymax = None\n",
    "            else:\n",
    "                ymin = 20\n",
    "                ymax = 120\n",
    "            master_plots(df, header, ymin, ymax, savepath)\n",
    "        except Exception as e:\n",
    "            print(f\"ERROR with {header}\")\n",
    "            print(\"Error:\", e)\n",
    "\n",
    "        try:\n",
    "            header = 'BREAK STRESS'\n",
    "            if y_none:\n",
    "                ymin = None\n",
    "                ymax = None\n",
    "            else:\n",
    "                ymin = 120\n",
    "                ymax = 280\n",
    "            master_plots(df, header, ymin, ymax, savepath)\n",
    "        except Exception as e:\n",
    "            print(f\"ERROR with {header}\")\n",
    "            print(\"Error:\", e)\n",
    "\n",
    "        try:\n",
    "            header = 'TOUGHNESS'\n",
    "            if y_none:\n",
    "                ymin = None\n",
    "                ymax = None\n",
    "            else:\n",
    "                ymin = None\n",
    "                ymax = None\n",
    "            master_plots(df, header, ymin, ymax, savepath)\n",
    "        except Exception as e:\n",
    "            print(f\"ERROR with {header}\")\n",
    "            print(\"Error:\", e)\n",
    "        \n",
    "        try:\n",
    "            header = 'ELASTIC GRADIENT'\n",
    "            if y_none:\n",
    "                ymin = None\n",
    "                ymax = None\n",
    "            else:\n",
    "                ymin = 0\n",
    "                ymax =  140\n",
    "            master_plots(df, header, ymin, ymax, savepath)\n",
    "        except Exception as e:\n",
    "            print(f\"ERROR with {header}\")\n",
    "            print(\"Error:\", e)\n",
    "\n",
    "        try:\n",
    "            header = 'ELASTIC EMOD'\n",
    "            if y_none:\n",
    "                ymin = None\n",
    "                ymax = None\n",
    "            else:\n",
    "                ymin = 2.5\n",
    "                ymax =  6.0\n",
    "            master_plots(df, header, ymin, ymax, savepath)\n",
    "        except Exception as e:\n",
    "            print(f\"ERROR with {header}\")\n",
    "            print(\"Error:\", e)\n",
    "\n",
    "        # scatter plots\n",
    "        y_col = 'ELASTIC EMOD'\n",
    "        x_col = 'MEAN DIAMETER'\n",
    "        savedir = f\"{savepath}correlation_plot/\"\n",
    "        plt = plotting.create_scatter_plot(df, x_col, y_col, savedir)\n",
    "\n",
    "        y_col = 'ELASTIC EMOD'\n",
    "        x_col = 'MIN DIAMETER'\n",
    "        savedir = f\"{savepath}correlation_plot/\"\n",
    "        plt = plotting.create_scatter_plot(df, x_col, y_col, savedir)\n",
    "\n",
    "        y_col = 'ELASTIC EMOD'\n",
    "        x_col = 'MAX DIAMETER'\n",
    "        savedir = f\"{savepath}correlation_plot/\"\n",
    "        plt = plotting.create_scatter_plot(df, x_col, y_col, savedir)\n",
    "\n",
    "        y_col = 'BREAK STRESS'\n",
    "        x_col = 'MEAN DIAMETER'\n",
    "        savedir = f\"{savepath}correlation_plot/\"\n",
    "        plt = plotting.create_scatter_plot(df, x_col, y_col, savedir)\n",
    "\n",
    "        y_col = 'BREAK STRESS'\n",
    "        x_col = 'MIN DIAMETER'\n",
    "        savedir = f\"{savepath}correlation_plot/\"\n",
    "        plt = plotting.create_scatter_plot(df, x_col, y_col, savedir)\n",
    "\n",
    "        y_col = 'BREAK STRESS'\n",
    "        x_col = 'MAX DIAMETER'\n",
    "        savedir = f\"{savepath}correlation_plot/\"\n",
    "        plt = plotting.create_scatter_plot(df, x_col, y_col, savedir)\n",
    "\n",
    "        y_col = 'BREAK STRESS'\n",
    "        x_col = 'RECORD'\n",
    "        savedir = f\"{savepath}correlation_plot/\"\n",
    "        plt = plotting.create_scatter_plot(df, x_col, y_col, savedir)\n",
    "\n",
    "    except:\n",
    "        print(f\"\\nERROR with {name}\\n\")\n",
    "        continue\n",
    "\n",
    "print(\"\\n\\nplotting DONE\")"
   ]
  }
 ],
 "metadata": {
  "kernelspec": {
   "display_name": "Python 3 (ipykernel)",
   "language": "python",
   "name": "python3"
  },
  "language_info": {
   "codemirror_mode": {
    "name": "ipython",
    "version": 3
   },
   "file_extension": ".py",
   "mimetype": "text/x-python",
   "name": "python",
   "nbconvert_exporter": "python",
   "pygments_lexer": "ipython3",
   "version": "3.9.18"
  }
 },
 "nbformat": 4,
 "nbformat_minor": 2
}
