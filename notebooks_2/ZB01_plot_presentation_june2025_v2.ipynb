{
 "cells": [
  {
   "attachments": {},
   "cell_type": "markdown",
   "metadata": {},
   "source": [
    "### Goal"
   ]
  },
  {
   "cell_type": "code",
   "execution_count": 22,
   "metadata": {
    "metadata": {}
   },
   "outputs": [
    {
     "name": "stdout",
     "output_type": "stream",
     "text": [
      "The autoreload extension is already loaded. To reload it, use:\n",
      "  %reload_ext autoreload\n"
     ]
    }
   ],
   "source": [
    "%load_ext autoreload\n",
    "%autoreload 2"
   ]
  },
  {
   "cell_type": "code",
   "execution_count": 23,
   "metadata": {
    "metadata": {}
   },
   "outputs": [],
   "source": [
    "import os\n",
    "import pandas as pd\n",
    "\n",
    "import matplotlib.pyplot as plt"
   ]
  },
  {
   "cell_type": "markdown",
   "metadata": {},
   "source": [
    "BIO"
   ]
  },
  {
   "cell_type": "code",
   "execution_count": 1,
   "metadata": {},
   "outputs": [],
   "source": [
    "# Data to plot\n",
    "treatment_ctrl = [203, 203.05, 202.65, 193.65]\n",
    "treatment = [210.8, 214.28, 213.59, 213.75]\n",
    "\n",
    "olpalex_ctrl = [198.39, 195.64]\n",
    "olaplex = [194.71, 198]"
   ]
  },
  {
   "cell_type": "code",
   "execution_count": 3,
   "metadata": {},
   "outputs": [
    {
     "data": {
      "text/plain": [
       "[0.9814506779575585, 1.012062972807197]"
      ]
     },
     "execution_count": 3,
     "metadata": {},
     "output_type": "execute_result"
    }
   ],
   "source": [
    "[x/y for x, y in zip(olaplex, olpalex_ctrl)]"
   ]
  },
  {
   "cell_type": "code",
   "execution_count": null,
   "metadata": {},
   "outputs": [
    {
     "data": {
      "image/png": "[encoded data removed]",
      "text/plain": [
       "<Figure size 350x400 with 1 Axes>"
      ]
     },
     "metadata": {},
     "output_type": "display_data"
    }
   ],
   "source": [
    "import pandas as pd\n",
    "import matplotlib.pyplot as plt\n",
    "import numpy as np\n",
    "\n",
    "\n",
    "\n",
    "# Create DataFrame with treatment (ML-1) in the last position\n",
    "data = pd.concat([\n",
    "    pd.Series(controls, name='Bleach'),\n",
    "    pd.Series(olaplex, name='Olaplex No. 3'),\n",
    "    pd.Series(treatment, name='ML-1'),\n",
    "], axis=1)\n",
    "\n",
    "# Rest of your code remains the same\n",
    "fig, ax = plt.subplots(figsize=(3.5, 4))\n",
    "data.boxplot(ax=ax, showfliers=False, capprops=dict(linewidth=0))\n",
    "ax.set_ylabel('Break stress', fontsize=12)\n",
    "ax.tick_params(axis='both', which='major', labelsize=10)\n",
    "ax.set_ylim(190, 255)\n",
    "\n",
    "# Calculate medians for the gray area\n",
    "bleach_median = np.median(controls)\n",
    "treatment_median = np.median(treatment)\n",
    "\n",
    "# Add light gray area between medians\n",
    "ax.axhspan(bleach_median, treatment_median, alpha=0.2, color='gray', zorder=1)\n",
    "\n",
    "# Add individual data points with jitter\n",
    "np.random.seed(123)\n",
    "jitter_strength = 0.1\n",
    "\n",
    "# Bleach group (x=1)\n",
    "x_control = np.ones(len(controls)) + np.random.uniform(-jitter_strength, jitter_strength, len(controls))\n",
    "ax.scatter(x_control, controls, alpha=0.6, color='blue', s=20, zorder=3)\n",
    "\n",
    "# Olaplex group (x=2)\n",
    "x_olaplex = 2 * np.ones(len(olaplex)) + np.random.uniform(-jitter_strength, jitter_strength, len(olaplex))\n",
    "ax.scatter(x_olaplex, olaplex, alpha=0.6, color='green', s=20, zorder=3)\n",
    "\n",
    "# ML-1 treatment group (x=3, now last)\n",
    "x_treatment = 3 * np.ones(len(treatment)) + np.random.uniform(-jitter_strength, jitter_strength, len(treatment))\n",
    "ax.scatter(x_treatment, treatment, alpha=0.6, color='orange', s=20, zorder=3)\n",
    "\n",
    "ax.axhline(y=248, color='red', linestyle='-', linewidth=1, label='Virgin')\n",
    "ax.legend(fontsize=10, loc='upper right')\n",
    "\n",
    "ax.spines['right'].set_visible(False)\n",
    "ax.spines['top'].set_visible(False)\n",
    "ax.grid(False)\n",
    "\n",
    "plt.tight_layout()\n",
    "plt.show()"
   ]
  },
  {
   "cell_type": "markdown",
   "metadata": {},
   "source": [
    "Coily"
   ]
  },
  {
   "cell_type": "code",
   "execution_count": 4,
   "metadata": {},
   "outputs": [
    {
     "data": {
      "text/plain": [
       "[0.9981980316961604, 0.9971761752863045]"
      ]
     },
     "execution_count": 4,
     "metadata": {},
     "output_type": "execute_result"
    }
   ],
   "source": [
    "# Data to plot\n",
    "treatment_ctrl = [242.86, 215.45, 206.63, 208.35]\n",
    "treatment = [231.24, 210.7, 212.46, 223.9]\n",
    "\n",
    "olpalex_ctrl = [216.43, 191.23]\n",
    "olaplex = [216.04, 190.69]\n",
    "\n",
    "[x/y for x, y in zip(olaplex, olpalex_ctrl)]"
   ]
  },
  {
   "cell_type": "code",
   "execution_count": null,
   "metadata": {},
   "outputs": [],
   "source": [
    "import pandas as pd\n",
    "import matplotlib.pyplot as plt\n",
    "import numpy as np\n",
    "\n",
    "\n",
    "# Create DataFrame with treatment (ML-1) in the last position\n",
    "data = pd.concat([\n",
    "    pd.Series(controls, name='Bleach'),\n",
    "    pd.Series(olaplex, name='Olaplex No. 3'),\n",
    "    pd.Series(treatment, name='ML-1'),\n",
    "], axis=1)\n",
    "\n",
    "# Rest of your code remains the same\n",
    "fig, ax = plt.subplots(figsize=(3.5, 4))\n",
    "data.boxplot(ax=ax, showfliers=False, capprops=dict(linewidth=0))\n",
    "ax.set_ylabel('Break stress', fontsize=12)\n",
    "ax.tick_params(axis='both', which='major', labelsize=10)\n",
    "ax.set_ylim(190, 255)\n",
    "\n",
    "# Calculate medians for the gray area\n",
    "bleach_median = np.median(controls)\n",
    "treatment_median = np.median(treatment)\n",
    "\n",
    "# Add light gray area between medians\n",
    "ax.axhspan(bleach_median, treatment_median, alpha=0.2, color='gray', zorder=1)\n",
    "\n",
    "# Add individual data points with jitter\n",
    "np.random.seed(123)\n",
    "jitter_strength = 0.1\n",
    "\n",
    "# Bleach group (x=1)\n",
    "x_control = np.ones(len(controls)) + np.random.uniform(-jitter_strength, jitter_strength, len(controls))\n",
    "ax.scatter(x_control, controls, alpha=0.6, color='blue', s=20, zorder=3)\n",
    "\n",
    "# Olaplex group (x=2)\n",
    "x_olaplex = 2 * np.ones(len(olaplex)) + np.random.uniform(-jitter_strength, jitter_strength, len(olaplex))\n",
    "ax.scatter(x_olaplex, olaplex, alpha=0.6, color='green', s=20, zorder=3)\n",
    "\n",
    "# ML-1 treatment group (x=3, now last)\n",
    "x_treatment = 3 * np.ones(len(treatment)) + np.random.uniform(-jitter_strength, jitter_strength, len(treatment))\n",
    "ax.scatter(x_treatment, treatment, alpha=0.6, color='orange', s=20, zorder=3)\n",
    "\n",
    "ax.axhline(y=248, color='red', linestyle='-', linewidth=1, label='Virgin')\n",
    "ax.legend(fontsize=10, loc='upper right')\n",
    "\n",
    "ax.spines['right'].set_visible(False)\n",
    "ax.spines['top'].set_visible(False)\n",
    "ax.grid(False)\n",
    "\n",
    "plt.tight_layout()\n",
    "plt.show()"
   ]
  },
  {
   "cell_type": "markdown",
   "metadata": {},
   "source": [
    "coily kp m5"
   ]
  },
  {
   "cell_type": "code",
   "execution_count": null,
   "metadata": {},
   "outputs": [],
   "source": [
    "# Data to plot\n",
    "treatment_ctrl = [216.73, 206.92, 211.97, 208.5]\n",
    "treatment = [211.63, 219.57, 209.57, 218.95]\n",
    "\n",
    "olpalex_ctrl = [216.43, 191.23]\n",
    "olaplex = [216.04, 190.69]"
   ]
  },
  {
   "cell_type": "code",
   "execution_count": null,
   "metadata": {},
   "outputs": [],
   "source": []
  }
 ],
 "metadata": {
  "kernelspec": {
   "display_name": "krap",
   "language": "python",
   "name": "python3"
  },
  "language_info": {
   "codemirror_mode": {
    "name": "ipython",
    "version": 3
   },
   "file_extension": ".py",
   "mimetype": "text/x-python",
   "name": "python",
   "nbconvert_exporter": "python",
   "pygments_lexer": "ipython3",
   "version": "3.9.18"
  }
 },
 "nbformat": 4,
 "nbformat_minor": 2
}
