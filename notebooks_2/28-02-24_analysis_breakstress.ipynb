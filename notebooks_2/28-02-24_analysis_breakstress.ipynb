{
 "cells": [
  {
   "attachments": {},
   "cell_type": "markdown",
   "metadata": {},
   "source": [
    "### Goal"
   ]
  },
  {
   "cell_type": "code",
   "execution_count": 1,
   "metadata": {},
   "outputs": [],
   "source": [
    "%load_ext autoreload\n",
    "%autoreload 2"
   ]
  },
  {
   "cell_type": "code",
   "execution_count": 2,
   "metadata": {},
   "outputs": [],
   "source": [
    "import os, sys\n",
    "import pandas as pd\n",
    "import numpy as np\n",
    "import math\n",
    "\n",
    "import matplotlib.pyplot as plt\n",
    "\n",
    "sys.path.append(\"..\")\n",
    "import helper as hp"
   ]
  },
  {
   "cell_type": "code",
   "execution_count": 3,
   "metadata": {},
   "outputs": [
    {
     "data": {
      "text/html": [
       "<div>\n",
       "<style scoped>\n",
       "    .dataframe tbody tr th:only-of-type {\n",
       "        vertical-align: middle;\n",
       "    }\n",
       "\n",
       "    .dataframe tbody tr th {\n",
       "        vertical-align: top;\n",
       "    }\n",
       "\n",
       "    .dataframe thead th {\n",
       "        text-align: right;\n",
       "    }\n",
       "</style>\n",
       "<table border=\"1\" class=\"dataframe\">\n",
       "  <thead>\n",
       "    <tr style=\"text-align: right;\">\n",
       "      <th></th>\n",
       "      <th>Test ID</th>\n",
       "      <th>Batch</th>\n",
       "      <th>Young's Modulus</th>\n",
       "      <th>Break Force</th>\n",
       "      <th>Distance to Break</th>\n",
       "      <th>Toughness</th>\n",
       "      <th>Unnamed: 6</th>\n",
       "      <th>Unnamed: 7</th>\n",
       "      <th>Unnamed: 8</th>\n",
       "    </tr>\n",
       "  </thead>\n",
       "  <tbody>\n",
       "    <tr>\n",
       "      <th>0</th>\n",
       "      <td>NaN</td>\n",
       "      <td>NaN</td>\n",
       "      <td>MPa/%</td>\n",
       "      <td>g</td>\n",
       "      <td>mm</td>\n",
       "      <td>kg/mm².%</td>\n",
       "      <td>NaN</td>\n",
       "      <td>NaN</td>\n",
       "      <td>NaN</td>\n",
       "    </tr>\n",
       "    <tr>\n",
       "      <th>1</th>\n",
       "      <td>NaN</td>\n",
       "      <td>NaN</td>\n",
       "      <td>Gradient St-Strain 1:2</td>\n",
       "      <td>Break Force</td>\n",
       "      <td>Distance to Break</td>\n",
       "      <td>Area St-Strain 1:3</td>\n",
       "      <td>NaN</td>\n",
       "      <td>NaN</td>\n",
       "      <td>NaN</td>\n",
       "    </tr>\n",
       "    <tr>\n",
       "      <th>2</th>\n",
       "      <td>NaN</td>\n",
       "      <td>NaN</td>\n",
       "      <td>NaN</td>\n",
       "      <td>NaN</td>\n",
       "      <td>NaN</td>\n",
       "      <td>NaN</td>\n",
       "      <td>NaN</td>\n",
       "      <td>NaN</td>\n",
       "      <td>NaN</td>\n",
       "    </tr>\n",
       "    <tr>\n",
       "      <th>3</th>\n",
       "      <td>Start Batch 20240227_5.0_NC_</td>\n",
       "      <td>20240227_5.0_NC_</td>\n",
       "      <td>NaN</td>\n",
       "      <td>NaN</td>\n",
       "      <td>NaN</td>\n",
       "      <td>NaN</td>\n",
       "      <td>NaN</td>\n",
       "      <td>NaN</td>\n",
       "      <td>NaN</td>\n",
       "    </tr>\n",
       "    <tr>\n",
       "      <th>4</th>\n",
       "      <td>20240227_5.0_NC_1</td>\n",
       "      <td>20240227_5.0_NC_</td>\n",
       "      <td>50.692</td>\n",
       "      <td>108.939</td>\n",
       "      <td>-27.123</td>\n",
       "      <td>1334.504</td>\n",
       "      <td>63.0</td>\n",
       "      <td>64.0</td>\n",
       "      <td>ok</td>\n",
       "    </tr>\n",
       "    <tr>\n",
       "      <th>5</th>\n",
       "      <td>20240227_5.0_NC_2</td>\n",
       "      <td>20240227_5.0_NC_</td>\n",
       "      <td>47.935</td>\n",
       "      <td>103.819</td>\n",
       "      <td>-29.079</td>\n",
       "      <td>1330.881</td>\n",
       "      <td>56.0</td>\n",
       "      <td>53.0</td>\n",
       "      <td>ok</td>\n",
       "    </tr>\n",
       "  </tbody>\n",
       "</table>\n",
       "</div>"
      ],
      "text/plain": [
       "                        Test ID             Batch         Young's Modulus  \\\n",
       "0                           NaN               NaN                   MPa/%   \n",
       "1                           NaN               NaN  Gradient St-Strain 1:2   \n",
       "2                           NaN               NaN                     NaN   \n",
       "3  Start Batch 20240227_5.0_NC_  20240227_5.0_NC_                     NaN   \n",
       "4             20240227_5.0_NC_1  20240227_5.0_NC_                  50.692   \n",
       "5             20240227_5.0_NC_2  20240227_5.0_NC_                  47.935   \n",
       "\n",
       "   Break Force  Distance to Break           Toughness  Unnamed: 6  Unnamed: 7  \\\n",
       "0            g                 mm            kg/mm².%         NaN         NaN   \n",
       "1  Break Force  Distance to Break  Area St-Strain 1:3         NaN         NaN   \n",
       "2          NaN                NaN                 NaN         NaN         NaN   \n",
       "3          NaN                NaN                 NaN         NaN         NaN   \n",
       "4      108.939            -27.123            1334.504        63.0        64.0   \n",
       "5      103.819            -29.079            1330.881        56.0        53.0   \n",
       "\n",
       "  Unnamed: 8  \n",
       "0        NaN  \n",
       "1        NaN  \n",
       "2        NaN  \n",
       "3        NaN  \n",
       "4         ok  \n",
       "5         ok  "
      ]
     },
     "execution_count": 3,
     "metadata": {},
     "output_type": "execute_result"
    }
   ],
   "source": [
    "df = pd.read_excel(\"/Users/michaelmoret/Desktop/Externa/data/pulling/27-02-25/20240227_tensile_WAX4_pH_50strands/modified.xlsx\")\n",
    "df.head(6)"
   ]
  },
  {
   "cell_type": "code",
   "execution_count": 4,
   "metadata": {},
   "outputs": [],
   "source": [
    "TYPE = \"Break stress\""
   ]
  },
  {
   "cell_type": "code",
   "execution_count": 5,
   "metadata": {},
   "outputs": [
    {
     "data": {
      "text/html": [
       "<div>\n",
       "<style scoped>\n",
       "    .dataframe tbody tr th:only-of-type {\n",
       "        vertical-align: middle;\n",
       "    }\n",
       "\n",
       "    .dataframe tbody tr th {\n",
       "        vertical-align: top;\n",
       "    }\n",
       "\n",
       "    .dataframe thead th {\n",
       "        text-align: right;\n",
       "    }\n",
       "</style>\n",
       "<table border=\"1\" class=\"dataframe\">\n",
       "  <thead>\n",
       "    <tr style=\"text-align: right;\">\n",
       "      <th></th>\n",
       "      <th>Test ID</th>\n",
       "      <th>Batch</th>\n",
       "      <th>Young's Modulus</th>\n",
       "      <th>Break Force</th>\n",
       "      <th>Distance to Break</th>\n",
       "      <th>Toughness</th>\n",
       "      <th>Diameter 1</th>\n",
       "      <th>Diameter 2</th>\n",
       "      <th>Note</th>\n",
       "    </tr>\n",
       "  </thead>\n",
       "  <tbody>\n",
       "    <tr>\n",
       "      <th>0</th>\n",
       "      <td>NaN</td>\n",
       "      <td>NaN</td>\n",
       "      <td>MPa/%</td>\n",
       "      <td>g</td>\n",
       "      <td>mm</td>\n",
       "      <td>kg/mm².%</td>\n",
       "      <td>NaN</td>\n",
       "      <td>NaN</td>\n",
       "      <td>NaN</td>\n",
       "    </tr>\n",
       "    <tr>\n",
       "      <th>1</th>\n",
       "      <td>NaN</td>\n",
       "      <td>NaN</td>\n",
       "      <td>Gradient St-Strain 1:2</td>\n",
       "      <td>Break Force</td>\n",
       "      <td>Distance to Break</td>\n",
       "      <td>Area St-Strain 1:3</td>\n",
       "      <td>NaN</td>\n",
       "      <td>NaN</td>\n",
       "      <td>NaN</td>\n",
       "    </tr>\n",
       "  </tbody>\n",
       "</table>\n",
       "</div>"
      ],
      "text/plain": [
       "  Test ID Batch         Young's Modulus  Break Force  Distance to Break  \\\n",
       "0     NaN   NaN                   MPa/%            g                 mm   \n",
       "1     NaN   NaN  Gradient St-Strain 1:2  Break Force  Distance to Break   \n",
       "\n",
       "            Toughness  Diameter 1  Diameter 2 Note  \n",
       "0            kg/mm².%         NaN         NaN  NaN  \n",
       "1  Area St-Strain 1:3         NaN         NaN  NaN  "
      ]
     },
     "execution_count": 5,
     "metadata": {},
     "output_type": "execute_result"
    }
   ],
   "source": [
    "df = df.rename(columns={'Unnamed: 6': 'Diameter 1', \n",
    "                        'Unnamed: 7': 'Diameter 2',\n",
    "                        'Unnamed: 8': 'Note',})\n",
    "df.head(2)"
   ]
  },
  {
   "cell_type": "code",
   "execution_count": 6,
   "metadata": {},
   "outputs": [],
   "source": [
    "#df = df.drop('Humidity', axis=1)\n",
    "#df.head(2)"
   ]
  },
  {
   "cell_type": "code",
   "execution_count": 7,
   "metadata": {},
   "outputs": [
    {
     "data": {
      "text/html": [
       "<div>\n",
       "<style scoped>\n",
       "    .dataframe tbody tr th:only-of-type {\n",
       "        vertical-align: middle;\n",
       "    }\n",
       "\n",
       "    .dataframe tbody tr th {\n",
       "        vertical-align: top;\n",
       "    }\n",
       "\n",
       "    .dataframe thead th {\n",
       "        text-align: right;\n",
       "    }\n",
       "</style>\n",
       "<table border=\"1\" class=\"dataframe\">\n",
       "  <thead>\n",
       "    <tr style=\"text-align: right;\">\n",
       "      <th></th>\n",
       "      <th>Test ID</th>\n",
       "      <th>Batch</th>\n",
       "      <th>Young's Modulus</th>\n",
       "      <th>Break Force</th>\n",
       "      <th>Distance to Break</th>\n",
       "      <th>Toughness</th>\n",
       "      <th>Diameter 1</th>\n",
       "      <th>Diameter 2</th>\n",
       "      <th>Note</th>\n",
       "    </tr>\n",
       "  </thead>\n",
       "  <tbody>\n",
       "    <tr>\n",
       "      <th>4</th>\n",
       "      <td>20240227_5.0_NC_1</td>\n",
       "      <td>20240227_5.0_NC_</td>\n",
       "      <td>50.692</td>\n",
       "      <td>108.939</td>\n",
       "      <td>-27.123</td>\n",
       "      <td>1334.504</td>\n",
       "      <td>63.0</td>\n",
       "      <td>64.0</td>\n",
       "      <td>ok</td>\n",
       "    </tr>\n",
       "    <tr>\n",
       "      <th>5</th>\n",
       "      <td>20240227_5.0_NC_2</td>\n",
       "      <td>20240227_5.0_NC_</td>\n",
       "      <td>47.935</td>\n",
       "      <td>103.819</td>\n",
       "      <td>-29.079</td>\n",
       "      <td>1330.881</td>\n",
       "      <td>56.0</td>\n",
       "      <td>53.0</td>\n",
       "      <td>ok</td>\n",
       "    </tr>\n",
       "  </tbody>\n",
       "</table>\n",
       "</div>"
      ],
      "text/plain": [
       "             Test ID             Batch Young's Modulus Break Force  \\\n",
       "4  20240227_5.0_NC_1  20240227_5.0_NC_          50.692     108.939   \n",
       "5  20240227_5.0_NC_2  20240227_5.0_NC_          47.935     103.819   \n",
       "\n",
       "  Distance to Break Toughness  Diameter 1  Diameter 2 Note  \n",
       "4           -27.123  1334.504        63.0        64.0   ok  \n",
       "5           -29.079  1330.881        56.0        53.0   ok  "
      ]
     },
     "execution_count": 7,
     "metadata": {},
     "output_type": "execute_result"
    }
   ],
   "source": [
    "df = df.dropna()\n",
    "df.head(2)"
   ]
  },
  {
   "cell_type": "code",
   "execution_count": 8,
   "metadata": {},
   "outputs": [
    {
     "data": {
      "text/html": [
       "<div>\n",
       "<style scoped>\n",
       "    .dataframe tbody tr th:only-of-type {\n",
       "        vertical-align: middle;\n",
       "    }\n",
       "\n",
       "    .dataframe tbody tr th {\n",
       "        vertical-align: top;\n",
       "    }\n",
       "\n",
       "    .dataframe thead th {\n",
       "        text-align: right;\n",
       "    }\n",
       "</style>\n",
       "<table border=\"1\" class=\"dataframe\">\n",
       "  <thead>\n",
       "    <tr style=\"text-align: right;\">\n",
       "      <th></th>\n",
       "      <th>Test ID</th>\n",
       "      <th>Batch</th>\n",
       "      <th>Young's Modulus</th>\n",
       "      <th>Break Force</th>\n",
       "      <th>Distance to Break</th>\n",
       "      <th>Toughness</th>\n",
       "      <th>Diameter 1</th>\n",
       "      <th>Diameter 2</th>\n",
       "      <th>Note</th>\n",
       "    </tr>\n",
       "  </thead>\n",
       "  <tbody>\n",
       "    <tr>\n",
       "      <th>4</th>\n",
       "      <td>20240227_5.0_NC_1</td>\n",
       "      <td>20240227_5.0_NC_</td>\n",
       "      <td>50.692</td>\n",
       "      <td>108.939</td>\n",
       "      <td>-27.123</td>\n",
       "      <td>1334.504</td>\n",
       "      <td>63.0</td>\n",
       "      <td>64.0</td>\n",
       "      <td>ok</td>\n",
       "    </tr>\n",
       "    <tr>\n",
       "      <th>5</th>\n",
       "      <td>20240227_5.0_NC_2</td>\n",
       "      <td>20240227_5.0_NC_</td>\n",
       "      <td>47.935</td>\n",
       "      <td>103.819</td>\n",
       "      <td>-29.079</td>\n",
       "      <td>1330.881</td>\n",
       "      <td>56.0</td>\n",
       "      <td>53.0</td>\n",
       "      <td>ok</td>\n",
       "    </tr>\n",
       "  </tbody>\n",
       "</table>\n",
       "</div>"
      ],
      "text/plain": [
       "             Test ID             Batch  Young's Modulus  Break Force  \\\n",
       "4  20240227_5.0_NC_1  20240227_5.0_NC_           50.692      108.939   \n",
       "5  20240227_5.0_NC_2  20240227_5.0_NC_           47.935      103.819   \n",
       "\n",
       "   Distance to Break Toughness  Diameter 1  Diameter 2 Note  \n",
       "4            -27.123  1334.504        63.0        64.0   ok  \n",
       "5            -29.079  1330.881        56.0        53.0   ok  "
      ]
     },
     "execution_count": 8,
     "metadata": {},
     "output_type": "execute_result"
    }
   ],
   "source": [
    "df['Break Force'] = df['Break Force'].astype(float)\n",
    "df['Young\\'s Modulus'] = df['Young\\'s Modulus'].astype(float)\n",
    "df['Distance to Break'] = df['Distance to Break'].astype(float)\n",
    "#df['Toughness'] = df['Toughness'].astype(float)\n",
    "df['Diameter 1'] = df['Diameter 1'].astype(float)\n",
    "df['Diameter 2'] = df['Diameter 2'].astype(float)\n",
    "#df['Humidity'] = df['Humidity'].astype(float)\n",
    "\n",
    "df.head(2)"
   ]
  },
  {
   "cell_type": "code",
   "execution_count": 9,
   "metadata": {},
   "outputs": [],
   "source": [
    "#df = df[df['Test ID'] != 'Average:']\n",
    "#df = df[df['Test ID'] != 'S.D.']\n",
    "#df = df[df['Test ID'] != 'Coef. of Variation']"
   ]
  },
  {
   "cell_type": "code",
   "execution_count": 10,
   "metadata": {},
   "outputs": [],
   "source": [
    "df['Average'] = ((df['Diameter 1'] + df['Diameter 2']) / 2 )/1000\n",
    "df['Area'] = math.pi * (df['Average'] / 2)**2"
   ]
  },
  {
   "cell_type": "code",
   "execution_count": 11,
   "metadata": {},
   "outputs": [],
   "source": [
    "df['Baseline area'] = math.pi * 0.035**2\n",
    "df['Updated Young\\'s Modulus'] = df['Young\\'s Modulus'] * (df['Baseline area'] / df['Area'])"
   ]
  },
  {
   "cell_type": "code",
   "execution_count": 12,
   "metadata": {},
   "outputs": [],
   "source": [
    "df['Break stress'] = df['Break Force'] / df['Area'] / 1000"
   ]
  },
  {
   "cell_type": "code",
   "execution_count": 13,
   "metadata": {},
   "outputs": [
    {
     "data": {
      "text/html": [
       "<div>\n",
       "<style scoped>\n",
       "    .dataframe tbody tr th:only-of-type {\n",
       "        vertical-align: middle;\n",
       "    }\n",
       "\n",
       "    .dataframe tbody tr th {\n",
       "        vertical-align: top;\n",
       "    }\n",
       "\n",
       "    .dataframe thead th {\n",
       "        text-align: right;\n",
       "    }\n",
       "</style>\n",
       "<table border=\"1\" class=\"dataframe\">\n",
       "  <thead>\n",
       "    <tr style=\"text-align: right;\">\n",
       "      <th></th>\n",
       "      <th>Test ID</th>\n",
       "      <th>Batch</th>\n",
       "      <th>Young's Modulus</th>\n",
       "      <th>Break Force</th>\n",
       "      <th>Distance to Break</th>\n",
       "      <th>Toughness</th>\n",
       "      <th>Diameter 1</th>\n",
       "      <th>Diameter 2</th>\n",
       "      <th>Note</th>\n",
       "      <th>Average</th>\n",
       "      <th>Area</th>\n",
       "      <th>Baseline area</th>\n",
       "      <th>Updated Young's Modulus</th>\n",
       "      <th>Break stress</th>\n",
       "    </tr>\n",
       "  </thead>\n",
       "  <tbody>\n",
       "    <tr>\n",
       "      <th>4</th>\n",
       "      <td>20240227_5.0_NC_1</td>\n",
       "      <td>20240227_5.0_NC_</td>\n",
       "      <td>50.692</td>\n",
       "      <td>108.939</td>\n",
       "      <td>-27.123</td>\n",
       "      <td>1334.504</td>\n",
       "      <td>63.0</td>\n",
       "      <td>64.0</td>\n",
       "      <td>ok</td>\n",
       "      <td>0.0635</td>\n",
       "      <td>0.003167</td>\n",
       "      <td>0.003848</td>\n",
       "      <td>61.601042</td>\n",
       "      <td>34.399019</td>\n",
       "    </tr>\n",
       "    <tr>\n",
       "      <th>5</th>\n",
       "      <td>20240227_5.0_NC_2</td>\n",
       "      <td>20240227_5.0_NC_</td>\n",
       "      <td>47.935</td>\n",
       "      <td>103.819</td>\n",
       "      <td>-29.079</td>\n",
       "      <td>1330.881</td>\n",
       "      <td>56.0</td>\n",
       "      <td>53.0</td>\n",
       "      <td>ok</td>\n",
       "      <td>0.0545</td>\n",
       "      <td>0.002333</td>\n",
       "      <td>0.003848</td>\n",
       "      <td>79.078024</td>\n",
       "      <td>44.503478</td>\n",
       "    </tr>\n",
       "  </tbody>\n",
       "</table>\n",
       "</div>"
      ],
      "text/plain": [
       "             Test ID             Batch  Young's Modulus  Break Force  \\\n",
       "4  20240227_5.0_NC_1  20240227_5.0_NC_           50.692      108.939   \n",
       "5  20240227_5.0_NC_2  20240227_5.0_NC_           47.935      103.819   \n",
       "\n",
       "   Distance to Break Toughness  Diameter 1  Diameter 2 Note  Average  \\\n",
       "4            -27.123  1334.504        63.0        64.0   ok   0.0635   \n",
       "5            -29.079  1330.881        56.0        53.0   ok   0.0545   \n",
       "\n",
       "       Area  Baseline area  Updated Young's Modulus  Break stress  \n",
       "4  0.003167       0.003848                61.601042     34.399019  \n",
       "5  0.002333       0.003848                79.078024     44.503478  "
      ]
     },
     "execution_count": 13,
     "metadata": {},
     "output_type": "execute_result"
    }
   ],
   "source": [
    "df.head(2)"
   ]
  },
  {
   "cell_type": "code",
   "execution_count": 14,
   "metadata": {},
   "outputs": [
    {
     "data": {
      "text/plain": [
       "213"
      ]
     },
     "execution_count": 14,
     "metadata": {},
     "output_type": "execute_result"
    }
   ],
   "source": [
    "len(df)"
   ]
  },
  {
   "cell_type": "code",
   "execution_count": 15,
   "metadata": {},
   "outputs": [
    {
     "data": {
      "text/plain": [
       "<Figure size 1000x600 with 0 Axes>"
      ]
     },
     "metadata": {},
     "output_type": "display_data"
    },
    {
     "data": {
      "image/png": "[encoded data removed]",
      "text/plain": [
       "<Figure size 640x480 with 1 Axes>"
      ]
     },
     "metadata": {},
     "output_type": "display_data"
    }
   ],
   "source": [
    "def do_plot(df):\n",
    "    plt.figure(figsize=(10, 6))\n",
    "    df.boxplot(column=TYPE, by='Batch')\n",
    "    plt.xlabel('Name')\n",
    "    plt.ylabel(TYPE)\n",
    "    plt.xticks(rotation=65)\n",
    "    ## y axis from 20 to 90\n",
    "    #plt.ylim(15, 90)\n",
    "    plt.show()\n",
    "    \n",
    "\n",
    "do_plot(df)\n"
   ]
  },
  {
   "cell_type": "code",
   "execution_count": 16,
   "metadata": {},
   "outputs": [
    {
     "name": "stdout",
     "output_type": "stream",
     "text": [
      "Batch\n",
      "20240227_5.0_NC_       7.900527\n",
      "20240227_5.0_WAX4_    11.168771\n",
      "20240227_7.4_NC_       7.877346\n",
      "20240227_7.4_WAX4_     8.936608\n",
      "20240227_8.2_NC_       7.230338\n",
      "20240227_8.2_WAX4_     7.631541\n",
      "Name: Break stress, dtype: float64\n"
     ]
    }
   ],
   "source": [
    "std_by_batch_all = df.groupby('Batch')[TYPE].std()\n",
    "print(std_by_batch_all)"
   ]
  },
  {
   "cell_type": "code",
   "execution_count": 17,
   "metadata": {},
   "outputs": [
    {
     "data": {
      "text/plain": [
       "(                    20240227_5.0_NC_  20240227_5.0_WAX4_  20240227_7.4_NC_  \\\n",
       " 20240227_5.0_NC_               1.000               0.995             0.159   \n",
       " 20240227_5.0_WAX4_             0.995               1.000             0.308   \n",
       " 20240227_7.4_NC_               0.159               0.308             1.000   \n",
       " 20240227_7.4_WAX4_             0.787               0.895             0.323   \n",
       " 20240227_8.2_NC_               0.901               0.986             0.095   \n",
       " 20240227_8.2_WAX4_             0.581               0.743             0.399   \n",
       " \n",
       "                     20240227_7.4_WAX4_  20240227_8.2_NC_  20240227_8.2_WAX4_  \n",
       " 20240227_5.0_NC_                 0.787             0.901               0.581  \n",
       " 20240227_5.0_WAX4_               0.895             0.986               0.743  \n",
       " 20240227_7.4_NC_                 0.323             0.095               0.399  \n",
       " 20240227_7.4_WAX4_               1.000             0.823               0.832  \n",
       " 20240227_8.2_NC_                 0.823             1.000               0.574  \n",
       " 20240227_8.2_WAX4_               0.832             0.574               1.000  ,\n",
       "                     20240227_5.0_NC_  20240227_5.0_WAX4_  20240227_7.4_NC_  \\\n",
       " 20240227_5.0_NC_               -1.00            20522.38            156.05   \n",
       " 20240227_5.0_WAX4_          20522.38               -1.00            292.54   \n",
       " 20240227_7.4_NC_              156.05              292.54             -1.00   \n",
       " 20240227_7.4_WAX4_           2325.12             8865.63            338.45   \n",
       " 20240227_8.2_NC_            19191.69             5928.71            121.68   \n",
       " 20240227_8.2_WAX4_           2522.47            12046.57            263.31   \n",
       " \n",
       "                     20240227_7.4_WAX4_  20240227_8.2_NC_  20240227_8.2_WAX4_  \n",
       " 20240227_5.0_NC_               2325.12          19191.69             2522.47  \n",
       " 20240227_5.0_WAX4_             8865.63           5928.71            12046.57  \n",
       " 20240227_7.4_NC_                338.45            121.68              263.31  \n",
       " 20240227_7.4_WAX4_               -1.00           1254.06           167979.59  \n",
       " 20240227_8.2_NC_               1254.06             -1.00             1261.85  \n",
       " 20240227_8.2_WAX4_           167979.59           1261.85               -1.00  )"
      ]
     },
     "execution_count": 17,
     "metadata": {},
     "output_type": "execute_result"
    }
   ],
   "source": [
    "hp.get_pvalue_and_sample_size(df, TYPE)"
   ]
  },
  {
   "cell_type": "code",
   "execution_count": 18,
   "metadata": {},
   "outputs": [
    {
     "name": "stdout",
     "output_type": "stream",
     "text": [
      "['ok' 'almost breakend' 'early-weakness' 'breakend' 'ok ' 'ok early'\n",
      " 'early breakend' 'early-breakend']\n"
     ]
    }
   ],
   "source": [
    "unique_values = df['Note'].unique()\n",
    "print(unique_values)"
   ]
  },
  {
   "cell_type": "markdown",
   "metadata": {},
   "source": [
    "let's remove all but ok"
   ]
  },
  {
   "cell_type": "code",
   "execution_count": 19,
   "metadata": {},
   "outputs": [
    {
     "data": {
      "text/plain": [
       "213"
      ]
     },
     "execution_count": 19,
     "metadata": {},
     "output_type": "execute_result"
    }
   ],
   "source": [
    "len(df)"
   ]
  },
  {
   "cell_type": "code",
   "execution_count": 20,
   "metadata": {},
   "outputs": [
    {
     "name": "stdout",
     "output_type": "stream",
     "text": [
      "Batch\n",
      "20240227_7.4_NC_      37\n",
      "20240227_8.2_NC_      37\n",
      "20240227_8.2_WAX4_    37\n",
      "20240227_5.0_NC_      35\n",
      "20240227_5.0_WAX4_    34\n",
      "20240227_7.4_WAX4_    33\n",
      "Name: count, dtype: int64\n"
     ]
    }
   ],
   "source": [
    "count_by_batch = df['Batch'].value_counts()\n",
    "print(count_by_batch)"
   ]
  },
  {
   "cell_type": "code",
   "execution_count": 21,
   "metadata": {},
   "outputs": [
    {
     "data": {
      "text/plain": [
       "176"
      ]
     },
     "execution_count": 21,
     "metadata": {},
     "output_type": "execute_result"
    }
   ],
   "source": [
    "df = df[df['Note'].isin(['ok', 'ok!', 'okkk', 'OK', 'good', 'great', 'ok '])]\n",
    "len(df)"
   ]
  },
  {
   "cell_type": "code",
   "execution_count": 22,
   "metadata": {},
   "outputs": [
    {
     "name": "stdout",
     "output_type": "stream",
     "text": [
      "Batch\n",
      "20240227_8.2_NC_      35\n",
      "20240227_5.0_NC_      32\n",
      "20240227_7.4_NC_      30\n",
      "20240227_5.0_WAX4_    27\n",
      "20240227_7.4_WAX4_    26\n",
      "20240227_8.2_WAX4_    26\n",
      "Name: count, dtype: int64\n"
     ]
    }
   ],
   "source": [
    "count_by_batch = df['Batch'].value_counts()\n",
    "print(count_by_batch)"
   ]
  },
  {
   "cell_type": "code",
   "execution_count": 23,
   "metadata": {},
   "outputs": [
    {
     "data": {
      "text/plain": [
       "<Figure size 1000x600 with 0 Axes>"
      ]
     },
     "metadata": {},
     "output_type": "display_data"
    },
    {
     "data": {
      "image/png": "[encoded data removed]",
      "text/plain": [
       "<Figure size 640x480 with 1 Axes>"
      ]
     },
     "metadata": {},
     "output_type": "display_data"
    }
   ],
   "source": [
    "do_plot(df)"
   ]
  },
  {
   "cell_type": "code",
   "execution_count": 24,
   "metadata": {},
   "outputs": [
    {
     "name": "stdout",
     "output_type": "stream",
     "text": [
      "Batch\n",
      "20240227_5.0_NC_       6.852950\n",
      "20240227_5.0_WAX4_    10.646786\n",
      "20240227_7.4_NC_       7.502726\n",
      "20240227_7.4_WAX4_     7.017430\n",
      "20240227_8.2_NC_       6.828346\n",
      "20240227_8.2_WAX4_     6.972260\n",
      "Name: Break stress, dtype: float64\n"
     ]
    }
   ],
   "source": [
    "std_by_batch_ok = df.groupby('Batch')[TYPE].std()\n",
    "print(std_by_batch_ok)"
   ]
  },
  {
   "cell_type": "code",
   "execution_count": 25,
   "metadata": {},
   "outputs": [
    {
     "data": {
      "text/html": [
       "<div>\n",
       "<style scoped>\n",
       "    .dataframe tbody tr th:only-of-type {\n",
       "        vertical-align: middle;\n",
       "    }\n",
       "\n",
       "    .dataframe tbody tr th {\n",
       "        vertical-align: top;\n",
       "    }\n",
       "\n",
       "    .dataframe thead th {\n",
       "        text-align: right;\n",
       "    }\n",
       "</style>\n",
       "<table border=\"1\" class=\"dataframe\">\n",
       "  <thead>\n",
       "    <tr style=\"text-align: right;\">\n",
       "      <th></th>\n",
       "      <th>std all</th>\n",
       "      <th>std ok</th>\n",
       "    </tr>\n",
       "    <tr>\n",
       "      <th>Batch</th>\n",
       "      <th></th>\n",
       "      <th></th>\n",
       "    </tr>\n",
       "  </thead>\n",
       "  <tbody>\n",
       "    <tr>\n",
       "      <th>20240227_5.0_NC_</th>\n",
       "      <td>7.900527</td>\n",
       "      <td>6.852950</td>\n",
       "    </tr>\n",
       "    <tr>\n",
       "      <th>20240227_5.0_WAX4_</th>\n",
       "      <td>11.168771</td>\n",
       "      <td>10.646786</td>\n",
       "    </tr>\n",
       "    <tr>\n",
       "      <th>20240227_7.4_NC_</th>\n",
       "      <td>7.877346</td>\n",
       "      <td>7.502726</td>\n",
       "    </tr>\n",
       "    <tr>\n",
       "      <th>20240227_7.4_WAX4_</th>\n",
       "      <td>8.936608</td>\n",
       "      <td>7.017430</td>\n",
       "    </tr>\n",
       "    <tr>\n",
       "      <th>20240227_8.2_NC_</th>\n",
       "      <td>7.230338</td>\n",
       "      <td>6.828346</td>\n",
       "    </tr>\n",
       "    <tr>\n",
       "      <th>20240227_8.2_WAX4_</th>\n",
       "      <td>7.631541</td>\n",
       "      <td>6.972260</td>\n",
       "    </tr>\n",
       "  </tbody>\n",
       "</table>\n",
       "</div>"
      ],
      "text/plain": [
       "                      std all     std ok\n",
       "Batch                                   \n",
       "20240227_5.0_NC_     7.900527   6.852950\n",
       "20240227_5.0_WAX4_  11.168771  10.646786\n",
       "20240227_7.4_NC_     7.877346   7.502726\n",
       "20240227_7.4_WAX4_   8.936608   7.017430\n",
       "20240227_8.2_NC_     7.230338   6.828346\n",
       "20240227_8.2_WAX4_   7.631541   6.972260"
      ]
     },
     "execution_count": 25,
     "metadata": {},
     "output_type": "execute_result"
    }
   ],
   "source": [
    "merged_df = pd.concat([std_by_batch_all, std_by_batch_ok], axis=1)\n",
    "merged_df.columns = ['std all', 'std ok']\n",
    "merged_df"
   ]
  },
  {
   "cell_type": "code",
   "execution_count": 26,
   "metadata": {},
   "outputs": [
    {
     "data": {
      "text/plain": [
       "(                    20240227_5.0_NC_  20240227_5.0_WAX4_  20240227_7.4_NC_  \\\n",
       " 20240227_5.0_NC_               1.000               0.365             0.045   \n",
       " 20240227_5.0_WAX4_             0.365               1.000             0.570   \n",
       " 20240227_7.4_NC_               0.045               0.570             1.000   \n",
       " 20240227_7.4_WAX4_             0.568               0.612             0.254   \n",
       " 20240227_8.2_NC_               0.543               0.639             0.056   \n",
       " 20240227_8.2_WAX4_             0.291               0.993             0.379   \n",
       " \n",
       "                     20240227_7.4_WAX4_  20240227_8.2_NC_  20240227_8.2_WAX4_  \n",
       " 20240227_5.0_NC_                 0.568             0.543               0.291  \n",
       " 20240227_5.0_WAX4_               0.612             0.639               0.993  \n",
       " 20240227_7.4_NC_                 0.254             0.056               0.379  \n",
       " 20240227_7.4_WAX4_               1.000             0.924               0.694  \n",
       " 20240227_8.2_NC_                 0.924             1.000               0.461  \n",
       " 20240227_8.2_WAX4_               0.694             0.461               1.000  ,\n",
       "                     20240227_5.0_NC_  20240227_5.0_WAX4_  20240227_7.4_NC_  \\\n",
       " 20240227_5.0_NC_               -1.00              137.80             42.15   \n",
       " 20240227_5.0_WAX4_            137.80               -1.00            676.11   \n",
       " 20240227_7.4_NC_               42.15              676.11             -1.00   \n",
       " 20240227_7.4_WAX4_            308.78              594.63            101.50   \n",
       " 20240227_8.2_NC_              822.03              289.37             67.26   \n",
       " 20240227_8.2_WAX4_            140.54             2493.77            184.43   \n",
       " \n",
       "                     20240227_7.4_WAX4_  20240227_8.2_NC_  20240227_8.2_WAX4_  \n",
       " 20240227_5.0_NC_                308.78            822.03              140.54  \n",
       " 20240227_5.0_WAX4_              594.63            289.37             2493.77  \n",
       " 20240227_7.4_NC_                101.50             67.26              184.43  \n",
       " 20240227_7.4_WAX4_               -1.00           1955.97             1358.90  \n",
       " 20240227_8.2_NC_               1955.97             -1.00              397.80  \n",
       " 20240227_8.2_WAX4_             1358.90            397.80               -1.00  )"
      ]
     },
     "execution_count": 26,
     "metadata": {},
     "output_type": "execute_result"
    }
   ],
   "source": [
    "hp.get_pvalue_and_sample_size(df, TYPE)"
   ]
  },
  {
   "cell_type": "markdown",
   "metadata": {},
   "source": [
    "more check"
   ]
  },
  {
   "cell_type": "code",
   "execution_count": 27,
   "metadata": {},
   "outputs": [
    {
     "name": "stdout",
     "output_type": "stream",
     "text": [
      "Batch\n",
      "20240227_5.0_NC_      39.831184\n",
      "20240227_5.0_WAX4_    42.863634\n",
      "20240227_7.4_NC_      44.267981\n",
      "20240227_7.4_WAX4_    41.397444\n",
      "20240227_8.2_NC_      40.777044\n",
      "20240227_8.2_WAX4_    42.149514\n",
      "Name: Break stress, dtype: float64\n"
     ]
    }
   ],
   "source": [
    "bio = df.groupby('Batch')[TYPE].mean()\n",
    "print(bio)"
   ]
  },
  {
   "cell_type": "code",
   "execution_count": 28,
   "metadata": {},
   "outputs": [
    {
     "name": "stdout",
     "output_type": "stream",
     "text": [
      "Batch\n",
      "20240227_5.0_NC_      39.475597\n",
      "20240227_5.0_WAX4_    43.350304\n",
      "20240227_7.4_NC_      42.784652\n",
      "20240227_7.4_WAX4_    42.545625\n",
      "20240227_8.2_NC_      40.153977\n",
      "20240227_8.2_WAX4_    41.885536\n",
      "Name: Break stress, dtype: float64\n"
     ]
    }
   ],
   "source": [
    "bio = df.groupby('Batch')[TYPE].median()\n",
    "print(bio)"
   ]
  },
  {
   "cell_type": "code",
   "execution_count": null,
   "metadata": {},
   "outputs": [],
   "source": []
  }
 ],
 "metadata": {
  "kernelspec": {
   "display_name": "Python 3 (ipykernel)",
   "language": "python",
   "name": "python3"
  },
  "language_info": {
   "codemirror_mode": {
    "name": "ipython",
    "version": 3
   },
   "file_extension": ".py",
   "mimetype": "text/x-python",
   "name": "python",
   "nbconvert_exporter": "python",
   "pygments_lexer": "ipython3",
   "version": "3.9.18"
  }
 },
 "nbformat": 4,
 "nbformat_minor": 2
}
