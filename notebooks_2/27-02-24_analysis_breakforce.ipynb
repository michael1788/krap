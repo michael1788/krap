{
 "cells": [
  {
   "attachments": {},
   "cell_type": "markdown",
   "metadata": {},
   "source": [
    "### Goal"
   ]
  },
  {
   "cell_type": "code",
   "execution_count": 1,
   "metadata": {},
   "outputs": [],
   "source": [
    "%load_ext autoreload\n",
    "%autoreload 2"
   ]
  },
  {
   "cell_type": "code",
   "execution_count": 2,
   "metadata": {},
   "outputs": [],
   "source": [
    "import os, sys\n",
    "import pandas as pd\n",
    "import numpy as np\n",
    "import math\n",
    "\n",
    "import matplotlib.pyplot as plt\n",
    "\n",
    "sys.path.append(\"..\")\n",
    "import helper as hp"
   ]
  },
  {
   "cell_type": "code",
   "execution_count": 3,
   "metadata": {},
   "outputs": [
    {
     "data": {
      "text/html": [
       "<div>\n",
       "<style scoped>\n",
       "    .dataframe tbody tr th:only-of-type {\n",
       "        vertical-align: middle;\n",
       "    }\n",
       "\n",
       "    .dataframe tbody tr th {\n",
       "        vertical-align: top;\n",
       "    }\n",
       "\n",
       "    .dataframe thead th {\n",
       "        text-align: right;\n",
       "    }\n",
       "</style>\n",
       "<table border=\"1\" class=\"dataframe\">\n",
       "  <thead>\n",
       "    <tr style=\"text-align: right;\">\n",
       "      <th></th>\n",
       "      <th>Batch</th>\n",
       "      <th>Young's Modulus</th>\n",
       "      <th>Yield Force</th>\n",
       "      <th>Break force</th>\n",
       "      <th>Distance to Break</th>\n",
       "      <th>Break Strain</th>\n",
       "      <th>Unnamed: 6</th>\n",
       "      <th>Unnamed: 7</th>\n",
       "      <th>Unnamed: 8</th>\n",
       "      <th>Unnamed: 9</th>\n",
       "    </tr>\n",
       "  </thead>\n",
       "  <tbody>\n",
       "    <tr>\n",
       "      <th>0</th>\n",
       "      <td>NaN</td>\n",
       "      <td>MPa/%</td>\n",
       "      <td>g</td>\n",
       "      <td>g</td>\n",
       "      <td>mm</td>\n",
       "      <td>%</td>\n",
       "      <td>NaN</td>\n",
       "      <td>NaN</td>\n",
       "      <td>NaN</td>\n",
       "      <td>NaN</td>\n",
       "    </tr>\n",
       "    <tr>\n",
       "      <th>1</th>\n",
       "      <td>NaN</td>\n",
       "      <td>Gradient St-Strain 1:2</td>\n",
       "      <td>Yield Force</td>\n",
       "      <td>Break force</td>\n",
       "      <td>Distance to Break</td>\n",
       "      <td>Break Strain</td>\n",
       "      <td>NaN</td>\n",
       "      <td>NaN</td>\n",
       "      <td>NaN</td>\n",
       "      <td>NaN</td>\n",
       "    </tr>\n",
       "    <tr>\n",
       "      <th>2</th>\n",
       "      <td>NaN</td>\n",
       "      <td>NaN</td>\n",
       "      <td>NaN</td>\n",
       "      <td>NaN</td>\n",
       "      <td>NaN</td>\n",
       "      <td>NaN</td>\n",
       "      <td>NaN</td>\n",
       "      <td>NaN</td>\n",
       "      <td>NaN</td>\n",
       "      <td>NaN</td>\n",
       "    </tr>\n",
       "    <tr>\n",
       "      <th>3</th>\n",
       "      <td>20240226_bleach_KP_</td>\n",
       "      <td>50.683</td>\n",
       "      <td>41.33</td>\n",
       "      <td>110.004</td>\n",
       "      <td>-26.915</td>\n",
       "      <td>55.461</td>\n",
       "      <td>50.0</td>\n",
       "      <td>54.0</td>\n",
       "      <td>breakend</td>\n",
       "      <td>23.8</td>\n",
       "    </tr>\n",
       "    <tr>\n",
       "      <th>4</th>\n",
       "      <td>20240226_bleach_KP_</td>\n",
       "      <td>44.309</td>\n",
       "      <td>54.961</td>\n",
       "      <td>75.591</td>\n",
       "      <td>-22.476</td>\n",
       "      <td>46.235</td>\n",
       "      <td>42.0</td>\n",
       "      <td>42.0</td>\n",
       "      <td>ok</td>\n",
       "      <td>NaN</td>\n",
       "    </tr>\n",
       "    <tr>\n",
       "      <th>5</th>\n",
       "      <td>20240226_bleach_KP_</td>\n",
       "      <td>48.422</td>\n",
       "      <td>64.408</td>\n",
       "      <td>99.857</td>\n",
       "      <td>-27.903</td>\n",
       "      <td>58.445</td>\n",
       "      <td>50.0</td>\n",
       "      <td>51.0</td>\n",
       "      <td>slip</td>\n",
       "      <td>NaN</td>\n",
       "    </tr>\n",
       "  </tbody>\n",
       "</table>\n",
       "</div>"
      ],
      "text/plain": [
       "                 Batch         Young's Modulus  Yield Force  Break force  \\\n",
       "0                  NaN                   MPa/%            g            g   \n",
       "1                  NaN  Gradient St-Strain 1:2  Yield Force  Break force   \n",
       "2                  NaN                     NaN          NaN          NaN   \n",
       "3  20240226_bleach_KP_                  50.683        41.33      110.004   \n",
       "4  20240226_bleach_KP_                  44.309       54.961       75.591   \n",
       "5  20240226_bleach_KP_                  48.422       64.408       99.857   \n",
       "\n",
       "   Distance to Break  Break Strain  Unnamed: 6  Unnamed: 7 Unnamed: 8  \\\n",
       "0                 mm             %         NaN         NaN        NaN   \n",
       "1  Distance to Break  Break Strain         NaN         NaN        NaN   \n",
       "2                NaN           NaN         NaN         NaN        NaN   \n",
       "3            -26.915        55.461        50.0        54.0   breakend   \n",
       "4            -22.476        46.235        42.0        42.0         ok   \n",
       "5            -27.903        58.445        50.0        51.0       slip   \n",
       "\n",
       "   Unnamed: 9  \n",
       "0         NaN  \n",
       "1         NaN  \n",
       "2         NaN  \n",
       "3        23.8  \n",
       "4         NaN  \n",
       "5         NaN  "
      ]
     },
     "execution_count": 3,
     "metadata": {},
     "output_type": "execute_result"
    }
   ],
   "source": [
    "df = pd.read_excel(\"/Users/michaelmoret/Desktop/Externa/data/pulling/27-02-24/20240226_tensile_KP_8armMal_NC_100strand_output.xlsx\")\n",
    "df.head(6)"
   ]
  },
  {
   "cell_type": "code",
   "execution_count": 4,
   "metadata": {},
   "outputs": [],
   "source": [
    "TYPE = \"Break force\""
   ]
  },
  {
   "cell_type": "code",
   "execution_count": 5,
   "metadata": {},
   "outputs": [
    {
     "data": {
      "text/html": [
       "<div>\n",
       "<style scoped>\n",
       "    .dataframe tbody tr th:only-of-type {\n",
       "        vertical-align: middle;\n",
       "    }\n",
       "\n",
       "    .dataframe tbody tr th {\n",
       "        vertical-align: top;\n",
       "    }\n",
       "\n",
       "    .dataframe thead th {\n",
       "        text-align: right;\n",
       "    }\n",
       "</style>\n",
       "<table border=\"1\" class=\"dataframe\">\n",
       "  <thead>\n",
       "    <tr style=\"text-align: right;\">\n",
       "      <th></th>\n",
       "      <th>Batch</th>\n",
       "      <th>Young's Modulus</th>\n",
       "      <th>Yield Force</th>\n",
       "      <th>Break force</th>\n",
       "      <th>Distance to Break</th>\n",
       "      <th>Break Strain</th>\n",
       "      <th>Diameter 1</th>\n",
       "      <th>Diameter 2</th>\n",
       "      <th>Note</th>\n",
       "      <th>Humidity</th>\n",
       "    </tr>\n",
       "  </thead>\n",
       "  <tbody>\n",
       "    <tr>\n",
       "      <th>0</th>\n",
       "      <td>NaN</td>\n",
       "      <td>MPa/%</td>\n",
       "      <td>g</td>\n",
       "      <td>g</td>\n",
       "      <td>mm</td>\n",
       "      <td>%</td>\n",
       "      <td>NaN</td>\n",
       "      <td>NaN</td>\n",
       "      <td>NaN</td>\n",
       "      <td>NaN</td>\n",
       "    </tr>\n",
       "    <tr>\n",
       "      <th>1</th>\n",
       "      <td>NaN</td>\n",
       "      <td>Gradient St-Strain 1:2</td>\n",
       "      <td>Yield Force</td>\n",
       "      <td>Break force</td>\n",
       "      <td>Distance to Break</td>\n",
       "      <td>Break Strain</td>\n",
       "      <td>NaN</td>\n",
       "      <td>NaN</td>\n",
       "      <td>NaN</td>\n",
       "      <td>NaN</td>\n",
       "    </tr>\n",
       "  </tbody>\n",
       "</table>\n",
       "</div>"
      ],
      "text/plain": [
       "  Batch         Young's Modulus  Yield Force  Break force  Distance to Break  \\\n",
       "0   NaN                   MPa/%            g            g                 mm   \n",
       "1   NaN  Gradient St-Strain 1:2  Yield Force  Break force  Distance to Break   \n",
       "\n",
       "   Break Strain  Diameter 1  Diameter 2 Note  Humidity  \n",
       "0             %         NaN         NaN  NaN       NaN  \n",
       "1  Break Strain         NaN         NaN  NaN       NaN  "
      ]
     },
     "execution_count": 5,
     "metadata": {},
     "output_type": "execute_result"
    }
   ],
   "source": [
    "df = df.rename(columns={'Unnamed: 6': 'Diameter 1', \n",
    "                        'Unnamed: 7': 'Diameter 2',\n",
    "                        'Unnamed: 8': 'Note',\n",
    "                        'Unnamed: 9': 'Humidity',})\n",
    "df.head(2)"
   ]
  },
  {
   "cell_type": "code",
   "execution_count": 6,
   "metadata": {},
   "outputs": [
    {
     "data": {
      "text/html": [
       "<div>\n",
       "<style scoped>\n",
       "    .dataframe tbody tr th:only-of-type {\n",
       "        vertical-align: middle;\n",
       "    }\n",
       "\n",
       "    .dataframe tbody tr th {\n",
       "        vertical-align: top;\n",
       "    }\n",
       "\n",
       "    .dataframe thead th {\n",
       "        text-align: right;\n",
       "    }\n",
       "</style>\n",
       "<table border=\"1\" class=\"dataframe\">\n",
       "  <thead>\n",
       "    <tr style=\"text-align: right;\">\n",
       "      <th></th>\n",
       "      <th>Batch</th>\n",
       "      <th>Young's Modulus</th>\n",
       "      <th>Yield Force</th>\n",
       "      <th>Break force</th>\n",
       "      <th>Distance to Break</th>\n",
       "      <th>Break Strain</th>\n",
       "      <th>Diameter 1</th>\n",
       "      <th>Diameter 2</th>\n",
       "      <th>Note</th>\n",
       "    </tr>\n",
       "  </thead>\n",
       "  <tbody>\n",
       "    <tr>\n",
       "      <th>0</th>\n",
       "      <td>NaN</td>\n",
       "      <td>MPa/%</td>\n",
       "      <td>g</td>\n",
       "      <td>g</td>\n",
       "      <td>mm</td>\n",
       "      <td>%</td>\n",
       "      <td>NaN</td>\n",
       "      <td>NaN</td>\n",
       "      <td>NaN</td>\n",
       "    </tr>\n",
       "    <tr>\n",
       "      <th>1</th>\n",
       "      <td>NaN</td>\n",
       "      <td>Gradient St-Strain 1:2</td>\n",
       "      <td>Yield Force</td>\n",
       "      <td>Break force</td>\n",
       "      <td>Distance to Break</td>\n",
       "      <td>Break Strain</td>\n",
       "      <td>NaN</td>\n",
       "      <td>NaN</td>\n",
       "      <td>NaN</td>\n",
       "    </tr>\n",
       "  </tbody>\n",
       "</table>\n",
       "</div>"
      ],
      "text/plain": [
       "  Batch         Young's Modulus  Yield Force  Break force  Distance to Break  \\\n",
       "0   NaN                   MPa/%            g            g                 mm   \n",
       "1   NaN  Gradient St-Strain 1:2  Yield Force  Break force  Distance to Break   \n",
       "\n",
       "   Break Strain  Diameter 1  Diameter 2 Note  \n",
       "0             %         NaN         NaN  NaN  \n",
       "1  Break Strain         NaN         NaN  NaN  "
      ]
     },
     "execution_count": 6,
     "metadata": {},
     "output_type": "execute_result"
    }
   ],
   "source": [
    "df = df.drop('Humidity', axis=1)\n",
    "df.head(2)"
   ]
  },
  {
   "cell_type": "code",
   "execution_count": 7,
   "metadata": {},
   "outputs": [
    {
     "data": {
      "text/html": [
       "<div>\n",
       "<style scoped>\n",
       "    .dataframe tbody tr th:only-of-type {\n",
       "        vertical-align: middle;\n",
       "    }\n",
       "\n",
       "    .dataframe tbody tr th {\n",
       "        vertical-align: top;\n",
       "    }\n",
       "\n",
       "    .dataframe thead th {\n",
       "        text-align: right;\n",
       "    }\n",
       "</style>\n",
       "<table border=\"1\" class=\"dataframe\">\n",
       "  <thead>\n",
       "    <tr style=\"text-align: right;\">\n",
       "      <th></th>\n",
       "      <th>Batch</th>\n",
       "      <th>Young's Modulus</th>\n",
       "      <th>Yield Force</th>\n",
       "      <th>Break force</th>\n",
       "      <th>Distance to Break</th>\n",
       "      <th>Break Strain</th>\n",
       "      <th>Diameter 1</th>\n",
       "      <th>Diameter 2</th>\n",
       "      <th>Note</th>\n",
       "    </tr>\n",
       "  </thead>\n",
       "  <tbody>\n",
       "    <tr>\n",
       "      <th>3</th>\n",
       "      <td>20240226_bleach_KP_</td>\n",
       "      <td>50.683</td>\n",
       "      <td>41.33</td>\n",
       "      <td>110.004</td>\n",
       "      <td>-26.915</td>\n",
       "      <td>55.461</td>\n",
       "      <td>50.0</td>\n",
       "      <td>54.0</td>\n",
       "      <td>breakend</td>\n",
       "    </tr>\n",
       "    <tr>\n",
       "      <th>4</th>\n",
       "      <td>20240226_bleach_KP_</td>\n",
       "      <td>44.309</td>\n",
       "      <td>54.961</td>\n",
       "      <td>75.591</td>\n",
       "      <td>-22.476</td>\n",
       "      <td>46.235</td>\n",
       "      <td>42.0</td>\n",
       "      <td>42.0</td>\n",
       "      <td>ok</td>\n",
       "    </tr>\n",
       "  </tbody>\n",
       "</table>\n",
       "</div>"
      ],
      "text/plain": [
       "                 Batch Young's Modulus Yield Force Break force  \\\n",
       "3  20240226_bleach_KP_          50.683       41.33     110.004   \n",
       "4  20240226_bleach_KP_          44.309      54.961      75.591   \n",
       "\n",
       "  Distance to Break Break Strain  Diameter 1  Diameter 2      Note  \n",
       "3           -26.915       55.461        50.0        54.0  breakend  \n",
       "4           -22.476       46.235        42.0        42.0        ok  "
      ]
     },
     "execution_count": 7,
     "metadata": {},
     "output_type": "execute_result"
    }
   ],
   "source": [
    "df = df.dropna()\n",
    "df.head(2)"
   ]
  },
  {
   "cell_type": "code",
   "execution_count": 8,
   "metadata": {},
   "outputs": [
    {
     "data": {
      "text/html": [
       "<div>\n",
       "<style scoped>\n",
       "    .dataframe tbody tr th:only-of-type {\n",
       "        vertical-align: middle;\n",
       "    }\n",
       "\n",
       "    .dataframe tbody tr th {\n",
       "        vertical-align: top;\n",
       "    }\n",
       "\n",
       "    .dataframe thead th {\n",
       "        text-align: right;\n",
       "    }\n",
       "</style>\n",
       "<table border=\"1\" class=\"dataframe\">\n",
       "  <thead>\n",
       "    <tr style=\"text-align: right;\">\n",
       "      <th></th>\n",
       "      <th>Batch</th>\n",
       "      <th>Young's Modulus</th>\n",
       "      <th>Yield Force</th>\n",
       "      <th>Break force</th>\n",
       "      <th>Distance to Break</th>\n",
       "      <th>Break Strain</th>\n",
       "      <th>Diameter 1</th>\n",
       "      <th>Diameter 2</th>\n",
       "      <th>Note</th>\n",
       "    </tr>\n",
       "  </thead>\n",
       "  <tbody>\n",
       "    <tr>\n",
       "      <th>3</th>\n",
       "      <td>20240226_bleach_KP_</td>\n",
       "      <td>50.683</td>\n",
       "      <td>41.33</td>\n",
       "      <td>110.004</td>\n",
       "      <td>-26.915</td>\n",
       "      <td>55.461</td>\n",
       "      <td>50.0</td>\n",
       "      <td>54.0</td>\n",
       "      <td>breakend</td>\n",
       "    </tr>\n",
       "    <tr>\n",
       "      <th>4</th>\n",
       "      <td>20240226_bleach_KP_</td>\n",
       "      <td>44.309</td>\n",
       "      <td>54.961</td>\n",
       "      <td>75.591</td>\n",
       "      <td>-22.476</td>\n",
       "      <td>46.235</td>\n",
       "      <td>42.0</td>\n",
       "      <td>42.0</td>\n",
       "      <td>ok</td>\n",
       "    </tr>\n",
       "  </tbody>\n",
       "</table>\n",
       "</div>"
      ],
      "text/plain": [
       "                 Batch  Young's Modulus Yield Force  Break force  \\\n",
       "3  20240226_bleach_KP_           50.683       41.33      110.004   \n",
       "4  20240226_bleach_KP_           44.309      54.961       75.591   \n",
       "\n",
       "   Distance to Break Break Strain  Diameter 1  Diameter 2      Note  \n",
       "3            -26.915       55.461        50.0        54.0  breakend  \n",
       "4            -22.476       46.235        42.0        42.0        ok  "
      ]
     },
     "execution_count": 8,
     "metadata": {},
     "output_type": "execute_result"
    }
   ],
   "source": [
    "df['Break force'] = df['Break force'].astype(float)\n",
    "df['Young\\'s Modulus'] = df['Young\\'s Modulus'].astype(float)\n",
    "df['Distance to Break'] = df['Distance to Break'].astype(float)\n",
    "#df['Toughness'] = df['Toughness'].astype(float)\n",
    "df['Diameter 1'] = df['Diameter 1'].astype(float)\n",
    "df['Diameter 2'] = df['Diameter 2'].astype(float)\n",
    "#df['Humidity'] = df['Humidity'].astype(float)\n",
    "\n",
    "df.head(2)"
   ]
  },
  {
   "cell_type": "code",
   "execution_count": 9,
   "metadata": {},
   "outputs": [],
   "source": [
    "#df = df[df['Test ID'] != 'Average:']\n",
    "#df = df[df['Test ID'] != 'S.D.']\n",
    "#df = df[df['Test ID'] != 'Coef. of Variation']"
   ]
  },
  {
   "cell_type": "code",
   "execution_count": 10,
   "metadata": {},
   "outputs": [],
   "source": [
    "df['Average'] = ((df['Diameter 1'] + df['Diameter 2']) / 2 )/1000\n",
    "df['Area'] = math.pi * (df['Average'] / 2)**2"
   ]
  },
  {
   "cell_type": "code",
   "execution_count": 11,
   "metadata": {},
   "outputs": [],
   "source": [
    "df['Baseline area'] = math.pi * 0.035**2\n",
    "df['Updated Young\\'s Modulus'] = df['Young\\'s Modulus'] * (df['Baseline area'] / df['Area'])"
   ]
  },
  {
   "cell_type": "code",
   "execution_count": 12,
   "metadata": {},
   "outputs": [],
   "source": [
    "df['Break stress'] = df['Break force'] / df['Area'] / 1000"
   ]
  },
  {
   "cell_type": "code",
   "execution_count": 13,
   "metadata": {},
   "outputs": [
    {
     "data": {
      "text/html": [
       "<div>\n",
       "<style scoped>\n",
       "    .dataframe tbody tr th:only-of-type {\n",
       "        vertical-align: middle;\n",
       "    }\n",
       "\n",
       "    .dataframe tbody tr th {\n",
       "        vertical-align: top;\n",
       "    }\n",
       "\n",
       "    .dataframe thead th {\n",
       "        text-align: right;\n",
       "    }\n",
       "</style>\n",
       "<table border=\"1\" class=\"dataframe\">\n",
       "  <thead>\n",
       "    <tr style=\"text-align: right;\">\n",
       "      <th></th>\n",
       "      <th>Batch</th>\n",
       "      <th>Young's Modulus</th>\n",
       "      <th>Yield Force</th>\n",
       "      <th>Break force</th>\n",
       "      <th>Distance to Break</th>\n",
       "      <th>Break Strain</th>\n",
       "      <th>Diameter 1</th>\n",
       "      <th>Diameter 2</th>\n",
       "      <th>Note</th>\n",
       "      <th>Average</th>\n",
       "      <th>Area</th>\n",
       "      <th>Baseline area</th>\n",
       "      <th>Updated Young's Modulus</th>\n",
       "      <th>Break stress</th>\n",
       "    </tr>\n",
       "  </thead>\n",
       "  <tbody>\n",
       "    <tr>\n",
       "      <th>3</th>\n",
       "      <td>20240226_bleach_KP_</td>\n",
       "      <td>50.683</td>\n",
       "      <td>41.33</td>\n",
       "      <td>110.004</td>\n",
       "      <td>-26.915</td>\n",
       "      <td>55.461</td>\n",
       "      <td>50.0</td>\n",
       "      <td>54.0</td>\n",
       "      <td>breakend</td>\n",
       "      <td>0.052</td>\n",
       "      <td>0.002124</td>\n",
       "      <td>0.003848</td>\n",
       "      <td>91.844194</td>\n",
       "      <td>51.797871</td>\n",
       "    </tr>\n",
       "    <tr>\n",
       "      <th>4</th>\n",
       "      <td>20240226_bleach_KP_</td>\n",
       "      <td>44.309</td>\n",
       "      <td>54.961</td>\n",
       "      <td>75.591</td>\n",
       "      <td>-22.476</td>\n",
       "      <td>46.235</td>\n",
       "      <td>42.0</td>\n",
       "      <td>42.0</td>\n",
       "      <td>ok</td>\n",
       "      <td>0.042</td>\n",
       "      <td>0.001385</td>\n",
       "      <td>0.003848</td>\n",
       "      <td>123.080556</td>\n",
       "      <td>54.560913</td>\n",
       "    </tr>\n",
       "  </tbody>\n",
       "</table>\n",
       "</div>"
      ],
      "text/plain": [
       "                 Batch  Young's Modulus Yield Force  Break force  \\\n",
       "3  20240226_bleach_KP_           50.683       41.33      110.004   \n",
       "4  20240226_bleach_KP_           44.309      54.961       75.591   \n",
       "\n",
       "   Distance to Break Break Strain  Diameter 1  Diameter 2      Note  Average  \\\n",
       "3            -26.915       55.461        50.0        54.0  breakend    0.052   \n",
       "4            -22.476       46.235        42.0        42.0        ok    0.042   \n",
       "\n",
       "       Area  Baseline area  Updated Young's Modulus  Break stress  \n",
       "3  0.002124       0.003848                91.844194     51.797871  \n",
       "4  0.001385       0.003848               123.080556     54.560913  "
      ]
     },
     "execution_count": 13,
     "metadata": {},
     "output_type": "execute_result"
    }
   ],
   "source": [
    "df.head(2)"
   ]
  },
  {
   "cell_type": "code",
   "execution_count": 14,
   "metadata": {},
   "outputs": [
    {
     "data": {
      "text/plain": [
       "300"
      ]
     },
     "execution_count": 14,
     "metadata": {},
     "output_type": "execute_result"
    }
   ],
   "source": [
    "len(df)"
   ]
  },
  {
   "cell_type": "code",
   "execution_count": 15,
   "metadata": {},
   "outputs": [
    {
     "data": {
      "text/plain": [
       "<Figure size 1000x600 with 0 Axes>"
      ]
     },
     "metadata": {},
     "output_type": "display_data"
    },
    {
     "data": {
      "image/png": "[encoded data removed]",
      "text/plain": [
       "<Figure size 640x480 with 1 Axes>"
      ]
     },
     "metadata": {},
     "output_type": "display_data"
    }
   ],
   "source": [
    "def do_plot(df):\n",
    "    plt.figure(figsize=(10, 6))\n",
    "    df.boxplot(column=TYPE, by='Batch')\n",
    "    plt.xlabel('Name')\n",
    "    plt.ylabel(TYPE)\n",
    "    plt.xticks(rotation=65)\n",
    "    ## y axis from 20 to 90\n",
    "    #plt.ylim(15, 90)\n",
    "    plt.show()\n",
    "    \n",
    "\n",
    "do_plot(df)\n"
   ]
  },
  {
   "cell_type": "code",
   "execution_count": 16,
   "metadata": {},
   "outputs": [
    {
     "name": "stdout",
     "output_type": "stream",
     "text": [
      "Batch\n",
      "20240226_bleach_8AP_    22.641234\n",
      "20240226_bleach_KP_     23.396075\n",
      "20240226_bleach_NC_     22.260583\n",
      "Name: Break force, dtype: float64\n"
     ]
    }
   ],
   "source": [
    "std_by_batch_all = df.groupby('Batch')[TYPE].std()\n",
    "print(std_by_batch_all)"
   ]
  },
  {
   "cell_type": "code",
   "execution_count": 17,
   "metadata": {},
   "outputs": [
    {
     "data": {
      "text/plain": [
       "(                      20240226_bleach_KP_  20240226_bleach_8AP_  \\\n",
       " 20240226_bleach_KP_                 1.000                 0.569   \n",
       " 20240226_bleach_8AP_                0.569                 1.000   \n",
       " 20240226_bleach_NC_                 0.269                 0.077   \n",
       " \n",
       "                       20240226_bleach_NC_  \n",
       " 20240226_bleach_KP_                 0.269  \n",
       " 20240226_bleach_8AP_                0.077  \n",
       " 20240226_bleach_NC_                 1.000  ,\n",
       "                       20240226_bleach_KP_  20240226_bleach_8AP_  \\\n",
       " 20240226_bleach_KP_                 -1.00                996.52   \n",
       " 20240226_bleach_8AP_               996.52                 -1.00   \n",
       " 20240226_bleach_NC_                831.87                218.62   \n",
       " \n",
       "                       20240226_bleach_NC_  \n",
       " 20240226_bleach_KP_                831.87  \n",
       " 20240226_bleach_8AP_               218.62  \n",
       " 20240226_bleach_NC_                 -1.00  )"
      ]
     },
     "execution_count": 17,
     "metadata": {},
     "output_type": "execute_result"
    }
   ],
   "source": [
    "hp.get_pvalue_and_sample_size(df, TYPE)"
   ]
  },
  {
   "cell_type": "code",
   "execution_count": 18,
   "metadata": {},
   "outputs": [
    {
     "name": "stdout",
     "output_type": "stream",
     "text": [
      "['breakend' 'ok' 'slip' 'short' 'breakend, slip' 'almost breakend' 'ok!'\n",
      " 'okkk' 'OK' 'ALMOST BREAKEND' 'early-weakness' 'breakend, earlyish '\n",
      " 'great' 'ok but short' 'early' 'earlyish' 'ok ' 'breakend earlyish']\n"
     ]
    }
   ],
   "source": [
    "unique_values = df['Note'].unique()\n",
    "print(unique_values)"
   ]
  },
  {
   "cell_type": "markdown",
   "metadata": {},
   "source": [
    "let's remove all but ok"
   ]
  },
  {
   "cell_type": "code",
   "execution_count": 19,
   "metadata": {},
   "outputs": [
    {
     "data": {
      "text/plain": [
       "300"
      ]
     },
     "execution_count": 19,
     "metadata": {},
     "output_type": "execute_result"
    }
   ],
   "source": [
    "len(df)"
   ]
  },
  {
   "cell_type": "code",
   "execution_count": 20,
   "metadata": {},
   "outputs": [
    {
     "name": "stdout",
     "output_type": "stream",
     "text": [
      "Batch\n",
      "20240226_bleach_KP_     100\n",
      "20240226_bleach_8AP_    100\n",
      "20240226_bleach_NC_     100\n",
      "Name: count, dtype: int64\n"
     ]
    }
   ],
   "source": [
    "count_by_batch = df['Batch'].value_counts()\n",
    "print(count_by_batch)"
   ]
  },
  {
   "cell_type": "code",
   "execution_count": 21,
   "metadata": {},
   "outputs": [
    {
     "data": {
      "text/plain": [
       "138"
      ]
     },
     "execution_count": 21,
     "metadata": {},
     "output_type": "execute_result"
    }
   ],
   "source": [
    "df = df[df['Note'].isin(['ok', 'ok!', 'okkk', 'OK', 'good', 'great', 'ok '])]\n",
    "len(df)"
   ]
  },
  {
   "cell_type": "code",
   "execution_count": 22,
   "metadata": {},
   "outputs": [
    {
     "name": "stdout",
     "output_type": "stream",
     "text": [
      "Batch\n",
      "20240226_bleach_KP_     46\n",
      "20240226_bleach_8AP_    46\n",
      "20240226_bleach_NC_     46\n",
      "Name: count, dtype: int64\n"
     ]
    }
   ],
   "source": [
    "count_by_batch = df['Batch'].value_counts()\n",
    "print(count_by_batch)"
   ]
  },
  {
   "cell_type": "code",
   "execution_count": 23,
   "metadata": {},
   "outputs": [
    {
     "data": {
      "text/plain": [
       "<Figure size 1000x600 with 0 Axes>"
      ]
     },
     "metadata": {},
     "output_type": "display_data"
    },
    {
     "data": {
      "image/png": "[encoded data removed]",
      "text/plain": [
       "<Figure size 640x480 with 1 Axes>"
      ]
     },
     "metadata": {},
     "output_type": "display_data"
    }
   ],
   "source": [
    "do_plot(df)"
   ]
  },
  {
   "cell_type": "code",
   "execution_count": 24,
   "metadata": {},
   "outputs": [
    {
     "name": "stdout",
     "output_type": "stream",
     "text": [
      "Batch\n",
      "20240226_bleach_8AP_    24.599931\n",
      "20240226_bleach_KP_     22.391421\n",
      "20240226_bleach_NC_     19.101223\n",
      "Name: Break force, dtype: float64\n"
     ]
    }
   ],
   "source": [
    "std_by_batch_ok = df.groupby('Batch')[TYPE].std()\n",
    "print(std_by_batch_ok)"
   ]
  },
  {
   "cell_type": "code",
   "execution_count": 25,
   "metadata": {},
   "outputs": [
    {
     "data": {
      "text/html": [
       "<div>\n",
       "<style scoped>\n",
       "    .dataframe tbody tr th:only-of-type {\n",
       "        vertical-align: middle;\n",
       "    }\n",
       "\n",
       "    .dataframe tbody tr th {\n",
       "        vertical-align: top;\n",
       "    }\n",
       "\n",
       "    .dataframe thead th {\n",
       "        text-align: right;\n",
       "    }\n",
       "</style>\n",
       "<table border=\"1\" class=\"dataframe\">\n",
       "  <thead>\n",
       "    <tr style=\"text-align: right;\">\n",
       "      <th></th>\n",
       "      <th>std all</th>\n",
       "      <th>std ok</th>\n",
       "    </tr>\n",
       "    <tr>\n",
       "      <th>Batch</th>\n",
       "      <th></th>\n",
       "      <th></th>\n",
       "    </tr>\n",
       "  </thead>\n",
       "  <tbody>\n",
       "    <tr>\n",
       "      <th>20240226_bleach_8AP_</th>\n",
       "      <td>22.641234</td>\n",
       "      <td>24.599931</td>\n",
       "    </tr>\n",
       "    <tr>\n",
       "      <th>20240226_bleach_KP_</th>\n",
       "      <td>23.396075</td>\n",
       "      <td>22.391421</td>\n",
       "    </tr>\n",
       "    <tr>\n",
       "      <th>20240226_bleach_NC_</th>\n",
       "      <td>22.260583</td>\n",
       "      <td>19.101223</td>\n",
       "    </tr>\n",
       "  </tbody>\n",
       "</table>\n",
       "</div>"
      ],
      "text/plain": [
       "                        std all     std ok\n",
       "Batch                                     \n",
       "20240226_bleach_8AP_  22.641234  24.599931\n",
       "20240226_bleach_KP_   23.396075  22.391421\n",
       "20240226_bleach_NC_   22.260583  19.101223"
      ]
     },
     "execution_count": 25,
     "metadata": {},
     "output_type": "execute_result"
    }
   ],
   "source": [
    "merged_df = pd.concat([std_by_batch_all, std_by_batch_ok], axis=1)\n",
    "merged_df.columns = ['std all', 'std ok']\n",
    "merged_df"
   ]
  },
  {
   "cell_type": "code",
   "execution_count": 26,
   "metadata": {},
   "outputs": [
    {
     "data": {
      "text/plain": [
       "(                      20240226_bleach_KP_  20240226_bleach_8AP_  \\\n",
       " 20240226_bleach_KP_                 1.000                 0.782   \n",
       " 20240226_bleach_8AP_                0.782                 1.000   \n",
       " 20240226_bleach_NC_                 0.569                 0.818   \n",
       " \n",
       "                       20240226_bleach_NC_  \n",
       " 20240226_bleach_KP_                 0.569  \n",
       " 20240226_bleach_8AP_                0.818  \n",
       " 20240226_bleach_NC_                 1.000  ,\n",
       "                       20240226_bleach_KP_  20240226_bleach_8AP_  \\\n",
       " 20240226_bleach_KP_                 -1.00               6239.55   \n",
       " 20240226_bleach_8AP_              6239.55                 -1.00   \n",
       " 20240226_bleach_NC_                646.43               1785.31   \n",
       " \n",
       "                       20240226_bleach_NC_  \n",
       " 20240226_bleach_KP_                646.43  \n",
       " 20240226_bleach_8AP_              1785.31  \n",
       " 20240226_bleach_NC_                 -1.00  )"
      ]
     },
     "execution_count": 26,
     "metadata": {},
     "output_type": "execute_result"
    }
   ],
   "source": [
    "hp.get_pvalue_and_sample_size(df, TYPE)"
   ]
  },
  {
   "cell_type": "markdown",
   "metadata": {},
   "source": [
    "more check"
   ]
  },
  {
   "cell_type": "code",
   "execution_count": 27,
   "metadata": {},
   "outputs": [
    {
     "name": "stdout",
     "output_type": "stream",
     "text": [
      "Batch\n",
      "20240226_bleach_8AP_    85.793065\n",
      "20240226_bleach_KP_     86.972957\n",
      "20240226_bleach_NC_     83.727435\n",
      "Name: Break force, dtype: float64\n"
     ]
    }
   ],
   "source": [
    "bio = df.groupby('Batch')[TYPE].mean()\n",
    "print(bio)"
   ]
  },
  {
   "cell_type": "code",
   "execution_count": 28,
   "metadata": {},
   "outputs": [
    {
     "name": "stdout",
     "output_type": "stream",
     "text": [
      "Batch\n",
      "20240226_bleach_8AP_    85.266\n",
      "20240226_bleach_KP_     88.049\n",
      "20240226_bleach_NC_     83.290\n",
      "Name: Break force, dtype: float64\n"
     ]
    }
   ],
   "source": [
    "bio = df.groupby('Batch')[TYPE].median()\n",
    "print(bio)"
   ]
  },
  {
   "cell_type": "code",
   "execution_count": null,
   "metadata": {},
   "outputs": [],
   "source": []
  }
 ],
 "metadata": {
  "kernelspec": {
   "display_name": "Python 3 (ipykernel)",
   "language": "python",
   "name": "python3"
  },
  "language_info": {
   "codemirror_mode": {
    "name": "ipython",
    "version": 3
   },
   "file_extension": ".py",
   "mimetype": "text/x-python",
   "name": "python",
   "nbconvert_exporter": "python",
   "pygments_lexer": "ipython3",
   "version": "3.9.18"
  }
 },
 "nbformat": 4,
 "nbformat_minor": 2
}
