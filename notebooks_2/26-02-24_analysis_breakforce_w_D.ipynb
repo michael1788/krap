{
 "cells": [
  {
   "attachments": {},
   "cell_type": "markdown",
   "metadata": {},
   "source": [
    "### Goal"
   ]
  },
  {
   "cell_type": "code",
   "execution_count": 1,
   "metadata": {},
   "outputs": [],
   "source": [
    "%load_ext autoreload\n",
    "%autoreload 2"
   ]
  },
  {
   "cell_type": "code",
   "execution_count": 2,
   "metadata": {},
   "outputs": [],
   "source": [
    "import os, sys\n",
    "import pandas as pd\n",
    "import numpy as np\n",
    "import math\n",
    "\n",
    "import matplotlib.pyplot as plt\n",
    "\n",
    "sys.path.append(\"..\")\n",
    "import helper as hp"
   ]
  },
  {
   "cell_type": "code",
   "execution_count": 3,
   "metadata": {},
   "outputs": [
    {
     "data": {
      "text/html": [
       "<div>\n",
       "<style scoped>\n",
       "    .dataframe tbody tr th:only-of-type {\n",
       "        vertical-align: middle;\n",
       "    }\n",
       "\n",
       "    .dataframe tbody tr th {\n",
       "        vertical-align: top;\n",
       "    }\n",
       "\n",
       "    .dataframe thead th {\n",
       "        text-align: right;\n",
       "    }\n",
       "</style>\n",
       "<table border=\"1\" class=\"dataframe\">\n",
       "  <thead>\n",
       "    <tr style=\"text-align: right;\">\n",
       "      <th></th>\n",
       "      <th>Test ID</th>\n",
       "      <th>Batch</th>\n",
       "      <th>Young's Modulus</th>\n",
       "      <th>Yield Force</th>\n",
       "      <th>Break force</th>\n",
       "      <th>Distance to Break</th>\n",
       "      <th>Break Strain</th>\n",
       "      <th>Unnamed: 7</th>\n",
       "      <th>Unnamed: 8</th>\n",
       "      <th>Unnamed: 9</th>\n",
       "      <th>Unnamed: 10</th>\n",
       "    </tr>\n",
       "  </thead>\n",
       "  <tbody>\n",
       "    <tr>\n",
       "      <th>0</th>\n",
       "      <td>NaN</td>\n",
       "      <td>NaN</td>\n",
       "      <td>MPa/%</td>\n",
       "      <td>g</td>\n",
       "      <td>g</td>\n",
       "      <td>mm</td>\n",
       "      <td>%</td>\n",
       "      <td>NaN</td>\n",
       "      <td>NaN</td>\n",
       "      <td>NaN</td>\n",
       "      <td>NaN</td>\n",
       "    </tr>\n",
       "    <tr>\n",
       "      <th>1</th>\n",
       "      <td>NaN</td>\n",
       "      <td>NaN</td>\n",
       "      <td>Gradient St-Strain 1:2</td>\n",
       "      <td>Yield Force</td>\n",
       "      <td>Break force</td>\n",
       "      <td>Distance to Break</td>\n",
       "      <td>Break Strain</td>\n",
       "      <td>NaN</td>\n",
       "      <td>NaN</td>\n",
       "      <td>NaN</td>\n",
       "      <td>NaN</td>\n",
       "    </tr>\n",
       "    <tr>\n",
       "      <th>2</th>\n",
       "      <td>NaN</td>\n",
       "      <td>NaN</td>\n",
       "      <td>NaN</td>\n",
       "      <td>NaN</td>\n",
       "      <td>NaN</td>\n",
       "      <td>NaN</td>\n",
       "      <td>NaN</td>\n",
       "      <td>NaN</td>\n",
       "      <td>NaN</td>\n",
       "      <td>NaN</td>\n",
       "      <td>NaN</td>\n",
       "    </tr>\n",
       "    <tr>\n",
       "      <th>3</th>\n",
       "      <td>Start Batch 20240225_KerlingBleach_AA_NC_</td>\n",
       "      <td>20240225_KerlingBleach_AA_NC_</td>\n",
       "      <td>NaN</td>\n",
       "      <td>NaN</td>\n",
       "      <td>NaN</td>\n",
       "      <td>NaN</td>\n",
       "      <td>NaN</td>\n",
       "      <td>NaN</td>\n",
       "      <td>NaN</td>\n",
       "      <td>NaN</td>\n",
       "      <td>NaN</td>\n",
       "    </tr>\n",
       "    <tr>\n",
       "      <th>4</th>\n",
       "      <td>20240225_KerlingBleach_AA_NC_1</td>\n",
       "      <td>20240225_KerlingBleach_AA_NC_</td>\n",
       "      <td>42.004</td>\n",
       "      <td>47.953</td>\n",
       "      <td>88.562</td>\n",
       "      <td>-25.304</td>\n",
       "      <td>59.843</td>\n",
       "      <td>51.0</td>\n",
       "      <td>47.0</td>\n",
       "      <td>(RH 6.5) breakend</td>\n",
       "      <td>NaN</td>\n",
       "    </tr>\n",
       "    <tr>\n",
       "      <th>5</th>\n",
       "      <td>20240225_KerlingBleach_AA_NC_2</td>\n",
       "      <td>20240225_KerlingBleach_AA_NC_</td>\n",
       "      <td>34.217</td>\n",
       "      <td>45.606</td>\n",
       "      <td>67.648</td>\n",
       "      <td>-22.316</td>\n",
       "      <td>53.676</td>\n",
       "      <td>40.0</td>\n",
       "      <td>39.0</td>\n",
       "      <td>breakend</td>\n",
       "      <td>NaN</td>\n",
       "    </tr>\n",
       "  </tbody>\n",
       "</table>\n",
       "</div>"
      ],
      "text/plain": [
       "                                     Test ID                          Batch  \\\n",
       "0                                        NaN                            NaN   \n",
       "1                                        NaN                            NaN   \n",
       "2                                        NaN                            NaN   \n",
       "3  Start Batch 20240225_KerlingBleach_AA_NC_  20240225_KerlingBleach_AA_NC_   \n",
       "4             20240225_KerlingBleach_AA_NC_1  20240225_KerlingBleach_AA_NC_   \n",
       "5             20240225_KerlingBleach_AA_NC_2  20240225_KerlingBleach_AA_NC_   \n",
       "\n",
       "          Young's Modulus  Yield Force  Break force  Distance to Break  \\\n",
       "0                   MPa/%            g            g                 mm   \n",
       "1  Gradient St-Strain 1:2  Yield Force  Break force  Distance to Break   \n",
       "2                     NaN          NaN          NaN                NaN   \n",
       "3                     NaN          NaN          NaN                NaN   \n",
       "4                  42.004       47.953       88.562            -25.304   \n",
       "5                  34.217       45.606       67.648            -22.316   \n",
       "\n",
       "   Break Strain  Unnamed: 7  Unnamed: 8         Unnamed: 9  Unnamed: 10  \n",
       "0             %         NaN         NaN                NaN          NaN  \n",
       "1  Break Strain         NaN         NaN                NaN          NaN  \n",
       "2           NaN         NaN         NaN                NaN          NaN  \n",
       "3           NaN         NaN         NaN                NaN          NaN  \n",
       "4        59.843        51.0        47.0  (RH 6.5) breakend          NaN  \n",
       "5        53.676        40.0        39.0           breakend          NaN  "
      ]
     },
     "execution_count": 3,
     "metadata": {},
     "output_type": "execute_result"
    }
   ],
   "source": [
    "df = pd.read_excel(\"/Users/michaelmoret/Desktop/Externa/data/pulling/25-02-24/20240225_Sec100.xlsx\")\n",
    "df.head(6)"
   ]
  },
  {
   "cell_type": "code",
   "execution_count": 4,
   "metadata": {},
   "outputs": [],
   "source": [
    "TYPE = \"Break force\""
   ]
  },
  {
   "cell_type": "code",
   "execution_count": 5,
   "metadata": {},
   "outputs": [
    {
     "data": {
      "text/html": [
       "<div>\n",
       "<style scoped>\n",
       "    .dataframe tbody tr th:only-of-type {\n",
       "        vertical-align: middle;\n",
       "    }\n",
       "\n",
       "    .dataframe tbody tr th {\n",
       "        vertical-align: top;\n",
       "    }\n",
       "\n",
       "    .dataframe thead th {\n",
       "        text-align: right;\n",
       "    }\n",
       "</style>\n",
       "<table border=\"1\" class=\"dataframe\">\n",
       "  <thead>\n",
       "    <tr style=\"text-align: right;\">\n",
       "      <th></th>\n",
       "      <th>Test ID</th>\n",
       "      <th>Batch</th>\n",
       "      <th>Young's Modulus</th>\n",
       "      <th>Yield Force</th>\n",
       "      <th>Break force</th>\n",
       "      <th>Distance to Break</th>\n",
       "      <th>Break Strain</th>\n",
       "      <th>Diameter 1</th>\n",
       "      <th>Diameter 2</th>\n",
       "      <th>Note</th>\n",
       "      <th>Humidity</th>\n",
       "    </tr>\n",
       "  </thead>\n",
       "  <tbody>\n",
       "    <tr>\n",
       "      <th>0</th>\n",
       "      <td>NaN</td>\n",
       "      <td>NaN</td>\n",
       "      <td>MPa/%</td>\n",
       "      <td>g</td>\n",
       "      <td>g</td>\n",
       "      <td>mm</td>\n",
       "      <td>%</td>\n",
       "      <td>NaN</td>\n",
       "      <td>NaN</td>\n",
       "      <td>NaN</td>\n",
       "      <td>NaN</td>\n",
       "    </tr>\n",
       "    <tr>\n",
       "      <th>1</th>\n",
       "      <td>NaN</td>\n",
       "      <td>NaN</td>\n",
       "      <td>Gradient St-Strain 1:2</td>\n",
       "      <td>Yield Force</td>\n",
       "      <td>Break force</td>\n",
       "      <td>Distance to Break</td>\n",
       "      <td>Break Strain</td>\n",
       "      <td>NaN</td>\n",
       "      <td>NaN</td>\n",
       "      <td>NaN</td>\n",
       "      <td>NaN</td>\n",
       "    </tr>\n",
       "  </tbody>\n",
       "</table>\n",
       "</div>"
      ],
      "text/plain": [
       "  Test ID Batch         Young's Modulus  Yield Force  Break force  \\\n",
       "0     NaN   NaN                   MPa/%            g            g   \n",
       "1     NaN   NaN  Gradient St-Strain 1:2  Yield Force  Break force   \n",
       "\n",
       "   Distance to Break  Break Strain  Diameter 1  Diameter 2 Note  Humidity  \n",
       "0                 mm             %         NaN         NaN  NaN       NaN  \n",
       "1  Distance to Break  Break Strain         NaN         NaN  NaN       NaN  "
      ]
     },
     "execution_count": 5,
     "metadata": {},
     "output_type": "execute_result"
    }
   ],
   "source": [
    "df = df.rename(columns={'Unnamed: 7': 'Diameter 1', \n",
    "                        'Unnamed: 8': 'Diameter 2',\n",
    "                        'Unnamed: 9': 'Note',\n",
    "                        'Unnamed: 10': 'Humidity',})\n",
    "df.head(2)"
   ]
  },
  {
   "cell_type": "code",
   "execution_count": 6,
   "metadata": {},
   "outputs": [
    {
     "data": {
      "text/html": [
       "<div>\n",
       "<style scoped>\n",
       "    .dataframe tbody tr th:only-of-type {\n",
       "        vertical-align: middle;\n",
       "    }\n",
       "\n",
       "    .dataframe tbody tr th {\n",
       "        vertical-align: top;\n",
       "    }\n",
       "\n",
       "    .dataframe thead th {\n",
       "        text-align: right;\n",
       "    }\n",
       "</style>\n",
       "<table border=\"1\" class=\"dataframe\">\n",
       "  <thead>\n",
       "    <tr style=\"text-align: right;\">\n",
       "      <th></th>\n",
       "      <th>Test ID</th>\n",
       "      <th>Batch</th>\n",
       "      <th>Young's Modulus</th>\n",
       "      <th>Yield Force</th>\n",
       "      <th>Break force</th>\n",
       "      <th>Distance to Break</th>\n",
       "      <th>Break Strain</th>\n",
       "      <th>Diameter 1</th>\n",
       "      <th>Diameter 2</th>\n",
       "      <th>Note</th>\n",
       "    </tr>\n",
       "  </thead>\n",
       "  <tbody>\n",
       "    <tr>\n",
       "      <th>0</th>\n",
       "      <td>NaN</td>\n",
       "      <td>NaN</td>\n",
       "      <td>MPa/%</td>\n",
       "      <td>g</td>\n",
       "      <td>g</td>\n",
       "      <td>mm</td>\n",
       "      <td>%</td>\n",
       "      <td>NaN</td>\n",
       "      <td>NaN</td>\n",
       "      <td>NaN</td>\n",
       "    </tr>\n",
       "    <tr>\n",
       "      <th>1</th>\n",
       "      <td>NaN</td>\n",
       "      <td>NaN</td>\n",
       "      <td>Gradient St-Strain 1:2</td>\n",
       "      <td>Yield Force</td>\n",
       "      <td>Break force</td>\n",
       "      <td>Distance to Break</td>\n",
       "      <td>Break Strain</td>\n",
       "      <td>NaN</td>\n",
       "      <td>NaN</td>\n",
       "      <td>NaN</td>\n",
       "    </tr>\n",
       "  </tbody>\n",
       "</table>\n",
       "</div>"
      ],
      "text/plain": [
       "  Test ID Batch         Young's Modulus  Yield Force  Break force  \\\n",
       "0     NaN   NaN                   MPa/%            g            g   \n",
       "1     NaN   NaN  Gradient St-Strain 1:2  Yield Force  Break force   \n",
       "\n",
       "   Distance to Break  Break Strain  Diameter 1  Diameter 2 Note  \n",
       "0                 mm             %         NaN         NaN  NaN  \n",
       "1  Distance to Break  Break Strain         NaN         NaN  NaN  "
      ]
     },
     "execution_count": 6,
     "metadata": {},
     "output_type": "execute_result"
    }
   ],
   "source": [
    "df = df.drop('Humidity', axis=1)\n",
    "df.head(2)"
   ]
  },
  {
   "cell_type": "code",
   "execution_count": 7,
   "metadata": {},
   "outputs": [
    {
     "data": {
      "text/html": [
       "<div>\n",
       "<style scoped>\n",
       "    .dataframe tbody tr th:only-of-type {\n",
       "        vertical-align: middle;\n",
       "    }\n",
       "\n",
       "    .dataframe tbody tr th {\n",
       "        vertical-align: top;\n",
       "    }\n",
       "\n",
       "    .dataframe thead th {\n",
       "        text-align: right;\n",
       "    }\n",
       "</style>\n",
       "<table border=\"1\" class=\"dataframe\">\n",
       "  <thead>\n",
       "    <tr style=\"text-align: right;\">\n",
       "      <th></th>\n",
       "      <th>Test ID</th>\n",
       "      <th>Batch</th>\n",
       "      <th>Young's Modulus</th>\n",
       "      <th>Yield Force</th>\n",
       "      <th>Break force</th>\n",
       "      <th>Distance to Break</th>\n",
       "      <th>Break Strain</th>\n",
       "      <th>Diameter 1</th>\n",
       "      <th>Diameter 2</th>\n",
       "      <th>Note</th>\n",
       "    </tr>\n",
       "  </thead>\n",
       "  <tbody>\n",
       "    <tr>\n",
       "      <th>4</th>\n",
       "      <td>20240225_KerlingBleach_AA_NC_1</td>\n",
       "      <td>20240225_KerlingBleach_AA_NC_</td>\n",
       "      <td>42.004</td>\n",
       "      <td>47.953</td>\n",
       "      <td>88.562</td>\n",
       "      <td>-25.304</td>\n",
       "      <td>59.843</td>\n",
       "      <td>51.0</td>\n",
       "      <td>47.0</td>\n",
       "      <td>(RH 6.5) breakend</td>\n",
       "    </tr>\n",
       "    <tr>\n",
       "      <th>5</th>\n",
       "      <td>20240225_KerlingBleach_AA_NC_2</td>\n",
       "      <td>20240225_KerlingBleach_AA_NC_</td>\n",
       "      <td>34.217</td>\n",
       "      <td>45.606</td>\n",
       "      <td>67.648</td>\n",
       "      <td>-22.316</td>\n",
       "      <td>53.676</td>\n",
       "      <td>40.0</td>\n",
       "      <td>39.0</td>\n",
       "      <td>breakend</td>\n",
       "    </tr>\n",
       "  </tbody>\n",
       "</table>\n",
       "</div>"
      ],
      "text/plain": [
       "                          Test ID                          Batch  \\\n",
       "4  20240225_KerlingBleach_AA_NC_1  20240225_KerlingBleach_AA_NC_   \n",
       "5  20240225_KerlingBleach_AA_NC_2  20240225_KerlingBleach_AA_NC_   \n",
       "\n",
       "  Young's Modulus Yield Force Break force Distance to Break Break Strain  \\\n",
       "4          42.004      47.953      88.562           -25.304       59.843   \n",
       "5          34.217      45.606      67.648           -22.316       53.676   \n",
       "\n",
       "   Diameter 1  Diameter 2               Note  \n",
       "4        51.0        47.0  (RH 6.5) breakend  \n",
       "5        40.0        39.0           breakend  "
      ]
     },
     "execution_count": 7,
     "metadata": {},
     "output_type": "execute_result"
    }
   ],
   "source": [
    "df = df.dropna()\n",
    "df.head(2)"
   ]
  },
  {
   "cell_type": "code",
   "execution_count": 8,
   "metadata": {},
   "outputs": [
    {
     "data": {
      "text/html": [
       "<div>\n",
       "<style scoped>\n",
       "    .dataframe tbody tr th:only-of-type {\n",
       "        vertical-align: middle;\n",
       "    }\n",
       "\n",
       "    .dataframe tbody tr th {\n",
       "        vertical-align: top;\n",
       "    }\n",
       "\n",
       "    .dataframe thead th {\n",
       "        text-align: right;\n",
       "    }\n",
       "</style>\n",
       "<table border=\"1\" class=\"dataframe\">\n",
       "  <thead>\n",
       "    <tr style=\"text-align: right;\">\n",
       "      <th></th>\n",
       "      <th>Test ID</th>\n",
       "      <th>Batch</th>\n",
       "      <th>Young's Modulus</th>\n",
       "      <th>Yield Force</th>\n",
       "      <th>Break force</th>\n",
       "      <th>Distance to Break</th>\n",
       "      <th>Break Strain</th>\n",
       "      <th>Diameter 1</th>\n",
       "      <th>Diameter 2</th>\n",
       "      <th>Note</th>\n",
       "    </tr>\n",
       "  </thead>\n",
       "  <tbody>\n",
       "    <tr>\n",
       "      <th>4</th>\n",
       "      <td>20240225_KerlingBleach_AA_NC_1</td>\n",
       "      <td>20240225_KerlingBleach_AA_NC_</td>\n",
       "      <td>42.004</td>\n",
       "      <td>47.953</td>\n",
       "      <td>88.562</td>\n",
       "      <td>-25.304</td>\n",
       "      <td>59.843</td>\n",
       "      <td>51.0</td>\n",
       "      <td>47.0</td>\n",
       "      <td>(RH 6.5) breakend</td>\n",
       "    </tr>\n",
       "    <tr>\n",
       "      <th>5</th>\n",
       "      <td>20240225_KerlingBleach_AA_NC_2</td>\n",
       "      <td>20240225_KerlingBleach_AA_NC_</td>\n",
       "      <td>34.217</td>\n",
       "      <td>45.606</td>\n",
       "      <td>67.648</td>\n",
       "      <td>-22.316</td>\n",
       "      <td>53.676</td>\n",
       "      <td>40.0</td>\n",
       "      <td>39.0</td>\n",
       "      <td>breakend</td>\n",
       "    </tr>\n",
       "  </tbody>\n",
       "</table>\n",
       "</div>"
      ],
      "text/plain": [
       "                          Test ID                          Batch  \\\n",
       "4  20240225_KerlingBleach_AA_NC_1  20240225_KerlingBleach_AA_NC_   \n",
       "5  20240225_KerlingBleach_AA_NC_2  20240225_KerlingBleach_AA_NC_   \n",
       "\n",
       "   Young's Modulus Yield Force  Break force  Distance to Break Break Strain  \\\n",
       "4           42.004      47.953       88.562            -25.304       59.843   \n",
       "5           34.217      45.606       67.648            -22.316       53.676   \n",
       "\n",
       "   Diameter 1  Diameter 2               Note  \n",
       "4        51.0        47.0  (RH 6.5) breakend  \n",
       "5        40.0        39.0           breakend  "
      ]
     },
     "execution_count": 8,
     "metadata": {},
     "output_type": "execute_result"
    }
   ],
   "source": [
    "df['Break force'] = df['Break force'].astype(float)\n",
    "df['Young\\'s Modulus'] = df['Young\\'s Modulus'].astype(float)\n",
    "df['Distance to Break'] = df['Distance to Break'].astype(float)\n",
    "#df['Toughness'] = df['Toughness'].astype(float)\n",
    "df['Diameter 1'] = df['Diameter 1'].astype(float)\n",
    "df['Diameter 2'] = df['Diameter 2'].astype(float)\n",
    "#df['Humidity'] = df['Humidity'].astype(float)\n",
    "\n",
    "df.head(2)"
   ]
  },
  {
   "cell_type": "code",
   "execution_count": 9,
   "metadata": {},
   "outputs": [],
   "source": [
    "df = df[df['Test ID'] != 'Average:']\n",
    "df = df[df['Test ID'] != 'S.D.']\n",
    "df = df[df['Test ID'] != 'Coef. of Variation']"
   ]
  },
  {
   "cell_type": "code",
   "execution_count": 10,
   "metadata": {},
   "outputs": [],
   "source": [
    "df['Average'] = ((df['Diameter 1'] + df['Diameter 2']) / 2 )/1000\n",
    "df['Area'] = math.pi * (df['Average'] / 2)**2"
   ]
  },
  {
   "cell_type": "code",
   "execution_count": 11,
   "metadata": {},
   "outputs": [],
   "source": [
    "df['Baseline area'] = math.pi * 0.035**2\n",
    "df['Updated Young\\'s Modulus'] = df['Young\\'s Modulus'] * (df['Baseline area'] / df['Area'])"
   ]
  },
  {
   "cell_type": "code",
   "execution_count": 12,
   "metadata": {},
   "outputs": [],
   "source": [
    "df['Break stress'] = df['Break force'] / df['Area'] / 1000"
   ]
  },
  {
   "cell_type": "code",
   "execution_count": 13,
   "metadata": {},
   "outputs": [
    {
     "data": {
      "text/html": [
       "<div>\n",
       "<style scoped>\n",
       "    .dataframe tbody tr th:only-of-type {\n",
       "        vertical-align: middle;\n",
       "    }\n",
       "\n",
       "    .dataframe tbody tr th {\n",
       "        vertical-align: top;\n",
       "    }\n",
       "\n",
       "    .dataframe thead th {\n",
       "        text-align: right;\n",
       "    }\n",
       "</style>\n",
       "<table border=\"1\" class=\"dataframe\">\n",
       "  <thead>\n",
       "    <tr style=\"text-align: right;\">\n",
       "      <th></th>\n",
       "      <th>Test ID</th>\n",
       "      <th>Batch</th>\n",
       "      <th>Young's Modulus</th>\n",
       "      <th>Yield Force</th>\n",
       "      <th>Break force</th>\n",
       "      <th>Distance to Break</th>\n",
       "      <th>Break Strain</th>\n",
       "      <th>Diameter 1</th>\n",
       "      <th>Diameter 2</th>\n",
       "      <th>Note</th>\n",
       "      <th>Average</th>\n",
       "      <th>Area</th>\n",
       "      <th>Baseline area</th>\n",
       "      <th>Updated Young's Modulus</th>\n",
       "      <th>Break stress</th>\n",
       "    </tr>\n",
       "  </thead>\n",
       "  <tbody>\n",
       "    <tr>\n",
       "      <th>4</th>\n",
       "      <td>20240225_KerlingBleach_AA_NC_1</td>\n",
       "      <td>20240225_KerlingBleach_AA_NC_</td>\n",
       "      <td>42.004</td>\n",
       "      <td>47.953</td>\n",
       "      <td>88.562</td>\n",
       "      <td>-25.304</td>\n",
       "      <td>59.843</td>\n",
       "      <td>51.0</td>\n",
       "      <td>47.0</td>\n",
       "      <td>(RH 6.5) breakend</td>\n",
       "      <td>0.0490</td>\n",
       "      <td>0.001886</td>\n",
       "      <td>0.003848</td>\n",
       "      <td>85.722449</td>\n",
       "      <td>46.964032</td>\n",
       "    </tr>\n",
       "    <tr>\n",
       "      <th>5</th>\n",
       "      <td>20240225_KerlingBleach_AA_NC_2</td>\n",
       "      <td>20240225_KerlingBleach_AA_NC_</td>\n",
       "      <td>34.217</td>\n",
       "      <td>45.606</td>\n",
       "      <td>67.648</td>\n",
       "      <td>-22.316</td>\n",
       "      <td>53.676</td>\n",
       "      <td>40.0</td>\n",
       "      <td>39.0</td>\n",
       "      <td>breakend</td>\n",
       "      <td>0.0395</td>\n",
       "      <td>0.001225</td>\n",
       "      <td>0.003848</td>\n",
       "      <td>107.459253</td>\n",
       "      <td>55.204043</td>\n",
       "    </tr>\n",
       "  </tbody>\n",
       "</table>\n",
       "</div>"
      ],
      "text/plain": [
       "                          Test ID                          Batch  \\\n",
       "4  20240225_KerlingBleach_AA_NC_1  20240225_KerlingBleach_AA_NC_   \n",
       "5  20240225_KerlingBleach_AA_NC_2  20240225_KerlingBleach_AA_NC_   \n",
       "\n",
       "   Young's Modulus Yield Force  Break force  Distance to Break Break Strain  \\\n",
       "4           42.004      47.953       88.562            -25.304       59.843   \n",
       "5           34.217      45.606       67.648            -22.316       53.676   \n",
       "\n",
       "   Diameter 1  Diameter 2               Note  Average      Area  \\\n",
       "4        51.0        47.0  (RH 6.5) breakend   0.0490  0.001886   \n",
       "5        40.0        39.0           breakend   0.0395  0.001225   \n",
       "\n",
       "   Baseline area  Updated Young's Modulus  Break stress  \n",
       "4       0.003848                85.722449     46.964032  \n",
       "5       0.003848               107.459253     55.204043  "
      ]
     },
     "execution_count": 13,
     "metadata": {},
     "output_type": "execute_result"
    }
   ],
   "source": [
    "df.head(2)"
   ]
  },
  {
   "cell_type": "code",
   "execution_count": 14,
   "metadata": {},
   "outputs": [
    {
     "data": {
      "text/plain": [
       "300"
      ]
     },
     "execution_count": 14,
     "metadata": {},
     "output_type": "execute_result"
    }
   ],
   "source": [
    "len(df)"
   ]
  },
  {
   "cell_type": "code",
   "execution_count": 15,
   "metadata": {},
   "outputs": [
    {
     "name": "stdout",
     "output_type": "stream",
     "text": [
      "Mean Diameter 1:\n",
      "Batch\n",
      "20240225_KerlingBleach_AA_NC_         50.72\n",
      "20240225_KerlingBleach_AA_SeH_        48.62\n",
      "20240225_KerlingBleach_AA_SecNPYS_    49.61\n",
      "Name: Diameter 1, dtype: float64\n",
      "Standard Deviation Diameter 1:\n",
      "Batch\n",
      "20240225_KerlingBleach_AA_NC_         8.030346\n",
      "20240225_KerlingBleach_AA_SeH_        6.258376\n",
      "20240225_KerlingBleach_AA_SecNPYS_    7.161760\n",
      "Name: Diameter 1, dtype: float64\n"
     ]
    }
   ],
   "source": [
    "mean_diameter1 = df.groupby('Batch')['Diameter 1'].mean()\n",
    "std_diameter1 = df.groupby('Batch')['Diameter 1'].std()\n",
    "\n",
    "print(\"Mean Diameter 1:\")\n",
    "print(mean_diameter1)\n",
    "\n",
    "print(\"Standard Deviation Diameter 1:\")\n",
    "print(std_diameter1)"
   ]
  },
  {
   "cell_type": "code",
   "execution_count": 16,
   "metadata": {},
   "outputs": [],
   "source": [
    "#df = df[abs(df['Diameter 1'] - df['Diameter 2']) <= 3]\n",
    "#len(df)\n",
    "\n",
    "#df = df[(df['Diameter 1'] >= 45) & (df['Diameter 2'] >= 45)]\n",
    "#len(df)"
   ]
  },
  {
   "cell_type": "code",
   "execution_count": 17,
   "metadata": {},
   "outputs": [
    {
     "data": {
      "text/plain": [
       "300"
      ]
     },
     "execution_count": 17,
     "metadata": {},
     "output_type": "execute_result"
    }
   ],
   "source": [
    "len(df)"
   ]
  },
  {
   "cell_type": "code",
   "execution_count": 18,
   "metadata": {},
   "outputs": [
    {
     "data": {
      "text/plain": [
       "<Figure size 1000x600 with 0 Axes>"
      ]
     },
     "metadata": {},
     "output_type": "display_data"
    },
    {
     "data": {
      "image/png": "[encoded data removed]",
      "text/plain": [
       "<Figure size 640x480 with 1 Axes>"
      ]
     },
     "metadata": {},
     "output_type": "display_data"
    }
   ],
   "source": [
    "def do_plot(df):\n",
    "    plt.figure(figsize=(10, 6))\n",
    "    df.boxplot(column=TYPE, by='Batch')\n",
    "    plt.xlabel('Name')\n",
    "    plt.ylabel(TYPE)\n",
    "    plt.xticks(rotation=65)\n",
    "    ## y axis from 20 to 90\n",
    "    #plt.ylim(15, 90)\n",
    "    plt.show()\n",
    "    \n",
    "\n",
    "do_plot(df)\n"
   ]
  },
  {
   "cell_type": "code",
   "execution_count": 19,
   "metadata": {},
   "outputs": [
    {
     "name": "stdout",
     "output_type": "stream",
     "text": [
      "Batch\n",
      "20240225_KerlingBleach_AA_NC_         23.579225\n",
      "20240225_KerlingBleach_AA_SeH_        23.991516\n",
      "20240225_KerlingBleach_AA_SecNPYS_    23.446826\n",
      "Name: Break force, dtype: float64\n"
     ]
    }
   ],
   "source": [
    "std_by_batch_all = df.groupby('Batch')[TYPE].std()\n",
    "print(std_by_batch_all)"
   ]
  },
  {
   "cell_type": "code",
   "execution_count": 20,
   "metadata": {},
   "outputs": [
    {
     "name": "stdout",
     "output_type": "stream",
     "text": [
      "0\n"
     ]
    }
   ],
   "source": [
    "count = len(df[df['Batch'].str.contains('0mg')])\n",
    "print(count)"
   ]
  },
  {
   "cell_type": "code",
   "execution_count": 21,
   "metadata": {},
   "outputs": [
    {
     "data": {
      "text/plain": [
       "(                                    20240225_KerlingBleach_AA_NC_  \\\n",
       " 20240225_KerlingBleach_AA_NC_                               1.000   \n",
       " 20240225_KerlingBleach_AA_SecNPYS_                          0.616   \n",
       " 20240225_KerlingBleach_AA_SeH_                              0.089   \n",
       " \n",
       "                                     20240225_KerlingBleach_AA_SecNPYS_  \\\n",
       " 20240225_KerlingBleach_AA_NC_                                    0.616   \n",
       " 20240225_KerlingBleach_AA_SecNPYS_                               1.000   \n",
       " 20240225_KerlingBleach_AA_SeH_                                   0.190   \n",
       " \n",
       "                                     20240225_KerlingBleach_AA_SeH_  \n",
       " 20240225_KerlingBleach_AA_NC_                                0.089  \n",
       " 20240225_KerlingBleach_AA_SecNPYS_                           0.190  \n",
       " 20240225_KerlingBleach_AA_SeH_                               1.000  ,\n",
       "                                     20240225_KerlingBleach_AA_NC_  \\\n",
       " 20240225_KerlingBleach_AA_NC_                               -1.00   \n",
       " 20240225_KerlingBleach_AA_SecNPYS_                        3812.06   \n",
       " 20240225_KerlingBleach_AA_SeH_                             216.51   \n",
       " \n",
       "                                     20240225_KerlingBleach_AA_SecNPYS_  \\\n",
       " 20240225_KerlingBleach_AA_NC_                                  3812.06   \n",
       " 20240225_KerlingBleach_AA_SecNPYS_                               -1.00   \n",
       " 20240225_KerlingBleach_AA_SeH_                                  367.32   \n",
       " \n",
       "                                     20240225_KerlingBleach_AA_SeH_  \n",
       " 20240225_KerlingBleach_AA_NC_                               216.51  \n",
       " 20240225_KerlingBleach_AA_SecNPYS_                          367.32  \n",
       " 20240225_KerlingBleach_AA_SeH_                               -1.00  )"
      ]
     },
     "execution_count": 21,
     "metadata": {},
     "output_type": "execute_result"
    }
   ],
   "source": [
    "hp.get_pvalue_and_sample_size(df, TYPE)"
   ]
  },
  {
   "cell_type": "code",
   "execution_count": 22,
   "metadata": {},
   "outputs": [
    {
     "name": "stdout",
     "output_type": "stream",
     "text": [
      "['(RH 6.5) breakend' 'breakend' 'ok' 'earlyish' 'almost breakend' 'early '\n",
      " 'early' 'early??' 'short?' 'great' 'breakend top' 'weird' 'short' 'ok?']\n"
     ]
    }
   ],
   "source": [
    "unique_values = df['Note'].unique()\n",
    "print(unique_values)"
   ]
  },
  {
   "cell_type": "markdown",
   "metadata": {},
   "source": [
    "let's remove all but ok"
   ]
  },
  {
   "cell_type": "code",
   "execution_count": 23,
   "metadata": {},
   "outputs": [
    {
     "data": {
      "text/plain": [
       "300"
      ]
     },
     "execution_count": 23,
     "metadata": {},
     "output_type": "execute_result"
    }
   ],
   "source": [
    "len(df)"
   ]
  },
  {
   "cell_type": "code",
   "execution_count": 24,
   "metadata": {},
   "outputs": [
    {
     "name": "stdout",
     "output_type": "stream",
     "text": [
      "Batch\n",
      "20240225_KerlingBleach_AA_NC_         100\n",
      "20240225_KerlingBleach_AA_SecNPYS_    100\n",
      "20240225_KerlingBleach_AA_SeH_        100\n",
      "Name: count, dtype: int64\n"
     ]
    }
   ],
   "source": [
    "count_by_batch = df['Batch'].value_counts()\n",
    "print(count_by_batch)"
   ]
  },
  {
   "cell_type": "code",
   "execution_count": 25,
   "metadata": {},
   "outputs": [
    {
     "data": {
      "text/plain": [
       "126"
      ]
     },
     "execution_count": 25,
     "metadata": {},
     "output_type": "execute_result"
    }
   ],
   "source": [
    "df = df[df['Note'].isin(['ok', 'good', 'great'])]\n",
    "len(df)"
   ]
  },
  {
   "cell_type": "code",
   "execution_count": 26,
   "metadata": {},
   "outputs": [
    {
     "name": "stdout",
     "output_type": "stream",
     "text": [
      "Batch\n",
      "20240225_KerlingBleach_AA_SecNPYS_    44\n",
      "20240225_KerlingBleach_AA_NC_         42\n",
      "20240225_KerlingBleach_AA_SeH_        40\n",
      "Name: count, dtype: int64\n"
     ]
    }
   ],
   "source": [
    "count_by_batch = df['Batch'].value_counts()\n",
    "print(count_by_batch)"
   ]
  },
  {
   "cell_type": "code",
   "execution_count": 27,
   "metadata": {},
   "outputs": [
    {
     "data": {
      "text/plain": [
       "<Figure size 1000x600 with 0 Axes>"
      ]
     },
     "metadata": {},
     "output_type": "display_data"
    },
    {
     "data": {
      "image/png": "[encoded data removed]",
      "text/plain": [
       "<Figure size 640x480 with 1 Axes>"
      ]
     },
     "metadata": {},
     "output_type": "display_data"
    }
   ],
   "source": [
    "do_plot(df)"
   ]
  },
  {
   "cell_type": "code",
   "execution_count": 28,
   "metadata": {},
   "outputs": [
    {
     "name": "stdout",
     "output_type": "stream",
     "text": [
      "Batch\n",
      "20240225_KerlingBleach_AA_NC_         21.906122\n",
      "20240225_KerlingBleach_AA_SeH_        22.713460\n",
      "20240225_KerlingBleach_AA_SecNPYS_    21.960988\n",
      "Name: Break force, dtype: float64\n"
     ]
    }
   ],
   "source": [
    "std_by_batch_ok = df.groupby('Batch')[TYPE].std()\n",
    "print(std_by_batch_ok)"
   ]
  },
  {
   "cell_type": "code",
   "execution_count": 29,
   "metadata": {},
   "outputs": [
    {
     "data": {
      "text/html": [
       "<div>\n",
       "<style scoped>\n",
       "    .dataframe tbody tr th:only-of-type {\n",
       "        vertical-align: middle;\n",
       "    }\n",
       "\n",
       "    .dataframe tbody tr th {\n",
       "        vertical-align: top;\n",
       "    }\n",
       "\n",
       "    .dataframe thead th {\n",
       "        text-align: right;\n",
       "    }\n",
       "</style>\n",
       "<table border=\"1\" class=\"dataframe\">\n",
       "  <thead>\n",
       "    <tr style=\"text-align: right;\">\n",
       "      <th></th>\n",
       "      <th>std all</th>\n",
       "      <th>std ok</th>\n",
       "    </tr>\n",
       "    <tr>\n",
       "      <th>Batch</th>\n",
       "      <th></th>\n",
       "      <th></th>\n",
       "    </tr>\n",
       "  </thead>\n",
       "  <tbody>\n",
       "    <tr>\n",
       "      <th>20240225_KerlingBleach_AA_NC_</th>\n",
       "      <td>23.579225</td>\n",
       "      <td>21.906122</td>\n",
       "    </tr>\n",
       "    <tr>\n",
       "      <th>20240225_KerlingBleach_AA_SeH_</th>\n",
       "      <td>23.991516</td>\n",
       "      <td>22.713460</td>\n",
       "    </tr>\n",
       "    <tr>\n",
       "      <th>20240225_KerlingBleach_AA_SecNPYS_</th>\n",
       "      <td>23.446826</td>\n",
       "      <td>21.960988</td>\n",
       "    </tr>\n",
       "  </tbody>\n",
       "</table>\n",
       "</div>"
      ],
      "text/plain": [
       "                                      std all     std ok\n",
       "Batch                                                   \n",
       "20240225_KerlingBleach_AA_NC_       23.579225  21.906122\n",
       "20240225_KerlingBleach_AA_SeH_      23.991516  22.713460\n",
       "20240225_KerlingBleach_AA_SecNPYS_  23.446826  21.960988"
      ]
     },
     "execution_count": 29,
     "metadata": {},
     "output_type": "execute_result"
    }
   ],
   "source": [
    "merged_df = pd.concat([std_by_batch_all, std_by_batch_ok], axis=1)\n",
    "merged_df.columns = ['std all', 'std ok']\n",
    "merged_df"
   ]
  },
  {
   "cell_type": "code",
   "execution_count": 30,
   "metadata": {},
   "outputs": [
    {
     "data": {
      "text/plain": [
       "(                                    20240225_KerlingBleach_AA_NC_  \\\n",
       " 20240225_KerlingBleach_AA_NC_                               1.000   \n",
       " 20240225_KerlingBleach_AA_SecNPYS_                          0.656   \n",
       " 20240225_KerlingBleach_AA_SeH_                              0.721   \n",
       " \n",
       "                                     20240225_KerlingBleach_AA_SecNPYS_  \\\n",
       " 20240225_KerlingBleach_AA_NC_                                    0.656   \n",
       " 20240225_KerlingBleach_AA_SecNPYS_                               1.000   \n",
       " 20240225_KerlingBleach_AA_SeH_                                   0.314   \n",
       " \n",
       "                                     20240225_KerlingBleach_AA_SeH_  \n",
       " 20240225_KerlingBleach_AA_NC_                                0.721  \n",
       " 20240225_KerlingBleach_AA_SecNPYS_                           0.314  \n",
       " 20240225_KerlingBleach_AA_SeH_                               1.000  ,\n",
       "                                     20240225_KerlingBleach_AA_NC_  \\\n",
       " 20240225_KerlingBleach_AA_NC_                               -1.00   \n",
       " 20240225_KerlingBleach_AA_SecNPYS_                         763.68   \n",
       " 20240225_KerlingBleach_AA_SeH_                            1748.40   \n",
       " \n",
       "                                     20240225_KerlingBleach_AA_SecNPYS_  \\\n",
       " 20240225_KerlingBleach_AA_NC_                                   763.68   \n",
       " 20240225_KerlingBleach_AA_SecNPYS_                               -1.00   \n",
       " 20240225_KerlingBleach_AA_SeH_                                  283.97   \n",
       " \n",
       "                                     20240225_KerlingBleach_AA_SeH_  \n",
       " 20240225_KerlingBleach_AA_NC_                              1748.40  \n",
       " 20240225_KerlingBleach_AA_SecNPYS_                          283.97  \n",
       " 20240225_KerlingBleach_AA_SeH_                               -1.00  )"
      ]
     },
     "execution_count": 30,
     "metadata": {},
     "output_type": "execute_result"
    }
   ],
   "source": [
    "hp.get_pvalue_and_sample_size(df, TYPE)"
   ]
  },
  {
   "cell_type": "markdown",
   "metadata": {},
   "source": [
    "more check"
   ]
  },
  {
   "cell_type": "code",
   "execution_count": 31,
   "metadata": {},
   "outputs": [
    {
     "name": "stdout",
     "output_type": "stream",
     "text": [
      "Batch\n",
      "20240225_KerlingBleach_AA_NC_         94.725119\n",
      "20240225_KerlingBleach_AA_SeH_        92.610250\n",
      "20240225_KerlingBleach_AA_SecNPYS_    97.871750\n",
      "Name: Break force, dtype: float64\n"
     ]
    }
   ],
   "source": [
    "bio = df.groupby('Batch')[TYPE].mean()\n",
    "print(bio)"
   ]
  },
  {
   "cell_type": "code",
   "execution_count": 32,
   "metadata": {},
   "outputs": [
    {
     "name": "stdout",
     "output_type": "stream",
     "text": [
      "Batch\n",
      "20240225_KerlingBleach_AA_NC_         94.138\n",
      "20240225_KerlingBleach_AA_SeH_        88.506\n",
      "20240225_KerlingBleach_AA_SecNPYS_    96.901\n",
      "Name: Break force, dtype: float64\n"
     ]
    }
   ],
   "source": [
    "bio = df.groupby('Batch')[TYPE].median()\n",
    "print(bio)"
   ]
  },
  {
   "cell_type": "code",
   "execution_count": null,
   "metadata": {},
   "outputs": [],
   "source": []
  }
 ],
 "metadata": {
  "kernelspec": {
   "display_name": "Python 3 (ipykernel)",
   "language": "python",
   "name": "python3"
  },
  "language_info": {
   "codemirror_mode": {
    "name": "ipython",
    "version": 3
   },
   "file_extension": ".py",
   "mimetype": "text/x-python",
   "name": "python",
   "nbconvert_exporter": "python",
   "pygments_lexer": "ipython3",
   "version": "3.9.18"
  }
 },
 "nbformat": 4,
 "nbformat_minor": 2
}
