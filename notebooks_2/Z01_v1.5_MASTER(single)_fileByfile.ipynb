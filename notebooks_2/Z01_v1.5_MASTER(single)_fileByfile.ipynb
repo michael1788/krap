{
 "cells": [
  {
   "attachments": {},
   "cell_type": "markdown",
   "metadata": {},
   "source": [
    "### Goal"
   ]
  },
  {
   "cell_type": "code",
   "execution_count": 1,
   "metadata": {
    "metadata": {}
   },
   "outputs": [],
   "source": [
    "%load_ext autoreload\n",
    "%autoreload 2"
   ]
  },
  {
   "cell_type": "code",
   "execution_count": 2,
   "metadata": {
    "metadata": {}
   },
   "outputs": [],
   "source": [
    "import os\n",
    "import pandas as pd\n",
    "\n",
    "# to prevent figure \n",
    "# to show in the notebook\n",
    "import matplotlib\n",
    "matplotlib.use('Agg')\n",
    "\n",
    "import matplotlib.pyplot as plt\n",
    "\n",
    "import plotting as plotting"
   ]
  },
  {
   "cell_type": "markdown",
   "metadata": {},
   "source": [
    "### TODO: update this"
   ]
  },
  {
   "cell_type": "code",
   "execution_count": 3,
   "metadata": {
    "metadata": {}
   },
   "outputs": [],
   "source": [
    "date = \"24-12-11\"\n",
    "pathfile = f\"Pulling data/{date}/single/\""
   ]
  },
  {
   "cell_type": "markdown",
   "metadata": {},
   "source": [
    "### From here; automatic run"
   ]
  },
  {
   "cell_type": "code",
   "execution_count": 4,
   "metadata": {
    "metadata": {}
   },
   "outputs": [],
   "source": [
    "root = f\"/Users/michaelmoret/Library/CloudStorage/GoogleDrive-michael@externa.bio/.shortcut-targets-by-id/1BdUNsBjDh5Gee_76jCiKB1C_CwG0ercP/{pathfile}\"\n",
    "\n",
    "MODE = \"single\"\n",
    "dev = False"
   ]
  },
  {
   "cell_type": "code",
   "execution_count": 5,
   "metadata": {
    "metadata": {}
   },
   "outputs": [],
   "source": [
    "if not root.endswith(\"/\"):\n",
    "    root += \"/\"\n",
    "\n",
    "sep_category = \"$\" # separates categories like date, experiments, etc\n",
    "sep_count = \"%\" # separated the number of hairs by experiment"
   ]
  },
  {
   "cell_type": "code",
   "execution_count": 6,
   "metadata": {
    "metadata": {}
   },
   "outputs": [
    {
     "name": "stdout",
     "output_type": "stream",
     "text": [
      "\n",
      "*****************************\n",
      "20241211$IHNY$25%AActrl$25% SH oligo 0.01$25%SH oligo 0.03$25% SH oligo 0.05$single.txt\n",
      "splitted_name:  ['25%AActrl', '25% SH oligo 0.01', '25%SH oligo 0.03', '25% SH oligo 0.05']\n",
      "len df: 100, len names: 100\n",
      "\n",
      "*****************************\n",
      "20241211$IHNY$25%AActrl$25% BMSO 0.01$25%BMSO 0.03$25% BMSO 0.05$single.txt\n",
      "splitted_name:  ['25%AActrl', '25% BMSO 0.01', '25%BMSO 0.03', '25% BMSO 0.05']\n",
      "len df: 100, len names: 100\n",
      "\n",
      "*****************************\n",
      "20241211$IHNY$25%phosctrl$25% BMSO 0.01$25%BMSO 0.03$25% BMSO 0.05$single.txt\n",
      "splitted_name:  ['25%phosctrl', '25% BMSO 0.01', '25%BMSO 0.03', '25% BMSO 0.05']\n",
      "len df: 100, len names: 100\n"
     ]
    }
   ],
   "source": [
    "all_dfs = []\n",
    "all_fns = []\n",
    "\n",
    "for file in os.listdir(root):\n",
    "    if file.endswith(\".txt\"):\n",
    "        print(\"\\n*****************************\")\n",
    "        print(file)\n",
    "        df = plotting.get_df_from_file(root + file,\n",
    "                                       skip=10)\n",
    "        # clean the df\n",
    "        if MODE in file:\n",
    "            df = plotting.clean_single(df)\n",
    "            assert \"single\" in file\n",
    "        else:\n",
    "            raise ValueError(f\"Not a {MODE} experiment\")\n",
    "\n",
    "        splitted_name = file.split(sep_category)\n",
    "        # get the experiments; i.e. not the date\n",
    "        # not the single or triple etc\n",
    "        splitted_name = splitted_name[2:-1]\n",
    "        print(\"splitted_name: \", splitted_name)\n",
    "        # add the experiment name in the dataframe\n",
    "        all_names = []\n",
    "        for entries in splitted_name:\n",
    "            times_name = entries.split(sep_count)\n",
    "            _times = int(times_name[0])\n",
    "            _name = times_name[1]\n",
    "            all_names += [_name] * _times\n",
    "        print(f\"len df: {len(df)}, len names: {len(all_names)}\")\n",
    "        df[\"Name\"] = all_names\n",
    "        # remove nan\n",
    "        df = df.dropna()\n",
    "        all_dfs.append(df)\n",
    "        all_fns.append(file.replace(\".txt\", \"\"))"
   ]
  },
  {
   "cell_type": "code",
   "execution_count": 7,
   "metadata": {
    "metadata": {}
   },
   "outputs": [],
   "source": [
    "def master_plots(df, header, ymin, ymax, savepath, show=False, verbose=False):\n",
    "    fig, ax, removed = plotting.create_boxplot(df, header, ymin, ymax)\n",
    "    #save removed data\n",
    "    removed.to_csv(f\"{savepath}{header}_removed.csv\", index=True)\n",
    "    if verbose:\n",
    "        print(f\"{len(removed)} removed data points for {header}\")\n",
    "    # plot\n",
    "    fig.savefig(f\"{savepath}{header}.png\")\n",
    "    if show: \n",
    "        plt.show()\n",
    "        plt.close()"
   ]
  },
  {
   "cell_type": "code",
   "execution_count": 8,
   "metadata": {
    "metadata": {}
   },
   "outputs": [
    {
     "data": {
      "text/plain": [
       "(3, 3)"
      ]
     },
     "execution_count": 8,
     "metadata": {},
     "output_type": "execute_result"
    }
   ],
   "source": [
    "len(all_dfs), len(all_fns)"
   ]
  },
  {
   "cell_type": "code",
   "execution_count": 9,
   "metadata": {
    "metadata": {}
   },
   "outputs": [
    {
     "data": {
      "text/plain": [
       "['20241211$IHNY$25%AActrl$25% SH oligo 0.01$25%SH oligo 0.03$25% SH oligo 0.05$single',\n",
       " '20241211$IHNY$25%AActrl$25% BMSO 0.01$25%BMSO 0.03$25% BMSO 0.05$single',\n",
       " '20241211$IHNY$25%phosctrl$25% BMSO 0.01$25%BMSO 0.03$25% BMSO 0.05$single']"
      ]
     },
     "execution_count": 9,
     "metadata": {},
     "output_type": "execute_result"
    }
   ],
   "source": [
    "all_fns"
   ]
  },
  {
   "cell_type": "code",
   "execution_count": 10,
   "metadata": {
    "metadata": {}
   },
   "outputs": [
    {
     "name": "stdout",
     "output_type": "stream",
     "text": [
      "\n",
      "************************************\n",
      "20241211$IHNY$25%AActrl$25% SH oligo 0.01$25%SH oligo 0.03$25% SH oligo 0.05$single\n",
      "\n",
      "df length: 91\n",
      "Stats. significance:  SH oligo 0.01 and  SH oligo 0.05: p = 0.0310\n",
      "\n",
      "************************************\n",
      "20241211$IHNY$25%AActrl$25% BMSO 0.01$25%BMSO 0.03$25% BMSO 0.05$single\n",
      "\n",
      "df length: 95\n",
      "Stats. significance: AActrl and  BMSO 0.01: p = 0.0140\n",
      "Stats. significance:  BMSO 0.01 and  BMSO 0.05: p = 0.0329\n",
      "Stats. significance: AActrl and  BMSO 0.01: p = 0.0456\n",
      "Stats. significance:  BMSO 0.01 and BMSO 0.03: p = 0.0234\n",
      "\n",
      "************************************\n",
      "20241211$IHNY$25%phosctrl$25% BMSO 0.01$25%BMSO 0.03$25% BMSO 0.05$single\n",
      "\n",
      "df length: 86\n",
      "Stats. significance:  BMSO 0.01 and BMSO 0.03: p = 0.0279\n"
     ]
    },
    {
     "name": "stderr",
     "output_type": "stream",
     "text": [
      "/Users/michaelmoret/tinyverse/krap/notebooks_2/plotting.py:171: RuntimeWarning: More than 20 figures have been opened. Figures created through the pyplot interface (`matplotlib.pyplot.figure`) are retained until explicitly closed and may consume too much memory. (To control this warning, see the rcParam `figure.max_open_warning`). Consider using `matplotlib.pyplot.close()`.\n",
      "  plt.figure(figsize=figsize)\n"
     ]
    },
    {
     "name": "stdout",
     "output_type": "stream",
     "text": [
      "\n",
      "\n",
      "plotting DONE\n"
     ]
    }
   ],
   "source": [
    "for df, name in zip(all_dfs, all_fns):\n",
    "    print(\"\\n************************************\")\n",
    "    print(f\"{name}\\n\")\n",
    "    print(f\"df length: {len(df)}\")\n",
    "    try:\n",
    "        savepath = f\"{root}{name}/\"\n",
    "        if dev:\n",
    "            savepath = f\"{root}dev/\"\n",
    "        os.makedirs(savepath, exist_ok=True)\n",
    "        \n",
    "        try:\n",
    "            header = 'TENSILE_STRENGTH'\n",
    "            ymin = 90\n",
    "            ymax = 325\n",
    "            master_plots(df, header, ymin, ymax, savepath)\n",
    "        except Exception as e:\n",
    "            print(f\"ERROR with {header}\")\n",
    "            print(\"Error:\", e)\n",
    "\n",
    "        try:\n",
    "            header = 'BREAK_STRAIN(*)(#)'\n",
    "            ymin = 0\n",
    "            ymax = 100\n",
    "            master_plots(df, header, ymin, ymax, savepath)\n",
    "        except Exception as e:\n",
    "            print(f\"ERROR with {header}\")\n",
    "            print(\"Error:\", e)\n",
    "\n",
    "        try:\n",
    "            header = 'BREAK_LOAD'\n",
    "            ymin = 0\n",
    "            ymax = 2.0\n",
    "            master_plots(df, header, ymin, ymax, savepath)\n",
    "        except Exception as e:\n",
    "            print(f\"ERROR with {header}\")\n",
    "            print(\"Error:\", e)\n",
    "        \n",
    "        try:\n",
    "            header = 'EMOD(*)(#)'\n",
    "            ymin = 2.5\n",
    "            ymax = 8.0\n",
    "            master_plots(df, header, ymin, ymax, savepath)\n",
    "        except Exception as e:\n",
    "            print(f\"ERROR with {header}\")\n",
    "            print(\"Error:\", e)\n",
    "\n",
    "        # scatter plots\n",
    "        y_col = 'TENSILE_STRENGTH'\n",
    "        x_col = 'MEAN AREA'\n",
    "        savedir = f\"{savepath}correlation_plot/\"\n",
    "        plt = plotting.create_scatter_plot(df, x_col, y_col, savedir)\n",
    "\n",
    "        y_col = 'EMOD(*)(#)'\n",
    "        x_col = 'MEAN AREA'\n",
    "        savedir = f\"{savepath}correlation_plot/\"\n",
    "        plt = plotting.create_scatter_plot(df, x_col, y_col, savedir)\n",
    "\n",
    "        y_col = 'BREAK_LOAD'\n",
    "        x_col = 'MEAN AREA'\n",
    "        savedir = f\"{savepath}correlation_plot/\"\n",
    "        plt = plotting.create_scatter_plot(df, x_col, y_col, savedir)\n",
    "\n",
    "    except:\n",
    "        print(f\"\\nERROR with {name}\\n\")\n",
    "        continue\n",
    "\n",
    "print(\"\\n\\nplotting DONE\")"
   ]
  }
 ],
 "metadata": {
  "kernelspec": {
   "display_name": "Python 3 (ipykernel)",
   "language": "python",
   "name": "python3"
  },
  "language_info": {
   "codemirror_mode": {
    "name": "ipython",
    "version": 3
   },
   "file_extension": ".py",
   "mimetype": "text/x-python",
   "name": "python",
   "nbconvert_exporter": "python",
   "pygments_lexer": "ipython3",
   "version": "3.9.18"
  }
 },
 "nbformat": 4,
 "nbformat_minor": 2
}
