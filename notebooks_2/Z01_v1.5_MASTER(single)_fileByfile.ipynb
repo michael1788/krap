{
 "cells": [
  {
   "attachments": {},
   "cell_type": "markdown",
   "metadata": {},
   "source": [
    "### Goal"
   ]
  },
  {
   "cell_type": "code",
   "execution_count": 1,
   "metadata": {
    "metadata": {}
   },
   "outputs": [],
   "source": [
    "%load_ext autoreload\n",
    "%autoreload 2"
   ]
  },
  {
   "cell_type": "code",
   "execution_count": 2,
   "metadata": {
    "metadata": {}
   },
   "outputs": [],
   "source": [
    "import os\n",
    "import pandas as pd\n",
    "\n",
    "# to prevent figure \n",
    "# to show in the notebook\n",
    "import matplotlib\n",
    "matplotlib.use('Agg')\n",
    "\n",
    "import matplotlib.pyplot as plt\n",
    "\n",
    "import plotting as plotting"
   ]
  },
  {
   "cell_type": "markdown",
   "metadata": {},
   "source": [
    "### TODO: update this"
   ]
  },
  {
   "cell_type": "code",
   "execution_count": 3,
   "metadata": {
    "metadata": {}
   },
   "outputs": [],
   "source": [
    "date = \"24-12-15\"\n",
    "pathfile = f\"Pulling data/{date}/single/\""
   ]
  },
  {
   "cell_type": "markdown",
   "metadata": {},
   "source": [
    "### From here; automatic run"
   ]
  },
  {
   "cell_type": "code",
   "execution_count": 4,
   "metadata": {
    "metadata": {}
   },
   "outputs": [],
   "source": [
    "root = f\"/Users/michaelmoret/Library/CloudStorage/GoogleDrive-michael@externa.bio/.shortcut-targets-by-id/1BdUNsBjDh5Gee_76jCiKB1C_CwG0ercP/{pathfile}\"\n",
    "\n",
    "MODE = \"single\"\n",
    "dev = False"
   ]
  },
  {
   "cell_type": "code",
   "execution_count": 5,
   "metadata": {
    "metadata": {}
   },
   "outputs": [],
   "source": [
    "if not root.endswith(\"/\"):\n",
    "    root += \"/\"\n",
    "\n",
    "sep_category = \"$\" # separates categories like date, experiments, etc\n",
    "sep_count = \"%\" # separated the number of hairs by experiment"
   ]
  },
  {
   "cell_type": "code",
   "execution_count": 6,
   "metadata": {
    "metadata": {}
   },
   "outputs": [
    {
     "name": "stdout",
     "output_type": "stream",
     "text": [
      "\n",
      "*****************************\n",
      "20241214$IHNY$25%SDS$25%PB 4x$25%ELI 2-4-K 0.03 4x$single.txt\n",
      "Missing records: []\n",
      "splitted_name:  ['25%SDS', '25%PB 4x', '25%ELI 2-4-K 0.03 4x']\n",
      "len df: 75, len names: 75\n",
      "\n",
      "*****************************\n",
      "20241214$IHNY$25%PB 8x$26%ELI 2-4-k 0.03 8x$single.txt\n",
      "Missing records: []\n",
      "splitted_name:  ['25%PB 8x', '26%ELI 2-4-k 0.03 8x']\n",
      "len df: 51, len names: 51\n"
     ]
    }
   ],
   "source": [
    "all_dfs = []\n",
    "all_fns = []\n",
    "\n",
    "for file in os.listdir(root):\n",
    "    if file.endswith(\".txt\"):\n",
    "        print(\"\\n*****************************\")\n",
    "        print(file)\n",
    "        df = plotting.get_df_from_file(root + file,\n",
    "                                       skip=10)\n",
    "        # clean the df\n",
    "        if MODE in file:\n",
    "            df = plotting.clean_single(df)\n",
    "            assert \"single\" in file\n",
    "        else:\n",
    "            raise ValueError(f\"Not a {MODE} experiment\")\n",
    "\n",
    "        splitted_name = file.split(sep_category)\n",
    "        # get the experiments; i.e. not the date\n",
    "        # not the single or triple etc\n",
    "        splitted_name = splitted_name[2:-1]\n",
    "        print(\"splitted_name: \", splitted_name)\n",
    "        # add the experiment name in the dataframe\n",
    "        all_names = []\n",
    "        for entries in splitted_name:\n",
    "            times_name = entries.split(sep_count)\n",
    "            _times = int(times_name[0])\n",
    "            _name = times_name[1]\n",
    "            all_names += [_name] * _times\n",
    "        print(f\"len df: {len(df)}, len names: {len(all_names)}\")\n",
    "        df[\"Name\"] = all_names\n",
    "        # remove nan\n",
    "        df = df.dropna()\n",
    "        all_dfs.append(df)\n",
    "        all_fns.append(file.replace(\".txt\", \"\"))"
   ]
  },
  {
   "cell_type": "code",
   "execution_count": 7,
   "metadata": {
    "metadata": {}
   },
   "outputs": [],
   "source": [
    "def master_plots(df, header, ymin, ymax, savepath, show=False, verbose=False):\n",
    "    fig, ax, removed = plotting.create_boxplot(df, header, ymin, ymax)\n",
    "    #save removed data\n",
    "    removed.to_csv(f\"{savepath}{header}_removed.csv\", index=True)\n",
    "    if verbose:\n",
    "        print(f\"{len(removed)} removed data points for {header}\")\n",
    "    # plot\n",
    "    fig.savefig(f\"{savepath}{header}.png\")\n",
    "    if show: \n",
    "        plt.show()\n",
    "        plt.close()"
   ]
  },
  {
   "cell_type": "code",
   "execution_count": 8,
   "metadata": {
    "metadata": {}
   },
   "outputs": [
    {
     "data": {
      "text/plain": [
       "(2, 2)"
      ]
     },
     "execution_count": 8,
     "metadata": {},
     "output_type": "execute_result"
    }
   ],
   "source": [
    "len(all_dfs), len(all_fns)"
   ]
  },
  {
   "cell_type": "code",
   "execution_count": 9,
   "metadata": {
    "metadata": {}
   },
   "outputs": [
    {
     "data": {
      "text/plain": [
       "['20241214$IHNY$25%SDS$25%PB 4x$25%ELI 2-4-K 0.03 4x$single',\n",
       " '20241214$IHNY$25%PB 8x$26%ELI 2-4-k 0.03 8x$single']"
      ]
     },
     "execution_count": 9,
     "metadata": {},
     "output_type": "execute_result"
    }
   ],
   "source": [
    "all_fns"
   ]
  },
  {
   "cell_type": "code",
   "execution_count": 10,
   "metadata": {
    "metadata": {}
   },
   "outputs": [
    {
     "name": "stdout",
     "output_type": "stream",
     "text": [
      "\n",
      "************************************\n",
      "20241214$IHNY$25%SDS$25%PB 4x$25%ELI 2-4-K 0.03 4x$single\n",
      "\n",
      "df length: 70\n",
      "\n",
      "Creating boxplot for TENSILE_STRENGTH\n",
      "Removed outliers for SDS : 24    152.6\n",
      "Name: TENSILE_STRENGTH, dtype: float64\n",
      "Removed outliers for PB 4x : 28    150.9\n",
      "35    167.2\n",
      "Name: TENSILE_STRENGTH, dtype: float64\n",
      "Removed outliers for ELI 2-4-K 0.03 4x : Series([], Name: TENSILE_STRENGTH, dtype: float64)\n",
      "Median for SDS: 211.1\n",
      "Median for PB 4x: 214.8\n",
      "Median for ELI 2-4-K 0.03 4x: 206.0\n",
      "\n",
      "Creating boxplot for BREAK_STRAIN(*)(#)\n",
      "Removed outliers for SDS : 24    28.357\n",
      "Name: BREAK_STRAIN(*)(#), dtype: float64\n",
      "Removed outliers for PB 4x : 28    26.608\n",
      "Name: BREAK_STRAIN(*)(#), dtype: float64\n",
      "Removed outliers for ELI 2-4-K 0.03 4x : Series([], Name: BREAK_STRAIN(*)(#), dtype: float64)\n",
      "Stats. significance: SDS and PB 4x: p = 0.0006\n",
      "Stats. significance: SDS and ELI 2-4-K 0.03 4x: p = 0.0265\n",
      "Median for SDS: 46.656\n",
      "Median for PB 4x: 52.026\n",
      "Median for ELI 2-4-K 0.03 4x: 51.065\n",
      "\n",
      "Creating boxplot for BREAK_LOAD\n",
      "Removed outliers for SDS : 13    1.455\n",
      "Name: BREAK_LOAD, dtype: float64\n",
      "Removed outliers for PB 4x : Series([], Name: BREAK_LOAD, dtype: float64)\n",
      "Removed outliers for ELI 2-4-K 0.03 4x : Series([], Name: BREAK_LOAD, dtype: float64)\n",
      "Median for SDS: 0.698\n",
      "Median for PB 4x: 0.7946500000000001\n",
      "Median for ELI 2-4-K 0.03 4x: 0.81625\n",
      "\n",
      "Creating boxplot for EMOD(*)(#)\n",
      "Removed outliers for SDS : 13    4.798\n",
      "16    6.964\n",
      "Name: EMOD(*)(#), dtype: float64\n",
      "Removed outliers for PB 4x : 25    7.126\n",
      "Name: EMOD(*)(#), dtype: float64\n",
      "Removed outliers for ELI 2-4-K 0.03 4x : Series([], Name: EMOD(*)(#), dtype: float64)\n",
      "Stats. significance: SDS and PB 4x: p = 0.0095\n",
      "Stats. significance: SDS and ELI 2-4-K 0.03 4x: p = 0.0292\n",
      "Median for SDS: 5.777000000000001\n",
      "Median for PB 4x: 5.4750000000000005\n",
      "Median for ELI 2-4-K 0.03 4x: 5.5605\n",
      "\n",
      "************************************\n",
      "20241214$IHNY$25%PB 8x$26%ELI 2-4-k 0.03 8x$single\n",
      "\n",
      "df length: 46\n",
      "\n",
      "Creating boxplot for TENSILE_STRENGTH\n",
      "Removed outliers for PB 8x : Series([], Name: TENSILE_STRENGTH, dtype: float64)\n",
      "Removed outliers for ELI 2-4-k 0.03 8x : Series([], Name: TENSILE_STRENGTH, dtype: float64)\n",
      "Median for PB 8x: 206.35000000000002\n",
      "Median for ELI 2-4-k 0.03 8x: 208.8\n",
      "\n",
      "Creating boxplot for BREAK_STRAIN(*)(#)\n",
      "Removed outliers for PB 8x : Series([], Name: BREAK_STRAIN(*)(#), dtype: float64)\n",
      "Removed outliers for ELI 2-4-k 0.03 8x : 41    33.655\n",
      "45    25.859\n",
      "46    64.455\n",
      "Name: BREAK_STRAIN(*)(#), dtype: float64\n",
      "Median for PB 8x: 48.066\n",
      "Median for ELI 2-4-k 0.03 8x: 48.962\n",
      "\n",
      "Creating boxplot for BREAK_LOAD\n",
      "Removed outliers for PB 8x : 13    1.533\n",
      "Name: BREAK_LOAD, dtype: float64\n",
      "Removed outliers for ELI 2-4-k 0.03 8x : 31    1.327\n",
      "42    1.304\n",
      "Name: BREAK_LOAD, dtype: float64\n",
      "Median for PB 8x: 0.6666\n",
      "Median for ELI 2-4-k 0.03 8x: 0.79565\n",
      "\n",
      "Creating boxplot for EMOD(*)(#)\n",
      "Removed outliers for PB 8x : 5     4.673\n",
      "19    5.107\n",
      "22    4.498\n",
      "24    5.105\n",
      "Name: EMOD(*)(#), dtype: float64\n",
      "Removed outliers for ELI 2-4-k 0.03 8x : 45    6.825\n",
      "Name: EMOD(*)(#), dtype: float64\n",
      "Median for PB 8x: 5.6835\n",
      "Median for ELI 2-4-k 0.03 8x: 5.390000000000001\n",
      "\n",
      "\n",
      "plotting DONE\n"
     ]
    }
   ],
   "source": [
    "for df, name in zip(all_dfs, all_fns):\n",
    "    print(\"\\n************************************\")\n",
    "    print(f\"{name}\\n\")\n",
    "    print(f\"df length: {len(df)}\")\n",
    "    try:\n",
    "        savepath = f\"{root}{name}/\"\n",
    "        if dev:\n",
    "            savepath = f\"{root}dev/\"\n",
    "        os.makedirs(savepath, exist_ok=True)\n",
    "        \n",
    "        try:\n",
    "            header = 'TENSILE_STRENGTH'\n",
    "            ymin = 90\n",
    "            ymax = 325\n",
    "            master_plots(df, header, ymin, ymax, savepath)\n",
    "        except Exception as e:\n",
    "            print(f\"ERROR with {header}\")\n",
    "            print(\"Error:\", e)\n",
    "\n",
    "        try:\n",
    "            header = 'BREAK_STRAIN(*)(#)'\n",
    "            ymin = 0\n",
    "            ymax = 100\n",
    "            master_plots(df, header, ymin, ymax, savepath)\n",
    "        except Exception as e:\n",
    "            print(f\"ERROR with {header}\")\n",
    "            print(\"Error:\", e)\n",
    "\n",
    "        try:\n",
    "            header = 'BREAK_LOAD'\n",
    "            ymin = 0\n",
    "            ymax = 2.0\n",
    "            master_plots(df, header, ymin, ymax, savepath)\n",
    "        except Exception as e:\n",
    "            print(f\"ERROR with {header}\")\n",
    "            print(\"Error:\", e)\n",
    "        \n",
    "        try:\n",
    "            header = 'EMOD(*)(#)'\n",
    "            ymin = 2.5\n",
    "            ymax = 8.0\n",
    "            master_plots(df, header, ymin, ymax, savepath)\n",
    "        except Exception as e:\n",
    "            print(f\"ERROR with {header}\")\n",
    "            print(\"Error:\", e)\n",
    "\n",
    "        # scatter plots\n",
    "        y_col = 'TENSILE_STRENGTH'\n",
    "        x_col = 'MEAN AREA'\n",
    "        savedir = f\"{savepath}correlation_plot/\"\n",
    "        plt = plotting.create_scatter_plot(df, x_col, y_col, savedir)\n",
    "\n",
    "        y_col = 'EMOD(*)(#)'\n",
    "        x_col = 'MEAN AREA'\n",
    "        savedir = f\"{savepath}correlation_plot/\"\n",
    "        plt = plotting.create_scatter_plot(df, x_col, y_col, savedir)\n",
    "\n",
    "        y_col = 'BREAK_LOAD'\n",
    "        x_col = 'MEAN AREA'\n",
    "        savedir = f\"{savepath}correlation_plot/\"\n",
    "        plt = plotting.create_scatter_plot(df, x_col, y_col, savedir)\n",
    "\n",
    "    except:\n",
    "        print(f\"\\nERROR with {name}\\n\")\n",
    "        continue\n",
    "\n",
    "print(\"\\n\\nplotting DONE\")"
   ]
  },
  {
   "cell_type": "code",
   "execution_count": null,
   "metadata": {},
   "outputs": [],
   "source": []
  }
 ],
 "metadata": {
  "kernelspec": {
   "display_name": "Python 3 (ipykernel)",
   "language": "python",
   "name": "python3"
  },
  "language_info": {
   "codemirror_mode": {
    "name": "ipython",
    "version": 3
   },
   "file_extension": ".py",
   "mimetype": "text/x-python",
   "name": "python",
   "nbconvert_exporter": "python",
   "pygments_lexer": "ipython3",
   "version": "3.9.18"
  }
 },
 "nbformat": 4,
 "nbformat_minor": 2
}
