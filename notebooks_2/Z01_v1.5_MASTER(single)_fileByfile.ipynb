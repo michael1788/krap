{
 "cells": [
  {
   "attachments": {},
   "cell_type": "markdown",
   "metadata": {},
   "source": [
    "### Goal"
   ]
  },
  {
   "cell_type": "code",
   "execution_count": 1,
   "metadata": {
    "metadata": {}
   },
   "outputs": [],
   "source": [
    "%load_ext autoreload\n",
    "%autoreload 2"
   ]
  },
  {
   "cell_type": "code",
   "execution_count": 2,
   "metadata": {
    "metadata": {}
   },
   "outputs": [],
   "source": [
    "import os\n",
    "import pandas as pd\n",
    "\n",
    "# to prevent figure \n",
    "# to show in the notebook\n",
    "import matplotlib\n",
    "matplotlib.use('Agg')\n",
    "\n",
    "import matplotlib.pyplot as plt\n",
    "\n",
    "import plotting as plotting"
   ]
  },
  {
   "cell_type": "markdown",
   "metadata": {},
   "source": [
    "### TODO: update this"
   ]
  },
  {
   "cell_type": "code",
   "execution_count": 3,
   "metadata": {
    "metadata": {}
   },
   "outputs": [],
   "source": [
    "date = \"25-01-24\"\n",
    "y_none = True\n",
    "pathfile = f\"Pulling data/{date}/single/\"\n",
    "\n",
    "max_100 = True"
   ]
  },
  {
   "cell_type": "markdown",
   "metadata": {},
   "source": [
    "### From here; automatic run"
   ]
  },
  {
   "cell_type": "code",
   "execution_count": 4,
   "metadata": {
    "metadata": {}
   },
   "outputs": [],
   "source": [
    "root = f\"/Users/michaelmoret/Library/CloudStorage/GoogleDrive-michael@externa.bio/.shortcut-targets-by-id/1BdUNsBjDh5Gee_76jCiKB1C_CwG0ercP/{pathfile}\"\n",
    "\n",
    "MODE = \"single\"\n",
    "dev = False"
   ]
  },
  {
   "cell_type": "code",
   "execution_count": 5,
   "metadata": {
    "metadata": {}
   },
   "outputs": [],
   "source": [
    "if not root.endswith(\"/\"):\n",
    "    root += \"/\"\n",
    "\n",
    "sep_category = \"$\" # separates categories like date, experiments, etc\n",
    "sep_count = \"%\" # separated the number of hairs by experiment"
   ]
  },
  {
   "cell_type": "code",
   "execution_count": 6,
   "metadata": {
    "metadata": {}
   },
   "outputs": [
    {
     "name": "stdout",
     "output_type": "stream",
     "text": [
      "\n",
      "*****************************\n",
      "20250124$IHNY$25%phos ctrl$25% 2-4-K 0.02$25% 2-4-K 0.04$25% 2-4-K 0.06$single.txt\n",
      "Missing records: []\n",
      "splitted_name:  ['25%phos ctrl', '25% 2-4-K 0.02', '25% 2-4-K 0.04', '25% 2-4-K 0.06']\n",
      "len df: 100, len names: 100\n",
      "\n",
      "*****************************\n",
      "20250124$IHNY$25%phos-2 ctrl$25% 2-4-K 0.02$25% 2-4-K 0.04$25% 2-4-K 0.06$single.txt\n",
      "Missing records: []\n",
      "splitted_name:  ['25%phos-2 ctrl', '25% 2-4-K 0.02', '25% 2-4-K 0.04', '25% 2-4-K 0.06']\n",
      "len df: 100, len names: 100\n"
     ]
    }
   ],
   "source": [
    "all_dfs = []\n",
    "all_fns = []\n",
    "\n",
    "verbose = False\n",
    "for file in os.listdir(root):\n",
    "    if file.endswith(\".txt\"):\n",
    "        print(\"\\n*****************************\")\n",
    "        print(file)\n",
    "        df = plotting.get_df_from_file(root + file,\n",
    "                                       skip=10)\n",
    "        if verbose:\n",
    "            print(\"df length after skipping: \", len(df))\n",
    "        # clean the df\n",
    "        if MODE in file:\n",
    "            df = plotting.clean_single(df, max_100=max_100)\n",
    "            assert \"single\" in file\n",
    "        else:\n",
    "            raise ValueError(f\"Not a {MODE} experiment\")\n",
    "        if verbose:\n",
    "            print(\"df length after cleaning: \", len(df))\n",
    "        \n",
    "        splitted_name = file.split(sep_category)\n",
    "        # get the experiments; i.e. not the date\n",
    "        # not the single or triple etc\n",
    "        splitted_name = splitted_name[2:-1]\n",
    "        print(\"splitted_name: \", splitted_name)\n",
    "        # add the experiment name in the dataframe\n",
    "        all_names = []\n",
    "        for entries in splitted_name:\n",
    "            times_name = entries.split(sep_count)\n",
    "            _times = int(times_name[0])\n",
    "            _name = times_name[1]\n",
    "            all_names += [_name] * _times\n",
    "        print(f\"len df: {len(df)}, len names: {len(all_names)}\")\n",
    "        df[\"Name\"] = all_names\n",
    "        # remove nan\n",
    "        df = df.dropna()\n",
    "        all_dfs.append(df)\n",
    "        all_fns.append(file.replace(\".txt\", \"\"))"
   ]
  },
  {
   "cell_type": "code",
   "execution_count": 7,
   "metadata": {
    "metadata": {}
   },
   "outputs": [],
   "source": [
    "def master_plots(df, header, ymin, ymax, savepath, show=False, verbose=False):\n",
    "    fig, ax, removed = plotting.create_boxplot(df, header, ymin, ymax)\n",
    "    #save removed data\n",
    "    removed.to_csv(f\"{savepath}{header}_removed.csv\", index=True)\n",
    "    if verbose:\n",
    "        print(f\"{len(removed)} removed data points for {header}\")\n",
    "    # plot\n",
    "    fig.savefig(f\"{savepath}{header}.png\")\n",
    "    if show: \n",
    "        plt.show()\n",
    "        plt.close()"
   ]
  },
  {
   "cell_type": "code",
   "execution_count": 8,
   "metadata": {
    "metadata": {}
   },
   "outputs": [
    {
     "data": {
      "text/plain": [
       "(2, 2)"
      ]
     },
     "execution_count": 8,
     "metadata": {},
     "output_type": "execute_result"
    }
   ],
   "source": [
    "len(all_dfs), len(all_fns)"
   ]
  },
  {
   "cell_type": "code",
   "execution_count": 9,
   "metadata": {
    "metadata": {}
   },
   "outputs": [
    {
     "data": {
      "text/plain": [
       "['20250124$IHNY$25%phos ctrl$25% 2-4-K 0.02$25% 2-4-K 0.04$25% 2-4-K 0.06$single',\n",
       " '20250124$IHNY$25%phos-2 ctrl$25% 2-4-K 0.02$25% 2-4-K 0.04$25% 2-4-K 0.06$single']"
      ]
     },
     "execution_count": 9,
     "metadata": {},
     "output_type": "execute_result"
    }
   ],
   "source": [
    "all_fns"
   ]
  },
  {
   "cell_type": "code",
   "execution_count": 10,
   "metadata": {
    "metadata": {}
   },
   "outputs": [
    {
     "name": "stdout",
     "output_type": "stream",
     "text": [
      "\n",
      "************************************\n",
      "20250124$IHNY$25%phos ctrl$25% 2-4-K 0.02$25% 2-4-K 0.04$25% 2-4-K 0.06$single\n",
      "\n",
      "df length: 87\n",
      "\n",
      "Creating boxplot for TENSILE_STRENGTH\n",
      "Removed outliers for phos ctrl : 5    427.2\n",
      "Name: TENSILE_STRENGTH, dtype: float64\n",
      "Removed outliers for  2-4-K 0.02 : Series([], Name: TENSILE_STRENGTH, dtype: float64)\n",
      "Removed outliers for  2-4-K 0.04 : 53    457.2\n",
      "Name: TENSILE_STRENGTH, dtype: float64\n",
      "Removed outliers for  2-4-K 0.06 : Series([], Name: TENSILE_STRENGTH, dtype: float64)\n",
      "\n",
      "Creating boxplot for BREAK_STRAIN(*)(#)\n",
      "Removed outliers for phos ctrl : Series([], Name: BREAK_STRAIN(*)(#), dtype: float64)\n",
      "Removed outliers for  2-4-K 0.02 : 45    65.814\n",
      "Name: BREAK_STRAIN(*)(#), dtype: float64\n",
      "Removed outliers for  2-4-K 0.04 : Series([], Name: BREAK_STRAIN(*)(#), dtype: float64)\n",
      "Removed outliers for  2-4-K 0.06 : Series([], Name: BREAK_STRAIN(*)(#), dtype: float64)\n",
      "Stats. significance:  2-4-K 0.02 and  2-4-K 0.04: p = 0.0054\n",
      "Stats. significance:  2-4-K 0.02 and  2-4-K 0.06: p = 0.0056\n",
      "\n",
      "Creating boxplot for BREAK_LOAD\n",
      "Removed outliers for phos ctrl : Series([], Name: BREAK_LOAD, dtype: float64)\n",
      "Removed outliers for  2-4-K 0.02 : Series([], Name: BREAK_LOAD, dtype: float64)\n",
      "Removed outliers for  2-4-K 0.04 : Series([], Name: BREAK_LOAD, dtype: float64)\n",
      "Removed outliers for  2-4-K 0.06 : Series([], Name: BREAK_LOAD, dtype: float64)\n",
      "\n",
      "Creating boxplot for EMOD(*)(#)\n",
      "Removed outliers for phos ctrl : 5    10.95\n",
      "Name: EMOD(*)(#), dtype: float64\n",
      "Removed outliers for  2-4-K 0.02 : 34    0.022040\n",
      "40   -0.003119\n",
      "48    9.539000\n",
      "Name: EMOD(*)(#), dtype: float64\n",
      "Removed outliers for  2-4-K 0.04 : 53    11.58\n",
      "Name: EMOD(*)(#), dtype: float64\n",
      "Removed outliers for  2-4-K 0.06 : 76    0.8248\n",
      "92   -0.0150\n",
      "Name: EMOD(*)(#), dtype: float64\n",
      "\n",
      "************************************\n",
      "20250124$IHNY$25%phos-2 ctrl$25% 2-4-K 0.02$25% 2-4-K 0.04$25% 2-4-K 0.06$single\n",
      "\n",
      "df length: 84\n",
      "\n",
      "Creating boxplot for TENSILE_STRENGTH\n",
      "Removed outliers for phos-2 ctrl : Series([], Name: TENSILE_STRENGTH, dtype: float64)\n",
      "Removed outliers for  2-4-K 0.02 : Series([], Name: TENSILE_STRENGTH, dtype: float64)\n",
      "Removed outliers for  2-4-K 0.04 : 60    122.3\n",
      "64    105.0\n",
      "Name: TENSILE_STRENGTH, dtype: float64\n",
      "Removed outliers for  2-4-K 0.06 : Series([], Name: TENSILE_STRENGTH, dtype: float64)\n",
      "\n",
      "Creating boxplot for BREAK_STRAIN(*)(#)\n",
      "Removed outliers for phos-2 ctrl : Series([], Name: BREAK_STRAIN(*)(#), dtype: float64)\n",
      "Removed outliers for  2-4-K 0.02 : Series([], Name: BREAK_STRAIN(*)(#), dtype: float64)\n",
      "Removed outliers for  2-4-K 0.04 : 60    4.289\n",
      "64    3.386\n",
      "Name: BREAK_STRAIN(*)(#), dtype: float64\n",
      "Removed outliers for  2-4-K 0.06 : Series([], Name: BREAK_STRAIN(*)(#), dtype: float64)\n",
      "Stats. significance:  2-4-K 0.04 and  2-4-K 0.06: p = 0.0448\n",
      "\n",
      "Creating boxplot for BREAK_LOAD\n",
      "Removed outliers for phos-2 ctrl : Series([], Name: BREAK_LOAD, dtype: float64)\n",
      "Removed outliers for  2-4-K 0.02 : Series([], Name: BREAK_LOAD, dtype: float64)\n",
      "Removed outliers for  2-4-K 0.04 : Series([], Name: BREAK_LOAD, dtype: float64)\n",
      "Removed outliers for  2-4-K 0.06 : Series([], Name: BREAK_LOAD, dtype: float64)\n",
      "\n",
      "Creating boxplot for EMOD(*)(#)\n",
      "Removed outliers for phos-2 ctrl : 5   -0.003942\n",
      "Name: EMOD(*)(#), dtype: float64\n",
      "Removed outliers for  2-4-K 0.02 : 29    5.563\n",
      "Name: EMOD(*)(#), dtype: float64\n",
      "Removed outliers for  2-4-K 0.04 : 54    4.03900\n",
      "55    5.69600\n",
      "60    4.12700\n",
      "64    4.03300\n",
      "66   -0.02337\n",
      "Name: EMOD(*)(#), dtype: float64\n",
      "Removed outliers for  2-4-K 0.06 : 93    0.04191\n",
      "99    5.71100\n",
      "Name: EMOD(*)(#), dtype: float64\n",
      "\n",
      "\n",
      "plotting DONE\n"
     ]
    }
   ],
   "source": [
    "for df, name in zip(all_dfs, all_fns):\n",
    "    print(\"\\n************************************\")\n",
    "    print(f\"{name}\\n\")\n",
    "    print(f\"df length: {len(df)}\")\n",
    "    try:\n",
    "        savepath = f\"{root}{name}/\"\n",
    "        if dev:\n",
    "            savepath = f\"{root}dev/\"\n",
    "        os.makedirs(savepath, exist_ok=True)\n",
    "        \n",
    "        try:\n",
    "            header = 'TENSILE_STRENGTH'\n",
    "            if y_none:\n",
    "                ymin = None\n",
    "                ymax = None\n",
    "            else:\n",
    "                ymin = 90\n",
    "                ymax = 325\n",
    "            master_plots(df, header, ymin, ymax, savepath)\n",
    "        except Exception as e:\n",
    "            print(f\"ERROR with {header}\")\n",
    "            print(\"Error:\", e)\n",
    "\n",
    "        try:\n",
    "            header = 'BREAK_STRAIN(*)(#)'\n",
    "            if y_none:\n",
    "                ymin = None\n",
    "                ymax = None\n",
    "            else:\n",
    "                ymin = 0\n",
    "                ymax = 100\n",
    "            master_plots(df, header, ymin, ymax, savepath)\n",
    "        except Exception as e:\n",
    "            print(f\"ERROR with {header}\")\n",
    "            print(\"Error:\", e)\n",
    "\n",
    "        try:\n",
    "            header = 'BREAK_LOAD'\n",
    "            if y_none:\n",
    "                ymin = None\n",
    "                ymax = None\n",
    "            else:\n",
    "                ymin = 0\n",
    "                ymax = 2.0\n",
    "            master_plots(df, header, ymin, ymax, savepath)\n",
    "        except Exception as e:\n",
    "            print(f\"ERROR with {header}\")\n",
    "            print(\"Error:\", e)\n",
    "        \n",
    "        try:\n",
    "            header = 'EMOD(*)(#)'\n",
    "            if y_none:\n",
    "                ymin = None\n",
    "                ymax = None\n",
    "            else:\n",
    "                ymin = 2.5\n",
    "                ymax = 8.0\n",
    "            master_plots(df, header, ymin, ymax, savepath)\n",
    "        except Exception as e:\n",
    "            print(f\"ERROR with {header}\")\n",
    "            print(\"Error:\", e)\n",
    "\n",
    "        # scatter plots\n",
    "        y_col = 'TENSILE_STRENGTH'\n",
    "        x_col = 'MEAN AREA'\n",
    "        savedir = f\"{savepath}correlation_plot/\"\n",
    "        plt = plotting.create_scatter_plot(df, x_col, y_col, savedir)\n",
    "\n",
    "        y_col = 'EMOD(*)(#)'\n",
    "        x_col = 'MEAN AREA'\n",
    "        savedir = f\"{savepath}correlation_plot/\"\n",
    "        plt = plotting.create_scatter_plot(df, x_col, y_col, savedir)\n",
    "\n",
    "        y_col = 'BREAK_LOAD'\n",
    "        x_col = 'MEAN AREA'\n",
    "        savedir = f\"{savepath}correlation_plot/\"\n",
    "        plt = plotting.create_scatter_plot(df, x_col, y_col, savedir)\n",
    "\n",
    "    except:\n",
    "        print(f\"\\nERROR with {name}\\n\")\n",
    "        continue\n",
    "\n",
    "print(\"\\n\\nplotting DONE\")"
   ]
  },
  {
   "cell_type": "code",
   "execution_count": null,
   "metadata": {},
   "outputs": [],
   "source": []
  }
 ],
 "metadata": {
  "kernelspec": {
   "display_name": "Python 3 (ipykernel)",
   "language": "python",
   "name": "python3"
  },
  "language_info": {
   "codemirror_mode": {
    "name": "ipython",
    "version": 3
   },
   "file_extension": ".py",
   "mimetype": "text/x-python",
   "name": "python",
   "nbconvert_exporter": "python",
   "pygments_lexer": "ipython3",
   "version": "3.9.18"
  }
 },
 "nbformat": 4,
 "nbformat_minor": 2
}
