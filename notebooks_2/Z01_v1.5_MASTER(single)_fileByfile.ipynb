{
 "cells": [
  {
   "attachments": {},
   "cell_type": "markdown",
   "metadata": {},
   "source": [
    "### Goal"
   ]
  },
  {
   "cell_type": "code",
   "execution_count": 1,
   "metadata": {
    "metadata": {}
   },
   "outputs": [],
   "source": [
    "%load_ext autoreload\n",
    "%autoreload 2"
   ]
  },
  {
   "cell_type": "code",
   "execution_count": 2,
   "metadata": {
    "metadata": {}
   },
   "outputs": [],
   "source": [
    "import os\n",
    "import pandas as pd\n",
    "\n",
    "# to prevent figure \n",
    "# to show in the notebook\n",
    "import matplotlib\n",
    "matplotlib.use('Agg')\n",
    "\n",
    "import matplotlib.pyplot as plt\n",
    "\n",
    "import plotting as plotting"
   ]
  },
  {
   "cell_type": "markdown",
   "metadata": {},
   "source": [
    "### TODO: update this"
   ]
  },
  {
   "cell_type": "code",
   "execution_count": 3,
   "metadata": {
    "metadata": {}
   },
   "outputs": [],
   "source": [
    "date = \"24-12-12(pot_label_prob)\"\n",
    "y_none = True\n",
    "pathfile = f\"Pulling data/{date}/single/\"\n",
    "\n",
    "max_100 = True"
   ]
  },
  {
   "cell_type": "markdown",
   "metadata": {},
   "source": [
    "### From here; automatic run"
   ]
  },
  {
   "cell_type": "code",
   "execution_count": 4,
   "metadata": {
    "metadata": {}
   },
   "outputs": [],
   "source": [
    "root = f\"/Users/michaelmoret/Library/CloudStorage/GoogleDrive-michael@externa.bio/.shortcut-targets-by-id/1BdUNsBjDh5Gee_76jCiKB1C_CwG0ercP/{pathfile}\"\n",
    "\n",
    "MODE = \"single\"\n",
    "dev = False"
   ]
  },
  {
   "cell_type": "code",
   "execution_count": 5,
   "metadata": {
    "metadata": {}
   },
   "outputs": [],
   "source": [
    "if not root.endswith(\"/\"):\n",
    "    root += \"/\"\n",
    "\n",
    "sep_category = \"$\" # separates categories like date, experiments, etc\n",
    "sep_count = \"%\" # separated the number of hairs by experiment"
   ]
  },
  {
   "cell_type": "code",
   "execution_count": 6,
   "metadata": {
    "metadata": {}
   },
   "outputs": [
    {
     "name": "stdout",
     "output_type": "stream",
     "text": [
      "\n",
      "*****************************\n",
      "20241212$IHNY$25%phosctrl$25% KPMI NPYS 0.01$25%KPMI NPYS 0.03$25% KPMI NPYS 0.05$single.txt\n",
      "Missing records: []\n",
      "splitted_name:  ['25%phosctrl', '25% KPMI NPYS 0.01', '25%KPMI NPYS 0.03', '25% KPMI NPYS 0.05']\n",
      "len df: 100, len names: 100\n",
      "\n",
      "*****************************\n",
      "20241212$IHNY$25%phosctrl$25% KPM2 NPYS 0.01$25%KPM2 NPYS 0.03$25% KPM2 NPYS 0.05$single.txt\n",
      "Missing records: []\n",
      "splitted_name:  ['25%phosctrl', '25% KPM2 NPYS 0.01', '25%KPM2 NPYS 0.03', '25% KPM2 NPYS 0.05']\n",
      "len df: 100, len names: 100\n",
      "\n",
      "*****************************\n",
      "20241212$IHNY$25%AActrl$25% KPM2 NPYS 0.01$25%KPM2 NPYS 0.03$25% KPM2 NPYS 0.05$ single.txt\n",
      "Missing records: []\n",
      "splitted_name:  ['25%AActrl', '25% KPM2 NPYS 0.01', '25%KPM2 NPYS 0.03', '25% KPM2 NPYS 0.05']\n",
      "len df: 100, len names: 100\n",
      "\n",
      "*****************************\n",
      "20241212$IHNY$25%AActrl$25% KPMI NPYS 0.01$25%KPMI NPYS 0.03$25% KPMI NPYS 0.05$ single.txt\n",
      "Missing records: []\n",
      "splitted_name:  ['25%AActrl', '25% KPMI NPYS 0.01', '25%KPMI NPYS 0.03', '25% KPMI NPYS 0.05']\n",
      "len df: 100, len names: 100\n"
     ]
    }
   ],
   "source": [
    "all_dfs = []\n",
    "all_fns = []\n",
    "\n",
    "verbose = False\n",
    "for file in os.listdir(root):\n",
    "    if file.endswith(\".txt\"):\n",
    "        print(\"\\n*****************************\")\n",
    "        print(file)\n",
    "        df = plotting.get_df_from_file(root + file,\n",
    "                                       skip=10)\n",
    "        if verbose:\n",
    "            print(\"df length after skipping: \", len(df))\n",
    "        # clean the df\n",
    "        if MODE in file:\n",
    "            df = plotting.clean_single(df, max_100=max_100)\n",
    "            assert \"single\" in file\n",
    "        else:\n",
    "            raise ValueError(f\"Not a {MODE} experiment\")\n",
    "        if verbose:\n",
    "            print(\"df length after cleaning: \", len(df))\n",
    "        \n",
    "        splitted_name = file.split(sep_category)\n",
    "        # get the experiments; i.e. not the date\n",
    "        # not the single or triple etc\n",
    "        splitted_name = splitted_name[2:-1]\n",
    "        print(\"splitted_name: \", splitted_name)\n",
    "        # add the experiment name in the dataframe\n",
    "        all_names = []\n",
    "        for entries in splitted_name:\n",
    "            times_name = entries.split(sep_count)\n",
    "            _times = int(times_name[0])\n",
    "            _name = times_name[1]\n",
    "            all_names += [_name] * _times\n",
    "        print(f\"len df: {len(df)}, len names: {len(all_names)}\")\n",
    "        df[\"Name\"] = all_names\n",
    "        # remove nan\n",
    "        df = df.dropna()\n",
    "        all_dfs.append(df)\n",
    "        all_fns.append(file.replace(\".txt\", \"\"))"
   ]
  },
  {
   "cell_type": "code",
   "execution_count": 7,
   "metadata": {
    "metadata": {}
   },
   "outputs": [],
   "source": [
    "def master_plots(df, header, ymin, ymax, savepath, show=False, verbose=False):\n",
    "    fig, ax, removed = plotting.create_boxplot(df, header, ymin, ymax)\n",
    "    #save removed data\n",
    "    removed.to_csv(f\"{savepath}{header}_removed.csv\", index=True)\n",
    "    if verbose:\n",
    "        print(f\"{len(removed)} removed data points for {header}\")\n",
    "    # plot\n",
    "    fig.savefig(f\"{savepath}{header}.png\")\n",
    "    if show: \n",
    "        plt.show()\n",
    "        plt.close()"
   ]
  },
  {
   "cell_type": "code",
   "execution_count": 8,
   "metadata": {
    "metadata": {}
   },
   "outputs": [
    {
     "data": {
      "text/plain": [
       "(4, 4)"
      ]
     },
     "execution_count": 8,
     "metadata": {},
     "output_type": "execute_result"
    }
   ],
   "source": [
    "len(all_dfs), len(all_fns)"
   ]
  },
  {
   "cell_type": "code",
   "execution_count": 9,
   "metadata": {
    "metadata": {}
   },
   "outputs": [
    {
     "data": {
      "text/plain": [
       "['20241212$IHNY$25%phosctrl$25% KPMI NPYS 0.01$25%KPMI NPYS 0.03$25% KPMI NPYS 0.05$single',\n",
       " '20241212$IHNY$25%phosctrl$25% KPM2 NPYS 0.01$25%KPM2 NPYS 0.03$25% KPM2 NPYS 0.05$single',\n",
       " '20241212$IHNY$25%AActrl$25% KPM2 NPYS 0.01$25%KPM2 NPYS 0.03$25% KPM2 NPYS 0.05$ single',\n",
       " '20241212$IHNY$25%AActrl$25% KPMI NPYS 0.01$25%KPMI NPYS 0.03$25% KPMI NPYS 0.05$ single']"
      ]
     },
     "execution_count": 9,
     "metadata": {},
     "output_type": "execute_result"
    }
   ],
   "source": [
    "all_fns"
   ]
  },
  {
   "cell_type": "code",
   "execution_count": 10,
   "metadata": {
    "metadata": {}
   },
   "outputs": [
    {
     "name": "stdout",
     "output_type": "stream",
     "text": [
      "\n",
      "************************************\n",
      "20241212$IHNY$25%phosctrl$25% KPMI NPYS 0.01$25%KPMI NPYS 0.03$25% KPMI NPYS 0.05$single\n",
      "\n",
      "df length: 93\n",
      "\n",
      "Creating boxplot for TENSILE_STRENGTH\n",
      "Removed outliers for phosctrl : 16    97.79\n",
      "Name: TENSILE_STRENGTH, dtype: float64\n",
      "Removed outliers for  KPMI NPYS 0.01 : Series([], Name: TENSILE_STRENGTH, dtype: float64)\n",
      "Removed outliers for KPMI NPYS 0.03 : 57    150.2\n",
      "Name: TENSILE_STRENGTH, dtype: float64\n",
      "Removed outliers for  KPMI NPYS 0.05 : Series([], Name: TENSILE_STRENGTH, dtype: float64)\n",
      "\n",
      "Creating boxplot for BREAK_STRAIN(*)(#)\n",
      "Removed outliers for phosctrl : 16    7.594\n",
      "Name: BREAK_STRAIN(*)(#), dtype: float64\n",
      "Removed outliers for  KPMI NPYS 0.01 : Series([], Name: BREAK_STRAIN(*)(#), dtype: float64)\n",
      "Removed outliers for KPMI NPYS 0.03 : Series([], Name: BREAK_STRAIN(*)(#), dtype: float64)\n",
      "Removed outliers for  KPMI NPYS 0.05 : 84    27.189\n",
      "91    33.489\n",
      "Name: BREAK_STRAIN(*)(#), dtype: float64\n",
      "\n",
      "Creating boxplot for BREAK_LOAD\n",
      "Removed outliers for phosctrl : Series([], Name: BREAK_LOAD, dtype: float64)\n",
      "Removed outliers for  KPMI NPYS 0.01 : 37    1.492\n",
      "Name: BREAK_LOAD, dtype: float64\n",
      "Removed outliers for KPMI NPYS 0.03 : Series([], Name: BREAK_LOAD, dtype: float64)\n",
      "Removed outliers for  KPMI NPYS 0.05 : 94    1.39\n",
      "Name: BREAK_LOAD, dtype: float64\n",
      "\n",
      "Creating boxplot for EMOD(*)(#)\n",
      "Removed outliers for phosctrl : 2     0.02848\n",
      "21    0.05665\n",
      "Name: EMOD(*)(#), dtype: float64\n",
      "Removed outliers for  KPMI NPYS 0.01 : 32    0.002398\n",
      "45    0.250200\n",
      "Name: EMOD(*)(#), dtype: float64\n",
      "Removed outliers for KPMI NPYS 0.03 : Series([], Name: EMOD(*)(#), dtype: float64)\n",
      "Removed outliers for  KPMI NPYS 0.05 : 84    6.3000\n",
      "86    0.6525\n",
      "94    4.4320\n",
      "95    3.4080\n",
      "Name: EMOD(*)(#), dtype: float64\n",
      "Stats. significance: phosctrl and KPMI NPYS 0.03: p = 0.0417\n",
      "\n",
      "************************************\n",
      "20241212$IHNY$25%phosctrl$25% KPM2 NPYS 0.01$25%KPM2 NPYS 0.03$25% KPM2 NPYS 0.05$single\n",
      "\n",
      "df length: 89\n",
      "\n",
      "Creating boxplot for TENSILE_STRENGTH\n",
      "Removed outliers for phosctrl : 3    247.4\n",
      "Name: TENSILE_STRENGTH, dtype: float64\n",
      "Removed outliers for  KPM2 NPYS 0.01 : 37    100.5\n",
      "Name: TENSILE_STRENGTH, dtype: float64\n",
      "Removed outliers for KPM2 NPYS 0.03 : Series([], Name: TENSILE_STRENGTH, dtype: float64)\n",
      "Removed outliers for  KPM2 NPYS 0.05 : 77    144.9\n",
      "91    137.1\n",
      "Name: TENSILE_STRENGTH, dtype: float64\n",
      "\n",
      "Creating boxplot for BREAK_STRAIN(*)(#)\n",
      "Removed outliers for phosctrl : Series([], Name: BREAK_STRAIN(*)(#), dtype: float64)\n",
      "Removed outliers for  KPM2 NPYS 0.01 : 37     9.831\n",
      "49    28.244\n",
      "Name: BREAK_STRAIN(*)(#), dtype: float64\n",
      "Removed outliers for KPM2 NPYS 0.03 : Series([], Name: BREAK_STRAIN(*)(#), dtype: float64)\n",
      "Removed outliers for  KPM2 NPYS 0.05 : 82    27.070\n",
      "91    23.423\n",
      "Name: BREAK_STRAIN(*)(#), dtype: float64\n",
      "\n",
      "Creating boxplot for BREAK_LOAD\n",
      "Removed outliers for phosctrl : Series([], Name: BREAK_LOAD, dtype: float64)\n",
      "Removed outliers for  KPM2 NPYS 0.01 : 49    0.2718\n",
      "Name: BREAK_LOAD, dtype: float64\n",
      "Removed outliers for KPM2 NPYS 0.03 : Series([], Name: BREAK_LOAD, dtype: float64)\n",
      "Removed outliers for  KPM2 NPYS 0.05 : Series([], Name: BREAK_LOAD, dtype: float64)\n",
      "\n",
      "Creating boxplot for EMOD(*)(#)\n",
      "Removed outliers for phosctrl : 16    0.06652\n",
      "Name: EMOD(*)(#), dtype: float64\n",
      "Removed outliers for  KPM2 NPYS 0.01 : Series([], Name: EMOD(*)(#), dtype: float64)\n",
      "Removed outliers for KPM2 NPYS 0.03 : 55    1.688\n",
      "Name: EMOD(*)(#), dtype: float64\n",
      "Removed outliers for  KPM2 NPYS 0.05 : 91    0.1916\n",
      "Name: EMOD(*)(#), dtype: float64\n",
      "\n",
      "************************************\n",
      "20241212$IHNY$25%AActrl$25% KPM2 NPYS 0.01$25%KPM2 NPYS 0.03$25% KPM2 NPYS 0.05$ single\n",
      "\n",
      "df length: 84\n",
      "\n",
      "Creating boxplot for TENSILE_STRENGTH\n",
      "Removed outliers for AActrl : 4     131.4\n",
      "14    133.2\n",
      "Name: TENSILE_STRENGTH, dtype: float64\n",
      "Removed outliers for  KPM2 NPYS 0.01 : 33    130.5\n",
      "37    119.4\n",
      "Name: TENSILE_STRENGTH, dtype: float64\n",
      "Removed outliers for KPM2 NPYS 0.03 : Series([], Name: TENSILE_STRENGTH, dtype: float64)\n",
      "Removed outliers for  KPM2 NPYS 0.05 : 82    137.4\n",
      "88    134.5\n",
      "Name: TENSILE_STRENGTH, dtype: float64\n",
      "Stats. significance:  KPM2 NPYS 0.01 and  KPM2 NPYS 0.05: p = 0.0231\n",
      "\n",
      "Creating boxplot for BREAK_STRAIN(*)(#)\n",
      "Removed outliers for AActrl : 4      3.984\n",
      "14     5.666\n",
      "19    26.265\n",
      "Name: BREAK_STRAIN(*)(#), dtype: float64\n",
      "Removed outliers for  KPM2 NPYS 0.01 : 33    2.971\n",
      "37    4.318\n",
      "Name: BREAK_STRAIN(*)(#), dtype: float64\n",
      "Removed outliers for KPM2 NPYS 0.03 : Series([], Name: BREAK_STRAIN(*)(#), dtype: float64)\n",
      "Removed outliers for  KPM2 NPYS 0.05 : 88    17.507\n",
      "Name: BREAK_STRAIN(*)(#), dtype: float64\n",
      "\n",
      "Creating boxplot for BREAK_LOAD\n",
      "Removed outliers for AActrl : Series([], Name: BREAK_LOAD, dtype: float64)\n",
      "Removed outliers for  KPM2 NPYS 0.01 : Series([], Name: BREAK_LOAD, dtype: float64)\n",
      "Removed outliers for KPM2 NPYS 0.03 : Series([], Name: BREAK_LOAD, dtype: float64)\n",
      "Removed outliers for  KPM2 NPYS 0.05 : Series([], Name: BREAK_LOAD, dtype: float64)\n",
      "\n",
      "Creating boxplot for EMOD(*)(#)\n",
      "Removed outliers for AActrl : 10    3.6\n",
      "Name: EMOD(*)(#), dtype: float64\n",
      "Removed outliers for  KPM2 NPYS 0.01 : 31    0.1028\n",
      "Name: EMOD(*)(#), dtype: float64\n",
      "Removed outliers for KPM2 NPYS 0.03 : 53    0.7737\n",
      "Name: EMOD(*)(#), dtype: float64\n",
      "Removed outliers for  KPM2 NPYS 0.05 : Series([], Name: EMOD(*)(#), dtype: float64)\n"
     ]
    },
    {
     "name": "stderr",
     "output_type": "stream",
     "text": [
      "/Users/michaelmoret/tinyverse/krap/notebooks_2/plotting.py:238: RuntimeWarning: More than 20 figures have been opened. Figures created through the pyplot interface (`matplotlib.pyplot.figure`) are retained until explicitly closed and may consume too much memory. (To control this warning, see the rcParam `figure.max_open_warning`). Consider using `matplotlib.pyplot.close()`.\n",
      "  plt.figure(figsize=figsize)\n"
     ]
    },
    {
     "name": "stdout",
     "output_type": "stream",
     "text": [
      "\n",
      "************************************\n",
      "20241212$IHNY$25%AActrl$25% KPMI NPYS 0.01$25%KPMI NPYS 0.03$25% KPMI NPYS 0.05$ single\n",
      "\n",
      "df length: 88\n",
      "\n",
      "Creating boxplot for TENSILE_STRENGTH\n",
      "Removed outliers for AActrl : Series([], Name: TENSILE_STRENGTH, dtype: float64)\n",
      "Removed outliers for  KPMI NPYS 0.01 : 37    164.3\n",
      "Name: TENSILE_STRENGTH, dtype: float64\n",
      "Removed outliers for KPMI NPYS 0.03 : 52    234.7\n",
      "73    154.4\n",
      "Name: TENSILE_STRENGTH, dtype: float64\n",
      "Removed outliers for  KPMI NPYS 0.05 : Series([], Name: TENSILE_STRENGTH, dtype: float64)\n",
      "Stats. significance: AActrl and  KPMI NPYS 0.01: p = 0.0188\n",
      "\n",
      "Creating boxplot for BREAK_STRAIN(*)(#)\n",
      "Removed outliers for AActrl : Series([], Name: BREAK_STRAIN(*)(#), dtype: float64)\n",
      "Removed outliers for  KPMI NPYS 0.01 : Series([], Name: BREAK_STRAIN(*)(#), dtype: float64)\n",
      "Removed outliers for KPMI NPYS 0.03 : 73    36.844\n",
      "Name: BREAK_STRAIN(*)(#), dtype: float64\n",
      "Removed outliers for  KPMI NPYS 0.05 : Series([], Name: BREAK_STRAIN(*)(#), dtype: float64)\n",
      "Stats. significance: AActrl and KPMI NPYS 0.03: p = 0.0214\n",
      "\n",
      "Creating boxplot for BREAK_LOAD\n",
      "Removed outliers for AActrl : Series([], Name: BREAK_LOAD, dtype: float64)\n",
      "Removed outliers for  KPMI NPYS 0.01 : Series([], Name: BREAK_LOAD, dtype: float64)\n",
      "Removed outliers for KPMI NPYS 0.03 : 63    1.257\n",
      "Name: BREAK_LOAD, dtype: float64\n",
      "Removed outliers for  KPMI NPYS 0.05 : Series([], Name: BREAK_LOAD, dtype: float64)\n",
      "\n",
      "Creating boxplot for EMOD(*)(#)\n",
      "Removed outliers for AActrl : 2    0.07478\n",
      "Name: EMOD(*)(#), dtype: float64\n",
      "Removed outliers for  KPMI NPYS 0.01 : 41    0.07642\n",
      "42    0.23990\n",
      "44    0.24850\n",
      "Name: EMOD(*)(#), dtype: float64\n",
      "Removed outliers for KPMI NPYS 0.03 : 69    0.5672\n",
      "73   -0.6075\n",
      "Name: EMOD(*)(#), dtype: float64\n",
      "Removed outliers for  KPMI NPYS 0.05 : Series([], Name: EMOD(*)(#), dtype: float64)\n",
      "\n",
      "\n",
      "plotting DONE\n"
     ]
    }
   ],
   "source": [
    "for df, name in zip(all_dfs, all_fns):\n",
    "    print(\"\\n************************************\")\n",
    "    print(f\"{name}\\n\")\n",
    "    print(f\"df length: {len(df)}\")\n",
    "    try:\n",
    "        savepath = f\"{root}{name}/\"\n",
    "        if dev:\n",
    "            savepath = f\"{root}dev/\"\n",
    "        os.makedirs(savepath, exist_ok=True)\n",
    "        \n",
    "        try:\n",
    "            header = 'TENSILE_STRENGTH'\n",
    "            if y_none:\n",
    "                ymin = None\n",
    "                ymax = None\n",
    "            else:\n",
    "                ymin = 90\n",
    "                ymax = 325\n",
    "            master_plots(df, header, ymin, ymax, savepath)\n",
    "        except Exception as e:\n",
    "            print(f\"ERROR with {header}\")\n",
    "            print(\"Error:\", e)\n",
    "\n",
    "        try:\n",
    "            header = 'BREAK_STRAIN(*)(#)'\n",
    "            if y_none:\n",
    "                ymin = None\n",
    "                ymax = None\n",
    "            else:\n",
    "                ymin = 0\n",
    "                ymax = 100\n",
    "            master_plots(df, header, ymin, ymax, savepath)\n",
    "        except Exception as e:\n",
    "            print(f\"ERROR with {header}\")\n",
    "            print(\"Error:\", e)\n",
    "\n",
    "        try:\n",
    "            header = 'BREAK_LOAD'\n",
    "            if y_none:\n",
    "                ymin = None\n",
    "                ymax = None\n",
    "            else:\n",
    "                ymin = 0\n",
    "                ymax = 2.0\n",
    "            master_plots(df, header, ymin, ymax, savepath)\n",
    "        except Exception as e:\n",
    "            print(f\"ERROR with {header}\")\n",
    "            print(\"Error:\", e)\n",
    "        \n",
    "        try:\n",
    "            header = 'EMOD(*)(#)'\n",
    "            if y_none:\n",
    "                ymin = None\n",
    "                ymax = None\n",
    "            else:\n",
    "                ymin = 2.5\n",
    "                ymax = 8.0\n",
    "            master_plots(df, header, ymin, ymax, savepath)\n",
    "        except Exception as e:\n",
    "            print(f\"ERROR with {header}\")\n",
    "            print(\"Error:\", e)\n",
    "\n",
    "        # scatter plots\n",
    "        y_col = 'TENSILE_STRENGTH'\n",
    "        x_col = 'MEAN AREA'\n",
    "        savedir = f\"{savepath}correlation_plot/\"\n",
    "        plt = plotting.create_scatter_plot(df, x_col, y_col, savedir)\n",
    "\n",
    "        y_col = 'EMOD(*)(#)'\n",
    "        x_col = 'MEAN AREA'\n",
    "        savedir = f\"{savepath}correlation_plot/\"\n",
    "        plt = plotting.create_scatter_plot(df, x_col, y_col, savedir)\n",
    "\n",
    "        y_col = 'BREAK_LOAD'\n",
    "        x_col = 'MEAN AREA'\n",
    "        savedir = f\"{savepath}correlation_plot/\"\n",
    "        plt = plotting.create_scatter_plot(df, x_col, y_col, savedir)\n",
    "\n",
    "    except:\n",
    "        print(f\"\\nERROR with {name}\\n\")\n",
    "        continue\n",
    "\n",
    "print(\"\\n\\nplotting DONE\")"
   ]
  },
  {
   "cell_type": "code",
   "execution_count": null,
   "metadata": {},
   "outputs": [],
   "source": []
  }
 ],
 "metadata": {
  "kernelspec": {
   "display_name": "Python 3 (ipykernel)",
   "language": "python",
   "name": "python3"
  },
  "language_info": {
   "codemirror_mode": {
    "name": "ipython",
    "version": 3
   },
   "file_extension": ".py",
   "mimetype": "text/x-python",
   "name": "python",
   "nbconvert_exporter": "python",
   "pygments_lexer": "ipython3",
   "version": "3.9.18"
  }
 },
 "nbformat": 4,
 "nbformat_minor": 2
}
