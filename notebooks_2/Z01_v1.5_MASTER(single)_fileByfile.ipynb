{
 "cells": [
  {
   "attachments": {},
   "cell_type": "markdown",
   "metadata": {},
   "source": [
    "### Goal"
   ]
  },
  {
   "cell_type": "code",
   "execution_count": 11,
   "metadata": {
    "metadata": {}
   },
   "outputs": [
    {
     "name": "stdout",
     "output_type": "stream",
     "text": [
      "The autoreload extension is already loaded. To reload it, use:\n",
      "  %reload_ext autoreload\n"
     ]
    }
   ],
   "source": [
    "%load_ext autoreload\n",
    "%autoreload 2"
   ]
  },
  {
   "cell_type": "code",
   "execution_count": 12,
   "metadata": {
    "metadata": {}
   },
   "outputs": [],
   "source": [
    "import os\n",
    "import pandas as pd\n",
    "\n",
    "# to prevent figure \n",
    "# to show in the notebook\n",
    "import matplotlib\n",
    "matplotlib.use('Agg')\n",
    "\n",
    "import matplotlib.pyplot as plt\n",
    "\n",
    "import plotting as plotting"
   ]
  },
  {
   "cell_type": "markdown",
   "metadata": {},
   "source": [
    "### TODO: update this"
   ]
  },
  {
   "cell_type": "code",
   "execution_count": 13,
   "metadata": {
    "metadata": {}
   },
   "outputs": [],
   "source": [
    "date = \"25-01-02\"\n",
    "y_none = True\n",
    "pathfile = f\"Pulling data/{date}/single/\""
   ]
  },
  {
   "cell_type": "markdown",
   "metadata": {},
   "source": [
    "### From here; automatic run"
   ]
  },
  {
   "cell_type": "code",
   "execution_count": 14,
   "metadata": {
    "metadata": {}
   },
   "outputs": [],
   "source": [
    "root = f\"/Users/michaelmoret/Library/CloudStorage/GoogleDrive-michael@externa.bio/.shortcut-targets-by-id/1BdUNsBjDh5Gee_76jCiKB1C_CwG0ercP/{pathfile}\"\n",
    "\n",
    "MODE = \"single\"\n",
    "dev = False"
   ]
  },
  {
   "cell_type": "code",
   "execution_count": 15,
   "metadata": {
    "metadata": {}
   },
   "outputs": [],
   "source": [
    "if not root.endswith(\"/\"):\n",
    "    root += \"/\"\n",
    "\n",
    "sep_category = \"$\" # separates categories like date, experiments, etc\n",
    "sep_count = \"%\" # separated the number of hairs by experiment"
   ]
  },
  {
   "cell_type": "code",
   "execution_count": 16,
   "metadata": {
    "metadata": {}
   },
   "outputs": [
    {
     "name": "stdout",
     "output_type": "stream",
     "text": [
      "\n",
      "*****************************\n",
      "20250102$Kerling$25%Kerling 20mmm phosctrl virgin$25%Kerling 20mmm phosctrl bleached$25%Kerling 70mmm phosctrl virgin$25%Kerling 70mmm phosctrl bleached$single.txt\n",
      "Missing records: []\n",
      "splitted_name:  ['25%Kerling 20mmm phosctrl virgin', '25%Kerling 20mmm phosctrl bleached', '25%Kerling 70mmm phosctrl virgin', '25%Kerling 70mmm phosctrl bleached']\n",
      "len df: 100, len names: 100\n"
     ]
    }
   ],
   "source": [
    "all_dfs = []\n",
    "all_fns = []\n",
    "\n",
    "for file in os.listdir(root):\n",
    "    if file.endswith(\".txt\"):\n",
    "        print(\"\\n*****************************\")\n",
    "        print(file)\n",
    "        df = plotting.get_df_from_file(root + file,\n",
    "                                       skip=10)\n",
    "        # clean the df\n",
    "        if MODE in file:\n",
    "            df = plotting.clean_single(df)\n",
    "            assert \"single\" in file\n",
    "        else:\n",
    "            raise ValueError(f\"Not a {MODE} experiment\")\n",
    "\n",
    "        splitted_name = file.split(sep_category)\n",
    "        # get the experiments; i.e. not the date\n",
    "        # not the single or triple etc\n",
    "        splitted_name = splitted_name[2:-1]\n",
    "        print(\"splitted_name: \", splitted_name)\n",
    "        # add the experiment name in the dataframe\n",
    "        all_names = []\n",
    "        for entries in splitted_name:\n",
    "            times_name = entries.split(sep_count)\n",
    "            _times = int(times_name[0])\n",
    "            _name = times_name[1]\n",
    "            all_names += [_name] * _times\n",
    "        print(f\"len df: {len(df)}, len names: {len(all_names)}\")\n",
    "        df[\"Name\"] = all_names\n",
    "        # remove nan\n",
    "        df = df.dropna()\n",
    "        all_dfs.append(df)\n",
    "        all_fns.append(file.replace(\".txt\", \"\"))"
   ]
  },
  {
   "cell_type": "code",
   "execution_count": 17,
   "metadata": {
    "metadata": {}
   },
   "outputs": [],
   "source": [
    "def master_plots(df, header, ymin, ymax, savepath, show=False, verbose=False):\n",
    "    fig, ax, removed = plotting.create_boxplot(df, header, ymin, ymax)\n",
    "    #save removed data\n",
    "    removed.to_csv(f\"{savepath}{header}_removed.csv\", index=True)\n",
    "    if verbose:\n",
    "        print(f\"{len(removed)} removed data points for {header}\")\n",
    "    # plot\n",
    "    fig.savefig(f\"{savepath}{header}.png\")\n",
    "    if show: \n",
    "        plt.show()\n",
    "        plt.close()"
   ]
  },
  {
   "cell_type": "code",
   "execution_count": 18,
   "metadata": {
    "metadata": {}
   },
   "outputs": [
    {
     "data": {
      "text/plain": [
       "(1, 1)"
      ]
     },
     "execution_count": 18,
     "metadata": {},
     "output_type": "execute_result"
    }
   ],
   "source": [
    "len(all_dfs), len(all_fns)"
   ]
  },
  {
   "cell_type": "code",
   "execution_count": 19,
   "metadata": {
    "metadata": {}
   },
   "outputs": [
    {
     "data": {
      "text/plain": [
       "['20250102$Kerling$25%Kerling 20mmm phosctrl virgin$25%Kerling 20mmm phosctrl bleached$25%Kerling 70mmm phosctrl virgin$25%Kerling 70mmm phosctrl bleached$single']"
      ]
     },
     "execution_count": 19,
     "metadata": {},
     "output_type": "execute_result"
    }
   ],
   "source": [
    "all_fns"
   ]
  },
  {
   "cell_type": "code",
   "execution_count": 20,
   "metadata": {
    "metadata": {}
   },
   "outputs": [
    {
     "name": "stdout",
     "output_type": "stream",
     "text": [
      "\n",
      "************************************\n",
      "20250102$Kerling$25%Kerling 20mmm phosctrl virgin$25%Kerling 20mmm phosctrl bleached$25%Kerling 70mmm phosctrl virgin$25%Kerling 70mmm phosctrl bleached$single\n",
      "\n",
      "df length: 93\n",
      "\n",
      "Creating boxplot for TENSILE_STRENGTH\n",
      "Removed outliers for Kerling 20mmm phosctrl virgin : 20    291.7\n",
      "21    230.6\n",
      "Name: TENSILE_STRENGTH, dtype: float64\n",
      "Removed outliers for Kerling 20mmm phosctrl bleached : Series([], Name: TENSILE_STRENGTH, dtype: float64)\n",
      "Removed outliers for Kerling 70mmm phosctrl virgin : Series([], Name: TENSILE_STRENGTH, dtype: float64)\n",
      "Removed outliers for Kerling 70mmm phosctrl bleached : 78    181.4\n",
      "97    255.2\n",
      "Name: TENSILE_STRENGTH, dtype: float64\n",
      "Stats. significance: Kerling 20mmm phosctrl virgin and Kerling 20mmm phosctrl bleached: p = 0.0000\n",
      "Stats. significance: Kerling 20mmm phosctrl virgin and Kerling 70mmm phosctrl bleached: p = 0.0000\n",
      "Stats. significance: Kerling 20mmm phosctrl bleached and Kerling 70mmm phosctrl virgin: p = 0.0000\n",
      "Stats. significance: Kerling 20mmm phosctrl bleached and Kerling 70mmm phosctrl bleached: p = 0.0056\n",
      "Stats. significance: Kerling 70mmm phosctrl virgin and Kerling 70mmm phosctrl bleached: p = 0.0000\n",
      "\n",
      "Creating boxplot for BREAK_STRAIN(*)(#)\n",
      "Removed outliers for Kerling 20mmm phosctrl virgin : Series([], Name: BREAK_STRAIN(*)(#), dtype: float64)\n",
      "Removed outliers for Kerling 20mmm phosctrl bleached : 28    39.822\n",
      "38    41.678\n",
      "Name: BREAK_STRAIN(*)(#), dtype: float64\n",
      "Removed outliers for Kerling 70mmm phosctrl virgin : Series([], Name: BREAK_STRAIN(*)(#), dtype: float64)\n",
      "Removed outliers for Kerling 70mmm phosctrl bleached : Series([], Name: BREAK_STRAIN(*)(#), dtype: float64)\n",
      "Stats. significance: Kerling 20mmm phosctrl virgin and Kerling 20mmm phosctrl bleached: p = 0.0000\n",
      "Stats. significance: Kerling 20mmm phosctrl virgin and Kerling 70mmm phosctrl bleached: p = 0.0000\n",
      "Stats. significance: Kerling 20mmm phosctrl bleached and Kerling 70mmm phosctrl virgin: p = 0.0000\n",
      "Stats. significance: Kerling 70mmm phosctrl virgin and Kerling 70mmm phosctrl bleached: p = 0.0000\n",
      "\n",
      "Creating boxplot for BREAK_LOAD\n",
      "Removed outliers for Kerling 20mmm phosctrl virgin : Series([], Name: BREAK_LOAD, dtype: float64)\n",
      "Removed outliers for Kerling 20mmm phosctrl bleached : 43    1.299\n",
      "Name: BREAK_LOAD, dtype: float64\n",
      "Removed outliers for Kerling 70mmm phosctrl virgin : 51    1.518\n",
      "73    1.546\n",
      "Name: BREAK_LOAD, dtype: float64\n",
      "Removed outliers for Kerling 70mmm phosctrl bleached : Series([], Name: BREAK_LOAD, dtype: float64)\n",
      "Stats. significance: Kerling 20mmm phosctrl virgin and Kerling 20mmm phosctrl bleached: p = 0.0000\n",
      "Stats. significance: Kerling 20mmm phosctrl virgin and Kerling 70mmm phosctrl virgin: p = 0.0301\n",
      "Stats. significance: Kerling 20mmm phosctrl virgin and Kerling 70mmm phosctrl bleached: p = 0.0064\n",
      "Stats. significance: Kerling 20mmm phosctrl bleached and Kerling 70mmm phosctrl virgin: p = 0.0000\n",
      "Stats. significance: Kerling 70mmm phosctrl virgin and Kerling 70mmm phosctrl bleached: p = 0.0000\n",
      "\n",
      "Creating boxplot for EMOD(*)(#)\n",
      "Removed outliers for Kerling 20mmm phosctrl virgin : 10    4.229\n",
      "Name: EMOD(*)(#), dtype: float64\n",
      "Removed outliers for Kerling 20mmm phosctrl bleached : 39    1.7710\n",
      "43    0.5365\n",
      "Name: EMOD(*)(#), dtype: float64\n",
      "Removed outliers for Kerling 70mmm phosctrl virgin : 54    6.06200\n",
      "64    0.01223\n",
      "73    3.97400\n",
      "Name: EMOD(*)(#), dtype: float64\n",
      "Removed outliers for Kerling 70mmm phosctrl bleached : 75    2.83200\n",
      "87    0.01688\n",
      "93    0.00191\n",
      "99    5.94400\n",
      "Name: EMOD(*)(#), dtype: float64\n",
      "\n",
      "\n",
      "plotting DONE\n"
     ]
    }
   ],
   "source": [
    "for df, name in zip(all_dfs, all_fns):\n",
    "    print(\"\\n************************************\")\n",
    "    print(f\"{name}\\n\")\n",
    "    print(f\"df length: {len(df)}\")\n",
    "    try:\n",
    "        savepath = f\"{root}{name}/\"\n",
    "        if dev:\n",
    "            savepath = f\"{root}dev/\"\n",
    "        os.makedirs(savepath, exist_ok=True)\n",
    "        \n",
    "        try:\n",
    "            header = 'TENSILE_STRENGTH'\n",
    "            if y_none:\n",
    "                ymin = None\n",
    "                ymax = None\n",
    "            else:\n",
    "                ymin = 90\n",
    "                ymax = 325\n",
    "            master_plots(df, header, ymin, ymax, savepath)\n",
    "        except Exception as e:\n",
    "            print(f\"ERROR with {header}\")\n",
    "            print(\"Error:\", e)\n",
    "\n",
    "        try:\n",
    "            header = 'BREAK_STRAIN(*)(#)'\n",
    "            if y_none:\n",
    "                ymin = None\n",
    "                ymax = None\n",
    "            else:\n",
    "                ymin = 0\n",
    "                ymax = 100\n",
    "            master_plots(df, header, ymin, ymax, savepath)\n",
    "        except Exception as e:\n",
    "            print(f\"ERROR with {header}\")\n",
    "            print(\"Error:\", e)\n",
    "\n",
    "        try:\n",
    "            header = 'BREAK_LOAD'\n",
    "            if y_none:\n",
    "                ymin = None\n",
    "                ymax = None\n",
    "            else:\n",
    "                ymin = 0\n",
    "                ymax = 2.0\n",
    "            master_plots(df, header, ymin, ymax, savepath)\n",
    "        except Exception as e:\n",
    "            print(f\"ERROR with {header}\")\n",
    "            print(\"Error:\", e)\n",
    "        \n",
    "        try:\n",
    "            header = 'EMOD(*)(#)'\n",
    "            if y_none:\n",
    "                ymin = None\n",
    "                ymax = None\n",
    "            else:\n",
    "                ymin = 2.5\n",
    "                ymax = 8.0\n",
    "            master_plots(df, header, ymin, ymax, savepath)\n",
    "        except Exception as e:\n",
    "            print(f\"ERROR with {header}\")\n",
    "            print(\"Error:\", e)\n",
    "\n",
    "        # scatter plots\n",
    "        y_col = 'TENSILE_STRENGTH'\n",
    "        x_col = 'MEAN AREA'\n",
    "        savedir = f\"{savepath}correlation_plot/\"\n",
    "        plt = plotting.create_scatter_plot(df, x_col, y_col, savedir)\n",
    "\n",
    "        y_col = 'EMOD(*)(#)'\n",
    "        x_col = 'MEAN AREA'\n",
    "        savedir = f\"{savepath}correlation_plot/\"\n",
    "        plt = plotting.create_scatter_plot(df, x_col, y_col, savedir)\n",
    "\n",
    "        y_col = 'BREAK_LOAD'\n",
    "        x_col = 'MEAN AREA'\n",
    "        savedir = f\"{savepath}correlation_plot/\"\n",
    "        plt = plotting.create_scatter_plot(df, x_col, y_col, savedir)\n",
    "\n",
    "    except:\n",
    "        print(f\"\\nERROR with {name}\\n\")\n",
    "        continue\n",
    "\n",
    "print(\"\\n\\nplotting DONE\")"
   ]
  },
  {
   "cell_type": "code",
   "execution_count": null,
   "metadata": {},
   "outputs": [],
   "source": []
  }
 ],
 "metadata": {
  "kernelspec": {
   "display_name": "Python 3 (ipykernel)",
   "language": "python",
   "name": "python3"
  },
  "language_info": {
   "codemirror_mode": {
    "name": "ipython",
    "version": 3
   },
   "file_extension": ".py",
   "mimetype": "text/x-python",
   "name": "python",
   "nbconvert_exporter": "python",
   "pygments_lexer": "ipython3",
   "version": "3.9.18"
  }
 },
 "nbformat": 4,
 "nbformat_minor": 2
}
