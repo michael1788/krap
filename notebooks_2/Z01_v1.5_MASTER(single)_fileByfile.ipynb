{
 "cells": [
  {
   "attachments": {},
   "cell_type": "markdown",
   "metadata": {},
   "source": [
    "### Goal"
   ]
  },
  {
   "cell_type": "code",
   "execution_count": 1,
   "metadata": {
    "metadata": {}
   },
   "outputs": [],
   "source": [
    "%load_ext autoreload\n",
    "%autoreload 2"
   ]
  },
  {
   "cell_type": "code",
   "execution_count": 2,
   "metadata": {
    "metadata": {}
   },
   "outputs": [],
   "source": [
    "import os\n",
    "import pandas as pd\n",
    "\n",
    "# to prevent figure \n",
    "# to show in the notebook\n",
    "import matplotlib\n",
    "matplotlib.use('Agg')\n",
    "\n",
    "import matplotlib.pyplot as plt\n",
    "\n",
    "import plotting as plotting"
   ]
  },
  {
   "cell_type": "markdown",
   "metadata": {},
   "source": [
    "### TODO: update this"
   ]
  },
  {
   "cell_type": "code",
   "execution_count": 3,
   "metadata": {
    "metadata": {}
   },
   "outputs": [],
   "source": [
    "date = \"24-12-06\"\n",
    "y_none = True\n",
    "pathfile = f\"Pulling data/{date}/single/\"\n",
    "\n",
    "max_100 = False"
   ]
  },
  {
   "cell_type": "markdown",
   "metadata": {},
   "source": [
    "### From here; automatic run"
   ]
  },
  {
   "cell_type": "code",
   "execution_count": 4,
   "metadata": {
    "metadata": {}
   },
   "outputs": [],
   "source": [
    "root = f\"/Users/michaelmoret/Library/CloudStorage/GoogleDrive-michael@externa.bio/.shortcut-targets-by-id/1BdUNsBjDh5Gee_76jCiKB1C_CwG0ercP/{pathfile}\"\n",
    "\n",
    "MODE = \"single\"\n",
    "dev = False"
   ]
  },
  {
   "cell_type": "code",
   "execution_count": 5,
   "metadata": {
    "metadata": {}
   },
   "outputs": [],
   "source": [
    "if not root.endswith(\"/\"):\n",
    "    root += \"/\"\n",
    "\n",
    "sep_category = \"$\" # separates categories like date, experiments, etc\n",
    "sep_count = \"%\" # separated the number of hairs by experiment"
   ]
  },
  {
   "cell_type": "code",
   "execution_count": 6,
   "metadata": {
    "metadata": {}
   },
   "outputs": [
    {
     "name": "stdout",
     "output_type": "stream",
     "text": [
      "\n",
      "*****************************\n",
      "20241206$EN_IHNY$25%bleached_ control_locx$25%positive 5_LocxEF$25%positive 1_LOcxEF$25%negative 2$25%NAC positive 3_Locx$25%NAC negative 4$25%LOcx negative 6$single.txt\n",
      "Missing records: []\n",
      "splitted_name:  ['25%bleached_ control_locx', '25%positive 5_LocxEF', '25%positive 1_LOcxEF', '25%negative 2', '25%NAC positive 3_Locx', '25%NAC negative 4', '25%LOcx negative 6']\n",
      "len df: 175, len names: 175\n"
     ]
    }
   ],
   "source": [
    "all_dfs = []\n",
    "all_fns = []\n",
    "\n",
    "verbose = False\n",
    "for file in os.listdir(root):\n",
    "    if file.endswith(\".txt\"):\n",
    "        print(\"\\n*****************************\")\n",
    "        print(file)\n",
    "        df = plotting.get_df_from_file(root + file,\n",
    "                                       skip=10)\n",
    "        if verbose:\n",
    "            print(\"df length after skipping: \", len(df))\n",
    "        # clean the df\n",
    "        if MODE in file:\n",
    "            df = plotting.clean_single(df, max_100=max_100)\n",
    "            assert \"single\" in file\n",
    "        else:\n",
    "            raise ValueError(f\"Not a {MODE} experiment\")\n",
    "        if verbose:\n",
    "            print(\"df length after cleaning: \", len(df))\n",
    "        \n",
    "        splitted_name = file.split(sep_category)\n",
    "        # get the experiments; i.e. not the date\n",
    "        # not the single or triple etc\n",
    "        splitted_name = splitted_name[2:-1]\n",
    "        print(\"splitted_name: \", splitted_name)\n",
    "        # add the experiment name in the dataframe\n",
    "        all_names = []\n",
    "        for entries in splitted_name:\n",
    "            times_name = entries.split(sep_count)\n",
    "            _times = int(times_name[0])\n",
    "            _name = times_name[1]\n",
    "            all_names += [_name] * _times\n",
    "        print(f\"len df: {len(df)}, len names: {len(all_names)}\")\n",
    "        df[\"Name\"] = all_names\n",
    "        # remove nan\n",
    "        df = df.dropna()\n",
    "        all_dfs.append(df)\n",
    "        all_fns.append(file.replace(\".txt\", \"\"))"
   ]
  },
  {
   "cell_type": "code",
   "execution_count": 7,
   "metadata": {
    "metadata": {}
   },
   "outputs": [],
   "source": [
    "def master_plots(df, header, ymin, ymax, savepath, show=False, verbose=False):\n",
    "    fig, ax, removed = plotting.create_boxplot(df, header, ymin, ymax)\n",
    "    #save removed data\n",
    "    removed.to_csv(f\"{savepath}{header}_removed.csv\", index=True)\n",
    "    if verbose:\n",
    "        print(f\"{len(removed)} removed data points for {header}\")\n",
    "    # plot\n",
    "    fig.savefig(f\"{savepath}{header}.png\")\n",
    "    if show: \n",
    "        plt.show()\n",
    "        plt.close()"
   ]
  },
  {
   "cell_type": "code",
   "execution_count": 8,
   "metadata": {
    "metadata": {}
   },
   "outputs": [
    {
     "data": {
      "text/plain": [
       "(1, 1)"
      ]
     },
     "execution_count": 8,
     "metadata": {},
     "output_type": "execute_result"
    }
   ],
   "source": [
    "len(all_dfs), len(all_fns)"
   ]
  },
  {
   "cell_type": "code",
   "execution_count": 9,
   "metadata": {
    "metadata": {}
   },
   "outputs": [
    {
     "data": {
      "text/plain": [
       "['20241206$EN_IHNY$25%bleached_ control_locx$25%positive 5_LocxEF$25%positive 1_LOcxEF$25%negative 2$25%NAC positive 3_Locx$25%NAC negative 4$25%LOcx negative 6$single']"
      ]
     },
     "execution_count": 9,
     "metadata": {},
     "output_type": "execute_result"
    }
   ],
   "source": [
    "all_fns"
   ]
  },
  {
   "cell_type": "code",
   "execution_count": 10,
   "metadata": {
    "metadata": {}
   },
   "outputs": [
    {
     "name": "stdout",
     "output_type": "stream",
     "text": [
      "\n",
      "************************************\n",
      "20241206$EN_IHNY$25%bleached_ control_locx$25%positive 5_LocxEF$25%positive 1_LOcxEF$25%negative 2$25%NAC positive 3_Locx$25%NAC negative 4$25%LOcx negative 6$single\n",
      "\n",
      "df length: 168\n",
      "\n",
      "Creating boxplot for TENSILE_STRENGTH\n",
      "Removed outliers for bleached_ control_locx : 15    125.0\n",
      "Name: TENSILE_STRENGTH, dtype: float64\n",
      "Removed outliers for positive 5_LocxEF : 30    11.2\n",
      "Name: TENSILE_STRENGTH, dtype: float64\n",
      "Removed outliers for positive 1_LOcxEF : 57     80.2\n",
      "69    233.0\n",
      "70    115.0\n",
      "Name: TENSILE_STRENGTH, dtype: float64\n",
      "Removed outliers for negative 2 : 84    132.0\n",
      "92    111.0\n",
      "Name: TENSILE_STRENGTH, dtype: float64\n",
      "Removed outliers for NAC positive 3_Locx : 103    146.0\n",
      "118    138.0\n",
      "Name: TENSILE_STRENGTH, dtype: float64\n",
      "Removed outliers for NAC negative 4 : 137    101.0\n",
      "Name: TENSILE_STRENGTH, dtype: float64\n",
      "Removed outliers for LOcx negative 6 : 153    134.0\n",
      "166     81.2\n",
      "Name: TENSILE_STRENGTH, dtype: float64\n",
      "Stats. significance: bleached_ control_locx and NAC positive 3_Locx: p = 0.0279\n",
      "Stats. significance: positive 1_LOcxEF and NAC positive 3_Locx: p = 0.0180\n",
      "Stats. significance: positive 1_LOcxEF and LOcx negative 6: p = 0.0388\n",
      "Stats. significance: NAC positive 3_Locx and NAC negative 4: p = 0.0483\n",
      "\n",
      "Creating boxplot for BREAK_STRAIN(*)(#)\n",
      "Removed outliers for bleached_ control_locx : 15    9.157\n",
      "Name: BREAK_STRAIN(*)(#), dtype: float64\n",
      "Removed outliers for positive 5_LocxEF : 28     4.430\n",
      "29    24.007\n",
      "30     0.367\n",
      "33     4.295\n",
      "41    30.787\n",
      "Name: BREAK_STRAIN(*)(#), dtype: float64\n",
      "Removed outliers for positive 1_LOcxEF : 57     1.893\n",
      "70    11.439\n",
      "Name: BREAK_STRAIN(*)(#), dtype: float64\n",
      "Removed outliers for negative 2 : 84    14.745\n",
      "92     2.556\n",
      "Name: BREAK_STRAIN(*)(#), dtype: float64\n",
      "Removed outliers for NAC positive 3_Locx : 103     8.176\n",
      "118    14.271\n",
      "Name: BREAK_STRAIN(*)(#), dtype: float64\n",
      "Removed outliers for NAC negative 4 : 137    1.931\n",
      "Name: BREAK_STRAIN(*)(#), dtype: float64\n",
      "Removed outliers for LOcx negative 6 : 153    26.097\n",
      "166     1.519\n",
      "Name: BREAK_STRAIN(*)(#), dtype: float64\n",
      "Stats. significance: positive 5_LocxEF and negative 2: p = 0.0333\n",
      "Stats. significance: positive 5_LocxEF and NAC positive 3_Locx: p = 0.0489\n",
      "Stats. significance: positive 5_LocxEF and NAC negative 4: p = 0.0013\n",
      "Stats. significance: positive 5_LocxEF and LOcx negative 6: p = 0.0313\n",
      "Stats. significance: positive 1_LOcxEF and NAC negative 4: p = 0.0138\n",
      "\n",
      "Creating boxplot for BREAK_LOAD\n",
      "Removed outliers for bleached_ control_locx : Series([], Name: BREAK_LOAD, dtype: float64)\n",
      "Removed outliers for positive 5_LocxEF : 30    0.0397\n",
      "43    1.5700\n",
      "Name: BREAK_LOAD, dtype: float64\n",
      "Removed outliers for positive 1_LOcxEF : Series([], Name: BREAK_LOAD, dtype: float64)\n",
      "Removed outliers for negative 2 : Series([], Name: BREAK_LOAD, dtype: float64)\n",
      "Removed outliers for NAC positive 3_Locx : Series([], Name: BREAK_LOAD, dtype: float64)\n",
      "Removed outliers for NAC negative 4 : Series([], Name: BREAK_LOAD, dtype: float64)\n",
      "Removed outliers for LOcx negative 6 : Series([], Name: BREAK_LOAD, dtype: float64)\n",
      "Stats. significance: bleached_ control_locx and NAC positive 3_Locx: p = 0.0043\n",
      "Stats. significance: positive 5_LocxEF and NAC positive 3_Locx: p = 0.0359\n",
      "Stats. significance: positive 1_LOcxEF and NAC positive 3_Locx: p = 0.0076\n",
      "Stats. significance: negative 2 and NAC positive 3_Locx: p = 0.0292\n",
      "Stats. significance: NAC positive 3_Locx and LOcx negative 6: p = 0.0342\n",
      "\n",
      "Creating boxplot for EMOD(*)(#)\n",
      "Removed outliers for bleached_ control_locx : 0   -0.00485\n",
      "Name: EMOD(*)(#), dtype: float64\n",
      "Removed outliers for positive 5_LocxEF : 30    0.490000\n",
      "41   -0.000117\n",
      "Name: EMOD(*)(#), dtype: float64\n",
      "Removed outliers for positive 1_LOcxEF : Series([], Name: EMOD(*)(#), dtype: float64)\n",
      "Removed outliers for negative 2 : Series([], Name: EMOD(*)(#), dtype: float64)\n",
      "Removed outliers for NAC positive 3_Locx : 102    0.00679\n",
      "Name: EMOD(*)(#), dtype: float64\n",
      "Removed outliers for NAC negative 4 : Series([], Name: EMOD(*)(#), dtype: float64)\n",
      "Removed outliers for LOcx negative 6 : 158    0.046\n",
      "159    2.160\n",
      "Name: EMOD(*)(#), dtype: float64\n",
      "Stats. significance: bleached_ control_locx and negative 2: p = 0.0283\n",
      "Stats. significance: bleached_ control_locx and NAC negative 4: p = 0.0276\n",
      "Stats. significance: bleached_ control_locx and LOcx negative 6: p = 0.0357\n",
      "\n",
      "\n",
      "plotting DONE\n"
     ]
    }
   ],
   "source": [
    "for df, name in zip(all_dfs, all_fns):\n",
    "    print(\"\\n************************************\")\n",
    "    print(f\"{name}\\n\")\n",
    "    print(f\"df length: {len(df)}\")\n",
    "    try:\n",
    "        savepath = f\"{root}{name}/\"\n",
    "        if dev:\n",
    "            savepath = f\"{root}dev/\"\n",
    "        os.makedirs(savepath, exist_ok=True)\n",
    "        \n",
    "        try:\n",
    "            header = 'TENSILE_STRENGTH'\n",
    "            if y_none:\n",
    "                ymin = None\n",
    "                ymax = None\n",
    "            else:\n",
    "                ymin = 90\n",
    "                ymax = 325\n",
    "            master_plots(df, header, ymin, ymax, savepath)\n",
    "        except Exception as e:\n",
    "            print(f\"ERROR with {header}\")\n",
    "            print(\"Error:\", e)\n",
    "\n",
    "        try:\n",
    "            header = 'BREAK_STRAIN(*)(#)'\n",
    "            if y_none:\n",
    "                ymin = None\n",
    "                ymax = None\n",
    "            else:\n",
    "                ymin = 0\n",
    "                ymax = 100\n",
    "            master_plots(df, header, ymin, ymax, savepath)\n",
    "        except Exception as e:\n",
    "            print(f\"ERROR with {header}\")\n",
    "            print(\"Error:\", e)\n",
    "\n",
    "        try:\n",
    "            header = 'BREAK_LOAD'\n",
    "            if y_none:\n",
    "                ymin = None\n",
    "                ymax = None\n",
    "            else:\n",
    "                ymin = 0\n",
    "                ymax = 2.0\n",
    "            master_plots(df, header, ymin, ymax, savepath)\n",
    "        except Exception as e:\n",
    "            print(f\"ERROR with {header}\")\n",
    "            print(\"Error:\", e)\n",
    "        \n",
    "        try:\n",
    "            header = 'EMOD(*)(#)'\n",
    "            if y_none:\n",
    "                ymin = None\n",
    "                ymax = None\n",
    "            else:\n",
    "                ymin = 2.5\n",
    "                ymax = 8.0\n",
    "            master_plots(df, header, ymin, ymax, savepath)\n",
    "        except Exception as e:\n",
    "            print(f\"ERROR with {header}\")\n",
    "            print(\"Error:\", e)\n",
    "\n",
    "        # scatter plots\n",
    "        y_col = 'TENSILE_STRENGTH'\n",
    "        x_col = 'MEAN AREA'\n",
    "        savedir = f\"{savepath}correlation_plot/\"\n",
    "        plt = plotting.create_scatter_plot(df, x_col, y_col, savedir)\n",
    "\n",
    "        y_col = 'EMOD(*)(#)'\n",
    "        x_col = 'MEAN AREA'\n",
    "        savedir = f\"{savepath}correlation_plot/\"\n",
    "        plt = plotting.create_scatter_plot(df, x_col, y_col, savedir)\n",
    "\n",
    "        y_col = 'BREAK_LOAD'\n",
    "        x_col = 'MEAN AREA'\n",
    "        savedir = f\"{savepath}correlation_plot/\"\n",
    "        plt = plotting.create_scatter_plot(df, x_col, y_col, savedir)\n",
    "\n",
    "    except:\n",
    "        print(f\"\\nERROR with {name}\\n\")\n",
    "        continue\n",
    "\n",
    "print(\"\\n\\nplotting DONE\")"
   ]
  },
  {
   "cell_type": "code",
   "execution_count": null,
   "metadata": {},
   "outputs": [],
   "source": []
  }
 ],
 "metadata": {
  "kernelspec": {
   "display_name": "Python 3 (ipykernel)",
   "language": "python",
   "name": "python3"
  },
  "language_info": {
   "codemirror_mode": {
    "name": "ipython",
    "version": 3
   },
   "file_extension": ".py",
   "mimetype": "text/x-python",
   "name": "python",
   "nbconvert_exporter": "python",
   "pygments_lexer": "ipython3",
   "version": "3.9.18"
  }
 },
 "nbformat": 4,
 "nbformat_minor": 2
}
