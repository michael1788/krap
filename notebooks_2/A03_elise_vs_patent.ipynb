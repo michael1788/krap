{
 "cells": [
  {
   "attachments": {},
   "cell_type": "markdown",
   "metadata": {},
   "source": [
    "### Goal"
   ]
  },
  {
   "cell_type": "code",
   "execution_count": 1,
   "metadata": {},
   "outputs": [],
   "source": [
    "%load_ext autoreload\n",
    "%autoreload 2"
   ]
  },
  {
   "cell_type": "code",
   "execution_count": 2,
   "metadata": {},
   "outputs": [],
   "source": [
    "import os, sys\n",
    "import pandas as pd\n",
    "import numpy as np\n",
    "import math\n",
    "\n",
    "import matplotlib.pyplot as plt\n",
    "\n",
    "sys.path.append(\"../../data_analysis/\")\n",
    "import helper as hp"
   ]
  },
  {
   "cell_type": "code",
   "execution_count": 3,
   "metadata": {},
   "outputs": [],
   "source": [
    "savepath = \"A03_elise_vs_patent/\"\n",
    "os.makedirs(savepath, exist_ok=True)"
   ]
  },
  {
   "cell_type": "code",
   "execution_count": 4,
   "metadata": {},
   "outputs": [
    {
     "data": {
      "text/html": [
       "<div>\n",
       "<style scoped>\n",
       "    .dataframe tbody tr th:only-of-type {\n",
       "        vertical-align: middle;\n",
       "    }\n",
       "\n",
       "    .dataframe tbody tr th {\n",
       "        vertical-align: top;\n",
       "    }\n",
       "\n",
       "    .dataframe thead th {\n",
       "        text-align: right;\n",
       "    }\n",
       "</style>\n",
       "<table border=\"1\" class=\"dataframe\">\n",
       "  <thead>\n",
       "    <tr style=\"text-align: right;\">\n",
       "      <th></th>\n",
       "      <th>File Name</th>\n",
       "      <th>Peptide Sequence</th>\n",
       "      <th>Peptide Length</th>\n",
       "      <th>Cys Number</th>\n",
       "      <th>Cys Content (# of Cys / Length)</th>\n",
       "      <th>Lys Number</th>\n",
       "      <th>Lys Content (# of Lys / Length)</th>\n",
       "      <th>PTM Score</th>\n",
       "      <th>IPTM Score</th>\n",
       "      <th>Confidence Score (0.2PTM + 0.8IPTM)</th>\n",
       "    </tr>\n",
       "  </thead>\n",
       "  <tbody>\n",
       "    <tr>\n",
       "      <th>0</th>\n",
       "      <td>Hair_Keratin_1_Coil_2_Pep_Seq_16_scores_rank_0...</td>\n",
       "      <td>KKVELFPK</td>\n",
       "      <td>8</td>\n",
       "      <td>0</td>\n",
       "      <td>0.000000</td>\n",
       "      <td>3</td>\n",
       "      <td>0.375</td>\n",
       "      <td>0.66</td>\n",
       "      <td>0.64</td>\n",
       "      <td>0.644</td>\n",
       "    </tr>\n",
       "    <tr>\n",
       "      <th>1</th>\n",
       "      <td>Hair_Keratin_1_Coil_2_Pep_Seq_50_scores_rank_0...</td>\n",
       "      <td>GGVCGPSPPCIT</td>\n",
       "      <td>12</td>\n",
       "      <td>2</td>\n",
       "      <td>0.166667</td>\n",
       "      <td>0</td>\n",
       "      <td>0.000</td>\n",
       "      <td>0.66</td>\n",
       "      <td>0.64</td>\n",
       "      <td>0.644</td>\n",
       "    </tr>\n",
       "  </tbody>\n",
       "</table>\n",
       "</div>"
      ],
      "text/plain": [
       "                                           File Name Peptide Sequence  \\\n",
       "0  Hair_Keratin_1_Coil_2_Pep_Seq_16_scores_rank_0...         KKVELFPK   \n",
       "1  Hair_Keratin_1_Coil_2_Pep_Seq_50_scores_rank_0...     GGVCGPSPPCIT   \n",
       "\n",
       "   Peptide Length  Cys Number  Cys Content (# of Cys / Length)  Lys Number  \\\n",
       "0               8           0                         0.000000           3   \n",
       "1              12           2                         0.166667           0   \n",
       "\n",
       "   Lys Content (# of Lys / Length)  PTM Score  IPTM Score  \\\n",
       "0                            0.375       0.66        0.64   \n",
       "1                            0.000       0.66        0.64   \n",
       "\n",
       "   Confidence Score (0.2PTM + 0.8IPTM)  \n",
       "0                                0.644  \n",
       "1                                0.644  "
      ]
     },
     "execution_count": 4,
     "metadata": {},
     "output_type": "execute_result"
    }
   ],
   "source": [
    "df = pd.read_excel(f\"A01_patent_peptides_for_ordering/AF2_Predictions_Peptides_Hair_Keratin_1_Coil_2.xlsx\")\n",
    "df.head(2)"
   ]
  },
  {
   "cell_type": "code",
   "execution_count": 5,
   "metadata": {},
   "outputs": [
    {
     "data": {
      "text/plain": [
       "Index(['File Name', 'Peptide Sequence', 'Peptide Length', 'Cys Number',\n",
       "       'Cys Content (# of Cys / Length)', 'Lys Number',\n",
       "       'Lys Content (# of Lys / Length)', 'PTM Score', 'IPTM Score',\n",
       "       'Confidence Score (0.2PTM + 0.8IPTM)'],\n",
       "      dtype='object')"
      ]
     },
     "execution_count": 5,
     "metadata": {},
     "output_type": "execute_result"
    }
   ],
   "source": [
    "df.columns"
   ]
  },
  {
   "cell_type": "markdown",
   "metadata": {},
   "source": [
    "get the ones we order"
   ]
  },
  {
   "cell_type": "code",
   "execution_count": 6,
   "metadata": {},
   "outputs": [
    {
     "data": {
      "text/html": [
       "<div>\n",
       "<style scoped>\n",
       "    .dataframe tbody tr th:only-of-type {\n",
       "        vertical-align: middle;\n",
       "    }\n",
       "\n",
       "    .dataframe tbody tr th {\n",
       "        vertical-align: top;\n",
       "    }\n",
       "\n",
       "    .dataframe thead th {\n",
       "        text-align: right;\n",
       "    }\n",
       "</style>\n",
       "<table border=\"1\" class=\"dataframe\">\n",
       "  <thead>\n",
       "    <tr style=\"text-align: right;\">\n",
       "      <th></th>\n",
       "      <th>ID</th>\n",
       "      <th>Sequence</th>\n",
       "    </tr>\n",
       "  </thead>\n",
       "  <tbody>\n",
       "    <tr>\n",
       "      <th>0</th>\n",
       "      <td>1</td>\n",
       "      <td>GCGAATTAATACGACTCACTATAGGGAGACCACAACGGTTTCCCTC...</td>\n",
       "    </tr>\n",
       "    <tr>\n",
       "      <th>1</th>\n",
       "      <td>2</td>\n",
       "      <td>GCGAATTAATACGACTCACTATAGGGAGACCACAACGGTTTCCCTC...</td>\n",
       "    </tr>\n",
       "  </tbody>\n",
       "</table>\n",
       "</div>"
      ],
      "text/plain": [
       "   ID                                           Sequence\n",
       "0   1  GCGAATTAATACGACTCACTATAGGGAGACCACAACGGTTTCCCTC...\n",
       "1   2  GCGAATTAATACGACTCACTATAGGGAGACCACAACGGTTTCCCTC..."
      ]
     },
     "execution_count": 6,
     "metadata": {},
     "output_type": "execute_result"
    }
   ],
   "source": [
    "all_oligos = pd.read_csv(\"A02_A01/patent_peptides_to_order.csv\")\n",
    "all_oligos.head(2)"
   ]
  },
  {
   "cell_type": "code",
   "execution_count": 7,
   "metadata": {},
   "outputs": [
    {
     "data": {
      "text/plain": [
       "96"
      ]
     },
     "execution_count": 7,
     "metadata": {},
     "output_type": "execute_result"
    }
   ],
   "source": [
    "all_oligos = all_oligos[\"Sequence\"].to_list()\n",
    "len(all_oligos)"
   ]
  },
  {
   "cell_type": "code",
   "execution_count": 8,
   "metadata": {},
   "outputs": [],
   "source": [
    "front = \"GCGAATTAATACGACTCACTATAGGGAGACCACAACGGTTTCCCTCTAGAAATAATTTTGTTTAACTTTAAGAAGGAGATATACATATGAAAATCGAAGAAGATTACAAGGATCACGATGGAGACTATAAGGATCACGACATCGATTACAAAGACGATGACGACAAATCAGGCCATCACCATCATCATCATCATCACTCGTCAGGC\"\n",
    "end = \"TAGTAGTAAGGAGGATCCCGGGAATTCTCGAGTAAGGTTAACCTGCTAGCATAACCCCTTGGGGCCTCTAAACGGGTCTTGAGGGGTTTTTTG\""
   ]
  },
  {
   "cell_type": "code",
   "execution_count": 9,
   "metadata": {},
   "outputs": [
    {
     "data": {
      "text/plain": [
       "96"
      ]
     },
     "execution_count": 9,
     "metadata": {},
     "output_type": "execute_result"
    }
   ],
   "source": [
    "all_dna_pep = []\n",
    "for x in all_oligos:\n",
    "    dna = x.replace(front, \"\")\n",
    "    dna = dna.replace(end, \"\")\n",
    "    all_dna_pep.append(dna)\n",
    "len(all_dna_pep)"
   ]
  },
  {
   "cell_type": "code",
   "execution_count": 10,
   "metadata": {},
   "outputs": [
    {
     "data": {
      "text/plain": [
       "96"
      ]
     },
     "execution_count": 10,
     "metadata": {},
     "output_type": "execute_result"
    }
   ],
   "source": [
    "from Bio.Seq import Seq\n",
    "\n",
    "all_amino_acid_pep = []\n",
    "for dna_seq in all_dna_pep:\n",
    "    amino_acid_seq = Seq(dna_seq).translate()\n",
    "    all_amino_acid_pep.append(str(amino_acid_seq))\n",
    "\n",
    "len(all_amino_acid_pep)\n"
   ]
  },
  {
   "cell_type": "markdown",
   "metadata": {},
   "source": [
    "get the score"
   ]
  },
  {
   "cell_type": "code",
   "execution_count": 11,
   "metadata": {},
   "outputs": [
    {
     "data": {
      "text/html": [
       "<div>\n",
       "<style scoped>\n",
       "    .dataframe tbody tr th:only-of-type {\n",
       "        vertical-align: middle;\n",
       "    }\n",
       "\n",
       "    .dataframe tbody tr th {\n",
       "        vertical-align: top;\n",
       "    }\n",
       "\n",
       "    .dataframe thead th {\n",
       "        text-align: right;\n",
       "    }\n",
       "</style>\n",
       "<table border=\"1\" class=\"dataframe\">\n",
       "  <thead>\n",
       "    <tr style=\"text-align: right;\">\n",
       "      <th></th>\n",
       "      <th>0</th>\n",
       "      <th>1</th>\n",
       "      <th>2</th>\n",
       "      <th>3</th>\n",
       "      <th>4</th>\n",
       "      <th>5</th>\n",
       "      <th>6</th>\n",
       "      <th>7</th>\n",
       "      <th>8</th>\n",
       "      <th>9</th>\n",
       "      <th>10</th>\n",
       "      <th>11</th>\n",
       "    </tr>\n",
       "  </thead>\n",
       "  <tbody>\n",
       "    <tr>\n",
       "      <th>0</th>\n",
       "      <td>0.092</td>\n",
       "      <td>0.149</td>\n",
       "      <td>0.064</td>\n",
       "      <td>0.054</td>\n",
       "      <td>0.055</td>\n",
       "      <td>0.087</td>\n",
       "      <td>0.148</td>\n",
       "      <td>0.096</td>\n",
       "      <td>0.098</td>\n",
       "      <td>0.107</td>\n",
       "      <td>0.050</td>\n",
       "      <td>0.066</td>\n",
       "    </tr>\n",
       "    <tr>\n",
       "      <th>1</th>\n",
       "      <td>0.058</td>\n",
       "      <td>0.064</td>\n",
       "      <td>0.097</td>\n",
       "      <td>0.153</td>\n",
       "      <td>0.087</td>\n",
       "      <td>0.061</td>\n",
       "      <td>0.123</td>\n",
       "      <td>0.067</td>\n",
       "      <td>0.053</td>\n",
       "      <td>0.081</td>\n",
       "      <td>0.060</td>\n",
       "      <td>0.050</td>\n",
       "    </tr>\n",
       "    <tr>\n",
       "      <th>2</th>\n",
       "      <td>0.062</td>\n",
       "      <td>0.071</td>\n",
       "      <td>0.093</td>\n",
       "      <td>0.070</td>\n",
       "      <td>0.071</td>\n",
       "      <td>0.086</td>\n",
       "      <td>0.047</td>\n",
       "      <td>0.275</td>\n",
       "      <td>0.143</td>\n",
       "      <td>0.044</td>\n",
       "      <td>0.065</td>\n",
       "      <td>0.205</td>\n",
       "    </tr>\n",
       "  </tbody>\n",
       "</table>\n",
       "</div>"
      ],
      "text/plain": [
       "      0      1      2      3      4      5      6      7      8      9   \\\n",
       "0  0.092  0.149  0.064  0.054  0.055  0.087  0.148  0.096  0.098  0.107   \n",
       "1  0.058  0.064  0.097  0.153  0.087  0.061  0.123  0.067  0.053  0.081   \n",
       "2  0.062  0.071  0.093  0.070  0.071  0.086  0.047  0.275  0.143  0.044   \n",
       "\n",
       "      10     11  \n",
       "0  0.050  0.066  \n",
       "1  0.060  0.050  \n",
       "2  0.065  0.205  "
      ]
     },
     "execution_count": 11,
     "metadata": {},
     "output_type": "execute_result"
    }
   ],
   "source": [
    "path = \"/Users/michaelmoret/Desktop/Externa/data/elisa/elisa_patented_peptides.xlsx\"\n",
    "df_score = pd.read_excel(path, sheet_name=\"Sheet1\", header=None)\n",
    "df_score.head(3)"
   ]
  },
  {
   "cell_type": "code",
   "execution_count": 12,
   "metadata": {},
   "outputs": [
    {
     "data": {
      "text/plain": [
       "96"
      ]
     },
     "execution_count": 12,
     "metadata": {},
     "output_type": "execute_result"
    }
   ],
   "source": [
    "score_values = df_score.values.flatten().tolist()\n",
    "len(score_values)"
   ]
  },
  {
   "cell_type": "code",
   "execution_count": 13,
   "metadata": {},
   "outputs": [
    {
     "data": {
      "text/plain": [
       "[0.092, 0.149, 0.064, 0.054]"
      ]
     },
     "execution_count": 13,
     "metadata": {},
     "output_type": "execute_result"
    }
   ],
   "source": [
    "score_values[:4]"
   ]
  },
  {
   "cell_type": "code",
   "execution_count": 14,
   "metadata": {},
   "outputs": [
    {
     "data": {
      "text/plain": [
       "[0.107, 0.05, 0.066, 0.058, 0.064]"
      ]
     },
     "execution_count": 14,
     "metadata": {},
     "output_type": "execute_result"
    }
   ],
   "source": [
    "score_values[9:14]"
   ]
  },
  {
   "cell_type": "code",
   "execution_count": 15,
   "metadata": {},
   "outputs": [
    {
     "data": {
      "text/plain": [
       "[0.062, 0.071, 0.093]"
      ]
     },
     "execution_count": 15,
     "metadata": {},
     "output_type": "execute_result"
    }
   ],
   "source": [
    "score_values[24:27]"
   ]
  },
  {
   "cell_type": "markdown",
   "metadata": {},
   "source": [
    "get the computation score (in the right order)"
   ]
  },
  {
   "cell_type": "code",
   "execution_count": 16,
   "metadata": {},
   "outputs": [
    {
     "data": {
      "text/plain": [
       "115"
      ]
     },
     "execution_count": 16,
     "metadata": {},
     "output_type": "execute_result"
    }
   ],
   "source": [
    "all_comp_pep = df[\"Peptide Sequence\"].to_list()\n",
    "all_comp_score = df[\"Confidence Score (0.2PTM + 0.8IPTM)\"].to_list()\n",
    "\n",
    "d_cpep_cscore = dict(zip(all_comp_pep, all_comp_score))\n",
    "len(d_cpep_cscore)"
   ]
  },
  {
   "cell_type": "code",
   "execution_count": 17,
   "metadata": {},
   "outputs": [
    {
     "data": {
      "text/plain": [
       "96"
      ]
     },
     "execution_count": 17,
     "metadata": {},
     "output_type": "execute_result"
    }
   ],
   "source": [
    "tested_comp_score = []\n",
    "for pep in all_amino_acid_pep:\n",
    "    tested_comp_score.append(d_cpep_cscore[pep])\n",
    "len(tested_comp_score)"
   ]
  },
  {
   "cell_type": "markdown",
   "metadata": {},
   "source": [
    "cleaning\n",
    "- remove last three that are controls, kp, and long kp"
   ]
  },
  {
   "cell_type": "code",
   "execution_count": 18,
   "metadata": {},
   "outputs": [
    {
     "data": {
      "text/plain": [
       "(93, 93)"
      ]
     },
     "execution_count": 18,
     "metadata": {},
     "output_type": "execute_result"
    }
   ],
   "source": [
    "tested_comp_score = tested_comp_score[:-3]\n",
    "score_values = score_values[:-3]\n",
    "len(tested_comp_score), len(score_values)"
   ]
  },
  {
   "cell_type": "markdown",
   "metadata": {},
   "source": [
    "remove the 0.685 which is a problem"
   ]
  },
  {
   "cell_type": "code",
   "execution_count": 19,
   "metadata": {},
   "outputs": [
    {
     "name": "stdout",
     "output_type": "stream",
     "text": [
      "84\n"
     ]
    }
   ],
   "source": [
    "index = score_values.index(0.685)\n",
    "print(index)"
   ]
  },
  {
   "cell_type": "code",
   "execution_count": 20,
   "metadata": {},
   "outputs": [
    {
     "data": {
      "text/plain": [
       "(92, 92)"
      ]
     },
     "execution_count": 20,
     "metadata": {},
     "output_type": "execute_result"
    }
   ],
   "source": [
    "score_values.pop(84)\n",
    "tested_comp_score.pop(84)\n",
    "len(tested_comp_score), len(score_values)"
   ]
  },
  {
   "cell_type": "code",
   "execution_count": 21,
   "metadata": {},
   "outputs": [
    {
     "data": {
      "text/plain": [
       "-0.134"
      ]
     },
     "execution_count": 21,
     "metadata": {},
     "output_type": "execute_result"
    }
   ],
   "source": [
    "correlation = np.corrcoef(tested_comp_score, score_values)[0, 1]\n",
    "round(correlation, 3)"
   ]
  },
  {
   "cell_type": "markdown",
   "metadata": {},
   "source": [
    "explore"
   ]
  },
  {
   "cell_type": "code",
   "execution_count": 22,
   "metadata": {},
   "outputs": [
    {
     "data": {
      "text/plain": [
       "(69, 69)"
      ]
     },
     "execution_count": 22,
     "metadata": {},
     "output_type": "execute_result"
    }
   ],
   "source": [
    "comp_explore = []\n",
    "elisa_explore = []\n",
    "\n",
    "for c,e in zip(tested_comp_score, score_values):\n",
    "    if e<0.1 or e>2:\n",
    "        comp_explore.append(c)\n",
    "        elisa_explore.append(e)\n",
    "len(comp_explore), len(elisa_explore)"
   ]
  },
  {
   "cell_type": "code",
   "execution_count": 23,
   "metadata": {},
   "outputs": [
    {
     "data": {
      "text/plain": [
       "-0.345"
      ]
     },
     "execution_count": 23,
     "metadata": {},
     "output_type": "execute_result"
    }
   ],
   "source": [
    "correlation = np.corrcoef(comp_explore, elisa_explore)[0, 1]\n",
    "round(correlation, 3)"
   ]
  },
  {
   "cell_type": "code",
   "execution_count": null,
   "metadata": {},
   "outputs": [],
   "source": []
  }
 ],
 "metadata": {
  "kernelspec": {
   "display_name": "Python 3 (ipykernel)",
   "language": "python",
   "name": "python3"
  },
  "language_info": {
   "codemirror_mode": {
    "name": "ipython",
    "version": 3
   },
   "file_extension": ".py",
   "mimetype": "text/x-python",
   "name": "python",
   "nbconvert_exporter": "python",
   "pygments_lexer": "ipython3",
   "version": "3.9.18"
  }
 },
 "nbformat": 4,
 "nbformat_minor": 2
}
