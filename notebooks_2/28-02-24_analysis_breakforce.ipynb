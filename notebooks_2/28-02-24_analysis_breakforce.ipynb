{
 "cells": [
  {
   "attachments": {},
   "cell_type": "markdown",
   "metadata": {},
   "source": [
    "### Goal"
   ]
  },
  {
   "cell_type": "code",
   "execution_count": 1,
   "metadata": {},
   "outputs": [],
   "source": [
    "%load_ext autoreload\n",
    "%autoreload 2"
   ]
  },
  {
   "cell_type": "code",
   "execution_count": 2,
   "metadata": {},
   "outputs": [],
   "source": [
    "import os, sys\n",
    "import pandas as pd\n",
    "import numpy as np\n",
    "import math\n",
    "\n",
    "import matplotlib.pyplot as plt\n",
    "\n",
    "sys.path.append(\"..\")\n",
    "import helper as hp"
   ]
  },
  {
   "cell_type": "code",
   "execution_count": 3,
   "metadata": {},
   "outputs": [
    {
     "data": {
      "text/html": [
       "<div>\n",
       "<style scoped>\n",
       "    .dataframe tbody tr th:only-of-type {\n",
       "        vertical-align: middle;\n",
       "    }\n",
       "\n",
       "    .dataframe tbody tr th {\n",
       "        vertical-align: top;\n",
       "    }\n",
       "\n",
       "    .dataframe thead th {\n",
       "        text-align: right;\n",
       "    }\n",
       "</style>\n",
       "<table border=\"1\" class=\"dataframe\">\n",
       "  <thead>\n",
       "    <tr style=\"text-align: right;\">\n",
       "      <th></th>\n",
       "      <th>Test ID</th>\n",
       "      <th>Batch</th>\n",
       "      <th>Young's Modulus</th>\n",
       "      <th>Break Force</th>\n",
       "      <th>Distance to Break</th>\n",
       "      <th>Toughness</th>\n",
       "      <th>Unnamed: 6</th>\n",
       "      <th>Unnamed: 7</th>\n",
       "      <th>Unnamed: 8</th>\n",
       "    </tr>\n",
       "  </thead>\n",
       "  <tbody>\n",
       "    <tr>\n",
       "      <th>0</th>\n",
       "      <td>NaN</td>\n",
       "      <td>NaN</td>\n",
       "      <td>MPa/%</td>\n",
       "      <td>g</td>\n",
       "      <td>mm</td>\n",
       "      <td>kg/mm².%</td>\n",
       "      <td>NaN</td>\n",
       "      <td>NaN</td>\n",
       "      <td>NaN</td>\n",
       "    </tr>\n",
       "    <tr>\n",
       "      <th>1</th>\n",
       "      <td>NaN</td>\n",
       "      <td>NaN</td>\n",
       "      <td>Gradient St-Strain 1:2</td>\n",
       "      <td>Break Force</td>\n",
       "      <td>Distance to Break</td>\n",
       "      <td>Area St-Strain 1:3</td>\n",
       "      <td>NaN</td>\n",
       "      <td>NaN</td>\n",
       "      <td>NaN</td>\n",
       "    </tr>\n",
       "    <tr>\n",
       "      <th>2</th>\n",
       "      <td>NaN</td>\n",
       "      <td>NaN</td>\n",
       "      <td>NaN</td>\n",
       "      <td>NaN</td>\n",
       "      <td>NaN</td>\n",
       "      <td>NaN</td>\n",
       "      <td>NaN</td>\n",
       "      <td>NaN</td>\n",
       "      <td>NaN</td>\n",
       "    </tr>\n",
       "    <tr>\n",
       "      <th>3</th>\n",
       "      <td>Start Batch 20240227_5.0_NC_</td>\n",
       "      <td>20240227_5.0_NC_</td>\n",
       "      <td>NaN</td>\n",
       "      <td>NaN</td>\n",
       "      <td>NaN</td>\n",
       "      <td>NaN</td>\n",
       "      <td>NaN</td>\n",
       "      <td>NaN</td>\n",
       "      <td>NaN</td>\n",
       "    </tr>\n",
       "    <tr>\n",
       "      <th>4</th>\n",
       "      <td>20240227_5.0_NC_1</td>\n",
       "      <td>20240227_5.0_NC_</td>\n",
       "      <td>50.692</td>\n",
       "      <td>108.939</td>\n",
       "      <td>-27.123</td>\n",
       "      <td>1334.504</td>\n",
       "      <td>63.0</td>\n",
       "      <td>64.0</td>\n",
       "      <td>ok</td>\n",
       "    </tr>\n",
       "    <tr>\n",
       "      <th>5</th>\n",
       "      <td>20240227_5.0_NC_2</td>\n",
       "      <td>20240227_5.0_NC_</td>\n",
       "      <td>47.935</td>\n",
       "      <td>103.819</td>\n",
       "      <td>-29.079</td>\n",
       "      <td>1330.881</td>\n",
       "      <td>56.0</td>\n",
       "      <td>53.0</td>\n",
       "      <td>ok</td>\n",
       "    </tr>\n",
       "  </tbody>\n",
       "</table>\n",
       "</div>"
      ],
      "text/plain": [
       "                        Test ID             Batch         Young's Modulus  \\\n",
       "0                           NaN               NaN                   MPa/%   \n",
       "1                           NaN               NaN  Gradient St-Strain 1:2   \n",
       "2                           NaN               NaN                     NaN   \n",
       "3  Start Batch 20240227_5.0_NC_  20240227_5.0_NC_                     NaN   \n",
       "4             20240227_5.0_NC_1  20240227_5.0_NC_                  50.692   \n",
       "5             20240227_5.0_NC_2  20240227_5.0_NC_                  47.935   \n",
       "\n",
       "   Break Force  Distance to Break           Toughness  Unnamed: 6  Unnamed: 7  \\\n",
       "0            g                 mm            kg/mm².%         NaN         NaN   \n",
       "1  Break Force  Distance to Break  Area St-Strain 1:3         NaN         NaN   \n",
       "2          NaN                NaN                 NaN         NaN         NaN   \n",
       "3          NaN                NaN                 NaN         NaN         NaN   \n",
       "4      108.939            -27.123            1334.504        63.0        64.0   \n",
       "5      103.819            -29.079            1330.881        56.0        53.0   \n",
       "\n",
       "  Unnamed: 8  \n",
       "0        NaN  \n",
       "1        NaN  \n",
       "2        NaN  \n",
       "3        NaN  \n",
       "4         ok  \n",
       "5         ok  "
      ]
     },
     "execution_count": 3,
     "metadata": {},
     "output_type": "execute_result"
    }
   ],
   "source": [
    "df = pd.read_excel(\"/Users/michaelmoret/Desktop/Externa/data/pulling/27-02-25/20240227_tensile_WAX4_pH_50strands/modified.xlsx\")\n",
    "df.head(6)"
   ]
  },
  {
   "cell_type": "code",
   "execution_count": 4,
   "metadata": {},
   "outputs": [],
   "source": [
    "TYPE = \"Break Force\""
   ]
  },
  {
   "cell_type": "code",
   "execution_count": 5,
   "metadata": {},
   "outputs": [
    {
     "data": {
      "text/html": [
       "<div>\n",
       "<style scoped>\n",
       "    .dataframe tbody tr th:only-of-type {\n",
       "        vertical-align: middle;\n",
       "    }\n",
       "\n",
       "    .dataframe tbody tr th {\n",
       "        vertical-align: top;\n",
       "    }\n",
       "\n",
       "    .dataframe thead th {\n",
       "        text-align: right;\n",
       "    }\n",
       "</style>\n",
       "<table border=\"1\" class=\"dataframe\">\n",
       "  <thead>\n",
       "    <tr style=\"text-align: right;\">\n",
       "      <th></th>\n",
       "      <th>Test ID</th>\n",
       "      <th>Batch</th>\n",
       "      <th>Young's Modulus</th>\n",
       "      <th>Break Force</th>\n",
       "      <th>Distance to Break</th>\n",
       "      <th>Toughness</th>\n",
       "      <th>Diameter 1</th>\n",
       "      <th>Diameter 2</th>\n",
       "      <th>Note</th>\n",
       "    </tr>\n",
       "  </thead>\n",
       "  <tbody>\n",
       "    <tr>\n",
       "      <th>0</th>\n",
       "      <td>NaN</td>\n",
       "      <td>NaN</td>\n",
       "      <td>MPa/%</td>\n",
       "      <td>g</td>\n",
       "      <td>mm</td>\n",
       "      <td>kg/mm².%</td>\n",
       "      <td>NaN</td>\n",
       "      <td>NaN</td>\n",
       "      <td>NaN</td>\n",
       "    </tr>\n",
       "    <tr>\n",
       "      <th>1</th>\n",
       "      <td>NaN</td>\n",
       "      <td>NaN</td>\n",
       "      <td>Gradient St-Strain 1:2</td>\n",
       "      <td>Break Force</td>\n",
       "      <td>Distance to Break</td>\n",
       "      <td>Area St-Strain 1:3</td>\n",
       "      <td>NaN</td>\n",
       "      <td>NaN</td>\n",
       "      <td>NaN</td>\n",
       "    </tr>\n",
       "  </tbody>\n",
       "</table>\n",
       "</div>"
      ],
      "text/plain": [
       "  Test ID Batch         Young's Modulus  Break Force  Distance to Break  \\\n",
       "0     NaN   NaN                   MPa/%            g                 mm   \n",
       "1     NaN   NaN  Gradient St-Strain 1:2  Break Force  Distance to Break   \n",
       "\n",
       "            Toughness  Diameter 1  Diameter 2 Note  \n",
       "0            kg/mm².%         NaN         NaN  NaN  \n",
       "1  Area St-Strain 1:3         NaN         NaN  NaN  "
      ]
     },
     "execution_count": 5,
     "metadata": {},
     "output_type": "execute_result"
    }
   ],
   "source": [
    "df = df.rename(columns={'Unnamed: 6': 'Diameter 1', \n",
    "                        'Unnamed: 7': 'Diameter 2',\n",
    "                        'Unnamed: 8': 'Note',})\n",
    "df.head(2)"
   ]
  },
  {
   "cell_type": "code",
   "execution_count": 6,
   "metadata": {},
   "outputs": [],
   "source": [
    "#df = df.drop('Humidity', axis=1)\n",
    "#df.head(2)"
   ]
  },
  {
   "cell_type": "code",
   "execution_count": 7,
   "metadata": {},
   "outputs": [
    {
     "data": {
      "text/html": [
       "<div>\n",
       "<style scoped>\n",
       "    .dataframe tbody tr th:only-of-type {\n",
       "        vertical-align: middle;\n",
       "    }\n",
       "\n",
       "    .dataframe tbody tr th {\n",
       "        vertical-align: top;\n",
       "    }\n",
       "\n",
       "    .dataframe thead th {\n",
       "        text-align: right;\n",
       "    }\n",
       "</style>\n",
       "<table border=\"1\" class=\"dataframe\">\n",
       "  <thead>\n",
       "    <tr style=\"text-align: right;\">\n",
       "      <th></th>\n",
       "      <th>Test ID</th>\n",
       "      <th>Batch</th>\n",
       "      <th>Young's Modulus</th>\n",
       "      <th>Break Force</th>\n",
       "      <th>Distance to Break</th>\n",
       "      <th>Toughness</th>\n",
       "      <th>Diameter 1</th>\n",
       "      <th>Diameter 2</th>\n",
       "      <th>Note</th>\n",
       "    </tr>\n",
       "  </thead>\n",
       "  <tbody>\n",
       "    <tr>\n",
       "      <th>4</th>\n",
       "      <td>20240227_5.0_NC_1</td>\n",
       "      <td>20240227_5.0_NC_</td>\n",
       "      <td>50.692</td>\n",
       "      <td>108.939</td>\n",
       "      <td>-27.123</td>\n",
       "      <td>1334.504</td>\n",
       "      <td>63.0</td>\n",
       "      <td>64.0</td>\n",
       "      <td>ok</td>\n",
       "    </tr>\n",
       "    <tr>\n",
       "      <th>5</th>\n",
       "      <td>20240227_5.0_NC_2</td>\n",
       "      <td>20240227_5.0_NC_</td>\n",
       "      <td>47.935</td>\n",
       "      <td>103.819</td>\n",
       "      <td>-29.079</td>\n",
       "      <td>1330.881</td>\n",
       "      <td>56.0</td>\n",
       "      <td>53.0</td>\n",
       "      <td>ok</td>\n",
       "    </tr>\n",
       "  </tbody>\n",
       "</table>\n",
       "</div>"
      ],
      "text/plain": [
       "             Test ID             Batch Young's Modulus Break Force  \\\n",
       "4  20240227_5.0_NC_1  20240227_5.0_NC_          50.692     108.939   \n",
       "5  20240227_5.0_NC_2  20240227_5.0_NC_          47.935     103.819   \n",
       "\n",
       "  Distance to Break Toughness  Diameter 1  Diameter 2 Note  \n",
       "4           -27.123  1334.504        63.0        64.0   ok  \n",
       "5           -29.079  1330.881        56.0        53.0   ok  "
      ]
     },
     "execution_count": 7,
     "metadata": {},
     "output_type": "execute_result"
    }
   ],
   "source": [
    "df = df.dropna()\n",
    "df.head(2)"
   ]
  },
  {
   "cell_type": "code",
   "execution_count": 8,
   "metadata": {},
   "outputs": [
    {
     "data": {
      "text/html": [
       "<div>\n",
       "<style scoped>\n",
       "    .dataframe tbody tr th:only-of-type {\n",
       "        vertical-align: middle;\n",
       "    }\n",
       "\n",
       "    .dataframe tbody tr th {\n",
       "        vertical-align: top;\n",
       "    }\n",
       "\n",
       "    .dataframe thead th {\n",
       "        text-align: right;\n",
       "    }\n",
       "</style>\n",
       "<table border=\"1\" class=\"dataframe\">\n",
       "  <thead>\n",
       "    <tr style=\"text-align: right;\">\n",
       "      <th></th>\n",
       "      <th>Test ID</th>\n",
       "      <th>Batch</th>\n",
       "      <th>Young's Modulus</th>\n",
       "      <th>Break Force</th>\n",
       "      <th>Distance to Break</th>\n",
       "      <th>Toughness</th>\n",
       "      <th>Diameter 1</th>\n",
       "      <th>Diameter 2</th>\n",
       "      <th>Note</th>\n",
       "    </tr>\n",
       "  </thead>\n",
       "  <tbody>\n",
       "    <tr>\n",
       "      <th>4</th>\n",
       "      <td>20240227_5.0_NC_1</td>\n",
       "      <td>20240227_5.0_NC_</td>\n",
       "      <td>50.692</td>\n",
       "      <td>108.939</td>\n",
       "      <td>-27.123</td>\n",
       "      <td>1334.504</td>\n",
       "      <td>63.0</td>\n",
       "      <td>64.0</td>\n",
       "      <td>ok</td>\n",
       "    </tr>\n",
       "    <tr>\n",
       "      <th>5</th>\n",
       "      <td>20240227_5.0_NC_2</td>\n",
       "      <td>20240227_5.0_NC_</td>\n",
       "      <td>47.935</td>\n",
       "      <td>103.819</td>\n",
       "      <td>-29.079</td>\n",
       "      <td>1330.881</td>\n",
       "      <td>56.0</td>\n",
       "      <td>53.0</td>\n",
       "      <td>ok</td>\n",
       "    </tr>\n",
       "  </tbody>\n",
       "</table>\n",
       "</div>"
      ],
      "text/plain": [
       "             Test ID             Batch  Young's Modulus  Break Force  \\\n",
       "4  20240227_5.0_NC_1  20240227_5.0_NC_           50.692      108.939   \n",
       "5  20240227_5.0_NC_2  20240227_5.0_NC_           47.935      103.819   \n",
       "\n",
       "   Distance to Break Toughness  Diameter 1  Diameter 2 Note  \n",
       "4            -27.123  1334.504        63.0        64.0   ok  \n",
       "5            -29.079  1330.881        56.0        53.0   ok  "
      ]
     },
     "execution_count": 8,
     "metadata": {},
     "output_type": "execute_result"
    }
   ],
   "source": [
    "df['Break Force'] = df['Break Force'].astype(float)\n",
    "df['Young\\'s Modulus'] = df['Young\\'s Modulus'].astype(float)\n",
    "df['Distance to Break'] = df['Distance to Break'].astype(float)\n",
    "#df['Toughness'] = df['Toughness'].astype(float)\n",
    "df['Diameter 1'] = df['Diameter 1'].astype(float)\n",
    "df['Diameter 2'] = df['Diameter 2'].astype(float)\n",
    "#df['Humidity'] = df['Humidity'].astype(float)\n",
    "\n",
    "df.head(2)"
   ]
  },
  {
   "cell_type": "code",
   "execution_count": 9,
   "metadata": {},
   "outputs": [],
   "source": [
    "#df = df[df['Test ID'] != 'Average:']\n",
    "#df = df[df['Test ID'] != 'S.D.']\n",
    "#df = df[df['Test ID'] != 'Coef. of Variation']"
   ]
  },
  {
   "cell_type": "code",
   "execution_count": 10,
   "metadata": {},
   "outputs": [],
   "source": [
    "df['Average'] = ((df['Diameter 1'] + df['Diameter 2']) / 2 )/1000\n",
    "df['Area'] = math.pi * (df['Average'] / 2)**2"
   ]
  },
  {
   "cell_type": "code",
   "execution_count": 11,
   "metadata": {},
   "outputs": [],
   "source": [
    "df['Baseline area'] = math.pi * 0.035**2\n",
    "df['Updated Young\\'s Modulus'] = df['Young\\'s Modulus'] * (df['Baseline area'] / df['Area'])"
   ]
  },
  {
   "cell_type": "code",
   "execution_count": 12,
   "metadata": {},
   "outputs": [],
   "source": [
    "df['Break stress'] = df['Break Force'] / df['Area'] / 1000"
   ]
  },
  {
   "cell_type": "code",
   "execution_count": 13,
   "metadata": {},
   "outputs": [
    {
     "data": {
      "text/html": [
       "<div>\n",
       "<style scoped>\n",
       "    .dataframe tbody tr th:only-of-type {\n",
       "        vertical-align: middle;\n",
       "    }\n",
       "\n",
       "    .dataframe tbody tr th {\n",
       "        vertical-align: top;\n",
       "    }\n",
       "\n",
       "    .dataframe thead th {\n",
       "        text-align: right;\n",
       "    }\n",
       "</style>\n",
       "<table border=\"1\" class=\"dataframe\">\n",
       "  <thead>\n",
       "    <tr style=\"text-align: right;\">\n",
       "      <th></th>\n",
       "      <th>Test ID</th>\n",
       "      <th>Batch</th>\n",
       "      <th>Young's Modulus</th>\n",
       "      <th>Break Force</th>\n",
       "      <th>Distance to Break</th>\n",
       "      <th>Toughness</th>\n",
       "      <th>Diameter 1</th>\n",
       "      <th>Diameter 2</th>\n",
       "      <th>Note</th>\n",
       "      <th>Average</th>\n",
       "      <th>Area</th>\n",
       "      <th>Baseline area</th>\n",
       "      <th>Updated Young's Modulus</th>\n",
       "      <th>Break stress</th>\n",
       "    </tr>\n",
       "  </thead>\n",
       "  <tbody>\n",
       "    <tr>\n",
       "      <th>4</th>\n",
       "      <td>20240227_5.0_NC_1</td>\n",
       "      <td>20240227_5.0_NC_</td>\n",
       "      <td>50.692</td>\n",
       "      <td>108.939</td>\n",
       "      <td>-27.123</td>\n",
       "      <td>1334.504</td>\n",
       "      <td>63.0</td>\n",
       "      <td>64.0</td>\n",
       "      <td>ok</td>\n",
       "      <td>0.0635</td>\n",
       "      <td>0.003167</td>\n",
       "      <td>0.003848</td>\n",
       "      <td>61.601042</td>\n",
       "      <td>34.399019</td>\n",
       "    </tr>\n",
       "    <tr>\n",
       "      <th>5</th>\n",
       "      <td>20240227_5.0_NC_2</td>\n",
       "      <td>20240227_5.0_NC_</td>\n",
       "      <td>47.935</td>\n",
       "      <td>103.819</td>\n",
       "      <td>-29.079</td>\n",
       "      <td>1330.881</td>\n",
       "      <td>56.0</td>\n",
       "      <td>53.0</td>\n",
       "      <td>ok</td>\n",
       "      <td>0.0545</td>\n",
       "      <td>0.002333</td>\n",
       "      <td>0.003848</td>\n",
       "      <td>79.078024</td>\n",
       "      <td>44.503478</td>\n",
       "    </tr>\n",
       "  </tbody>\n",
       "</table>\n",
       "</div>"
      ],
      "text/plain": [
       "             Test ID             Batch  Young's Modulus  Break Force  \\\n",
       "4  20240227_5.0_NC_1  20240227_5.0_NC_           50.692      108.939   \n",
       "5  20240227_5.0_NC_2  20240227_5.0_NC_           47.935      103.819   \n",
       "\n",
       "   Distance to Break Toughness  Diameter 1  Diameter 2 Note  Average  \\\n",
       "4            -27.123  1334.504        63.0        64.0   ok   0.0635   \n",
       "5            -29.079  1330.881        56.0        53.0   ok   0.0545   \n",
       "\n",
       "       Area  Baseline area  Updated Young's Modulus  Break stress  \n",
       "4  0.003167       0.003848                61.601042     34.399019  \n",
       "5  0.002333       0.003848                79.078024     44.503478  "
      ]
     },
     "execution_count": 13,
     "metadata": {},
     "output_type": "execute_result"
    }
   ],
   "source": [
    "df.head(2)"
   ]
  },
  {
   "cell_type": "code",
   "execution_count": 14,
   "metadata": {},
   "outputs": [
    {
     "data": {
      "text/plain": [
       "213"
      ]
     },
     "execution_count": 14,
     "metadata": {},
     "output_type": "execute_result"
    }
   ],
   "source": [
    "len(df)"
   ]
  },
  {
   "cell_type": "code",
   "execution_count": 15,
   "metadata": {},
   "outputs": [
    {
     "data": {
      "text/plain": [
       "<Figure size 1000x600 with 0 Axes>"
      ]
     },
     "metadata": {},
     "output_type": "display_data"
    },
    {
     "data": {
      "image/png": "[encoded data removed]",
      "text/plain": [
       "<Figure size 640x480 with 1 Axes>"
      ]
     },
     "metadata": {},
     "output_type": "display_data"
    }
   ],
   "source": [
    "def do_plot(df):\n",
    "    plt.figure(figsize=(10, 6))\n",
    "    df.boxplot(column=TYPE, by='Batch')\n",
    "    plt.xlabel('Name')\n",
    "    plt.ylabel(TYPE)\n",
    "    plt.xticks(rotation=65)\n",
    "    ## y axis from 20 to 90\n",
    "    #plt.ylim(15, 90)\n",
    "    plt.show()\n",
    "    \n",
    "\n",
    "do_plot(df)\n"
   ]
  },
  {
   "cell_type": "code",
   "execution_count": 16,
   "metadata": {},
   "outputs": [
    {
     "name": "stdout",
     "output_type": "stream",
     "text": [
      "Batch\n",
      "20240227_5.0_NC_      22.747491\n",
      "20240227_5.0_WAX4_    23.267654\n",
      "20240227_7.4_NC_      23.088500\n",
      "20240227_7.4_WAX4_    26.006452\n",
      "20240227_8.2_NC_      19.684467\n",
      "20240227_8.2_WAX4_    24.452062\n",
      "Name: Break Force, dtype: float64\n"
     ]
    }
   ],
   "source": [
    "std_by_batch_all = df.groupby('Batch')[TYPE].std()\n",
    "print(std_by_batch_all)"
   ]
  },
  {
   "cell_type": "code",
   "execution_count": 17,
   "metadata": {},
   "outputs": [
    {
     "data": {
      "text/plain": [
       "(                    20240227_5.0_NC_  20240227_5.0_WAX4_  20240227_7.4_NC_  \\\n",
       " 20240227_5.0_NC_               1.000               0.513             0.830   \n",
       " 20240227_5.0_WAX4_             0.513               1.000             0.542   \n",
       " 20240227_7.4_NC_               0.830               0.542             1.000   \n",
       " 20240227_7.4_WAX4_             0.556               0.693             0.613   \n",
       " 20240227_8.2_NC_               0.539               0.827             0.323   \n",
       " 20240227_8.2_WAX4_             0.718               0.272             0.820   \n",
       " \n",
       "                     20240227_7.4_WAX4_  20240227_8.2_NC_  20240227_8.2_WAX4_  \n",
       " 20240227_5.0_NC_                 0.556             0.539               0.718  \n",
       " 20240227_5.0_WAX4_               0.693             0.827               0.272  \n",
       " 20240227_7.4_NC_                 0.613             0.323               0.820  \n",
       " 20240227_7.4_WAX4_               1.000             0.769               0.417  \n",
       " 20240227_8.2_NC_                 0.769             1.000               0.436  \n",
       " 20240227_8.2_WAX4_               0.417             0.436               1.000  ,\n",
       "                     20240227_5.0_NC_  20240227_5.0_WAX4_  20240227_7.4_NC_  \\\n",
       " 20240227_5.0_NC_               -1.00              419.97          71939.37   \n",
       " 20240227_5.0_WAX4_            419.97               -1.00            499.00   \n",
       " 20240227_7.4_NC_            71939.37              499.00             -1.00   \n",
       " 20240227_7.4_WAX4_           1053.77             4422.22           1358.11   \n",
       " 20240227_8.2_NC_              430.64            48476.18            521.07   \n",
       " 20240227_8.2_WAX4_           1587.67              194.21           1230.06   \n",
       " \n",
       "                     20240227_7.4_WAX4_  20240227_8.2_NC_  20240227_8.2_WAX4_  \n",
       " 20240227_5.0_NC_               1053.77            430.64             1587.67  \n",
       " 20240227_5.0_WAX4_             4422.22          48476.18              194.21  \n",
       " 20240227_7.4_NC_               1358.11            521.07             1230.06  \n",
       " 20240227_7.4_WAX4_               -1.00           7126.70              352.73  \n",
       " 20240227_8.2_NC_               7126.70             -1.00              188.93  \n",
       " 20240227_8.2_WAX4_              352.73            188.93               -1.00  )"
      ]
     },
     "execution_count": 17,
     "metadata": {},
     "output_type": "execute_result"
    }
   ],
   "source": [
    "hp.get_pvalue_and_sample_size(df, TYPE)"
   ]
  },
  {
   "cell_type": "code",
   "execution_count": 18,
   "metadata": {},
   "outputs": [
    {
     "name": "stdout",
     "output_type": "stream",
     "text": [
      "['ok' 'almost breakend' 'early-weakness' 'breakend' 'ok ' 'ok early'\n",
      " 'early breakend' 'early-breakend']\n"
     ]
    }
   ],
   "source": [
    "unique_values = df['Note'].unique()\n",
    "print(unique_values)"
   ]
  },
  {
   "cell_type": "markdown",
   "metadata": {},
   "source": [
    "let's remove all but ok"
   ]
  },
  {
   "cell_type": "code",
   "execution_count": 19,
   "metadata": {},
   "outputs": [
    {
     "data": {
      "text/plain": [
       "213"
      ]
     },
     "execution_count": 19,
     "metadata": {},
     "output_type": "execute_result"
    }
   ],
   "source": [
    "len(df)"
   ]
  },
  {
   "cell_type": "code",
   "execution_count": 20,
   "metadata": {},
   "outputs": [
    {
     "name": "stdout",
     "output_type": "stream",
     "text": [
      "Batch\n",
      "20240227_7.4_NC_      37\n",
      "20240227_8.2_NC_      37\n",
      "20240227_8.2_WAX4_    37\n",
      "20240227_5.0_NC_      35\n",
      "20240227_5.0_WAX4_    34\n",
      "20240227_7.4_WAX4_    33\n",
      "Name: count, dtype: int64\n"
     ]
    }
   ],
   "source": [
    "count_by_batch = df['Batch'].value_counts()\n",
    "print(count_by_batch)"
   ]
  },
  {
   "cell_type": "code",
   "execution_count": 21,
   "metadata": {},
   "outputs": [
    {
     "data": {
      "text/plain": [
       "176"
      ]
     },
     "execution_count": 21,
     "metadata": {},
     "output_type": "execute_result"
    }
   ],
   "source": [
    "df = df[df['Note'].isin(['ok', 'ok!', 'okkk', 'OK', 'good', 'great', 'ok '])]\n",
    "len(df)"
   ]
  },
  {
   "cell_type": "code",
   "execution_count": 22,
   "metadata": {},
   "outputs": [
    {
     "name": "stdout",
     "output_type": "stream",
     "text": [
      "Batch\n",
      "20240227_8.2_NC_      35\n",
      "20240227_5.0_NC_      32\n",
      "20240227_7.4_NC_      30\n",
      "20240227_5.0_WAX4_    27\n",
      "20240227_7.4_WAX4_    26\n",
      "20240227_8.2_WAX4_    26\n",
      "Name: count, dtype: int64\n"
     ]
    }
   ],
   "source": [
    "count_by_batch = df['Batch'].value_counts()\n",
    "print(count_by_batch)"
   ]
  },
  {
   "cell_type": "code",
   "execution_count": 23,
   "metadata": {},
   "outputs": [
    {
     "data": {
      "text/plain": [
       "<Figure size 1000x600 with 0 Axes>"
      ]
     },
     "metadata": {},
     "output_type": "display_data"
    },
    {
     "data": {
      "image/png": "[encoded data removed]",
      "text/plain": [
       "<Figure size 640x480 with 1 Axes>"
      ]
     },
     "metadata": {},
     "output_type": "display_data"
    }
   ],
   "source": [
    "do_plot(df)"
   ]
  },
  {
   "cell_type": "code",
   "execution_count": 24,
   "metadata": {},
   "outputs": [
    {
     "name": "stdout",
     "output_type": "stream",
     "text": [
      "Batch\n",
      "20240227_5.0_NC_      23.257902\n",
      "20240227_5.0_WAX4_    17.819838\n",
      "20240227_7.4_NC_      22.745088\n",
      "20240227_7.4_WAX4_    24.111510\n",
      "20240227_8.2_NC_      19.866551\n",
      "20240227_8.2_WAX4_    25.422311\n",
      "Name: Break Force, dtype: float64\n"
     ]
    }
   ],
   "source": [
    "std_by_batch_ok = df.groupby('Batch')[TYPE].std()\n",
    "print(std_by_batch_ok)"
   ]
  },
  {
   "cell_type": "code",
   "execution_count": 25,
   "metadata": {},
   "outputs": [
    {
     "data": {
      "text/html": [
       "<div>\n",
       "<style scoped>\n",
       "    .dataframe tbody tr th:only-of-type {\n",
       "        vertical-align: middle;\n",
       "    }\n",
       "\n",
       "    .dataframe tbody tr th {\n",
       "        vertical-align: top;\n",
       "    }\n",
       "\n",
       "    .dataframe thead th {\n",
       "        text-align: right;\n",
       "    }\n",
       "</style>\n",
       "<table border=\"1\" class=\"dataframe\">\n",
       "  <thead>\n",
       "    <tr style=\"text-align: right;\">\n",
       "      <th></th>\n",
       "      <th>std all</th>\n",
       "      <th>std ok</th>\n",
       "    </tr>\n",
       "    <tr>\n",
       "      <th>Batch</th>\n",
       "      <th></th>\n",
       "      <th></th>\n",
       "    </tr>\n",
       "  </thead>\n",
       "  <tbody>\n",
       "    <tr>\n",
       "      <th>20240227_5.0_NC_</th>\n",
       "      <td>22.747491</td>\n",
       "      <td>23.257902</td>\n",
       "    </tr>\n",
       "    <tr>\n",
       "      <th>20240227_5.0_WAX4_</th>\n",
       "      <td>23.267654</td>\n",
       "      <td>17.819838</td>\n",
       "    </tr>\n",
       "    <tr>\n",
       "      <th>20240227_7.4_NC_</th>\n",
       "      <td>23.088500</td>\n",
       "      <td>22.745088</td>\n",
       "    </tr>\n",
       "    <tr>\n",
       "      <th>20240227_7.4_WAX4_</th>\n",
       "      <td>26.006452</td>\n",
       "      <td>24.111510</td>\n",
       "    </tr>\n",
       "    <tr>\n",
       "      <th>20240227_8.2_NC_</th>\n",
       "      <td>19.684467</td>\n",
       "      <td>19.866551</td>\n",
       "    </tr>\n",
       "    <tr>\n",
       "      <th>20240227_8.2_WAX4_</th>\n",
       "      <td>24.452062</td>\n",
       "      <td>25.422311</td>\n",
       "    </tr>\n",
       "  </tbody>\n",
       "</table>\n",
       "</div>"
      ],
      "text/plain": [
       "                      std all     std ok\n",
       "Batch                                   \n",
       "20240227_5.0_NC_    22.747491  23.257902\n",
       "20240227_5.0_WAX4_  23.267654  17.819838\n",
       "20240227_7.4_NC_    23.088500  22.745088\n",
       "20240227_7.4_WAX4_  26.006452  24.111510\n",
       "20240227_8.2_NC_    19.684467  19.866551\n",
       "20240227_8.2_WAX4_  24.452062  25.422311"
      ]
     },
     "execution_count": 25,
     "metadata": {},
     "output_type": "execute_result"
    }
   ],
   "source": [
    "merged_df = pd.concat([std_by_batch_all, std_by_batch_ok], axis=1)\n",
    "merged_df.columns = ['std all', 'std ok']\n",
    "merged_df"
   ]
  },
  {
   "cell_type": "code",
   "execution_count": 26,
   "metadata": {},
   "outputs": [
    {
     "data": {
      "text/plain": [
       "(                    20240227_5.0_NC_  20240227_5.0_WAX4_  20240227_7.4_NC_  \\\n",
       " 20240227_5.0_NC_               1.000               0.665             0.356   \n",
       " 20240227_5.0_WAX4_             0.665               1.000             0.274   \n",
       " 20240227_7.4_NC_               0.356               0.274             1.000   \n",
       " 20240227_7.4_WAX4_             0.702               0.210             0.850   \n",
       " 20240227_8.2_NC_               0.716               0.644             0.137   \n",
       " 20240227_8.2_WAX4_             0.369               0.133             0.915   \n",
       " \n",
       "                     20240227_7.4_WAX4_  20240227_8.2_NC_  20240227_8.2_WAX4_  \n",
       " 20240227_5.0_NC_                 0.702             0.716               0.369  \n",
       " 20240227_5.0_WAX4_               0.210             0.644               0.133  \n",
       " 20240227_7.4_NC_                 0.850             0.137               0.915  \n",
       " 20240227_7.4_WAX4_               1.000             0.710               0.589  \n",
       " 20240227_8.2_NC_                 0.710             1.000               0.258  \n",
       " 20240227_8.2_WAX4_               0.589             0.258               1.000  ,\n",
       "                     20240227_5.0_NC_  20240227_5.0_WAX4_  20240227_7.4_NC_  \\\n",
       " 20240227_5.0_NC_               -1.00              556.67            641.42   \n",
       " 20240227_5.0_WAX4_            556.67               -1.00            131.57   \n",
       " 20240227_7.4_NC_              641.42              131.57             -1.00   \n",
       " 20240227_7.4_WAX4_            807.55              154.14          98048.14   \n",
       " 20240227_8.2_NC_              973.52            10369.16            178.54   \n",
       " 20240227_8.2_WAX4_            190.28               69.62            784.33   \n",
       " \n",
       "                     20240227_7.4_WAX4_  20240227_8.2_NC_  20240227_8.2_WAX4_  \n",
       " 20240227_5.0_NC_                807.55            973.52              190.28  \n",
       " 20240227_5.0_WAX4_              154.14          10369.16               69.62  \n",
       " 20240227_7.4_NC_              98048.14            178.54              784.33  \n",
       " 20240227_7.4_WAX4_               -1.00            210.09              700.62  \n",
       " 20240227_8.2_NC_                210.09             -1.00               86.68  \n",
       " 20240227_8.2_WAX4_              700.62             86.68               -1.00  )"
      ]
     },
     "execution_count": 26,
     "metadata": {},
     "output_type": "execute_result"
    }
   ],
   "source": [
    "hp.get_pvalue_and_sample_size(df, TYPE)"
   ]
  },
  {
   "cell_type": "markdown",
   "metadata": {},
   "source": [
    "more check"
   ]
  },
  {
   "cell_type": "code",
   "execution_count": 27,
   "metadata": {},
   "outputs": [
    {
     "name": "stdout",
     "output_type": "stream",
     "text": [
      "Batch\n",
      "20240227_5.0_NC_      85.720531\n",
      "20240227_5.0_WAX4_    82.238407\n",
      "20240227_7.4_NC_      89.321800\n",
      "20240227_7.4_WAX4_    89.025231\n",
      "20240227_8.2_NC_      82.972686\n",
      "20240227_8.2_WAX4_    92.736308\n",
      "Name: Break Force, dtype: float64\n"
     ]
    }
   ],
   "source": [
    "bio = df.groupby('Batch')[TYPE].mean()\n",
    "print(bio)"
   ]
  },
  {
   "cell_type": "code",
   "execution_count": 28,
   "metadata": {},
   "outputs": [
    {
     "name": "stdout",
     "output_type": "stream",
     "text": [
      "Batch\n",
      "20240227_5.0_NC_      86.4600\n",
      "20240227_5.0_WAX4_    80.6400\n",
      "20240227_7.4_NC_      95.4795\n",
      "20240227_7.4_WAX4_    84.5705\n",
      "20240227_8.2_NC_      87.7600\n",
      "20240227_8.2_WAX4_    88.2530\n",
      "Name: Break Force, dtype: float64\n"
     ]
    }
   ],
   "source": [
    "bio = df.groupby('Batch')[TYPE].median()\n",
    "print(bio)"
   ]
  },
  {
   "cell_type": "code",
   "execution_count": null,
   "metadata": {},
   "outputs": [],
   "source": []
  }
 ],
 "metadata": {
  "kernelspec": {
   "display_name": "Python 3 (ipykernel)",
   "language": "python",
   "name": "python3"
  },
  "language_info": {
   "codemirror_mode": {
    "name": "ipython",
    "version": 3
   },
   "file_extension": ".py",
   "mimetype": "text/x-python",
   "name": "python",
   "nbconvert_exporter": "python",
   "pygments_lexer": "ipython3",
   "version": "3.9.18"
  }
 },
 "nbformat": 4,
 "nbformat_minor": 2
}
