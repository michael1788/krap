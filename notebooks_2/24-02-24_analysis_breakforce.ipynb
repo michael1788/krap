{
 "cells": [
  {
   "attachments": {},
   "cell_type": "markdown",
   "metadata": {},
   "source": [
    "### Goal"
   ]
  },
  {
   "cell_type": "code",
   "execution_count": 1,
   "metadata": {},
   "outputs": [],
   "source": [
    "%load_ext autoreload\n",
    "%autoreload 2"
   ]
  },
  {
   "cell_type": "code",
   "execution_count": 2,
   "metadata": {},
   "outputs": [],
   "source": [
    "import os, sys\n",
    "import pandas as pd\n",
    "import numpy as np\n",
    "import math\n",
    "\n",
    "import matplotlib.pyplot as plt\n",
    "\n",
    "sys.path.append(\"..\")\n",
    "import helper as hp"
   ]
  },
  {
   "cell_type": "code",
   "execution_count": 3,
   "metadata": {},
   "outputs": [
    {
     "data": {
      "text/html": [
       "<div>\n",
       "<style scoped>\n",
       "    .dataframe tbody tr th:only-of-type {\n",
       "        vertical-align: middle;\n",
       "    }\n",
       "\n",
       "    .dataframe tbody tr th {\n",
       "        vertical-align: top;\n",
       "    }\n",
       "\n",
       "    .dataframe thead th {\n",
       "        text-align: right;\n",
       "    }\n",
       "</style>\n",
       "<table border=\"1\" class=\"dataframe\">\n",
       "  <thead>\n",
       "    <tr style=\"text-align: right;\">\n",
       "      <th></th>\n",
       "      <th>Test ID</th>\n",
       "      <th>Batch</th>\n",
       "      <th>Young's Modulus</th>\n",
       "      <th>Break Force</th>\n",
       "      <th>Distance to Break</th>\n",
       "      <th>Toughness</th>\n",
       "      <th>Unnamed: 6</th>\n",
       "      <th>Unnamed: 7</th>\n",
       "      <th>Unnamed: 8</th>\n",
       "      <th>Unnamed: 9</th>\n",
       "    </tr>\n",
       "  </thead>\n",
       "  <tbody>\n",
       "    <tr>\n",
       "      <th>0</th>\n",
       "      <td>NaN</td>\n",
       "      <td>NaN</td>\n",
       "      <td>MPa/%</td>\n",
       "      <td>g</td>\n",
       "      <td>mm</td>\n",
       "      <td>kg/mm².%</td>\n",
       "      <td>NaN</td>\n",
       "      <td>NaN</td>\n",
       "      <td>NaN</td>\n",
       "      <td>NaN</td>\n",
       "    </tr>\n",
       "    <tr>\n",
       "      <th>1</th>\n",
       "      <td>NaN</td>\n",
       "      <td>NaN</td>\n",
       "      <td>Gradient St-Strain 1:2</td>\n",
       "      <td>Break Force</td>\n",
       "      <td>Distance to Break</td>\n",
       "      <td>Area St-Strain 1:3</td>\n",
       "      <td>NaN</td>\n",
       "      <td>NaN</td>\n",
       "      <td>NaN</td>\n",
       "      <td>NaN</td>\n",
       "    </tr>\n",
       "    <tr>\n",
       "      <th>2</th>\n",
       "      <td>NaN</td>\n",
       "      <td>NaN</td>\n",
       "      <td>NaN</td>\n",
       "      <td>NaN</td>\n",
       "      <td>NaN</td>\n",
       "      <td>NaN</td>\n",
       "      <td>NaN</td>\n",
       "      <td>NaN</td>\n",
       "      <td>NaN</td>\n",
       "      <td>NaN</td>\n",
       "    </tr>\n",
       "    <tr>\n",
       "      <th>3</th>\n",
       "      <td>Start Batch 20240224_Kerling_bleach_W3_</td>\n",
       "      <td>20240224_Kerling_bleach_W3_</td>\n",
       "      <td>NaN</td>\n",
       "      <td>NaN</td>\n",
       "      <td>NaN</td>\n",
       "      <td>NaN</td>\n",
       "      <td>NaN</td>\n",
       "      <td>NaN</td>\n",
       "      <td>NaN</td>\n",
       "      <td>NaN</td>\n",
       "    </tr>\n",
       "    <tr>\n",
       "      <th>4</th>\n",
       "      <td>20240224_Kerling_bleach_W3_1</td>\n",
       "      <td>20240224_Kerling_bleach_W3_</td>\n",
       "      <td>41.008</td>\n",
       "      <td>72.628</td>\n",
       "      <td>-25.439</td>\n",
       "      <td>761.211</td>\n",
       "      <td>41.0</td>\n",
       "      <td>38.0</td>\n",
       "      <td>breakend</td>\n",
       "      <td>12.5</td>\n",
       "    </tr>\n",
       "    <tr>\n",
       "      <th>5</th>\n",
       "      <td>20240224_Kerling_bleach_W3_2</td>\n",
       "      <td>20240224_Kerling_bleach_W3_</td>\n",
       "      <td>37.503</td>\n",
       "      <td>67.397</td>\n",
       "      <td>-26.987</td>\n",
       "      <td>742.341</td>\n",
       "      <td>35.0</td>\n",
       "      <td>35.0</td>\n",
       "      <td>good</td>\n",
       "      <td>12.5</td>\n",
       "    </tr>\n",
       "  </tbody>\n",
       "</table>\n",
       "</div>"
      ],
      "text/plain": [
       "                                   Test ID                        Batch  \\\n",
       "0                                      NaN                          NaN   \n",
       "1                                      NaN                          NaN   \n",
       "2                                      NaN                          NaN   \n",
       "3  Start Batch 20240224_Kerling_bleach_W3_  20240224_Kerling_bleach_W3_   \n",
       "4             20240224_Kerling_bleach_W3_1  20240224_Kerling_bleach_W3_   \n",
       "5             20240224_Kerling_bleach_W3_2  20240224_Kerling_bleach_W3_   \n",
       "\n",
       "          Young's Modulus  Break Force  Distance to Break           Toughness  \\\n",
       "0                   MPa/%            g                 mm            kg/mm².%   \n",
       "1  Gradient St-Strain 1:2  Break Force  Distance to Break  Area St-Strain 1:3   \n",
       "2                     NaN          NaN                NaN                 NaN   \n",
       "3                     NaN          NaN                NaN                 NaN   \n",
       "4                  41.008       72.628            -25.439             761.211   \n",
       "5                  37.503       67.397            -26.987             742.341   \n",
       "\n",
       "   Unnamed: 6  Unnamed: 7 Unnamed: 8  Unnamed: 9  \n",
       "0         NaN         NaN        NaN         NaN  \n",
       "1         NaN         NaN        NaN         NaN  \n",
       "2         NaN         NaN        NaN         NaN  \n",
       "3         NaN         NaN        NaN         NaN  \n",
       "4        41.0        38.0   breakend        12.5  \n",
       "5        35.0        35.0       good        12.5  "
      ]
     },
     "execution_count": 3,
     "metadata": {},
     "output_type": "execute_result"
    }
   ],
   "source": [
    "df = pd.read_excel(\"/Users/michaelmoret/Desktop/Externa/data/pulling/24-02-24/24022024.xlsx\")\n",
    "df.head(6)"
   ]
  },
  {
   "cell_type": "code",
   "execution_count": 4,
   "metadata": {},
   "outputs": [],
   "source": [
    "TYPE = \"Break Force\""
   ]
  },
  {
   "cell_type": "code",
   "execution_count": 5,
   "metadata": {},
   "outputs": [
    {
     "data": {
      "text/html": [
       "<div>\n",
       "<style scoped>\n",
       "    .dataframe tbody tr th:only-of-type {\n",
       "        vertical-align: middle;\n",
       "    }\n",
       "\n",
       "    .dataframe tbody tr th {\n",
       "        vertical-align: top;\n",
       "    }\n",
       "\n",
       "    .dataframe thead th {\n",
       "        text-align: right;\n",
       "    }\n",
       "</style>\n",
       "<table border=\"1\" class=\"dataframe\">\n",
       "  <thead>\n",
       "    <tr style=\"text-align: right;\">\n",
       "      <th></th>\n",
       "      <th>Test ID</th>\n",
       "      <th>Batch</th>\n",
       "      <th>Young's Modulus</th>\n",
       "      <th>Break Force</th>\n",
       "      <th>Distance to Break</th>\n",
       "      <th>Toughness</th>\n",
       "      <th>Diameter 1</th>\n",
       "      <th>Diameter 2</th>\n",
       "      <th>Note</th>\n",
       "      <th>Humidity</th>\n",
       "    </tr>\n",
       "  </thead>\n",
       "  <tbody>\n",
       "    <tr>\n",
       "      <th>0</th>\n",
       "      <td>NaN</td>\n",
       "      <td>NaN</td>\n",
       "      <td>MPa/%</td>\n",
       "      <td>g</td>\n",
       "      <td>mm</td>\n",
       "      <td>kg/mm².%</td>\n",
       "      <td>NaN</td>\n",
       "      <td>NaN</td>\n",
       "      <td>NaN</td>\n",
       "      <td>NaN</td>\n",
       "    </tr>\n",
       "    <tr>\n",
       "      <th>1</th>\n",
       "      <td>NaN</td>\n",
       "      <td>NaN</td>\n",
       "      <td>Gradient St-Strain 1:2</td>\n",
       "      <td>Break Force</td>\n",
       "      <td>Distance to Break</td>\n",
       "      <td>Area St-Strain 1:3</td>\n",
       "      <td>NaN</td>\n",
       "      <td>NaN</td>\n",
       "      <td>NaN</td>\n",
       "      <td>NaN</td>\n",
       "    </tr>\n",
       "  </tbody>\n",
       "</table>\n",
       "</div>"
      ],
      "text/plain": [
       "  Test ID Batch         Young's Modulus  Break Force  Distance to Break  \\\n",
       "0     NaN   NaN                   MPa/%            g                 mm   \n",
       "1     NaN   NaN  Gradient St-Strain 1:2  Break Force  Distance to Break   \n",
       "\n",
       "            Toughness  Diameter 1  Diameter 2 Note  Humidity  \n",
       "0            kg/mm².%         NaN         NaN  NaN       NaN  \n",
       "1  Area St-Strain 1:3         NaN         NaN  NaN       NaN  "
      ]
     },
     "execution_count": 5,
     "metadata": {},
     "output_type": "execute_result"
    }
   ],
   "source": [
    "df = df.rename(columns={'Unnamed: 6': 'Diameter 1', \n",
    "                        'Unnamed: 7': 'Diameter 2',\n",
    "                        'Unnamed: 8': 'Note',\n",
    "                        'Unnamed: 9': 'Humidity',})\n",
    "df.head(2)"
   ]
  },
  {
   "cell_type": "code",
   "execution_count": 6,
   "metadata": {},
   "outputs": [
    {
     "data": {
      "text/html": [
       "<div>\n",
       "<style scoped>\n",
       "    .dataframe tbody tr th:only-of-type {\n",
       "        vertical-align: middle;\n",
       "    }\n",
       "\n",
       "    .dataframe tbody tr th {\n",
       "        vertical-align: top;\n",
       "    }\n",
       "\n",
       "    .dataframe thead th {\n",
       "        text-align: right;\n",
       "    }\n",
       "</style>\n",
       "<table border=\"1\" class=\"dataframe\">\n",
       "  <thead>\n",
       "    <tr style=\"text-align: right;\">\n",
       "      <th></th>\n",
       "      <th>Test ID</th>\n",
       "      <th>Batch</th>\n",
       "      <th>Young's Modulus</th>\n",
       "      <th>Break Force</th>\n",
       "      <th>Distance to Break</th>\n",
       "      <th>Toughness</th>\n",
       "      <th>Diameter 1</th>\n",
       "      <th>Diameter 2</th>\n",
       "      <th>Note</th>\n",
       "      <th>Humidity</th>\n",
       "    </tr>\n",
       "  </thead>\n",
       "  <tbody>\n",
       "    <tr>\n",
       "      <th>4</th>\n",
       "      <td>20240224_Kerling_bleach_W3_1</td>\n",
       "      <td>20240224_Kerling_bleach_W3_</td>\n",
       "      <td>41.008</td>\n",
       "      <td>72.628</td>\n",
       "      <td>-25.439</td>\n",
       "      <td>761.211</td>\n",
       "      <td>41.0</td>\n",
       "      <td>38.0</td>\n",
       "      <td>breakend</td>\n",
       "      <td>12.5</td>\n",
       "    </tr>\n",
       "    <tr>\n",
       "      <th>5</th>\n",
       "      <td>20240224_Kerling_bleach_W3_2</td>\n",
       "      <td>20240224_Kerling_bleach_W3_</td>\n",
       "      <td>37.503</td>\n",
       "      <td>67.397</td>\n",
       "      <td>-26.987</td>\n",
       "      <td>742.341</td>\n",
       "      <td>35.0</td>\n",
       "      <td>35.0</td>\n",
       "      <td>good</td>\n",
       "      <td>12.5</td>\n",
       "    </tr>\n",
       "  </tbody>\n",
       "</table>\n",
       "</div>"
      ],
      "text/plain": [
       "                        Test ID                        Batch Young's Modulus  \\\n",
       "4  20240224_Kerling_bleach_W3_1  20240224_Kerling_bleach_W3_          41.008   \n",
       "5  20240224_Kerling_bleach_W3_2  20240224_Kerling_bleach_W3_          37.503   \n",
       "\n",
       "  Break Force Distance to Break Toughness  Diameter 1  Diameter 2      Note  \\\n",
       "4      72.628           -25.439   761.211        41.0        38.0  breakend   \n",
       "5      67.397           -26.987   742.341        35.0        35.0      good   \n",
       "\n",
       "   Humidity  \n",
       "4      12.5  \n",
       "5      12.5  "
      ]
     },
     "execution_count": 6,
     "metadata": {},
     "output_type": "execute_result"
    }
   ],
   "source": [
    "df = df.dropna()\n",
    "df.head(2)"
   ]
  },
  {
   "cell_type": "code",
   "execution_count": 7,
   "metadata": {},
   "outputs": [
    {
     "data": {
      "text/html": [
       "<div>\n",
       "<style scoped>\n",
       "    .dataframe tbody tr th:only-of-type {\n",
       "        vertical-align: middle;\n",
       "    }\n",
       "\n",
       "    .dataframe tbody tr th {\n",
       "        vertical-align: top;\n",
       "    }\n",
       "\n",
       "    .dataframe thead th {\n",
       "        text-align: right;\n",
       "    }\n",
       "</style>\n",
       "<table border=\"1\" class=\"dataframe\">\n",
       "  <thead>\n",
       "    <tr style=\"text-align: right;\">\n",
       "      <th></th>\n",
       "      <th>Test ID</th>\n",
       "      <th>Batch</th>\n",
       "      <th>Young's Modulus</th>\n",
       "      <th>Break Force</th>\n",
       "      <th>Distance to Break</th>\n",
       "      <th>Toughness</th>\n",
       "      <th>Diameter 1</th>\n",
       "      <th>Diameter 2</th>\n",
       "      <th>Note</th>\n",
       "      <th>Humidity</th>\n",
       "    </tr>\n",
       "  </thead>\n",
       "  <tbody>\n",
       "    <tr>\n",
       "      <th>4</th>\n",
       "      <td>20240224_Kerling_bleach_W3_1</td>\n",
       "      <td>20240224_Kerling_bleach_W3_</td>\n",
       "      <td>41.008</td>\n",
       "      <td>72.628</td>\n",
       "      <td>-25.439</td>\n",
       "      <td>761.211</td>\n",
       "      <td>41.0</td>\n",
       "      <td>38.0</td>\n",
       "      <td>breakend</td>\n",
       "      <td>12.5</td>\n",
       "    </tr>\n",
       "    <tr>\n",
       "      <th>5</th>\n",
       "      <td>20240224_Kerling_bleach_W3_2</td>\n",
       "      <td>20240224_Kerling_bleach_W3_</td>\n",
       "      <td>37.503</td>\n",
       "      <td>67.397</td>\n",
       "      <td>-26.987</td>\n",
       "      <td>742.341</td>\n",
       "      <td>35.0</td>\n",
       "      <td>35.0</td>\n",
       "      <td>good</td>\n",
       "      <td>12.5</td>\n",
       "    </tr>\n",
       "  </tbody>\n",
       "</table>\n",
       "</div>"
      ],
      "text/plain": [
       "                        Test ID                        Batch  Young's Modulus  \\\n",
       "4  20240224_Kerling_bleach_W3_1  20240224_Kerling_bleach_W3_           41.008   \n",
       "5  20240224_Kerling_bleach_W3_2  20240224_Kerling_bleach_W3_           37.503   \n",
       "\n",
       "   Break Force  Distance to Break  Toughness  Diameter 1  Diameter 2  \\\n",
       "4       72.628            -25.439    761.211        41.0        38.0   \n",
       "5       67.397            -26.987    742.341        35.0        35.0   \n",
       "\n",
       "       Note  Humidity  \n",
       "4  breakend      12.5  \n",
       "5      good      12.5  "
      ]
     },
     "execution_count": 7,
     "metadata": {},
     "output_type": "execute_result"
    }
   ],
   "source": [
    "df['Break Force'] = df['Break Force'].astype(float)\n",
    "df['Young\\'s Modulus'] = df['Young\\'s Modulus'].astype(float)\n",
    "df['Distance to Break'] = df['Distance to Break'].astype(float)\n",
    "df['Toughness'] = df['Toughness'].astype(float)\n",
    "df['Diameter 1'] = df['Diameter 1'].astype(float)\n",
    "df['Diameter 2'] = df['Diameter 2'].astype(float)\n",
    "df['Humidity'] = df['Humidity'].astype(float)\n",
    "\n",
    "df.head(2)"
   ]
  },
  {
   "cell_type": "code",
   "execution_count": 8,
   "metadata": {},
   "outputs": [],
   "source": [
    "df = df[df['Test ID'] != 'Average:']\n",
    "df = df[df['Test ID'] != 'S.D.']\n",
    "df = df[df['Test ID'] != 'Coef. of Variation']"
   ]
  },
  {
   "cell_type": "code",
   "execution_count": 9,
   "metadata": {},
   "outputs": [],
   "source": [
    "df['Average'] = ((df['Diameter 1'] + df['Diameter 2']) / 2 )/1000\n",
    "df['Area'] = math.pi * (df['Average'] / 2)**2"
   ]
  },
  {
   "cell_type": "code",
   "execution_count": 10,
   "metadata": {},
   "outputs": [],
   "source": [
    "df['Baseline area'] = math.pi * 0.035**2\n",
    "df['Updated Young\\'s Modulus'] = df['Young\\'s Modulus'] * (df['Baseline area'] / df['Area'])"
   ]
  },
  {
   "cell_type": "code",
   "execution_count": 11,
   "metadata": {},
   "outputs": [],
   "source": [
    "df['Break stress'] = df['Break Force'] / df['Area'] / 1000"
   ]
  },
  {
   "cell_type": "code",
   "execution_count": 12,
   "metadata": {},
   "outputs": [
    {
     "data": {
      "text/html": [
       "<div>\n",
       "<style scoped>\n",
       "    .dataframe tbody tr th:only-of-type {\n",
       "        vertical-align: middle;\n",
       "    }\n",
       "\n",
       "    .dataframe tbody tr th {\n",
       "        vertical-align: top;\n",
       "    }\n",
       "\n",
       "    .dataframe thead th {\n",
       "        text-align: right;\n",
       "    }\n",
       "</style>\n",
       "<table border=\"1\" class=\"dataframe\">\n",
       "  <thead>\n",
       "    <tr style=\"text-align: right;\">\n",
       "      <th></th>\n",
       "      <th>Test ID</th>\n",
       "      <th>Batch</th>\n",
       "      <th>Young's Modulus</th>\n",
       "      <th>Break Force</th>\n",
       "      <th>Distance to Break</th>\n",
       "      <th>Toughness</th>\n",
       "      <th>Diameter 1</th>\n",
       "      <th>Diameter 2</th>\n",
       "      <th>Note</th>\n",
       "      <th>Humidity</th>\n",
       "      <th>Average</th>\n",
       "      <th>Area</th>\n",
       "      <th>Baseline area</th>\n",
       "      <th>Updated Young's Modulus</th>\n",
       "      <th>Break stress</th>\n",
       "    </tr>\n",
       "  </thead>\n",
       "  <tbody>\n",
       "    <tr>\n",
       "      <th>4</th>\n",
       "      <td>20240224_Kerling_bleach_W3_1</td>\n",
       "      <td>20240224_Kerling_bleach_W3_</td>\n",
       "      <td>41.008</td>\n",
       "      <td>72.628</td>\n",
       "      <td>-25.439</td>\n",
       "      <td>761.211</td>\n",
       "      <td>41.0</td>\n",
       "      <td>38.0</td>\n",
       "      <td>breakend</td>\n",
       "      <td>12.5</td>\n",
       "      <td>0.0395</td>\n",
       "      <td>0.001225</td>\n",
       "      <td>0.003848</td>\n",
       "      <td>128.786541</td>\n",
       "      <td>59.267965</td>\n",
       "    </tr>\n",
       "    <tr>\n",
       "      <th>5</th>\n",
       "      <td>20240224_Kerling_bleach_W3_2</td>\n",
       "      <td>20240224_Kerling_bleach_W3_</td>\n",
       "      <td>37.503</td>\n",
       "      <td>67.397</td>\n",
       "      <td>-26.987</td>\n",
       "      <td>742.341</td>\n",
       "      <td>35.0</td>\n",
       "      <td>35.0</td>\n",
       "      <td>good</td>\n",
       "      <td>12.5</td>\n",
       "      <td>0.0350</td>\n",
       "      <td>0.000962</td>\n",
       "      <td>0.003848</td>\n",
       "      <td>150.012000</td>\n",
       "      <td>70.051041</td>\n",
       "    </tr>\n",
       "  </tbody>\n",
       "</table>\n",
       "</div>"
      ],
      "text/plain": [
       "                        Test ID                        Batch  Young's Modulus  \\\n",
       "4  20240224_Kerling_bleach_W3_1  20240224_Kerling_bleach_W3_           41.008   \n",
       "5  20240224_Kerling_bleach_W3_2  20240224_Kerling_bleach_W3_           37.503   \n",
       "\n",
       "   Break Force  Distance to Break  Toughness  Diameter 1  Diameter 2  \\\n",
       "4       72.628            -25.439    761.211        41.0        38.0   \n",
       "5       67.397            -26.987    742.341        35.0        35.0   \n",
       "\n",
       "       Note  Humidity  Average      Area  Baseline area  \\\n",
       "4  breakend      12.5   0.0395  0.001225       0.003848   \n",
       "5      good      12.5   0.0350  0.000962       0.003848   \n",
       "\n",
       "   Updated Young's Modulus  Break stress  \n",
       "4               128.786541     59.267965  \n",
       "5               150.012000     70.051041  "
      ]
     },
     "execution_count": 12,
     "metadata": {},
     "output_type": "execute_result"
    }
   ],
   "source": [
    "df.head(2)"
   ]
  },
  {
   "cell_type": "code",
   "execution_count": 13,
   "metadata": {},
   "outputs": [
    {
     "data": {
      "text/plain": [
       "<Figure size 1000x600 with 0 Axes>"
      ]
     },
     "metadata": {},
     "output_type": "display_data"
    },
    {
     "data": {
      "image/png": "[encoded data removed]",
      "text/plain": [
       "<Figure size 640x480 with 1 Axes>"
      ]
     },
     "metadata": {},
     "output_type": "display_data"
    }
   ],
   "source": [
    "def do_plot(df):\n",
    "    plt.figure(figsize=(10, 6))\n",
    "    df.boxplot(column=TYPE, by='Batch')\n",
    "    plt.xlabel('Name')\n",
    "    plt.ylabel(TYPE)\n",
    "    plt.xticks(rotation=65)\n",
    "    ## y axis from 20 to 90\n",
    "    #plt.ylim(15, 90)\n",
    "    plt.show()\n",
    "    \n",
    "\n",
    "do_plot(df)\n"
   ]
  },
  {
   "cell_type": "code",
   "execution_count": 14,
   "metadata": {},
   "outputs": [
    {
     "name": "stdout",
     "output_type": "stream",
     "text": [
      "Batch\n",
      "20240224_Kerling_bleach_NC_    21.891232\n",
      "20240224_Kerling_bleach_W3_    22.067986\n",
      "20240224_Kerling_bleach_W5_    24.404299\n",
      "Name: Break Force, dtype: float64\n"
     ]
    }
   ],
   "source": [
    "std_by_batch_all = df.groupby('Batch')[TYPE].std()\n",
    "print(std_by_batch_all)"
   ]
  },
  {
   "cell_type": "code",
   "execution_count": 15,
   "metadata": {},
   "outputs": [
    {
     "name": "stdout",
     "output_type": "stream",
     "text": [
      "0\n"
     ]
    }
   ],
   "source": [
    "count = len(df[df['Batch'].str.contains('0mg')])\n",
    "print(count)"
   ]
  },
  {
   "cell_type": "code",
   "execution_count": 16,
   "metadata": {},
   "outputs": [
    {
     "data": {
      "text/plain": [
       "(                             20240224_Kerling_bleach_W3_  \\\n",
       " 20240224_Kerling_bleach_W3_                        1.000   \n",
       " 20240224_Kerling_bleach_W5_                        0.734   \n",
       " 20240224_Kerling_bleach_NC_                        0.532   \n",
       " \n",
       "                              20240224_Kerling_bleach_W5_  \\\n",
       " 20240224_Kerling_bleach_W3_                        0.734   \n",
       " 20240224_Kerling_bleach_W5_                        1.000   \n",
       " 20240224_Kerling_bleach_NC_                        0.644   \n",
       " \n",
       "                              20240224_Kerling_bleach_NC_  \n",
       " 20240224_Kerling_bleach_W3_                        0.532  \n",
       " 20240224_Kerling_bleach_W5_                        0.644  \n",
       " 20240224_Kerling_bleach_NC_                        1.000  ,\n",
       "                              20240224_Kerling_bleach_W3_  \\\n",
       " 20240224_Kerling_bleach_W3_                        -1.00   \n",
       " 20240224_Kerling_bleach_W5_                      1048.17   \n",
       " 20240224_Kerling_bleach_NC_                      1299.15   \n",
       " \n",
       "                              20240224_Kerling_bleach_W5_  \\\n",
       " 20240224_Kerling_bleach_W3_                      1048.17   \n",
       " 20240224_Kerling_bleach_W5_                        -1.00   \n",
       " 20240224_Kerling_bleach_NC_                     45306.46   \n",
       " \n",
       "                              20240224_Kerling_bleach_NC_  \n",
       " 20240224_Kerling_bleach_W3_                      1299.15  \n",
       " 20240224_Kerling_bleach_W5_                     45306.46  \n",
       " 20240224_Kerling_bleach_NC_                        -1.00  )"
      ]
     },
     "execution_count": 16,
     "metadata": {},
     "output_type": "execute_result"
    }
   ],
   "source": [
    "hp.get_pvalue_and_sample_size(df, TYPE)"
   ]
  },
  {
   "cell_type": "code",
   "execution_count": 17,
   "metadata": {},
   "outputs": [
    {
     "name": "stdout",
     "output_type": "stream",
     "text": [
      "['breakend' 'good' 'brekend' 'short' 'ok' 'slip' 'almost breakend'\n",
      " 'short?' 'early' 'ok?' 'weakness' 'early?']\n"
     ]
    }
   ],
   "source": [
    "unique_values = df['Note'].unique()\n",
    "print(unique_values)"
   ]
  },
  {
   "cell_type": "markdown",
   "metadata": {},
   "source": [
    "let's remove all but ok"
   ]
  },
  {
   "cell_type": "code",
   "execution_count": 19,
   "metadata": {},
   "outputs": [
    {
     "data": {
      "text/plain": [
       "300"
      ]
     },
     "execution_count": 19,
     "metadata": {},
     "output_type": "execute_result"
    }
   ],
   "source": [
    "len(df)"
   ]
  },
  {
   "cell_type": "code",
   "execution_count": 20,
   "metadata": {},
   "outputs": [
    {
     "data": {
      "text/plain": [
       "138"
      ]
     },
     "execution_count": 20,
     "metadata": {},
     "output_type": "execute_result"
    }
   ],
   "source": [
    "df = df[df['Note'].isin(['ok', 'good'])]\n",
    "len(df)"
   ]
  },
  {
   "cell_type": "code",
   "execution_count": 21,
   "metadata": {},
   "outputs": [
    {
     "data": {
      "text/plain": [
       "<Figure size 1000x600 with 0 Axes>"
      ]
     },
     "metadata": {},
     "output_type": "display_data"
    },
    {
     "data": {
      "image/png": "[encoded data removed]",
      "text/plain": [
       "<Figure size 640x480 with 1 Axes>"
      ]
     },
     "metadata": {},
     "output_type": "display_data"
    }
   ],
   "source": [
    "do_plot(df)"
   ]
  },
  {
   "cell_type": "code",
   "execution_count": 22,
   "metadata": {},
   "outputs": [
    {
     "name": "stdout",
     "output_type": "stream",
     "text": [
      "Batch\n",
      "20240224_Kerling_bleach_NC_    19.952885\n",
      "20240224_Kerling_bleach_W3_    19.525410\n",
      "20240224_Kerling_bleach_W5_    21.311334\n",
      "Name: Break Force, dtype: float64\n"
     ]
    }
   ],
   "source": [
    "std_by_batch_ok = df.groupby('Batch')[TYPE].std()\n",
    "print(std_by_batch_ok)"
   ]
  },
  {
   "cell_type": "code",
   "execution_count": 23,
   "metadata": {},
   "outputs": [
    {
     "data": {
      "text/html": [
       "<div>\n",
       "<style scoped>\n",
       "    .dataframe tbody tr th:only-of-type {\n",
       "        vertical-align: middle;\n",
       "    }\n",
       "\n",
       "    .dataframe tbody tr th {\n",
       "        vertical-align: top;\n",
       "    }\n",
       "\n",
       "    .dataframe thead th {\n",
       "        text-align: right;\n",
       "    }\n",
       "</style>\n",
       "<table border=\"1\" class=\"dataframe\">\n",
       "  <thead>\n",
       "    <tr style=\"text-align: right;\">\n",
       "      <th></th>\n",
       "      <th>std all</th>\n",
       "      <th>std ok</th>\n",
       "    </tr>\n",
       "    <tr>\n",
       "      <th>Batch</th>\n",
       "      <th></th>\n",
       "      <th></th>\n",
       "    </tr>\n",
       "  </thead>\n",
       "  <tbody>\n",
       "    <tr>\n",
       "      <th>20240224_Kerling_bleach_NC_</th>\n",
       "      <td>21.891232</td>\n",
       "      <td>19.952885</td>\n",
       "    </tr>\n",
       "    <tr>\n",
       "      <th>20240224_Kerling_bleach_W3_</th>\n",
       "      <td>22.067986</td>\n",
       "      <td>19.525410</td>\n",
       "    </tr>\n",
       "    <tr>\n",
       "      <th>20240224_Kerling_bleach_W5_</th>\n",
       "      <td>24.404299</td>\n",
       "      <td>21.311334</td>\n",
       "    </tr>\n",
       "  </tbody>\n",
       "</table>\n",
       "</div>"
      ],
      "text/plain": [
       "                               std all     std ok\n",
       "Batch                                            \n",
       "20240224_Kerling_bleach_NC_  21.891232  19.952885\n",
       "20240224_Kerling_bleach_W3_  22.067986  19.525410\n",
       "20240224_Kerling_bleach_W5_  24.404299  21.311334"
      ]
     },
     "execution_count": 23,
     "metadata": {},
     "output_type": "execute_result"
    }
   ],
   "source": [
    "merged_df = pd.concat([std_by_batch_all, std_by_batch_ok], axis=1)\n",
    "merged_df.columns = ['std all', 'std ok']\n",
    "merged_df"
   ]
  },
  {
   "cell_type": "code",
   "execution_count": 24,
   "metadata": {},
   "outputs": [
    {
     "data": {
      "text/plain": [
       "(                             20240224_Kerling_bleach_W3_  \\\n",
       " 20240224_Kerling_bleach_W3_                        1.000   \n",
       " 20240224_Kerling_bleach_W5_                        0.953   \n",
       " 20240224_Kerling_bleach_NC_                        0.087   \n",
       " \n",
       "                              20240224_Kerling_bleach_W5_  \\\n",
       " 20240224_Kerling_bleach_W3_                        0.953   \n",
       " 20240224_Kerling_bleach_W5_                        1.000   \n",
       " 20240224_Kerling_bleach_NC_                        0.052   \n",
       " \n",
       "                              20240224_Kerling_bleach_NC_  \n",
       " 20240224_Kerling_bleach_W3_                        0.087  \n",
       " 20240224_Kerling_bleach_W5_                        0.052  \n",
       " 20240224_Kerling_bleach_NC_                        1.000  ,\n",
       "                              20240224_Kerling_bleach_W3_  \\\n",
       " 20240224_Kerling_bleach_W3_                        -1.00   \n",
       " 20240224_Kerling_bleach_W5_                      2817.56   \n",
       " 20240224_Kerling_bleach_NC_                        87.11   \n",
       " \n",
       "                              20240224_Kerling_bleach_W5_  \\\n",
       " 20240224_Kerling_bleach_W3_                      2817.56   \n",
       " 20240224_Kerling_bleach_W5_                        -1.00   \n",
       " 20240224_Kerling_bleach_NC_                       141.42   \n",
       " \n",
       "                              20240224_Kerling_bleach_NC_  \n",
       " 20240224_Kerling_bleach_W3_                        87.11  \n",
       " 20240224_Kerling_bleach_W5_                       141.42  \n",
       " 20240224_Kerling_bleach_NC_                        -1.00  )"
      ]
     },
     "execution_count": 24,
     "metadata": {},
     "output_type": "execute_result"
    }
   ],
   "source": [
    "hp.get_pvalue_and_sample_size(df, TYPE)"
   ]
  },
  {
   "cell_type": "markdown",
   "metadata": {},
   "source": [
    "more check"
   ]
  },
  {
   "cell_type": "code",
   "execution_count": 25,
   "metadata": {},
   "outputs": [
    {
     "name": "stdout",
     "output_type": "stream",
     "text": [
      "Batch\n",
      "20240224_Kerling_bleach_NC_    95.063191\n",
      "20240224_Kerling_bleach_W3_    86.636136\n",
      "20240224_Kerling_bleach_W5_    88.161915\n",
      "Name: Break Force, dtype: float64\n"
     ]
    }
   ],
   "source": [
    "bio = df.groupby('Batch')[TYPE].mean()\n",
    "print(bio)"
   ]
  },
  {
   "cell_type": "code",
   "execution_count": 26,
   "metadata": {},
   "outputs": [
    {
     "name": "stdout",
     "output_type": "stream",
     "text": [
      "Batch\n",
      "20240224_Kerling_bleach_NC_    94.0510\n",
      "20240224_Kerling_bleach_W3_    85.7775\n",
      "20240224_Kerling_bleach_W5_    87.3880\n",
      "Name: Break Force, dtype: float64\n"
     ]
    }
   ],
   "source": [
    "bio = df.groupby('Batch')[TYPE].median()\n",
    "print(bio)"
   ]
  },
  {
   "cell_type": "code",
   "execution_count": null,
   "metadata": {},
   "outputs": [],
   "source": []
  }
 ],
 "metadata": {
  "kernelspec": {
   "display_name": "Python 3 (ipykernel)",
   "language": "python",
   "name": "python3"
  },
  "language_info": {
   "codemirror_mode": {
    "name": "ipython",
    "version": 3
   },
   "file_extension": ".py",
   "mimetype": "text/x-python",
   "name": "python",
   "nbconvert_exporter": "python",
   "pygments_lexer": "ipython3",
   "version": "3.9.18"
  }
 },
 "nbformat": 4,
 "nbformat_minor": 2
}
