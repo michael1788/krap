{
 "cells": [
  {
   "attachments": {},
   "cell_type": "markdown",
   "metadata": {},
   "source": [
    "### Goal"
   ]
  },
  {
   "cell_type": "code",
   "execution_count": 1,
   "metadata": {},
   "outputs": [],
   "source": [
    "%load_ext autoreload\n",
    "%autoreload 2"
   ]
  },
  {
   "cell_type": "code",
   "execution_count": 2,
   "metadata": {},
   "outputs": [],
   "source": [
    "import os, sys\n",
    "import pandas as pd\n",
    "import numpy as np\n",
    "import math\n",
    "\n",
    "import matplotlib.pyplot as plt\n",
    "\n",
    "sys.path.append(\"../\")\n",
    "import helper as hp"
   ]
  },
  {
   "cell_type": "code",
   "execution_count": 3,
   "metadata": {},
   "outputs": [
    {
     "data": {
      "text/html": [
       "<div>\n",
       "<style scoped>\n",
       "    .dataframe tbody tr th:only-of-type {\n",
       "        vertical-align: middle;\n",
       "    }\n",
       "\n",
       "    .dataframe tbody tr th {\n",
       "        vertical-align: top;\n",
       "    }\n",
       "\n",
       "    .dataframe thead th {\n",
       "        text-align: right;\n",
       "    }\n",
       "</style>\n",
       "<table border=\"1\" class=\"dataframe\">\n",
       "  <thead>\n",
       "    <tr style=\"text-align: right;\">\n",
       "      <th></th>\n",
       "      <th>Test ID</th>\n",
       "      <th>Batch</th>\n",
       "      <th>Young's Modulus</th>\n",
       "      <th>Break force</th>\n",
       "      <th>Unnamed: 4</th>\n",
       "      <th>Unnamed: 5</th>\n",
       "      <th>Unnamed: 6</th>\n",
       "    </tr>\n",
       "  </thead>\n",
       "  <tbody>\n",
       "    <tr>\n",
       "      <th>0</th>\n",
       "      <td>NaN</td>\n",
       "      <td>NaN</td>\n",
       "      <td>MPa/%</td>\n",
       "      <td>g</td>\n",
       "      <td>NaN</td>\n",
       "      <td>NaN</td>\n",
       "      <td>NaN</td>\n",
       "    </tr>\n",
       "    <tr>\n",
       "      <th>1</th>\n",
       "      <td>NaN</td>\n",
       "      <td>NaN</td>\n",
       "      <td>Gradient St-Strain 1:2</td>\n",
       "      <td>Break force</td>\n",
       "      <td>NaN</td>\n",
       "      <td>NaN</td>\n",
       "      <td>NaN</td>\n",
       "    </tr>\n",
       "    <tr>\n",
       "      <th>2</th>\n",
       "      <td>NaN</td>\n",
       "      <td>NaN</td>\n",
       "      <td>NaN</td>\n",
       "      <td>NaN</td>\n",
       "      <td>NaN</td>\n",
       "      <td>NaN</td>\n",
       "      <td>NaN</td>\n",
       "    </tr>\n",
       "    <tr>\n",
       "      <th>3</th>\n",
       "      <td>Start Batch 20240216_bleach_WAX4_</td>\n",
       "      <td>20240216_bleach_WAX4_</td>\n",
       "      <td>NaN</td>\n",
       "      <td>NaN</td>\n",
       "      <td>NaN</td>\n",
       "      <td>NaN</td>\n",
       "      <td>NaN</td>\n",
       "    </tr>\n",
       "    <tr>\n",
       "      <th>4</th>\n",
       "      <td>20240216_bleach_WAX4_51</td>\n",
       "      <td>20240216_bleach_WAX4_</td>\n",
       "      <td>41.522</td>\n",
       "      <td>86.53</td>\n",
       "      <td>48.0</td>\n",
       "      <td>49.0</td>\n",
       "      <td>ok</td>\n",
       "    </tr>\n",
       "    <tr>\n",
       "      <th>5</th>\n",
       "      <td>20240216_bleach_WAX4_52</td>\n",
       "      <td>20240216_bleach_WAX4_</td>\n",
       "      <td>53.47</td>\n",
       "      <td>96.708</td>\n",
       "      <td>46.0</td>\n",
       "      <td>47.0</td>\n",
       "      <td>breakend</td>\n",
       "    </tr>\n",
       "    <tr>\n",
       "      <th>6</th>\n",
       "      <td>20240216_bleach_WAX4_53</td>\n",
       "      <td>20240216_bleach_WAX4_</td>\n",
       "      <td>64.739</td>\n",
       "      <td>133.945</td>\n",
       "      <td>56.0</td>\n",
       "      <td>59.0</td>\n",
       "      <td>ok</td>\n",
       "    </tr>\n",
       "    <tr>\n",
       "      <th>7</th>\n",
       "      <td>20240216_bleach_WAX4_54</td>\n",
       "      <td>20240216_bleach_WAX4_</td>\n",
       "      <td>58.097</td>\n",
       "      <td>117.47</td>\n",
       "      <td>54.0</td>\n",
       "      <td>65.0</td>\n",
       "      <td>breakend</td>\n",
       "    </tr>\n",
       "    <tr>\n",
       "      <th>8</th>\n",
       "      <td>20240216_bleach_WAX4_55</td>\n",
       "      <td>20240216_bleach_WAX4_</td>\n",
       "      <td>41.574</td>\n",
       "      <td>86.226</td>\n",
       "      <td>54.0</td>\n",
       "      <td>54.0</td>\n",
       "      <td>breakend</td>\n",
       "    </tr>\n",
       "    <tr>\n",
       "      <th>9</th>\n",
       "      <td>20240216_bleach_WAX4_56</td>\n",
       "      <td>20240216_bleach_WAX4_</td>\n",
       "      <td>40.26</td>\n",
       "      <td>107.414</td>\n",
       "      <td>48.0</td>\n",
       "      <td>53.0</td>\n",
       "      <td>breakend</td>\n",
       "    </tr>\n",
       "  </tbody>\n",
       "</table>\n",
       "</div>"
      ],
      "text/plain": [
       "                             Test ID                  Batch  \\\n",
       "0                                NaN                    NaN   \n",
       "1                                NaN                    NaN   \n",
       "2                                NaN                    NaN   \n",
       "3  Start Batch 20240216_bleach_WAX4_  20240216_bleach_WAX4_   \n",
       "4            20240216_bleach_WAX4_51  20240216_bleach_WAX4_   \n",
       "5            20240216_bleach_WAX4_52  20240216_bleach_WAX4_   \n",
       "6            20240216_bleach_WAX4_53  20240216_bleach_WAX4_   \n",
       "7            20240216_bleach_WAX4_54  20240216_bleach_WAX4_   \n",
       "8            20240216_bleach_WAX4_55  20240216_bleach_WAX4_   \n",
       "9            20240216_bleach_WAX4_56  20240216_bleach_WAX4_   \n",
       "\n",
       "          Young's Modulus  Break force  Unnamed: 4  Unnamed: 5 Unnamed: 6  \n",
       "0                   MPa/%            g         NaN         NaN        NaN  \n",
       "1  Gradient St-Strain 1:2  Break force         NaN         NaN        NaN  \n",
       "2                     NaN          NaN         NaN         NaN        NaN  \n",
       "3                     NaN          NaN         NaN         NaN        NaN  \n",
       "4                  41.522        86.53        48.0        49.0         ok  \n",
       "5                   53.47       96.708        46.0        47.0   breakend  \n",
       "6                  64.739      133.945        56.0        59.0         ok  \n",
       "7                  58.097       117.47        54.0        65.0   breakend  \n",
       "8                  41.574       86.226        54.0        54.0   breakend  \n",
       "9                   40.26      107.414        48.0        53.0   breakend  "
      ]
     },
     "execution_count": 3,
     "metadata": {},
     "output_type": "execute_result"
    }
   ],
   "source": [
    "df = pd.read_excel(\"/Users/michaelmoret/Desktop/Externa/data/pulling/16-02-24/20240216_CLEANED.xlsx\")\n",
    "df.head(10)"
   ]
  },
  {
   "cell_type": "code",
   "execution_count": 4,
   "metadata": {},
   "outputs": [
    {
     "data": {
      "text/html": [
       "<div>\n",
       "<style scoped>\n",
       "    .dataframe tbody tr th:only-of-type {\n",
       "        vertical-align: middle;\n",
       "    }\n",
       "\n",
       "    .dataframe tbody tr th {\n",
       "        vertical-align: top;\n",
       "    }\n",
       "\n",
       "    .dataframe thead th {\n",
       "        text-align: right;\n",
       "    }\n",
       "</style>\n",
       "<table border=\"1\" class=\"dataframe\">\n",
       "  <thead>\n",
       "    <tr style=\"text-align: right;\">\n",
       "      <th></th>\n",
       "      <th>Test ID</th>\n",
       "      <th>Batch</th>\n",
       "      <th>Young's Modulus</th>\n",
       "      <th>Break force</th>\n",
       "      <th>Diameter 1</th>\n",
       "      <th>Diameter 2</th>\n",
       "      <th>Note</th>\n",
       "    </tr>\n",
       "  </thead>\n",
       "  <tbody>\n",
       "    <tr>\n",
       "      <th>0</th>\n",
       "      <td>NaN</td>\n",
       "      <td>NaN</td>\n",
       "      <td>MPa/%</td>\n",
       "      <td>g</td>\n",
       "      <td>NaN</td>\n",
       "      <td>NaN</td>\n",
       "      <td>NaN</td>\n",
       "    </tr>\n",
       "    <tr>\n",
       "      <th>1</th>\n",
       "      <td>NaN</td>\n",
       "      <td>NaN</td>\n",
       "      <td>Gradient St-Strain 1:2</td>\n",
       "      <td>Break force</td>\n",
       "      <td>NaN</td>\n",
       "      <td>NaN</td>\n",
       "      <td>NaN</td>\n",
       "    </tr>\n",
       "  </tbody>\n",
       "</table>\n",
       "</div>"
      ],
      "text/plain": [
       "  Test ID Batch         Young's Modulus  Break force  Diameter 1  Diameter 2  \\\n",
       "0     NaN   NaN                   MPa/%            g         NaN         NaN   \n",
       "1     NaN   NaN  Gradient St-Strain 1:2  Break force         NaN         NaN   \n",
       "\n",
       "  Note  \n",
       "0  NaN  \n",
       "1  NaN  "
      ]
     },
     "execution_count": 4,
     "metadata": {},
     "output_type": "execute_result"
    }
   ],
   "source": [
    "df = df.rename(columns={'Unnamed: 4': 'Diameter 1', \n",
    "                        'Unnamed: 5': 'Diameter 2',\n",
    "                        'Unnamed: 6': 'Note'})\n",
    "df.head(2)"
   ]
  },
  {
   "cell_type": "code",
   "execution_count": 5,
   "metadata": {},
   "outputs": [],
   "source": [
    "df = df.dropna()"
   ]
  },
  {
   "cell_type": "code",
   "execution_count": 6,
   "metadata": {},
   "outputs": [
    {
     "data": {
      "text/html": [
       "<div>\n",
       "<style scoped>\n",
       "    .dataframe tbody tr th:only-of-type {\n",
       "        vertical-align: middle;\n",
       "    }\n",
       "\n",
       "    .dataframe tbody tr th {\n",
       "        vertical-align: top;\n",
       "    }\n",
       "\n",
       "    .dataframe thead th {\n",
       "        text-align: right;\n",
       "    }\n",
       "</style>\n",
       "<table border=\"1\" class=\"dataframe\">\n",
       "  <thead>\n",
       "    <tr style=\"text-align: right;\">\n",
       "      <th></th>\n",
       "      <th>Test ID</th>\n",
       "      <th>Batch</th>\n",
       "      <th>Young's Modulus</th>\n",
       "      <th>Break force</th>\n",
       "      <th>Diameter 1</th>\n",
       "      <th>Diameter 2</th>\n",
       "      <th>Note</th>\n",
       "    </tr>\n",
       "  </thead>\n",
       "  <tbody>\n",
       "    <tr>\n",
       "      <th>4</th>\n",
       "      <td>20240216_bleach_WAX4_51</td>\n",
       "      <td>20240216_bleach_WAX4_</td>\n",
       "      <td>41.522</td>\n",
       "      <td>86.530</td>\n",
       "      <td>48.0</td>\n",
       "      <td>49.0</td>\n",
       "      <td>ok</td>\n",
       "    </tr>\n",
       "    <tr>\n",
       "      <th>5</th>\n",
       "      <td>20240216_bleach_WAX4_52</td>\n",
       "      <td>20240216_bleach_WAX4_</td>\n",
       "      <td>53.470</td>\n",
       "      <td>96.708</td>\n",
       "      <td>46.0</td>\n",
       "      <td>47.0</td>\n",
       "      <td>breakend</td>\n",
       "    </tr>\n",
       "  </tbody>\n",
       "</table>\n",
       "</div>"
      ],
      "text/plain": [
       "                   Test ID                  Batch  Young's Modulus  \\\n",
       "4  20240216_bleach_WAX4_51  20240216_bleach_WAX4_           41.522   \n",
       "5  20240216_bleach_WAX4_52  20240216_bleach_WAX4_           53.470   \n",
       "\n",
       "   Break force  Diameter 1  Diameter 2      Note  \n",
       "4       86.530        48.0        49.0        ok  \n",
       "5       96.708        46.0        47.0  breakend  "
      ]
     },
     "execution_count": 6,
     "metadata": {},
     "output_type": "execute_result"
    }
   ],
   "source": [
    "df['Break force'] = df['Break force'].astype(float)\n",
    "df['Young\\'s Modulus'] = df['Young\\'s Modulus'].astype(float)\n",
    "df.head(2)"
   ]
  },
  {
   "cell_type": "code",
   "execution_count": 7,
   "metadata": {},
   "outputs": [],
   "source": [
    "df = df[df['Test ID'] != 'Average:']\n",
    "df = df[df['Test ID'] != 'S.D.']\n",
    "df = df[df['Test ID'] != 'Coef. of Variation']"
   ]
  },
  {
   "cell_type": "code",
   "execution_count": 8,
   "metadata": {},
   "outputs": [],
   "source": [
    "df['Average'] = ((df['Diameter 1'] + df['Diameter 2']) / 2 )/1000\n",
    "df['Area'] = math.pi * (df['Average'] / 2)**2"
   ]
  },
  {
   "cell_type": "code",
   "execution_count": 9,
   "metadata": {},
   "outputs": [],
   "source": [
    "df['Baseline area'] = math.pi * 0.035**2\n",
    "df['Updated Young\\'s Modulus'] = df['Young\\'s Modulus'] * (df['Baseline area'] / df['Area'])"
   ]
  },
  {
   "cell_type": "code",
   "execution_count": 10,
   "metadata": {},
   "outputs": [],
   "source": [
    "df['Break stress'] = df['Break force'] / df['Area'] / 1000"
   ]
  },
  {
   "cell_type": "code",
   "execution_count": 11,
   "metadata": {},
   "outputs": [
    {
     "data": {
      "text/html": [
       "<div>\n",
       "<style scoped>\n",
       "    .dataframe tbody tr th:only-of-type {\n",
       "        vertical-align: middle;\n",
       "    }\n",
       "\n",
       "    .dataframe tbody tr th {\n",
       "        vertical-align: top;\n",
       "    }\n",
       "\n",
       "    .dataframe thead th {\n",
       "        text-align: right;\n",
       "    }\n",
       "</style>\n",
       "<table border=\"1\" class=\"dataframe\">\n",
       "  <thead>\n",
       "    <tr style=\"text-align: right;\">\n",
       "      <th></th>\n",
       "      <th>Test ID</th>\n",
       "      <th>Batch</th>\n",
       "      <th>Young's Modulus</th>\n",
       "      <th>Break force</th>\n",
       "      <th>Diameter 1</th>\n",
       "      <th>Diameter 2</th>\n",
       "      <th>Note</th>\n",
       "      <th>Average</th>\n",
       "      <th>Area</th>\n",
       "      <th>Baseline area</th>\n",
       "      <th>Updated Young's Modulus</th>\n",
       "      <th>Break stress</th>\n",
       "    </tr>\n",
       "  </thead>\n",
       "  <tbody>\n",
       "    <tr>\n",
       "      <th>4</th>\n",
       "      <td>20240216_bleach_WAX4_51</td>\n",
       "      <td>20240216_bleach_WAX4_</td>\n",
       "      <td>41.522</td>\n",
       "      <td>86.530</td>\n",
       "      <td>48.0</td>\n",
       "      <td>49.0</td>\n",
       "      <td>ok</td>\n",
       "      <td>0.0485</td>\n",
       "      <td>0.001847</td>\n",
       "      <td>0.003848</td>\n",
       "      <td>86.494973</td>\n",
       "      <td>46.837461</td>\n",
       "    </tr>\n",
       "    <tr>\n",
       "      <th>5</th>\n",
       "      <td>20240216_bleach_WAX4_52</td>\n",
       "      <td>20240216_bleach_WAX4_</td>\n",
       "      <td>53.470</td>\n",
       "      <td>96.708</td>\n",
       "      <td>46.0</td>\n",
       "      <td>47.0</td>\n",
       "      <td>breakend</td>\n",
       "      <td>0.0465</td>\n",
       "      <td>0.001698</td>\n",
       "      <td>0.003848</td>\n",
       "      <td>121.171465</td>\n",
       "      <td>56.946445</td>\n",
       "    </tr>\n",
       "  </tbody>\n",
       "</table>\n",
       "</div>"
      ],
      "text/plain": [
       "                   Test ID                  Batch  Young's Modulus  \\\n",
       "4  20240216_bleach_WAX4_51  20240216_bleach_WAX4_           41.522   \n",
       "5  20240216_bleach_WAX4_52  20240216_bleach_WAX4_           53.470   \n",
       "\n",
       "   Break force  Diameter 1  Diameter 2      Note  Average      Area  \\\n",
       "4       86.530        48.0        49.0        ok   0.0485  0.001847   \n",
       "5       96.708        46.0        47.0  breakend   0.0465  0.001698   \n",
       "\n",
       "   Baseline area  Updated Young's Modulus  Break stress  \n",
       "4       0.003848                86.494973     46.837461  \n",
       "5       0.003848               121.171465     56.946445  "
      ]
     },
     "execution_count": 11,
     "metadata": {},
     "output_type": "execute_result"
    }
   ],
   "source": [
    "df.head(2)"
   ]
  },
  {
   "cell_type": "code",
   "execution_count": 12,
   "metadata": {},
   "outputs": [
    {
     "data": {
      "text/plain": [
       "<Figure size 1000x600 with 0 Axes>"
      ]
     },
     "metadata": {},
     "output_type": "display_data"
    },
    {
     "data": {
      "image/png": "[encoded data removed]",
      "text/plain": [
       "<Figure size 640x480 with 1 Axes>"
      ]
     },
     "metadata": {},
     "output_type": "display_data"
    }
   ],
   "source": [
    "def do_plot(df):\n",
    "    plt.figure(figsize=(10, 6))\n",
    "    df.boxplot(column=\"Young's Modulus\", by='Batch')\n",
    "    plt.xlabel('Name')\n",
    "    plt.ylabel(\"Young's Modulus\")\n",
    "    #plt.ylim(15, 90)\n",
    "    plt.show()\n",
    "\n",
    "do_plot(df)\n"
   ]
  },
  {
   "cell_type": "code",
   "execution_count": 13,
   "metadata": {},
   "outputs": [
    {
     "name": "stdout",
     "output_type": "stream",
     "text": [
      "98\n"
     ]
    }
   ],
   "source": [
    "count = len(df[df['Batch'].str.contains('WAX4')])\n",
    "print(count)"
   ]
  },
  {
   "cell_type": "code",
   "execution_count": 14,
   "metadata": {},
   "outputs": [
    {
     "name": "stdout",
     "output_type": "stream",
     "text": [
      "89\n"
     ]
    }
   ],
   "source": [
    "count = len(df[df['Batch'].str.contains('negc')])\n",
    "print(count)"
   ]
  },
  {
   "cell_type": "code",
   "execution_count": 15,
   "metadata": {},
   "outputs": [
    {
     "data": {
      "text/plain": [
       "(                       20240216_bleach_WAX4_  20240216_bleach_negc_\n",
       " 20240216_bleach_WAX4_                  1.000                  0.084\n",
       " 20240216_bleach_negc_                  0.084                  1.000,\n",
       "                        20240216_bleach_WAX4_  20240216_bleach_negc_\n",
       " 20240216_bleach_WAX4_                  -1.00                 189.02\n",
       " 20240216_bleach_negc_                 189.02                  -1.00)"
      ]
     },
     "execution_count": 15,
     "metadata": {},
     "output_type": "execute_result"
    }
   ],
   "source": [
    "hp.get_pvalue_and_sample_size(df, \"Young's Modulus\")"
   ]
  },
  {
   "cell_type": "code",
   "execution_count": 16,
   "metadata": {},
   "outputs": [
    {
     "name": "stdout",
     "output_type": "stream",
     "text": [
      "['ok' 'breakend' 'slip' 'early' 'breakend ' 'early ' 'endbreak'\n",
      " 'slip and break' 'weakness']\n"
     ]
    }
   ],
   "source": [
    "unique_values = df['Note'].unique()\n",
    "print(unique_values)"
   ]
  },
  {
   "cell_type": "markdown",
   "metadata": {},
   "source": [
    "let's remove the slip and early"
   ]
  },
  {
   "cell_type": "code",
   "execution_count": 17,
   "metadata": {},
   "outputs": [
    {
     "data": {
      "text/plain": [
       "187"
      ]
     },
     "execution_count": 17,
     "metadata": {},
     "output_type": "execute_result"
    }
   ],
   "source": [
    "len(df)"
   ]
  },
  {
   "cell_type": "code",
   "execution_count": 18,
   "metadata": {},
   "outputs": [
    {
     "data": {
      "text/plain": [
       "166"
      ]
     },
     "execution_count": 18,
     "metadata": {},
     "output_type": "execute_result"
    }
   ],
   "source": [
    "df = df[(df['Note'] != 'slip') & (df['Note'] != 'early') & (df['Note'] != 'slip and break') & (df['Note'] != 'weakness')]\n",
    "len(df)"
   ]
  },
  {
   "cell_type": "code",
   "execution_count": 19,
   "metadata": {},
   "outputs": [
    {
     "data": {
      "text/plain": [
       "<Figure size 1000x600 with 0 Axes>"
      ]
     },
     "metadata": {},
     "output_type": "display_data"
    },
    {
     "data": {
      "image/png": "[encoded data removed]",
      "text/plain": [
       "<Figure size 640x480 with 1 Axes>"
      ]
     },
     "metadata": {},
     "output_type": "display_data"
    }
   ],
   "source": [
    "do_plot(df)"
   ]
  },
  {
   "cell_type": "code",
   "execution_count": 20,
   "metadata": {},
   "outputs": [
    {
     "name": "stdout",
     "output_type": "stream",
     "text": [
      "88\n"
     ]
    }
   ],
   "source": [
    "count = len(df[df['Batch'].str.contains('WAX4')])\n",
    "print(count)"
   ]
  },
  {
   "cell_type": "code",
   "execution_count": 21,
   "metadata": {},
   "outputs": [
    {
     "name": "stdout",
     "output_type": "stream",
     "text": [
      "78\n"
     ]
    }
   ],
   "source": [
    "count = len(df[df['Batch'].str.contains('negc')])\n",
    "print(count)"
   ]
  },
  {
   "cell_type": "code",
   "execution_count": 22,
   "metadata": {},
   "outputs": [
    {
     "data": {
      "text/plain": [
       "(                       20240216_bleach_WAX4_  20240216_bleach_negc_\n",
       " 20240216_bleach_WAX4_                  1.000                  0.061\n",
       " 20240216_bleach_negc_                  0.061                  1.000,\n",
       "                        20240216_bleach_WAX4_  20240216_bleach_negc_\n",
       " 20240216_bleach_WAX4_                  -1.00                 168.18\n",
       " 20240216_bleach_negc_                 168.18                  -1.00)"
      ]
     },
     "execution_count": 22,
     "metadata": {},
     "output_type": "execute_result"
    }
   ],
   "source": [
    "hp.get_pvalue_and_sample_size(df, 'Break stress')"
   ]
  },
  {
   "cell_type": "code",
   "execution_count": 23,
   "metadata": {},
   "outputs": [
    {
     "data": {
      "text/plain": [
       "106"
      ]
     },
     "execution_count": 23,
     "metadata": {},
     "output_type": "execute_result"
    }
   ],
   "source": [
    "df = df[df['Note'] == 'ok']\n",
    "len(df)"
   ]
  },
  {
   "cell_type": "code",
   "execution_count": 24,
   "metadata": {},
   "outputs": [
    {
     "data": {
      "text/plain": [
       "<Figure size 1000x600 with 0 Axes>"
      ]
     },
     "metadata": {},
     "output_type": "display_data"
    },
    {
     "data": {
      "image/png": "[encoded data removed]",
      "text/plain": [
       "<Figure size 640x480 with 1 Axes>"
      ]
     },
     "metadata": {},
     "output_type": "display_data"
    }
   ],
   "source": [
    "do_plot(df)"
   ]
  },
  {
   "cell_type": "code",
   "execution_count": 25,
   "metadata": {},
   "outputs": [
    {
     "name": "stdout",
     "output_type": "stream",
     "text": [
      "60\n"
     ]
    }
   ],
   "source": [
    "count = len(df[df['Batch'].str.contains('WAX4')])\n",
    "print(count)\n"
   ]
  },
  {
   "cell_type": "code",
   "execution_count": 26,
   "metadata": {},
   "outputs": [
    {
     "name": "stdout",
     "output_type": "stream",
     "text": [
      "46\n"
     ]
    }
   ],
   "source": [
    "count = len(df[df['Batch'].str.contains('negc')])\n",
    "print(count)"
   ]
  },
  {
   "cell_type": "code",
   "execution_count": 27,
   "metadata": {},
   "outputs": [
    {
     "data": {
      "text/plain": [
       "(                       20240216_bleach_WAX4_  20240216_bleach_negc_\n",
       " 20240216_bleach_WAX4_                  1.000                  0.034\n",
       " 20240216_bleach_negc_                  0.034                  1.000,\n",
       "                        20240216_bleach_WAX4_  20240216_bleach_negc_\n",
       " 20240216_bleach_WAX4_                  -1.00                  80.34\n",
       " 20240216_bleach_negc_                  80.34                  -1.00)"
      ]
     },
     "execution_count": 27,
     "metadata": {},
     "output_type": "execute_result"
    }
   ],
   "source": [
    "hp.get_pvalue_and_sample_size(df, 'Break stress')"
   ]
  },
  {
   "cell_type": "code",
   "execution_count": 28,
   "metadata": {},
   "outputs": [
    {
     "data": {
      "text/html": [
       "<div>\n",
       "<style scoped>\n",
       "    .dataframe tbody tr th:only-of-type {\n",
       "        vertical-align: middle;\n",
       "    }\n",
       "\n",
       "    .dataframe tbody tr th {\n",
       "        vertical-align: top;\n",
       "    }\n",
       "\n",
       "    .dataframe thead th {\n",
       "        text-align: right;\n",
       "    }\n",
       "</style>\n",
       "<table border=\"1\" class=\"dataframe\">\n",
       "  <thead>\n",
       "    <tr style=\"text-align: right;\">\n",
       "      <th></th>\n",
       "      <th>Batch</th>\n",
       "      <th>n (2.5% of mean)</th>\n",
       "      <th>n (5.0% of mean)</th>\n",
       "      <th>n (10.0% of mean)</th>\n",
       "      <th>n (20.0% of mean)</th>\n",
       "    </tr>\n",
       "  </thead>\n",
       "  <tbody>\n",
       "    <tr>\n",
       "      <th>0</th>\n",
       "      <td>20240216_bleach_WAX4_</td>\n",
       "      <td>205</td>\n",
       "      <td>52</td>\n",
       "      <td>13</td>\n",
       "      <td>4</td>\n",
       "    </tr>\n",
       "    <tr>\n",
       "      <th>1</th>\n",
       "      <td>20240216_bleach_negc_</td>\n",
       "      <td>190</td>\n",
       "      <td>48</td>\n",
       "      <td>12</td>\n",
       "      <td>3</td>\n",
       "    </tr>\n",
       "  </tbody>\n",
       "</table>\n",
       "</div>"
      ],
      "text/plain": [
       "                   Batch  n (2.5% of mean)  n (5.0% of mean)  \\\n",
       "0  20240216_bleach_WAX4_               205                52   \n",
       "1  20240216_bleach_negc_               190                48   \n",
       "\n",
       "   n (10.0% of mean)  n (20.0% of mean)  \n",
       "0                 13                  4  \n",
       "1                 12                  3  "
      ]
     },
     "execution_count": 28,
     "metadata": {},
     "output_type": "execute_result"
    }
   ],
   "source": [
    "hp.get_sample_size_one_distri(df, 'Break stress')"
   ]
  },
  {
   "cell_type": "code",
   "execution_count": null,
   "metadata": {},
   "outputs": [],
   "source": []
  }
 ],
 "metadata": {
  "kernelspec": {
   "display_name": "Python 3 (ipykernel)",
   "language": "python",
   "name": "python3"
  },
  "language_info": {
   "codemirror_mode": {
    "name": "ipython",
    "version": 3
   },
   "file_extension": ".py",
   "mimetype": "text/x-python",
   "name": "python",
   "nbconvert_exporter": "python",
   "pygments_lexer": "ipython3",
   "version": "3.9.18"
  }
 },
 "nbformat": 4,
 "nbformat_minor": 2
}
